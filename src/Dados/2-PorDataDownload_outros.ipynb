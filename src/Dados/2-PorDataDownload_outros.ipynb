{
 "cells": [
  {
   "cell_type": "code",
   "execution_count": 1,
   "id": "fcc3baf8",
   "metadata": {},
   "outputs": [
    {
     "name": "stdout",
     "output_type": "stream",
     "text": [
      "Requirement already satisfied: requests in c:\\users\\johns\\appdata\\local\\packages\\pythonsoftwarefoundation.python.3.11_qbz5n2kfra8p0\\localcache\\local-packages\\python311\\site-packages (2.32.3)\n",
      "Requirement already satisfied: beautifulsoup4 in c:\\users\\johns\\appdata\\local\\packages\\pythonsoftwarefoundation.python.3.11_qbz5n2kfra8p0\\localcache\\local-packages\\python311\\site-packages (4.12.0)\n",
      "Requirement already satisfied: charset-normalizer<4,>=2 in c:\\users\\johns\\appdata\\local\\packages\\pythonsoftwarefoundation.python.3.11_qbz5n2kfra8p0\\localcache\\local-packages\\python311\\site-packages (from requests) (3.4.2)\n",
      "Requirement already satisfied: idna<4,>=2.5 in c:\\users\\johns\\appdata\\local\\packages\\pythonsoftwarefoundation.python.3.11_qbz5n2kfra8p0\\localcache\\local-packages\\python311\\site-packages (from requests) (3.10)\n",
      "Requirement already satisfied: urllib3<3,>=1.21.1 in c:\\users\\johns\\appdata\\local\\packages\\pythonsoftwarefoundation.python.3.11_qbz5n2kfra8p0\\localcache\\local-packages\\python311\\site-packages (from requests) (1.26.15)\n",
      "Requirement already satisfied: certifi>=2017.4.17 in c:\\users\\johns\\appdata\\local\\packages\\pythonsoftwarefoundation.python.3.11_qbz5n2kfra8p0\\localcache\\local-packages\\python311\\site-packages (from requests) (2025.4.26)\n",
      "Requirement already satisfied: soupsieve>1.2 in c:\\users\\johns\\appdata\\local\\packages\\pythonsoftwarefoundation.python.3.11_qbz5n2kfra8p0\\localcache\\local-packages\\python311\\site-packages (from beautifulsoup4) (2.4)\n"
     ]
    },
    {
     "name": "stderr",
     "output_type": "stream",
     "text": [
      "WARNING: There was an error checking the latest version of pip.\n"
     ]
    }
   ],
   "source": [
    "!pip install requests beautifulsoup4"
   ]
  },
  {
   "cell_type": "code",
   "execution_count": 17,
   "id": "5b97d8bf",
   "metadata": {},
   "outputs": [],
   "source": [
    "import os\n",
    "import requests\n",
    "from bs4 import BeautifulSoup\n",
    "from urllib.parse import urljoin, urlparse"
   ]
  },
  {
   "cell_type": "code",
   "execution_count": 18,
   "id": "dc7f1d64",
   "metadata": {},
   "outputs": [],
   "source": [
    "def gerar_lista_links(url_pagina):\n",
    "    \"\"\"Extrai os links de download da página HTML e gera uma lista com os nomes e links.\"\"\"\n",
    "    try:\n",
    "        # Fazendo a requisição para a página\n",
    "        response = requests.get(url_pagina)\n",
    "        response.raise_for_status()\n",
    "        \n",
    "        # Usando BeautifulSoup para parsear o HTML\n",
    "        soup = BeautifulSoup(response.text, 'html.parser')\n",
    "\n",
    "        # Encontrando todos os links de download (tag <a>)\n",
    "        links = soup.find_all('a', {'href': True})\n",
    "        arquivos = []\n",
    "        \n",
    "        for link in links:\n",
    "            # Obtemos a URL completa (resolve links relativos)\n",
    "            arquivo_url = urljoin(url_pagina, link.get('href'))\n",
    "            # Extraímos o nome do arquivo do link (última parte da URL após '/')\n",
    "            nome_arquivo = os.path.basename(urlparse(arquivo_url).path)\n",
    "            \n",
    "            if nome_arquivo:\n",
    "                arquivos.append((nome_arquivo, arquivo_url))\n",
    "\n",
    "        return arquivos\n",
    "    except requests.exceptions.RequestException as e:\n",
    "        print(f\"Erro ao extrair links da página: {e}\")\n",
    "        return []\n"
   ]
  },
  {
   "cell_type": "code",
   "execution_count": 19,
   "id": "de3a6f27",
   "metadata": {},
   "outputs": [],
   "source": [
    "def salvar_lista_links(arquivos, caminho_arquivo):\n",
    "    \"\"\"Salva a lista de links e nomes de arquivos em um arquivo de texto.\"\"\"\n",
    "    try:\n",
    "        with open(caminho_arquivo, 'w') as f:\n",
    "            for nome_arquivo, arquivo_url in arquivos:\n",
    "                f.write(f\"{nome_arquivo} - {arquivo_url}\\n\")\n",
    "        print(f\"Lista de links salva em: {caminho_arquivo}\")\n",
    "    except Exception as e:\n",
    "        print(f\"Erro ao salvar a lista de links: {e}\")"
   ]
  },
  {
   "cell_type": "code",
   "execution_count": 20,
   "id": "c2572f63",
   "metadata": {},
   "outputs": [
    {
     "name": "stdout",
     "output_type": "stream",
     "text": [
      "Lista de links salva em: ..\\..\\Bases\\PorData\\outros\n"
     ]
    }
   ],
   "source": [
    "url_pagina = 'https://www.pordata.pt/pt/documentos-indicadores?f%5B0%5D=document_geography%3A35'  # Substitua pela URL da página\n",
    "pasta_destino = '..\\\\..\\\\Bases\\\\PorData\\\\outros'  # Defina a pasta de destino\n",
    "\n",
    "\n",
    "# Gerar a lista de links de download da página\n",
    "arquivos = gerar_lista_links(url_pagina)\n",
    "\n",
    "# Salvar a lista de links em um arquivo de texto\n",
    "if arquivos:\n",
    "    salvar_lista_links(arquivos, pasta_destino)\n",
    "else:\n",
    "    print(\"Nenhum link encontrado.\")"
   ]
  }
 ],
 "metadata": {
  "kernelspec": {
   "display_name": "Python 3",
   "language": "python",
   "name": "python3"
  },
  "language_info": {
   "codemirror_mode": {
    "name": "ipython",
    "version": 3
   },
   "file_extension": ".py",
   "mimetype": "text/x-python",
   "name": "python",
   "nbconvert_exporter": "python",
   "pygments_lexer": "ipython3",
   "version": "3.11.9"
  }
 },
 "nbformat": 4,
 "nbformat_minor": 5
}
