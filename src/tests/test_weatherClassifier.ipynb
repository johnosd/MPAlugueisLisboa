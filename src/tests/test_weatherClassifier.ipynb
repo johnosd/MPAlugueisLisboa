{
 "cells": [
  {
   "cell_type": "code",
   "execution_count": 1,
   "id": "65dd57b1",
   "metadata": {},
   "outputs": [],
   "source": [
    "from weatherClassifier import WeatherClassifier, WeatherClassifierContinuous"
   ]
  },
  {
   "cell_type": "code",
   "execution_count": 2,
   "id": "05e507e1",
   "metadata": {},
   "outputs": [],
   "source": [
    "weatherClassifier = WeatherClassifier()\n",
    "weatherClassifierContinuous = WeatherClassifierContinuous()"
   ]
  },
  {
   "cell_type": "code",
   "execution_count": 3,
   "id": "1650650a",
   "metadata": {},
   "outputs": [
    {
     "name": "stdout",
     "output_type": "stream",
     "text": [
      "\n",
      "Arquivos descartados (menos de 365 dias de histórico):\n"
     ]
    }
   ],
   "source": [
    "df = weatherClassifier.load_weather_data()"
   ]
  },
  {
   "cell_type": "code",
   "execution_count": 4,
   "id": "47167304",
   "metadata": {},
   "outputs": [],
   "source": [
    "df_municipios = weatherClassifier.load_municipio_data()"
   ]
  },
  {
   "cell_type": "code",
   "execution_count": 5,
   "id": "5ba76d73",
   "metadata": {},
   "outputs": [],
   "source": [
    "df = weatherClassifier.merge_municipios_with_weather(df, df_municipios)"
   ]
  },
  {
   "cell_type": "code",
   "execution_count": 6,
   "id": "dbde0b60",
   "metadata": {},
   "outputs": [],
   "source": [
    "df = weatherClassifier.marcacao_extremos_diarios(df)"
   ]
  },
  {
   "cell_type": "code",
   "execution_count": 7,
   "id": "8e1fb764",
   "metadata": {},
   "outputs": [],
   "source": [
    "df = weatherClassifier.classifica_diario(df)"
   ]
  },
  {
   "cell_type": "code",
   "execution_count": 8,
   "id": "9e259028",
   "metadata": {},
   "outputs": [],
   "source": [
    "# Continuous score\n",
    "df = weatherClassifierContinuous.classifica_diario_continuous(df)"
   ]
  },
  {
   "cell_type": "code",
   "execution_count": 9,
   "id": "fb9b8d0c",
   "metadata": {},
   "outputs": [],
   "source": [
    "df_resumo_mensal = weatherClassifier.resumo_mensal(df)\n"
   ]
  },
  {
   "cell_type": "code",
   "execution_count": 10,
   "id": "308d033e",
   "metadata": {},
   "outputs": [],
   "source": [
    "df_resumo_geral = weatherClassifier.resumo_geral(df)\n"
   ]
  },
  {
   "cell_type": "code",
   "execution_count": 11,
   "id": "c38f210f",
   "metadata": {},
   "outputs": [],
   "source": [
    "df_tci = weatherClassifier.tci(df)"
   ]
  },
  {
   "cell_type": "code",
   "execution_count": 12,
   "id": "85a7de9d",
   "metadata": {},
   "outputs": [],
   "source": [
    "weatherClassifier.salva_rankings(df,df_resumo_mensal, df_resumo_geral, df_tci)"
   ]
  },
  {
   "cell_type": "code",
   "execution_count": 13,
   "id": "cd76d303",
   "metadata": {},
   "outputs": [
    {
     "name": "stdout",
     "output_type": "stream",
     "text": [
      "🏆 Top 100 cidades com melhor score climático (media_score) 🏆\n",
      "01. Machico: 71.8 pontos | Extremos: 3 | Máx: 20.9°C | Mín: 16.8°C\n",
      "02. Santa Cruz: 71.8 pontos | Extremos: 3 | Máx: 20.9°C | Mín: 16.8°C\n",
      "03. sao paulo: 71.7 pontos | Extremos: 14 | Máx: 28.3°C | Mín: 17.2°C\n",
      "04. Porto Santo: 69.9 pontos | Extremos: 1 | Máx: 20.1°C | Mín: 19.2°C\n",
      "05. Avis: 69.5 pontos | Extremos: 4 | Máx: 26.6°C | Mín: 13.5°C\n",
      "06. Lagos: 64.9 pontos | Extremos: 1 | Máx: 20.7°C | Mín: 14.7°C\n",
      "07. Faro: 64.7 pontos | Extremos: 2 | Máx: 21.1°C | Mín: 15.7°C\n",
      "08. Belmonte: 64.2 pontos | Extremos: 2 | Máx: 21.2°C | Mín: 15.6°C\n",
      "09. Olhao: 64.0 pontos | Extremos: 2 | Máx: 21.2°C | Mín: 15.6°C\n",
      "10. Oeiras: 63.2 pontos | Extremos: 5 | Máx: 20.3°C | Mín: 14.4°C\n",
      "11. Almada: 61.8 pontos | Extremos: 3 | Máx: 21.6°C | Mín: 13.9°C\n",
      "12. Barreiro: 61.8 pontos | Extremos: 3 | Máx: 21.6°C | Mín: 13.9°C\n",
      "13. Albufeira: 61.7 pontos | Extremos: 5 | Máx: 21.8°C | Mín: 14.7°C\n",
      "14. Loures: 61.6 pontos | Extremos: 5 | Máx: 21.2°C | Mín: 14.0°C\n",
      "15. Lisboa: 61.6 pontos | Extremos: 5 | Máx: 21.2°C | Mín: 14.0°C\n",
      "16. Odivelas: 61.6 pontos | Extremos: 5 | Máx: 21.2°C | Mín: 14.0°C\n",
      "17. Portimao: 61.6 pontos | Extremos: 4 | Máx: 21.8°C | Mín: 14.3°C\n",
      "18. Sines: 61.5 pontos | Extremos: 2 | Máx: 18.8°C | Mín: 14.7°C\n",
      "19. Santiago do Cacem: 61.5 pontos | Extremos: 2 | Máx: 18.8°C | Mín: 14.7°C\n",
      "20. Grandola: 61.5 pontos | Extremos: 2 | Máx: 18.8°C | Mín: 14.7°C\n",
      "21. Cascais: 61.4 pontos | Extremos: 5 | Máx: 19.4°C | Mín: 14.9°C\n",
      "22. Arouca: 61.3 pontos | Extremos: 5 | Máx: 21.7°C | Mín: 14.9°C\n",
      "23. Sintra: 61.1 pontos | Extremos: 5 | Máx: 19.7°C | Mín: 13.4°C\n",
      "24. Moita: 60.7 pontos | Extremos: 4 | Máx: 21.8°C | Mín: 13.5°C\n",
      "25. Alcochete: 60.7 pontos | Extremos: 4 | Máx: 21.8°C | Mín: 13.5°C\n",
      "26. Montijo: 60.7 pontos | Extremos: 4 | Máx: 21.8°C | Mín: 13.5°C\n",
      "27. Tavira: 60.7 pontos | Extremos: 2 | Máx: 22.1°C | Mín: 14.8°C\n",
      "28. Castro Marim: 60.7 pontos | Extremos: 2 | Máx: 22.1°C | Mín: 14.8°C\n",
      "29. Vila Real de Santo Antonio: 60.7 pontos | Extremos: 2 | Máx: 22.1°C | Mín: 14.8°C\n",
      "30. Alcoutim: 60.7 pontos | Extremos: 2 | Máx: 22.1°C | Mín: 14.8°C\n",
      "31. Vila Franca do Campo: 60.4 pontos | Extremos: 5 | Máx: 19.7°C | Mín: 17.0°C\n",
      "32. Ponta Delgada: 60.4 pontos | Extremos: 5 | Máx: 19.7°C | Mín: 17.0°C\n",
      "33. Nordeste: 60.4 pontos | Extremos: 5 | Máx: 19.7°C | Mín: 17.0°C\n",
      "34. Seixal: 60.0 pontos | Extremos: 2 | Máx: 19.6°C | Mín: 13.1°C\n",
      "35. Mafra: 60.0 pontos | Extremos: 2 | Máx: 19.6°C | Mín: 13.1°C\n",
      "36. Torres Vedras: 59.9 pontos | Extremos: 4 | Máx: 20.8°C | Mín: 12.5°C\n",
      "37. Sobral de Monte Agraco: 59.9 pontos | Extremos: 4 | Máx: 20.8°C | Mín: 12.5°C\n",
      "38. Lourinha: 59.9 pontos | Extremos: 4 | Máx: 20.8°C | Mín: 12.5°C\n",
      "39. Amadora: 59.6 pontos | Extremos: 10 | Máx: 21.3°C | Mín: 13.8°C\n",
      "40. Cadaval: 59.5 pontos | Extremos: 2 | Máx: 19.5°C | Mín: 13.0°C\n",
      "41. Peniche: 59.5 pontos | Extremos: 2 | Máx: 19.5°C | Mín: 13.0°C\n",
      "42. Caldas da Rainha: 59.5 pontos | Extremos: 2 | Máx: 19.5°C | Mín: 13.0°C\n",
      "43. Bombarral: 59.5 pontos | Extremos: 2 | Máx: 19.5°C | Mín: 13.0°C\n",
      "44. Obidos: 59.5 pontos | Extremos: 2 | Máx: 19.5°C | Mín: 13.0°C\n",
      "45. Rio Maior: 59.5 pontos | Extremos: 2 | Máx: 19.5°C | Mín: 13.0°C\n",
      "46. Ilhavo: 59.2 pontos | Extremos: 5 | Máx: 19.4°C | Mín: 12.4°C\n",
      "47. Albergaria-a-Velha: 59.2 pontos | Extremos: 5 | Máx: 19.4°C | Mín: 12.4°C\n",
      "48. Aveiro: 59.2 pontos | Extremos: 5 | Máx: 19.4°C | Mín: 12.4°C\n",
      "49. Vagos: 59.2 pontos | Extremos: 5 | Máx: 19.4°C | Mín: 12.4°C\n",
      "50. Murtosa: 59.2 pontos | Extremos: 5 | Máx: 19.4°C | Mín: 12.4°C\n",
      "51. Lagoa [R.A.A.]: 59.0 pontos | Extremos: 3 | Máx: 21.7°C | Mín: 14.3°C\n",
      "52. Silves: 59.0 pontos | Extremos: 3 | Máx: 21.7°C | Mín: 14.3°C\n",
      "53. Ovar: 58.3 pontos | Extremos: 3 | Máx: 19.7°C | Mín: 12.3°C\n",
      "54. Espinho: 58.3 pontos | Extremos: 3 | Máx: 19.7°C | Mín: 12.3°C\n",
      "55. Sao Joao da Madeira: 58.3 pontos | Extremos: 3 | Máx: 19.7°C | Mín: 12.3°C\n",
      "56. Horta: 58.3 pontos | Extremos: 8 | Máx: 19.5°C | Mín: 17.6°C\n",
      "57. Ribeira Grande: 58.3 pontos | Extremos: 8 | Máx: 19.5°C | Mín: 17.6°C\n",
      "58. Setubal: 58.0 pontos | Extremos: 9 | Máx: 22.0°C | Mín: 13.4°C\n",
      "59. Alcacer do Sal: 58.0 pontos | Extremos: 9 | Máx: 22.0°C | Mín: 13.4°C\n",
      "60. Sesimbra: 58.0 pontos | Extremos: 9 | Máx: 22.0°C | Mín: 13.4°C\n",
      "61. Palmela: 58.0 pontos | Extremos: 9 | Máx: 22.0°C | Mín: 13.4°C\n",
      "62. Porto: 57.9 pontos | Extremos: 5 | Máx: 18.9°C | Mín: 13.0°C\n",
      "63. Vila Nova de Gaia: 57.9 pontos | Extremos: 5 | Máx: 18.9°C | Mín: 13.0°C\n",
      "64. Gaviao: 57.8 pontos | Extremos: 5 | Máx: 22.3°C | Mín: 14.1°C\n",
      "65. Alcobaca: 57.6 pontos | Extremos: 1 | Máx: 19.5°C | Mín: 12.7°C\n",
      "66. Porto de Mos: 57.6 pontos | Extremos: 1 | Máx: 19.5°C | Mín: 12.7°C\n",
      "67. Nazare: 57.6 pontos | Extremos: 1 | Máx: 19.5°C | Mín: 12.7°C\n",
      "68. Montemor-o-Velho: 57.6 pontos | Extremos: 4 | Máx: 19.0°C | Mín: 13.1°C\n",
      "69. Figueira da Foz: 57.6 pontos | Extremos: 4 | Máx: 19.0°C | Mín: 13.1°C\n",
      "70. Leiria: 57.1 pontos | Extremos: 2 | Máx: 20.5°C | Mín: 11.8°C\n",
      "71. Marinha Grande: 57.1 pontos | Extremos: 2 | Máx: 20.5°C | Mín: 11.8°C\n",
      "72. Batalha: 57.1 pontos | Extremos: 2 | Máx: 20.5°C | Mín: 11.8°C\n",
      "73. Vila da Praia da Vitoria: 57.0 pontos | Extremos: 0 | Máx: 19.3°C | Mín: 16.1°C\n",
      "74. Corvo: 56.9 pontos | Extremos: 3 | Máx: 19.5°C | Mín: 17.7°C\n",
      "75. Lajes das Flores: 56.9 pontos | Extremos: 3 | Máx: 19.5°C | Mín: 17.7°C\n",
      "76. Santa Cruz das Flores: 56.9 pontos | Extremos: 3 | Máx: 19.5°C | Mín: 17.7°C\n",
      "77. Alenquer: 56.8 pontos | Extremos: 10 | Máx: 21.9°C | Mín: 12.7°C\n",
      "78. Benavente: 56.8 pontos | Extremos: 10 | Máx: 21.9°C | Mín: 12.7°C\n",
      "79. Vila Franca de Xira: 56.8 pontos | Extremos: 10 | Máx: 21.9°C | Mín: 12.7°C\n",
      "80. Arruda dos Vinhos: 56.8 pontos | Extremos: 10 | Máx: 21.9°C | Mín: 12.7°C\n",
      "81. Vila de Rei: 56.8 pontos | Extremos: 10 | Máx: 21.9°C | Mín: 12.7°C\n",
      "82. Salvaterra de Magos: 56.8 pontos | Extremos: 10 | Máx: 21.9°C | Mín: 12.7°C\n",
      "83. Azambuja: 56.8 pontos | Extremos: 10 | Máx: 21.9°C | Mín: 12.7°C\n",
      "84. Cantanhede: 56.7 pontos | Extremos: 8 | Máx: 21.0°C | Mín: 11.6°C\n",
      "85. Marvao: 56.7 pontos | Extremos: 8 | Máx: 21.0°C | Mín: 11.6°C\n",
      "86. Mira: 56.7 pontos | Extremos: 8 | Máx: 21.0°C | Mín: 11.6°C\n",
      "87. Mealhada: 56.7 pontos | Extremos: 8 | Máx: 21.0°C | Mín: 11.6°C\n",
      "88. Gondomar: 56.6 pontos | Extremos: 9 | Máx: 20.4°C | Mín: 12.5°C\n",
      "89. Valongo: 56.6 pontos | Extremos: 9 | Máx: 20.4°C | Mín: 12.5°C\n",
      "90. Anadia: 55.6 pontos | Extremos: 14 | Máx: 21.6°C | Mín: 11.3°C\n",
      "91. Agueda: 55.6 pontos | Extremos: 14 | Máx: 21.6°C | Mín: 11.3°C\n",
      "92. Oliveira do Bairro: 55.6 pontos | Extremos: 14 | Máx: 21.6°C | Mín: 11.3°C\n",
      "93. Vila do Bispo: 55.4 pontos | Extremos: 1 | Máx: 18.2°C | Mín: 16.2°C\n",
      "94. Almodovar: 54.6 pontos | Extremos: 8 | Máx: 22.1°C | Mín: 14.1°C\n",
      "95. Loule: 54.6 pontos | Extremos: 8 | Máx: 22.1°C | Mín: 14.1°C\n",
      "96. Angra do Heroismo: 54.4 pontos | Extremos: 14 | Máx: 18.8°C | Mín: 15.9°C\n",
      "97. Pombal: 54.3 pontos | Extremos: 8 | Máx: 21.6°C | Mín: 11.0°C\n",
      "98. Lajes do Pico: 54.3 pontos | Extremos: 5 | Máx: 18.9°C | Mín: 16.6°C\n",
      "99. Lagoa: 54.3 pontos | Extremos: 5 | Máx: 18.9°C | Mín: 16.6°C\n",
      "100. Velas: 54.3 pontos | Extremos: 5 | Máx: 18.9°C | Mín: 16.6°C\n",
      "\n"
     ]
    }
   ],
   "source": [
    "weatherClassifier.topx_cidades(df_resumo_geral,score_type='media_score') # media_score_continuous | media_score"
   ]
  },
  {
   "cell_type": "code",
   "execution_count": 14,
   "id": "7b148fce",
   "metadata": {},
   "outputs": [
    {
     "name": "stdout",
     "output_type": "stream",
     "text": [
      "\n",
      "🏅 Top 3 cidades - Summer (media_score) 🏅\n",
      "01. Porto Santo: 100.0 pontos | Extremos: 0 | Máx: 21.0°C | Mín: 19.0°C | Excelente | 2024-06\n",
      "02. Gaviao: 100.0 pontos | Extremos: 0 | Máx: 26.0°C | Mín: 16.0°C | Excelente | 2024-06\n",
      "03. Loures: 100.0 pontos | Extremos: 0 | Máx: 23.0°C | Mín: 17.0°C | Excelente | 2024-06\n",
      "\n",
      "🏅 Top 3 cidades - Autumn (media_score) 🏅\n",
      "01. Lagos: 98.4 pontos | Extremos: 0 | Máx: 23.8°C | Mín: 17.1°C | Excelente | 2024-09\n",
      "02. Santa Cruz: 96.7 pontos | Extremos: 0 | Máx: 23.9°C | Mín: 19.3°C | Excelente | 2024-09\n",
      "03. Machico: 96.7 pontos | Extremos: 0 | Máx: 23.9°C | Mín: 19.3°C | Excelente | 2024-09\n",
      "\n",
      "🏅 Top 3 cidades - Spring (media_score) 🏅\n",
      "01. Avis: 90.7 pontos | Extremos: 0 | Máx: 26.3°C | Mín: 16.4°C | Excelente | 2025-03\n",
      "02. sao paulo: 88.6 pontos | Extremos: 0 | Máx: 26.5°C | Mín: 14.4°C | Excelente | 2025-05\n",
      "03. Portimao: 83.0 pontos | Extremos: 0 | Máx: 22.6°C | Mín: 14.0°C | Excelente | 2025-05\n",
      "\n",
      "🏅 Top 3 cidades - Winter (media_score) 🏅\n",
      "01. sao paulo: 80.5 pontos | Extremos: 1 | Máx: 26.7°C | Mín: 18.8°C | Excelente | 2024-12\n",
      "02. Avis: 75.3 pontos | Extremos: 0 | Máx: 28.9°C | Mín: 17.6°C | Muito Bom | 2025-02\n",
      "03. Porto Santo: 67.3 pontos | Extremos: 0 | Máx: 19.2°C | Mín: 18.2°C | Bom | 2024-12\n"
     ]
    }
   ],
   "source": [
    "weatherClassifier.topx_cidades_por_estacao(df_resumo_mensal, n=3,score_type='media_score') # media_score_continuous | media_score"
   ]
  },
  {
   "cell_type": "code",
   "execution_count": 15,
   "id": "0442ba85",
   "metadata": {},
   "outputs": [
    {
     "name": "stdout",
     "output_type": "stream",
     "text": [
      "🏆 Lista de cidades agrupadas por classificação (score: media_score) 🏆\n",
      "\n",
      "🔹 Muito Bom:\n",
      "   - [Região Autónoma da Madeira] Machico: 71.8 pontos | Extremos: 3 | Máx: 20.9°C | Mín: 16.8°C\n",
      "   - [Região Autónoma da Madeira] Santa Cruz: 71.8 pontos | Extremos: 3 | Máx: 20.9°C | Mín: 16.8°C\n",
      "   - [Brasil] sao paulo: 71.7 pontos | Extremos: 14 | Máx: 28.3°C | Mín: 17.2°C\n",
      "\n",
      "🔹 Bom:\n",
      "   - [Região Autónoma da Madeira] Porto Santo: 69.9 pontos | Extremos: 1 | Máx: 20.1°C | Mín: 19.2°C\n",
      "   - [Alentejo] Avis: 69.5 pontos | Extremos: 4 | Máx: 26.6°C | Mín: 13.5°C\n",
      "   - [Algarve] Lagos: 64.9 pontos | Extremos: 1 | Máx: 20.7°C | Mín: 14.7°C\n",
      "   - [Algarve] Faro: 64.7 pontos | Extremos: 2 | Máx: 21.1°C | Mín: 15.7°C\n",
      "   - [Centro] Belmonte: 64.2 pontos | Extremos: 2 | Máx: 21.2°C | Mín: 15.6°C\n",
      "   - [Algarve] Olhao: 64.0 pontos | Extremos: 2 | Máx: 21.2°C | Mín: 15.6°C\n",
      "   - [Área Metropolitana de Lisboa] Oeiras: 63.2 pontos | Extremos: 5 | Máx: 20.3°C | Mín: 14.4°C\n",
      "   - [Área Metropolitana de Lisboa] Almada: 61.8 pontos | Extremos: 3 | Máx: 21.6°C | Mín: 13.9°C\n",
      "   - [Área Metropolitana de Lisboa] Barreiro: 61.8 pontos | Extremos: 3 | Máx: 21.6°C | Mín: 13.9°C\n",
      "   - [Algarve] Albufeira: 61.7 pontos | Extremos: 5 | Máx: 21.8°C | Mín: 14.7°C\n",
      "   - [Área Metropolitana de Lisboa] Odivelas: 61.6 pontos | Extremos: 5 | Máx: 21.2°C | Mín: 14.0°C\n",
      "   - [Área Metropolitana de Lisboa] Loures: 61.6 pontos | Extremos: 5 | Máx: 21.2°C | Mín: 14.0°C\n",
      "   - [Área Metropolitana de Lisboa] Lisboa: 61.6 pontos | Extremos: 5 | Máx: 21.2°C | Mín: 14.0°C\n",
      "   - [Algarve] Portimao: 61.6 pontos | Extremos: 4 | Máx: 21.8°C | Mín: 14.3°C\n",
      "   - [Alentejo] Sines: 61.5 pontos | Extremos: 2 | Máx: 18.8°C | Mín: 14.7°C\n",
      "   - [Alentejo] Santiago do Cacem: 61.5 pontos | Extremos: 2 | Máx: 18.8°C | Mín: 14.7°C\n",
      "   - [Alentejo] Grandola: 61.5 pontos | Extremos: 2 | Máx: 18.8°C | Mín: 14.7°C\n",
      "   - [Área Metropolitana de Lisboa] Cascais: 61.4 pontos | Extremos: 5 | Máx: 19.4°C | Mín: 14.9°C\n",
      "   - [Norte] Arouca: 61.3 pontos | Extremos: 5 | Máx: 21.7°C | Mín: 14.9°C\n",
      "   - [Área Metropolitana de Lisboa] Sintra: 61.1 pontos | Extremos: 5 | Máx: 19.7°C | Mín: 13.4°C\n",
      "   - [Área Metropolitana de Lisboa] Alcochete: 60.7 pontos | Extremos: 4 | Máx: 21.8°C | Mín: 13.5°C\n",
      "   - [Área Metropolitana de Lisboa] Moita: 60.7 pontos | Extremos: 4 | Máx: 21.8°C | Mín: 13.5°C\n",
      "   - [Área Metropolitana de Lisboa] Montijo: 60.7 pontos | Extremos: 4 | Máx: 21.8°C | Mín: 13.5°C\n",
      "   - [Algarve] Tavira: 60.7 pontos | Extremos: 2 | Máx: 22.1°C | Mín: 14.8°C\n",
      "   - [Algarve] Castro Marim: 60.7 pontos | Extremos: 2 | Máx: 22.1°C | Mín: 14.8°C\n",
      "   - [Algarve] Vila Real de Santo Antonio: 60.7 pontos | Extremos: 2 | Máx: 22.1°C | Mín: 14.8°C\n",
      "   - [Algarve] Alcoutim: 60.7 pontos | Extremos: 2 | Máx: 22.1°C | Mín: 14.8°C\n",
      "   - [Região Autónoma dos Açores] Vila Franca do Campo: 60.4 pontos | Extremos: 5 | Máx: 19.7°C | Mín: 17.0°C\n",
      "   - [Região Autónoma dos Açores] Ponta Delgada: 60.4 pontos | Extremos: 5 | Máx: 19.7°C | Mín: 17.0°C\n",
      "   - [Região Autónoma dos Açores] Nordeste: 60.4 pontos | Extremos: 5 | Máx: 19.7°C | Mín: 17.0°C\n",
      "   - [Área Metropolitana de Lisboa] Mafra: 60.0 pontos | Extremos: 2 | Máx: 19.6°C | Mín: 13.1°C\n",
      "   - [Área Metropolitana de Lisboa] Seixal: 60.0 pontos | Extremos: 2 | Máx: 19.6°C | Mín: 13.1°C\n",
      "\n",
      "🔹 Aceitável:\n",
      "   - [Centro] Torres Vedras: 59.9 pontos | Extremos: 4 | Máx: 20.8°C | Mín: 12.5°C\n",
      "   - [Centro] Sobral de Monte Agraco: 59.9 pontos | Extremos: 4 | Máx: 20.8°C | Mín: 12.5°C\n",
      "   - [Centro] Lourinha: 59.9 pontos | Extremos: 4 | Máx: 20.8°C | Mín: 12.5°C\n",
      "   - [Área Metropolitana de Lisboa] Amadora: 59.6 pontos | Extremos: 10 | Máx: 21.3°C | Mín: 13.8°C\n",
      "   - [Centro] Bombarral: 59.5 pontos | Extremos: 2 | Máx: 19.5°C | Mín: 13.0°C\n",
      "   - [Centro] Cadaval: 59.5 pontos | Extremos: 2 | Máx: 19.5°C | Mín: 13.0°C\n",
      "   - [Centro] Caldas da Rainha: 59.5 pontos | Extremos: 2 | Máx: 19.5°C | Mín: 13.0°C\n",
      "   - [Centro] Obidos: 59.5 pontos | Extremos: 2 | Máx: 19.5°C | Mín: 13.0°C\n",
      "   - [Alentejo] Rio Maior: 59.5 pontos | Extremos: 2 | Máx: 19.5°C | Mín: 13.0°C\n",
      "   - [Centro] Peniche: 59.5 pontos | Extremos: 2 | Máx: 19.5°C | Mín: 13.0°C\n",
      "   - [Centro] Vagos: 59.2 pontos | Extremos: 5 | Máx: 19.4°C | Mín: 12.4°C\n",
      "   - [Centro] Albergaria-a-Velha: 59.2 pontos | Extremos: 5 | Máx: 19.4°C | Mín: 12.4°C\n",
      "   - [Centro] Murtosa: 59.2 pontos | Extremos: 5 | Máx: 19.4°C | Mín: 12.4°C\n",
      "   - [Centro] Ilhavo: 59.2 pontos | Extremos: 5 | Máx: 19.4°C | Mín: 12.4°C\n",
      "   - [Centro] Aveiro: 59.2 pontos | Extremos: 5 | Máx: 19.4°C | Mín: 12.4°C\n",
      "   - [Região Autónoma dos Açores] Lagoa [R.A.A.]: 59.0 pontos | Extremos: 3 | Máx: 21.7°C | Mín: 14.3°C\n",
      "   - [Algarve] Silves: 59.0 pontos | Extremos: 3 | Máx: 21.7°C | Mín: 14.3°C\n",
      "   - [Norte] Espinho: 58.3 pontos | Extremos: 3 | Máx: 19.7°C | Mín: 12.3°C\n",
      "   - [Norte] Sao Joao da Madeira: 58.3 pontos | Extremos: 3 | Máx: 19.7°C | Mín: 12.3°C\n",
      "   - [Centro] Ovar: 58.3 pontos | Extremos: 3 | Máx: 19.7°C | Mín: 12.3°C\n",
      "   - [Região Autónoma dos Açores] Horta: 58.3 pontos | Extremos: 8 | Máx: 19.5°C | Mín: 17.6°C\n",
      "   - [Região Autónoma dos Açores] Ribeira Grande: 58.3 pontos | Extremos: 8 | Máx: 19.5°C | Mín: 17.6°C\n",
      "   - [Área Metropolitana de Lisboa] Palmela: 58.0 pontos | Extremos: 9 | Máx: 22.0°C | Mín: 13.4°C\n",
      "   - [Área Metropolitana de Lisboa] Sesimbra: 58.0 pontos | Extremos: 9 | Máx: 22.0°C | Mín: 13.4°C\n",
      "   - [Área Metropolitana de Lisboa] Setubal: 58.0 pontos | Extremos: 9 | Máx: 22.0°C | Mín: 13.4°C\n",
      "   - [Alentejo] Alcacer do Sal: 58.0 pontos | Extremos: 9 | Máx: 22.0°C | Mín: 13.4°C\n",
      "   - [Norte] Vila Nova de Gaia: 57.9 pontos | Extremos: 5 | Máx: 18.9°C | Mín: 13.0°C\n",
      "   - [Norte] Porto: 57.9 pontos | Extremos: 5 | Máx: 18.9°C | Mín: 13.0°C\n",
      "   - [Alentejo] Gaviao: 57.8 pontos | Extremos: 5 | Máx: 22.3°C | Mín: 14.1°C\n",
      "   - [Centro] Alcobaca: 57.6 pontos | Extremos: 1 | Máx: 19.5°C | Mín: 12.7°C\n",
      "   - [Centro] Nazare: 57.6 pontos | Extremos: 1 | Máx: 19.5°C | Mín: 12.7°C\n",
      "   - [Centro] Porto de Mos: 57.6 pontos | Extremos: 1 | Máx: 19.5°C | Mín: 12.7°C\n",
      "   - [Centro] Montemor-o-Velho: 57.6 pontos | Extremos: 4 | Máx: 19.0°C | Mín: 13.1°C\n",
      "   - [Centro] Figueira da Foz: 57.6 pontos | Extremos: 4 | Máx: 19.0°C | Mín: 13.1°C\n",
      "   - [Centro] Batalha: 57.1 pontos | Extremos: 2 | Máx: 20.5°C | Mín: 11.8°C\n",
      "   - [Centro] Marinha Grande: 57.1 pontos | Extremos: 2 | Máx: 20.5°C | Mín: 11.8°C\n",
      "   - [Centro] Leiria: 57.1 pontos | Extremos: 2 | Máx: 20.5°C | Mín: 11.8°C\n",
      "   - [Região Autónoma dos Açores] Vila da Praia da Vitoria: 57.0 pontos | Extremos: 0 | Máx: 19.3°C | Mín: 16.1°C\n",
      "   - [Região Autónoma dos Açores] Corvo: 56.9 pontos | Extremos: 3 | Máx: 19.5°C | Mín: 17.7°C\n",
      "   - [Região Autónoma dos Açores] Lajes das Flores: 56.9 pontos | Extremos: 3 | Máx: 19.5°C | Mín: 17.7°C\n",
      "   - [Região Autónoma dos Açores] Santa Cruz das Flores: 56.9 pontos | Extremos: 3 | Máx: 19.5°C | Mín: 17.7°C\n",
      "   - [Alentejo] Benavente: 56.8 pontos | Extremos: 10 | Máx: 21.9°C | Mín: 12.7°C\n",
      "   - [Alentejo] Salvaterra de Magos: 56.8 pontos | Extremos: 10 | Máx: 21.9°C | Mín: 12.7°C\n",
      "   - [Alentejo] Azambuja: 56.8 pontos | Extremos: 10 | Máx: 21.9°C | Mín: 12.7°C\n",
      "   - [Centro] Vila de Rei: 56.8 pontos | Extremos: 10 | Máx: 21.9°C | Mín: 12.7°C\n",
      "   - [Área Metropolitana de Lisboa] Vila Franca de Xira: 56.8 pontos | Extremos: 10 | Máx: 21.9°C | Mín: 12.7°C\n",
      "   - [Centro] Arruda dos Vinhos: 56.8 pontos | Extremos: 10 | Máx: 21.9°C | Mín: 12.7°C\n",
      "   - [Centro] Alenquer: 56.8 pontos | Extremos: 10 | Máx: 21.9°C | Mín: 12.7°C\n",
      "   - [Centro] Mira: 56.7 pontos | Extremos: 8 | Máx: 21.0°C | Mín: 11.6°C\n",
      "   - [Centro] Mealhada: 56.7 pontos | Extremos: 8 | Máx: 21.0°C | Mín: 11.6°C\n",
      "   - [Alentejo] Marvao: 56.7 pontos | Extremos: 8 | Máx: 21.0°C | Mín: 11.6°C\n",
      "   - [Centro] Cantanhede: 56.7 pontos | Extremos: 8 | Máx: 21.0°C | Mín: 11.6°C\n",
      "   - [Norte] Valongo: 56.6 pontos | Extremos: 9 | Máx: 20.4°C | Mín: 12.5°C\n",
      "   - [Norte] Gondomar: 56.6 pontos | Extremos: 9 | Máx: 20.4°C | Mín: 12.5°C\n",
      "   - [Centro] Oliveira do Bairro: 55.6 pontos | Extremos: 14 | Máx: 21.6°C | Mín: 11.3°C\n",
      "   - [Centro] Agueda: 55.6 pontos | Extremos: 14 | Máx: 21.6°C | Mín: 11.3°C\n",
      "   - [Centro] Anadia: 55.6 pontos | Extremos: 14 | Máx: 21.6°C | Mín: 11.3°C\n",
      "   - [Algarve] Vila do Bispo: 55.4 pontos | Extremos: 1 | Máx: 18.2°C | Mín: 16.2°C\n",
      "   - [Algarve] Loule: 54.6 pontos | Extremos: 8 | Máx: 22.1°C | Mín: 14.1°C\n",
      "   - [Alentejo] Almodovar: 54.6 pontos | Extremos: 8 | Máx: 22.1°C | Mín: 14.1°C\n",
      "   - [Região Autónoma dos Açores] Angra do Heroismo: 54.4 pontos | Extremos: 14 | Máx: 18.8°C | Mín: 15.9°C\n",
      "   - [Centro] Pombal: 54.3 pontos | Extremos: 8 | Máx: 21.6°C | Mín: 11.0°C\n",
      "   - [Região Autónoma dos Açores] Sao Roque do Pico: 54.3 pontos | Extremos: 5 | Máx: 18.9°C | Mín: 16.6°C\n",
      "   - [Região Autónoma dos Açores] Velas: 54.3 pontos | Extremos: 5 | Máx: 18.9°C | Mín: 16.6°C\n",
      "   - [Região Autónoma dos Açores] Santa Cruz da Graciosa: 54.3 pontos | Extremos: 5 | Máx: 18.9°C | Mín: 16.6°C\n",
      "   - [Algarve] Lagoa: 54.3 pontos | Extremos: 5 | Máx: 18.9°C | Mín: 16.6°C\n",
      "   - [Região Autónoma dos Açores] Lajes do Pico: 54.3 pontos | Extremos: 5 | Máx: 18.9°C | Mín: 16.6°C\n",
      "   - [Centro] Soure: 54.3 pontos | Extremos: 8 | Máx: 21.6°C | Mín: 11.0°C\n",
      "   - [Centro] Alvaiazere: 54.3 pontos | Extremos: 8 | Máx: 21.6°C | Mín: 11.0°C\n",
      "   - [Alentejo] Alvito: 54.3 pontos | Extremos: 8 | Máx: 21.6°C | Mín: 11.0°C\n",
      "   - [Centro] Figueiro dos Vinhos: 54.3 pontos | Extremos: 8 | Máx: 21.6°C | Mín: 11.0°C\n",
      "   - [Norte] Barcelos: 54.1 pontos | Extremos: 10 | Máx: 20.4°C | Mín: 11.4°C\n",
      "   - [Norte] Esposende: 54.1 pontos | Extremos: 10 | Máx: 20.4°C | Mín: 11.4°C\n",
      "   - [Norte] Matosinhos: 54.0 pontos | Extremos: 5 | Máx: 18.2°C | Mín: 13.3°C\n",
      "   - [Norte] Maia: 54.0 pontos | Extremos: 5 | Máx: 18.2°C | Mín: 13.3°C\n",
      "   - [Centro] Sardoal: 54.0 pontos | Extremos: 5 | Máx: 18.2°C | Mín: 13.3°C\n",
      "   - [Norte] Caminha: 54.0 pontos | Extremos: 8 | Máx: 18.6°C | Mín: 12.4°C\n",
      "   - [Norte] Viana do Castelo: 53.8 pontos | Extremos: 8 | Máx: 18.6°C | Mín: 12.4°C\n",
      "   - [Norte] Moncao: 53.8 pontos | Extremos: 8 | Máx: 18.6°C | Mín: 12.4°C\n",
      "   - [Centro] Estarreja: 53.8 pontos | Extremos: 16 | Máx: 20.7°C | Mín: 11.6°C\n",
      "   - [Região Autónoma da Madeira] Sao Vicente: 53.8 pontos | Extremos: 16 | Máx: 20.7°C | Mín: 11.6°C\n",
      "   - [Norte] Vale de Cambra: 53.8 pontos | Extremos: 16 | Máx: 20.7°C | Mín: 11.6°C\n",
      "   - [Alentejo] Vidigueira: 53.8 pontos | Extremos: 16 | Máx: 20.7°C | Mín: 11.6°C\n",
      "   - [Centro] Sever do Vouga: 53.8 pontos | Extremos: 16 | Máx: 20.7°C | Mín: 11.6°C\n",
      "   - [Norte] Oliveira de Azemeis: 53.8 pontos | Extremos: 16 | Máx: 20.7°C | Mín: 11.6°C\n",
      "   - [Algarve] Sao Bras de Alportel: 53.7 pontos | Extremos: 8 | Máx: 21.9°C | Mín: 14.0°C\n",
      "   - [Alentejo] Mourao: 53.2 pontos | Extremos: 5 | Máx: 18.3°C | Mín: 13.1°C\n",
      "   - [Norte] Povoa de Varzim: 53.2 pontos | Extremos: 5 | Máx: 18.3°C | Mín: 13.1°C\n",
      "   - [Norte] Vila do Conde: 53.2 pontos | Extremos: 5 | Máx: 18.3°C | Mín: 13.1°C\n",
      "   - [Região Autónoma dos Açores] Vila do Porto: 53.2 pontos | Extremos: 5 | Máx: 18.3°C | Mín: 13.1°C\n",
      "   - [Alentejo] Coruche: 52.7 pontos | Extremos: 24 | Máx: 22.9°C | Mín: 12.0°C\n",
      "   - [Alentejo] Almeirim: 52.7 pontos | Extremos: 24 | Máx: 22.9°C | Mín: 12.0°C\n",
      "   - [Alentejo] Santarem: 52.7 pontos | Extremos: 24 | Máx: 22.9°C | Mín: 12.0°C\n",
      "   - [Alentejo] Cartaxo: 52.7 pontos | Extremos: 24 | Máx: 22.9°C | Mín: 12.0°C\n",
      "   - [Norte] Vila Nova de Famalicao: 52.7 pontos | Extremos: 11 | Máx: 20.7°C | Mín: 11.6°C\n",
      "   - [Região Autónoma dos Açores] Povoacao: 52.7 pontos | Extremos: 11 | Máx: 20.7°C | Mín: 11.6°C\n",
      "   - [Alentejo] Alpiarca: 52.7 pontos | Extremos: 24 | Máx: 22.9°C | Mín: 12.0°C\n",
      "   - [Norte] Santo Tirso: 52.7 pontos | Extremos: 11 | Máx: 20.7°C | Mín: 11.6°C\n",
      "   - [Centro] Arganil: 51.8 pontos | Extremos: 16 | Máx: 22.0°C | Mín: 11.0°C\n",
      "   - [Norte] Vila Flor: 51.8 pontos | Extremos: 16 | Máx: 22.0°C | Mín: 11.0°C\n",
      "   - [Centro] Gois: 51.8 pontos | Extremos: 16 | Máx: 22.0°C | Mín: 11.0°C\n",
      "   - [Centro] Penacova: 51.8 pontos | Extremos: 16 | Máx: 22.0°C | Mín: 11.0°C\n",
      "   - [Centro] Lousa: 51.8 pontos | Extremos: 16 | Máx: 22.0°C | Mín: 11.0°C\n",
      "   - [Centro] Castanheira de Pera: 51.8 pontos | Extremos: 16 | Máx: 22.0°C | Mín: 11.0°C\n",
      "   - [Centro] Pedrogao Grande: 51.8 pontos | Extremos: 16 | Máx: 22.0°C | Mín: 11.0°C\n",
      "   - [Centro] Pampilhosa da Serra: 51.8 pontos | Extremos: 16 | Máx: 22.0°C | Mín: 11.0°C\n",
      "   - [Centro] Condeixa-a-Nova: 51.8 pontos | Extremos: 16 | Máx: 22.0°C | Mín: 11.0°C\n",
      "   - [Centro] Miranda do Corvo: 51.8 pontos | Extremos: 16 | Máx: 22.0°C | Mín: 11.0°C\n",
      "   - [Centro] Penela: 51.8 pontos | Extremos: 16 | Máx: 22.0°C | Mín: 11.0°C\n",
      "   - [Centro] Coimbra: 51.8 pontos | Extremos: 16 | Máx: 22.0°C | Mín: 11.0°C\n",
      "   - [Centro] Ourem: 51.7 pontos | Extremos: 14 | Máx: 21.4°C | Mín: 11.2°C\n",
      "   - [Centro] Alcanena: 51.4 pontos | Extremos: 27 | Máx: 22.9°C | Mín: 11.7°C\n",
      "   - [Alentejo] Golega: 51.3 pontos | Extremos: 27 | Máx: 22.9°C | Mín: 11.7°C\n",
      "   - [Centro] Entroncamento: 51.3 pontos | Extremos: 27 | Máx: 22.9°C | Mín: 11.7°C\n",
      "   - [Centro] Torres Novas: 51.3 pontos | Extremos: 27 | Máx: 22.9°C | Mín: 11.7°C\n",
      "   - [Centro] Vila Nova da Barquinha: 51.3 pontos | Extremos: 27 | Máx: 22.9°C | Mín: 11.7°C\n",
      "   - [Região Autónoma da Madeira] Santana: 51.3 pontos | Extremos: 9 | Máx: 17.7°C | Mín: 11.4°C\n",
      "   - [Região Autónoma da Madeira] Funchal: 51.3 pontos | Extremos: 9 | Máx: 17.7°C | Mín: 11.4°C\n",
      "   - [Região Autónoma da Madeira] Camara de Lobos: 51.3 pontos | Extremos: 9 | Máx: 17.7°C | Mín: 11.4°C\n",
      "   - [Região Autónoma da Madeira] Ribeira Brava: 51.3 pontos | Extremos: 9 | Máx: 17.7°C | Mín: 11.4°C\n",
      "   - [Região Autónoma da Madeira] Porto Moniz: 51.3 pontos | Extremos: 9 | Máx: 17.7°C | Mín: 11.4°C\n",
      "   - [Região Autónoma dos Açores] Calheta [R.A.A.]: 51.3 pontos | Extremos: 9 | Máx: 17.7°C | Mín: 11.4°C\n",
      "   - [Região Autónoma da Madeira] Calheta [R.A.M.]: 51.3 pontos | Extremos: 9 | Máx: 17.7°C | Mín: 11.4°C\n",
      "   - [Região Autónoma da Madeira] Ponta do Sol: 51.3 pontos | Extremos: 9 | Máx: 17.7°C | Mín: 11.4°C\n",
      "   - [Centro] Tomar: 50.7 pontos | Extremos: 24 | Máx: 22.6°C | Mín: 11.8°C\n",
      "   - [Centro] Ferreira do Zezere: 50.7 pontos | Extremos: 24 | Máx: 22.6°C | Mín: 11.8°C\n",
      "   - [Centro] Serta: 50.7 pontos | Extremos: 24 | Máx: 22.6°C | Mín: 11.8°C\n",
      "   - [Norte] Valenca: 50.6 pontos | Extremos: 11 | Máx: 18.7°C | Mín: 11.3°C\n",
      "   - [Norte] Melgaco: 50.6 pontos | Extremos: 11 | Máx: 18.7°C | Mín: 11.3°C\n",
      "   - [Algarve] Monchique: 50.2 pontos | Extremos: 13 | Máx: 21.2°C | Mín: 12.4°C\n",
      "   - [Alentejo] Odemira: 50.2 pontos | Extremos: 13 | Máx: 21.2°C | Mín: 12.4°C\n",
      "   - [Algarve] Aljezur: 50.2 pontos | Extremos: 13 | Máx: 21.2°C | Mín: 12.4°C\n",
      "   - [Norte] Baiao: 50.1 pontos | Extremos: 13 | Máx: 21.2°C | Mín: 12.4°C\n",
      "   - [Alentejo] Ourique: 50.1 pontos | Extremos: 13 | Máx: 21.2°C | Mín: 12.4°C\n",
      "   - [Região Autónoma dos Açores] Madalena: 50.1 pontos | Extremos: 15 | Máx: 20.6°C | Mín: 11.3°C\n",
      "   - [Norte] Penafiel: 50.1 pontos | Extremos: 15 | Máx: 20.6°C | Mín: 11.3°C\n",
      "   - [Norte] Paredes: 50.1 pontos | Extremos: 15 | Máx: 20.6°C | Mín: 11.3°C\n",
      "   - [Norte] Pacos de Ferreira: 50.1 pontos | Extremos: 15 | Máx: 20.6°C | Mín: 11.3°C\n",
      "   - [Norte] Lousada: 50.1 pontos | Extremos: 15 | Máx: 20.6°C | Mín: 11.3°C\n",
      "\n",
      "🔹 Marginal:\n",
      "   - [Norte] Vila Nova de Cerveira: 49.7 pontos | Extremos: 17 | Máx: 20.7°C | Mín: 11.0°C\n",
      "   - [Norte] Paredes de Coura: 49.6 pontos | Extremos: 17 | Máx: 20.7°C | Mín: 11.0°C\n",
      "   - [Norte] Arcos de Valdevez: 49.6 pontos | Extremos: 17 | Máx: 20.7°C | Mín: 11.0°C\n",
      "   - [Norte] Ponte da Barca: 49.6 pontos | Extremos: 17 | Máx: 20.7°C | Mín: 11.0°C\n",
      "   - [Norte] Ponte de Lima: 49.6 pontos | Extremos: 17 | Máx: 20.7°C | Mín: 11.0°C\n",
      "   - [Norte] Braga: 48.2 pontos | Extremos: 17 | Máx: 20.8°C | Mín: 10.6°C\n",
      "   - [Norte] Povoa de Lanhoso: 48.2 pontos | Extremos: 17 | Máx: 20.8°C | Mín: 10.6°C\n",
      "   - [Centro] Oleiros: 48.2 pontos | Extremos: 17 | Máx: 20.8°C | Mín: 10.6°C\n",
      "   - [Centro] Abrantes: 47.7 pontos | Extremos: 34 | Máx: 23.2°C | Mín: 11.4°C\n",
      "   - [Centro] Ansiao: 47.7 pontos | Extremos: 34 | Máx: 23.2°C | Mín: 11.4°C\n",
      "   - [Centro] Constancia: 47.7 pontos | Extremos: 34 | Máx: 23.2°C | Mín: 11.4°C\n",
      "   - [Alentejo] Ponte de Sor: 47.7 pontos | Extremos: 34 | Máx: 23.2°C | Mín: 11.4°C\n",
      "   - [Centro] Macao: 47.7 pontos | Extremos: 34 | Máx: 23.2°C | Mín: 11.4°C\n",
      "   - [Norte] Guimaraes: 47.6 pontos | Extremos: 17 | Máx: 20.9°C | Mín: 10.6°C\n",
      "   - [Norte] Mesao Frio: 47.6 pontos | Extremos: 17 | Máx: 20.9°C | Mín: 10.6°C\n",
      "   - [Norte] Vizela: 47.6 pontos | Extremos: 17 | Máx: 20.9°C | Mín: 10.6°C\n",
      "   - [Alentejo] Serpa: 47.3 pontos | Extremos: 47 | Máx: 23.8°C | Mín: 12.8°C\n",
      "   - [Alentejo] Mertola: 47.3 pontos | Extremos: 47 | Máx: 23.8°C | Mín: 12.8°C\n",
      "   - [Alentejo] Aljustrel: 47.3 pontos | Extremos: 47 | Máx: 23.8°C | Mín: 12.8°C\n",
      "   - [Alentejo] Moura: 47.3 pontos | Extremos: 47 | Máx: 23.8°C | Mín: 12.8°C\n",
      "   - [Alentejo] Ferreira do Alentejo: 47.3 pontos | Extremos: 47 | Máx: 23.8°C | Mín: 12.8°C\n",
      "   - [Alentejo] Cuba: 47.3 pontos | Extremos: 47 | Máx: 23.8°C | Mín: 12.8°C\n",
      "   - [Alentejo] Beja: 47.3 pontos | Extremos: 47 | Máx: 23.8°C | Mín: 12.8°C\n",
      "   - [Alentejo] Castro Verde: 47.3 pontos | Extremos: 47 | Máx: 23.8°C | Mín: 12.8°C\n",
      "   - [Alentejo] Arraiolos: 47.1 pontos | Extremos: 36 | Máx: 23.3°C | Mín: 11.5°C\n",
      "   - [Alentejo] Vendas Novas: 47.1 pontos | Extremos: 36 | Máx: 23.3°C | Mín: 11.5°C\n",
      "   - [Alentejo] Montemor-o-Novo: 47.1 pontos | Extremos: 36 | Máx: 23.3°C | Mín: 11.5°C\n",
      "   - [Norte] Celorico de Basto: 46.5 pontos | Extremos: 28 | Máx: 21.6°C | Mín: 10.2°C\n",
      "   - [Norte] Amarante: 46.5 pontos | Extremos: 28 | Máx: 21.6°C | Mín: 10.2°C\n",
      "   - [Alentejo] Elvas: 45.8 pontos | Extremos: 68 | Máx: 24.3°C | Mín: 12.4°C\n",
      "   - [Alentejo] Campo Maior: 45.8 pontos | Extremos: 68 | Máx: 24.3°C | Mín: 12.4°C\n",
      "   - [Norte] Vila Verde: 45.8 pontos | Extremos: 25 | Máx: 20.7°C | Mín: 10.6°C\n",
      "   - [Norte] Amares: 45.8 pontos | Extremos: 25 | Máx: 20.7°C | Mín: 10.6°C\n",
      "   - [Norte] Terras de Bouro: 45.8 pontos | Extremos: 25 | Máx: 20.7°C | Mín: 10.6°C\n",
      "   - [Centro] Oliveira de Frades: 45.3 pontos | Extremos: 19 | Máx: 19.5°C | Mín: 10.1°C\n",
      "   - [Centro] Santa Comba Dao: 45.3 pontos | Extremos: 19 | Máx: 19.5°C | Mín: 10.1°C\n",
      "   - [Centro] Tabua: 45.3 pontos | Extremos: 19 | Máx: 19.5°C | Mín: 10.1°C\n",
      "   - [Centro] Mortagua: 45.3 pontos | Extremos: 19 | Máx: 19.5°C | Mín: 10.1°C\n",
      "   - [Centro] Tondela: 45.3 pontos | Extremos: 19 | Máx: 19.5°C | Mín: 10.1°C\n",
      "   - [Centro] Vouzela: 45.3 pontos | Extremos: 19 | Máx: 19.5°C | Mín: 10.1°C\n",
      "   - [Norte] Sabrosa: 45.3 pontos | Extremos: 19 | Máx: 19.5°C | Mín: 10.1°C\n",
      "   - [Alentejo] Sousel: 45.3 pontos | Extremos: 43 | Máx: 23.2°C | Mín: 11.8°C\n",
      "   - [Alentejo] Portel: 45.3 pontos | Extremos: 43 | Máx: 23.2°C | Mín: 11.8°C\n",
      "   - [Alentejo] Estremoz: 45.3 pontos | Extremos: 43 | Máx: 23.2°C | Mín: 11.8°C\n",
      "   - [Alentejo] Evora: 45.3 pontos | Extremos: 43 | Máx: 23.2°C | Mín: 11.8°C\n",
      "   - [Alentejo] Viana do Alentejo: 45.3 pontos | Extremos: 43 | Máx: 23.2°C | Mín: 11.8°C\n",
      "   - [Alentejo] Alandroal: 45.3 pontos | Extremos: 43 | Máx: 23.2°C | Mín: 11.8°C\n",
      "   - [Alentejo] Redondo: 45.3 pontos | Extremos: 43 | Máx: 23.2°C | Mín: 11.8°C\n",
      "   - [Alentejo] Borba: 45.3 pontos | Extremos: 43 | Máx: 23.2°C | Mín: 11.8°C\n",
      "   - [Alentejo] Reguengos de Monsaraz: 45.3 pontos | Extremos: 43 | Máx: 23.2°C | Mín: 11.8°C\n",
      "   - [Alentejo] Vila Vicosa: 45.3 pontos | Extremos: 43 | Máx: 23.2°C | Mín: 11.8°C\n",
      "   - [Norte] Castelo de Paiva: 45.1 pontos | Extremos: 21 | Máx: 20.4°C | Mín: 10.2°C\n",
      "   - [Centro] Trancoso: 45.1 pontos | Extremos: 21 | Máx: 20.4°C | Mín: 10.2°C\n",
      "   - [Norte] Marco de Canaveses: 45.1 pontos | Extremos: 21 | Máx: 20.4°C | Mín: 10.2°C\n",
      "   - [Norte] Resende: 45.1 pontos | Extremos: 21 | Máx: 20.4°C | Mín: 10.2°C\n",
      "   - [Norte] Cinfaes: 45.1 pontos | Extremos: 21 | Máx: 20.4°C | Mín: 10.2°C\n",
      "   - [Norte] Trofa: 44.8 pontos | Extremos: 25 | Máx: 19.9°C | Mín: 9.8°C\n",
      "   - [Norte] Cabeceiras de Basto: 44.8 pontos | Extremos: 25 | Máx: 19.9°C | Mín: 9.8°C\n",
      "   - [Norte] Fafe: 44.8 pontos | Extremos: 25 | Máx: 19.9°C | Mín: 9.8°C\n",
      "   - [Norte] Mondim de Basto: 44.8 pontos | Extremos: 25 | Máx: 19.9°C | Mín: 9.8°C\n",
      "   - [Norte] Felgueiras: 44.8 pontos | Extremos: 25 | Máx: 19.9°C | Mín: 9.8°C\n",
      "   - [Norte] Vieira do Minho: 44.8 pontos | Extremos: 25 | Máx: 19.9°C | Mín: 9.8°C\n",
      "   - [Alentejo] Barrancos: 44.6 pontos | Extremos: 60 | Máx: 23.8°C | Mín: 11.6°C\n",
      "   - [Norte] Lamego: 44.5 pontos | Extremos: 13 | Máx: 19.8°C | Mín: 10.7°C\n",
      "   - [Norte] Vila Real: 44.5 pontos | Extremos: 13 | Máx: 19.8°C | Mín: 10.7°C\n",
      "   - [Norte] Vila Pouca de Aguiar: 44.5 pontos | Extremos: 13 | Máx: 19.8°C | Mín: 10.7°C\n",
      "   - [Norte] Alijo: 44.5 pontos | Extremos: 13 | Máx: 19.8°C | Mín: 10.7°C\n",
      "   - [Norte] Carrazeda de Ansiaes: 44.5 pontos | Extremos: 13 | Máx: 19.8°C | Mín: 10.7°C\n",
      "   - [Norte] Vila Nova de Foz Coa: 44.5 pontos | Extremos: 13 | Máx: 19.8°C | Mín: 10.7°C\n",
      "   - [Centro] Vila Nova de Poiares: 44.5 pontos | Extremos: 13 | Máx: 19.8°C | Mín: 10.7°C\n",
      "   - [Norte] Tarouca: 44.5 pontos | Extremos: 13 | Máx: 19.8°C | Mín: 10.7°C\n",
      "   - [Norte] Tabuaco: 44.5 pontos | Extremos: 13 | Máx: 19.8°C | Mín: 10.7°C\n",
      "   - [Norte] Moimenta da Beira: 44.5 pontos | Extremos: 13 | Máx: 19.8°C | Mín: 10.7°C\n",
      "   - [Norte] Penedono: 44.5 pontos | Extremos: 13 | Máx: 19.8°C | Mín: 10.7°C\n",
      "   - [Norte] Armamar: 44.5 pontos | Extremos: 13 | Máx: 19.8°C | Mín: 10.7°C\n",
      "   - [Norte] Ribeira de Pena: 44.5 pontos | Extremos: 13 | Máx: 19.8°C | Mín: 10.7°C\n",
      "   - [Norte] Santa Marta de Penaguiao: 44.5 pontos | Extremos: 13 | Máx: 19.8°C | Mín: 10.7°C\n",
      "   - [Norte] Sao Joao da Pesqueira: 44.5 pontos | Extremos: 13 | Máx: 19.8°C | Mín: 10.7°C\n",
      "   - [Norte] Peso da Regua: 44.5 pontos | Extremos: 13 | Máx: 19.8°C | Mín: 10.7°C\n",
      "   - [Norte] Murca: 44.5 pontos | Extremos: 13 | Máx: 19.8°C | Mín: 10.7°C\n",
      "   - [Norte] Torre de Moncorvo: 44.5 pontos | Extremos: 13 | Máx: 19.8°C | Mín: 10.7°C\n",
      "   - [Norte] Sernancelhe: 43.1 pontos | Extremos: 21 | Máx: 20.5°C | Mín: 9.9°C\n",
      "   - [Centro] Satao: 43.1 pontos | Extremos: 21 | Máx: 20.5°C | Mín: 9.9°C\n",
      "   - [Centro] Nelas: 43.1 pontos | Extremos: 21 | Máx: 20.5°C | Mín: 9.9°C\n",
      "   - [Centro] Carregal do Sal: 43.1 pontos | Extremos: 21 | Máx: 20.5°C | Mín: 9.9°C\n",
      "   - [Centro] Penalva do Castelo: 43.1 pontos | Extremos: 21 | Máx: 20.5°C | Mín: 9.9°C\n",
      "   - [Centro] Mangualde: 43.1 pontos | Extremos: 21 | Máx: 20.5°C | Mín: 9.9°C\n",
      "   - [Centro] Aguiar da Beira: 43.1 pontos | Extremos: 21 | Máx: 20.5°C | Mín: 9.9°C\n",
      "   - [Centro] Viseu: 43.1 pontos | Extremos: 21 | Máx: 20.5°C | Mín: 9.9°C\n",
      "   - [Centro] Castro Daire: 43.1 pontos | Extremos: 21 | Máx: 20.5°C | Mín: 9.9°C\n",
      "   - [Centro] Vila Nova de Paiva: 43.1 pontos | Extremos: 21 | Máx: 20.5°C | Mín: 9.9°C\n",
      "   - [Centro] Sao Pedro do Sul: 43.1 pontos | Extremos: 21 | Máx: 20.5°C | Mín: 9.9°C\n",
      "   - [Centro] Proenca-a-Nova: 42.6 pontos | Extremos: 50 | Máx: 22.4°C | Mín: 11.2°C\n",
      "   - [Centro] Idanha-a-Nova: 42.6 pontos | Extremos: 50 | Máx: 22.4°C | Mín: 11.2°C\n",
      "   - [Centro] Vila Velha de Rodao: 42.6 pontos | Extremos: 50 | Máx: 22.4°C | Mín: 11.2°C\n",
      "   - [Centro] Castelo Branco: 42.6 pontos | Extremos: 50 | Máx: 22.4°C | Mín: 11.2°C\n",
      "   - [Norte] Montalegre: 42.6 pontos | Extremos: 49 | Máx: 20.7°C | Mín: 8.5°C\n",
      "   - [Norte] Boticas: 42.6 pontos | Extremos: 49 | Máx: 20.7°C | Mín: 8.5°C\n",
      "   - [Norte] Chaves: 42.6 pontos | Extremos: 49 | Máx: 20.7°C | Mín: 8.5°C\n",
      "   - [Norte] Mirandela: 42.5 pontos | Extremos: 49 | Máx: 20.7°C | Mín: 8.5°C\n",
      "   - [Norte] Valpacos: 42.5 pontos | Extremos: 49 | Máx: 20.7°C | Mín: 8.5°C\n",
      "   - [Norte] Miranda do Douro: 42.0 pontos | Extremos: 41 | Máx: 19.5°C | Mín: 8.9°C\n",
      "   - [Alentejo] Mora: 41.9 pontos | Extremos: 41 | Máx: 19.5°C | Mín: 8.9°C\n",
      "   - [Norte] Freixo de Espada a Cinta: 41.9 pontos | Extremos: 41 | Máx: 19.5°C | Mín: 8.9°C\n",
      "   - [Norte] Alfandega da Fe: 41.9 pontos | Extremos: 41 | Máx: 19.5°C | Mín: 8.9°C\n",
      "   - [Norte] Vimioso: 41.9 pontos | Extremos: 41 | Máx: 19.5°C | Mín: 8.9°C\n",
      "   - [Norte] Mogadouro: 41.9 pontos | Extremos: 41 | Máx: 19.5°C | Mín: 8.9°C\n",
      "   - [Alentejo] Alter do Chao: 41.0 pontos | Extremos: 30 | Máx: 21.2°C | Mín: 11.7°C\n",
      "   - [Alentejo] Monforte: 41.0 pontos | Extremos: 30 | Máx: 21.2°C | Mín: 11.7°C\n",
      "   - [Alentejo] Portalegre: 41.0 pontos | Extremos: 30 | Máx: 21.2°C | Mín: 11.7°C\n",
      "   - [Alentejo] Crato: 41.0 pontos | Extremos: 30 | Máx: 21.2°C | Mín: 11.7°C\n",
      "   - [Alentejo] Castelo de Vide: 41.0 pontos | Extremos: 30 | Máx: 21.2°C | Mín: 11.7°C\n",
      "   - [Alentejo] Nisa: 41.0 pontos | Extremos: 30 | Máx: 21.2°C | Mín: 11.7°C\n",
      "   - [Alentejo] Arronches: 41.0 pontos | Extremos: 30 | Máx: 21.2°C | Mín: 11.7°C\n",
      "   - [Alentejo] Fronteira: 41.0 pontos | Extremos: 30 | Máx: 21.2°C | Mín: 11.7°C\n",
      "   - [Norte] Braganca: 40.4 pontos | Extremos: 43 | Máx: 19.4°C | Mín: 7.8°C\n",
      "   - [Norte] Macedo de Cavaleiros: 40.4 pontos | Extremos: 43 | Máx: 19.4°C | Mín: 7.8°C\n",
      "   - [Norte] Vinhais: 40.4 pontos | Extremos: 43 | Máx: 19.4°C | Mín: 7.8°C\n",
      "   - [Centro] Covilha: 39.8 pontos | Extremos: 44 | Máx: 20.5°C | Mín: 9.2°C\n",
      "   - [Centro] Fundao: 39.8 pontos | Extremos: 44 | Máx: 20.5°C | Mín: 9.2°C\n",
      "   - [Centro] Penamacor: 39.8 pontos | Extremos: 44 | Máx: 20.5°C | Mín: 9.2°C\n",
      "   - [Centro] Figueira de Castelo Rodrigo: 39.0 pontos | Extremos: 36 | Máx: 18.1°C | Mín: 8.2°C\n",
      "   - [Centro] Pinhel: 39.0 pontos | Extremos: 36 | Máx: 18.1°C | Mín: 8.2°C\n",
      "   - [Centro] Almeida: 39.0 pontos | Extremos: 36 | Máx: 18.1°C | Mín: 8.2°C\n",
      "   - [Centro] Sabugal: 39.0 pontos | Extremos: 36 | Máx: 18.1°C | Mín: 8.2°C\n",
      "   - [Centro] Celorico da Beira: 39.0 pontos | Extremos: 36 | Máx: 18.1°C | Mín: 8.2°C\n",
      "   - [Centro] Meda: 39.0 pontos | Extremos: 36 | Máx: 18.1°C | Mín: 8.2°C\n",
      "   - [Centro] Guarda: 39.0 pontos | Extremos: 36 | Máx: 18.1°C | Mín: 8.2°C\n",
      "   - [Centro] Oliveira do Hospital: 37.7 pontos | Extremos: 46 | Máx: 17.5°C | Mín: 7.5°C\n",
      "   - [Centro] Manteigas: 37.7 pontos | Extremos: 46 | Máx: 17.5°C | Mín: 7.5°C\n",
      "   - [Norte] Santa Maria da Feira: 37.7 pontos | Extremos: 46 | Máx: 17.5°C | Mín: 7.5°C\n",
      "   - [Centro] Fornos de Algodres: 37.7 pontos | Extremos: 46 | Máx: 17.5°C | Mín: 7.5°C\n",
      "   - [Alentejo] Chamusca: 37.7 pontos | Extremos: 46 | Máx: 17.5°C | Mín: 7.5°C\n",
      "   - [Centro] Seia: 37.7 pontos | Extremos: 46 | Máx: 17.5°C | Mín: 7.5°C\n",
      "   - [Centro] Gouveia: 37.7 pontos | Extremos: 46 | Máx: 17.5°C | Mín: 7.5°C\n",
      "\n"
     ]
    }
   ],
   "source": [
    "weatherClassifier.cidades_ranking(df_resumo_geral,score_tipe='media_score') # media_score_continuous | media_score"
   ]
  },
  {
   "cell_type": "code",
   "execution_count": 16,
   "id": "2ace23a0",
   "metadata": {},
   "outputs": [
    {
     "name": "stdout",
     "output_type": "stream",
     "text": [
      "🏆 Ranking das cidades pelo TCI Anual 🏆\n",
      "\n",
      "01. ('Região Autónoma da Madeira', 'Machico') -  | TCI Anual: 50.2\n",
      "02. ('Região Autónoma da Madeira', 'Santa Cruz') -  | TCI Anual: 50.2\n",
      "03. ('Algarve', 'Lagos') -  | TCI Anual: 49.5\n",
      "04. ('Algarve', 'Portimao') -  | TCI Anual: 49.4\n",
      "05. ('Região Autónoma da Madeira', 'Porto Santo') -  | TCI Anual: 49.0\n",
      "06. ('Algarve', 'Olhao') -  | TCI Anual: 48.9\n",
      "07. ('Centro', 'Belmonte') -  | TCI Anual: 48.8\n",
      "08. ('Centro', 'Batalha') -  | TCI Anual: 48.8\n",
      "09. ('Centro', 'Leiria') -  | TCI Anual: 48.8\n",
      "10. ('Centro', 'Marinha Grande') -  | TCI Anual: 48.8\n",
      "11. ('Algarve', 'Faro') -  | TCI Anual: 48.8\n",
      "12. ('Norte', 'Espinho') -  | TCI Anual: 48.3\n",
      "13. ('Centro', 'Ovar') -  | TCI Anual: 48.3\n",
      "14. ('Norte', 'Sao Joao da Madeira') -  | TCI Anual: 48.3\n",
      "15. ('Algarve', 'Alcoutim') -  | TCI Anual: 48.2\n",
      "16. ('Algarve', 'Vila Real de Santo Antonio') -  | TCI Anual: 48.2\n",
      "17. ('Norte', 'Arouca') -  | TCI Anual: 48.2\n",
      "18. ('Algarve', 'Castro Marim') -  | TCI Anual: 48.1\n",
      "19. ('Alentejo', 'Avis') -  | TCI Anual: 48.1\n",
      "20. ('Algarve', 'Tavira') -  | TCI Anual: 48.1\n",
      "21. ('Alentejo', 'Gaviao') -  | TCI Anual: 48.1\n",
      "22. ('Centro', 'Lourinha') -  | TCI Anual: 48.0\n",
      "23. ('Centro', 'Sobral de Monte Agraco') -  | TCI Anual: 48.0\n",
      "24. ('Centro', 'Torres Vedras') -  | TCI Anual: 48.0\n",
      "25. ('Centro', 'Agueda') -  | TCI Anual: 47.9\n",
      "26. ('Centro', 'Oliveira do Bairro') -  | TCI Anual: 47.9\n",
      "27. ('Centro', 'Anadia') -  | TCI Anual: 47.9\n",
      "28. ('Centro', 'Vagos') -  | TCI Anual: 47.8\n",
      "29. ('Centro', 'Murtosa') -  | TCI Anual: 47.8\n",
      "30. ('Centro', 'Ilhavo') -  | TCI Anual: 47.8\n",
      "31. ('Centro', 'Aveiro') -  | TCI Anual: 47.8\n",
      "32. ('Centro', 'Albergaria-a-Velha') -  | TCI Anual: 47.8\n",
      "33. ('Área Metropolitana de Lisboa', 'Alcochete') -  | TCI Anual: 47.5\n",
      "34. ('Área Metropolitana de Lisboa', 'Montijo') -  | TCI Anual: 47.5\n",
      "35. ('Área Metropolitana de Lisboa', 'Moita') -  | TCI Anual: 47.5\n",
      "36. ('Brasil', 'sao paulo') -  | TCI Anual: 47.4\n",
      "37. ('Área Metropolitana de Lisboa', 'Barreiro') -  | TCI Anual: 47.4\n",
      "38. ('Área Metropolitana de Lisboa', 'Almada') -  | TCI Anual: 47.4\n",
      "39. ('Área Metropolitana de Lisboa', 'Oeiras') -  | TCI Anual: 47.3\n",
      "40. ('Norte', 'Valongo') -  | TCI Anual: 47.2\n",
      "41. ('Norte', 'Gondomar') -  | TCI Anual: 47.2\n",
      "42. ('Centro', 'Porto de Mos') -  | TCI Anual: 47.2\n",
      "43. ('Centro', 'Alcobaca') -  | TCI Anual: 47.2\n",
      "44. ('Centro', 'Nazare') -  | TCI Anual: 47.2\n",
      "45. ('Algarve', 'Albufeira') -  | TCI Anual: 47.0\n",
      "46. ('Algarve', 'Silves') -  | TCI Anual: 47.0\n",
      "47. ('Região Autónoma dos Açores', 'Lagoa [R.A.A.]') -  | TCI Anual: 47.0\n",
      "48. ('Norte', 'Barcelos') -  | TCI Anual: 46.9\n",
      "49. ('Norte', 'Esposende') -  | TCI Anual: 46.9\n",
      "50. ('Alentejo', 'Alcacer do Sal') -  | TCI Anual: 46.8\n",
      "51. ('Área Metropolitana de Lisboa', 'Setubal') -  | TCI Anual: 46.8\n",
      "52. ('Área Metropolitana de Lisboa', 'Palmela') -  | TCI Anual: 46.8\n",
      "53. ('Área Metropolitana de Lisboa', 'Sesimbra') -  | TCI Anual: 46.8\n",
      "54. ('Centro', 'Figueiro dos Vinhos') -  | TCI Anual: 46.5\n",
      "55. ('Alentejo', 'Alvito') -  | TCI Anual: 46.5\n",
      "56. ('Centro', 'Pombal') -  | TCI Anual: 46.5\n",
      "57. ('Centro', 'Alvaiazere') -  | TCI Anual: 46.5\n",
      "58. ('Centro', 'Soure') -  | TCI Anual: 46.5\n",
      "59. ('Área Metropolitana de Lisboa', 'Sintra') -  | TCI Anual: 46.4\n",
      "60. ('Norte', 'Porto') -  | TCI Anual: 46.3\n",
      "61. ('Centro', 'Montemor-o-Velho') -  | TCI Anual: 46.3\n",
      "62. ('Norte', 'Vila Nova de Gaia') -  | TCI Anual: 46.3\n",
      "63. ('Centro', 'Figueira da Foz') -  | TCI Anual: 46.3\n",
      "64. ('Alentejo', 'Santarem') -  | TCI Anual: 46.2\n",
      "65. ('Alentejo', 'Coruche') -  | TCI Anual: 46.2\n",
      "66. ('Alentejo', 'Cartaxo') -  | TCI Anual: 46.2\n",
      "67. ('Alentejo', 'Alpiarca') -  | TCI Anual: 46.2\n",
      "68. ('Alentejo', 'Almeirim') -  | TCI Anual: 46.2\n",
      "69. ('Região Autónoma dos Açores', 'Vila Franca do Campo') -  | TCI Anual: 46.1\n",
      "70. ('Região Autónoma dos Açores', 'Nordeste') -  | TCI Anual: 46.1\n",
      "71. ('Região Autónoma dos Açores', 'Ponta Delgada') -  | TCI Anual: 46.1\n",
      "72. ('Centro', 'Cantanhede') -  | TCI Anual: 46.0\n",
      "73. ('Alentejo', 'Marvao') -  | TCI Anual: 46.0\n",
      "74. ('Centro', 'Mira') -  | TCI Anual: 46.0\n",
      "75. ('Centro', 'Mealhada') -  | TCI Anual: 46.0\n",
      "76. ('Área Metropolitana de Lisboa', 'Odivelas') -  | TCI Anual: 46.0\n",
      "77. ('Área Metropolitana de Lisboa', 'Loures') -  | TCI Anual: 46.0\n",
      "78. ('Área Metropolitana de Lisboa', 'Lisboa') -  | TCI Anual: 46.0\n",
      "79. ('Área Metropolitana de Lisboa', 'Seixal') -  | TCI Anual: 45.6\n",
      "80. ('Área Metropolitana de Lisboa', 'Mafra') -  | TCI Anual: 45.6\n",
      "81. ('Centro', 'Cadaval') -  | TCI Anual: 45.5\n",
      "82. ('Centro', 'Caldas da Rainha') -  | TCI Anual: 45.5\n",
      "83. ('Centro', 'Bombarral') -  | TCI Anual: 45.5\n",
      "84. ('Norte', 'Caminha') -  | TCI Anual: 45.5\n",
      "85. ('Centro', 'Peniche') -  | TCI Anual: 45.5\n",
      "86. ('Norte', 'Moncao') -  | TCI Anual: 45.5\n",
      "87. ('Alentejo', 'Rio Maior') -  | TCI Anual: 45.5\n",
      "88. ('Centro', 'Obidos') -  | TCI Anual: 45.5\n",
      "89. ('Norte', 'Viana do Castelo') -  | TCI Anual: 45.5\n",
      "90. ('Norte', 'Valenca') -  | TCI Anual: 45.4\n",
      "91. ('Norte', 'Melgaco') -  | TCI Anual: 45.4\n",
      "92. ('Área Metropolitana de Lisboa', 'Amadora') -  | TCI Anual: 45.4\n",
      "93. ('Centro', 'Sever do Vouga') -  | TCI Anual: 45.3\n",
      "94. ('Alentejo', 'Vidigueira') -  | TCI Anual: 45.3\n",
      "95. ('Região Autónoma da Madeira', 'Sao Vicente') -  | TCI Anual: 45.3\n",
      "96. ('Norte', 'Vale de Cambra') -  | TCI Anual: 45.3\n",
      "97. ('Norte', 'Oliveira de Azemeis') -  | TCI Anual: 45.3\n",
      "98. ('Centro', 'Estarreja') -  | TCI Anual: 45.3\n",
      "99. ('Centro', 'Vila de Rei') -  | TCI Anual: 45.3\n",
      "100. ('Área Metropolitana de Lisboa', 'Vila Franca de Xira') -  | TCI Anual: 45.3\n",
      "101. ('Alentejo', 'Salvaterra de Magos') -  | TCI Anual: 45.3\n",
      "102. ('Centro', 'Alenquer') -  | TCI Anual: 45.3\n",
      "103. ('Alentejo', 'Azambuja') -  | TCI Anual: 45.3\n",
      "104. ('Centro', 'Arruda dos Vinhos') -  | TCI Anual: 45.3\n",
      "105. ('Alentejo', 'Benavente') -  | TCI Anual: 45.3\n",
      "106. ('Alentejo', 'Sines') -  | TCI Anual: 45.3\n",
      "107. ('Alentejo', 'Grandola') -  | TCI Anual: 45.3\n",
      "108. ('Alentejo', 'Santiago do Cacem') -  | TCI Anual: 45.3\n",
      "109. ('Centro', 'Ourem') -  | TCI Anual: 45.2\n",
      "110. ('Área Metropolitana de Lisboa', 'Cascais') -  | TCI Anual: 45.1\n",
      "111. ('Alentejo', 'Ourique') -  | TCI Anual: 45.0\n",
      "112. ('Algarve', 'Aljezur') -  | TCI Anual: 45.0\n",
      "113. ('Algarve', 'Monchique') -  | TCI Anual: 45.0\n",
      "114. ('Norte', 'Baiao') -  | TCI Anual: 45.0\n",
      "115. ('Alentejo', 'Odemira') -  | TCI Anual: 45.0\n",
      "116. ('Alentejo', 'Almodovar') -  | TCI Anual: 45.0\n",
      "117. ('Algarve', 'Loule') -  | TCI Anual: 45.0\n",
      "118. ('Região Autónoma dos Açores', 'Angra do Heroismo') -  | TCI Anual: 44.9\n",
      "119. ('Região Autónoma dos Açores', 'Povoacao') -  | TCI Anual: 44.9\n",
      "120. ('Norte', 'Santo Tirso') -  | TCI Anual: 44.9\n",
      "121. ('Norte', 'Vila Nova de Famalicao') -  | TCI Anual: 44.9\n",
      "122. ('Algarve', 'Vila do Bispo') -  | TCI Anual: 44.8\n",
      "123. ('Norte', 'Matosinhos') -  | TCI Anual: 44.7\n",
      "124. ('Norte', 'Povoa de Varzim') -  | TCI Anual: 44.7\n",
      "125. ('Norte', 'Maia') -  | TCI Anual: 44.7\n",
      "126. ('Região Autónoma dos Açores', 'Vila do Porto') -  | TCI Anual: 44.7\n",
      "127. ('Centro', 'Sardoal') -  | TCI Anual: 44.7\n",
      "128. ('Norte', 'Vila do Conde') -  | TCI Anual: 44.7\n",
      "129. ('Alentejo', 'Mourao') -  | TCI Anual: 44.7\n",
      "130. ('Região Autónoma dos Açores', 'Calheta [R.A.A.]') -  | TCI Anual: 44.7\n",
      "131. ('Região Autónoma da Madeira', 'Porto Moniz') -  | TCI Anual: 44.7\n",
      "132. ('Região Autónoma da Madeira', 'Calheta [R.A.M.]') -  | TCI Anual: 44.7\n",
      "133. ('Região Autónoma da Madeira', 'Camara de Lobos') -  | TCI Anual: 44.6\n",
      "134. ('Região Autónoma da Madeira', 'Funchal') -  | TCI Anual: 44.6\n",
      "135. ('Região Autónoma da Madeira', 'Ponta do Sol') -  | TCI Anual: 44.6\n",
      "136. ('Região Autónoma da Madeira', 'Ribeira Brava') -  | TCI Anual: 44.6\n",
      "137. ('Região Autónoma da Madeira', 'Santana') -  | TCI Anual: 44.6\n",
      "138. ('Centro', 'Penela') -  | TCI Anual: 44.5\n",
      "139. ('Centro', 'Gois') -  | TCI Anual: 44.5\n",
      "140. ('Centro', 'Condeixa-a-Nova') -  | TCI Anual: 44.5\n",
      "141. ('Norte', 'Vila Flor') -  | TCI Anual: 44.5\n",
      "142. ('Centro', 'Coimbra') -  | TCI Anual: 44.5\n",
      "143. ('Centro', 'Arganil') -  | TCI Anual: 44.5\n",
      "144. ('Centro', 'Castanheira de Pera') -  | TCI Anual: 44.5\n",
      "145. ('Centro', 'Miranda do Corvo') -  | TCI Anual: 44.5\n",
      "146. ('Centro', 'Pedrogao Grande') -  | TCI Anual: 44.5\n",
      "147. ('Centro', 'Lousa') -  | TCI Anual: 44.5\n",
      "148. ('Centro', 'Pampilhosa da Serra') -  | TCI Anual: 44.5\n",
      "149. ('Centro', 'Penacova') -  | TCI Anual: 44.5\n",
      "150. ('Centro', 'Torres Novas') -  | TCI Anual: 44.4\n",
      "151. ('Centro', 'Alcanena') -  | TCI Anual: 44.4\n",
      "152. ('Centro', 'Vila Nova da Barquinha') -  | TCI Anual: 44.4\n",
      "153. ('Alentejo', 'Golega') -  | TCI Anual: 44.4\n",
      "154. ('Centro', 'Entroncamento') -  | TCI Anual: 44.4\n",
      "155. ('Algarve', 'Sao Bras de Alportel') -  | TCI Anual: 44.3\n",
      "156. ('Região Autónoma dos Açores', 'Madalena') -  | TCI Anual: 44.2\n",
      "157. ('Norte', 'Penafiel') -  | TCI Anual: 44.2\n",
      "158. ('Norte', 'Paredes') -  | TCI Anual: 44.2\n",
      "159. ('Norte', 'Pacos de Ferreira') -  | TCI Anual: 44.2\n",
      "160. ('Norte', 'Lousada') -  | TCI Anual: 44.2\n",
      "161. ('Região Autónoma dos Açores', 'Vila da Praia da Vitoria') -  | TCI Anual: 44.0\n",
      "162. ('Norte', 'Vila Nova de Cerveira') -  | TCI Anual: 44.0\n",
      "163. ('Norte', 'Ponte de Lima') -  | TCI Anual: 44.0\n",
      "164. ('Norte', 'Ponte da Barca') -  | TCI Anual: 44.0\n",
      "165. ('Norte', 'Arcos de Valdevez') -  | TCI Anual: 44.0\n",
      "166. ('Norte', 'Paredes de Coura') -  | TCI Anual: 44.0\n",
      "167. ('Centro', 'Serta') -  | TCI Anual: 43.7\n",
      "168. ('Centro', 'Ferreira do Zezere') -  | TCI Anual: 43.7\n",
      "169. ('Centro', 'Tomar') -  | TCI Anual: 43.7\n",
      "170. ('Norte', 'Mesao Frio') -  | TCI Anual: 43.5\n",
      "171. ('Norte', 'Guimaraes') -  | TCI Anual: 43.5\n",
      "172. ('Norte', 'Vizela') -  | TCI Anual: 43.5\n",
      "173. ('Norte', 'Braga') -  | TCI Anual: 43.5\n",
      "174. ('Centro', 'Oleiros') -  | TCI Anual: 43.5\n",
      "175. ('Norte', 'Povoa de Lanhoso') -  | TCI Anual: 43.5\n",
      "176. ('Região Autónoma dos Açores', 'Ribeira Grande') -  | TCI Anual: 43.5\n",
      "177. ('Região Autónoma dos Açores', 'Horta') -  | TCI Anual: 43.5\n",
      "178. ('Algarve', 'Lagoa') -  | TCI Anual: 43.4\n",
      "179. ('Região Autónoma dos Açores', 'Lajes do Pico') -  | TCI Anual: 43.4\n",
      "180. ('Região Autónoma dos Açores', 'Velas') -  | TCI Anual: 43.4\n",
      "181. ('Região Autónoma dos Açores', 'Santa Cruz da Graciosa') -  | TCI Anual: 43.4\n",
      "182. ('Região Autónoma dos Açores', 'Sao Roque do Pico') -  | TCI Anual: 43.4\n",
      "183. ('Norte', 'Celorico de Basto') -  | TCI Anual: 43.3\n",
      "184. ('Norte', 'Amarante') -  | TCI Anual: 43.3\n",
      "185. ('Centro', 'Abrantes') -  | TCI Anual: 43.0\n",
      "186. ('Centro', 'Constancia') -  | TCI Anual: 43.0\n",
      "187. ('Centro', 'Ansiao') -  | TCI Anual: 43.0\n",
      "188. ('Centro', 'Macao') -  | TCI Anual: 43.0\n",
      "189. ('Alentejo', 'Ponte de Sor') -  | TCI Anual: 43.0\n",
      "190. ('Alentejo', 'Arraiolos') -  | TCI Anual: 42.7\n",
      "191. ('Alentejo', 'Montemor-o-Novo') -  | TCI Anual: 42.7\n",
      "192. ('Alentejo', 'Vendas Novas') -  | TCI Anual: 42.7\n",
      "193. ('Norte', 'Amares') -  | TCI Anual: 42.6\n",
      "194. ('Norte', 'Terras de Bouro') -  | TCI Anual: 42.6\n",
      "195. ('Norte', 'Vila Verde') -  | TCI Anual: 42.6\n",
      "196. ('Centro', 'Trancoso') -  | TCI Anual: 42.4\n",
      "197. ('Norte', 'Marco de Canaveses') -  | TCI Anual: 42.4\n",
      "198. ('Norte', 'Castelo de Paiva') -  | TCI Anual: 42.4\n",
      "199. ('Norte', 'Cinfaes') -  | TCI Anual: 42.4\n",
      "200. ('Norte', 'Resende') -  | TCI Anual: 42.4\n",
      "201. ('Norte', 'Mondim de Basto') -  | TCI Anual: 42.2\n",
      "202. ('Norte', 'Trofa') -  | TCI Anual: 42.2\n",
      "203. ('Norte', 'Fafe') -  | TCI Anual: 42.2\n",
      "204. ('Norte', 'Vieira do Minho') -  | TCI Anual: 42.2\n",
      "205. ('Norte', 'Cabeceiras de Basto') -  | TCI Anual: 42.2\n",
      "206. ('Norte', 'Felgueiras') -  | TCI Anual: 42.2\n",
      "207. ('Centro', 'Mangualde') -  | TCI Anual: 42.0\n",
      "208. ('Centro', 'Satao') -  | TCI Anual: 42.0\n",
      "209. ('Norte', 'Sernancelhe') -  | TCI Anual: 42.0\n",
      "210. ('Centro', 'Aguiar da Beira') -  | TCI Anual: 42.0\n",
      "211. ('Centro', 'Penalva do Castelo') -  | TCI Anual: 42.0\n",
      "212. ('Centro', 'Vila Nova de Paiva') -  | TCI Anual: 42.0\n",
      "213. ('Centro', 'Castro Daire') -  | TCI Anual: 42.0\n",
      "214. ('Centro', 'Nelas') -  | TCI Anual: 42.0\n",
      "215. ('Centro', 'Carregal do Sal') -  | TCI Anual: 42.0\n",
      "216. ('Centro', 'Sao Pedro do Sul') -  | TCI Anual: 42.0\n",
      "217. ('Centro', 'Viseu') -  | TCI Anual: 42.0\n",
      "218. ('Alentejo', 'Barrancos') -  | TCI Anual: 41.8\n",
      "219. ('Alentejo', 'Elvas') -  | TCI Anual: 41.7\n",
      "220. ('Alentejo', 'Campo Maior') -  | TCI Anual: 41.7\n",
      "221. ('Norte', 'Mirandela') -  | TCI Anual: 41.6\n",
      "222. ('Norte', 'Chaves') -  | TCI Anual: 41.6\n",
      "223. ('Norte', 'Valpacos') -  | TCI Anual: 41.6\n",
      "224. ('Norte', 'Montalegre') -  | TCI Anual: 41.6\n",
      "225. ('Norte', 'Boticas') -  | TCI Anual: 41.6\n",
      "226. ('Alentejo', 'Alter do Chao') -  | TCI Anual: 41.5\n",
      "227. ('Alentejo', 'Fronteira') -  | TCI Anual: 41.5\n",
      "228. ('Alentejo', 'Arronches') -  | TCI Anual: 41.5\n",
      "229. ('Alentejo', 'Crato') -  | TCI Anual: 41.5\n",
      "230. ('Alentejo', 'Castelo de Vide') -  | TCI Anual: 41.5\n",
      "231. ('Alentejo', 'Portalegre') -  | TCI Anual: 41.5\n",
      "232. ('Alentejo', 'Monforte') -  | TCI Anual: 41.5\n",
      "233. ('Alentejo', 'Nisa') -  | TCI Anual: 41.5\n",
      "234. ('Alentejo', 'Evora') -  | TCI Anual: 41.4\n",
      "235. ('Alentejo', 'Reguengos de Monsaraz') -  | TCI Anual: 41.4\n",
      "236. ('Alentejo', 'Sousel') -  | TCI Anual: 41.4\n",
      "237. ('Alentejo', 'Viana do Alentejo') -  | TCI Anual: 41.4\n",
      "238. ('Alentejo', 'Estremoz') -  | TCI Anual: 41.4\n",
      "239. ('Alentejo', 'Borba') -  | TCI Anual: 41.4\n",
      "240. ('Alentejo', 'Vila Vicosa') -  | TCI Anual: 41.4\n",
      "241. ('Alentejo', 'Redondo') -  | TCI Anual: 41.4\n",
      "242. ('Alentejo', 'Portel') -  | TCI Anual: 41.4\n",
      "243. ('Alentejo', 'Alandroal') -  | TCI Anual: 41.4\n",
      "244. ('Norte', 'Torre de Moncorvo') -  | TCI Anual: 41.4\n",
      "245. ('Norte', 'Moimenta da Beira') -  | TCI Anual: 41.3\n",
      "246. ('Norte', 'Penedono') -  | TCI Anual: 41.3\n",
      "247. ('Norte', 'Murca') -  | TCI Anual: 41.3\n",
      "248. ('Centro', 'Vila Nova de Poiares') -  | TCI Anual: 41.3\n",
      "249. ('Norte', 'Vila Real') -  | TCI Anual: 41.3\n",
      "250. ('Norte', 'Vila Pouca de Aguiar') -  | TCI Anual: 41.3\n",
      "251. ('Norte', 'Peso da Regua') -  | TCI Anual: 41.3\n",
      "252. ('Norte', 'Armamar') -  | TCI Anual: 41.3\n",
      "253. ('Norte', 'Carrazeda de Ansiaes') -  | TCI Anual: 41.3\n",
      "254. ('Norte', 'Alijo') -  | TCI Anual: 41.3\n",
      "255. ('Norte', 'Lamego') -  | TCI Anual: 41.3\n",
      "256. ('Norte', 'Sao Joao da Pesqueira') -  | TCI Anual: 41.3\n",
      "257. ('Norte', 'Tabuaco') -  | TCI Anual: 41.3\n",
      "258. ('Norte', 'Tarouca') -  | TCI Anual: 41.3\n",
      "259. ('Norte', 'Santa Marta de Penaguiao') -  | TCI Anual: 41.3\n",
      "260. ('Norte', 'Ribeira de Pena') -  | TCI Anual: 41.3\n",
      "261. ('Norte', 'Vila Nova de Foz Coa') -  | TCI Anual: 41.3\n",
      "262. ('Centro', 'Oliveira de Frades') -  | TCI Anual: 41.1\n",
      "263. ('Centro', 'Mortagua') -  | TCI Anual: 41.1\n",
      "264. ('Centro', 'Vouzela') -  | TCI Anual: 41.1\n",
      "265. ('Centro', 'Tabua') -  | TCI Anual: 41.1\n",
      "266. ('Norte', 'Sabrosa') -  | TCI Anual: 41.1\n",
      "267. ('Centro', 'Santa Comba Dao') -  | TCI Anual: 41.1\n",
      "268. ('Centro', 'Tondela') -  | TCI Anual: 41.1\n",
      "269. ('Alentejo', 'Serpa') -  | TCI Anual: 40.9\n",
      "270. ('Alentejo', 'Castro Verde') -  | TCI Anual: 40.9\n",
      "271. ('Alentejo', 'Moura') -  | TCI Anual: 40.9\n",
      "272. ('Alentejo', 'Cuba') -  | TCI Anual: 40.9\n",
      "273. ('Alentejo', 'Ferreira do Alentejo') -  | TCI Anual: 40.9\n",
      "274. ('Alentejo', 'Mertola') -  | TCI Anual: 40.9\n",
      "275. ('Alentejo', 'Beja') -  | TCI Anual: 40.9\n",
      "276. ('Alentejo', 'Aljustrel') -  | TCI Anual: 40.9\n",
      "277. ('Região Autónoma dos Açores', 'Santa Cruz das Flores') -  | TCI Anual: 40.8\n",
      "278. ('Centro', 'Idanha-a-Nova') -  | TCI Anual: 40.8\n",
      "279. ('Centro', 'Castelo Branco') -  | TCI Anual: 40.8\n",
      "280. ('Centro', 'Proenca-a-Nova') -  | TCI Anual: 40.8\n",
      "281. ('Centro', 'Vila Velha de Rodao') -  | TCI Anual: 40.8\n",
      "282. ('Região Autónoma dos Açores', 'Corvo') -  | TCI Anual: 40.8\n",
      "283. ('Região Autónoma dos Açores', 'Lajes das Flores') -  | TCI Anual: 40.8\n",
      "284. ('Alentejo', 'Mora') -  | TCI Anual: 40.2\n",
      "285. ('Norte', 'Mogadouro') -  | TCI Anual: 40.2\n",
      "286. ('Norte', 'Alfandega da Fe') -  | TCI Anual: 40.2\n",
      "287. ('Norte', 'Freixo de Espada a Cinta') -  | TCI Anual: 40.2\n",
      "288. ('Norte', 'Vimioso') -  | TCI Anual: 40.2\n",
      "289. ('Norte', 'Miranda do Douro') -  | TCI Anual: 40.1\n",
      "290. ('Norte', 'Vinhais') -  | TCI Anual: 40.0\n",
      "291. ('Norte', 'Macedo de Cavaleiros') -  | TCI Anual: 40.0\n",
      "292. ('Norte', 'Braganca') -  | TCI Anual: 40.0\n",
      "293. ('Centro', 'Fundao') -  | TCI Anual: 40.0\n",
      "294. ('Centro', 'Penamacor') -  | TCI Anual: 40.0\n",
      "295. ('Centro', 'Covilha') -  | TCI Anual: 40.0\n",
      "296. ('Centro', 'Figueira de Castelo Rodrigo') -  | TCI Anual: 37.3\n",
      "297. ('Centro', 'Almeida') -  | TCI Anual: 37.3\n",
      "298. ('Centro', 'Sabugal') -  | TCI Anual: 37.3\n",
      "299. ('Centro', 'Pinhel') -  | TCI Anual: 37.3\n",
      "300. ('Centro', 'Guarda') -  | TCI Anual: 37.3\n",
      "301. ('Centro', 'Meda') -  | TCI Anual: 37.3\n",
      "302. ('Centro', 'Celorico da Beira') -  | TCI Anual: 37.3\n",
      "303. ('Alentejo', 'Chamusca') -  | TCI Anual: 35.9\n",
      "304. ('Norte', 'Santa Maria da Feira') -  | TCI Anual: 35.9\n",
      "305. ('Centro', 'Seia') -  | TCI Anual: 35.9\n",
      "306. ('Centro', 'Gouveia') -  | TCI Anual: 35.9\n",
      "307. ('Centro', 'Oliveira do Hospital') -  | TCI Anual: 35.9\n",
      "308. ('Centro', 'Fornos de Algodres') -  | TCI Anual: 35.9\n",
      "309. ('Centro', 'Manteigas') -  | TCI Anual: 35.9\n"
     ]
    }
   ],
   "source": [
    "weatherClassifier.cidades_ranking_tci(df_tci)"
   ]
  },
  {
   "cell_type": "code",
   "execution_count": 17,
   "id": "fd7cd0fa",
   "metadata": {},
   "outputs": [],
   "source": [
    "df_geo = weatherClassifier.load_municipio_geo()"
   ]
  },
  {
   "cell_type": "code",
   "execution_count": 18,
   "id": "ccaa9cff",
   "metadata": {},
   "outputs": [],
   "source": [
    "df_resumo_geral_geo = weatherClassifier.merge_geo_with_weather(df_resumo_geral, df_geo)"
   ]
  },
  {
   "cell_type": "code",
   "execution_count": 19,
   "id": "4ab2f837",
   "metadata": {},
   "outputs": [
    {
     "name": "stdout",
     "output_type": "stream",
     "text": [
      "Todas as cidades estão corretamente localizadas em Portugal.\n"
     ]
    },
    {
     "data": {
      "image/png": "[encoded data removed]",
      "text/plain": [
       "<Figure size 1100x1300 with 1 Axes>"
      ]
     },
     "metadata": {},
     "output_type": "display_data"
    }
   ],
   "source": [
    "weatherClassifier.plot_map(df_resumo_geral_geo)"
   ]
  },
  {
   "cell_type": "code",
   "execution_count": 20,
   "id": "bb70fbff",
   "metadata": {},
   "outputs": [
    {
     "data": {
      "application/vnd.plotly.v1+json": {
       "config": {
        "plotlyServerURL": "https://plot.ly"
       },
       "data": [
        {
         "hovertemplate": "Tipo=media_maxtemp<br>Ano-Mês=%{x}<br>Temperatura (°C)=%{y}<extra></extra>",
         "legendgroup": "media_maxtemp",
         "line": {
          "color": "red",
          "dash": "solid"
         },
         "marker": {
          "symbol": "circle"
         },
         "mode": "lines",
         "name": "MaxTemp (mean)",
         "orientation": "v",
         "showlegend": true,
         "type": "scatter",
         "x": [
          "2024-06",
          "2024-07",
          "2024-08",
          "2024-09",
          "2024-10",
          "2024-11",
          "2024-12",
          "2025-01",
          "2025-02",
          "2025-03",
          "2025-04",
          "2025-05",
          "2025-06"
         ],
         "xaxis": "x",
         "y": {
          "bdata": "AAAAAAAAN0DGGGOMMcY9QBFCCCGEED5AmpmZmZmZOUAyxhhjjDE1QN7d3d3dXTJAIYQQQgghLkDnnHPOOecsQEmSJEmSpC1ApZRSSimlLEDv7u7u7u4xQJ1zzjnnnDZAiYiIiIgIPkA=",
          "dtype": "f8"
         },
         "yaxis": "y"
        },
        {
         "hovertemplate": "Tipo=media_mintemp<br>Ano-Mês=%{x}<br>Temperatura (°C)=%{y}<extra></extra>",
         "legendgroup": "media_mintemp",
         "line": {
          "color": "blue",
          "dash": "solid"
         },
         "marker": {
          "symbol": "circle"
         },
         "mode": "lines",
         "name": "MinTemp (mean)",
         "orientation": "v",
         "showlegend": true,
         "type": "scatter",
         "x": [
          "2024-06",
          "2024-07",
          "2024-08",
          "2024-09",
          "2024-10",
          "2024-11",
          "2024-12",
          "2025-01",
          "2025-02",
          "2025-03",
          "2025-04",
          "2025-05",
          "2025-06"
         ],
         "xaxis": "x",
         "y": {
          "bdata": "AAAAAAAAKkAIIYQQQggxQJ1zzjnnnDFAd3d3d3d3LUBCCCGEEEIsQO/u7u7u7ihAOuecc845H0BrrbXWWmshQCVJkiRJkh9AAAAAAAAAIEDNzMzMzMwkQBljjDHGGClAZmZmZmbmMEA=",
          "dtype": "f8"
         },
         "yaxis": "y"
        }
       ],
       "layout": {
        "annotations": [
         {
          "arrowhead": 2,
          "ax": 0,
          "ay": -30,
          "bgcolor": "white",
          "bordercolor": "gray",
          "borderpad": 4,
          "borderwidth": 1,
          "font": {
           "color": "black",
           "size": 12
          },
          "showarrow": true,
          "text": "Summer",
          "x": "2024-06",
          "y": 30.06451612903226
         },
         {
          "arrowhead": 2,
          "ax": 0,
          "ay": -30,
          "bgcolor": "white",
          "bordercolor": "gray",
          "borderpad": 4,
          "borderwidth": 1,
          "font": {
           "color": "black",
           "size": 12
          },
          "showarrow": true,
          "text": "Autumn",
          "x": "2024-09",
          "y": 30.06451612903226
         },
         {
          "arrowhead": 2,
          "ax": 0,
          "ay": -30,
          "bgcolor": "white",
          "bordercolor": "gray",
          "borderpad": 4,
          "borderwidth": 1,
          "font": {
           "color": "black",
           "size": 12
          },
          "showarrow": true,
          "text": "Winter",
          "x": "2024-12",
          "y": 30.06451612903226
         },
         {
          "arrowhead": 2,
          "ax": 0,
          "ay": -30,
          "bgcolor": "white",
          "bordercolor": "gray",
          "borderpad": 4,
          "borderwidth": 1,
          "font": {
           "color": "black",
           "size": 12
          },
          "showarrow": true,
          "text": "Spring",
          "x": "2025-03",
          "y": 30.06451612903226
         }
        ],
        "legend": {
         "title": {
          "text": "Tipo"
         },
         "tracegroupgap": 0
        },
        "shapes": [
         {
          "line": {
           "color": "gray",
           "dash": "dash",
           "width": 2
          },
          "type": "line",
          "x0": "2024-06",
          "x1": "2024-06",
          "xref": "x",
          "y0": 7.806451612903226,
          "y1": 30.06451612903226,
          "yref": "y"
         },
         {
          "line": {
           "color": "gray",
           "dash": "dash",
           "width": 2
          },
          "type": "line",
          "x0": "2024-09",
          "x1": "2024-09",
          "xref": "x",
          "y0": 7.806451612903226,
          "y1": 30.06451612903226,
          "yref": "y"
         },
         {
          "line": {
           "color": "gray",
           "dash": "dash",
           "width": 2
          },
          "type": "line",
          "x0": "2024-12",
          "x1": "2024-12",
          "xref": "x",
          "y0": 7.806451612903226,
          "y1": 30.06451612903226,
          "yref": "y"
         },
         {
          "line": {
           "color": "gray",
           "dash": "dash",
           "width": 2
          },
          "type": "line",
          "x0": "2025-03",
          "x1": "2025-03",
          "xref": "x",
          "y0": 7.806451612903226,
          "y1": 30.06451612903226,
          "yref": "y"
         }
        ],
        "template": {
         "data": {
          "bar": [
           {
            "error_x": {
             "color": "#2a3f5f"
            },
            "error_y": {
             "color": "#2a3f5f"
            },
            "marker": {
             "line": {
              "color": "white",
              "width": 0.5
             },
             "pattern": {
              "fillmode": "overlay",
              "size": 10,
              "solidity": 0.2
             }
            },
            "type": "bar"
           }
          ],
          "barpolar": [
           {
            "marker": {
             "line": {
              "color": "white",
              "width": 0.5
             },
             "pattern": {
              "fillmode": "overlay",
              "size": 10,
              "solidity": 0.2
             }
            },
            "type": "barpolar"
           }
          ],
          "carpet": [
           {
            "aaxis": {
             "endlinecolor": "#2a3f5f",
             "gridcolor": "#C8D4E3",
             "linecolor": "#C8D4E3",
             "minorgridcolor": "#C8D4E3",
             "startlinecolor": "#2a3f5f"
            },
            "baxis": {
             "endlinecolor": "#2a3f5f",
             "gridcolor": "#C8D4E3",
             "linecolor": "#C8D4E3",
             "minorgridcolor": "#C8D4E3",
             "startlinecolor": "#2a3f5f"
            },
            "type": "carpet"
           }
          ],
          "choropleth": [
           {
            "colorbar": {
             "outlinewidth": 0,
             "ticks": ""
            },
            "type": "choropleth"
           }
          ],
          "contour": [
           {
            "colorbar": {
             "outlinewidth": 0,
             "ticks": ""
            },
            "colorscale": [
             [
              0,
              "#0d0887"
             ],
             [
              0.1111111111111111,
              "#46039f"
             ],
             [
              0.2222222222222222,
              "#7201a8"
             ],
             [
              0.3333333333333333,
              "#9c179e"
             ],
             [
              0.4444444444444444,
              "#bd3786"
             ],
             [
              0.5555555555555556,
              "#d8576b"
             ],
             [
              0.6666666666666666,
              "#ed7953"
             ],
             [
              0.7777777777777778,
              "#fb9f3a"
             ],
             [
              0.8888888888888888,
              "#fdca26"
             ],
             [
              1,
              "#f0f921"
             ]
            ],
            "type": "contour"
           }
          ],
          "contourcarpet": [
           {
            "colorbar": {
             "outlinewidth": 0,
             "ticks": ""
            },
            "type": "contourcarpet"
           }
          ],
          "heatmap": [
           {
            "colorbar": {
             "outlinewidth": 0,
             "ticks": ""
            },
            "colorscale": [
             [
              0,
              "#0d0887"
             ],
             [
              0.1111111111111111,
              "#46039f"
             ],
             [
              0.2222222222222222,
              "#7201a8"
             ],
             [
              0.3333333333333333,
              "#9c179e"
             ],
             [
              0.4444444444444444,
              "#bd3786"
             ],
             [
              0.5555555555555556,
              "#d8576b"
             ],
             [
              0.6666666666666666,
              "#ed7953"
             ],
             [
              0.7777777777777778,
              "#fb9f3a"
             ],
             [
              0.8888888888888888,
              "#fdca26"
             ],
             [
              1,
              "#f0f921"
             ]
            ],
            "type": "heatmap"
           }
          ],
          "histogram": [
           {
            "marker": {
             "pattern": {
              "fillmode": "overlay",
              "size": 10,
              "solidity": 0.2
             }
            },
            "type": "histogram"
           }
          ],
          "histogram2d": [
           {
            "colorbar": {
             "outlinewidth": 0,
             "ticks": ""
            },
            "colorscale": [
             [
              0,
              "#0d0887"
             ],
             [
              0.1111111111111111,
              "#46039f"
             ],
             [
              0.2222222222222222,
              "#7201a8"
             ],
             [
              0.3333333333333333,
              "#9c179e"
             ],
             [
              0.4444444444444444,
              "#bd3786"
             ],
             [
              0.5555555555555556,
              "#d8576b"
             ],
             [
              0.6666666666666666,
              "#ed7953"
             ],
             [
              0.7777777777777778,
              "#fb9f3a"
             ],
             [
              0.8888888888888888,
              "#fdca26"
             ],
             [
              1,
              "#f0f921"
             ]
            ],
            "type": "histogram2d"
           }
          ],
          "histogram2dcontour": [
           {
            "colorbar": {
             "outlinewidth": 0,
             "ticks": ""
            },
            "colorscale": [
             [
              0,
              "#0d0887"
             ],
             [
              0.1111111111111111,
              "#46039f"
             ],
             [
              0.2222222222222222,
              "#7201a8"
             ],
             [
              0.3333333333333333,
              "#9c179e"
             ],
             [
              0.4444444444444444,
              "#bd3786"
             ],
             [
              0.5555555555555556,
              "#d8576b"
             ],
             [
              0.6666666666666666,
              "#ed7953"
             ],
             [
              0.7777777777777778,
              "#fb9f3a"
             ],
             [
              0.8888888888888888,
              "#fdca26"
             ],
             [
              1,
              "#f0f921"
             ]
            ],
            "type": "histogram2dcontour"
           }
          ],
          "mesh3d": [
           {
            "colorbar": {
             "outlinewidth": 0,
             "ticks": ""
            },
            "type": "mesh3d"
           }
          ],
          "parcoords": [
           {
            "line": {
             "colorbar": {
              "outlinewidth": 0,
              "ticks": ""
             }
            },
            "type": "parcoords"
           }
          ],
          "pie": [
           {
            "automargin": true,
            "type": "pie"
           }
          ],
          "scatter": [
           {
            "fillpattern": {
             "fillmode": "overlay",
             "size": 10,
             "solidity": 0.2
            },
            "type": "scatter"
           }
          ],
          "scatter3d": [
           {
            "line": {
             "colorbar": {
              "outlinewidth": 0,
              "ticks": ""
             }
            },
            "marker": {
             "colorbar": {
              "outlinewidth": 0,
              "ticks": ""
             }
            },
            "type": "scatter3d"
           }
          ],
          "scattercarpet": [
           {
            "marker": {
             "colorbar": {
              "outlinewidth": 0,
              "ticks": ""
             }
            },
            "type": "scattercarpet"
           }
          ],
          "scattergeo": [
           {
            "marker": {
             "colorbar": {
              "outlinewidth": 0,
              "ticks": ""
             }
            },
            "type": "scattergeo"
           }
          ],
          "scattergl": [
           {
            "marker": {
             "colorbar": {
              "outlinewidth": 0,
              "ticks": ""
             }
            },
            "type": "scattergl"
           }
          ],
          "scattermap": [
           {
            "marker": {
             "colorbar": {
              "outlinewidth": 0,
              "ticks": ""
             }
            },
            "type": "scattermap"
           }
          ],
          "scattermapbox": [
           {
            "marker": {
             "colorbar": {
              "outlinewidth": 0,
              "ticks": ""
             }
            },
            "type": "scattermapbox"
           }
          ],
          "scatterpolar": [
           {
            "marker": {
             "colorbar": {
              "outlinewidth": 0,
              "ticks": ""
             }
            },
            "type": "scatterpolar"
           }
          ],
          "scatterpolargl": [
           {
            "marker": {
             "colorbar": {
              "outlinewidth": 0,
              "ticks": ""
             }
            },
            "type": "scatterpolargl"
           }
          ],
          "scatterternary": [
           {
            "marker": {
             "colorbar": {
              "outlinewidth": 0,
              "ticks": ""
             }
            },
            "type": "scatterternary"
           }
          ],
          "surface": [
           {
            "colorbar": {
             "outlinewidth": 0,
             "ticks": ""
            },
            "colorscale": [
             [
              0,
              "#0d0887"
             ],
             [
              0.1111111111111111,
              "#46039f"
             ],
             [
              0.2222222222222222,
              "#7201a8"
             ],
             [
              0.3333333333333333,
              "#9c179e"
             ],
             [
              0.4444444444444444,
              "#bd3786"
             ],
             [
              0.5555555555555556,
              "#d8576b"
             ],
             [
              0.6666666666666666,
              "#ed7953"
             ],
             [
              0.7777777777777778,
              "#fb9f3a"
             ],
             [
              0.8888888888888888,
              "#fdca26"
             ],
             [
              1,
              "#f0f921"
             ]
            ],
            "type": "surface"
           }
          ],
          "table": [
           {
            "cells": {
             "fill": {
              "color": "#EBF0F8"
             },
             "line": {
              "color": "white"
             }
            },
            "header": {
             "fill": {
              "color": "#C8D4E3"
             },
             "line": {
              "color": "white"
             }
            },
            "type": "table"
           }
          ]
         },
         "layout": {
          "annotationdefaults": {
           "arrowcolor": "#2a3f5f",
           "arrowhead": 0,
           "arrowwidth": 1
          },
          "autotypenumbers": "strict",
          "coloraxis": {
           "colorbar": {
            "outlinewidth": 0,
            "ticks": ""
           }
          },
          "colorscale": {
           "diverging": [
            [
             0,
             "#8e0152"
            ],
            [
             0.1,
             "#c51b7d"
            ],
            [
             0.2,
             "#de77ae"
            ],
            [
             0.3,
             "#f1b6da"
            ],
            [
             0.4,
             "#fde0ef"
            ],
            [
             0.5,
             "#f7f7f7"
            ],
            [
             0.6,
             "#e6f5d0"
            ],
            [
             0.7,
             "#b8e186"
            ],
            [
             0.8,
             "#7fbc41"
            ],
            [
             0.9,
             "#4d9221"
            ],
            [
             1,
             "#276419"
            ]
           ],
           "sequential": [
            [
             0,
             "#0d0887"
            ],
            [
             0.1111111111111111,
             "#46039f"
            ],
            [
             0.2222222222222222,
             "#7201a8"
            ],
            [
             0.3333333333333333,
             "#9c179e"
            ],
            [
             0.4444444444444444,
             "#bd3786"
            ],
            [
             0.5555555555555556,
             "#d8576b"
            ],
            [
             0.6666666666666666,
             "#ed7953"
            ],
            [
             0.7777777777777778,
             "#fb9f3a"
            ],
            [
             0.8888888888888888,
             "#fdca26"
            ],
            [
             1,
             "#f0f921"
            ]
           ],
           "sequentialminus": [
            [
             0,
             "#0d0887"
            ],
            [
             0.1111111111111111,
             "#46039f"
            ],
            [
             0.2222222222222222,
             "#7201a8"
            ],
            [
             0.3333333333333333,
             "#9c179e"
            ],
            [
             0.4444444444444444,
             "#bd3786"
            ],
            [
             0.5555555555555556,
             "#d8576b"
            ],
            [
             0.6666666666666666,
             "#ed7953"
            ],
            [
             0.7777777777777778,
             "#fb9f3a"
            ],
            [
             0.8888888888888888,
             "#fdca26"
            ],
            [
             1,
             "#f0f921"
            ]
           ]
          },
          "colorway": [
           "#636efa",
           "#EF553B",
           "#00cc96",
           "#ab63fa",
           "#FFA15A",
           "#19d3f3",
           "#FF6692",
           "#B6E880",
           "#FF97FF",
           "#FECB52"
          ],
          "font": {
           "color": "#2a3f5f"
          },
          "geo": {
           "bgcolor": "white",
           "lakecolor": "white",
           "landcolor": "white",
           "showlakes": true,
           "showland": true,
           "subunitcolor": "#C8D4E3"
          },
          "hoverlabel": {
           "align": "left"
          },
          "hovermode": "closest",
          "mapbox": {
           "style": "light"
          },
          "paper_bgcolor": "white",
          "plot_bgcolor": "white",
          "polar": {
           "angularaxis": {
            "gridcolor": "#EBF0F8",
            "linecolor": "#EBF0F8",
            "ticks": ""
           },
           "bgcolor": "white",
           "radialaxis": {
            "gridcolor": "#EBF0F8",
            "linecolor": "#EBF0F8",
            "ticks": ""
           }
          },
          "scene": {
           "xaxis": {
            "backgroundcolor": "white",
            "gridcolor": "#DFE8F3",
            "gridwidth": 2,
            "linecolor": "#EBF0F8",
            "showbackground": true,
            "ticks": "",
            "zerolinecolor": "#EBF0F8"
           },
           "yaxis": {
            "backgroundcolor": "white",
            "gridcolor": "#DFE8F3",
            "gridwidth": 2,
            "linecolor": "#EBF0F8",
            "showbackground": true,
            "ticks": "",
            "zerolinecolor": "#EBF0F8"
           },
           "zaxis": {
            "backgroundcolor": "white",
            "gridcolor": "#DFE8F3",
            "gridwidth": 2,
            "linecolor": "#EBF0F8",
            "showbackground": true,
            "ticks": "",
            "zerolinecolor": "#EBF0F8"
           }
          },
          "shapedefaults": {
           "line": {
            "color": "#2a3f5f"
           }
          },
          "ternary": {
           "aaxis": {
            "gridcolor": "#DFE8F3",
            "linecolor": "#A2B1C6",
            "ticks": ""
           },
           "baxis": {
            "gridcolor": "#DFE8F3",
            "linecolor": "#A2B1C6",
            "ticks": ""
           },
           "bgcolor": "white",
           "caxis": {
            "gridcolor": "#DFE8F3",
            "linecolor": "#A2B1C6",
            "ticks": ""
           }
          },
          "title": {
           "x": 0.05
          },
          "xaxis": {
           "automargin": true,
           "gridcolor": "#EBF0F8",
           "linecolor": "#EBF0F8",
           "ticks": "",
           "title": {
            "standoff": 15
           },
           "zerolinecolor": "#EBF0F8",
           "zerolinewidth": 2
          },
          "yaxis": {
           "automargin": true,
           "gridcolor": "#EBF0F8",
           "linecolor": "#EBF0F8",
           "ticks": "",
           "title": {
            "standoff": 15
           },
           "zerolinecolor": "#EBF0F8",
           "zerolinewidth": 2
          }
         }
        },
        "title": {
         "text": "Temperaturas Mensais - Monchique",
         "x": 0.5,
         "xanchor": "center"
        },
        "xaxis": {
         "anchor": "y",
         "domain": [
          0,
          1
         ],
         "tickangle": 45,
         "title": {
          "text": "Ano-Mês"
         }
        },
        "yaxis": {
         "anchor": "x",
         "domain": [
          0,
          1
         ],
         "title": {
          "text": "Temperatura (°C)"
         }
        }
       }
      }
     },
     "metadata": {},
     "output_type": "display_data"
    },
    {
     "data": {
      "application/vnd.plotly.v1+json": {
       "config": {
        "plotlyServerURL": "https://plot.ly"
       },
       "data": [
        {
         "hovertemplate": "Tipo=media_maxtemp<br>Ano-Mês=%{x}<br>Temperatura (°C)=%{y}<extra></extra>",
         "legendgroup": "media_maxtemp",
         "line": {
          "color": "red",
          "dash": "solid"
         },
         "marker": {
          "symbol": "circle"
         },
         "mode": "lines",
         "name": "MaxTemp (mean)",
         "orientation": "v",
         "showlegend": true,
         "type": "scatter",
         "x": [
          "2024-06",
          "2024-07",
          "2024-08",
          "2024-09",
          "2024-10",
          "2024-11",
          "2024-12",
          "2025-01",
          "2025-02",
          "2025-03",
          "2025-04",
          "2025-05",
          "2025-06"
         ],
         "xaxis": "x",
         "y": {
          "bdata": "AAAAAAAANECttdZaa603QN9777333jdAiYiIiIgINkC21lprrbUzQCIiIiIiojJAOuecc845LUCMMcYYY4wrQG7btm3btixArbXWWmutLUDe3d3d3d0xQIwxxhhjjDNAvLu7u7s7N0A=",
          "dtype": "f8"
         },
         "yaxis": "y"
        },
        {
         "hovertemplate": "Tipo=media_mintemp<br>Ano-Mês=%{x}<br>Temperatura (°C)=%{y}<extra></extra>",
         "legendgroup": "media_mintemp",
         "line": {
          "color": "blue",
          "dash": "solid"
         },
         "marker": {
          "symbol": "circle"
         },
         "mode": "lines",
         "name": "MinTemp (mean)",
         "orientation": "v",
         "showlegend": true,
         "type": "scatter",
         "x": [
          "2024-06",
          "2024-07",
          "2024-08",
          "2024-09",
          "2024-10",
          "2024-11",
          "2024-12",
          "2025-01",
          "2025-02",
          "2025-03",
          "2025-04",
          "2025-05",
          "2025-06"
         ],
         "xaxis": "x",
         "y": {
          "bdata": "AAAAAAAAMECttdZaa60wQN9777333jBAq6qqqqqqLkBTSimllFIuQJqZmZmZmStA33vvvffeIUC21lprrbUiQJIkSZIkySJA77333nvvIUC8u7u7u7snQLbWWmuttSpAmpmZmZmZMEA=",
          "dtype": "f8"
         },
         "yaxis": "y"
        }
       ],
       "layout": {
        "annotations": [
         {
          "arrowhead": 2,
          "ax": 0,
          "ay": -30,
          "bgcolor": "white",
          "bordercolor": "gray",
          "borderpad": 4,
          "borderwidth": 1,
          "font": {
           "color": "black",
           "size": 12
          },
          "showarrow": true,
          "text": "Summer",
          "x": "2024-06",
          "y": 23.870967741935484
         },
         {
          "arrowhead": 2,
          "ax": 0,
          "ay": -30,
          "bgcolor": "white",
          "bordercolor": "gray",
          "borderpad": 4,
          "borderwidth": 1,
          "font": {
           "color": "black",
           "size": 12
          },
          "showarrow": true,
          "text": "Autumn",
          "x": "2024-09",
          "y": 23.870967741935484
         },
         {
          "arrowhead": 2,
          "ax": 0,
          "ay": -30,
          "bgcolor": "white",
          "bordercolor": "gray",
          "borderpad": 4,
          "borderwidth": 1,
          "font": {
           "color": "black",
           "size": 12
          },
          "showarrow": true,
          "text": "Winter",
          "x": "2024-12",
          "y": 23.870967741935484
         },
         {
          "arrowhead": 2,
          "ax": 0,
          "ay": -30,
          "bgcolor": "white",
          "bordercolor": "gray",
          "borderpad": 4,
          "borderwidth": 1,
          "font": {
           "color": "black",
           "size": 12
          },
          "showarrow": true,
          "text": "Spring",
          "x": "2025-03",
          "y": 23.870967741935484
         }
        ],
        "legend": {
         "title": {
          "text": "Tipo"
         },
         "tracegroupgap": 0
        },
        "shapes": [
         {
          "line": {
           "color": "gray",
           "dash": "dash",
           "width": 2
          },
          "type": "line",
          "x0": "2024-06",
          "x1": "2024-06",
          "xref": "x",
          "y0": 8.935483870967742,
          "y1": 23.870967741935484,
          "yref": "y"
         },
         {
          "line": {
           "color": "gray",
           "dash": "dash",
           "width": 2
          },
          "type": "line",
          "x0": "2024-09",
          "x1": "2024-09",
          "xref": "x",
          "y0": 8.935483870967742,
          "y1": 23.870967741935484,
          "yref": "y"
         },
         {
          "line": {
           "color": "gray",
           "dash": "dash",
           "width": 2
          },
          "type": "line",
          "x0": "2024-12",
          "x1": "2024-12",
          "xref": "x",
          "y0": 8.935483870967742,
          "y1": 23.870967741935484,
          "yref": "y"
         },
         {
          "line": {
           "color": "gray",
           "dash": "dash",
           "width": 2
          },
          "type": "line",
          "x0": "2025-03",
          "x1": "2025-03",
          "xref": "x",
          "y0": 8.935483870967742,
          "y1": 23.870967741935484,
          "yref": "y"
         }
        ],
        "template": {
         "data": {
          "bar": [
           {
            "error_x": {
             "color": "#2a3f5f"
            },
            "error_y": {
             "color": "#2a3f5f"
            },
            "marker": {
             "line": {
              "color": "white",
              "width": 0.5
             },
             "pattern": {
              "fillmode": "overlay",
              "size": 10,
              "solidity": 0.2
             }
            },
            "type": "bar"
           }
          ],
          "barpolar": [
           {
            "marker": {
             "line": {
              "color": "white",
              "width": 0.5
             },
             "pattern": {
              "fillmode": "overlay",
              "size": 10,
              "solidity": 0.2
             }
            },
            "type": "barpolar"
           }
          ],
          "carpet": [
           {
            "aaxis": {
             "endlinecolor": "#2a3f5f",
             "gridcolor": "#C8D4E3",
             "linecolor": "#C8D4E3",
             "minorgridcolor": "#C8D4E3",
             "startlinecolor": "#2a3f5f"
            },
            "baxis": {
             "endlinecolor": "#2a3f5f",
             "gridcolor": "#C8D4E3",
             "linecolor": "#C8D4E3",
             "minorgridcolor": "#C8D4E3",
             "startlinecolor": "#2a3f5f"
            },
            "type": "carpet"
           }
          ],
          "choropleth": [
           {
            "colorbar": {
             "outlinewidth": 0,
             "ticks": ""
            },
            "type": "choropleth"
           }
          ],
          "contour": [
           {
            "colorbar": {
             "outlinewidth": 0,
             "ticks": ""
            },
            "colorscale": [
             [
              0,
              "#0d0887"
             ],
             [
              0.1111111111111111,
              "#46039f"
             ],
             [
              0.2222222222222222,
              "#7201a8"
             ],
             [
              0.3333333333333333,
              "#9c179e"
             ],
             [
              0.4444444444444444,
              "#bd3786"
             ],
             [
              0.5555555555555556,
              "#d8576b"
             ],
             [
              0.6666666666666666,
              "#ed7953"
             ],
             [
              0.7777777777777778,
              "#fb9f3a"
             ],
             [
              0.8888888888888888,
              "#fdca26"
             ],
             [
              1,
              "#f0f921"
             ]
            ],
            "type": "contour"
           }
          ],
          "contourcarpet": [
           {
            "colorbar": {
             "outlinewidth": 0,
             "ticks": ""
            },
            "type": "contourcarpet"
           }
          ],
          "heatmap": [
           {
            "colorbar": {
             "outlinewidth": 0,
             "ticks": ""
            },
            "colorscale": [
             [
              0,
              "#0d0887"
             ],
             [
              0.1111111111111111,
              "#46039f"
             ],
             [
              0.2222222222222222,
              "#7201a8"
             ],
             [
              0.3333333333333333,
              "#9c179e"
             ],
             [
              0.4444444444444444,
              "#bd3786"
             ],
             [
              0.5555555555555556,
              "#d8576b"
             ],
             [
              0.6666666666666666,
              "#ed7953"
             ],
             [
              0.7777777777777778,
              "#fb9f3a"
             ],
             [
              0.8888888888888888,
              "#fdca26"
             ],
             [
              1,
              "#f0f921"
             ]
            ],
            "type": "heatmap"
           }
          ],
          "histogram": [
           {
            "marker": {
             "pattern": {
              "fillmode": "overlay",
              "size": 10,
              "solidity": 0.2
             }
            },
            "type": "histogram"
           }
          ],
          "histogram2d": [
           {
            "colorbar": {
             "outlinewidth": 0,
             "ticks": ""
            },
            "colorscale": [
             [
              0,
              "#0d0887"
             ],
             [
              0.1111111111111111,
              "#46039f"
             ],
             [
              0.2222222222222222,
              "#7201a8"
             ],
             [
              0.3333333333333333,
              "#9c179e"
             ],
             [
              0.4444444444444444,
              "#bd3786"
             ],
             [
              0.5555555555555556,
              "#d8576b"
             ],
             [
              0.6666666666666666,
              "#ed7953"
             ],
             [
              0.7777777777777778,
              "#fb9f3a"
             ],
             [
              0.8888888888888888,
              "#fdca26"
             ],
             [
              1,
              "#f0f921"
             ]
            ],
            "type": "histogram2d"
           }
          ],
          "histogram2dcontour": [
           {
            "colorbar": {
             "outlinewidth": 0,
             "ticks": ""
            },
            "colorscale": [
             [
              0,
              "#0d0887"
             ],
             [
              0.1111111111111111,
              "#46039f"
             ],
             [
              0.2222222222222222,
              "#7201a8"
             ],
             [
              0.3333333333333333,
              "#9c179e"
             ],
             [
              0.4444444444444444,
              "#bd3786"
             ],
             [
              0.5555555555555556,
              "#d8576b"
             ],
             [
              0.6666666666666666,
              "#ed7953"
             ],
             [
              0.7777777777777778,
              "#fb9f3a"
             ],
             [
              0.8888888888888888,
              "#fdca26"
             ],
             [
              1,
              "#f0f921"
             ]
            ],
            "type": "histogram2dcontour"
           }
          ],
          "mesh3d": [
           {
            "colorbar": {
             "outlinewidth": 0,
             "ticks": ""
            },
            "type": "mesh3d"
           }
          ],
          "parcoords": [
           {
            "line": {
             "colorbar": {
              "outlinewidth": 0,
              "ticks": ""
             }
            },
            "type": "parcoords"
           }
          ],
          "pie": [
           {
            "automargin": true,
            "type": "pie"
           }
          ],
          "scatter": [
           {
            "fillpattern": {
             "fillmode": "overlay",
             "size": 10,
             "solidity": 0.2
            },
            "type": "scatter"
           }
          ],
          "scatter3d": [
           {
            "line": {
             "colorbar": {
              "outlinewidth": 0,
              "ticks": ""
             }
            },
            "marker": {
             "colorbar": {
              "outlinewidth": 0,
              "ticks": ""
             }
            },
            "type": "scatter3d"
           }
          ],
          "scattercarpet": [
           {
            "marker": {
             "colorbar": {
              "outlinewidth": 0,
              "ticks": ""
             }
            },
            "type": "scattercarpet"
           }
          ],
          "scattergeo": [
           {
            "marker": {
             "colorbar": {
              "outlinewidth": 0,
              "ticks": ""
             }
            },
            "type": "scattergeo"
           }
          ],
          "scattergl": [
           {
            "marker": {
             "colorbar": {
              "outlinewidth": 0,
              "ticks": ""
             }
            },
            "type": "scattergl"
           }
          ],
          "scattermap": [
           {
            "marker": {
             "colorbar": {
              "outlinewidth": 0,
              "ticks": ""
             }
            },
            "type": "scattermap"
           }
          ],
          "scattermapbox": [
           {
            "marker": {
             "colorbar": {
              "outlinewidth": 0,
              "ticks": ""
             }
            },
            "type": "scattermapbox"
           }
          ],
          "scatterpolar": [
           {
            "marker": {
             "colorbar": {
              "outlinewidth": 0,
              "ticks": ""
             }
            },
            "type": "scatterpolar"
           }
          ],
          "scatterpolargl": [
           {
            "marker": {
             "colorbar": {
              "outlinewidth": 0,
              "ticks": ""
             }
            },
            "type": "scatterpolargl"
           }
          ],
          "scatterternary": [
           {
            "marker": {
             "colorbar": {
              "outlinewidth": 0,
              "ticks": ""
             }
            },
            "type": "scatterternary"
           }
          ],
          "surface": [
           {
            "colorbar": {
             "outlinewidth": 0,
             "ticks": ""
            },
            "colorscale": [
             [
              0,
              "#0d0887"
             ],
             [
              0.1111111111111111,
              "#46039f"
             ],
             [
              0.2222222222222222,
              "#7201a8"
             ],
             [
              0.3333333333333333,
              "#9c179e"
             ],
             [
              0.4444444444444444,
              "#bd3786"
             ],
             [
              0.5555555555555556,
              "#d8576b"
             ],
             [
              0.6666666666666666,
              "#ed7953"
             ],
             [
              0.7777777777777778,
              "#fb9f3a"
             ],
             [
              0.8888888888888888,
              "#fdca26"
             ],
             [
              1,
              "#f0f921"
             ]
            ],
            "type": "surface"
           }
          ],
          "table": [
           {
            "cells": {
             "fill": {
              "color": "#EBF0F8"
             },
             "line": {
              "color": "white"
             }
            },
            "header": {
             "fill": {
              "color": "#C8D4E3"
             },
             "line": {
              "color": "white"
             }
            },
            "type": "table"
           }
          ]
         },
         "layout": {
          "annotationdefaults": {
           "arrowcolor": "#2a3f5f",
           "arrowhead": 0,
           "arrowwidth": 1
          },
          "autotypenumbers": "strict",
          "coloraxis": {
           "colorbar": {
            "outlinewidth": 0,
            "ticks": ""
           }
          },
          "colorscale": {
           "diverging": [
            [
             0,
             "#8e0152"
            ],
            [
             0.1,
             "#c51b7d"
            ],
            [
             0.2,
             "#de77ae"
            ],
            [
             0.3,
             "#f1b6da"
            ],
            [
             0.4,
             "#fde0ef"
            ],
            [
             0.5,
             "#f7f7f7"
            ],
            [
             0.6,
             "#e6f5d0"
            ],
            [
             0.7,
             "#b8e186"
            ],
            [
             0.8,
             "#7fbc41"
            ],
            [
             0.9,
             "#4d9221"
            ],
            [
             1,
             "#276419"
            ]
           ],
           "sequential": [
            [
             0,
             "#0d0887"
            ],
            [
             0.1111111111111111,
             "#46039f"
            ],
            [
             0.2222222222222222,
             "#7201a8"
            ],
            [
             0.3333333333333333,
             "#9c179e"
            ],
            [
             0.4444444444444444,
             "#bd3786"
            ],
            [
             0.5555555555555556,
             "#d8576b"
            ],
            [
             0.6666666666666666,
             "#ed7953"
            ],
            [
             0.7777777777777778,
             "#fb9f3a"
            ],
            [
             0.8888888888888888,
             "#fdca26"
            ],
            [
             1,
             "#f0f921"
            ]
           ],
           "sequentialminus": [
            [
             0,
             "#0d0887"
            ],
            [
             0.1111111111111111,
             "#46039f"
            ],
            [
             0.2222222222222222,
             "#7201a8"
            ],
            [
             0.3333333333333333,
             "#9c179e"
            ],
            [
             0.4444444444444444,
             "#bd3786"
            ],
            [
             0.5555555555555556,
             "#d8576b"
            ],
            [
             0.6666666666666666,
             "#ed7953"
            ],
            [
             0.7777777777777778,
             "#fb9f3a"
            ],
            [
             0.8888888888888888,
             "#fdca26"
            ],
            [
             1,
             "#f0f921"
            ]
           ]
          },
          "colorway": [
           "#636efa",
           "#EF553B",
           "#00cc96",
           "#ab63fa",
           "#FFA15A",
           "#19d3f3",
           "#FF6692",
           "#B6E880",
           "#FF97FF",
           "#FECB52"
          ],
          "font": {
           "color": "#2a3f5f"
          },
          "geo": {
           "bgcolor": "white",
           "lakecolor": "white",
           "landcolor": "white",
           "showlakes": true,
           "showland": true,
           "subunitcolor": "#C8D4E3"
          },
          "hoverlabel": {
           "align": "left"
          },
          "hovermode": "closest",
          "mapbox": {
           "style": "light"
          },
          "paper_bgcolor": "white",
          "plot_bgcolor": "white",
          "polar": {
           "angularaxis": {
            "gridcolor": "#EBF0F8",
            "linecolor": "#EBF0F8",
            "ticks": ""
           },
           "bgcolor": "white",
           "radialaxis": {
            "gridcolor": "#EBF0F8",
            "linecolor": "#EBF0F8",
            "ticks": ""
           }
          },
          "scene": {
           "xaxis": {
            "backgroundcolor": "white",
            "gridcolor": "#DFE8F3",
            "gridwidth": 2,
            "linecolor": "#EBF0F8",
            "showbackground": true,
            "ticks": "",
            "zerolinecolor": "#EBF0F8"
           },
           "yaxis": {
            "backgroundcolor": "white",
            "gridcolor": "#DFE8F3",
            "gridwidth": 2,
            "linecolor": "#EBF0F8",
            "showbackground": true,
            "ticks": "",
            "zerolinecolor": "#EBF0F8"
           },
           "zaxis": {
            "backgroundcolor": "white",
            "gridcolor": "#DFE8F3",
            "gridwidth": 2,
            "linecolor": "#EBF0F8",
            "showbackground": true,
            "ticks": "",
            "zerolinecolor": "#EBF0F8"
           }
          },
          "shapedefaults": {
           "line": {
            "color": "#2a3f5f"
           }
          },
          "ternary": {
           "aaxis": {
            "gridcolor": "#DFE8F3",
            "linecolor": "#A2B1C6",
            "ticks": ""
           },
           "baxis": {
            "gridcolor": "#DFE8F3",
            "linecolor": "#A2B1C6",
            "ticks": ""
           },
           "bgcolor": "white",
           "caxis": {
            "gridcolor": "#DFE8F3",
            "linecolor": "#A2B1C6",
            "ticks": ""
           }
          },
          "title": {
           "x": 0.05
          },
          "xaxis": {
           "automargin": true,
           "gridcolor": "#EBF0F8",
           "linecolor": "#EBF0F8",
           "ticks": "",
           "title": {
            "standoff": 15
           },
           "zerolinecolor": "#EBF0F8",
           "zerolinewidth": 2
          },
          "yaxis": {
           "automargin": true,
           "gridcolor": "#EBF0F8",
           "linecolor": "#EBF0F8",
           "ticks": "",
           "title": {
            "standoff": 15
           },
           "zerolinecolor": "#EBF0F8",
           "zerolinewidth": 2
          }
         }
        },
        "title": {
         "text": "Temperaturas Mensais - Porto",
         "x": 0.5,
         "xanchor": "center"
        },
        "xaxis": {
         "anchor": "y",
         "domain": [
          0,
          1
         ],
         "tickangle": 45,
         "title": {
          "text": "Ano-Mês"
         }
        },
        "yaxis": {
         "anchor": "x",
         "domain": [
          0,
          1
         ],
         "title": {
          "text": "Temperatura (°C)"
         }
        }
       }
      }
     },
     "metadata": {},
     "output_type": "display_data"
    },
    {
     "data": {
      "application/vnd.plotly.v1+json": {
       "config": {
        "plotlyServerURL": "https://plot.ly"
       },
       "data": [
        {
         "hovertemplate": "Tipo=media_maxtemp<br>Ano-Mês=%{x}<br>Temperatura (°C)=%{y}<extra></extra>",
         "legendgroup": "media_maxtemp",
         "line": {
          "color": "red",
          "dash": "solid"
         },
         "marker": {
          "symbol": "circle"
         },
         "mode": "lines",
         "name": "MaxTemp (mean)",
         "orientation": "v",
         "showlegend": true,
         "type": "scatter",
         "x": [
          "2024-06",
          "2024-07",
          "2024-08",
          "2024-09",
          "2024-10",
          "2024-11",
          "2024-12",
          "2025-01",
          "2025-02",
          "2025-03",
          "2025-04",
          "2025-05",
          "2025-06"
         ],
         "xaxis": "x",
         "y": {
          "bdata": "AAAAAAAAN0DOOeecc847QO+999577ztAiYiIiIgIOUAyxhhjjDE2QLy7u7u7uzNA77333nvvL0D43nvvvfcuQNu2bdu2bS9ASimllFJKL0CamZmZmRkzQCGEEEIIITZARERERETEOkA=",
          "dtype": "f8"
         },
         "yaxis": "y"
        },
        {
         "hovertemplate": "Tipo=media_mintemp<br>Ano-Mês=%{x}<br>Temperatura (°C)=%{y}<extra></extra>",
         "legendgroup": "media_mintemp",
         "line": {
          "color": "blue",
          "dash": "solid"
         },
         "marker": {
          "symbol": "circle"
         },
         "mode": "lines",
         "name": "MinTemp (mean)",
         "orientation": "v",
         "showlegend": true,
         "type": "scatter",
         "x": [
          "2024-06",
          "2024-07",
          "2024-08",
          "2024-09",
          "2024-10",
          "2024-11",
          "2024-12",
          "2025-01",
          "2025-02",
          "2025-03",
          "2025-04",
          "2025-05",
          "2025-06"
         ],
         "xaxis": "x",
         "y": {
          "bdata": "AAAAAAAAMUCdc84555wxQCGEEEIIITJAAAAAAAAAMUCdc84555wwQM3MzMzMzCtAa6211lprI0D43nvvvfckQNu2bdu2bSRAdM4555xzJEDe3d3d3d0oQCGEEEIIISxAzczMzMxMMUA=",
          "dtype": "f8"
         },
         "yaxis": "y"
        }
       ],
       "layout": {
        "annotations": [
         {
          "arrowhead": 2,
          "ax": 0,
          "ay": -30,
          "bgcolor": "white",
          "bordercolor": "gray",
          "borderpad": 4,
          "borderwidth": 1,
          "font": {
           "color": "black",
           "size": 12
          },
          "showarrow": true,
          "text": "Summer",
          "x": "2024-06",
          "y": 27.93548387096774
         },
         {
          "arrowhead": 2,
          "ax": 0,
          "ay": -30,
          "bgcolor": "white",
          "bordercolor": "gray",
          "borderpad": 4,
          "borderwidth": 1,
          "font": {
           "color": "black",
           "size": 12
          },
          "showarrow": true,
          "text": "Autumn",
          "x": "2024-09",
          "y": 27.93548387096774
         },
         {
          "arrowhead": 2,
          "ax": 0,
          "ay": -30,
          "bgcolor": "white",
          "bordercolor": "gray",
          "borderpad": 4,
          "borderwidth": 1,
          "font": {
           "color": "black",
           "size": 12
          },
          "showarrow": true,
          "text": "Winter",
          "x": "2024-12",
          "y": 27.93548387096774
         },
         {
          "arrowhead": 2,
          "ax": 0,
          "ay": -30,
          "bgcolor": "white",
          "bordercolor": "gray",
          "borderpad": 4,
          "borderwidth": 1,
          "font": {
           "color": "black",
           "size": 12
          },
          "showarrow": true,
          "text": "Spring",
          "x": "2025-03",
          "y": 27.93548387096774
         }
        ],
        "legend": {
         "title": {
          "text": "Tipo"
         },
         "tracegroupgap": 0
        },
        "shapes": [
         {
          "line": {
           "color": "gray",
           "dash": "dash",
           "width": 2
          },
          "type": "line",
          "x0": "2024-06",
          "x1": "2024-06",
          "xref": "x",
          "y0": 9.709677419354838,
          "y1": 27.93548387096774,
          "yref": "y"
         },
         {
          "line": {
           "color": "gray",
           "dash": "dash",
           "width": 2
          },
          "type": "line",
          "x0": "2024-09",
          "x1": "2024-09",
          "xref": "x",
          "y0": 9.709677419354838,
          "y1": 27.93548387096774,
          "yref": "y"
         },
         {
          "line": {
           "color": "gray",
           "dash": "dash",
           "width": 2
          },
          "type": "line",
          "x0": "2024-12",
          "x1": "2024-12",
          "xref": "x",
          "y0": 9.709677419354838,
          "y1": 27.93548387096774,
          "yref": "y"
         },
         {
          "line": {
           "color": "gray",
           "dash": "dash",
           "width": 2
          },
          "type": "line",
          "x0": "2025-03",
          "x1": "2025-03",
          "xref": "x",
          "y0": 9.709677419354838,
          "y1": 27.93548387096774,
          "yref": "y"
         }
        ],
        "template": {
         "data": {
          "bar": [
           {
            "error_x": {
             "color": "#2a3f5f"
            },
            "error_y": {
             "color": "#2a3f5f"
            },
            "marker": {
             "line": {
              "color": "white",
              "width": 0.5
             },
             "pattern": {
              "fillmode": "overlay",
              "size": 10,
              "solidity": 0.2
             }
            },
            "type": "bar"
           }
          ],
          "barpolar": [
           {
            "marker": {
             "line": {
              "color": "white",
              "width": 0.5
             },
             "pattern": {
              "fillmode": "overlay",
              "size": 10,
              "solidity": 0.2
             }
            },
            "type": "barpolar"
           }
          ],
          "carpet": [
           {
            "aaxis": {
             "endlinecolor": "#2a3f5f",
             "gridcolor": "#C8D4E3",
             "linecolor": "#C8D4E3",
             "minorgridcolor": "#C8D4E3",
             "startlinecolor": "#2a3f5f"
            },
            "baxis": {
             "endlinecolor": "#2a3f5f",
             "gridcolor": "#C8D4E3",
             "linecolor": "#C8D4E3",
             "minorgridcolor": "#C8D4E3",
             "startlinecolor": "#2a3f5f"
            },
            "type": "carpet"
           }
          ],
          "choropleth": [
           {
            "colorbar": {
             "outlinewidth": 0,
             "ticks": ""
            },
            "type": "choropleth"
           }
          ],
          "contour": [
           {
            "colorbar": {
             "outlinewidth": 0,
             "ticks": ""
            },
            "colorscale": [
             [
              0,
              "#0d0887"
             ],
             [
              0.1111111111111111,
              "#46039f"
             ],
             [
              0.2222222222222222,
              "#7201a8"
             ],
             [
              0.3333333333333333,
              "#9c179e"
             ],
             [
              0.4444444444444444,
              "#bd3786"
             ],
             [
              0.5555555555555556,
              "#d8576b"
             ],
             [
              0.6666666666666666,
              "#ed7953"
             ],
             [
              0.7777777777777778,
              "#fb9f3a"
             ],
             [
              0.8888888888888888,
              "#fdca26"
             ],
             [
              1,
              "#f0f921"
             ]
            ],
            "type": "contour"
           }
          ],
          "contourcarpet": [
           {
            "colorbar": {
             "outlinewidth": 0,
             "ticks": ""
            },
            "type": "contourcarpet"
           }
          ],
          "heatmap": [
           {
            "colorbar": {
             "outlinewidth": 0,
             "ticks": ""
            },
            "colorscale": [
             [
              0,
              "#0d0887"
             ],
             [
              0.1111111111111111,
              "#46039f"
             ],
             [
              0.2222222222222222,
              "#7201a8"
             ],
             [
              0.3333333333333333,
              "#9c179e"
             ],
             [
              0.4444444444444444,
              "#bd3786"
             ],
             [
              0.5555555555555556,
              "#d8576b"
             ],
             [
              0.6666666666666666,
              "#ed7953"
             ],
             [
              0.7777777777777778,
              "#fb9f3a"
             ],
             [
              0.8888888888888888,
              "#fdca26"
             ],
             [
              1,
              "#f0f921"
             ]
            ],
            "type": "heatmap"
           }
          ],
          "histogram": [
           {
            "marker": {
             "pattern": {
              "fillmode": "overlay",
              "size": 10,
              "solidity": 0.2
             }
            },
            "type": "histogram"
           }
          ],
          "histogram2d": [
           {
            "colorbar": {
             "outlinewidth": 0,
             "ticks": ""
            },
            "colorscale": [
             [
              0,
              "#0d0887"
             ],
             [
              0.1111111111111111,
              "#46039f"
             ],
             [
              0.2222222222222222,
              "#7201a8"
             ],
             [
              0.3333333333333333,
              "#9c179e"
             ],
             [
              0.4444444444444444,
              "#bd3786"
             ],
             [
              0.5555555555555556,
              "#d8576b"
             ],
             [
              0.6666666666666666,
              "#ed7953"
             ],
             [
              0.7777777777777778,
              "#fb9f3a"
             ],
             [
              0.8888888888888888,
              "#fdca26"
             ],
             [
              1,
              "#f0f921"
             ]
            ],
            "type": "histogram2d"
           }
          ],
          "histogram2dcontour": [
           {
            "colorbar": {
             "outlinewidth": 0,
             "ticks": ""
            },
            "colorscale": [
             [
              0,
              "#0d0887"
             ],
             [
              0.1111111111111111,
              "#46039f"
             ],
             [
              0.2222222222222222,
              "#7201a8"
             ],
             [
              0.3333333333333333,
              "#9c179e"
             ],
             [
              0.4444444444444444,
              "#bd3786"
             ],
             [
              0.5555555555555556,
              "#d8576b"
             ],
             [
              0.6666666666666666,
              "#ed7953"
             ],
             [
              0.7777777777777778,
              "#fb9f3a"
             ],
             [
              0.8888888888888888,
              "#fdca26"
             ],
             [
              1,
              "#f0f921"
             ]
            ],
            "type": "histogram2dcontour"
           }
          ],
          "mesh3d": [
           {
            "colorbar": {
             "outlinewidth": 0,
             "ticks": ""
            },
            "type": "mesh3d"
           }
          ],
          "parcoords": [
           {
            "line": {
             "colorbar": {
              "outlinewidth": 0,
              "ticks": ""
             }
            },
            "type": "parcoords"
           }
          ],
          "pie": [
           {
            "automargin": true,
            "type": "pie"
           }
          ],
          "scatter": [
           {
            "fillpattern": {
             "fillmode": "overlay",
             "size": 10,
             "solidity": 0.2
            },
            "type": "scatter"
           }
          ],
          "scatter3d": [
           {
            "line": {
             "colorbar": {
              "outlinewidth": 0,
              "ticks": ""
             }
            },
            "marker": {
             "colorbar": {
              "outlinewidth": 0,
              "ticks": ""
             }
            },
            "type": "scatter3d"
           }
          ],
          "scattercarpet": [
           {
            "marker": {
             "colorbar": {
              "outlinewidth": 0,
              "ticks": ""
             }
            },
            "type": "scattercarpet"
           }
          ],
          "scattergeo": [
           {
            "marker": {
             "colorbar": {
              "outlinewidth": 0,
              "ticks": ""
             }
            },
            "type": "scattergeo"
           }
          ],
          "scattergl": [
           {
            "marker": {
             "colorbar": {
              "outlinewidth": 0,
              "ticks": ""
             }
            },
            "type": "scattergl"
           }
          ],
          "scattermap": [
           {
            "marker": {
             "colorbar": {
              "outlinewidth": 0,
              "ticks": ""
             }
            },
            "type": "scattermap"
           }
          ],
          "scattermapbox": [
           {
            "marker": {
             "colorbar": {
              "outlinewidth": 0,
              "ticks": ""
             }
            },
            "type": "scattermapbox"
           }
          ],
          "scatterpolar": [
           {
            "marker": {
             "colorbar": {
              "outlinewidth": 0,
              "ticks": ""
             }
            },
            "type": "scatterpolar"
           }
          ],
          "scatterpolargl": [
           {
            "marker": {
             "colorbar": {
              "outlinewidth": 0,
              "ticks": ""
             }
            },
            "type": "scatterpolargl"
           }
          ],
          "scatterternary": [
           {
            "marker": {
             "colorbar": {
              "outlinewidth": 0,
              "ticks": ""
             }
            },
            "type": "scatterternary"
           }
          ],
          "surface": [
           {
            "colorbar": {
             "outlinewidth": 0,
             "ticks": ""
            },
            "colorscale": [
             [
              0,
              "#0d0887"
             ],
             [
              0.1111111111111111,
              "#46039f"
             ],
             [
              0.2222222222222222,
              "#7201a8"
             ],
             [
              0.3333333333333333,
              "#9c179e"
             ],
             [
              0.4444444444444444,
              "#bd3786"
             ],
             [
              0.5555555555555556,
              "#d8576b"
             ],
             [
              0.6666666666666666,
              "#ed7953"
             ],
             [
              0.7777777777777778,
              "#fb9f3a"
             ],
             [
              0.8888888888888888,
              "#fdca26"
             ],
             [
              1,
              "#f0f921"
             ]
            ],
            "type": "surface"
           }
          ],
          "table": [
           {
            "cells": {
             "fill": {
              "color": "#EBF0F8"
             },
             "line": {
              "color": "white"
             }
            },
            "header": {
             "fill": {
              "color": "#C8D4E3"
             },
             "line": {
              "color": "white"
             }
            },
            "type": "table"
           }
          ]
         },
         "layout": {
          "annotationdefaults": {
           "arrowcolor": "#2a3f5f",
           "arrowhead": 0,
           "arrowwidth": 1
          },
          "autotypenumbers": "strict",
          "coloraxis": {
           "colorbar": {
            "outlinewidth": 0,
            "ticks": ""
           }
          },
          "colorscale": {
           "diverging": [
            [
             0,
             "#8e0152"
            ],
            [
             0.1,
             "#c51b7d"
            ],
            [
             0.2,
             "#de77ae"
            ],
            [
             0.3,
             "#f1b6da"
            ],
            [
             0.4,
             "#fde0ef"
            ],
            [
             0.5,
             "#f7f7f7"
            ],
            [
             0.6,
             "#e6f5d0"
            ],
            [
             0.7,
             "#b8e186"
            ],
            [
             0.8,
             "#7fbc41"
            ],
            [
             0.9,
             "#4d9221"
            ],
            [
             1,
             "#276419"
            ]
           ],
           "sequential": [
            [
             0,
             "#0d0887"
            ],
            [
             0.1111111111111111,
             "#46039f"
            ],
            [
             0.2222222222222222,
             "#7201a8"
            ],
            [
             0.3333333333333333,
             "#9c179e"
            ],
            [
             0.4444444444444444,
             "#bd3786"
            ],
            [
             0.5555555555555556,
             "#d8576b"
            ],
            [
             0.6666666666666666,
             "#ed7953"
            ],
            [
             0.7777777777777778,
             "#fb9f3a"
            ],
            [
             0.8888888888888888,
             "#fdca26"
            ],
            [
             1,
             "#f0f921"
            ]
           ],
           "sequentialminus": [
            [
             0,
             "#0d0887"
            ],
            [
             0.1111111111111111,
             "#46039f"
            ],
            [
             0.2222222222222222,
             "#7201a8"
            ],
            [
             0.3333333333333333,
             "#9c179e"
            ],
            [
             0.4444444444444444,
             "#bd3786"
            ],
            [
             0.5555555555555556,
             "#d8576b"
            ],
            [
             0.6666666666666666,
             "#ed7953"
            ],
            [
             0.7777777777777778,
             "#fb9f3a"
            ],
            [
             0.8888888888888888,
             "#fdca26"
            ],
            [
             1,
             "#f0f921"
            ]
           ]
          },
          "colorway": [
           "#636efa",
           "#EF553B",
           "#00cc96",
           "#ab63fa",
           "#FFA15A",
           "#19d3f3",
           "#FF6692",
           "#B6E880",
           "#FF97FF",
           "#FECB52"
          ],
          "font": {
           "color": "#2a3f5f"
          },
          "geo": {
           "bgcolor": "white",
           "lakecolor": "white",
           "landcolor": "white",
           "showlakes": true,
           "showland": true,
           "subunitcolor": "#C8D4E3"
          },
          "hoverlabel": {
           "align": "left"
          },
          "hovermode": "closest",
          "mapbox": {
           "style": "light"
          },
          "paper_bgcolor": "white",
          "plot_bgcolor": "white",
          "polar": {
           "angularaxis": {
            "gridcolor": "#EBF0F8",
            "linecolor": "#EBF0F8",
            "ticks": ""
           },
           "bgcolor": "white",
           "radialaxis": {
            "gridcolor": "#EBF0F8",
            "linecolor": "#EBF0F8",
            "ticks": ""
           }
          },
          "scene": {
           "xaxis": {
            "backgroundcolor": "white",
            "gridcolor": "#DFE8F3",
            "gridwidth": 2,
            "linecolor": "#EBF0F8",
            "showbackground": true,
            "ticks": "",
            "zerolinecolor": "#EBF0F8"
           },
           "yaxis": {
            "backgroundcolor": "white",
            "gridcolor": "#DFE8F3",
            "gridwidth": 2,
            "linecolor": "#EBF0F8",
            "showbackground": true,
            "ticks": "",
            "zerolinecolor": "#EBF0F8"
           },
           "zaxis": {
            "backgroundcolor": "white",
            "gridcolor": "#DFE8F3",
            "gridwidth": 2,
            "linecolor": "#EBF0F8",
            "showbackground": true,
            "ticks": "",
            "zerolinecolor": "#EBF0F8"
           }
          },
          "shapedefaults": {
           "line": {
            "color": "#2a3f5f"
           }
          },
          "ternary": {
           "aaxis": {
            "gridcolor": "#DFE8F3",
            "linecolor": "#A2B1C6",
            "ticks": ""
           },
           "baxis": {
            "gridcolor": "#DFE8F3",
            "linecolor": "#A2B1C6",
            "ticks": ""
           },
           "bgcolor": "white",
           "caxis": {
            "gridcolor": "#DFE8F3",
            "linecolor": "#A2B1C6",
            "ticks": ""
           }
          },
          "title": {
           "x": 0.05
          },
          "xaxis": {
           "automargin": true,
           "gridcolor": "#EBF0F8",
           "linecolor": "#EBF0F8",
           "ticks": "",
           "title": {
            "standoff": 15
           },
           "zerolinecolor": "#EBF0F8",
           "zerolinewidth": 2
          },
          "yaxis": {
           "automargin": true,
           "gridcolor": "#EBF0F8",
           "linecolor": "#EBF0F8",
           "ticks": "",
           "title": {
            "standoff": 15
           },
           "zerolinecolor": "#EBF0F8",
           "zerolinewidth": 2
          }
         }
        },
        "title": {
         "text": "Temperaturas Mensais - Lisboa",
         "x": 0.5,
         "xanchor": "center"
        },
        "xaxis": {
         "anchor": "y",
         "domain": [
          0,
          1
         ],
         "tickangle": 45,
         "title": {
          "text": "Ano-Mês"
         }
        },
        "yaxis": {
         "anchor": "x",
         "domain": [
          0,
          1
         ],
         "title": {
          "text": "Temperatura (°C)"
         }
        }
       }
      }
     },
     "metadata": {},
     "output_type": "display_data"
    },
    {
     "data": {
      "application/vnd.plotly.v1+json": {
       "config": {
        "plotlyServerURL": "https://plot.ly"
       },
       "data": [
        {
         "hovertemplate": "Tipo=media_maxtemp<br>Ano-Mês=%{x}<br>Temperatura (°C)=%{y}<extra></extra>",
         "legendgroup": "media_maxtemp",
         "line": {
          "color": "red",
          "dash": "solid"
         },
         "marker": {
          "symbol": "circle"
         },
         "mode": "lines",
         "name": "MaxTemp (mean)",
         "orientation": "v",
         "showlegend": true,
         "type": "scatter",
         "x": [
          "2024-06",
          "2024-07",
          "2024-08",
          "2024-09",
          "2024-10",
          "2024-11",
          "2024-12",
          "2025-01",
          "2025-02",
          "2025-03",
          "2025-04",
          "2025-05",
          "2025-06"
         ],
         "xaxis": "x",
         "y": {
          "bdata": "AAAAAAAANkC+99577708QJVSSimllD5A3t3d3d3dOEDfe++9994zQCIiIiIiojJAY4wxxhhjLEBCCCGEEEIqQJIkSZIkySxAttZaa621LkC8u7u7u7syQFtrrbXWWjZA3t3d3d3dPEA=",
          "dtype": "f8"
         },
         "yaxis": "y"
        },
        {
         "hovertemplate": "Tipo=media_mintemp<br>Ano-Mês=%{x}<br>Temperatura (°C)=%{y}<extra></extra>",
         "legendgroup": "media_mintemp",
         "line": {
          "color": "blue",
          "dash": "solid"
         },
         "marker": {
          "symbol": "circle"
         },
         "mode": "lines",
         "name": "MinTemp (mean)",
         "orientation": "v",
         "showlegend": true,
         "type": "scatter",
         "x": [
          "2024-06",
          "2024-07",
          "2024-08",
          "2024-09",
          "2024-10",
          "2024-11",
          "2024-12",
          "2025-01",
          "2025-02",
          "2025-03",
          "2025-04",
          "2025-05",
          "2025-06"
         ],
         "xaxis": "x",
         "y": {
          "bdata": "AAAAAAAALEBba6211lovQM4555xzzi9AzczMzMzMKUCMMcYYY4wpQAAAAAAAACZAlVJKKaWUFkDXWmuttdYaQEmSJEmSJBlAIYQQQgghGECamZmZmZkhQEoppZRSSiVAMzMzMzMzLUA=",
          "dtype": "f8"
         },
         "yaxis": "y"
        }
       ],
       "layout": {
        "annotations": [
         {
          "arrowhead": 2,
          "ax": 0,
          "ay": -30,
          "bgcolor": "white",
          "bordercolor": "gray",
          "borderpad": 4,
          "borderwidth": 1,
          "font": {
           "color": "black",
           "size": 12
          },
          "showarrow": true,
          "text": "Summer",
          "x": "2024-06",
          "y": 30.580645161290324
         },
         {
          "arrowhead": 2,
          "ax": 0,
          "ay": -30,
          "bgcolor": "white",
          "bordercolor": "gray",
          "borderpad": 4,
          "borderwidth": 1,
          "font": {
           "color": "black",
           "size": 12
          },
          "showarrow": true,
          "text": "Autumn",
          "x": "2024-09",
          "y": 30.580645161290324
         },
         {
          "arrowhead": 2,
          "ax": 0,
          "ay": -30,
          "bgcolor": "white",
          "bordercolor": "gray",
          "borderpad": 4,
          "borderwidth": 1,
          "font": {
           "color": "black",
           "size": 12
          },
          "showarrow": true,
          "text": "Winter",
          "x": "2024-12",
          "y": 30.580645161290324
         },
         {
          "arrowhead": 2,
          "ax": 0,
          "ay": -30,
          "bgcolor": "white",
          "bordercolor": "gray",
          "borderpad": 4,
          "borderwidth": 1,
          "font": {
           "color": "black",
           "size": 12
          },
          "showarrow": true,
          "text": "Spring",
          "x": "2025-03",
          "y": 30.580645161290324
         }
        ],
        "legend": {
         "title": {
          "text": "Tipo"
         },
         "tracegroupgap": 0
        },
        "shapes": [
         {
          "line": {
           "color": "gray",
           "dash": "dash",
           "width": 2
          },
          "type": "line",
          "x0": "2024-06",
          "x1": "2024-06",
          "xref": "x",
          "y0": 5.645161290322581,
          "y1": 30.580645161290324,
          "yref": "y"
         },
         {
          "line": {
           "color": "gray",
           "dash": "dash",
           "width": 2
          },
          "type": "line",
          "x0": "2024-09",
          "x1": "2024-09",
          "xref": "x",
          "y0": 5.645161290322581,
          "y1": 30.580645161290324,
          "yref": "y"
         },
         {
          "line": {
           "color": "gray",
           "dash": "dash",
           "width": 2
          },
          "type": "line",
          "x0": "2024-12",
          "x1": "2024-12",
          "xref": "x",
          "y0": 5.645161290322581,
          "y1": 30.580645161290324,
          "yref": "y"
         },
         {
          "line": {
           "color": "gray",
           "dash": "dash",
           "width": 2
          },
          "type": "line",
          "x0": "2025-03",
          "x1": "2025-03",
          "xref": "x",
          "y0": 5.645161290322581,
          "y1": 30.580645161290324,
          "yref": "y"
         }
        ],
        "template": {
         "data": {
          "bar": [
           {
            "error_x": {
             "color": "#2a3f5f"
            },
            "error_y": {
             "color": "#2a3f5f"
            },
            "marker": {
             "line": {
              "color": "white",
              "width": 0.5
             },
             "pattern": {
              "fillmode": "overlay",
              "size": 10,
              "solidity": 0.2
             }
            },
            "type": "bar"
           }
          ],
          "barpolar": [
           {
            "marker": {
             "line": {
              "color": "white",
              "width": 0.5
             },
             "pattern": {
              "fillmode": "overlay",
              "size": 10,
              "solidity": 0.2
             }
            },
            "type": "barpolar"
           }
          ],
          "carpet": [
           {
            "aaxis": {
             "endlinecolor": "#2a3f5f",
             "gridcolor": "#C8D4E3",
             "linecolor": "#C8D4E3",
             "minorgridcolor": "#C8D4E3",
             "startlinecolor": "#2a3f5f"
            },
            "baxis": {
             "endlinecolor": "#2a3f5f",
             "gridcolor": "#C8D4E3",
             "linecolor": "#C8D4E3",
             "minorgridcolor": "#C8D4E3",
             "startlinecolor": "#2a3f5f"
            },
            "type": "carpet"
           }
          ],
          "choropleth": [
           {
            "colorbar": {
             "outlinewidth": 0,
             "ticks": ""
            },
            "type": "choropleth"
           }
          ],
          "contour": [
           {
            "colorbar": {
             "outlinewidth": 0,
             "ticks": ""
            },
            "colorscale": [
             [
              0,
              "#0d0887"
             ],
             [
              0.1111111111111111,
              "#46039f"
             ],
             [
              0.2222222222222222,
              "#7201a8"
             ],
             [
              0.3333333333333333,
              "#9c179e"
             ],
             [
              0.4444444444444444,
              "#bd3786"
             ],
             [
              0.5555555555555556,
              "#d8576b"
             ],
             [
              0.6666666666666666,
              "#ed7953"
             ],
             [
              0.7777777777777778,
              "#fb9f3a"
             ],
             [
              0.8888888888888888,
              "#fdca26"
             ],
             [
              1,
              "#f0f921"
             ]
            ],
            "type": "contour"
           }
          ],
          "contourcarpet": [
           {
            "colorbar": {
             "outlinewidth": 0,
             "ticks": ""
            },
            "type": "contourcarpet"
           }
          ],
          "heatmap": [
           {
            "colorbar": {
             "outlinewidth": 0,
             "ticks": ""
            },
            "colorscale": [
             [
              0,
              "#0d0887"
             ],
             [
              0.1111111111111111,
              "#46039f"
             ],
             [
              0.2222222222222222,
              "#7201a8"
             ],
             [
              0.3333333333333333,
              "#9c179e"
             ],
             [
              0.4444444444444444,
              "#bd3786"
             ],
             [
              0.5555555555555556,
              "#d8576b"
             ],
             [
              0.6666666666666666,
              "#ed7953"
             ],
             [
              0.7777777777777778,
              "#fb9f3a"
             ],
             [
              0.8888888888888888,
              "#fdca26"
             ],
             [
              1,
              "#f0f921"
             ]
            ],
            "type": "heatmap"
           }
          ],
          "histogram": [
           {
            "marker": {
             "pattern": {
              "fillmode": "overlay",
              "size": 10,
              "solidity": 0.2
             }
            },
            "type": "histogram"
           }
          ],
          "histogram2d": [
           {
            "colorbar": {
             "outlinewidth": 0,
             "ticks": ""
            },
            "colorscale": [
             [
              0,
              "#0d0887"
             ],
             [
              0.1111111111111111,
              "#46039f"
             ],
             [
              0.2222222222222222,
              "#7201a8"
             ],
             [
              0.3333333333333333,
              "#9c179e"
             ],
             [
              0.4444444444444444,
              "#bd3786"
             ],
             [
              0.5555555555555556,
              "#d8576b"
             ],
             [
              0.6666666666666666,
              "#ed7953"
             ],
             [
              0.7777777777777778,
              "#fb9f3a"
             ],
             [
              0.8888888888888888,
              "#fdca26"
             ],
             [
              1,
              "#f0f921"
             ]
            ],
            "type": "histogram2d"
           }
          ],
          "histogram2dcontour": [
           {
            "colorbar": {
             "outlinewidth": 0,
             "ticks": ""
            },
            "colorscale": [
             [
              0,
              "#0d0887"
             ],
             [
              0.1111111111111111,
              "#46039f"
             ],
             [
              0.2222222222222222,
              "#7201a8"
             ],
             [
              0.3333333333333333,
              "#9c179e"
             ],
             [
              0.4444444444444444,
              "#bd3786"
             ],
             [
              0.5555555555555556,
              "#d8576b"
             ],
             [
              0.6666666666666666,
              "#ed7953"
             ],
             [
              0.7777777777777778,
              "#fb9f3a"
             ],
             [
              0.8888888888888888,
              "#fdca26"
             ],
             [
              1,
              "#f0f921"
             ]
            ],
            "type": "histogram2dcontour"
           }
          ],
          "mesh3d": [
           {
            "colorbar": {
             "outlinewidth": 0,
             "ticks": ""
            },
            "type": "mesh3d"
           }
          ],
          "parcoords": [
           {
            "line": {
             "colorbar": {
              "outlinewidth": 0,
              "ticks": ""
             }
            },
            "type": "parcoords"
           }
          ],
          "pie": [
           {
            "automargin": true,
            "type": "pie"
           }
          ],
          "scatter": [
           {
            "fillpattern": {
             "fillmode": "overlay",
             "size": 10,
             "solidity": 0.2
            },
            "type": "scatter"
           }
          ],
          "scatter3d": [
           {
            "line": {
             "colorbar": {
              "outlinewidth": 0,
              "ticks": ""
             }
            },
            "marker": {
             "colorbar": {
              "outlinewidth": 0,
              "ticks": ""
             }
            },
            "type": "scatter3d"
           }
          ],
          "scattercarpet": [
           {
            "marker": {
             "colorbar": {
              "outlinewidth": 0,
              "ticks": ""
             }
            },
            "type": "scattercarpet"
           }
          ],
          "scattergeo": [
           {
            "marker": {
             "colorbar": {
              "outlinewidth": 0,
              "ticks": ""
             }
            },
            "type": "scattergeo"
           }
          ],
          "scattergl": [
           {
            "marker": {
             "colorbar": {
              "outlinewidth": 0,
              "ticks": ""
             }
            },
            "type": "scattergl"
           }
          ],
          "scattermap": [
           {
            "marker": {
             "colorbar": {
              "outlinewidth": 0,
              "ticks": ""
             }
            },
            "type": "scattermap"
           }
          ],
          "scattermapbox": [
           {
            "marker": {
             "colorbar": {
              "outlinewidth": 0,
              "ticks": ""
             }
            },
            "type": "scattermapbox"
           }
          ],
          "scatterpolar": [
           {
            "marker": {
             "colorbar": {
              "outlinewidth": 0,
              "ticks": ""
             }
            },
            "type": "scatterpolar"
           }
          ],
          "scatterpolargl": [
           {
            "marker": {
             "colorbar": {
              "outlinewidth": 0,
              "ticks": ""
             }
            },
            "type": "scatterpolargl"
           }
          ],
          "scatterternary": [
           {
            "marker": {
             "colorbar": {
              "outlinewidth": 0,
              "ticks": ""
             }
            },
            "type": "scatterternary"
           }
          ],
          "surface": [
           {
            "colorbar": {
             "outlinewidth": 0,
             "ticks": ""
            },
            "colorscale": [
             [
              0,
              "#0d0887"
             ],
             [
              0.1111111111111111,
              "#46039f"
             ],
             [
              0.2222222222222222,
              "#7201a8"
             ],
             [
              0.3333333333333333,
              "#9c179e"
             ],
             [
              0.4444444444444444,
              "#bd3786"
             ],
             [
              0.5555555555555556,
              "#d8576b"
             ],
             [
              0.6666666666666666,
              "#ed7953"
             ],
             [
              0.7777777777777778,
              "#fb9f3a"
             ],
             [
              0.8888888888888888,
              "#fdca26"
             ],
             [
              1,
              "#f0f921"
             ]
            ],
            "type": "surface"
           }
          ],
          "table": [
           {
            "cells": {
             "fill": {
              "color": "#EBF0F8"
             },
             "line": {
              "color": "white"
             }
            },
            "header": {
             "fill": {
              "color": "#C8D4E3"
             },
             "line": {
              "color": "white"
             }
            },
            "type": "table"
           }
          ]
         },
         "layout": {
          "annotationdefaults": {
           "arrowcolor": "#2a3f5f",
           "arrowhead": 0,
           "arrowwidth": 1
          },
          "autotypenumbers": "strict",
          "coloraxis": {
           "colorbar": {
            "outlinewidth": 0,
            "ticks": ""
           }
          },
          "colorscale": {
           "diverging": [
            [
             0,
             "#8e0152"
            ],
            [
             0.1,
             "#c51b7d"
            ],
            [
             0.2,
             "#de77ae"
            ],
            [
             0.3,
             "#f1b6da"
            ],
            [
             0.4,
             "#fde0ef"
            ],
            [
             0.5,
             "#f7f7f7"
            ],
            [
             0.6,
             "#e6f5d0"
            ],
            [
             0.7,
             "#b8e186"
            ],
            [
             0.8,
             "#7fbc41"
            ],
            [
             0.9,
             "#4d9221"
            ],
            [
             1,
             "#276419"
            ]
           ],
           "sequential": [
            [
             0,
             "#0d0887"
            ],
            [
             0.1111111111111111,
             "#46039f"
            ],
            [
             0.2222222222222222,
             "#7201a8"
            ],
            [
             0.3333333333333333,
             "#9c179e"
            ],
            [
             0.4444444444444444,
             "#bd3786"
            ],
            [
             0.5555555555555556,
             "#d8576b"
            ],
            [
             0.6666666666666666,
             "#ed7953"
            ],
            [
             0.7777777777777778,
             "#fb9f3a"
            ],
            [
             0.8888888888888888,
             "#fdca26"
            ],
            [
             1,
             "#f0f921"
            ]
           ],
           "sequentialminus": [
            [
             0,
             "#0d0887"
            ],
            [
             0.1111111111111111,
             "#46039f"
            ],
            [
             0.2222222222222222,
             "#7201a8"
            ],
            [
             0.3333333333333333,
             "#9c179e"
            ],
            [
             0.4444444444444444,
             "#bd3786"
            ],
            [
             0.5555555555555556,
             "#d8576b"
            ],
            [
             0.6666666666666666,
             "#ed7953"
            ],
            [
             0.7777777777777778,
             "#fb9f3a"
            ],
            [
             0.8888888888888888,
             "#fdca26"
            ],
            [
             1,
             "#f0f921"
            ]
           ]
          },
          "colorway": [
           "#636efa",
           "#EF553B",
           "#00cc96",
           "#ab63fa",
           "#FFA15A",
           "#19d3f3",
           "#FF6692",
           "#B6E880",
           "#FF97FF",
           "#FECB52"
          ],
          "font": {
           "color": "#2a3f5f"
          },
          "geo": {
           "bgcolor": "white",
           "lakecolor": "white",
           "landcolor": "white",
           "showlakes": true,
           "showland": true,
           "subunitcolor": "#C8D4E3"
          },
          "hoverlabel": {
           "align": "left"
          },
          "hovermode": "closest",
          "mapbox": {
           "style": "light"
          },
          "paper_bgcolor": "white",
          "plot_bgcolor": "white",
          "polar": {
           "angularaxis": {
            "gridcolor": "#EBF0F8",
            "linecolor": "#EBF0F8",
            "ticks": ""
           },
           "bgcolor": "white",
           "radialaxis": {
            "gridcolor": "#EBF0F8",
            "linecolor": "#EBF0F8",
            "ticks": ""
           }
          },
          "scene": {
           "xaxis": {
            "backgroundcolor": "white",
            "gridcolor": "#DFE8F3",
            "gridwidth": 2,
            "linecolor": "#EBF0F8",
            "showbackground": true,
            "ticks": "",
            "zerolinecolor": "#EBF0F8"
           },
           "yaxis": {
            "backgroundcolor": "white",
            "gridcolor": "#DFE8F3",
            "gridwidth": 2,
            "linecolor": "#EBF0F8",
            "showbackground": true,
            "ticks": "",
            "zerolinecolor": "#EBF0F8"
           },
           "zaxis": {
            "backgroundcolor": "white",
            "gridcolor": "#DFE8F3",
            "gridwidth": 2,
            "linecolor": "#EBF0F8",
            "showbackground": true,
            "ticks": "",
            "zerolinecolor": "#EBF0F8"
           }
          },
          "shapedefaults": {
           "line": {
            "color": "#2a3f5f"
           }
          },
          "ternary": {
           "aaxis": {
            "gridcolor": "#DFE8F3",
            "linecolor": "#A2B1C6",
            "ticks": ""
           },
           "baxis": {
            "gridcolor": "#DFE8F3",
            "linecolor": "#A2B1C6",
            "ticks": ""
           },
           "bgcolor": "white",
           "caxis": {
            "gridcolor": "#DFE8F3",
            "linecolor": "#A2B1C6",
            "ticks": ""
           }
          },
          "title": {
           "x": 0.05
          },
          "xaxis": {
           "automargin": true,
           "gridcolor": "#EBF0F8",
           "linecolor": "#EBF0F8",
           "ticks": "",
           "title": {
            "standoff": 15
           },
           "zerolinecolor": "#EBF0F8",
           "zerolinewidth": 2
          },
          "yaxis": {
           "automargin": true,
           "gridcolor": "#EBF0F8",
           "linecolor": "#EBF0F8",
           "ticks": "",
           "title": {
            "standoff": 15
           },
           "zerolinecolor": "#EBF0F8",
           "zerolinewidth": 2
          }
         }
        },
        "title": {
         "text": "Temperaturas Mensais - Braga",
         "x": 0.5,
         "xanchor": "center"
        },
        "xaxis": {
         "anchor": "y",
         "domain": [
          0,
          1
         ],
         "tickangle": 45,
         "title": {
          "text": "Ano-Mês"
         }
        },
        "yaxis": {
         "anchor": "x",
         "domain": [
          0,
          1
         ],
         "title": {
          "text": "Temperatura (°C)"
         }
        }
       }
      }
     },
     "metadata": {},
     "output_type": "display_data"
    },
    {
     "data": {
      "application/vnd.plotly.v1+json": {
       "config": {
        "plotlyServerURL": "https://plot.ly"
       },
       "data": [
        {
         "hovertemplate": "Tipo=media_maxtemp<br>Ano-Mês=%{x}<br>Temperatura (°C)=%{y}<extra></extra>",
         "legendgroup": "media_maxtemp",
         "line": {
          "color": "red",
          "dash": "solid"
         },
         "marker": {
          "symbol": "circle"
         },
         "mode": "lines",
         "name": "MaxTemp (mean)",
         "orientation": "v",
         "showlegend": true,
         "type": "scatter",
         "x": [
          "2024-06",
          "2024-07",
          "2024-08",
          "2024-09",
          "2024-10",
          "2024-11",
          "2024-12",
          "2025-01",
          "2025-02",
          "2025-03",
          "2025-04",
          "2025-05",
          "2025-06"
         ],
         "xaxis": "x",
         "y": {
          "bdata": "AAAAAAAAN0A655xzzjk9QHTOOeeccz5AMzMzMzMzOkBjjDHGGGM2QFVVVVVVVTRAlVJKKaWUMECttdZaa60vQNu2bdu2LTBAMsYYY4wxMEAAAAAAAIAzQK211lprrTZAvLu7u7s7PEA=",
          "dtype": "f8"
         },
         "yaxis": "y"
        },
        {
         "hovertemplate": "Tipo=media_mintemp<br>Ano-Mês=%{x}<br>Temperatura (°C)=%{y}<extra></extra>",
         "legendgroup": "media_mintemp",
         "line": {
          "color": "blue",
          "dash": "solid"
         },
         "marker": {
          "symbol": "circle"
         },
         "mode": "lines",
         "name": "MinTemp (mean)",
         "orientation": "v",
         "showlegend": true,
         "type": "scatter",
         "x": [
          "2024-06",
          "2024-07",
          "2024-08",
          "2024-09",
          "2024-10",
          "2024-11",
          "2024-12",
          "2025-01",
          "2025-02",
          "2025-03",
          "2025-04",
          "2025-05",
          "2025-06"
         ],
         "xaxis": "x",
         "y": {
          "bdata": "AAAAAAAAMUDvvffee+8wQBljjDHGGDFAAAAAAAAAMEAyxhhjjDEwQGZmZmZmZitA55xzzjnnIkCllFJKKaUkQEmSJEmSpCNArbXWWmutI0Dv7u7u7u4nQIQQQgghhCpAzczMzMxMMEA=",
          "dtype": "f8"
         },
         "yaxis": "y"
        }
       ],
       "layout": {
        "annotations": [
         {
          "arrowhead": 2,
          "ax": 0,
          "ay": -30,
          "bgcolor": "white",
          "bordercolor": "gray",
          "borderpad": 4,
          "borderwidth": 1,
          "font": {
           "color": "black",
           "size": 12
          },
          "showarrow": true,
          "text": "Summer",
          "x": "2024-06",
          "y": 30.451612903225808
         },
         {
          "arrowhead": 2,
          "ax": 0,
          "ay": -30,
          "bgcolor": "white",
          "bordercolor": "gray",
          "borderpad": 4,
          "borderwidth": 1,
          "font": {
           "color": "black",
           "size": 12
          },
          "showarrow": true,
          "text": "Autumn",
          "x": "2024-09",
          "y": 30.451612903225808
         },
         {
          "arrowhead": 2,
          "ax": 0,
          "ay": -30,
          "bgcolor": "white",
          "bordercolor": "gray",
          "borderpad": 4,
          "borderwidth": 1,
          "font": {
           "color": "black",
           "size": 12
          },
          "showarrow": true,
          "text": "Winter",
          "x": "2024-12",
          "y": 30.451612903225808
         },
         {
          "arrowhead": 2,
          "ax": 0,
          "ay": -30,
          "bgcolor": "white",
          "bordercolor": "gray",
          "borderpad": 4,
          "borderwidth": 1,
          "font": {
           "color": "black",
           "size": 12
          },
          "showarrow": true,
          "text": "Spring",
          "x": "2025-03",
          "y": 30.451612903225808
         }
        ],
        "legend": {
         "title": {
          "text": "Tipo"
         },
         "tracegroupgap": 0
        },
        "shapes": [
         {
          "line": {
           "color": "gray",
           "dash": "dash",
           "width": 2
          },
          "type": "line",
          "x0": "2024-06",
          "x1": "2024-06",
          "xref": "x",
          "y0": 9.451612903225806,
          "y1": 30.451612903225808,
          "yref": "y"
         },
         {
          "line": {
           "color": "gray",
           "dash": "dash",
           "width": 2
          },
          "type": "line",
          "x0": "2024-09",
          "x1": "2024-09",
          "xref": "x",
          "y0": 9.451612903225806,
          "y1": 30.451612903225808,
          "yref": "y"
         },
         {
          "line": {
           "color": "gray",
           "dash": "dash",
           "width": 2
          },
          "type": "line",
          "x0": "2024-12",
          "x1": "2024-12",
          "xref": "x",
          "y0": 9.451612903225806,
          "y1": 30.451612903225808,
          "yref": "y"
         },
         {
          "line": {
           "color": "gray",
           "dash": "dash",
           "width": 2
          },
          "type": "line",
          "x0": "2025-03",
          "x1": "2025-03",
          "xref": "x",
          "y0": 9.451612903225806,
          "y1": 30.451612903225808,
          "yref": "y"
         }
        ],
        "template": {
         "data": {
          "bar": [
           {
            "error_x": {
             "color": "#2a3f5f"
            },
            "error_y": {
             "color": "#2a3f5f"
            },
            "marker": {
             "line": {
              "color": "white",
              "width": 0.5
             },
             "pattern": {
              "fillmode": "overlay",
              "size": 10,
              "solidity": 0.2
             }
            },
            "type": "bar"
           }
          ],
          "barpolar": [
           {
            "marker": {
             "line": {
              "color": "white",
              "width": 0.5
             },
             "pattern": {
              "fillmode": "overlay",
              "size": 10,
              "solidity": 0.2
             }
            },
            "type": "barpolar"
           }
          ],
          "carpet": [
           {
            "aaxis": {
             "endlinecolor": "#2a3f5f",
             "gridcolor": "#C8D4E3",
             "linecolor": "#C8D4E3",
             "minorgridcolor": "#C8D4E3",
             "startlinecolor": "#2a3f5f"
            },
            "baxis": {
             "endlinecolor": "#2a3f5f",
             "gridcolor": "#C8D4E3",
             "linecolor": "#C8D4E3",
             "minorgridcolor": "#C8D4E3",
             "startlinecolor": "#2a3f5f"
            },
            "type": "carpet"
           }
          ],
          "choropleth": [
           {
            "colorbar": {
             "outlinewidth": 0,
             "ticks": ""
            },
            "type": "choropleth"
           }
          ],
          "contour": [
           {
            "colorbar": {
             "outlinewidth": 0,
             "ticks": ""
            },
            "colorscale": [
             [
              0,
              "#0d0887"
             ],
             [
              0.1111111111111111,
              "#46039f"
             ],
             [
              0.2222222222222222,
              "#7201a8"
             ],
             [
              0.3333333333333333,
              "#9c179e"
             ],
             [
              0.4444444444444444,
              "#bd3786"
             ],
             [
              0.5555555555555556,
              "#d8576b"
             ],
             [
              0.6666666666666666,
              "#ed7953"
             ],
             [
              0.7777777777777778,
              "#fb9f3a"
             ],
             [
              0.8888888888888888,
              "#fdca26"
             ],
             [
              1,
              "#f0f921"
             ]
            ],
            "type": "contour"
           }
          ],
          "contourcarpet": [
           {
            "colorbar": {
             "outlinewidth": 0,
             "ticks": ""
            },
            "type": "contourcarpet"
           }
          ],
          "heatmap": [
           {
            "colorbar": {
             "outlinewidth": 0,
             "ticks": ""
            },
            "colorscale": [
             [
              0,
              "#0d0887"
             ],
             [
              0.1111111111111111,
              "#46039f"
             ],
             [
              0.2222222222222222,
              "#7201a8"
             ],
             [
              0.3333333333333333,
              "#9c179e"
             ],
             [
              0.4444444444444444,
              "#bd3786"
             ],
             [
              0.5555555555555556,
              "#d8576b"
             ],
             [
              0.6666666666666666,
              "#ed7953"
             ],
             [
              0.7777777777777778,
              "#fb9f3a"
             ],
             [
              0.8888888888888888,
              "#fdca26"
             ],
             [
              1,
              "#f0f921"
             ]
            ],
            "type": "heatmap"
           }
          ],
          "histogram": [
           {
            "marker": {
             "pattern": {
              "fillmode": "overlay",
              "size": 10,
              "solidity": 0.2
             }
            },
            "type": "histogram"
           }
          ],
          "histogram2d": [
           {
            "colorbar": {
             "outlinewidth": 0,
             "ticks": ""
            },
            "colorscale": [
             [
              0,
              "#0d0887"
             ],
             [
              0.1111111111111111,
              "#46039f"
             ],
             [
              0.2222222222222222,
              "#7201a8"
             ],
             [
              0.3333333333333333,
              "#9c179e"
             ],
             [
              0.4444444444444444,
              "#bd3786"
             ],
             [
              0.5555555555555556,
              "#d8576b"
             ],
             [
              0.6666666666666666,
              "#ed7953"
             ],
             [
              0.7777777777777778,
              "#fb9f3a"
             ],
             [
              0.8888888888888888,
              "#fdca26"
             ],
             [
              1,
              "#f0f921"
             ]
            ],
            "type": "histogram2d"
           }
          ],
          "histogram2dcontour": [
           {
            "colorbar": {
             "outlinewidth": 0,
             "ticks": ""
            },
            "colorscale": [
             [
              0,
              "#0d0887"
             ],
             [
              0.1111111111111111,
              "#46039f"
             ],
             [
              0.2222222222222222,
              "#7201a8"
             ],
             [
              0.3333333333333333,
              "#9c179e"
             ],
             [
              0.4444444444444444,
              "#bd3786"
             ],
             [
              0.5555555555555556,
              "#d8576b"
             ],
             [
              0.6666666666666666,
              "#ed7953"
             ],
             [
              0.7777777777777778,
              "#fb9f3a"
             ],
             [
              0.8888888888888888,
              "#fdca26"
             ],
             [
              1,
              "#f0f921"
             ]
            ],
            "type": "histogram2dcontour"
           }
          ],
          "mesh3d": [
           {
            "colorbar": {
             "outlinewidth": 0,
             "ticks": ""
            },
            "type": "mesh3d"
           }
          ],
          "parcoords": [
           {
            "line": {
             "colorbar": {
              "outlinewidth": 0,
              "ticks": ""
             }
            },
            "type": "parcoords"
           }
          ],
          "pie": [
           {
            "automargin": true,
            "type": "pie"
           }
          ],
          "scatter": [
           {
            "fillpattern": {
             "fillmode": "overlay",
             "size": 10,
             "solidity": 0.2
            },
            "type": "scatter"
           }
          ],
          "scatter3d": [
           {
            "line": {
             "colorbar": {
              "outlinewidth": 0,
              "ticks": ""
             }
            },
            "marker": {
             "colorbar": {
              "outlinewidth": 0,
              "ticks": ""
             }
            },
            "type": "scatter3d"
           }
          ],
          "scattercarpet": [
           {
            "marker": {
             "colorbar": {
              "outlinewidth": 0,
              "ticks": ""
             }
            },
            "type": "scattercarpet"
           }
          ],
          "scattergeo": [
           {
            "marker": {
             "colorbar": {
              "outlinewidth": 0,
              "ticks": ""
             }
            },
            "type": "scattergeo"
           }
          ],
          "scattergl": [
           {
            "marker": {
             "colorbar": {
              "outlinewidth": 0,
              "ticks": ""
             }
            },
            "type": "scattergl"
           }
          ],
          "scattermap": [
           {
            "marker": {
             "colorbar": {
              "outlinewidth": 0,
              "ticks": ""
             }
            },
            "type": "scattermap"
           }
          ],
          "scattermapbox": [
           {
            "marker": {
             "colorbar": {
              "outlinewidth": 0,
              "ticks": ""
             }
            },
            "type": "scattermapbox"
           }
          ],
          "scatterpolar": [
           {
            "marker": {
             "colorbar": {
              "outlinewidth": 0,
              "ticks": ""
             }
            },
            "type": "scatterpolar"
           }
          ],
          "scatterpolargl": [
           {
            "marker": {
             "colorbar": {
              "outlinewidth": 0,
              "ticks": ""
             }
            },
            "type": "scatterpolargl"
           }
          ],
          "scatterternary": [
           {
            "marker": {
             "colorbar": {
              "outlinewidth": 0,
              "ticks": ""
             }
            },
            "type": "scatterternary"
           }
          ],
          "surface": [
           {
            "colorbar": {
             "outlinewidth": 0,
             "ticks": ""
            },
            "colorscale": [
             [
              0,
              "#0d0887"
             ],
             [
              0.1111111111111111,
              "#46039f"
             ],
             [
              0.2222222222222222,
              "#7201a8"
             ],
             [
              0.3333333333333333,
              "#9c179e"
             ],
             [
              0.4444444444444444,
              "#bd3786"
             ],
             [
              0.5555555555555556,
              "#d8576b"
             ],
             [
              0.6666666666666666,
              "#ed7953"
             ],
             [
              0.7777777777777778,
              "#fb9f3a"
             ],
             [
              0.8888888888888888,
              "#fdca26"
             ],
             [
              1,
              "#f0f921"
             ]
            ],
            "type": "surface"
           }
          ],
          "table": [
           {
            "cells": {
             "fill": {
              "color": "#EBF0F8"
             },
             "line": {
              "color": "white"
             }
            },
            "header": {
             "fill": {
              "color": "#C8D4E3"
             },
             "line": {
              "color": "white"
             }
            },
            "type": "table"
           }
          ]
         },
         "layout": {
          "annotationdefaults": {
           "arrowcolor": "#2a3f5f",
           "arrowhead": 0,
           "arrowwidth": 1
          },
          "autotypenumbers": "strict",
          "coloraxis": {
           "colorbar": {
            "outlinewidth": 0,
            "ticks": ""
           }
          },
          "colorscale": {
           "diverging": [
            [
             0,
             "#8e0152"
            ],
            [
             0.1,
             "#c51b7d"
            ],
            [
             0.2,
             "#de77ae"
            ],
            [
             0.3,
             "#f1b6da"
            ],
            [
             0.4,
             "#fde0ef"
            ],
            [
             0.5,
             "#f7f7f7"
            ],
            [
             0.6,
             "#e6f5d0"
            ],
            [
             0.7,
             "#b8e186"
            ],
            [
             0.8,
             "#7fbc41"
            ],
            [
             0.9,
             "#4d9221"
            ],
            [
             1,
             "#276419"
            ]
           ],
           "sequential": [
            [
             0,
             "#0d0887"
            ],
            [
             0.1111111111111111,
             "#46039f"
            ],
            [
             0.2222222222222222,
             "#7201a8"
            ],
            [
             0.3333333333333333,
             "#9c179e"
            ],
            [
             0.4444444444444444,
             "#bd3786"
            ],
            [
             0.5555555555555556,
             "#d8576b"
            ],
            [
             0.6666666666666666,
             "#ed7953"
            ],
            [
             0.7777777777777778,
             "#fb9f3a"
            ],
            [
             0.8888888888888888,
             "#fdca26"
            ],
            [
             1,
             "#f0f921"
            ]
           ],
           "sequentialminus": [
            [
             0,
             "#0d0887"
            ],
            [
             0.1111111111111111,
             "#46039f"
            ],
            [
             0.2222222222222222,
             "#7201a8"
            ],
            [
             0.3333333333333333,
             "#9c179e"
            ],
            [
             0.4444444444444444,
             "#bd3786"
            ],
            [
             0.5555555555555556,
             "#d8576b"
            ],
            [
             0.6666666666666666,
             "#ed7953"
            ],
            [
             0.7777777777777778,
             "#fb9f3a"
            ],
            [
             0.8888888888888888,
             "#fdca26"
            ],
            [
             1,
             "#f0f921"
            ]
           ]
          },
          "colorway": [
           "#636efa",
           "#EF553B",
           "#00cc96",
           "#ab63fa",
           "#FFA15A",
           "#19d3f3",
           "#FF6692",
           "#B6E880",
           "#FF97FF",
           "#FECB52"
          ],
          "font": {
           "color": "#2a3f5f"
          },
          "geo": {
           "bgcolor": "white",
           "lakecolor": "white",
           "landcolor": "white",
           "showlakes": true,
           "showland": true,
           "subunitcolor": "#C8D4E3"
          },
          "hoverlabel": {
           "align": "left"
          },
          "hovermode": "closest",
          "mapbox": {
           "style": "light"
          },
          "paper_bgcolor": "white",
          "plot_bgcolor": "white",
          "polar": {
           "angularaxis": {
            "gridcolor": "#EBF0F8",
            "linecolor": "#EBF0F8",
            "ticks": ""
           },
           "bgcolor": "white",
           "radialaxis": {
            "gridcolor": "#EBF0F8",
            "linecolor": "#EBF0F8",
            "ticks": ""
           }
          },
          "scene": {
           "xaxis": {
            "backgroundcolor": "white",
            "gridcolor": "#DFE8F3",
            "gridwidth": 2,
            "linecolor": "#EBF0F8",
            "showbackground": true,
            "ticks": "",
            "zerolinecolor": "#EBF0F8"
           },
           "yaxis": {
            "backgroundcolor": "white",
            "gridcolor": "#DFE8F3",
            "gridwidth": 2,
            "linecolor": "#EBF0F8",
            "showbackground": true,
            "ticks": "",
            "zerolinecolor": "#EBF0F8"
           },
           "zaxis": {
            "backgroundcolor": "white",
            "gridcolor": "#DFE8F3",
            "gridwidth": 2,
            "linecolor": "#EBF0F8",
            "showbackground": true,
            "ticks": "",
            "zerolinecolor": "#EBF0F8"
           }
          },
          "shapedefaults": {
           "line": {
            "color": "#2a3f5f"
           }
          },
          "ternary": {
           "aaxis": {
            "gridcolor": "#DFE8F3",
            "linecolor": "#A2B1C6",
            "ticks": ""
           },
           "baxis": {
            "gridcolor": "#DFE8F3",
            "linecolor": "#A2B1C6",
            "ticks": ""
           },
           "bgcolor": "white",
           "caxis": {
            "gridcolor": "#DFE8F3",
            "linecolor": "#A2B1C6",
            "ticks": ""
           }
          },
          "title": {
           "x": 0.05
          },
          "xaxis": {
           "automargin": true,
           "gridcolor": "#EBF0F8",
           "linecolor": "#EBF0F8",
           "ticks": "",
           "title": {
            "standoff": 15
           },
           "zerolinecolor": "#EBF0F8",
           "zerolinewidth": 2
          },
          "yaxis": {
           "automargin": true,
           "gridcolor": "#EBF0F8",
           "linecolor": "#EBF0F8",
           "ticks": "",
           "title": {
            "standoff": 15
           },
           "zerolinecolor": "#EBF0F8",
           "zerolinewidth": 2
          }
         }
        },
        "title": {
         "text": "Temperaturas Mensais - Setubal",
         "x": 0.5,
         "xanchor": "center"
        },
        "xaxis": {
         "anchor": "y",
         "domain": [
          0,
          1
         ],
         "tickangle": 45,
         "title": {
          "text": "Ano-Mês"
         }
        },
        "yaxis": {
         "anchor": "x",
         "domain": [
          0,
          1
         ],
         "title": {
          "text": "Temperatura (°C)"
         }
        }
       }
      }
     },
     "metadata": {},
     "output_type": "display_data"
    }
   ],
   "source": [
    "# Exemplo de uso:\n",
    "cidades_lista = ['Monchique','Porto', 'Lisboa', 'Braga', 'Setubal']\n",
    "weatherClassifier.plot_temperaturas(cidades_lista, df_resumo_mensal)"
   ]
  }
 ],
 "metadata": {
  "kernelspec": {
   "display_name": "Python 3",
   "language": "python",
   "name": "python3"
  },
  "language_info": {
   "codemirror_mode": {
    "name": "ipython",
    "version": 3
   },
   "file_extension": ".py",
   "mimetype": "text/x-python",
   "name": "python",
   "nbconvert_exporter": "python",
   "pygments_lexer": "ipython3",
   "version": "3.11.9"
  }
 },
 "nbformat": 4,
 "nbformat_minor": 5
}
