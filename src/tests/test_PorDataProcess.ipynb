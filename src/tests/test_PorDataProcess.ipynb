{
 "cells": [
  {
   "cell_type": "code",
   "execution_count": 11,
   "id": "1261032b",
   "metadata": {},
   "outputs": [],
   "source": [
    "import sys"
   ]
  },
  {
   "cell_type": "code",
   "execution_count": 16,
   "id": "5a172c3b",
   "metadata": {},
   "outputs": [],
   "source": [
    "sys.path.append(r'c:\\Users\\johns\\Documents\\Projetos\\MPAlugueisLisboa\\src')"
   ]
  },
  {
   "cell_type": "code",
   "execution_count": 17,
   "id": "0af3288e",
   "metadata": {},
   "outputs": [],
   "source": [
    "from PordataPt.porDataProcess import PorDataProcess"
   ]
  },
  {
   "cell_type": "code",
   "execution_count": 19,
   "id": "bb099a1b",
   "metadata": {},
   "outputs": [],
   "source": [
    "porDataProcess = PorDataProcess()"
   ]
  },
  {
   "cell_type": "code",
   "execution_count": 23,
   "id": "caa1ec18",
   "metadata": {},
   "outputs": [
    {
     "name": "stderr",
     "output_type": "stream",
     "text": [
      "File pordataFiles.json not found\n"
     ]
    },
    {
     "ename": "FileNotFoundError",
     "evalue": "[Errno 2] No such file or directory: 'pordataFiles.json'",
     "output_type": "error",
     "traceback": [
      "\u001b[31m---------------------------------------------------------------------------\u001b[39m",
      "\u001b[31mFileNotFoundError\u001b[39m                         Traceback (most recent call last)",
      "\u001b[36mCell\u001b[39m\u001b[36m \u001b[39m\u001b[32mIn[23]\u001b[39m\u001b[32m, line 2\u001b[39m\n\u001b[32m      1\u001b[39m file_path = \u001b[33m\"\u001b[39m\u001b[33mpordataFiles.json\u001b[39m\u001b[33m\"\u001b[39m\n\u001b[32m----> \u001b[39m\u001b[32m2\u001b[39m arquivos = \u001b[43mporDataProcess\u001b[49m\u001b[43m.\u001b[49m\u001b[43mread_json_file\u001b[49m\u001b[43m(\u001b[49m\u001b[43mfile_path\u001b[49m\u001b[43m)\u001b[49m\n",
      "\u001b[36mFile \u001b[39m\u001b[32mc:\\Users\\johns\\Documents\\Projetos\\MPAlugueisLisboa\\src\\PordataPt\\porDataProcess.py:42\u001b[39m, in \u001b[36mPorDataProcess.read_json_file\u001b[39m\u001b[34m(file_path)\u001b[39m\n\u001b[32m     40\u001b[39m \u001b[38;5;28;01mexcept\u001b[39;00m \u001b[38;5;167;01mFileNotFoundError\u001b[39;00m \u001b[38;5;28;01mas\u001b[39;00m exc:\n\u001b[32m     41\u001b[39m     logger.error(\u001b[33m\"\u001b[39m\u001b[33mFile \u001b[39m\u001b[38;5;132;01m%s\u001b[39;00m\u001b[33m not found\u001b[39m\u001b[33m\"\u001b[39m, file_path)\n\u001b[32m---> \u001b[39m\u001b[32m42\u001b[39m     \u001b[38;5;28;01mraise\u001b[39;00m exc\n\u001b[32m     43\u001b[39m \u001b[38;5;28;01mexcept\u001b[39;00m json.JSONDecodeError \u001b[38;5;28;01mas\u001b[39;00m exc:\n\u001b[32m     44\u001b[39m     logger.error(\u001b[33m\"\u001b[39m\u001b[33mFailed to decode JSON in \u001b[39m\u001b[38;5;132;01m%s\u001b[39;00m\u001b[33m\"\u001b[39m, file_path)\n",
      "\u001b[36mFile \u001b[39m\u001b[32mc:\\Users\\johns\\Documents\\Projetos\\MPAlugueisLisboa\\src\\PordataPt\\porDataProcess.py:38\u001b[39m, in \u001b[36mPorDataProcess.read_json_file\u001b[39m\u001b[34m(file_path)\u001b[39m\n\u001b[32m     27\u001b[39m \u001b[38;5;250m\u001b[39m\u001b[33;03m\"\"\"Return the parsed JSON from ``file_path``.\u001b[39;00m\n\u001b[32m     28\u001b[39m \n\u001b[32m     29\u001b[39m \u001b[33;03mRaises\u001b[39;00m\n\u001b[32m   (...)\u001b[39m\u001b[32m     34\u001b[39m \u001b[33;03m    If the file contents are not valid JSON.\u001b[39;00m\n\u001b[32m     35\u001b[39m \u001b[33;03m\"\"\"\u001b[39;00m\n\u001b[32m     37\u001b[39m \u001b[38;5;28;01mtry\u001b[39;00m:\n\u001b[32m---> \u001b[39m\u001b[32m38\u001b[39m     \u001b[38;5;28;01mwith\u001b[39;00m \u001b[38;5;28;43mopen\u001b[39;49m\u001b[43m(\u001b[49m\u001b[43mfile_path\u001b[49m\u001b[43m,\u001b[49m\u001b[43m \u001b[49m\u001b[33;43m\"\u001b[39;49m\u001b[33;43mr\u001b[39;49m\u001b[33;43m\"\u001b[39;49m\u001b[43m,\u001b[49m\u001b[43m \u001b[49m\u001b[43mencoding\u001b[49m\u001b[43m=\u001b[49m\u001b[33;43m\"\u001b[39;49m\u001b[33;43mutf-8\u001b[39;49m\u001b[33;43m\"\u001b[39;49m\u001b[43m)\u001b[49m \u001b[38;5;28;01mas\u001b[39;00m file:\n\u001b[32m     39\u001b[39m         \u001b[38;5;28;01mreturn\u001b[39;00m json.load(file)\n\u001b[32m     40\u001b[39m \u001b[38;5;28;01mexcept\u001b[39;00m \u001b[38;5;167;01mFileNotFoundError\u001b[39;00m \u001b[38;5;28;01mas\u001b[39;00m exc:\n",
      "\u001b[31mFileNotFoundError\u001b[39m: [Errno 2] No such file or directory: 'pordataFiles.json'"
     ]
    }
   ],
   "source": [
    "file_path = \"pordataFiles.json\"\n",
    "arquivos = porDataProcess.read_json_file(file_path)\n",
    "\n"
   ]
  }
 ],
 "metadata": {
  "kernelspec": {
   "display_name": "Python 3",
   "language": "python",
   "name": "python3"
  },
  "language_info": {
   "codemirror_mode": {
    "name": "ipython",
    "version": 3
   },
   "file_extension": ".py",
   "mimetype": "text/x-python",
   "name": "python",
   "nbconvert_exporter": "python",
   "pygments_lexer": "ipython3",
   "version": "3.11.9"
  }
 },
 "nbformat": 4,
 "nbformat_minor": 5
}
