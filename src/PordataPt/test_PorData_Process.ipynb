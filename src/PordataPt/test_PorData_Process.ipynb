{
 "cells": [
  {
   "cell_type": "code",
   "execution_count": 8,
   "id": "9d452216",
   "metadata": {},
   "outputs": [],
   "source": [
    "import os\n",
    "import pandas as pd"
   ]
  },
  {
   "cell_type": "code",
   "execution_count": null,
   "id": "e0096a1d",
   "metadata": {},
   "outputs": [],
   "source": [
    "folderPathPorData = '..\\..\\Bases\\PorData\\'\n",
    "\n",
    "def read_csv_files_from_folders(folder_path):\n",
    "    dataframes = {}\n",
    "    for root, dirs, files in os.walk(folder_path):\n",
    "        for file in files:\n",
    "            print(f'Processing file: {root} {file}')\n",
    "            if file.endswith('.csv'):\n",
    "                file_path = os.path.join(root, file)\n",
    "                df = pd.read_csv(file_path, sep=',', encoding='utf-8', low_memory=False)\n",
    "                key = os.path.splitext(os.path.relpath(file_path, folder_path))[0]\n",
    "                dataframes[key] = df\n",
    "    return dataframes\n"
   ]
  },
  {
   "cell_type": "code",
   "execution_count": 11,
   "id": "f3361a1a",
   "metadata": {},
   "outputs": [
    {
     "name": "stdout",
     "output_type": "stream",
     "text": [
      "Processing file: ..\\..\\Bases\\PorData\\ outros\n",
      "Processing file: ..\\..\\Bases\\PorData\\cultura 623-recintos-de-cinema.csv\n",
      "Processing file: ..\\..\\Bases\\PorData\\cultura 631-sessoes-de-espetaculos-ao-vivo.csv\n",
      "Processing file: ..\\..\\Bases\\PorData\\economia 294-depositos-de-clientes-nos-bancos-caixas-economicas-e.csv\n",
      "Processing file: ..\\..\\Bases\\PorData\\economia 295-estabelecimentos-de-bancos-caixas-economicas-e-caixas.csv\n",
      "Processing file: ..\\..\\Bases\\PorData\\economia Municipios_Poder-de-compra-per-capita.xlsx\n",
      "Processing file: ..\\..\\Bases\\PorData\\educacao 375-estabelecimentos-de-ensino-superior-por-subsistema.csv\n",
      "Processing file: ..\\..\\Bases\\PorData\\educacao 379-estabelecimentos-de-ensino-nao-superior-por-0.csv\n",
      "Processing file: ..\\..\\Bases\\PorData\\emprego 439-desemprego-registado-nos-centros-de-emprego-por-grup.csv\n",
      "Processing file: ..\\..\\Bases\\PorData\\emprego 445-populacao-empregada-por-conta-de-outrem-por-nivel-de.csv\n",
      "Processing file: ..\\..\\Bases\\PorData\\emprego 447-populacao-empregada-por-sexo-nivel-de-escolaridade-e.csv\n",
      "Processing file: ..\\..\\Bases\\PorData\\emprego 845-Pessoal-ao-servico-nas-empresas-por-ramo-de-atividade.csv\n",
      "Processing file: ..\\..\\Bases\\PorData\\migracoes 354-populacao-estrangeira-com-estatuto-legal-de-residente.csv\n",
      "Processing file: ..\\..\\Bases\\PorData\\moradia 978-edificios-concluidos-por-tipo-de-obra-e-fim-que-se.csv\n",
      "Processing file: ..\\..\\Bases\\PorData\\moradia 980-fogos-concluidos-em-construcoes-novas-para-habitacao.csv\n",
      "Processing file: ..\\..\\Bases\\PorData\\populacao 1-populacao-residente-por-sexo-e-grupo-etario.csv\n",
      "Processing file: ..\\..\\Bases\\PorData\\populacao 4-densidade-populacional.csv\n",
      "Processing file: ..\\..\\Bases\\PorData\\salarios 581-ganho-medio-mensal.csv\n",
      "Processing file: ..\\..\\Bases\\PorData\\salarios 582-ganho-medio-mensal-por-nivel-de-escolaridade.csv\n",
      "Processing file: ..\\..\\Bases\\PorData\\saude 464-farmacias.csv\n",
      "Processing file: ..\\..\\Bases\\PorData\\saude 470-hospitais-por-natureza-institucional.csv\n",
      "Processing file: ..\\..\\Bases\\PorData\\seguranca 559-crimes-registados-pelas-policias-por-tipo-de-crime.csv\n",
      "Processing file: ..\\..\\Bases\\PorData\\seguranca 560-crimes-por-categoria.csv\n"
     ]
    }
   ],
   "source": [
    "dataframes = read_csv_files_from_folders(folderPathPorData)"
   ]
  },
  {
   "cell_type": "code",
   "execution_count": 14,
   "id": "d38ce154",
   "metadata": {},
   "outputs": [
    {
     "name": "stdout",
     "output_type": "stream",
     "text": [
      "DataFrame 0: (4689, 9) - Columns: ['01. Ano', '02. Nome Regi\u00e3o (Portugal)', '03. \u00c2mbito Geogr\u00e1fico', '04. Filtro 1', '05. Filtro 2', '06. Filtro 3', '07. Escala', '08. S\u00edmbolo', '09. Valor']\n",
      "DataFrame 1: (4082, 9) - Columns: ['01. Ano', '02. Nome Regi\u00e3o (Portugal)', '03. \u00c2mbito Geogr\u00e1fico', '04. Filtro 1', '05. Filtro 2', '06. Filtro 3', '07. Escala', '08. S\u00edmbolo', '09. Valor']\n",
      "DataFrame 2: (11128, 9) - Columns: ['01. Ano', '02. Nome Regi\u00e3o (Portugal)', '03. \u00c2mbito Geogr\u00e1fico', '04. Filtro 1', '05. Filtro 2', '06. Filtro 3', '07. Escala', '08. S\u00edmbolo', '09. Valor']\n",
      "DataFrame 3: (3712, 9) - Columns: ['01. Ano', '02. Nome Regi\u00e3o (Portugal)', '03. \u00c2mbito Geogr\u00e1fico', '04. Filtro 1', '05. Filtro 2', '06. Filtro 3', '07. Escala', '08. S\u00edmbolo', '09. Valor']\n",
      "DataFrame 4: (19471, 9) - Columns: ['01. Ano', '02. Nome Regi\u00e3o (Portugal)', '03. \u00c2mbito Geogr\u00e1fico', '04. Filtro 1', '05. Filtro 2', '06. Filtro 3', '07. Escala', '08. S\u00edmbolo', '09. Valor']\n",
      "DataFrame 5: (155740, 9) - Columns: ['01. Ano', '02. Nome Regi\u00e3o (Portugal)', '03. \u00c2mbito Geogr\u00e1fico', '04. Filtro 1', '05. Filtro 2', '06. Filtro 3', '07. Escala', '08. S\u00edmbolo', '09. Valor']\n",
      "DataFrame 6: (27886, 9) - Columns: ['01. Ano', '02. Nome Regi\u00e3o (Portugal)', '03. \u00c2mbito Geogr\u00e1fico', '04. Filtro 1', '05. Filtro 2', '06. Filtro 3', '07. Escala', '08. S\u00edmbolo', '09. Valor']\n",
      "DataFrame 7: (37393, 9) - Columns: ['01. Ano', '02. Nome Regi\u00e3o (Portugal)', '03. \u00c2mbito Geogr\u00e1fico', '04. Filtro 1', '05. Filtro 2', '06. Filtro 3', '07. Escala', '08. S\u00edmbolo', '09. Valor']\n",
      "DataFrame 8: (1474, 8) - Columns: ['01. Ano', '02. Nome Regi\u00e3o (Portugal)', '03. Filtro 1', '04. Filtro 2', '05. Filtro 3', '06. Escala', '07. S\u00edmbolo', '08. Valor']\n",
      "DataFrame 9: (158212, 9) - Columns: ['01. Ano', '02. Nome Regi\u00e3o (Portugal)', '03. \u00c2mbito Geogr\u00e1fico', '04. Filtro 1', '05. Filtro 2', '06. Filtro 3', '07. Escala', '08. S\u00edmbolo', '09. Valor']\n",
      "DataFrame 10: (104836, 9) - Columns: ['01. Ano', '02. Nome Regi\u00e3o (Portugal)', '03. \u00c2mbito Geogr\u00e1fico', '04. Filtro 1', '05. Filtro 2', '06. Filtro 3', '07. Escala', '08. S\u00edmbolo', '09. Valor']\n",
      "DataFrame 11: (80653, 9) - Columns: ['01. Ano', '02. Nome Regi\u00e3o (Portugal)', '03. \u00c2mbito Geogr\u00e1fico', '04. Filtro 1', '05. Filtro 2', '06. Filtro 3', '07. Escala', '08. S\u00edmbolo', '09. Valor']\n",
      "DataFrame 12: (20089, 9) - Columns: ['01. Ano', '02. Nome Regi\u00e3o (Portugal)', '03. \u00c2mbito Geogr\u00e1fico', '04. Filtro 1', '05. Filtro 2', '06. Filtro 3', '07. Escala', '08. S\u00edmbolo', '09. Valor']\n",
      "DataFrame 13: (695995, 10) - Columns: ['01. Ano', '02. Nome Pa\u00eds (Europa)', '03. Nome Regi\u00e3o (Portugal)', '04. \u00c2mbito Geogr\u00e1fico', '05. Filtro 1', '06. Filtro 2', '07. Filtro 3', '08. Escala', '09. S\u00edmbolo', '10. Valor']\n",
      "DataFrame 14: (7102, 10) - Columns: ['01. Ano', '02. Nome Pa\u00eds (Europa)', '03. Nome Regi\u00e3o (Portugal)', '04. \u00c2mbito Geogr\u00e1fico', '05. Filtro 1', '06. Filtro 2', '07. Filtro 3', '08. Escala', '09. S\u00edmbolo', '10. Valor']\n",
      "DataFrame 15: (6184, 9) - Columns: ['01. Ano', '02. Nome Regi\u00e3o (Portugal)', '03. \u00c2mbito Geogr\u00e1fico', '04. Filtro 1', '05. Filtro 2', '06. Filtro 3', '07. Escala', '08. S\u00edmbolo', '09. Valor']\n",
      "DataFrame 16: (37393, 9) - Columns: ['01. Ano', '02. Nome Regi\u00e3o (Portugal)', '03. \u00c2mbito Geogr\u00e1fico', '04. Filtro 1', '05. Filtro 2', '06. Filtro 3', '07. Escala', '08. S\u00edmbolo', '09. Valor']\n",
      "DataFrame 17: (6814, 9) - Columns: ['01. Ano', '02. Nome Regi\u00e3o (Portugal)', '03. \u00c2mbito Geogr\u00e1fico', '04. Filtro 1', '05. Filtro 2', '06. Filtro 3', '07. Escala', '08. S\u00edmbolo', '09. Valor']\n",
      "DataFrame 18: (13629, 9) - Columns: ['01. Ano', '02. Nome Regi\u00e3o (Portugal)', '03. \u00c2mbito Geogr\u00e1fico', '04. Filtro 1', '05. Filtro 2', '06. Filtro 3', '07. Escala', '08. S\u00edmbolo', '09. Valor']\n",
      "DataFrame 19: (30228, 10) - Columns: ['01. Ano', '02. Nome Pa\u00eds (Europa)', '03. Nome Regi\u00e3o (Portugal)', '04. \u00c2mbito Geogr\u00e1fico', '05. Filtro 1', '06. Filtro 2', '07. Filtro 3', '08. Escala', '09. S\u00edmbolo', '10. Valor']\n",
      "DataFrame 20: (39684, 9) - Columns: ['01. Ano', '02. Nome Regi\u00e3o (Portugal)', '03. \u00c2mbito Geogr\u00e1fico', '04. Filtro 1', '05. Filtro 2', '06. Filtro 3', '07. Escala', '08. S\u00edmbolo', '09. Valor']\n"
     ]
    }
   ],
   "source": [
    "# liste os dataframes\n",
    "for name, df in dataframes.items():\n",
    "    print(f'{name}: {df.shape} - Columns: {list(df.columns)}')\n",
    "    if 'Indicador' in df.columns:\n",
    "        print(f\"Indicador values in {name}: {df['Indicador'].unique()[:5]}\")\n"
   ]
  }
 ],
 "metadata": {
  "kernelspec": {
   "display_name": "Python 3",
   "language": "python",
   "name": "python3"
  },
  "language_info": {
   "codemirror_mode": {
    "name": "ipython",
    "version": 3
   },
   "file_extension": ".py",
   "mimetype": "text/x-python",
   "name": "python",
   "nbconvert_exporter": "python",
   "pygments_lexer": "ipython3",
   "version": "3.11.9"
  }
 },
 "nbformat": 4,
 "nbformat_minor": 5
}