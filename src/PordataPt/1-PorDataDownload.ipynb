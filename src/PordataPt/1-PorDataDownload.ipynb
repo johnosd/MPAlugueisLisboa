{
 "cells": [
  {
   "cell_type": "code",
   "execution_count": 12,
   "id": "3b19c9a9",
   "metadata": {},
   "outputs": [],
   "source": [
    "import os\n",
    "import requests\n",
    "import json\n",
    "\n",
    "def download_file(url, save_path):\n",
    "    \"\"\"Baixa o arquivo da URL e salva no caminho especificado.\"\"\"\n",
    "    headers = {\n",
    "        'User-Agent': 'Mozilla/5.0 (Windows NT 10.0; Win64; x64) AppleWebKit/537.36 (KHTML, like Gecko) Chrome/115.0.0.0 Safari/537.36'\n",
    "    }\n",
    "    try:\n",
    "        response = requests.get(url, headers=headers)\n",
    "        response.raise_for_status()  # Verifica se ocorreu algum erro durante o download\n",
    "        \n",
    "        with open(save_path, 'wb') as f:\n",
    "            f.write(response.content)\n",
    "        \n",
    "        print(f\"Arquivo salvo com sucesso em: {save_path}\")\n",
    "    except requests.exceptions.RequestException as e:\n",
    "        print(f\"Erro ao baixar o arquivo: {e}\")\n",
    "\n",
    "def process_file(nome, url, pasta_destino):\n",
    "    \"\"\"Processa o arquivo, renomeia e salva na pasta de destino.\"\"\"\n",
    "    if not os.path.exists(pasta_destino):\n",
    "        os.makedirs(pasta_destino)  # Cria a pasta caso não exista\n",
    "\n",
    "    # Define o caminho do arquivo final\n",
    "    save_path = os.path.join(pasta_destino, nome)\n",
    "\n",
    "    # Baixa o arquivo\n",
    "    download_file(url, save_path)\n",
    "\n",
    "# Function to read the JSON file and return its content as a list of dictionaries\n",
    "def read_json_file(file_path):\n",
    "    try:\n",
    "        with open(file_path, 'r', encoding='utf-8') as file:\n",
    "            data = json.load(file)\n",
    "        return data\n",
    "    except FileNotFoundError:\n",
    "        print(f\"Error: The file at {file_path} was not found.\")\n",
    "        return []\n",
    "    except json.JSONDecodeError:\n",
    "        print(f\"Error: Failed to decode JSON from the file at {file_path}.\")\n",
    "        return []\n",
    "    \n",
    "def downloadFiles(categoria=['Seguranca', 'Saude', 'Populacao', 'Educacao', 'Emprego', 'Migracoes', 'Economia'], nome_arquivo=None):\n",
    "    \"\"\"Função principal para definir os arquivos e iniciar o processo.\"\"\"\n",
    "\n",
    "    file_path = 'pordataFiles.json'\n",
    "    arquivos = read_json_file(file_path)\n",
    "\n",
    "    for arquivo in arquivos:\n",
    "        if nome_arquivo:  # Prioriza nome_arquivo se fornecido\n",
    "            if arquivo['nome'] == nome_arquivo:\n",
    "                print(f\"Processando pasta: {arquivo['pasta_destino']}\")\n",
    "                process_file(arquivo['nome'], arquivo['url'], arquivo['pasta_destino'])\n",
    "        elif arquivo['categoria'] in categoria:\n",
    "            print(f\"Processando pasta: {arquivo['pasta_destino']} - arquivo: {arquivo['nome']}\")\n",
    "            process_file(arquivo['nome'], arquivo['url'], arquivo['pasta_destino'])\n"
   ]
  },
  {
   "cell_type": "code",
   "execution_count": 17,
   "id": "37d4352f",
   "metadata": {},
   "outputs": [
    {
     "name": "stdout",
     "output_type": "stream",
     "text": [
      "Processando pasta: ..\\..\\Bases\\InePt\\moradia\n",
      "Arquivo salvo com sucesso em: ..\\..\\Bases\\InePt\\moradia\\INE_PT-Valor-mediano-das-rendas.xls\n"
     ]
    }
   ],
   "source": [
    "downloadFiles(nome_arquivo='INE_PT-Valor-mediano-das-rendas.xls')"
   ]
  }
 ],
 "metadata": {
  "kernelspec": {
   "display_name": "Python 3",
   "language": "python",
   "name": "python3"
  },
  "language_info": {
   "codemirror_mode": {
    "name": "ipython",
    "version": 3
   },
   "file_extension": ".py",
   "mimetype": "text/x-python",
   "name": "python",
   "nbconvert_exporter": "python",
   "pygments_lexer": "ipython3",
   "version": "3.11.9"
  }
 },
 "nbformat": 4,
 "nbformat_minor": 5
}
