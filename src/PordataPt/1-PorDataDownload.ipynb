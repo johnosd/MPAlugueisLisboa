{
 "cells": [
  {
   "cell_type": "code",
   "execution_count": 1,
   "id": "4e6fde8c",
   "metadata": {},
   "outputs": [],
   "source": [
    "import os\n",
    "import requests\n"
   ]
  },
  {
   "cell_type": "code",
   "execution_count": 2,
   "id": "3b19c9a9",
   "metadata": {},
   "outputs": [],
   "source": [
    "def download_file(url, save_path):\n",
    "    \"\"\"Baixa o arquivo da URL e salva no caminho especificado.\"\"\"\n",
    "    try:\n",
    "        response = requests.get(url)\n",
    "        response.raise_for_status()  # Verifica se ocorreu algum erro durante o download\n",
    "        \n",
    "        with open(save_path, 'wb') as f:\n",
    "            f.write(response.content)\n",
    "        \n",
    "        print(f\"Arquivo salvo com sucesso em: {save_path}\")\n",
    "    except requests.exceptions.RequestException as e:\n",
    "        print(f\"Erro ao baixar o arquivo: {e}\")\n"
   ]
  },
  {
   "cell_type": "code",
   "execution_count": 3,
   "id": "bee74f54",
   "metadata": {},
   "outputs": [],
   "source": [
    "def process_file(nome, url, pasta_destino):\n",
    "    \"\"\"Processa o arquivo, renomeia e salva na pasta de destino.\"\"\"\n",
    "    if not os.path.exists(pasta_destino):\n",
    "        os.makedirs(pasta_destino)  # Cria a pasta caso não exista\n",
    "\n",
    "    # Define o caminho do arquivo final\n",
    "    save_path = os.path.join(pasta_destino, nome)\n",
    "\n",
    "    # Baixa o arquivo\n",
    "    download_file(url, save_path)\n"
   ]
  },
  {
   "cell_type": "code",
   "execution_count": null,
   "id": "baa432f3",
   "metadata": {},
   "outputs": [],
   "source": [
    "import json\n",
    "\n",
    "# Function to read the JSON file and return its content as a list of dictionaries\n",
    "def read_json_file(file_path):\n",
    "    try:\n",
    "        with open(file_path, 'r', encoding='utf-8') as file:\n",
    "            data = json.load(file)\n",
    "        return data\n",
    "    except FileNotFoundError:\n",
    "        print(f\"Error: The file at {file_path} was not found.\")\n",
    "        return []\n",
    "    except json.JSONDecodeError:\n",
    "        print(f\"Error: Failed to decode JSON from the file at {file_path}.\")\n",
    "        return []\n"
   ]
  },
  {
   "cell_type": "code",
   "execution_count": null,
   "id": "d74a9552",
   "metadata": {},
   "outputs": [],
   "source": [
    "def downloadFiles(categoria=['Seguranca', 'Saude', 'Populacao', 'Educacao', 'Emprego', 'Migracoes', 'Economia']):\n",
    "    \"\"\"Função principal para definir os arquivos e iniciar o processo.\"\"\"\n",
    "    \n",
    "    file_path = 'pordataFiles.json'\n",
    "    arquivos = read_json_file(file_path)\n",
    "    \n",
    "    for arquivo in arquivos:\n",
    "        # filtra arquivos pela por lista de categorias\n",
    "        if arquivo['categoria'] in categoria:\n",
    "            process_file(arquivo['nome'], arquivo['url'], arquivo['pasta_destino'])\n"
   ]
  },
  {
   "cell_type": "code",
   "execution_count": 5,
   "id": "1ab86006",
   "metadata": {},
   "outputs": [
    {
     "name": "stdout",
     "output_type": "stream",
     "text": [
      "Arquivo salvo com sucesso em: ..\\..\\Bases\\PorData\\economia\\294-depositos-de-clientes-nos-bancos-caixas-economicas-e.csv\n",
      "Arquivo salvo com sucesso em: ..\\..\\Bases\\PorData\\economia\\295-estabelecimentos-de-bancos-caixas-economicas-e-caixas.csv\n",
      "Arquivo salvo com sucesso em: ..\\..\\Bases\\PorData\\economia\\Municipios_Poder-de-compra-per-capita.xlsx\n"
     ]
    }
   ],
   "source": [
    "categorias = ['Economia']\n",
    "downloadFiles(categorias)"
   ]
  }
 ],
 "metadata": {
  "kernelspec": {
   "display_name": "Python 3",
   "language": "python",
   "name": "python3"
  },
  "language_info": {
   "codemirror_mode": {
    "name": "ipython",
    "version": 3
   },
   "file_extension": ".py",
   "mimetype": "text/x-python",
   "name": "python",
   "nbconvert_exporter": "python",
   "pygments_lexer": "ipython3",
   "version": "3.11.9"
  }
 },
 "nbformat": 4,
 "nbformat_minor": 5
}
