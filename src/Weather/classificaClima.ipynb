{
 "cells": [
  {
   "cell_type": "markdown",
   "id": "e5f948d3",
   "metadata": {},
   "source": [
    "# Metodologia de Classificação Climática de Cidades  \n",
    "**Autor:** John Costa\n",
    "\n",
    "**Fontes dos Dados:**  \n",
    "- [Instituto Português do Mar e da Atmosfera (IPMA)](https://www.ipma.pt/)\n",
    "- [World Weather Online](https://www.worldweatheronline.com/)\n",
    "- [Open-Meteo](https://open-meteo.com/)\n",
    "- [Shape Portugal - Natural Earth](https://www.naturalearthdata.com/)\n",
    "\n",
    "---\n",
    "\n",
    "## Objetivo\n",
    "\n",
    "Este documento explica de forma simples e transparente como é realizada a classificação do clima das cidades de Portugal (e exemplos do Brasil), detalhando a lógica do cálculo do score climático, os critérios para eventos extremos, a metodologia dos índices e as influências dos fatores naturais e humanos no clima. Exemplos reais ilustram cada etapa.\n",
    "\n",
    "---\n",
    "\n",
    "## 1. **Elementos e Fatores Climáticos**\n",
    "\n",
    "### **Elementos do Clima**  \n",
    "Características do ambiente que sentimos ou medimos no dia a dia:\n",
    "\n",
    "- **Temperatura:** grau de calor do ar.\n",
    "- **Umidade:** quantidade de vapor d’água presente no ar.\n",
    "- **Pressão atmosférica:** força do ar sobre a superfície.\n",
    "- **Precipitação:** chuva, neve ou granizo.\n",
    "- **Ventos:** movimentação do ar.\n",
    "- **Radiação solar:** energia recebida do Sol.\n",
    "\n",
    "### **Fatores Climáticos**  \n",
    "Aspectos que modificam ou influenciam os elementos:\n",
    "\n",
    "| Fator                | Como influencia a temperatura e outros elementos                       | Exemplo prático                         |\n",
    "|----------------------|-----------------------------------------------------------------------|-----------------------------------------|\n",
    "| **Latitude**         | Próximo ao Equador = mais quente; longe = mais frio                   | Algarve mais quente que Porto           |\n",
    "| **Altitude/Relevo**  | Locais altos = mais frio                                              | Serra da Estrela com neve               |\n",
    "| **Maritimidade**     | Próximo ao mar = menos variação térmica                               | Lisboa com invernos mais amenos         |\n",
    "| **Continentalidade** | Interior = maior variação entre verão e inverno                       | Interior do Alentejo mais extremo       |\n",
    "| **Correntes Marítimas** | Correntes frias/quentes afetam temperatura do litoral               | Corrente do Golfo suaviza litoral oeste |\n",
    "| **Uso/Ocupação do Solo** | Cidades são mais quentes (ilhas de calor), menos vegetação         | Centro de Lisboa mais quente            |\n",
    "\n",
    "---\n",
    "\n",
    "## 2. **Aparelhos de Medição Climática**\n",
    "\n",
    "- **Termômetro:** mede temperatura do ar.\n",
    "- **Pluviómetro:** mede a quantidade de chuva (mm).\n",
    "- **Higrômetro:** mede a umidade relativa do ar.\n",
    "- **Barômetro:** mede a pressão atmosférica.\n",
    "- **Anemômetro:** mede a velocidade dos ventos.\n",
    "- **Heliógrafo:** mede horas de sol.\n",
    "- **Biruta:** indica a direção do vento.\n",
    "\n",
    "As medições são realizadas em estações meteorológicas espalhadas nas cidades.\n",
    "\n",
    "---\n",
    "\n",
    "## 3. **Metodologia de Classificação**\n",
    "\n",
    "### **a) Identificação de Eventos Extremos**\n",
    "\n",
    "Um dia é considerado extremo se atender ao menos um dos critérios abaixo:\n",
    "- **Calor extremo:** máxima > 35°C ou Heat Index > 40°C\n",
    "- **Frio extremo:** mínima < 1°C ou Wind Chill < -5°C\n",
    "- **Chuva extrema:** precipitação diária acima de 35 mm\n",
    "- **Neve:** qualquer valor positivo em Portugal continental\n",
    "- **UV extremo:** índice ≥ 8\n",
    "\n",
    "### **b) Cálculo do \"Clima Típico\" e do Score Diário**\n",
    "\n",
    "- Os scores e classificações são **calculados diariamente** para cada cidade, já considerando as penalizações por eventos extremos do próprio dia.\n",
    "- Posteriormente, são feitos resumos mensais e anuais, utilizando a média dos scores diários e o registro da frequência de eventos extremos.\n",
    "\n",
    "### **c) Score de Conforto Climático**\n",
    "\n",
    "O score diário parte de 100 pontos e utiliza os seguintes pesos para as variáveis, sempre priorizando conforto humano:\n",
    "\n",
    "- **Temperatura máxima ideal (20 a 28°C):** 60%\n",
    "- **Temperatura mínima ideal (16 a 20°C):** 12%\n",
    "- **Umidade relativa (30-80%):** 10%\n",
    "- **Sol (≥ 5h/dia):** 9%\n",
    "- **Precipitação (≤ 20mm/dia):** 9%\n",
    "\n",
    "O score pode ser penalizado no próprio dia em caso de extremos:\n",
    "\n",
    "- **Calor extremo:** penaliza 0,3 no cálculo (equivale a até -6 pontos por dia)\n",
    "- **Frio extremo:** penaliza 0,4 (até -8 pontos por dia)\n",
    "- **Chuva extrema:** penaliza 0,2 (até -4 pontos por dia)\n",
    "\n",
    "*A penalização máxima diária é limitada a -20 pontos.*\n",
    "\n",
    "### **d) Classificação Final**\n",
    "\n",
    "| Score         | Classificação |\n",
    "|---------------|--------------|\n",
    "| ≥ 80          | Excelente    |\n",
    "| 70 a 79,99    | Muito Bom    |\n",
    "| 60 a 69,99    | Bom          |\n",
    "| 50 a 59,99    | Aceitável    |\n",
    "| < 50          | Marginal     |\n",
    "\n",
    "---\n",
    "\n",
    "## 4. **Exemplo de Aplicação**\n",
    "\n",
    "*Valores ilustrativos para facilitar o entendimento:*\n",
    "\n",
    "### **Lisboa**\n",
    "- Máxima média: 25,6°C\n",
    "- Mínima média: 15,8°C\n",
    "- Umidade: 69%\n",
    "- Chuva: 1,9 mm/dia\n",
    "- Dias extremos: 2 de calor, 0 de frio, 2 de chuva\n",
    "- **Score:** 88,4 → **Classificação: Excelente**\n",
    "\n",
    "### **Porto**\n",
    "- Máxima média: 22,8°C\n",
    "- Mínima média: 12,5°C\n",
    "- Umidade: 74%\n",
    "- Chuva: 2,8 mm/dia\n",
    "- Dias extremos: 0 de calor, 0 de frio, 3 de chuva\n",
    "- **Score:** 81,2 → **Classificação: Excelente**\n",
    "\n",
    "### **São Paulo (Brasil)**\n",
    "- Máxima média: 28,3°C\n",
    "- Mínima média: 16,9°C\n",
    "- Umidade: 64%\n",
    "- Chuva: 2,0 mm/dia\n",
    "- Dias extremos: 9 de calor, 0 de frio, 23 de chuva\n",
    "- **Score:** 62,1 → **Classificação: Bom**\n",
    "\n",
    "---\n",
    "\n",
    "## 5. **Visualização no Mapa**\n",
    "\n",
    "Cada cidade foi plotada em um mapa de Portugal, colorida conforme a classificação:\n",
    "- **Azul:** Excelente / Muito Bom\n",
    "- **Verde:** Bom\n",
    "- **Amarelo:** Aceitável\n",
    "- **Vermelho:** Marginal\n",
    "\n",
    "*<sub>Sugestão: Utilize bibliotecas como `geopandas` e `matplotlib` para criar o mapa. Exemplo disponível na documentação técnica.</sub>*\n",
    "\n",
    "---\n",
    "\n",
    "## 6. **Considerações**\n",
    "\n",
    "- Os dados usados são médias diárias; podem ocorrer limitações para eventos de chuva intensa em curto período.\n",
    "- Os extremos são baseados em referências de saúde pública e médias portuguesas.\n",
    "- A metodologia busca um equilíbrio entre conforto humano e variabilidade natural do clima, facilitando comparação entre cidades.\n",
    "- O método é inspirado no Tourism Climate Index (TCI) e adaptado para avaliação do conforto urbano.\n",
    "\n",
    "---\n",
    "\n",
    "## 7. **Referências**\n",
    "\n",
    "- IPMA - Instituto Português do Mar e da Atmosfera ([site](https://www.ipma.pt/))\n",
    "- World Weather Online ([site](https://www.worldweatheronline.com/))\n",
    "- Mieczkowski, Z. (1985). The Tourism Climate Index: A Method of Evaluating World Climates for Tourism.\n",
    "- Artigos de Meteorologia, sites oficiais de institutos e literatura de conforto climático.\n"
   ]
  },
  {
   "cell_type": "code",
   "execution_count": null,
   "id": "530b80e9",
   "metadata": {},
   "outputs": [],
   "source": [
    "#!pip install geopandas\n",
    "#!pip install plotly"
   ]
  },
  {
   "cell_type": "code",
   "execution_count": null,
   "id": "5f04abdc",
   "metadata": {},
   "outputs": [],
   "source": [
    "import pandas as pd\n",
    "import numpy as np\n",
    "import os\n",
    "import geopandas as gpd\n",
    "import matplotlib.pyplot as plt\n",
    "import matplotlib.patches as mpatches\n",
    "import plotly.express as px\n",
    "import pandas as pd\n",
    "\n",
    "# === FUNÇÕES DE DETECÇÃO DE EVENTOS EXTREMOS ===\n",
    "def is_hot_extreme(row):\n",
    "    \"\"\"Evento de calor extremo: Temperatura máxima > 35°C OU Heat Index > 40°C.\"\"\"\n",
    "    return row['maxtempC'] > 35 or row['HeatIndexC'] > 40\n",
    "\n",
    "def is_cold_extreme(row):\n",
    "    \"\"\"Evento de frio extremo: Temperatura mínima < 1°C OU Wind Chill < -5°C.\"\"\"\n",
    "    return row['mintempC'] < 1 or row['WindChillC'] < -5\n",
    "\n",
    "def is_rain_extreme(row):\n",
    "    \"\"\"Evento de chuva extrema: Precipitação diária > 35 mm.\"\"\"\n",
    "    return row['precipMM'] > 35\n",
    "\n",
    "def is_snow_extreme(row):\n",
    "    \"\"\"Evento de neve: Qualquer valor positivo já é extremo em Portugal continental.\"\"\"\n",
    "    return row['totalSnow_cm'] > 0\n",
    "\n",
    "def is_uv_extreme(row):\n",
    "    \"\"\"Radiação UV extrema: Índice UV >= 8 (OMS: muito alto).\"\"\"\n",
    "    return row['uvIndex'] >= 8\n",
    "\n",
    "# === FUNÇÕES AUXILIARES ===\n",
    "def assign_season(month):\n",
    "    if month in [12, 1, 2]:\n",
    "        return 'Inverno'\n",
    "    elif month in [3, 4, 5]:\n",
    "        return 'Primavera'\n",
    "    elif month in [6, 7, 8]:\n",
    "        return 'Verão'\n",
    "    else:\n",
    "        return 'Outono'\n",
    "\n",
    "def classify_city_index(score):\n",
    "    if score >= 80:\n",
    "        return 'Excelente'\n",
    "    elif score >= 70:\n",
    "        return 'Muito Bom'\n",
    "    elif score >= 60:\n",
    "        return 'Bom'\n",
    "    elif score >= 50:\n",
    "        return 'Aceitável'\n",
    "    else:\n",
    "        return 'Marginal'\n",
    "\n",
    "# === CÁLCULO DO TCI - Tourism Climate Index (continua mensal!) ===\n",
    "def compute_tci_monthly(df):\n",
    "    df = df.copy()\n",
    "    df['month'] = df['date_time'].dt.month\n",
    "    tci_list = []\n",
    "    for (year, month), dfg in df.groupby([df['date_time'].dt.year, 'month']):\n",
    "        # ---- CID: conforto diário (temp média)\n",
    "        tmean = dfg['tempC'].mean()\n",
    "        rhmean = dfg['humidity'].mean()\n",
    "        if 20 <= tmean <= 27:\n",
    "            cid = 10\n",
    "        elif 16 <= tmean < 20 or 27 < tmean <= 30:\n",
    "            cid = 7\n",
    "        elif 13 <= tmean < 16 or 30 < tmean <= 33:\n",
    "            cid = 5\n",
    "        elif 10 <= tmean < 13 or 33 < tmean <= 36:\n",
    "            cid = 3\n",
    "        else:\n",
    "            cid = 0\n",
    "        if rhmean > 90 or rhmean < 30:\n",
    "            cid -= 1\n",
    "\n",
    "        # ---- CIA: conforto amplitude diária (temp máxima)\n",
    "        tmax = dfg['maxtempC'].mean()\n",
    "        rhmax = dfg['humidity'].mean()\n",
    "        if 20 <= tmax <= 27:\n",
    "            cia = 10\n",
    "        elif 16 <= tmax < 20 or 27 < tmax <= 30:\n",
    "            cia = 7\n",
    "        elif 13 <= tmax < 16 or 30 < tmax <= 33:\n",
    "            cia = 5\n",
    "        elif 10 <= tmax < 13 or 33 < tmax <= 36:\n",
    "            cia = 3\n",
    "        else:\n",
    "            cia = 0\n",
    "        if rhmax > 90 or rhmax < 30:\n",
    "            cia -= 1\n",
    "\n",
    "        # ---- P: índice de precipitação do mês\n",
    "        p = dfg['precipMM'].sum()\n",
    "        if p <= 30:\n",
    "            pi = 10\n",
    "        elif p <= 60:\n",
    "            pi = 7\n",
    "        elif p <= 90:\n",
    "            pi = 5\n",
    "        elif p <= 120:\n",
    "            pi = 3\n",
    "        else:\n",
    "            pi = 0\n",
    "\n",
    "        # ---- S: insolação média diária\n",
    "        s = dfg['sunHour'].mean()\n",
    "        if s >= 9:\n",
    "            si = 10\n",
    "        elif s >= 7:\n",
    "            si = 7\n",
    "        elif s >= 5:\n",
    "            si = 5\n",
    "        elif s >= 3:\n",
    "            si = 3\n",
    "        else:\n",
    "            si = 0\n",
    "\n",
    "        # ---- W: vento médio no mês\n",
    "        w = dfg['windspeedKmph'].mean()\n",
    "        if w < 15:\n",
    "            wi = 10\n",
    "        elif w < 25:\n",
    "            wi = 7\n",
    "        elif w < 35:\n",
    "            wi = 5\n",
    "        elif w < 45:\n",
    "            wi = 3\n",
    "        else:\n",
    "            wi = 0\n",
    "\n",
    "        tci = 2*cid + 2*cia + 0.5*pi + 0.5*si + wi\n",
    "        tci = max(0, min(100, tci))\n",
    "        tci_list.append({'ano': year, 'mes': month, 'tci': tci})\n",
    "\n",
    "    tci_df = pd.DataFrame(tci_list)\n",
    "    tci_annual = tci_df['tci'].mean() if not tci_df.empty else np.nan\n",
    "    return tci_annual, tci_df\n",
    "\n",
    "# === NOVO: SCORE DIÁRIO E MARCAÇÃO DE EXTREMOS ===\n",
    "def marcar_extremo(row):\n",
    "    \"\"\"Retorna True se houver qualquer evento extremo (calor, frio, chuva, neve)\"\"\"\n",
    "    return (\n",
    "        is_hot_extreme(row) or\n",
    "        is_cold_extreme(row) or\n",
    "        is_rain_extreme(row) or\n",
    "        is_snow_extreme(row)\n",
    "    )\n",
    "\n",
    "def score_dia(row):\n",
    "    maxtemp = row['maxtempC']\n",
    "    mintemp = row['mintempC']\n",
    "    humidity = row['humidity']\n",
    "    sun = row['sunHour']\n",
    "    precip = row['precipMM']\n",
    "\n",
    "    # Conforto máxima\n",
    "    ideal_temp = 1 if (20 <= maxtemp <= 28) else 0\n",
    "    moderate_temp = 1 if (18 < maxtemp < 32) else 0\n",
    "    comfort_temp = 0.7 * ideal_temp + 0.3 * moderate_temp\n",
    "\n",
    "    # Conforto mínima (peso de 15%)\n",
    "    if 16 <= mintemp <= 20:\n",
    "        comfort_mintemp = 1\n",
    "    elif 13 <= mintemp < 16 or 20 < mintemp <= 22:\n",
    "        comfort_mintemp = 0.7\n",
    "    elif 10 <= mintemp < 13 or 22 < mintemp <= 24:\n",
    "        comfort_mintemp = 0.4\n",
    "    else:\n",
    "        comfort_mintemp = 0\n",
    "\n",
    "    comfort_hum = 1 if (30 <= humidity <= 80) else 0\n",
    "    comfort_sun = 1 if sun >= 5 else 0\n",
    "    comfort_precip = 1 if precip <= 20 else 0\n",
    "\n",
    "    penalizacao = 0\n",
    "    if is_hot_extreme(row): penalizacao += 0.3\n",
    "    if is_cold_extreme(row): penalizacao += 0.4\n",
    "    if is_rain_extreme(row): penalizacao += 0.2\n",
    "\n",
    "    penalizacao = min(penalizacao, 1)\n",
    "\n",
    "    # Score ponderado (máxima 50%, mínima 15%, umidade 10%, sol 10%, chuva 10%)\n",
    "    score = 100 * (\n",
    "        0.6 * comfort_temp +\n",
    "        0.12 * comfort_mintemp +\n",
    "        0.10 * comfort_hum +\n",
    "        0.09 * comfort_sun +\n",
    "        0.09 * comfort_precip\n",
    "    )\n",
    "    score -= penalizacao * 20\n",
    "    return max(score, 0)\n",
    "\n",
    "\n",
    "# Função para classificar score diário\n",
    "def classifica_score(score):\n",
    "    if score >= 80:\n",
    "        return 'Excelente'\n",
    "    elif score >= 70:\n",
    "        return 'Muito Bom'\n",
    "    elif score >= 60:\n",
    "        return 'Bom'\n",
    "    elif score >= 50:\n",
    "        return 'Aceitável'\n",
    "    else:\n",
    "        return 'Marginal'\n",
    "\n",
    "# === LEITURA DE MÚLTIPLOS CSVs DE UMA PASTA (mantida) ===\n",
    "def load_weather_data(folder_path, min_days=365):\n",
    "    \n",
    "    # Lista dos nomes das colunas (caso leia de um CSV sem cabeçalho)\n",
    "    colunas = [\n",
    "        'date_time','maxtempC','mintempC','totalSnow_cm','sunHour','uvIndex','moon_illumination',\n",
    "        'moonrise','moonset','sunrise','sunset','DewPointC','FeelsLikeC','HeatIndexC','WindChillC',\n",
    "        'WindGustKmph','cloudcover','humidity','precipMM','pressure','tempC','visibility',\n",
    "        'winddirDegree','windspeedKmph','location'\n",
    "    ]\n",
    "\n",
    "    # Dicionário de tipos para cada coluna\n",
    "    tipos = {\n",
    "        'date_time': 'datetime64[ns]',\n",
    "        'maxtempC': 'Int64',\n",
    "        'mintempC': 'Int64',\n",
    "        'totalSnow_cm': 'float',\n",
    "        'sunHour': 'float',\n",
    "        'uvIndex': 'Int64',\n",
    "        'moon_illumination': 'Int64',\n",
    "        'moonrise': 'string',\n",
    "        'moonset': 'string',\n",
    "        'sunrise': 'string',\n",
    "        'sunset': 'string',\n",
    "        'DewPointC': 'Int64',\n",
    "        'FeelsLikeC': 'Int64',\n",
    "        'HeatIndexC': 'Int64',\n",
    "        'WindChillC': 'Int64',\n",
    "        'WindGustKmph': 'Int64',\n",
    "        'cloudcover': 'Int64',\n",
    "        'humidity': 'Int64',\n",
    "        'precipMM': 'float',\n",
    "        'pressure': 'Int64',\n",
    "        'tempC': 'Int64',\n",
    "        'visibility': 'Int64',\n",
    "        'winddirDegree': 'Int64',\n",
    "        'windspeedKmph': 'Int64',\n",
    "        'location': 'string'\n",
    "    }\n",
    "\n",
    "    dfs = []\n",
    "    arquivos_descartados = []\n",
    "    for filename in os.listdir(folder_path):\n",
    "        if filename.endswith(\".csv\"):\n",
    "            file_path = os.path.join(folder_path, filename)\n",
    "            df = pd.read_csv(file_path, parse_dates=['date_time'])\n",
    "            city_name = filename.split(',')[0].replace(\"+\", \" \")\n",
    "            df['municipio'] = city_name\n",
    "\n",
    "            num_dias = df['date_time'].nunique()\n",
    "            periodo = df['date_time'].max() - df['date_time'].min()\n",
    "\n",
    "            if num_dias >= min_days:\n",
    "                dfs.append(df)\n",
    "            else:\n",
    "                arquivos_descartados.append((filename, num_dias, periodo.days))\n",
    "\n",
    "    print(\"\\nArquivos descartados (menos de\", min_days, \"dias de histórico):\")\n",
    "    for nome, dias, periodo in arquivos_descartados:\n",
    "        print(f\"{nome}: {dias} dias distintos, período coberto: {periodo} dias\")\n",
    "\n",
    "    if not dfs:\n",
    "        print(\"Nenhum arquivo com histórico suficiente.\")\n",
    "        return pd.DataFrame()\n",
    "\n",
    "    combined_df = pd.concat(dfs, ignore_index=True)\n",
    "\n",
    "    # Converte as colunas de acordo com o dicionário de tipos\n",
    "    for col, tipo in tipos.items():\n",
    "        if tipo == 'datetime64[ns]':\n",
    "            combined_df[col] = pd.to_datetime(combined_df[col])\n",
    "        else:\n",
    "            combined_df[col] = combined_df[col].astype(tipo)\n",
    "\n",
    "    return combined_df\n",
    "\n",
    "def formatar_numericos(df):\n",
    "    df = df.copy()  # Cria uma cópia, o original não será alterado!\n",
    "    for col in df.select_dtypes(include='number').columns:\n",
    "        df[col] = df[col].apply(lambda x: '{:,.2f}'.format(x).replace(',', 'X').replace('.', ',').replace('X', '.'))\n",
    "    return df\n",
    "\n",
    "def resumo_mensal(df):\n",
    "    resumo_mensal = df.groupby(['Regiao','municipio', 'ano_mes','estacao']).agg(\n",
    "        dias_no_mes = ('classificacao_dia', 'count'),\n",
    "        dias_bons = ('classificacao_dia', lambda x: (x.isin(['Excelente','Muito Bom','Bom'])).sum()),\n",
    "        dias_aceitaveis = ('classificacao_dia', lambda x: (x == 'Aceitável').sum()),\n",
    "        dias_marginais = ('classificacao_dia', lambda x: (x == 'Marginal').sum()),\n",
    "        extremos = ('evento_extremo', 'sum'),\n",
    "        percentual_extremos = ('evento_extremo', lambda x: 100*x.sum()/len(x)),\n",
    "        media_score = ('score_dia', 'mean'),\n",
    "        score_max = ('score_dia', 'max'),\n",
    "        score_min = ('score_dia', 'min'),\n",
    "        score_std = ('score_dia', 'std'),\n",
    "        media_maxtemp = ('maxtempC', 'mean'),\n",
    "        maxtemp_max = ('maxtempC', 'max'),\n",
    "        media_mintemp = ('mintempC', 'mean'),\n",
    "        mintemp_min = ('mintempC', 'min'),\n",
    "        media_totalSnow_cm = ('totalSnow_cm', 'mean'),\n",
    "        media_sunHour = ('sunHour', 'mean'),\n",
    "        media_uvIndex = ('uvIndex', 'mean'),\n",
    "        media_FeelsLikeC = ('FeelsLikeC', 'mean'),\n",
    "        media_HeatIndexC = ('HeatIndexC', 'mean'),\n",
    "        media_WindChillC = ('WindChillC', 'mean'),\n",
    "        media_humidity = ('humidity', 'mean'),\n",
    "        media_precipMM = ('precipMM', 'mean'),\n",
    "        media_tempC = ('tempC', 'mean'),\n",
    "        calor_extremo = ('calor_extremo', 'sum'),\n",
    "        frio_extremo = ('frio_extremo', 'sum'),\n",
    "        chuva_extrema = ('chuva_extrema', 'sum'),\n",
    "        neve = ('neve', 'sum'),\n",
    "        uv_extremo = ('uv_extremo', 'sum'),\n",
    "        class_mais_comum = ('classificacao_dia', lambda x: x.mode().iloc[0] if not x.mode().empty else np.nan)\n",
    "    ).reset_index()\n",
    "\n",
    "    resumo_mensal['classificacao_mes'] = resumo_mensal['media_score'].apply(classifica_score)\n",
    "\n",
    "    return resumo_mensal\n",
    "\n",
    "def resumo_geral(df):\n",
    "    resumo_geral = df.groupby(['Regiao','municipio']).agg(\n",
    "        total_dias = ('classificacao_dia', 'count'),\n",
    "        dias_bons = ('classificacao_dia', lambda x: (x.isin(['Excelente','Muito Bom','Bom'])).sum()),\n",
    "        dias_aceitaveis = ('classificacao_dia', lambda x: (x == 'Aceitável').sum()),\n",
    "        dias_marginais = ('classificacao_dia', lambda x: (x == 'Marginal').sum()),\n",
    "        extremos = ('evento_extremo', 'sum'),\n",
    "        percentual_extremos = ('evento_extremo', lambda x: 100*x.sum()/len(x)),\n",
    "        calor_extremo = ('calor_extremo', 'sum'),\n",
    "        frio_extremo = ('frio_extremo', 'sum'),\n",
    "        chuva_extrema = ('chuva_extrema', 'sum'),\n",
    "        neve = ('neve', 'sum'),\n",
    "        uv_extremo = ('uv_extremo', 'sum'),\n",
    "        media_score = ('score_dia', 'mean'),\n",
    "        media_maxtemp = ('maxtempC', 'mean'),\n",
    "        media_mintemp = ('mintempC', 'mean'),\n",
    "        media_totalSnow_cm = ('totalSnow_cm', 'mean'),\n",
    "        media_sunHour = ('sunHour', 'mean'),\n",
    "        media_uvIndex = ('uvIndex', 'mean'),\n",
    "        media_FeelsLikeC = ('FeelsLikeC', 'mean'),\n",
    "        media_HeatIndexC = ('HeatIndexC', 'mean'),\n",
    "        media_WindChillC = ('WindChillC', 'mean'),\n",
    "        media_humidity = ('humidity', 'mean'),\n",
    "        media_precipMM = ('precipMM', 'mean'),\n",
    "        media_tempC = ('tempC', 'mean')\n",
    "    ).reset_index()\n",
    "\n",
    "    resumo_geral['classificacao_geral'] = resumo_geral['media_score'].apply(classifica_score)\n",
    "    return resumo_geral\n",
    "\n",
    "def tci(df):\n",
    "    tci_registros = []\n",
    "\n",
    "    for municipio, dados in df.groupby(['Regiao','municipio']):\n",
    "        # Calcula TCI mensal e anual\n",
    "        tci_annual, tci_mensal = compute_tci_monthly(dados)\n",
    "        # Para cada mês desse município, anote também as médias dos componentess do TCI\n",
    "        dados['year'] = dados['date_time'].dt.year\n",
    "        dados['month'] = dados['date_time'].dt.month\n",
    "        for i, row in tci_mensal.iterrows():\n",
    "            ano = row['ano']\n",
    "            mes = row['mes']\n",
    "            # Seleciona só aquele mês/ano\n",
    "            dados_mes = dados[(dados['year'] == ano) & (dados['month'] == mes)]\n",
    "            # Calcula as médias/indicadores do TCI:\n",
    "            tmean = dados_mes['tempC'].mean()\n",
    "            rhmean = dados_mes['humidity'].mean()\n",
    "            tmax = dados_mes['maxtempC'].mean()\n",
    "            # Se quiser rhmax separado (UR máxima), coloque aqui, mas no seu código estava usando média:\n",
    "            rhmax = dados_mes['humidity'].mean()\n",
    "            precip = dados_mes['precipMM'].sum()\n",
    "            sun = dados_mes['sunHour'].mean()\n",
    "            wind = dados_mes['windspeedKmph'].mean()\n",
    "            # Monta registro\n",
    "            reg = {\n",
    "                'municipio': municipio,\n",
    "                'ano': ano,\n",
    "                'mes': mes,\n",
    "                'tci': row['tci'],\n",
    "                'tci_anual': tci_annual,\n",
    "                'tempC_media': tmean,\n",
    "                'humidity_media': rhmean,\n",
    "                'maxtempC_media': tmax,\n",
    "                'humidity_max_media': rhmax,  # Aqui está igual ao rhmean, pode mudar se quiser pegar o valor máximo.\n",
    "                'precipMM_total': precip,\n",
    "                'sunHour_media': sun,\n",
    "                'windspeedKmph_media': wind\n",
    "            }\n",
    "            tci_registros.append(reg)\n",
    "\n",
    "    # Junta tudo em um DataFrame\n",
    "    tci_df = pd.DataFrame(tci_registros)\n",
    "\n",
    "    # Se quiser, pode reordenar as colunas\n",
    "    colunas = [\n",
    "        'municipio', 'ano', 'mes', 'tci', 'tci_anual',\n",
    "        'tempC_media', 'humidity_media', 'maxtempC_media', 'humidity_max_media',\n",
    "        'precipMM_total', 'sunHour_media', 'windspeedKmph_media'\n",
    "    ]\n",
    "    tci_df = tci_df[colunas]\n",
    "\n",
    "    return tci_df\n",
    "\n",
    "def marcacao_extremos_diarios(df):\n",
    "    df['calor_extremo']   = df.apply(is_hot_extreme, axis=1).astype(int)\n",
    "    df['frio_extremo']    = df.apply(is_cold_extreme, axis=1).astype(int)\n",
    "    df['chuva_extrema']   = df.apply(is_rain_extreme, axis=1).astype(int)\n",
    "    df['neve']            = df.apply(is_snow_extreme, axis=1).astype(int)\n",
    "    df['uv_extremo']      = df.apply(is_uv_extreme, axis=1).astype(int)\n",
    "\n",
    "    df['evento_extremo'] = df.apply(marcar_extremo, axis=1)\n",
    "    df['score_dia'] = df.apply(score_dia, axis=1)\n",
    "    df['classificacao_dia'] = df['score_dia'].apply(classifica_score)\n",
    "    df['ano_mes'] = df['date_time'].dt.to_period('M')\n",
    "    df['ano'] = df['date_time'].dt.year\n",
    "    df['estacao'] = df['ano_mes'].apply(lambda x: assign_season(x.month))\n",
    "\n",
    "    df = df[['date_time', 'maxtempC', 'mintempC', 'totalSnow_cm', 'sunHour',\n",
    "       'uvIndex', 'moon_illumination', 'moonrise', 'moonset', 'sunrise',\n",
    "       'sunset', 'DewPointC', 'FeelsLikeC', 'HeatIndexC', 'WindChillC',\n",
    "       'WindGustKmph', 'cloudcover', 'humidity', 'precipMM', 'pressure',\n",
    "       'tempC', 'visibility', 'winddirDegree', 'windspeedKmph', 'location',\n",
    "       'municipio',  'Regiao', 'calor_extremo', 'frio_extremo', 'chuva_extrema',\n",
    "       'neve', 'uv_extremo', 'evento_extremo', 'score_dia',\n",
    "       'classificacao_dia', 'ano_mes', 'ano', 'estacao']]\n",
    "    \n",
    "    return df\n",
    "\n",
    "# Salva Ranking Base\n",
    "def salva_rankings(df):\n",
    "    filePathRankingBase = '..\\\\..\\\\Bases\\\\Clima\\\\worldWeatherApi\\\\ranking\\\\ranking_base.csv'\n",
    "    df_formatado = formatar_numericos(df)\n",
    "    df_formatado.to_csv(filePathRankingBase, index=False)\n",
    "    del(df_formatado)\n",
    "\n",
    "    # Salva Ranking Mensal\n",
    "    filePathRankingMensal = '..\\\\..\\\\Bases\\\\Clima\\\\worldWeatherApi\\\\ranking\\\\ranking_Mensal.csv'\n",
    "    resumo_mensal_formatado = formatar_numericos(resumo_mensal)\n",
    "    resumo_mensal_formatado.to_csv(filePathRankingMensal, index=False)\n",
    "    del(resumo_mensal_formatado)\n",
    "\n",
    "    # Salva Ranking Geral\n",
    "    filePathRankingGeral = '..\\\\..\\\\Bases\\\\Clima\\\\worldWeatherApi\\\\ranking\\\\ranking_Geral.csv'\n",
    "    resumo_geral_formatado = formatar_numericos(resumo_geral)\n",
    "    resumo_geral_formatado.to_csv(filePathRankingGeral, index=False)\n",
    "    del(resumo_geral_formatado)\n",
    "\n",
    "    # Salva Ranking TCI\n",
    "    filePathRankingTCI = '..\\\\..\\\\Bases\\\\Clima\\\\worldWeatherApi\\\\ranking\\\\ranking_TCI.csv'\n",
    "    tci_df_formatado = formatar_numericos(tci_df)\n",
    "    tci_df_formatado.to_csv(filePathRankingTCI, index=False)\n",
    "    del(tci_df_formatado)\n",
    "\n",
    "def topx_cidades(n = 100):\n",
    "    top10 = resumo_geral.sort_values('media_score', ascending=False).head(100)\n",
    "\n",
    "    texto = \"🏆 Top 100 cidades com melhor score climático 🏆\\n\"\n",
    "    for i, row in enumerate(top10.itertuples(), 1):\n",
    "        texto += (f\"{i:02d}. {row.municipio}: {row.media_score:.1f} pontos | \"\n",
    "                f\"Extremos: {row.extremos} | \"\n",
    "                f\"Máx: {row.media_maxtemp:.1f}°C | \"\n",
    "                f\"Mín: {row.media_mintemp:.1f}°C\\n\")\n",
    "    print(texto)\n",
    "\n",
    "\n",
    "def topx_cidades_por_estacao(n=10):\n",
    "    for estacao in ['Verão', 'Outono', 'Primavera', 'Inverno']:\n",
    "        print(f\"\\n🏅 Top 10 cidades - {estacao} 🏅\")\n",
    "        # Seleciona o melhor mês de cada cidade na estação (pelo maior score)\n",
    "        top_por_cidade = (\n",
    "            resumo_mensal[resumo_mensal['estacao'] == estacao]\n",
    "            .sort_values('media_score', ascending=False)\n",
    "            .groupby('municipio', as_index=False)\n",
    "            .first()\n",
    "        )\n",
    "        # Agora pega só os 10 melhores\n",
    "        top10 = top_por_cidade.sort_values('media_score', ascending=False).head(n)\n",
    "        for i, row in enumerate(top10.itertuples(), 1):\n",
    "            print(f\"{i:02d}. {row.municipio}: {row.media_score:.1f} pontos | Extremos: {row.extremos} | Máx: {row.media_maxtemp:.1f}°C | Mín: {row.media_mintemp:.1f}°C | {row.classificacao_mes} | {row.ano_mes}\")\n",
    "\n",
    "def cidades_ranking():\n",
    "    ordem_classificacao = ['Excelente', 'Muito Bom', 'Bom', 'Aceitável', 'Marginal']\n",
    "\n",
    "    texto = '🏆 Lista de cidades agrupadas por classificação 🏆\\n'\n",
    "    for classificacao in ordem_classificacao:\n",
    "        grupo = resumo_geral[resumo_geral['classificacao_geral'] == classificacao]\\\n",
    "            .sort_values('media_score', ascending=False)\n",
    "        if not grupo.empty:\n",
    "            texto += f\"\\n🔹 {classificacao}:\\n\"\n",
    "            for idx, row in grupo.iterrows():\n",
    "                texto += (\n",
    "                    f\"   - [{row['Regiao']}] {row['municipio']}: \"\n",
    "                    f\"{row['media_score']:.1f} pontos | \"\n",
    "                    f\"Extremos: {row['extremos']} | \"\n",
    "                    f\"Máx: {row['media_maxtemp']:.1f}°C | \"\n",
    "                    f\"Mín: {row['media_mintemp']:.1f}°C\\n\"\n",
    "                )\n",
    "\n",
    "    print(texto)\n",
    "\n",
    "\n",
    "def plot_map(resumo_geral_geo):\n",
    "    # Caminho do shapefile do GADM (Portugal)\n",
    "\n",
    "    shapefile_path = '..\\\\..\\\\Bases\\\\Geocoding\\\\files\\\\Gadm - Portugal - Shape\\\\gadm41_PRT_0.shp' \n",
    "    # 1. Carrega e limpa o shapefile\n",
    "    portugal = gpd.read_file(shapefile_path)\n",
    "\n",
    "    # Corrige eventuais geometrias inválidas\n",
    "    portugal['geometry'] = portugal['geometry'].buffer(0)\n",
    "    # Remove linhas sem geometria válida\n",
    "    portugal = portugal[portugal.is_valid & ~portugal.is_empty]\n",
    "\n",
    "    if portugal.empty:\n",
    "        raise ValueError('O shapefile está vazio ou inválido!')\n",
    "\n",
    "    # Faz a união de todos os polígonos do shape (Continente + Madeira + Açores)\n",
    "    portugal_union = portugal.geometry.unary_union\n",
    "\n",
    "    # 2. Converte sua tabela de cidades para GeoDataFrame\n",
    "    # ranking_geo deve ter as colunas 'municipio', 'latitude', 'longitude', 'classificacao_geral'\n",
    "    cores = {\n",
    "        'Excelente': 'blue',\n",
    "        'Muito Bom': 'blue',\n",
    "        'Bom': 'green',\n",
    "        'Aceitável': 'yellow',\n",
    "        'Marginal': 'red'\n",
    "    }\n",
    "    resumo_geral_geo['cor'] = resumo_geral_geo['classificacao_geral'].map(cores)\n",
    "\n",
    "    gdf = gpd.GeoDataFrame(\n",
    "        resumo_geral_geo,\n",
    "        geometry=gpd.points_from_xy(resumo_geral_geo.longitude, resumo_geral_geo.latitude),\n",
    "        crs=\"EPSG:4326\"\n",
    "    )\n",
    "\n",
    "    # 3. Marque pontos dentro e fora de Portugal (incluindo ilhas)\n",
    "    gdf['dentro_portugal'] = gdf.geometry.apply(portugal_union.covers)\n",
    "\n",
    "    # Separe pontos\n",
    "    dentro_portugal = gdf[gdf['dentro_portugal']]\n",
    "    fora_portugal = gdf[~gdf['dentro_portugal']]\n",
    "\n",
    "    # 4. Mostre os possíveis erros\n",
    "    if not fora_portugal.empty:\n",
    "        print('Cidades possivelmente com coordenadas erradas:')\n",
    "        print(fora_portugal[['municipio', 'latitude', 'longitude']])\n",
    "    else:\n",
    "        print('Todas as cidades estão corretamente localizadas em Portugal.')\n",
    "\n",
    "    # 5. Plot bonito!\n",
    "    fig, ax = plt.subplots(figsize=(11, 13))\n",
    "    portugal.plot(ax=ax, color='lightgrey', edgecolor='black', zorder=0)\n",
    "    dentro_portugal.plot(\n",
    "        ax=ax, color=dentro_portugal['cor'], markersize=40,\n",
    "        marker='o', edgecolor='black', linewidth=0.7, zorder=2\n",
    "    )\n",
    "    if not fora_portugal.empty:\n",
    "        fora_portugal.plot(\n",
    "            ax=ax, color='black', markersize=70, marker='x',\n",
    "            label='Possível erro', zorder=3\n",
    "        )\n",
    "\n",
    "    patches = [\n",
    "        mpatches.Patch(color='blue', label='Excelente/Muito Bom'),\n",
    "        mpatches.Patch(color='green', label='Bom'),\n",
    "        mpatches.Patch(color='yellow', label='Aceitável'),\n",
    "        mpatches.Patch(color='red', label='Marginal'),\n",
    "        mpatches.Patch(color='black', label='Possível erro')\n",
    "    ]\n",
    "    plt.legend(handles=patches, loc='lower left', fontsize=10)\n",
    "    plt.title('Classificação Climática das Cidades de Portugal (GADM, incl. ilhas)')\n",
    "    plt.axis('off')\n",
    "    plt.tight_layout()\n",
    "    plt.show()\n",
    "\n",
    "def plot_temperaturas(cidades_lista, resumo_mensal):\n",
    "    # Converte de Period para Timestamp ou formato 'ano-mês'\n",
    "    resumo_mensal.loc[:, 'ano_mes'] = resumo_mensal['ano_mes'].dt.strftime('%Y-%m')  # Formato ano-mês\n",
    "    \n",
    "    # Para cada cidade na lista de cidades fornecida, cria-se um gráfico\n",
    "    for cidade in cidades_lista:\n",
    "        # Filtra os dados da cidade atual\n",
    "        cidade_data = resumo_mensal[resumo_mensal['municipio'] == cidade]\n",
    "        \n",
    "        # Criação do gráfico interativo com Plotly\n",
    "        fig = px.line(cidade_data, \n",
    "                      x='ano_mes', \n",
    "                      y=['media_maxtemp', 'media_mintemp'], \n",
    "                      labels={'ano_mes': 'Ano-Mês', 'value': 'Temperatura (°C)'}, \n",
    "                      title=f'Temperaturas Mensais - {cidade}',\n",
    "                      markers=True)\n",
    "        \n",
    "        # Personalizando a cor e renomeando as linhas\n",
    "        fig.update_traces(line=dict(color='red'), name='MaxTemp (mean)', selector=dict(name='media_maxtemp'))  # Linha vermelha e nome personalizado\n",
    "        fig.update_traces(line=dict(color='blue'), name='MinTemp (mean)', selector=dict(name='media_mintemp'))  # Linha azul e nome personalizado\n",
    "        \n",
    "        # Adicionando linhas verticais para separar as estações do ano\n",
    "        # Vamos utilizar a coluna 'estacao' para saber onde adicionar as linhas\n",
    "        estacoes = cidade_data['estacao'].unique()  # Obtendo todas as estações na cidade\n",
    "\n",
    "        # Calculando o intervalo do eixo Y manualmente\n",
    "        y_min = cidade_data[['media_maxtemp', 'media_mintemp']].min().min()  # Menor valor entre as temperaturas\n",
    "        y_max = cidade_data[['media_maxtemp', 'media_mintemp']].max().max()  # Maior valor entre as temperaturas\n",
    "        \n",
    "        # Para cada estação, vamos adicionar uma linha vertical no gráfico\n",
    "        for estacao in estacoes:\n",
    "            # Encontrando o mês correspondente ao início da estação\n",
    "            estacao_data = cidade_data[cidade_data['estacao'] == estacao].iloc[0]  # Pegando o primeiro mês da estação\n",
    "            estacao_mes = estacao_data['ano_mes']  # Pegando o ano-mês\n",
    "            \n",
    "            # Adicionando a linha vertical\n",
    "            fig.add_shape(\n",
    "                type=\"line\",\n",
    "                x0=estacao_mes, x1=estacao_mes,\n",
    "                y0=y_min, y1=y_max,  # Usando o intervalo calculado manualmente\n",
    "                line=dict(color=\"gray\", dash=\"dash\", width=2)\n",
    "            )\n",
    "            \n",
    "            # Adicionando o label indicando o nome da estação\n",
    "            fig.add_annotation(\n",
    "                x=estacao_mes,  # Posição no eixo X\n",
    "                y=y_max,  # Posição no eixo Y (posiciona-se no topo do gráfico)\n",
    "                text=estacao,  # Nome da estação\n",
    "                showarrow=True,  # Exibe uma seta indicando a posição\n",
    "                arrowhead=2,  # Estilo da seta\n",
    "                ax=0,  # Deslocamento no eixo X\n",
    "                ay=-30,  # Deslocamento no eixo Y (ajuste o valor para a posição)\n",
    "                font=dict(size=12, color=\"black\"),  # Tamanho e cor da fonte\n",
    "                bgcolor=\"white\",  # Cor de fundo do rótulo\n",
    "                borderpad=4,  # Espaçamento do texto para a borda\n",
    "                bordercolor=\"gray\",  # Cor da borda\n",
    "                borderwidth=1  # Largura da borda\n",
    "            )\n",
    "        \n",
    "        # Ajustando a aparência geral do gráfico\n",
    "        fig.update_layout(\n",
    "            xaxis_title=\"Ano-Mês\",\n",
    "            yaxis_title=\"Temperatura (°C)\",\n",
    "            title={'x': 0.5, 'xanchor': 'center'},  # Centraliza o título\n",
    "            template=\"plotly_white\",  # Tema visual claro\n",
    "            xaxis_tickangle=45  # Rota os rótulos do eixo X\n",
    "        )\n",
    "        \n",
    "        # Mostra o gráfico interativo\n",
    "        fig.show()"
   ]
  },
  {
   "cell_type": "code",
   "execution_count": null,
   "id": "e5bae7d7",
   "metadata": {},
   "outputs": [],
   "source": [
    "filePathClima = '..\\\\..\\\\Bases\\\\Clima\\\\worldWeatherApi\\\\'\n",
    "df = load_weather_data(filePathClima)"
   ]
  },
  {
   "cell_type": "code",
   "execution_count": null,
   "id": "e7950913",
   "metadata": {},
   "outputs": [],
   "source": [
    "filePathMunicipios = '..\\\\..\\\\Bases\\\\Municipios\\\\portugalMunicipios.csv'\n",
    "df_municipios =  pd.read_csv(filePathMunicipios)"
   ]
  },
  {
   "cell_type": "code",
   "execution_count": null,
   "id": "7d5e1db5",
   "metadata": {},
   "outputs": [],
   "source": [
    "from unidecode import unidecode\n",
    "\n",
    "# Padroniza nomes: minúsculas, sem espaços extras e sem acentos\n",
    "df['location_merge'] = df['municipio'].apply(lambda x: unidecode(str(x)).lower().strip())\n",
    "df_municipios['Cidades_merge'] = df_municipios['Cidades'].apply(lambda x: unidecode(str(x)).lower().strip())\n",
    "\n",
    "\n",
    "# Junta pelo nome da cidade padronizado\n",
    "df = pd.merge(\n",
    "    df,\n",
    "    df_municipios,\n",
    "    left_on='location_merge',\n",
    "    right_on='Cidades_merge',\n",
    "    how='left'\n",
    ")"
   ]
  },
  {
   "cell_type": "code",
   "execution_count": null,
   "id": "26af3eb6",
   "metadata": {},
   "outputs": [],
   "source": [
    "df = marcacao_extremos_diarios(df)"
   ]
  },
  {
   "cell_type": "code",
   "execution_count": null,
   "id": "eec7a7ae",
   "metadata": {},
   "outputs": [],
   "source": [
    "# resumo mensal\n",
    "resumo_mensal = resumo_mensal(df)\n",
    "resumo_geral = resumo_geral(df)\n",
    "tci_df = tci(df)\n"
   ]
  },
  {
   "cell_type": "code",
   "execution_count": null,
   "id": "b016e242",
   "metadata": {},
   "outputs": [],
   "source": [
    "salva_rankings(df)\n"
   ]
  },
  {
   "cell_type": "code",
   "execution_count": null,
   "id": "6ce3a5ec",
   "metadata": {},
   "outputs": [],
   "source": [
    "topx_cidades()"
   ]
  },
  {
   "cell_type": "code",
   "execution_count": null,
   "id": "5273ca41",
   "metadata": {},
   "outputs": [],
   "source": [
    "topx_cidades_por_estacao(2)"
   ]
  },
  {
   "cell_type": "code",
   "execution_count": null,
   "id": "52516453",
   "metadata": {},
   "outputs": [],
   "source": [
    "cidades_ranking()"
   ]
  },
  {
   "cell_type": "code",
   "execution_count": null,
   "id": "0b56be62",
   "metadata": {},
   "outputs": [],
   "source": [
    "# Ordenar o DataFrame pelo TCI anual (do melhor para o pior)\n",
    "tci_ordenado = tci_df.sort_values('tci_anual', ascending=False)\n",
    "\n",
    "# Se quiser mostrar apenas algumas colunas, ajuste aqui:\n",
    "colunas_para_mostrar = ['municipio', 'Regiao', 'tci_anual'] if 'Regiao' in tci_ordenado.columns else ['municipio', 'tci_anual']\n",
    "\n",
    "# Imprime o ranking completo\n",
    "print(\"🏆 Ranking das cidades pelo TCI Anual 🏆\\n\")\n",
    "for i, row in enumerate(tci_ordenado[colunas_para_mostrar].drop_duplicates(subset=['municipio']).itertuples(), 1):\n",
    "    print(f\"{i:02d}. {getattr(row, 'municipio')} - {getattr(row, 'Regiao', '')} | TCI Anual: {getattr(row, 'tci_anual'):.1f}\")\n"
   ]
  },
  {
   "cell_type": "code",
   "execution_count": null,
   "id": "da48109e",
   "metadata": {},
   "outputs": [],
   "source": [
    "filePathGeo = '..\\\\..\\\\Bases\\\\Geocoding\\\\portugalMunicipiosGeo.csv'\n",
    "# Carrega o arquivo de coordenadas\n",
    "geo = pd.read_csv(filePathGeo)\n"
   ]
  },
  {
   "cell_type": "code",
   "execution_count": null,
   "id": "f94de7e5",
   "metadata": {},
   "outputs": [],
   "source": [
    "# Padroniza nomes para garantir o merge\n",
    "resumo_geral['location_merge'] = resumo_geral['municipio'].apply(lambda x: unidecode(str(x)).lower().strip())\n",
    "geo['Cidades_merge'] = geo['Cidades'].apply(lambda x: unidecode(str(x)).lower().strip())\n",
    "\n",
    "# Junta pelo nome da cidade padronizado\n",
    "resumo_geral_geo = pd.merge(\n",
    "    resumo_geral,\n",
    "    geo,\n",
    "    left_on='location_merge',\n",
    "    right_on='Cidades_merge',\n",
    "    how='inner'\n",
    ")"
   ]
  },
  {
   "cell_type": "code",
   "execution_count": null,
   "id": "cc27dca5",
   "metadata": {},
   "outputs": [],
   "source": [
    "plot_map(resumo_geral_geo)"
   ]
  },
  {
   "cell_type": "code",
   "execution_count": 49,
   "id": "6a718586",
   "metadata": {},
   "outputs": [
    {
     "data": {
      "application/vnd.plotly.v1+json": {
       "config": {
        "plotlyServerURL": "https://plot.ly"
       },
       "data": [
        {
         "hovertemplate": "variable=media_maxtemp<br>Ano-Mês=%{x}<br>Temperatura (°C)=%{y}<extra></extra>",
         "legendgroup": "media_maxtemp",
         "line": {
          "color": "red",
          "dash": "solid"
         },
         "marker": {
          "symbol": "circle"
         },
         "mode": "lines+markers",
         "name": "MaxTemp (mean)",
         "orientation": "v",
         "showlegend": true,
         "type": "scatter",
         "x": [
          "2024-06-01T00:00:00.000000000",
          "2024-07-01T00:00:00.000000000",
          "2024-08-01T00:00:00.000000000",
          "2024-09-01T00:00:00.000000000",
          "2024-10-01T00:00:00.000000000",
          "2024-11-01T00:00:00.000000000",
          "2024-12-01T00:00:00.000000000",
          "2025-01-01T00:00:00.000000000",
          "2025-02-01T00:00:00.000000000",
          "2025-03-01T00:00:00.000000000",
          "2025-04-01T00:00:00.000000000",
          "2025-05-01T00:00:00.000000000",
          "2025-06-01T00:00:00.000000000"
         ],
         "xaxis": "x",
         "y": {
          "bdata": "AAAAAAAAN0DGGGOMMcY9QBFCCCGEED5AmpmZmZmZOUAyxhhjjDE1QN7d3d3dXTJAIYQQQgghLkDnnHPOOecsQEmSJEmSpC1ApZRSSimlLEDv7u7u7u4xQJ1zzjnnnDZAiYiIiIgIPkA=",
          "dtype": "f8"
         },
         "yaxis": "y"
        },
        {
         "hovertemplate": "variable=media_mintemp<br>Ano-Mês=%{x}<br>Temperatura (°C)=%{y}<extra></extra>",
         "legendgroup": "media_mintemp",
         "line": {
          "color": "blue",
          "dash": "solid"
         },
         "marker": {
          "symbol": "circle"
         },
         "mode": "lines+markers",
         "name": "MinTemp (mean)",
         "orientation": "v",
         "showlegend": true,
         "type": "scatter",
         "x": [
          "2024-06-01T00:00:00.000000000",
          "2024-07-01T00:00:00.000000000",
          "2024-08-01T00:00:00.000000000",
          "2024-09-01T00:00:00.000000000",
          "2024-10-01T00:00:00.000000000",
          "2024-11-01T00:00:00.000000000",
          "2024-12-01T00:00:00.000000000",
          "2025-01-01T00:00:00.000000000",
          "2025-02-01T00:00:00.000000000",
          "2025-03-01T00:00:00.000000000",
          "2025-04-01T00:00:00.000000000",
          "2025-05-01T00:00:00.000000000",
          "2025-06-01T00:00:00.000000000"
         ],
         "xaxis": "x",
         "y": {
          "bdata": "AAAAAAAAKkAIIYQQQggxQJ1zzjnnnDFAd3d3d3d3LUBCCCGEEEIsQO/u7u7u7ihAOuecc845H0BrrbXWWmshQCVJkiRJkh9AAAAAAAAAIEDNzMzMzMwkQBljjDHGGClAZmZmZmbmMEA=",
          "dtype": "f8"
         },
         "yaxis": "y"
        }
       ],
       "layout": {
        "annotations": [
         {
          "arrowhead": 2,
          "ax": 0,
          "ay": -30,
          "bgcolor": "white",
          "bordercolor": "gray",
          "borderpad": 4,
          "borderwidth": 1,
          "font": {
           "color": "black",
           "size": 12
          },
          "showarrow": true,
          "text": "Verão",
          "x": "2024-06-01T00:00:00",
          "y": 30.06451612903226
         },
         {
          "arrowhead": 2,
          "ax": 0,
          "ay": -30,
          "bgcolor": "white",
          "bordercolor": "gray",
          "borderpad": 4,
          "borderwidth": 1,
          "font": {
           "color": "black",
           "size": 12
          },
          "showarrow": true,
          "text": "Outono",
          "x": "2024-09-01T00:00:00",
          "y": 30.06451612903226
         },
         {
          "arrowhead": 2,
          "ax": 0,
          "ay": -30,
          "bgcolor": "white",
          "bordercolor": "gray",
          "borderpad": 4,
          "borderwidth": 1,
          "font": {
           "color": "black",
           "size": 12
          },
          "showarrow": true,
          "text": "Inverno",
          "x": "2024-12-01T00:00:00",
          "y": 30.06451612903226
         },
         {
          "arrowhead": 2,
          "ax": 0,
          "ay": -30,
          "bgcolor": "white",
          "bordercolor": "gray",
          "borderpad": 4,
          "borderwidth": 1,
          "font": {
           "color": "black",
           "size": 12
          },
          "showarrow": true,
          "text": "Primavera",
          "x": "2025-03-01T00:00:00",
          "y": 30.06451612903226
         }
        ],
        "legend": {
         "title": {
          "text": "variable"
         },
         "tracegroupgap": 0
        },
        "shapes": [
         {
          "line": {
           "color": "gray",
           "dash": "dash",
           "width": 2
          },
          "type": "line",
          "x0": "2024-06-01T00:00:00",
          "x1": "2024-06-01T00:00:00",
          "y0": 7.806451612903226,
          "y1": 30.06451612903226
         },
         {
          "line": {
           "color": "gray",
           "dash": "dash",
           "width": 2
          },
          "type": "line",
          "x0": "2024-09-01T00:00:00",
          "x1": "2024-09-01T00:00:00",
          "y0": 7.806451612903226,
          "y1": 30.06451612903226
         },
         {
          "line": {
           "color": "gray",
           "dash": "dash",
           "width": 2
          },
          "type": "line",
          "x0": "2024-12-01T00:00:00",
          "x1": "2024-12-01T00:00:00",
          "y0": 7.806451612903226,
          "y1": 30.06451612903226
         },
         {
          "line": {
           "color": "gray",
           "dash": "dash",
           "width": 2
          },
          "type": "line",
          "x0": "2025-03-01T00:00:00",
          "x1": "2025-03-01T00:00:00",
          "y0": 7.806451612903226,
          "y1": 30.06451612903226
         }
        ],
        "template": {
         "data": {
          "bar": [
           {
            "error_x": {
             "color": "#2a3f5f"
            },
            "error_y": {
             "color": "#2a3f5f"
            },
            "marker": {
             "line": {
              "color": "white",
              "width": 0.5
             },
             "pattern": {
              "fillmode": "overlay",
              "size": 10,
              "solidity": 0.2
             }
            },
            "type": "bar"
           }
          ],
          "barpolar": [
           {
            "marker": {
             "line": {
              "color": "white",
              "width": 0.5
             },
             "pattern": {
              "fillmode": "overlay",
              "size": 10,
              "solidity": 0.2
             }
            },
            "type": "barpolar"
           }
          ],
          "carpet": [
           {
            "aaxis": {
             "endlinecolor": "#2a3f5f",
             "gridcolor": "#C8D4E3",
             "linecolor": "#C8D4E3",
             "minorgridcolor": "#C8D4E3",
             "startlinecolor": "#2a3f5f"
            },
            "baxis": {
             "endlinecolor": "#2a3f5f",
             "gridcolor": "#C8D4E3",
             "linecolor": "#C8D4E3",
             "minorgridcolor": "#C8D4E3",
             "startlinecolor": "#2a3f5f"
            },
            "type": "carpet"
           }
          ],
          "choropleth": [
           {
            "colorbar": {
             "outlinewidth": 0,
             "ticks": ""
            },
            "type": "choropleth"
           }
          ],
          "contour": [
           {
            "colorbar": {
             "outlinewidth": 0,
             "ticks": ""
            },
            "colorscale": [
             [
              0,
              "#0d0887"
             ],
             [
              0.1111111111111111,
              "#46039f"
             ],
             [
              0.2222222222222222,
              "#7201a8"
             ],
             [
              0.3333333333333333,
              "#9c179e"
             ],
             [
              0.4444444444444444,
              "#bd3786"
             ],
             [
              0.5555555555555556,
              "#d8576b"
             ],
             [
              0.6666666666666666,
              "#ed7953"
             ],
             [
              0.7777777777777778,
              "#fb9f3a"
             ],
             [
              0.8888888888888888,
              "#fdca26"
             ],
             [
              1,
              "#f0f921"
             ]
            ],
            "type": "contour"
           }
          ],
          "contourcarpet": [
           {
            "colorbar": {
             "outlinewidth": 0,
             "ticks": ""
            },
            "type": "contourcarpet"
           }
          ],
          "heatmap": [
           {
            "colorbar": {
             "outlinewidth": 0,
             "ticks": ""
            },
            "colorscale": [
             [
              0,
              "#0d0887"
             ],
             [
              0.1111111111111111,
              "#46039f"
             ],
             [
              0.2222222222222222,
              "#7201a8"
             ],
             [
              0.3333333333333333,
              "#9c179e"
             ],
             [
              0.4444444444444444,
              "#bd3786"
             ],
             [
              0.5555555555555556,
              "#d8576b"
             ],
             [
              0.6666666666666666,
              "#ed7953"
             ],
             [
              0.7777777777777778,
              "#fb9f3a"
             ],
             [
              0.8888888888888888,
              "#fdca26"
             ],
             [
              1,
              "#f0f921"
             ]
            ],
            "type": "heatmap"
           }
          ],
          "histogram": [
           {
            "marker": {
             "pattern": {
              "fillmode": "overlay",
              "size": 10,
              "solidity": 0.2
             }
            },
            "type": "histogram"
           }
          ],
          "histogram2d": [
           {
            "colorbar": {
             "outlinewidth": 0,
             "ticks": ""
            },
            "colorscale": [
             [
              0,
              "#0d0887"
             ],
             [
              0.1111111111111111,
              "#46039f"
             ],
             [
              0.2222222222222222,
              "#7201a8"
             ],
             [
              0.3333333333333333,
              "#9c179e"
             ],
             [
              0.4444444444444444,
              "#bd3786"
             ],
             [
              0.5555555555555556,
              "#d8576b"
             ],
             [
              0.6666666666666666,
              "#ed7953"
             ],
             [
              0.7777777777777778,
              "#fb9f3a"
             ],
             [
              0.8888888888888888,
              "#fdca26"
             ],
             [
              1,
              "#f0f921"
             ]
            ],
            "type": "histogram2d"
           }
          ],
          "histogram2dcontour": [
           {
            "colorbar": {
             "outlinewidth": 0,
             "ticks": ""
            },
            "colorscale": [
             [
              0,
              "#0d0887"
             ],
             [
              0.1111111111111111,
              "#46039f"
             ],
             [
              0.2222222222222222,
              "#7201a8"
             ],
             [
              0.3333333333333333,
              "#9c179e"
             ],
             [
              0.4444444444444444,
              "#bd3786"
             ],
             [
              0.5555555555555556,
              "#d8576b"
             ],
             [
              0.6666666666666666,
              "#ed7953"
             ],
             [
              0.7777777777777778,
              "#fb9f3a"
             ],
             [
              0.8888888888888888,
              "#fdca26"
             ],
             [
              1,
              "#f0f921"
             ]
            ],
            "type": "histogram2dcontour"
           }
          ],
          "mesh3d": [
           {
            "colorbar": {
             "outlinewidth": 0,
             "ticks": ""
            },
            "type": "mesh3d"
           }
          ],
          "parcoords": [
           {
            "line": {
             "colorbar": {
              "outlinewidth": 0,
              "ticks": ""
             }
            },
            "type": "parcoords"
           }
          ],
          "pie": [
           {
            "automargin": true,
            "type": "pie"
           }
          ],
          "scatter": [
           {
            "fillpattern": {
             "fillmode": "overlay",
             "size": 10,
             "solidity": 0.2
            },
            "type": "scatter"
           }
          ],
          "scatter3d": [
           {
            "line": {
             "colorbar": {
              "outlinewidth": 0,
              "ticks": ""
             }
            },
            "marker": {
             "colorbar": {
              "outlinewidth": 0,
              "ticks": ""
             }
            },
            "type": "scatter3d"
           }
          ],
          "scattercarpet": [
           {
            "marker": {
             "colorbar": {
              "outlinewidth": 0,
              "ticks": ""
             }
            },
            "type": "scattercarpet"
           }
          ],
          "scattergeo": [
           {
            "marker": {
             "colorbar": {
              "outlinewidth": 0,
              "ticks": ""
             }
            },
            "type": "scattergeo"
           }
          ],
          "scattergl": [
           {
            "marker": {
             "colorbar": {
              "outlinewidth": 0,
              "ticks": ""
             }
            },
            "type": "scattergl"
           }
          ],
          "scattermap": [
           {
            "marker": {
             "colorbar": {
              "outlinewidth": 0,
              "ticks": ""
             }
            },
            "type": "scattermap"
           }
          ],
          "scattermapbox": [
           {
            "marker": {
             "colorbar": {
              "outlinewidth": 0,
              "ticks": ""
             }
            },
            "type": "scattermapbox"
           }
          ],
          "scatterpolar": [
           {
            "marker": {
             "colorbar": {
              "outlinewidth": 0,
              "ticks": ""
             }
            },
            "type": "scatterpolar"
           }
          ],
          "scatterpolargl": [
           {
            "marker": {
             "colorbar": {
              "outlinewidth": 0,
              "ticks": ""
             }
            },
            "type": "scatterpolargl"
           }
          ],
          "scatterternary": [
           {
            "marker": {
             "colorbar": {
              "outlinewidth": 0,
              "ticks": ""
             }
            },
            "type": "scatterternary"
           }
          ],
          "surface": [
           {
            "colorbar": {
             "outlinewidth": 0,
             "ticks": ""
            },
            "colorscale": [
             [
              0,
              "#0d0887"
             ],
             [
              0.1111111111111111,
              "#46039f"
             ],
             [
              0.2222222222222222,
              "#7201a8"
             ],
             [
              0.3333333333333333,
              "#9c179e"
             ],
             [
              0.4444444444444444,
              "#bd3786"
             ],
             [
              0.5555555555555556,
              "#d8576b"
             ],
             [
              0.6666666666666666,
              "#ed7953"
             ],
             [
              0.7777777777777778,
              "#fb9f3a"
             ],
             [
              0.8888888888888888,
              "#fdca26"
             ],
             [
              1,
              "#f0f921"
             ]
            ],
            "type": "surface"
           }
          ],
          "table": [
           {
            "cells": {
             "fill": {
              "color": "#EBF0F8"
             },
             "line": {
              "color": "white"
             }
            },
            "header": {
             "fill": {
              "color": "#C8D4E3"
             },
             "line": {
              "color": "white"
             }
            },
            "type": "table"
           }
          ]
         },
         "layout": {
          "annotationdefaults": {
           "arrowcolor": "#2a3f5f",
           "arrowhead": 0,
           "arrowwidth": 1
          },
          "autotypenumbers": "strict",
          "coloraxis": {
           "colorbar": {
            "outlinewidth": 0,
            "ticks": ""
           }
          },
          "colorscale": {
           "diverging": [
            [
             0,
             "#8e0152"
            ],
            [
             0.1,
             "#c51b7d"
            ],
            [
             0.2,
             "#de77ae"
            ],
            [
             0.3,
             "#f1b6da"
            ],
            [
             0.4,
             "#fde0ef"
            ],
            [
             0.5,
             "#f7f7f7"
            ],
            [
             0.6,
             "#e6f5d0"
            ],
            [
             0.7,
             "#b8e186"
            ],
            [
             0.8,
             "#7fbc41"
            ],
            [
             0.9,
             "#4d9221"
            ],
            [
             1,
             "#276419"
            ]
           ],
           "sequential": [
            [
             0,
             "#0d0887"
            ],
            [
             0.1111111111111111,
             "#46039f"
            ],
            [
             0.2222222222222222,
             "#7201a8"
            ],
            [
             0.3333333333333333,
             "#9c179e"
            ],
            [
             0.4444444444444444,
             "#bd3786"
            ],
            [
             0.5555555555555556,
             "#d8576b"
            ],
            [
             0.6666666666666666,
             "#ed7953"
            ],
            [
             0.7777777777777778,
             "#fb9f3a"
            ],
            [
             0.8888888888888888,
             "#fdca26"
            ],
            [
             1,
             "#f0f921"
            ]
           ],
           "sequentialminus": [
            [
             0,
             "#0d0887"
            ],
            [
             0.1111111111111111,
             "#46039f"
            ],
            [
             0.2222222222222222,
             "#7201a8"
            ],
            [
             0.3333333333333333,
             "#9c179e"
            ],
            [
             0.4444444444444444,
             "#bd3786"
            ],
            [
             0.5555555555555556,
             "#d8576b"
            ],
            [
             0.6666666666666666,
             "#ed7953"
            ],
            [
             0.7777777777777778,
             "#fb9f3a"
            ],
            [
             0.8888888888888888,
             "#fdca26"
            ],
            [
             1,
             "#f0f921"
            ]
           ]
          },
          "colorway": [
           "#636efa",
           "#EF553B",
           "#00cc96",
           "#ab63fa",
           "#FFA15A",
           "#19d3f3",
           "#FF6692",
           "#B6E880",
           "#FF97FF",
           "#FECB52"
          ],
          "font": {
           "color": "#2a3f5f"
          },
          "geo": {
           "bgcolor": "white",
           "lakecolor": "white",
           "landcolor": "white",
           "showlakes": true,
           "showland": true,
           "subunitcolor": "#C8D4E3"
          },
          "hoverlabel": {
           "align": "left"
          },
          "hovermode": "closest",
          "mapbox": {
           "style": "light"
          },
          "paper_bgcolor": "white",
          "plot_bgcolor": "white",
          "polar": {
           "angularaxis": {
            "gridcolor": "#EBF0F8",
            "linecolor": "#EBF0F8",
            "ticks": ""
           },
           "bgcolor": "white",
           "radialaxis": {
            "gridcolor": "#EBF0F8",
            "linecolor": "#EBF0F8",
            "ticks": ""
           }
          },
          "scene": {
           "xaxis": {
            "backgroundcolor": "white",
            "gridcolor": "#DFE8F3",
            "gridwidth": 2,
            "linecolor": "#EBF0F8",
            "showbackground": true,
            "ticks": "",
            "zerolinecolor": "#EBF0F8"
           },
           "yaxis": {
            "backgroundcolor": "white",
            "gridcolor": "#DFE8F3",
            "gridwidth": 2,
            "linecolor": "#EBF0F8",
            "showbackground": true,
            "ticks": "",
            "zerolinecolor": "#EBF0F8"
           },
           "zaxis": {
            "backgroundcolor": "white",
            "gridcolor": "#DFE8F3",
            "gridwidth": 2,
            "linecolor": "#EBF0F8",
            "showbackground": true,
            "ticks": "",
            "zerolinecolor": "#EBF0F8"
           }
          },
          "shapedefaults": {
           "line": {
            "color": "#2a3f5f"
           }
          },
          "ternary": {
           "aaxis": {
            "gridcolor": "#DFE8F3",
            "linecolor": "#A2B1C6",
            "ticks": ""
           },
           "baxis": {
            "gridcolor": "#DFE8F3",
            "linecolor": "#A2B1C6",
            "ticks": ""
           },
           "bgcolor": "white",
           "caxis": {
            "gridcolor": "#DFE8F3",
            "linecolor": "#A2B1C6",
            "ticks": ""
           }
          },
          "title": {
           "x": 0.05
          },
          "xaxis": {
           "automargin": true,
           "gridcolor": "#EBF0F8",
           "linecolor": "#EBF0F8",
           "ticks": "",
           "title": {
            "standoff": 15
           },
           "zerolinecolor": "#EBF0F8",
           "zerolinewidth": 2
          },
          "yaxis": {
           "automargin": true,
           "gridcolor": "#EBF0F8",
           "linecolor": "#EBF0F8",
           "ticks": "",
           "title": {
            "standoff": 15
           },
           "zerolinecolor": "#EBF0F8",
           "zerolinewidth": 2
          }
         }
        },
        "title": {
         "text": "Temperaturas Mensais - Monchique",
         "x": 0.5,
         "xanchor": "center"
        },
        "xaxis": {
         "anchor": "y",
         "domain": [
          0,
          1
         ],
         "tickangle": 45,
         "title": {
          "text": "Ano-Mês"
         }
        },
        "yaxis": {
         "anchor": "x",
         "domain": [
          0,
          1
         ],
         "title": {
          "text": "Temperatura (°C)"
         }
        }
       }
      }
     },
     "metadata": {},
     "output_type": "display_data"
    },
    {
     "data": {
      "application/vnd.plotly.v1+json": {
       "config": {
        "plotlyServerURL": "https://plot.ly"
       },
       "data": [
        {
         "hovertemplate": "variable=media_maxtemp<br>Ano-Mês=%{x}<br>Temperatura (°C)=%{y}<extra></extra>",
         "legendgroup": "media_maxtemp",
         "line": {
          "color": "red",
          "dash": "solid"
         },
         "marker": {
          "symbol": "circle"
         },
         "mode": "lines+markers",
         "name": "MaxTemp (mean)",
         "orientation": "v",
         "showlegend": true,
         "type": "scatter",
         "x": [
          "2024-06-01T00:00:00.000000000",
          "2024-07-01T00:00:00.000000000",
          "2024-08-01T00:00:00.000000000",
          "2024-09-01T00:00:00.000000000",
          "2024-10-01T00:00:00.000000000",
          "2024-11-01T00:00:00.000000000",
          "2024-12-01T00:00:00.000000000",
          "2025-01-01T00:00:00.000000000",
          "2025-02-01T00:00:00.000000000",
          "2025-03-01T00:00:00.000000000",
          "2025-04-01T00:00:00.000000000",
          "2025-05-01T00:00:00.000000000",
          "2025-06-01T00:00:00.000000000"
         ],
         "xaxis": "x",
         "y": {
          "bdata": "AAAAAAAANECttdZaa603QN9777333jdAiYiIiIgINkC21lprrbUzQCIiIiIiojJAOuecc845LUCMMcYYY4wrQG7btm3btixArbXWWmutLUDe3d3d3d0xQIwxxhhjjDNAvLu7u7s7N0A=",
          "dtype": "f8"
         },
         "yaxis": "y"
        },
        {
         "hovertemplate": "variable=media_mintemp<br>Ano-Mês=%{x}<br>Temperatura (°C)=%{y}<extra></extra>",
         "legendgroup": "media_mintemp",
         "line": {
          "color": "blue",
          "dash": "solid"
         },
         "marker": {
          "symbol": "circle"
         },
         "mode": "lines+markers",
         "name": "MinTemp (mean)",
         "orientation": "v",
         "showlegend": true,
         "type": "scatter",
         "x": [
          "2024-06-01T00:00:00.000000000",
          "2024-07-01T00:00:00.000000000",
          "2024-08-01T00:00:00.000000000",
          "2024-09-01T00:00:00.000000000",
          "2024-10-01T00:00:00.000000000",
          "2024-11-01T00:00:00.000000000",
          "2024-12-01T00:00:00.000000000",
          "2025-01-01T00:00:00.000000000",
          "2025-02-01T00:00:00.000000000",
          "2025-03-01T00:00:00.000000000",
          "2025-04-01T00:00:00.000000000",
          "2025-05-01T00:00:00.000000000",
          "2025-06-01T00:00:00.000000000"
         ],
         "xaxis": "x",
         "y": {
          "bdata": "AAAAAAAAMECttdZaa60wQN9777333jBAq6qqqqqqLkBTSimllFIuQJqZmZmZmStA33vvvffeIUC21lprrbUiQJIkSZIkySJA77333nvvIUC8u7u7u7snQLbWWmuttSpAmpmZmZmZMEA=",
          "dtype": "f8"
         },
         "yaxis": "y"
        }
       ],
       "layout": {
        "annotations": [
         {
          "arrowhead": 2,
          "ax": 0,
          "ay": -30,
          "bgcolor": "white",
          "bordercolor": "gray",
          "borderpad": 4,
          "borderwidth": 1,
          "font": {
           "color": "black",
           "size": 12
          },
          "showarrow": true,
          "text": "Verão",
          "x": "2024-06-01T00:00:00",
          "y": 23.870967741935484
         },
         {
          "arrowhead": 2,
          "ax": 0,
          "ay": -30,
          "bgcolor": "white",
          "bordercolor": "gray",
          "borderpad": 4,
          "borderwidth": 1,
          "font": {
           "color": "black",
           "size": 12
          },
          "showarrow": true,
          "text": "Outono",
          "x": "2024-09-01T00:00:00",
          "y": 23.870967741935484
         },
         {
          "arrowhead": 2,
          "ax": 0,
          "ay": -30,
          "bgcolor": "white",
          "bordercolor": "gray",
          "borderpad": 4,
          "borderwidth": 1,
          "font": {
           "color": "black",
           "size": 12
          },
          "showarrow": true,
          "text": "Inverno",
          "x": "2024-12-01T00:00:00",
          "y": 23.870967741935484
         },
         {
          "arrowhead": 2,
          "ax": 0,
          "ay": -30,
          "bgcolor": "white",
          "bordercolor": "gray",
          "borderpad": 4,
          "borderwidth": 1,
          "font": {
           "color": "black",
           "size": 12
          },
          "showarrow": true,
          "text": "Primavera",
          "x": "2025-03-01T00:00:00",
          "y": 23.870967741935484
         }
        ],
        "legend": {
         "title": {
          "text": "variable"
         },
         "tracegroupgap": 0
        },
        "shapes": [
         {
          "line": {
           "color": "gray",
           "dash": "dash",
           "width": 2
          },
          "type": "line",
          "x0": "2024-06-01T00:00:00",
          "x1": "2024-06-01T00:00:00",
          "y0": 8.935483870967742,
          "y1": 23.870967741935484
         },
         {
          "line": {
           "color": "gray",
           "dash": "dash",
           "width": 2
          },
          "type": "line",
          "x0": "2024-09-01T00:00:00",
          "x1": "2024-09-01T00:00:00",
          "y0": 8.935483870967742,
          "y1": 23.870967741935484
         },
         {
          "line": {
           "color": "gray",
           "dash": "dash",
           "width": 2
          },
          "type": "line",
          "x0": "2024-12-01T00:00:00",
          "x1": "2024-12-01T00:00:00",
          "y0": 8.935483870967742,
          "y1": 23.870967741935484
         },
         {
          "line": {
           "color": "gray",
           "dash": "dash",
           "width": 2
          },
          "type": "line",
          "x0": "2025-03-01T00:00:00",
          "x1": "2025-03-01T00:00:00",
          "y0": 8.935483870967742,
          "y1": 23.870967741935484
         }
        ],
        "template": {
         "data": {
          "bar": [
           {
            "error_x": {
             "color": "#2a3f5f"
            },
            "error_y": {
             "color": "#2a3f5f"
            },
            "marker": {
             "line": {
              "color": "white",
              "width": 0.5
             },
             "pattern": {
              "fillmode": "overlay",
              "size": 10,
              "solidity": 0.2
             }
            },
            "type": "bar"
           }
          ],
          "barpolar": [
           {
            "marker": {
             "line": {
              "color": "white",
              "width": 0.5
             },
             "pattern": {
              "fillmode": "overlay",
              "size": 10,
              "solidity": 0.2
             }
            },
            "type": "barpolar"
           }
          ],
          "carpet": [
           {
            "aaxis": {
             "endlinecolor": "#2a3f5f",
             "gridcolor": "#C8D4E3",
             "linecolor": "#C8D4E3",
             "minorgridcolor": "#C8D4E3",
             "startlinecolor": "#2a3f5f"
            },
            "baxis": {
             "endlinecolor": "#2a3f5f",
             "gridcolor": "#C8D4E3",
             "linecolor": "#C8D4E3",
             "minorgridcolor": "#C8D4E3",
             "startlinecolor": "#2a3f5f"
            },
            "type": "carpet"
           }
          ],
          "choropleth": [
           {
            "colorbar": {
             "outlinewidth": 0,
             "ticks": ""
            },
            "type": "choropleth"
           }
          ],
          "contour": [
           {
            "colorbar": {
             "outlinewidth": 0,
             "ticks": ""
            },
            "colorscale": [
             [
              0,
              "#0d0887"
             ],
             [
              0.1111111111111111,
              "#46039f"
             ],
             [
              0.2222222222222222,
              "#7201a8"
             ],
             [
              0.3333333333333333,
              "#9c179e"
             ],
             [
              0.4444444444444444,
              "#bd3786"
             ],
             [
              0.5555555555555556,
              "#d8576b"
             ],
             [
              0.6666666666666666,
              "#ed7953"
             ],
             [
              0.7777777777777778,
              "#fb9f3a"
             ],
             [
              0.8888888888888888,
              "#fdca26"
             ],
             [
              1,
              "#f0f921"
             ]
            ],
            "type": "contour"
           }
          ],
          "contourcarpet": [
           {
            "colorbar": {
             "outlinewidth": 0,
             "ticks": ""
            },
            "type": "contourcarpet"
           }
          ],
          "heatmap": [
           {
            "colorbar": {
             "outlinewidth": 0,
             "ticks": ""
            },
            "colorscale": [
             [
              0,
              "#0d0887"
             ],
             [
              0.1111111111111111,
              "#46039f"
             ],
             [
              0.2222222222222222,
              "#7201a8"
             ],
             [
              0.3333333333333333,
              "#9c179e"
             ],
             [
              0.4444444444444444,
              "#bd3786"
             ],
             [
              0.5555555555555556,
              "#d8576b"
             ],
             [
              0.6666666666666666,
              "#ed7953"
             ],
             [
              0.7777777777777778,
              "#fb9f3a"
             ],
             [
              0.8888888888888888,
              "#fdca26"
             ],
             [
              1,
              "#f0f921"
             ]
            ],
            "type": "heatmap"
           }
          ],
          "histogram": [
           {
            "marker": {
             "pattern": {
              "fillmode": "overlay",
              "size": 10,
              "solidity": 0.2
             }
            },
            "type": "histogram"
           }
          ],
          "histogram2d": [
           {
            "colorbar": {
             "outlinewidth": 0,
             "ticks": ""
            },
            "colorscale": [
             [
              0,
              "#0d0887"
             ],
             [
              0.1111111111111111,
              "#46039f"
             ],
             [
              0.2222222222222222,
              "#7201a8"
             ],
             [
              0.3333333333333333,
              "#9c179e"
             ],
             [
              0.4444444444444444,
              "#bd3786"
             ],
             [
              0.5555555555555556,
              "#d8576b"
             ],
             [
              0.6666666666666666,
              "#ed7953"
             ],
             [
              0.7777777777777778,
              "#fb9f3a"
             ],
             [
              0.8888888888888888,
              "#fdca26"
             ],
             [
              1,
              "#f0f921"
             ]
            ],
            "type": "histogram2d"
           }
          ],
          "histogram2dcontour": [
           {
            "colorbar": {
             "outlinewidth": 0,
             "ticks": ""
            },
            "colorscale": [
             [
              0,
              "#0d0887"
             ],
             [
              0.1111111111111111,
              "#46039f"
             ],
             [
              0.2222222222222222,
              "#7201a8"
             ],
             [
              0.3333333333333333,
              "#9c179e"
             ],
             [
              0.4444444444444444,
              "#bd3786"
             ],
             [
              0.5555555555555556,
              "#d8576b"
             ],
             [
              0.6666666666666666,
              "#ed7953"
             ],
             [
              0.7777777777777778,
              "#fb9f3a"
             ],
             [
              0.8888888888888888,
              "#fdca26"
             ],
             [
              1,
              "#f0f921"
             ]
            ],
            "type": "histogram2dcontour"
           }
          ],
          "mesh3d": [
           {
            "colorbar": {
             "outlinewidth": 0,
             "ticks": ""
            },
            "type": "mesh3d"
           }
          ],
          "parcoords": [
           {
            "line": {
             "colorbar": {
              "outlinewidth": 0,
              "ticks": ""
             }
            },
            "type": "parcoords"
           }
          ],
          "pie": [
           {
            "automargin": true,
            "type": "pie"
           }
          ],
          "scatter": [
           {
            "fillpattern": {
             "fillmode": "overlay",
             "size": 10,
             "solidity": 0.2
            },
            "type": "scatter"
           }
          ],
          "scatter3d": [
           {
            "line": {
             "colorbar": {
              "outlinewidth": 0,
              "ticks": ""
             }
            },
            "marker": {
             "colorbar": {
              "outlinewidth": 0,
              "ticks": ""
             }
            },
            "type": "scatter3d"
           }
          ],
          "scattercarpet": [
           {
            "marker": {
             "colorbar": {
              "outlinewidth": 0,
              "ticks": ""
             }
            },
            "type": "scattercarpet"
           }
          ],
          "scattergeo": [
           {
            "marker": {
             "colorbar": {
              "outlinewidth": 0,
              "ticks": ""
             }
            },
            "type": "scattergeo"
           }
          ],
          "scattergl": [
           {
            "marker": {
             "colorbar": {
              "outlinewidth": 0,
              "ticks": ""
             }
            },
            "type": "scattergl"
           }
          ],
          "scattermap": [
           {
            "marker": {
             "colorbar": {
              "outlinewidth": 0,
              "ticks": ""
             }
            },
            "type": "scattermap"
           }
          ],
          "scattermapbox": [
           {
            "marker": {
             "colorbar": {
              "outlinewidth": 0,
              "ticks": ""
             }
            },
            "type": "scattermapbox"
           }
          ],
          "scatterpolar": [
           {
            "marker": {
             "colorbar": {
              "outlinewidth": 0,
              "ticks": ""
             }
            },
            "type": "scatterpolar"
           }
          ],
          "scatterpolargl": [
           {
            "marker": {
             "colorbar": {
              "outlinewidth": 0,
              "ticks": ""
             }
            },
            "type": "scatterpolargl"
           }
          ],
          "scatterternary": [
           {
            "marker": {
             "colorbar": {
              "outlinewidth": 0,
              "ticks": ""
             }
            },
            "type": "scatterternary"
           }
          ],
          "surface": [
           {
            "colorbar": {
             "outlinewidth": 0,
             "ticks": ""
            },
            "colorscale": [
             [
              0,
              "#0d0887"
             ],
             [
              0.1111111111111111,
              "#46039f"
             ],
             [
              0.2222222222222222,
              "#7201a8"
             ],
             [
              0.3333333333333333,
              "#9c179e"
             ],
             [
              0.4444444444444444,
              "#bd3786"
             ],
             [
              0.5555555555555556,
              "#d8576b"
             ],
             [
              0.6666666666666666,
              "#ed7953"
             ],
             [
              0.7777777777777778,
              "#fb9f3a"
             ],
             [
              0.8888888888888888,
              "#fdca26"
             ],
             [
              1,
              "#f0f921"
             ]
            ],
            "type": "surface"
           }
          ],
          "table": [
           {
            "cells": {
             "fill": {
              "color": "#EBF0F8"
             },
             "line": {
              "color": "white"
             }
            },
            "header": {
             "fill": {
              "color": "#C8D4E3"
             },
             "line": {
              "color": "white"
             }
            },
            "type": "table"
           }
          ]
         },
         "layout": {
          "annotationdefaults": {
           "arrowcolor": "#2a3f5f",
           "arrowhead": 0,
           "arrowwidth": 1
          },
          "autotypenumbers": "strict",
          "coloraxis": {
           "colorbar": {
            "outlinewidth": 0,
            "ticks": ""
           }
          },
          "colorscale": {
           "diverging": [
            [
             0,
             "#8e0152"
            ],
            [
             0.1,
             "#c51b7d"
            ],
            [
             0.2,
             "#de77ae"
            ],
            [
             0.3,
             "#f1b6da"
            ],
            [
             0.4,
             "#fde0ef"
            ],
            [
             0.5,
             "#f7f7f7"
            ],
            [
             0.6,
             "#e6f5d0"
            ],
            [
             0.7,
             "#b8e186"
            ],
            [
             0.8,
             "#7fbc41"
            ],
            [
             0.9,
             "#4d9221"
            ],
            [
             1,
             "#276419"
            ]
           ],
           "sequential": [
            [
             0,
             "#0d0887"
            ],
            [
             0.1111111111111111,
             "#46039f"
            ],
            [
             0.2222222222222222,
             "#7201a8"
            ],
            [
             0.3333333333333333,
             "#9c179e"
            ],
            [
             0.4444444444444444,
             "#bd3786"
            ],
            [
             0.5555555555555556,
             "#d8576b"
            ],
            [
             0.6666666666666666,
             "#ed7953"
            ],
            [
             0.7777777777777778,
             "#fb9f3a"
            ],
            [
             0.8888888888888888,
             "#fdca26"
            ],
            [
             1,
             "#f0f921"
            ]
           ],
           "sequentialminus": [
            [
             0,
             "#0d0887"
            ],
            [
             0.1111111111111111,
             "#46039f"
            ],
            [
             0.2222222222222222,
             "#7201a8"
            ],
            [
             0.3333333333333333,
             "#9c179e"
            ],
            [
             0.4444444444444444,
             "#bd3786"
            ],
            [
             0.5555555555555556,
             "#d8576b"
            ],
            [
             0.6666666666666666,
             "#ed7953"
            ],
            [
             0.7777777777777778,
             "#fb9f3a"
            ],
            [
             0.8888888888888888,
             "#fdca26"
            ],
            [
             1,
             "#f0f921"
            ]
           ]
          },
          "colorway": [
           "#636efa",
           "#EF553B",
           "#00cc96",
           "#ab63fa",
           "#FFA15A",
           "#19d3f3",
           "#FF6692",
           "#B6E880",
           "#FF97FF",
           "#FECB52"
          ],
          "font": {
           "color": "#2a3f5f"
          },
          "geo": {
           "bgcolor": "white",
           "lakecolor": "white",
           "landcolor": "white",
           "showlakes": true,
           "showland": true,
           "subunitcolor": "#C8D4E3"
          },
          "hoverlabel": {
           "align": "left"
          },
          "hovermode": "closest",
          "mapbox": {
           "style": "light"
          },
          "paper_bgcolor": "white",
          "plot_bgcolor": "white",
          "polar": {
           "angularaxis": {
            "gridcolor": "#EBF0F8",
            "linecolor": "#EBF0F8",
            "ticks": ""
           },
           "bgcolor": "white",
           "radialaxis": {
            "gridcolor": "#EBF0F8",
            "linecolor": "#EBF0F8",
            "ticks": ""
           }
          },
          "scene": {
           "xaxis": {
            "backgroundcolor": "white",
            "gridcolor": "#DFE8F3",
            "gridwidth": 2,
            "linecolor": "#EBF0F8",
            "showbackground": true,
            "ticks": "",
            "zerolinecolor": "#EBF0F8"
           },
           "yaxis": {
            "backgroundcolor": "white",
            "gridcolor": "#DFE8F3",
            "gridwidth": 2,
            "linecolor": "#EBF0F8",
            "showbackground": true,
            "ticks": "",
            "zerolinecolor": "#EBF0F8"
           },
           "zaxis": {
            "backgroundcolor": "white",
            "gridcolor": "#DFE8F3",
            "gridwidth": 2,
            "linecolor": "#EBF0F8",
            "showbackground": true,
            "ticks": "",
            "zerolinecolor": "#EBF0F8"
           }
          },
          "shapedefaults": {
           "line": {
            "color": "#2a3f5f"
           }
          },
          "ternary": {
           "aaxis": {
            "gridcolor": "#DFE8F3",
            "linecolor": "#A2B1C6",
            "ticks": ""
           },
           "baxis": {
            "gridcolor": "#DFE8F3",
            "linecolor": "#A2B1C6",
            "ticks": ""
           },
           "bgcolor": "white",
           "caxis": {
            "gridcolor": "#DFE8F3",
            "linecolor": "#A2B1C6",
            "ticks": ""
           }
          },
          "title": {
           "x": 0.05
          },
          "xaxis": {
           "automargin": true,
           "gridcolor": "#EBF0F8",
           "linecolor": "#EBF0F8",
           "ticks": "",
           "title": {
            "standoff": 15
           },
           "zerolinecolor": "#EBF0F8",
           "zerolinewidth": 2
          },
          "yaxis": {
           "automargin": true,
           "gridcolor": "#EBF0F8",
           "linecolor": "#EBF0F8",
           "ticks": "",
           "title": {
            "standoff": 15
           },
           "zerolinecolor": "#EBF0F8",
           "zerolinewidth": 2
          }
         }
        },
        "title": {
         "text": "Temperaturas Mensais - Porto",
         "x": 0.5,
         "xanchor": "center"
        },
        "xaxis": {
         "anchor": "y",
         "domain": [
          0,
          1
         ],
         "tickangle": 45,
         "title": {
          "text": "Ano-Mês"
         }
        },
        "yaxis": {
         "anchor": "x",
         "domain": [
          0,
          1
         ],
         "title": {
          "text": "Temperatura (°C)"
         }
        }
       }
      }
     },
     "metadata": {},
     "output_type": "display_data"
    },
    {
     "data": {
      "application/vnd.plotly.v1+json": {
       "config": {
        "plotlyServerURL": "https://plot.ly"
       },
       "data": [
        {
         "hovertemplate": "variable=media_maxtemp<br>Ano-Mês=%{x}<br>Temperatura (°C)=%{y}<extra></extra>",
         "legendgroup": "media_maxtemp",
         "line": {
          "color": "red",
          "dash": "solid"
         },
         "marker": {
          "symbol": "circle"
         },
         "mode": "lines+markers",
         "name": "MaxTemp (mean)",
         "orientation": "v",
         "showlegend": true,
         "type": "scatter",
         "x": [
          "2024-06-01T00:00:00.000000000",
          "2024-07-01T00:00:00.000000000",
          "2024-08-01T00:00:00.000000000",
          "2024-09-01T00:00:00.000000000",
          "2024-10-01T00:00:00.000000000",
          "2024-11-01T00:00:00.000000000",
          "2024-12-01T00:00:00.000000000",
          "2025-01-01T00:00:00.000000000",
          "2025-02-01T00:00:00.000000000",
          "2025-03-01T00:00:00.000000000",
          "2025-04-01T00:00:00.000000000",
          "2025-05-01T00:00:00.000000000",
          "2025-06-01T00:00:00.000000000"
         ],
         "xaxis": "x",
         "y": {
          "bdata": "AAAAAAAAN0DOOeecc847QO+999577ztAiYiIiIgIOUAyxhhjjDE2QLy7u7u7uzNA77333nvvL0D43nvvvfcuQNu2bdu2bS9ASimllFJKL0CamZmZmRkzQCGEEEIIITZARERERETEOkA=",
          "dtype": "f8"
         },
         "yaxis": "y"
        },
        {
         "hovertemplate": "variable=media_mintemp<br>Ano-Mês=%{x}<br>Temperatura (°C)=%{y}<extra></extra>",
         "legendgroup": "media_mintemp",
         "line": {
          "color": "blue",
          "dash": "solid"
         },
         "marker": {
          "symbol": "circle"
         },
         "mode": "lines+markers",
         "name": "MinTemp (mean)",
         "orientation": "v",
         "showlegend": true,
         "type": "scatter",
         "x": [
          "2024-06-01T00:00:00.000000000",
          "2024-07-01T00:00:00.000000000",
          "2024-08-01T00:00:00.000000000",
          "2024-09-01T00:00:00.000000000",
          "2024-10-01T00:00:00.000000000",
          "2024-11-01T00:00:00.000000000",
          "2024-12-01T00:00:00.000000000",
          "2025-01-01T00:00:00.000000000",
          "2025-02-01T00:00:00.000000000",
          "2025-03-01T00:00:00.000000000",
          "2025-04-01T00:00:00.000000000",
          "2025-05-01T00:00:00.000000000",
          "2025-06-01T00:00:00.000000000"
         ],
         "xaxis": "x",
         "y": {
          "bdata": "AAAAAAAAMUCdc84555wxQCGEEEIIITJAAAAAAAAAMUCdc84555wwQM3MzMzMzCtAa6211lprI0D43nvvvfckQNu2bdu2bSRAdM4555xzJEDe3d3d3d0oQCGEEEIIISxAzczMzMxMMUA=",
          "dtype": "f8"
         },
         "yaxis": "y"
        }
       ],
       "layout": {
        "annotations": [
         {
          "arrowhead": 2,
          "ax": 0,
          "ay": -30,
          "bgcolor": "white",
          "bordercolor": "gray",
          "borderpad": 4,
          "borderwidth": 1,
          "font": {
           "color": "black",
           "size": 12
          },
          "showarrow": true,
          "text": "Verão",
          "x": "2024-06-01T00:00:00",
          "y": 27.93548387096774
         },
         {
          "arrowhead": 2,
          "ax": 0,
          "ay": -30,
          "bgcolor": "white",
          "bordercolor": "gray",
          "borderpad": 4,
          "borderwidth": 1,
          "font": {
           "color": "black",
           "size": 12
          },
          "showarrow": true,
          "text": "Outono",
          "x": "2024-09-01T00:00:00",
          "y": 27.93548387096774
         },
         {
          "arrowhead": 2,
          "ax": 0,
          "ay": -30,
          "bgcolor": "white",
          "bordercolor": "gray",
          "borderpad": 4,
          "borderwidth": 1,
          "font": {
           "color": "black",
           "size": 12
          },
          "showarrow": true,
          "text": "Inverno",
          "x": "2024-12-01T00:00:00",
          "y": 27.93548387096774
         },
         {
          "arrowhead": 2,
          "ax": 0,
          "ay": -30,
          "bgcolor": "white",
          "bordercolor": "gray",
          "borderpad": 4,
          "borderwidth": 1,
          "font": {
           "color": "black",
           "size": 12
          },
          "showarrow": true,
          "text": "Primavera",
          "x": "2025-03-01T00:00:00",
          "y": 27.93548387096774
         }
        ],
        "legend": {
         "title": {
          "text": "variable"
         },
         "tracegroupgap": 0
        },
        "shapes": [
         {
          "line": {
           "color": "gray",
           "dash": "dash",
           "width": 2
          },
          "type": "line",
          "x0": "2024-06-01T00:00:00",
          "x1": "2024-06-01T00:00:00",
          "y0": 9.709677419354838,
          "y1": 27.93548387096774
         },
         {
          "line": {
           "color": "gray",
           "dash": "dash",
           "width": 2
          },
          "type": "line",
          "x0": "2024-09-01T00:00:00",
          "x1": "2024-09-01T00:00:00",
          "y0": 9.709677419354838,
          "y1": 27.93548387096774
         },
         {
          "line": {
           "color": "gray",
           "dash": "dash",
           "width": 2
          },
          "type": "line",
          "x0": "2024-12-01T00:00:00",
          "x1": "2024-12-01T00:00:00",
          "y0": 9.709677419354838,
          "y1": 27.93548387096774
         },
         {
          "line": {
           "color": "gray",
           "dash": "dash",
           "width": 2
          },
          "type": "line",
          "x0": "2025-03-01T00:00:00",
          "x1": "2025-03-01T00:00:00",
          "y0": 9.709677419354838,
          "y1": 27.93548387096774
         }
        ],
        "template": {
         "data": {
          "bar": [
           {
            "error_x": {
             "color": "#2a3f5f"
            },
            "error_y": {
             "color": "#2a3f5f"
            },
            "marker": {
             "line": {
              "color": "white",
              "width": 0.5
             },
             "pattern": {
              "fillmode": "overlay",
              "size": 10,
              "solidity": 0.2
             }
            },
            "type": "bar"
           }
          ],
          "barpolar": [
           {
            "marker": {
             "line": {
              "color": "white",
              "width": 0.5
             },
             "pattern": {
              "fillmode": "overlay",
              "size": 10,
              "solidity": 0.2
             }
            },
            "type": "barpolar"
           }
          ],
          "carpet": [
           {
            "aaxis": {
             "endlinecolor": "#2a3f5f",
             "gridcolor": "#C8D4E3",
             "linecolor": "#C8D4E3",
             "minorgridcolor": "#C8D4E3",
             "startlinecolor": "#2a3f5f"
            },
            "baxis": {
             "endlinecolor": "#2a3f5f",
             "gridcolor": "#C8D4E3",
             "linecolor": "#C8D4E3",
             "minorgridcolor": "#C8D4E3",
             "startlinecolor": "#2a3f5f"
            },
            "type": "carpet"
           }
          ],
          "choropleth": [
           {
            "colorbar": {
             "outlinewidth": 0,
             "ticks": ""
            },
            "type": "choropleth"
           }
          ],
          "contour": [
           {
            "colorbar": {
             "outlinewidth": 0,
             "ticks": ""
            },
            "colorscale": [
             [
              0,
              "#0d0887"
             ],
             [
              0.1111111111111111,
              "#46039f"
             ],
             [
              0.2222222222222222,
              "#7201a8"
             ],
             [
              0.3333333333333333,
              "#9c179e"
             ],
             [
              0.4444444444444444,
              "#bd3786"
             ],
             [
              0.5555555555555556,
              "#d8576b"
             ],
             [
              0.6666666666666666,
              "#ed7953"
             ],
             [
              0.7777777777777778,
              "#fb9f3a"
             ],
             [
              0.8888888888888888,
              "#fdca26"
             ],
             [
              1,
              "#f0f921"
             ]
            ],
            "type": "contour"
           }
          ],
          "contourcarpet": [
           {
            "colorbar": {
             "outlinewidth": 0,
             "ticks": ""
            },
            "type": "contourcarpet"
           }
          ],
          "heatmap": [
           {
            "colorbar": {
             "outlinewidth": 0,
             "ticks": ""
            },
            "colorscale": [
             [
              0,
              "#0d0887"
             ],
             [
              0.1111111111111111,
              "#46039f"
             ],
             [
              0.2222222222222222,
              "#7201a8"
             ],
             [
              0.3333333333333333,
              "#9c179e"
             ],
             [
              0.4444444444444444,
              "#bd3786"
             ],
             [
              0.5555555555555556,
              "#d8576b"
             ],
             [
              0.6666666666666666,
              "#ed7953"
             ],
             [
              0.7777777777777778,
              "#fb9f3a"
             ],
             [
              0.8888888888888888,
              "#fdca26"
             ],
             [
              1,
              "#f0f921"
             ]
            ],
            "type": "heatmap"
           }
          ],
          "histogram": [
           {
            "marker": {
             "pattern": {
              "fillmode": "overlay",
              "size": 10,
              "solidity": 0.2
             }
            },
            "type": "histogram"
           }
          ],
          "histogram2d": [
           {
            "colorbar": {
             "outlinewidth": 0,
             "ticks": ""
            },
            "colorscale": [
             [
              0,
              "#0d0887"
             ],
             [
              0.1111111111111111,
              "#46039f"
             ],
             [
              0.2222222222222222,
              "#7201a8"
             ],
             [
              0.3333333333333333,
              "#9c179e"
             ],
             [
              0.4444444444444444,
              "#bd3786"
             ],
             [
              0.5555555555555556,
              "#d8576b"
             ],
             [
              0.6666666666666666,
              "#ed7953"
             ],
             [
              0.7777777777777778,
              "#fb9f3a"
             ],
             [
              0.8888888888888888,
              "#fdca26"
             ],
             [
              1,
              "#f0f921"
             ]
            ],
            "type": "histogram2d"
           }
          ],
          "histogram2dcontour": [
           {
            "colorbar": {
             "outlinewidth": 0,
             "ticks": ""
            },
            "colorscale": [
             [
              0,
              "#0d0887"
             ],
             [
              0.1111111111111111,
              "#46039f"
             ],
             [
              0.2222222222222222,
              "#7201a8"
             ],
             [
              0.3333333333333333,
              "#9c179e"
             ],
             [
              0.4444444444444444,
              "#bd3786"
             ],
             [
              0.5555555555555556,
              "#d8576b"
             ],
             [
              0.6666666666666666,
              "#ed7953"
             ],
             [
              0.7777777777777778,
              "#fb9f3a"
             ],
             [
              0.8888888888888888,
              "#fdca26"
             ],
             [
              1,
              "#f0f921"
             ]
            ],
            "type": "histogram2dcontour"
           }
          ],
          "mesh3d": [
           {
            "colorbar": {
             "outlinewidth": 0,
             "ticks": ""
            },
            "type": "mesh3d"
           }
          ],
          "parcoords": [
           {
            "line": {
             "colorbar": {
              "outlinewidth": 0,
              "ticks": ""
             }
            },
            "type": "parcoords"
           }
          ],
          "pie": [
           {
            "automargin": true,
            "type": "pie"
           }
          ],
          "scatter": [
           {
            "fillpattern": {
             "fillmode": "overlay",
             "size": 10,
             "solidity": 0.2
            },
            "type": "scatter"
           }
          ],
          "scatter3d": [
           {
            "line": {
             "colorbar": {
              "outlinewidth": 0,
              "ticks": ""
             }
            },
            "marker": {
             "colorbar": {
              "outlinewidth": 0,
              "ticks": ""
             }
            },
            "type": "scatter3d"
           }
          ],
          "scattercarpet": [
           {
            "marker": {
             "colorbar": {
              "outlinewidth": 0,
              "ticks": ""
             }
            },
            "type": "scattercarpet"
           }
          ],
          "scattergeo": [
           {
            "marker": {
             "colorbar": {
              "outlinewidth": 0,
              "ticks": ""
             }
            },
            "type": "scattergeo"
           }
          ],
          "scattergl": [
           {
            "marker": {
             "colorbar": {
              "outlinewidth": 0,
              "ticks": ""
             }
            },
            "type": "scattergl"
           }
          ],
          "scattermap": [
           {
            "marker": {
             "colorbar": {
              "outlinewidth": 0,
              "ticks": ""
             }
            },
            "type": "scattermap"
           }
          ],
          "scattermapbox": [
           {
            "marker": {
             "colorbar": {
              "outlinewidth": 0,
              "ticks": ""
             }
            },
            "type": "scattermapbox"
           }
          ],
          "scatterpolar": [
           {
            "marker": {
             "colorbar": {
              "outlinewidth": 0,
              "ticks": ""
             }
            },
            "type": "scatterpolar"
           }
          ],
          "scatterpolargl": [
           {
            "marker": {
             "colorbar": {
              "outlinewidth": 0,
              "ticks": ""
             }
            },
            "type": "scatterpolargl"
           }
          ],
          "scatterternary": [
           {
            "marker": {
             "colorbar": {
              "outlinewidth": 0,
              "ticks": ""
             }
            },
            "type": "scatterternary"
           }
          ],
          "surface": [
           {
            "colorbar": {
             "outlinewidth": 0,
             "ticks": ""
            },
            "colorscale": [
             [
              0,
              "#0d0887"
             ],
             [
              0.1111111111111111,
              "#46039f"
             ],
             [
              0.2222222222222222,
              "#7201a8"
             ],
             [
              0.3333333333333333,
              "#9c179e"
             ],
             [
              0.4444444444444444,
              "#bd3786"
             ],
             [
              0.5555555555555556,
              "#d8576b"
             ],
             [
              0.6666666666666666,
              "#ed7953"
             ],
             [
              0.7777777777777778,
              "#fb9f3a"
             ],
             [
              0.8888888888888888,
              "#fdca26"
             ],
             [
              1,
              "#f0f921"
             ]
            ],
            "type": "surface"
           }
          ],
          "table": [
           {
            "cells": {
             "fill": {
              "color": "#EBF0F8"
             },
             "line": {
              "color": "white"
             }
            },
            "header": {
             "fill": {
              "color": "#C8D4E3"
             },
             "line": {
              "color": "white"
             }
            },
            "type": "table"
           }
          ]
         },
         "layout": {
          "annotationdefaults": {
           "arrowcolor": "#2a3f5f",
           "arrowhead": 0,
           "arrowwidth": 1
          },
          "autotypenumbers": "strict",
          "coloraxis": {
           "colorbar": {
            "outlinewidth": 0,
            "ticks": ""
           }
          },
          "colorscale": {
           "diverging": [
            [
             0,
             "#8e0152"
            ],
            [
             0.1,
             "#c51b7d"
            ],
            [
             0.2,
             "#de77ae"
            ],
            [
             0.3,
             "#f1b6da"
            ],
            [
             0.4,
             "#fde0ef"
            ],
            [
             0.5,
             "#f7f7f7"
            ],
            [
             0.6,
             "#e6f5d0"
            ],
            [
             0.7,
             "#b8e186"
            ],
            [
             0.8,
             "#7fbc41"
            ],
            [
             0.9,
             "#4d9221"
            ],
            [
             1,
             "#276419"
            ]
           ],
           "sequential": [
            [
             0,
             "#0d0887"
            ],
            [
             0.1111111111111111,
             "#46039f"
            ],
            [
             0.2222222222222222,
             "#7201a8"
            ],
            [
             0.3333333333333333,
             "#9c179e"
            ],
            [
             0.4444444444444444,
             "#bd3786"
            ],
            [
             0.5555555555555556,
             "#d8576b"
            ],
            [
             0.6666666666666666,
             "#ed7953"
            ],
            [
             0.7777777777777778,
             "#fb9f3a"
            ],
            [
             0.8888888888888888,
             "#fdca26"
            ],
            [
             1,
             "#f0f921"
            ]
           ],
           "sequentialminus": [
            [
             0,
             "#0d0887"
            ],
            [
             0.1111111111111111,
             "#46039f"
            ],
            [
             0.2222222222222222,
             "#7201a8"
            ],
            [
             0.3333333333333333,
             "#9c179e"
            ],
            [
             0.4444444444444444,
             "#bd3786"
            ],
            [
             0.5555555555555556,
             "#d8576b"
            ],
            [
             0.6666666666666666,
             "#ed7953"
            ],
            [
             0.7777777777777778,
             "#fb9f3a"
            ],
            [
             0.8888888888888888,
             "#fdca26"
            ],
            [
             1,
             "#f0f921"
            ]
           ]
          },
          "colorway": [
           "#636efa",
           "#EF553B",
           "#00cc96",
           "#ab63fa",
           "#FFA15A",
           "#19d3f3",
           "#FF6692",
           "#B6E880",
           "#FF97FF",
           "#FECB52"
          ],
          "font": {
           "color": "#2a3f5f"
          },
          "geo": {
           "bgcolor": "white",
           "lakecolor": "white",
           "landcolor": "white",
           "showlakes": true,
           "showland": true,
           "subunitcolor": "#C8D4E3"
          },
          "hoverlabel": {
           "align": "left"
          },
          "hovermode": "closest",
          "mapbox": {
           "style": "light"
          },
          "paper_bgcolor": "white",
          "plot_bgcolor": "white",
          "polar": {
           "angularaxis": {
            "gridcolor": "#EBF0F8",
            "linecolor": "#EBF0F8",
            "ticks": ""
           },
           "bgcolor": "white",
           "radialaxis": {
            "gridcolor": "#EBF0F8",
            "linecolor": "#EBF0F8",
            "ticks": ""
           }
          },
          "scene": {
           "xaxis": {
            "backgroundcolor": "white",
            "gridcolor": "#DFE8F3",
            "gridwidth": 2,
            "linecolor": "#EBF0F8",
            "showbackground": true,
            "ticks": "",
            "zerolinecolor": "#EBF0F8"
           },
           "yaxis": {
            "backgroundcolor": "white",
            "gridcolor": "#DFE8F3",
            "gridwidth": 2,
            "linecolor": "#EBF0F8",
            "showbackground": true,
            "ticks": "",
            "zerolinecolor": "#EBF0F8"
           },
           "zaxis": {
            "backgroundcolor": "white",
            "gridcolor": "#DFE8F3",
            "gridwidth": 2,
            "linecolor": "#EBF0F8",
            "showbackground": true,
            "ticks": "",
            "zerolinecolor": "#EBF0F8"
           }
          },
          "shapedefaults": {
           "line": {
            "color": "#2a3f5f"
           }
          },
          "ternary": {
           "aaxis": {
            "gridcolor": "#DFE8F3",
            "linecolor": "#A2B1C6",
            "ticks": ""
           },
           "baxis": {
            "gridcolor": "#DFE8F3",
            "linecolor": "#A2B1C6",
            "ticks": ""
           },
           "bgcolor": "white",
           "caxis": {
            "gridcolor": "#DFE8F3",
            "linecolor": "#A2B1C6",
            "ticks": ""
           }
          },
          "title": {
           "x": 0.05
          },
          "xaxis": {
           "automargin": true,
           "gridcolor": "#EBF0F8",
           "linecolor": "#EBF0F8",
           "ticks": "",
           "title": {
            "standoff": 15
           },
           "zerolinecolor": "#EBF0F8",
           "zerolinewidth": 2
          },
          "yaxis": {
           "automargin": true,
           "gridcolor": "#EBF0F8",
           "linecolor": "#EBF0F8",
           "ticks": "",
           "title": {
            "standoff": 15
           },
           "zerolinecolor": "#EBF0F8",
           "zerolinewidth": 2
          }
         }
        },
        "title": {
         "text": "Temperaturas Mensais - Lisboa",
         "x": 0.5,
         "xanchor": "center"
        },
        "xaxis": {
         "anchor": "y",
         "domain": [
          0,
          1
         ],
         "tickangle": 45,
         "title": {
          "text": "Ano-Mês"
         }
        },
        "yaxis": {
         "anchor": "x",
         "domain": [
          0,
          1
         ],
         "title": {
          "text": "Temperatura (°C)"
         }
        }
       }
      }
     },
     "metadata": {},
     "output_type": "display_data"
    },
    {
     "data": {
      "application/vnd.plotly.v1+json": {
       "config": {
        "plotlyServerURL": "https://plot.ly"
       },
       "data": [
        {
         "hovertemplate": "variable=media_maxtemp<br>Ano-Mês=%{x}<br>Temperatura (°C)=%{y}<extra></extra>",
         "legendgroup": "media_maxtemp",
         "line": {
          "color": "red",
          "dash": "solid"
         },
         "marker": {
          "symbol": "circle"
         },
         "mode": "lines+markers",
         "name": "MaxTemp (mean)",
         "orientation": "v",
         "showlegend": true,
         "type": "scatter",
         "x": [
          "2024-06-01T00:00:00.000000000",
          "2024-07-01T00:00:00.000000000",
          "2024-08-01T00:00:00.000000000",
          "2024-09-01T00:00:00.000000000",
          "2024-10-01T00:00:00.000000000",
          "2024-11-01T00:00:00.000000000",
          "2024-12-01T00:00:00.000000000",
          "2025-01-01T00:00:00.000000000",
          "2025-02-01T00:00:00.000000000",
          "2025-03-01T00:00:00.000000000",
          "2025-04-01T00:00:00.000000000",
          "2025-05-01T00:00:00.000000000",
          "2025-06-01T00:00:00.000000000"
         ],
         "xaxis": "x",
         "y": {
          "bdata": "AAAAAAAANkC+99577708QJVSSimllD5A3t3d3d3dOEDfe++9994zQCIiIiIiojJAY4wxxhhjLEBCCCGEEEIqQJIkSZIkySxAttZaa621LkC8u7u7u7syQFtrrbXWWjZA3t3d3d3dPEA=",
          "dtype": "f8"
         },
         "yaxis": "y"
        },
        {
         "hovertemplate": "variable=media_mintemp<br>Ano-Mês=%{x}<br>Temperatura (°C)=%{y}<extra></extra>",
         "legendgroup": "media_mintemp",
         "line": {
          "color": "blue",
          "dash": "solid"
         },
         "marker": {
          "symbol": "circle"
         },
         "mode": "lines+markers",
         "name": "MinTemp (mean)",
         "orientation": "v",
         "showlegend": true,
         "type": "scatter",
         "x": [
          "2024-06-01T00:00:00.000000000",
          "2024-07-01T00:00:00.000000000",
          "2024-08-01T00:00:00.000000000",
          "2024-09-01T00:00:00.000000000",
          "2024-10-01T00:00:00.000000000",
          "2024-11-01T00:00:00.000000000",
          "2024-12-01T00:00:00.000000000",
          "2025-01-01T00:00:00.000000000",
          "2025-02-01T00:00:00.000000000",
          "2025-03-01T00:00:00.000000000",
          "2025-04-01T00:00:00.000000000",
          "2025-05-01T00:00:00.000000000",
          "2025-06-01T00:00:00.000000000"
         ],
         "xaxis": "x",
         "y": {
          "bdata": "AAAAAAAALEBba6211lovQM4555xzzi9AzczMzMzMKUCMMcYYY4wpQAAAAAAAACZAlVJKKaWUFkDXWmuttdYaQEmSJEmSJBlAIYQQQgghGECamZmZmZkhQEoppZRSSiVAMzMzMzMzLUA=",
          "dtype": "f8"
         },
         "yaxis": "y"
        }
       ],
       "layout": {
        "annotations": [
         {
          "arrowhead": 2,
          "ax": 0,
          "ay": -30,
          "bgcolor": "white",
          "bordercolor": "gray",
          "borderpad": 4,
          "borderwidth": 1,
          "font": {
           "color": "black",
           "size": 12
          },
          "showarrow": true,
          "text": "Verão",
          "x": "2024-06-01T00:00:00",
          "y": 30.580645161290324
         },
         {
          "arrowhead": 2,
          "ax": 0,
          "ay": -30,
          "bgcolor": "white",
          "bordercolor": "gray",
          "borderpad": 4,
          "borderwidth": 1,
          "font": {
           "color": "black",
           "size": 12
          },
          "showarrow": true,
          "text": "Outono",
          "x": "2024-09-01T00:00:00",
          "y": 30.580645161290324
         },
         {
          "arrowhead": 2,
          "ax": 0,
          "ay": -30,
          "bgcolor": "white",
          "bordercolor": "gray",
          "borderpad": 4,
          "borderwidth": 1,
          "font": {
           "color": "black",
           "size": 12
          },
          "showarrow": true,
          "text": "Inverno",
          "x": "2024-12-01T00:00:00",
          "y": 30.580645161290324
         },
         {
          "arrowhead": 2,
          "ax": 0,
          "ay": -30,
          "bgcolor": "white",
          "bordercolor": "gray",
          "borderpad": 4,
          "borderwidth": 1,
          "font": {
           "color": "black",
           "size": 12
          },
          "showarrow": true,
          "text": "Primavera",
          "x": "2025-03-01T00:00:00",
          "y": 30.580645161290324
         }
        ],
        "legend": {
         "title": {
          "text": "variable"
         },
         "tracegroupgap": 0
        },
        "shapes": [
         {
          "line": {
           "color": "gray",
           "dash": "dash",
           "width": 2
          },
          "type": "line",
          "x0": "2024-06-01T00:00:00",
          "x1": "2024-06-01T00:00:00",
          "y0": 5.645161290322581,
          "y1": 30.580645161290324
         },
         {
          "line": {
           "color": "gray",
           "dash": "dash",
           "width": 2
          },
          "type": "line",
          "x0": "2024-09-01T00:00:00",
          "x1": "2024-09-01T00:00:00",
          "y0": 5.645161290322581,
          "y1": 30.580645161290324
         },
         {
          "line": {
           "color": "gray",
           "dash": "dash",
           "width": 2
          },
          "type": "line",
          "x0": "2024-12-01T00:00:00",
          "x1": "2024-12-01T00:00:00",
          "y0": 5.645161290322581,
          "y1": 30.580645161290324
         },
         {
          "line": {
           "color": "gray",
           "dash": "dash",
           "width": 2
          },
          "type": "line",
          "x0": "2025-03-01T00:00:00",
          "x1": "2025-03-01T00:00:00",
          "y0": 5.645161290322581,
          "y1": 30.580645161290324
         }
        ],
        "template": {
         "data": {
          "bar": [
           {
            "error_x": {
             "color": "#2a3f5f"
            },
            "error_y": {
             "color": "#2a3f5f"
            },
            "marker": {
             "line": {
              "color": "white",
              "width": 0.5
             },
             "pattern": {
              "fillmode": "overlay",
              "size": 10,
              "solidity": 0.2
             }
            },
            "type": "bar"
           }
          ],
          "barpolar": [
           {
            "marker": {
             "line": {
              "color": "white",
              "width": 0.5
             },
             "pattern": {
              "fillmode": "overlay",
              "size": 10,
              "solidity": 0.2
             }
            },
            "type": "barpolar"
           }
          ],
          "carpet": [
           {
            "aaxis": {
             "endlinecolor": "#2a3f5f",
             "gridcolor": "#C8D4E3",
             "linecolor": "#C8D4E3",
             "minorgridcolor": "#C8D4E3",
             "startlinecolor": "#2a3f5f"
            },
            "baxis": {
             "endlinecolor": "#2a3f5f",
             "gridcolor": "#C8D4E3",
             "linecolor": "#C8D4E3",
             "minorgridcolor": "#C8D4E3",
             "startlinecolor": "#2a3f5f"
            },
            "type": "carpet"
           }
          ],
          "choropleth": [
           {
            "colorbar": {
             "outlinewidth": 0,
             "ticks": ""
            },
            "type": "choropleth"
           }
          ],
          "contour": [
           {
            "colorbar": {
             "outlinewidth": 0,
             "ticks": ""
            },
            "colorscale": [
             [
              0,
              "#0d0887"
             ],
             [
              0.1111111111111111,
              "#46039f"
             ],
             [
              0.2222222222222222,
              "#7201a8"
             ],
             [
              0.3333333333333333,
              "#9c179e"
             ],
             [
              0.4444444444444444,
              "#bd3786"
             ],
             [
              0.5555555555555556,
              "#d8576b"
             ],
             [
              0.6666666666666666,
              "#ed7953"
             ],
             [
              0.7777777777777778,
              "#fb9f3a"
             ],
             [
              0.8888888888888888,
              "#fdca26"
             ],
             [
              1,
              "#f0f921"
             ]
            ],
            "type": "contour"
           }
          ],
          "contourcarpet": [
           {
            "colorbar": {
             "outlinewidth": 0,
             "ticks": ""
            },
            "type": "contourcarpet"
           }
          ],
          "heatmap": [
           {
            "colorbar": {
             "outlinewidth": 0,
             "ticks": ""
            },
            "colorscale": [
             [
              0,
              "#0d0887"
             ],
             [
              0.1111111111111111,
              "#46039f"
             ],
             [
              0.2222222222222222,
              "#7201a8"
             ],
             [
              0.3333333333333333,
              "#9c179e"
             ],
             [
              0.4444444444444444,
              "#bd3786"
             ],
             [
              0.5555555555555556,
              "#d8576b"
             ],
             [
              0.6666666666666666,
              "#ed7953"
             ],
             [
              0.7777777777777778,
              "#fb9f3a"
             ],
             [
              0.8888888888888888,
              "#fdca26"
             ],
             [
              1,
              "#f0f921"
             ]
            ],
            "type": "heatmap"
           }
          ],
          "histogram": [
           {
            "marker": {
             "pattern": {
              "fillmode": "overlay",
              "size": 10,
              "solidity": 0.2
             }
            },
            "type": "histogram"
           }
          ],
          "histogram2d": [
           {
            "colorbar": {
             "outlinewidth": 0,
             "ticks": ""
            },
            "colorscale": [
             [
              0,
              "#0d0887"
             ],
             [
              0.1111111111111111,
              "#46039f"
             ],
             [
              0.2222222222222222,
              "#7201a8"
             ],
             [
              0.3333333333333333,
              "#9c179e"
             ],
             [
              0.4444444444444444,
              "#bd3786"
             ],
             [
              0.5555555555555556,
              "#d8576b"
             ],
             [
              0.6666666666666666,
              "#ed7953"
             ],
             [
              0.7777777777777778,
              "#fb9f3a"
             ],
             [
              0.8888888888888888,
              "#fdca26"
             ],
             [
              1,
              "#f0f921"
             ]
            ],
            "type": "histogram2d"
           }
          ],
          "histogram2dcontour": [
           {
            "colorbar": {
             "outlinewidth": 0,
             "ticks": ""
            },
            "colorscale": [
             [
              0,
              "#0d0887"
             ],
             [
              0.1111111111111111,
              "#46039f"
             ],
             [
              0.2222222222222222,
              "#7201a8"
             ],
             [
              0.3333333333333333,
              "#9c179e"
             ],
             [
              0.4444444444444444,
              "#bd3786"
             ],
             [
              0.5555555555555556,
              "#d8576b"
             ],
             [
              0.6666666666666666,
              "#ed7953"
             ],
             [
              0.7777777777777778,
              "#fb9f3a"
             ],
             [
              0.8888888888888888,
              "#fdca26"
             ],
             [
              1,
              "#f0f921"
             ]
            ],
            "type": "histogram2dcontour"
           }
          ],
          "mesh3d": [
           {
            "colorbar": {
             "outlinewidth": 0,
             "ticks": ""
            },
            "type": "mesh3d"
           }
          ],
          "parcoords": [
           {
            "line": {
             "colorbar": {
              "outlinewidth": 0,
              "ticks": ""
             }
            },
            "type": "parcoords"
           }
          ],
          "pie": [
           {
            "automargin": true,
            "type": "pie"
           }
          ],
          "scatter": [
           {
            "fillpattern": {
             "fillmode": "overlay",
             "size": 10,
             "solidity": 0.2
            },
            "type": "scatter"
           }
          ],
          "scatter3d": [
           {
            "line": {
             "colorbar": {
              "outlinewidth": 0,
              "ticks": ""
             }
            },
            "marker": {
             "colorbar": {
              "outlinewidth": 0,
              "ticks": ""
             }
            },
            "type": "scatter3d"
           }
          ],
          "scattercarpet": [
           {
            "marker": {
             "colorbar": {
              "outlinewidth": 0,
              "ticks": ""
             }
            },
            "type": "scattercarpet"
           }
          ],
          "scattergeo": [
           {
            "marker": {
             "colorbar": {
              "outlinewidth": 0,
              "ticks": ""
             }
            },
            "type": "scattergeo"
           }
          ],
          "scattergl": [
           {
            "marker": {
             "colorbar": {
              "outlinewidth": 0,
              "ticks": ""
             }
            },
            "type": "scattergl"
           }
          ],
          "scattermap": [
           {
            "marker": {
             "colorbar": {
              "outlinewidth": 0,
              "ticks": ""
             }
            },
            "type": "scattermap"
           }
          ],
          "scattermapbox": [
           {
            "marker": {
             "colorbar": {
              "outlinewidth": 0,
              "ticks": ""
             }
            },
            "type": "scattermapbox"
           }
          ],
          "scatterpolar": [
           {
            "marker": {
             "colorbar": {
              "outlinewidth": 0,
              "ticks": ""
             }
            },
            "type": "scatterpolar"
           }
          ],
          "scatterpolargl": [
           {
            "marker": {
             "colorbar": {
              "outlinewidth": 0,
              "ticks": ""
             }
            },
            "type": "scatterpolargl"
           }
          ],
          "scatterternary": [
           {
            "marker": {
             "colorbar": {
              "outlinewidth": 0,
              "ticks": ""
             }
            },
            "type": "scatterternary"
           }
          ],
          "surface": [
           {
            "colorbar": {
             "outlinewidth": 0,
             "ticks": ""
            },
            "colorscale": [
             [
              0,
              "#0d0887"
             ],
             [
              0.1111111111111111,
              "#46039f"
             ],
             [
              0.2222222222222222,
              "#7201a8"
             ],
             [
              0.3333333333333333,
              "#9c179e"
             ],
             [
              0.4444444444444444,
              "#bd3786"
             ],
             [
              0.5555555555555556,
              "#d8576b"
             ],
             [
              0.6666666666666666,
              "#ed7953"
             ],
             [
              0.7777777777777778,
              "#fb9f3a"
             ],
             [
              0.8888888888888888,
              "#fdca26"
             ],
             [
              1,
              "#f0f921"
             ]
            ],
            "type": "surface"
           }
          ],
          "table": [
           {
            "cells": {
             "fill": {
              "color": "#EBF0F8"
             },
             "line": {
              "color": "white"
             }
            },
            "header": {
             "fill": {
              "color": "#C8D4E3"
             },
             "line": {
              "color": "white"
             }
            },
            "type": "table"
           }
          ]
         },
         "layout": {
          "annotationdefaults": {
           "arrowcolor": "#2a3f5f",
           "arrowhead": 0,
           "arrowwidth": 1
          },
          "autotypenumbers": "strict",
          "coloraxis": {
           "colorbar": {
            "outlinewidth": 0,
            "ticks": ""
           }
          },
          "colorscale": {
           "diverging": [
            [
             0,
             "#8e0152"
            ],
            [
             0.1,
             "#c51b7d"
            ],
            [
             0.2,
             "#de77ae"
            ],
            [
             0.3,
             "#f1b6da"
            ],
            [
             0.4,
             "#fde0ef"
            ],
            [
             0.5,
             "#f7f7f7"
            ],
            [
             0.6,
             "#e6f5d0"
            ],
            [
             0.7,
             "#b8e186"
            ],
            [
             0.8,
             "#7fbc41"
            ],
            [
             0.9,
             "#4d9221"
            ],
            [
             1,
             "#276419"
            ]
           ],
           "sequential": [
            [
             0,
             "#0d0887"
            ],
            [
             0.1111111111111111,
             "#46039f"
            ],
            [
             0.2222222222222222,
             "#7201a8"
            ],
            [
             0.3333333333333333,
             "#9c179e"
            ],
            [
             0.4444444444444444,
             "#bd3786"
            ],
            [
             0.5555555555555556,
             "#d8576b"
            ],
            [
             0.6666666666666666,
             "#ed7953"
            ],
            [
             0.7777777777777778,
             "#fb9f3a"
            ],
            [
             0.8888888888888888,
             "#fdca26"
            ],
            [
             1,
             "#f0f921"
            ]
           ],
           "sequentialminus": [
            [
             0,
             "#0d0887"
            ],
            [
             0.1111111111111111,
             "#46039f"
            ],
            [
             0.2222222222222222,
             "#7201a8"
            ],
            [
             0.3333333333333333,
             "#9c179e"
            ],
            [
             0.4444444444444444,
             "#bd3786"
            ],
            [
             0.5555555555555556,
             "#d8576b"
            ],
            [
             0.6666666666666666,
             "#ed7953"
            ],
            [
             0.7777777777777778,
             "#fb9f3a"
            ],
            [
             0.8888888888888888,
             "#fdca26"
            ],
            [
             1,
             "#f0f921"
            ]
           ]
          },
          "colorway": [
           "#636efa",
           "#EF553B",
           "#00cc96",
           "#ab63fa",
           "#FFA15A",
           "#19d3f3",
           "#FF6692",
           "#B6E880",
           "#FF97FF",
           "#FECB52"
          ],
          "font": {
           "color": "#2a3f5f"
          },
          "geo": {
           "bgcolor": "white",
           "lakecolor": "white",
           "landcolor": "white",
           "showlakes": true,
           "showland": true,
           "subunitcolor": "#C8D4E3"
          },
          "hoverlabel": {
           "align": "left"
          },
          "hovermode": "closest",
          "mapbox": {
           "style": "light"
          },
          "paper_bgcolor": "white",
          "plot_bgcolor": "white",
          "polar": {
           "angularaxis": {
            "gridcolor": "#EBF0F8",
            "linecolor": "#EBF0F8",
            "ticks": ""
           },
           "bgcolor": "white",
           "radialaxis": {
            "gridcolor": "#EBF0F8",
            "linecolor": "#EBF0F8",
            "ticks": ""
           }
          },
          "scene": {
           "xaxis": {
            "backgroundcolor": "white",
            "gridcolor": "#DFE8F3",
            "gridwidth": 2,
            "linecolor": "#EBF0F8",
            "showbackground": true,
            "ticks": "",
            "zerolinecolor": "#EBF0F8"
           },
           "yaxis": {
            "backgroundcolor": "white",
            "gridcolor": "#DFE8F3",
            "gridwidth": 2,
            "linecolor": "#EBF0F8",
            "showbackground": true,
            "ticks": "",
            "zerolinecolor": "#EBF0F8"
           },
           "zaxis": {
            "backgroundcolor": "white",
            "gridcolor": "#DFE8F3",
            "gridwidth": 2,
            "linecolor": "#EBF0F8",
            "showbackground": true,
            "ticks": "",
            "zerolinecolor": "#EBF0F8"
           }
          },
          "shapedefaults": {
           "line": {
            "color": "#2a3f5f"
           }
          },
          "ternary": {
           "aaxis": {
            "gridcolor": "#DFE8F3",
            "linecolor": "#A2B1C6",
            "ticks": ""
           },
           "baxis": {
            "gridcolor": "#DFE8F3",
            "linecolor": "#A2B1C6",
            "ticks": ""
           },
           "bgcolor": "white",
           "caxis": {
            "gridcolor": "#DFE8F3",
            "linecolor": "#A2B1C6",
            "ticks": ""
           }
          },
          "title": {
           "x": 0.05
          },
          "xaxis": {
           "automargin": true,
           "gridcolor": "#EBF0F8",
           "linecolor": "#EBF0F8",
           "ticks": "",
           "title": {
            "standoff": 15
           },
           "zerolinecolor": "#EBF0F8",
           "zerolinewidth": 2
          },
          "yaxis": {
           "automargin": true,
           "gridcolor": "#EBF0F8",
           "linecolor": "#EBF0F8",
           "ticks": "",
           "title": {
            "standoff": 15
           },
           "zerolinecolor": "#EBF0F8",
           "zerolinewidth": 2
          }
         }
        },
        "title": {
         "text": "Temperaturas Mensais - Braga",
         "x": 0.5,
         "xanchor": "center"
        },
        "xaxis": {
         "anchor": "y",
         "domain": [
          0,
          1
         ],
         "tickangle": 45,
         "title": {
          "text": "Ano-Mês"
         }
        },
        "yaxis": {
         "anchor": "x",
         "domain": [
          0,
          1
         ],
         "title": {
          "text": "Temperatura (°C)"
         }
        }
       }
      }
     },
     "metadata": {},
     "output_type": "display_data"
    },
    {
     "data": {
      "application/vnd.plotly.v1+json": {
       "config": {
        "plotlyServerURL": "https://plot.ly"
       },
       "data": [
        {
         "hovertemplate": "variable=media_maxtemp<br>Ano-Mês=%{x}<br>Temperatura (°C)=%{y}<extra></extra>",
         "legendgroup": "media_maxtemp",
         "line": {
          "color": "red",
          "dash": "solid"
         },
         "marker": {
          "symbol": "circle"
         },
         "mode": "lines+markers",
         "name": "MaxTemp (mean)",
         "orientation": "v",
         "showlegend": true,
         "type": "scatter",
         "x": [
          "2024-06-01T00:00:00.000000000",
          "2024-07-01T00:00:00.000000000",
          "2024-08-01T00:00:00.000000000",
          "2024-09-01T00:00:00.000000000",
          "2024-10-01T00:00:00.000000000",
          "2024-11-01T00:00:00.000000000",
          "2024-12-01T00:00:00.000000000",
          "2025-01-01T00:00:00.000000000",
          "2025-02-01T00:00:00.000000000",
          "2025-03-01T00:00:00.000000000",
          "2025-04-01T00:00:00.000000000",
          "2025-05-01T00:00:00.000000000",
          "2025-06-01T00:00:00.000000000"
         ],
         "xaxis": "x",
         "y": {
          "bdata": "AAAAAAAAN0A655xzzjk9QHTOOeeccz5AMzMzMzMzOkBjjDHGGGM2QFVVVVVVVTRAlVJKKaWUMECttdZaa60vQNu2bdu2LTBAMsYYY4wxMEAAAAAAAIAzQK211lprrTZAvLu7u7s7PEA=",
          "dtype": "f8"
         },
         "yaxis": "y"
        },
        {
         "hovertemplate": "variable=media_mintemp<br>Ano-Mês=%{x}<br>Temperatura (°C)=%{y}<extra></extra>",
         "legendgroup": "media_mintemp",
         "line": {
          "color": "blue",
          "dash": "solid"
         },
         "marker": {
          "symbol": "circle"
         },
         "mode": "lines+markers",
         "name": "MinTemp (mean)",
         "orientation": "v",
         "showlegend": true,
         "type": "scatter",
         "x": [
          "2024-06-01T00:00:00.000000000",
          "2024-07-01T00:00:00.000000000",
          "2024-08-01T00:00:00.000000000",
          "2024-09-01T00:00:00.000000000",
          "2024-10-01T00:00:00.000000000",
          "2024-11-01T00:00:00.000000000",
          "2024-12-01T00:00:00.000000000",
          "2025-01-01T00:00:00.000000000",
          "2025-02-01T00:00:00.000000000",
          "2025-03-01T00:00:00.000000000",
          "2025-04-01T00:00:00.000000000",
          "2025-05-01T00:00:00.000000000",
          "2025-06-01T00:00:00.000000000"
         ],
         "xaxis": "x",
         "y": {
          "bdata": "AAAAAAAAMUDvvffee+8wQBljjDHGGDFAAAAAAAAAMEAyxhhjjDEwQGZmZmZmZitA55xzzjnnIkCllFJKKaUkQEmSJEmSpCNArbXWWmutI0Dv7u7u7u4nQIQQQgghhCpAzczMzMxMMEA=",
          "dtype": "f8"
         },
         "yaxis": "y"
        }
       ],
       "layout": {
        "annotations": [
         {
          "arrowhead": 2,
          "ax": 0,
          "ay": -30,
          "bgcolor": "white",
          "bordercolor": "gray",
          "borderpad": 4,
          "borderwidth": 1,
          "font": {
           "color": "black",
           "size": 12
          },
          "showarrow": true,
          "text": "Verão",
          "x": "2024-06-01T00:00:00",
          "y": 30.451612903225808
         },
         {
          "arrowhead": 2,
          "ax": 0,
          "ay": -30,
          "bgcolor": "white",
          "bordercolor": "gray",
          "borderpad": 4,
          "borderwidth": 1,
          "font": {
           "color": "black",
           "size": 12
          },
          "showarrow": true,
          "text": "Outono",
          "x": "2024-09-01T00:00:00",
          "y": 30.451612903225808
         },
         {
          "arrowhead": 2,
          "ax": 0,
          "ay": -30,
          "bgcolor": "white",
          "bordercolor": "gray",
          "borderpad": 4,
          "borderwidth": 1,
          "font": {
           "color": "black",
           "size": 12
          },
          "showarrow": true,
          "text": "Inverno",
          "x": "2024-12-01T00:00:00",
          "y": 30.451612903225808
         },
         {
          "arrowhead": 2,
          "ax": 0,
          "ay": -30,
          "bgcolor": "white",
          "bordercolor": "gray",
          "borderpad": 4,
          "borderwidth": 1,
          "font": {
           "color": "black",
           "size": 12
          },
          "showarrow": true,
          "text": "Primavera",
          "x": "2025-03-01T00:00:00",
          "y": 30.451612903225808
         }
        ],
        "legend": {
         "title": {
          "text": "variable"
         },
         "tracegroupgap": 0
        },
        "shapes": [
         {
          "line": {
           "color": "gray",
           "dash": "dash",
           "width": 2
          },
          "type": "line",
          "x0": "2024-06-01T00:00:00",
          "x1": "2024-06-01T00:00:00",
          "y0": 9.451612903225806,
          "y1": 30.451612903225808
         },
         {
          "line": {
           "color": "gray",
           "dash": "dash",
           "width": 2
          },
          "type": "line",
          "x0": "2024-09-01T00:00:00",
          "x1": "2024-09-01T00:00:00",
          "y0": 9.451612903225806,
          "y1": 30.451612903225808
         },
         {
          "line": {
           "color": "gray",
           "dash": "dash",
           "width": 2
          },
          "type": "line",
          "x0": "2024-12-01T00:00:00",
          "x1": "2024-12-01T00:00:00",
          "y0": 9.451612903225806,
          "y1": 30.451612903225808
         },
         {
          "line": {
           "color": "gray",
           "dash": "dash",
           "width": 2
          },
          "type": "line",
          "x0": "2025-03-01T00:00:00",
          "x1": "2025-03-01T00:00:00",
          "y0": 9.451612903225806,
          "y1": 30.451612903225808
         }
        ],
        "template": {
         "data": {
          "bar": [
           {
            "error_x": {
             "color": "#2a3f5f"
            },
            "error_y": {
             "color": "#2a3f5f"
            },
            "marker": {
             "line": {
              "color": "white",
              "width": 0.5
             },
             "pattern": {
              "fillmode": "overlay",
              "size": 10,
              "solidity": 0.2
             }
            },
            "type": "bar"
           }
          ],
          "barpolar": [
           {
            "marker": {
             "line": {
              "color": "white",
              "width": 0.5
             },
             "pattern": {
              "fillmode": "overlay",
              "size": 10,
              "solidity": 0.2
             }
            },
            "type": "barpolar"
           }
          ],
          "carpet": [
           {
            "aaxis": {
             "endlinecolor": "#2a3f5f",
             "gridcolor": "#C8D4E3",
             "linecolor": "#C8D4E3",
             "minorgridcolor": "#C8D4E3",
             "startlinecolor": "#2a3f5f"
            },
            "baxis": {
             "endlinecolor": "#2a3f5f",
             "gridcolor": "#C8D4E3",
             "linecolor": "#C8D4E3",
             "minorgridcolor": "#C8D4E3",
             "startlinecolor": "#2a3f5f"
            },
            "type": "carpet"
           }
          ],
          "choropleth": [
           {
            "colorbar": {
             "outlinewidth": 0,
             "ticks": ""
            },
            "type": "choropleth"
           }
          ],
          "contour": [
           {
            "colorbar": {
             "outlinewidth": 0,
             "ticks": ""
            },
            "colorscale": [
             [
              0,
              "#0d0887"
             ],
             [
              0.1111111111111111,
              "#46039f"
             ],
             [
              0.2222222222222222,
              "#7201a8"
             ],
             [
              0.3333333333333333,
              "#9c179e"
             ],
             [
              0.4444444444444444,
              "#bd3786"
             ],
             [
              0.5555555555555556,
              "#d8576b"
             ],
             [
              0.6666666666666666,
              "#ed7953"
             ],
             [
              0.7777777777777778,
              "#fb9f3a"
             ],
             [
              0.8888888888888888,
              "#fdca26"
             ],
             [
              1,
              "#f0f921"
             ]
            ],
            "type": "contour"
           }
          ],
          "contourcarpet": [
           {
            "colorbar": {
             "outlinewidth": 0,
             "ticks": ""
            },
            "type": "contourcarpet"
           }
          ],
          "heatmap": [
           {
            "colorbar": {
             "outlinewidth": 0,
             "ticks": ""
            },
            "colorscale": [
             [
              0,
              "#0d0887"
             ],
             [
              0.1111111111111111,
              "#46039f"
             ],
             [
              0.2222222222222222,
              "#7201a8"
             ],
             [
              0.3333333333333333,
              "#9c179e"
             ],
             [
              0.4444444444444444,
              "#bd3786"
             ],
             [
              0.5555555555555556,
              "#d8576b"
             ],
             [
              0.6666666666666666,
              "#ed7953"
             ],
             [
              0.7777777777777778,
              "#fb9f3a"
             ],
             [
              0.8888888888888888,
              "#fdca26"
             ],
             [
              1,
              "#f0f921"
             ]
            ],
            "type": "heatmap"
           }
          ],
          "histogram": [
           {
            "marker": {
             "pattern": {
              "fillmode": "overlay",
              "size": 10,
              "solidity": 0.2
             }
            },
            "type": "histogram"
           }
          ],
          "histogram2d": [
           {
            "colorbar": {
             "outlinewidth": 0,
             "ticks": ""
            },
            "colorscale": [
             [
              0,
              "#0d0887"
             ],
             [
              0.1111111111111111,
              "#46039f"
             ],
             [
              0.2222222222222222,
              "#7201a8"
             ],
             [
              0.3333333333333333,
              "#9c179e"
             ],
             [
              0.4444444444444444,
              "#bd3786"
             ],
             [
              0.5555555555555556,
              "#d8576b"
             ],
             [
              0.6666666666666666,
              "#ed7953"
             ],
             [
              0.7777777777777778,
              "#fb9f3a"
             ],
             [
              0.8888888888888888,
              "#fdca26"
             ],
             [
              1,
              "#f0f921"
             ]
            ],
            "type": "histogram2d"
           }
          ],
          "histogram2dcontour": [
           {
            "colorbar": {
             "outlinewidth": 0,
             "ticks": ""
            },
            "colorscale": [
             [
              0,
              "#0d0887"
             ],
             [
              0.1111111111111111,
              "#46039f"
             ],
             [
              0.2222222222222222,
              "#7201a8"
             ],
             [
              0.3333333333333333,
              "#9c179e"
             ],
             [
              0.4444444444444444,
              "#bd3786"
             ],
             [
              0.5555555555555556,
              "#d8576b"
             ],
             [
              0.6666666666666666,
              "#ed7953"
             ],
             [
              0.7777777777777778,
              "#fb9f3a"
             ],
             [
              0.8888888888888888,
              "#fdca26"
             ],
             [
              1,
              "#f0f921"
             ]
            ],
            "type": "histogram2dcontour"
           }
          ],
          "mesh3d": [
           {
            "colorbar": {
             "outlinewidth": 0,
             "ticks": ""
            },
            "type": "mesh3d"
           }
          ],
          "parcoords": [
           {
            "line": {
             "colorbar": {
              "outlinewidth": 0,
              "ticks": ""
             }
            },
            "type": "parcoords"
           }
          ],
          "pie": [
           {
            "automargin": true,
            "type": "pie"
           }
          ],
          "scatter": [
           {
            "fillpattern": {
             "fillmode": "overlay",
             "size": 10,
             "solidity": 0.2
            },
            "type": "scatter"
           }
          ],
          "scatter3d": [
           {
            "line": {
             "colorbar": {
              "outlinewidth": 0,
              "ticks": ""
             }
            },
            "marker": {
             "colorbar": {
              "outlinewidth": 0,
              "ticks": ""
             }
            },
            "type": "scatter3d"
           }
          ],
          "scattercarpet": [
           {
            "marker": {
             "colorbar": {
              "outlinewidth": 0,
              "ticks": ""
             }
            },
            "type": "scattercarpet"
           }
          ],
          "scattergeo": [
           {
            "marker": {
             "colorbar": {
              "outlinewidth": 0,
              "ticks": ""
             }
            },
            "type": "scattergeo"
           }
          ],
          "scattergl": [
           {
            "marker": {
             "colorbar": {
              "outlinewidth": 0,
              "ticks": ""
             }
            },
            "type": "scattergl"
           }
          ],
          "scattermap": [
           {
            "marker": {
             "colorbar": {
              "outlinewidth": 0,
              "ticks": ""
             }
            },
            "type": "scattermap"
           }
          ],
          "scattermapbox": [
           {
            "marker": {
             "colorbar": {
              "outlinewidth": 0,
              "ticks": ""
             }
            },
            "type": "scattermapbox"
           }
          ],
          "scatterpolar": [
           {
            "marker": {
             "colorbar": {
              "outlinewidth": 0,
              "ticks": ""
             }
            },
            "type": "scatterpolar"
           }
          ],
          "scatterpolargl": [
           {
            "marker": {
             "colorbar": {
              "outlinewidth": 0,
              "ticks": ""
             }
            },
            "type": "scatterpolargl"
           }
          ],
          "scatterternary": [
           {
            "marker": {
             "colorbar": {
              "outlinewidth": 0,
              "ticks": ""
             }
            },
            "type": "scatterternary"
           }
          ],
          "surface": [
           {
            "colorbar": {
             "outlinewidth": 0,
             "ticks": ""
            },
            "colorscale": [
             [
              0,
              "#0d0887"
             ],
             [
              0.1111111111111111,
              "#46039f"
             ],
             [
              0.2222222222222222,
              "#7201a8"
             ],
             [
              0.3333333333333333,
              "#9c179e"
             ],
             [
              0.4444444444444444,
              "#bd3786"
             ],
             [
              0.5555555555555556,
              "#d8576b"
             ],
             [
              0.6666666666666666,
              "#ed7953"
             ],
             [
              0.7777777777777778,
              "#fb9f3a"
             ],
             [
              0.8888888888888888,
              "#fdca26"
             ],
             [
              1,
              "#f0f921"
             ]
            ],
            "type": "surface"
           }
          ],
          "table": [
           {
            "cells": {
             "fill": {
              "color": "#EBF0F8"
             },
             "line": {
              "color": "white"
             }
            },
            "header": {
             "fill": {
              "color": "#C8D4E3"
             },
             "line": {
              "color": "white"
             }
            },
            "type": "table"
           }
          ]
         },
         "layout": {
          "annotationdefaults": {
           "arrowcolor": "#2a3f5f",
           "arrowhead": 0,
           "arrowwidth": 1
          },
          "autotypenumbers": "strict",
          "coloraxis": {
           "colorbar": {
            "outlinewidth": 0,
            "ticks": ""
           }
          },
          "colorscale": {
           "diverging": [
            [
             0,
             "#8e0152"
            ],
            [
             0.1,
             "#c51b7d"
            ],
            [
             0.2,
             "#de77ae"
            ],
            [
             0.3,
             "#f1b6da"
            ],
            [
             0.4,
             "#fde0ef"
            ],
            [
             0.5,
             "#f7f7f7"
            ],
            [
             0.6,
             "#e6f5d0"
            ],
            [
             0.7,
             "#b8e186"
            ],
            [
             0.8,
             "#7fbc41"
            ],
            [
             0.9,
             "#4d9221"
            ],
            [
             1,
             "#276419"
            ]
           ],
           "sequential": [
            [
             0,
             "#0d0887"
            ],
            [
             0.1111111111111111,
             "#46039f"
            ],
            [
             0.2222222222222222,
             "#7201a8"
            ],
            [
             0.3333333333333333,
             "#9c179e"
            ],
            [
             0.4444444444444444,
             "#bd3786"
            ],
            [
             0.5555555555555556,
             "#d8576b"
            ],
            [
             0.6666666666666666,
             "#ed7953"
            ],
            [
             0.7777777777777778,
             "#fb9f3a"
            ],
            [
             0.8888888888888888,
             "#fdca26"
            ],
            [
             1,
             "#f0f921"
            ]
           ],
           "sequentialminus": [
            [
             0,
             "#0d0887"
            ],
            [
             0.1111111111111111,
             "#46039f"
            ],
            [
             0.2222222222222222,
             "#7201a8"
            ],
            [
             0.3333333333333333,
             "#9c179e"
            ],
            [
             0.4444444444444444,
             "#bd3786"
            ],
            [
             0.5555555555555556,
             "#d8576b"
            ],
            [
             0.6666666666666666,
             "#ed7953"
            ],
            [
             0.7777777777777778,
             "#fb9f3a"
            ],
            [
             0.8888888888888888,
             "#fdca26"
            ],
            [
             1,
             "#f0f921"
            ]
           ]
          },
          "colorway": [
           "#636efa",
           "#EF553B",
           "#00cc96",
           "#ab63fa",
           "#FFA15A",
           "#19d3f3",
           "#FF6692",
           "#B6E880",
           "#FF97FF",
           "#FECB52"
          ],
          "font": {
           "color": "#2a3f5f"
          },
          "geo": {
           "bgcolor": "white",
           "lakecolor": "white",
           "landcolor": "white",
           "showlakes": true,
           "showland": true,
           "subunitcolor": "#C8D4E3"
          },
          "hoverlabel": {
           "align": "left"
          },
          "hovermode": "closest",
          "mapbox": {
           "style": "light"
          },
          "paper_bgcolor": "white",
          "plot_bgcolor": "white",
          "polar": {
           "angularaxis": {
            "gridcolor": "#EBF0F8",
            "linecolor": "#EBF0F8",
            "ticks": ""
           },
           "bgcolor": "white",
           "radialaxis": {
            "gridcolor": "#EBF0F8",
            "linecolor": "#EBF0F8",
            "ticks": ""
           }
          },
          "scene": {
           "xaxis": {
            "backgroundcolor": "white",
            "gridcolor": "#DFE8F3",
            "gridwidth": 2,
            "linecolor": "#EBF0F8",
            "showbackground": true,
            "ticks": "",
            "zerolinecolor": "#EBF0F8"
           },
           "yaxis": {
            "backgroundcolor": "white",
            "gridcolor": "#DFE8F3",
            "gridwidth": 2,
            "linecolor": "#EBF0F8",
            "showbackground": true,
            "ticks": "",
            "zerolinecolor": "#EBF0F8"
           },
           "zaxis": {
            "backgroundcolor": "white",
            "gridcolor": "#DFE8F3",
            "gridwidth": 2,
            "linecolor": "#EBF0F8",
            "showbackground": true,
            "ticks": "",
            "zerolinecolor": "#EBF0F8"
           }
          },
          "shapedefaults": {
           "line": {
            "color": "#2a3f5f"
           }
          },
          "ternary": {
           "aaxis": {
            "gridcolor": "#DFE8F3",
            "linecolor": "#A2B1C6",
            "ticks": ""
           },
           "baxis": {
            "gridcolor": "#DFE8F3",
            "linecolor": "#A2B1C6",
            "ticks": ""
           },
           "bgcolor": "white",
           "caxis": {
            "gridcolor": "#DFE8F3",
            "linecolor": "#A2B1C6",
            "ticks": ""
           }
          },
          "title": {
           "x": 0.05
          },
          "xaxis": {
           "automargin": true,
           "gridcolor": "#EBF0F8",
           "linecolor": "#EBF0F8",
           "ticks": "",
           "title": {
            "standoff": 15
           },
           "zerolinecolor": "#EBF0F8",
           "zerolinewidth": 2
          },
          "yaxis": {
           "automargin": true,
           "gridcolor": "#EBF0F8",
           "linecolor": "#EBF0F8",
           "ticks": "",
           "title": {
            "standoff": 15
           },
           "zerolinecolor": "#EBF0F8",
           "zerolinewidth": 2
          }
         }
        },
        "title": {
         "text": "Temperaturas Mensais - Setubal",
         "x": 0.5,
         "xanchor": "center"
        },
        "xaxis": {
         "anchor": "y",
         "domain": [
          0,
          1
         ],
         "tickangle": 45,
         "title": {
          "text": "Ano-Mês"
         }
        },
        "yaxis": {
         "anchor": "x",
         "domain": [
          0,
          1
         ],
         "title": {
          "text": "Temperatura (°C)"
         }
        }
       }
      }
     },
     "metadata": {},
     "output_type": "display_data"
    }
   ],
   "source": [
    "# Exemplo de uso:\n",
    "cidades_lista = ['Monchique','Porto', 'Lisboa', 'Braga', 'Setubal']\n",
    "plot_temperaturas(cidades_lista, resumo_mensal)"
   ]
  }
 ],
 "metadata": {
  "kernelspec": {
   "display_name": "Python 3",
   "language": "python",
   "name": "python3"
  },
  "language_info": {
   "codemirror_mode": {
    "name": "ipython",
    "version": 3
   },
   "file_extension": ".py",
   "mimetype": "text/x-python",
   "name": "python",
   "nbconvert_exporter": "python",
   "pygments_lexer": "ipython3",
   "version": "3.11.9"
  }
 },
 "nbformat": 4,
 "nbformat_minor": 5
}
