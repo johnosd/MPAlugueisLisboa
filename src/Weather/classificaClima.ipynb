{
 "cells": [
  {
   "cell_type": "markdown",
   "id": "e5f948d3",
   "metadata": {},
   "source": [
    "# Metodologia de Classificação Climática de Cidades  \n",
    "**Autor:** John Costa\n",
    "\n",
    "**Fontes dos Dados:**  \n",
    "- [Instituto Português do Mar e da Atmosfera (IPMA)](https://www.ipma.pt/)\n",
    "- [World Weather Online](https://www.worldweatheronline.com/)\n",
    "- [Open-Meteo](https://open-meteo.com/)\n",
    "- [Shape Portugal - Natural Earth](https://www.naturalearthdata.com/)\n",
    "\n",
    "---\n",
    "\n",
    "## Objetivo\n",
    "\n",
    "Este documento explica de forma simples e transparente como é realizada a classificação do clima das cidades de Portugal (e exemplos do Brasil), detalhando a lógica do cálculo do score climático, os critérios para eventos extremos, a metodologia dos índices e as influências dos fatores naturais e humanos no clima. Exemplos reais ilustram cada etapa.\n",
    "\n",
    "---\n",
    "\n",
    "## 1. **Elementos e Fatores Climáticos**\n",
    "\n",
    "### **Elementos do Clima**  \n",
    "Características do ambiente que sentimos ou medimos no dia a dia:\n",
    "\n",
    "- **Temperatura:** grau de calor do ar.\n",
    "- **Umidade:** quantidade de vapor d’água presente no ar.\n",
    "- **Pressão atmosférica:** força do ar sobre a superfície.\n",
    "- **Precipitação:** chuva, neve ou granizo.\n",
    "- **Ventos:** movimentação do ar.\n",
    "- **Radiação solar:** energia recebida do Sol.\n",
    "\n",
    "### **Fatores Climáticos**  \n",
    "Aspectos que modificam ou influenciam os elementos:\n",
    "\n",
    "| Fator                | Como influencia a temperatura e outros elementos                       | Exemplo prático                         |\n",
    "|----------------------|-----------------------------------------------------------------------|-----------------------------------------|\n",
    "| **Latitude**         | Próximo ao Equador = mais quente; longe = mais frio                   | Algarve mais quente que Porto           |\n",
    "| **Altitude/Relevo**  | Locais altos = mais frio                                              | Serra da Estrela com neve               |\n",
    "| **Maritimidade**     | Próximo ao mar = menos variação térmica                               | Lisboa com invernos mais amenos         |\n",
    "| **Continentalidade** | Interior = maior variação entre verão e inverno                       | Interior do Alentejo mais extremo       |\n",
    "| **Correntes Marítimas** | Correntes frias/quentes afetam temperatura do litoral               | Corrente do Golfo suaviza litoral oeste |\n",
    "| **Uso/Ocupação do Solo** | Cidades são mais quentes (ilhas de calor), menos vegetação         | Centro de Lisboa mais quente            |\n",
    "\n",
    "---\n",
    "\n",
    "## 2. **Aparelhos de Medição Climática**\n",
    "\n",
    "- **Termômetro:** mede temperatura do ar.\n",
    "- **Pluviómetro:** mede a quantidade de chuva (mm).\n",
    "- **Higrômetro:** mede a umidade relativa do ar.\n",
    "- **Barômetro:** mede a pressão atmosférica.\n",
    "- **Anemômetro:** mede a velocidade dos ventos.\n",
    "- **Heliógrafo:** mede horas de sol.\n",
    "- **Biruta:** indica a direção do vento.\n",
    "\n",
    "As medições são realizadas em estações meteorológicas espalhadas nas cidades.\n",
    "\n",
    "---\n",
    "\n",
    "## 3. **Metodologia de Classificação**\n",
    "\n",
    "### **a) Identificação de Eventos Extremos**\n",
    "\n",
    "Um dia é considerado extremo se atender ao menos um dos critérios abaixo:\n",
    "- **Calor extremo:** máxima > 35°C ou Heat Index > 40°C\n",
    "- **Frio extremo:** mínima < 1°C ou Wind Chill < -5°C\n",
    "- **Chuva extrema:** precipitação diária acima de 35 mm\n",
    "- **Neve:** qualquer valor positivo em Portugal continental\n",
    "- **UV extremo:** índice ≥ 8\n",
    "\n",
    "### **b) Cálculo do \"Clima Típico\" e do Score Diário**\n",
    "\n",
    "- Os scores e classificações são **calculados diariamente** para cada cidade, já considerando as penalizações por eventos extremos do próprio dia.\n",
    "- Posteriormente, são feitos resumos mensais e anuais, utilizando a média dos scores diários e o registro da frequência de eventos extremos.\n",
    "\n",
    "### **c) Score de Conforto Climático**\n",
    "\n",
    "O score diário parte de 100 pontos e utiliza os seguintes pesos para as variáveis, sempre priorizando conforto humano:\n",
    "\n",
    "- **Temperatura máxima ideal (20 a 28°C):** 60%\n",
    "- **Temperatura mínima ideal (16 a 20°C):** 12%\n",
    "- **Umidade relativa (30-80%):** 10%\n",
    "- **Sol (≥ 5h/dia):** 9%\n",
    "- **Precipitação (≤ 20mm/dia):** 9%\n",
    "\n",
    "O score pode ser penalizado no próprio dia em caso de extremos:\n",
    "\n",
    "- **Calor extremo:** penaliza 0,3 no cálculo (equivale a até -6 pontos por dia)\n",
    "- **Frio extremo:** penaliza 0,4 (até -8 pontos por dia)\n",
    "- **Chuva extrema:** penaliza 0,2 (até -4 pontos por dia)\n",
    "\n",
    "*A penalização máxima diária é limitada a -20 pontos.*\n",
    "\n",
    "### **d) Classificação Final**\n",
    "\n",
    "| Score         | Classificação |\n",
    "|---------------|--------------|\n",
    "| ≥ 80          | Excelente    |\n",
    "| 70 a 79,99    | Muito Bom    |\n",
    "| 60 a 69,99    | Bom          |\n",
    "| 50 a 59,99    | Aceitável    |\n",
    "| < 50          | Marginal     |\n",
    "\n",
    "---\n",
    "\n",
    "## 4. **Exemplo de Aplicação**\n",
    "\n",
    "*Valores ilustrativos para facilitar o entendimento:*\n",
    "\n",
    "### **Lisboa**\n",
    "- Máxima média: 25,6°C\n",
    "- Mínima média: 15,8°C\n",
    "- Umidade: 69%\n",
    "- Chuva: 1,9 mm/dia\n",
    "- Dias extremos: 2 de calor, 0 de frio, 2 de chuva\n",
    "- **Score:** 88,4 → **Classificação: Excelente**\n",
    "\n",
    "### **Porto**\n",
    "- Máxima média: 22,8°C\n",
    "- Mínima média: 12,5°C\n",
    "- Umidade: 74%\n",
    "- Chuva: 2,8 mm/dia\n",
    "- Dias extremos: 0 de calor, 0 de frio, 3 de chuva\n",
    "- **Score:** 81,2 → **Classificação: Excelente**\n",
    "\n",
    "### **São Paulo (Brasil)**\n",
    "- Máxima média: 28,3°C\n",
    "- Mínima média: 16,9°C\n",
    "- Umidade: 64%\n",
    "- Chuva: 2,0 mm/dia\n",
    "- Dias extremos: 9 de calor, 0 de frio, 23 de chuva\n",
    "- **Score:** 62,1 → **Classificação: Bom**\n",
    "\n",
    "---\n",
    "\n",
    "## 5. **Visualização no Mapa**\n",
    "\n",
    "Cada cidade foi plotada em um mapa de Portugal, colorida conforme a classificação:\n",
    "- **Azul:** Excelente / Muito Bom\n",
    "- **Verde:** Bom\n",
    "- **Amarelo:** Aceitável\n",
    "- **Vermelho:** Marginal\n",
    "\n",
    "*<sub>Sugestão: Utilize bibliotecas como `geopandas` e `matplotlib` para criar o mapa. Exemplo disponível na documentação técnica.</sub>*\n",
    "\n",
    "---\n",
    "\n",
    "## 6. **Considerações**\n",
    "\n",
    "- Os dados usados são médias diárias; podem ocorrer limitações para eventos de chuva intensa em curto período.\n",
    "- Os extremos são baseados em referências de saúde pública e médias portuguesas.\n",
    "- A metodologia busca um equilíbrio entre conforto humano e variabilidade natural do clima, facilitando comparação entre cidades.\n",
    "- O método é inspirado no Tourism Climate Index (TCI) e adaptado para avaliação do conforto urbano.\n",
    "\n",
    "---\n",
    "\n",
    "## 7. **Referências**\n",
    "\n",
    "- IPMA - Instituto Português do Mar e da Atmosfera ([site](https://www.ipma.pt/))\n",
    "- World Weather Online ([site](https://www.worldweatheronline.com/))\n",
    "- Mieczkowski, Z. (1985). The Tourism Climate Index: A Method of Evaluating World Climates for Tourism.\n",
    "- Artigos de Meteorologia, sites oficiais de institutos e literatura de conforto climático.\n"
   ]
  },
  {
   "cell_type": "code",
   "execution_count": 145,
   "id": "530b80e9",
   "metadata": {},
   "outputs": [],
   "source": [
    "#!pip install geopandas\n",
    "#!pip install plotly"
   ]
  },
  {
   "cell_type": "code",
   "execution_count": 176,
   "id": "5f04abdc",
   "metadata": {},
   "outputs": [],
   "source": [
    "import pandas as pd\n",
    "import numpy as np\n",
    "import os\n",
    "import geopandas as gpd\n",
    "import matplotlib.pyplot as plt\n",
    "import matplotlib.patches as mpatches\n",
    "import plotly.express as px\n",
    "import pandas as pd\n",
    "\n",
    "# === FUNÇÕES DE DETECÇÃO DE EVENTOS EXTREMOS ===\n",
    "def is_hot_extreme(row):\n",
    "    \"\"\"Evento de calor extremo: Temperatura máxima > 35°C OU Heat Index > 40°C.\"\"\"\n",
    "    return row['maxtempC'] > 35 or row['HeatIndexC'] > 40\n",
    "\n",
    "def is_cold_extreme(row):\n",
    "    \"\"\"Evento de frio extremo: Temperatura mínima < 1°C OU Wind Chill < -5°C.\"\"\"\n",
    "    return row['mintempC'] < 1 or row['WindChillC'] < -5\n",
    "\n",
    "def is_rain_extreme(row):\n",
    "    \"\"\"Evento de chuva extrema: Precipitação diária > 35 mm.\"\"\"\n",
    "    return row['precipMM'] > 35\n",
    "\n",
    "def is_snow_extreme(row):\n",
    "    \"\"\"Evento de neve: Qualquer valor positivo já é extremo em Portugal continental.\"\"\"\n",
    "    return row['totalSnow_cm'] > 0\n",
    "\n",
    "def is_uv_extreme(row):\n",
    "    \"\"\"Radiação UV extrema: Índice UV >= 8 (OMS: muito alto).\"\"\"\n",
    "    return row['uvIndex'] >= 8\n",
    "\n",
    "# === FUNÇÕES AUXILIARES ===\n",
    "def assign_season(month):\n",
    "    if month in [12, 1, 2]:\n",
    "        return 'Inverno'\n",
    "    elif month in [3, 4, 5]:\n",
    "        return 'Primavera'\n",
    "    elif month in [6, 7, 8]:\n",
    "        return 'Verão'\n",
    "    else:\n",
    "        return 'Outono'\n",
    "\n",
    "def classify_city_index(score):\n",
    "    if score >= 80:\n",
    "        return 'Excelente'\n",
    "    elif score >= 70:\n",
    "        return 'Muito Bom'\n",
    "    elif score >= 60:\n",
    "        return 'Bom'\n",
    "    elif score >= 50:\n",
    "        return 'Aceitável'\n",
    "    else:\n",
    "        return 'Marginal'\n",
    "\n",
    "# === CÁLCULO DO TCI - Tourism Climate Index (continua mensal!) ===\n",
    "def compute_tci_monthly(df):\n",
    "    df = df.copy()\n",
    "    df['month'] = df['date_time'].dt.month\n",
    "    tci_list = []\n",
    "    for (year, month), dfg in df.groupby([df['date_time'].dt.year, 'month']):\n",
    "        # ---- CID: conforto diário (temp média)\n",
    "        tmean = dfg['tempC'].mean()\n",
    "        rhmean = dfg['humidity'].mean()\n",
    "        if 20 <= tmean <= 27:\n",
    "            cid = 10\n",
    "        elif 16 <= tmean < 20 or 27 < tmean <= 30:\n",
    "            cid = 7\n",
    "        elif 13 <= tmean < 16 or 30 < tmean <= 33:\n",
    "            cid = 5\n",
    "        elif 10 <= tmean < 13 or 33 < tmean <= 36:\n",
    "            cid = 3\n",
    "        else:\n",
    "            cid = 0\n",
    "        if rhmean > 90 or rhmean < 30:\n",
    "            cid -= 1\n",
    "\n",
    "        # ---- CIA: conforto amplitude diária (temp máxima)\n",
    "        tmax = dfg['maxtempC'].mean()\n",
    "        rhmax = dfg['humidity'].mean()\n",
    "        if 20 <= tmax <= 27:\n",
    "            cia = 10\n",
    "        elif 16 <= tmax < 20 or 27 < tmax <= 30:\n",
    "            cia = 7\n",
    "        elif 13 <= tmax < 16 or 30 < tmax <= 33:\n",
    "            cia = 5\n",
    "        elif 10 <= tmax < 13 or 33 < tmax <= 36:\n",
    "            cia = 3\n",
    "        else:\n",
    "            cia = 0\n",
    "        if rhmax > 90 or rhmax < 30:\n",
    "            cia -= 1\n",
    "\n",
    "        # ---- P: índice de precipitação do mês\n",
    "        p = dfg['precipMM'].sum()\n",
    "        if p <= 30:\n",
    "            pi = 10\n",
    "        elif p <= 60:\n",
    "            pi = 7\n",
    "        elif p <= 90:\n",
    "            pi = 5\n",
    "        elif p <= 120:\n",
    "            pi = 3\n",
    "        else:\n",
    "            pi = 0\n",
    "\n",
    "        # ---- S: insolação média diária\n",
    "        s = dfg['sunHour'].mean()\n",
    "        if s >= 9:\n",
    "            si = 10\n",
    "        elif s >= 7:\n",
    "            si = 7\n",
    "        elif s >= 5:\n",
    "            si = 5\n",
    "        elif s >= 3:\n",
    "            si = 3\n",
    "        else:\n",
    "            si = 0\n",
    "\n",
    "        # ---- W: vento médio no mês\n",
    "        w = dfg['windspeedKmph'].mean()\n",
    "        if w < 15:\n",
    "            wi = 10\n",
    "        elif w < 25:\n",
    "            wi = 7\n",
    "        elif w < 35:\n",
    "            wi = 5\n",
    "        elif w < 45:\n",
    "            wi = 3\n",
    "        else:\n",
    "            wi = 0\n",
    "\n",
    "        tci = 2*cid + 2*cia + 0.5*pi + 0.5*si + wi\n",
    "        tci = max(0, min(100, tci))\n",
    "        tci_list.append({'ano': year, 'mes': month, 'tci': tci})\n",
    "\n",
    "    tci_df = pd.DataFrame(tci_list)\n",
    "    tci_annual = tci_df['tci'].mean() if not tci_df.empty else np.nan\n",
    "    return tci_annual, tci_df\n",
    "\n",
    "# === NOVO: SCORE DIÁRIO E MARCAÇÃO DE EXTREMOS ===\n",
    "def marcar_extremo(row):\n",
    "    \"\"\"Retorna True se houver qualquer evento extremo (calor, frio, chuva, neve)\"\"\"\n",
    "    return (\n",
    "        is_hot_extreme(row) or\n",
    "        is_cold_extreme(row) or\n",
    "        is_rain_extreme(row) or\n",
    "        is_snow_extreme(row)\n",
    "    )\n",
    "\n",
    "def score_dia(row):\n",
    "    maxtemp = row['maxtempC']\n",
    "    mintemp = row['mintempC']\n",
    "    humidity = row['humidity']\n",
    "    sun = row['sunHour']\n",
    "    precip = row['precipMM']\n",
    "\n",
    "    # Conforto máxima\n",
    "    ideal_temp = 1 if (20 <= maxtemp <= 28) else 0\n",
    "    moderate_temp = 1 if (18 < maxtemp < 32) else 0\n",
    "    comfort_temp = 0.7 * ideal_temp + 0.3 * moderate_temp\n",
    "\n",
    "    # Conforto mínima (peso de 15%)\n",
    "    if 16 <= mintemp <= 20:\n",
    "        comfort_mintemp = 1\n",
    "    elif 13 <= mintemp < 16 or 20 < mintemp <= 22:\n",
    "        comfort_mintemp = 0.7\n",
    "    elif 10 <= mintemp < 13 or 22 < mintemp <= 24:\n",
    "        comfort_mintemp = 0.4\n",
    "    else:\n",
    "        comfort_mintemp = 0\n",
    "\n",
    "    comfort_hum = 1 if (30 <= humidity <= 80) else 0\n",
    "    comfort_sun = 1 if sun >= 5 else 0\n",
    "    comfort_precip = 1 if precip <= 20 else 0\n",
    "\n",
    "    penalizacao = 0\n",
    "    if is_hot_extreme(row): penalizacao += 0.3\n",
    "    if is_cold_extreme(row): penalizacao += 0.4\n",
    "    if is_rain_extreme(row): penalizacao += 0.2\n",
    "\n",
    "    penalizacao = min(penalizacao, 1)\n",
    "\n",
    "    # Score ponderado (máxima 50%, mínima 15%, umidade 10%, sol 10%, chuva 10%)\n",
    "    score = 100 * (\n",
    "        0.6 * comfort_temp +\n",
    "        0.12 * comfort_mintemp +\n",
    "        0.10 * comfort_hum +\n",
    "        0.09 * comfort_sun +\n",
    "        0.09 * comfort_precip\n",
    "    )\n",
    "    score -= penalizacao * 20\n",
    "    return max(score, 0)\n",
    "\n",
    "\n",
    "# Função para classificar score diário\n",
    "def classifica_score(score):\n",
    "    if score >= 80:\n",
    "        return 'Excelente'\n",
    "    elif score >= 70:\n",
    "        return 'Muito Bom'\n",
    "    elif score >= 60:\n",
    "        return 'Bom'\n",
    "    elif score >= 50:\n",
    "        return 'Aceitável'\n",
    "    else:\n",
    "        return 'Marginal'\n",
    "\n",
    "# === LEITURA DE MÚLTIPLOS CSVs DE UMA PASTA (mantida) ===\n",
    "def load_weather_data(folder_path, min_days=365):\n",
    "    \n",
    "    # Lista dos nomes das colunas (caso leia de um CSV sem cabeçalho)\n",
    "    colunas = [\n",
    "        'date_time','maxtempC','mintempC','totalSnow_cm','sunHour','uvIndex','moon_illumination',\n",
    "        'moonrise','moonset','sunrise','sunset','DewPointC','FeelsLikeC','HeatIndexC','WindChillC',\n",
    "        'WindGustKmph','cloudcover','humidity','precipMM','pressure','tempC','visibility',\n",
    "        'winddirDegree','windspeedKmph','location'\n",
    "    ]\n",
    "\n",
    "    # Dicionário de tipos para cada coluna\n",
    "    tipos = {\n",
    "        'date_time': 'datetime64[ns]',\n",
    "        'maxtempC': 'Int64',\n",
    "        'mintempC': 'Int64',\n",
    "        'totalSnow_cm': 'float',\n",
    "        'sunHour': 'float',\n",
    "        'uvIndex': 'Int64',\n",
    "        'moon_illumination': 'Int64',\n",
    "        'moonrise': 'string',\n",
    "        'moonset': 'string',\n",
    "        'sunrise': 'string',\n",
    "        'sunset': 'string',\n",
    "        'DewPointC': 'Int64',\n",
    "        'FeelsLikeC': 'Int64',\n",
    "        'HeatIndexC': 'Int64',\n",
    "        'WindChillC': 'Int64',\n",
    "        'WindGustKmph': 'Int64',\n",
    "        'cloudcover': 'Int64',\n",
    "        'humidity': 'Int64',\n",
    "        'precipMM': 'float',\n",
    "        'pressure': 'Int64',\n",
    "        'tempC': 'Int64',\n",
    "        'visibility': 'Int64',\n",
    "        'winddirDegree': 'Int64',\n",
    "        'windspeedKmph': 'Int64',\n",
    "        'location': 'string'\n",
    "    }\n",
    "\n",
    "    dfs = []\n",
    "    arquivos_descartados = []\n",
    "    for filename in os.listdir(folder_path):\n",
    "        if filename.endswith(\".csv\"):\n",
    "            file_path = os.path.join(folder_path, filename)\n",
    "            df = pd.read_csv(file_path, parse_dates=['date_time'])\n",
    "            city_name = filename.split(',')[0].replace(\"+\", \" \")\n",
    "            df['municipio'] = city_name\n",
    "\n",
    "            num_dias = df['date_time'].nunique()\n",
    "            periodo = df['date_time'].max() - df['date_time'].min()\n",
    "\n",
    "            if num_dias >= min_days:\n",
    "                dfs.append(df)\n",
    "            else:\n",
    "                arquivos_descartados.append((filename, num_dias, periodo.days))\n",
    "\n",
    "    print(\"\\nArquivos descartados (menos de\", min_days, \"dias de histórico):\")\n",
    "    for nome, dias, periodo in arquivos_descartados:\n",
    "        print(f\"{nome}: {dias} dias distintos, período coberto: {periodo} dias\")\n",
    "\n",
    "    if not dfs:\n",
    "        print(\"Nenhum arquivo com histórico suficiente.\")\n",
    "        return pd.DataFrame()\n",
    "\n",
    "    combined_df = pd.concat(dfs, ignore_index=True)\n",
    "\n",
    "    # Converte as colunas de acordo com o dicionário de tipos\n",
    "    for col, tipo in tipos.items():\n",
    "        if tipo == 'datetime64[ns]':\n",
    "            combined_df[col] = pd.to_datetime(combined_df[col])\n",
    "        else:\n",
    "            combined_df[col] = combined_df[col].astype(tipo)\n",
    "\n",
    "    return combined_df\n",
    "\n",
    "def formatar_numericos(df):\n",
    "    df = df.copy()  # Cria uma cópia, o original não será alterado!\n",
    "    for col in df.select_dtypes(include='number').columns:\n",
    "        df[col] = df[col].apply(lambda x: '{:,.2f}'.format(x).replace(',', 'X').replace('.', ',').replace('X', '.'))\n",
    "    return df\n",
    "\n",
    "def resumo_mensal(df):\n",
    "    resumo_mensal = df.groupby(['Regiao','municipio', 'ano_mes','estacao']).agg(\n",
    "        dias_no_mes = ('classificacao_dia', 'count'),\n",
    "        dias_bons = ('classificacao_dia', lambda x: (x.isin(['Excelente','Muito Bom','Bom'])).sum()),\n",
    "        dias_aceitaveis = ('classificacao_dia', lambda x: (x == 'Aceitável').sum()),\n",
    "        dias_marginais = ('classificacao_dia', lambda x: (x == 'Marginal').sum()),\n",
    "        extremos = ('evento_extremo', 'sum'),\n",
    "        percentual_extremos = ('evento_extremo', lambda x: 100*x.sum()/len(x)),\n",
    "        media_score = ('score_dia', 'mean'),\n",
    "        score_max = ('score_dia', 'max'),\n",
    "        score_min = ('score_dia', 'min'),\n",
    "        score_std = ('score_dia', 'std'),\n",
    "        media_score_continuous = ('score_dia_cont', 'mean'),\n",
    "        media_maxtemp = ('maxtempC', 'mean'),\n",
    "        maxtemp_max = ('maxtempC', 'max'),\n",
    "        media_mintemp = ('mintempC', 'mean'),\n",
    "        mintemp_min = ('mintempC', 'min'),\n",
    "        media_totalSnow_cm = ('totalSnow_cm', 'mean'),\n",
    "        media_sunHour = ('sunHour', 'mean'),\n",
    "        media_uvIndex = ('uvIndex', 'mean'),\n",
    "        media_FeelsLikeC = ('FeelsLikeC', 'mean'),\n",
    "        media_HeatIndexC = ('HeatIndexC', 'mean'),\n",
    "        media_WindChillC = ('WindChillC', 'mean'),\n",
    "        media_humidity = ('humidity', 'mean'),\n",
    "        media_precipMM = ('precipMM', 'mean'),\n",
    "        media_tempC = ('tempC', 'mean'),\n",
    "        calor_extremo = ('calor_extremo', 'sum'),\n",
    "        frio_extremo = ('frio_extremo', 'sum'),\n",
    "        chuva_extrema = ('chuva_extrema', 'sum'),\n",
    "        neve = ('neve', 'sum'),\n",
    "        uv_extremo = ('uv_extremo', 'sum'),\n",
    "        class_mais_comum = ('classificacao_dia', lambda x: x.mode().iloc[0] if not x.mode().empty else np.nan)\n",
    "    ).reset_index()\n",
    "\n",
    "    resumo_mensal['classificacao_mes'] = resumo_mensal['media_score'].apply(classifica_score)\n",
    "    resumo_mensal['classificacao_geral_continuous'] = resumo_mensal['media_score_continuous'].apply(classifica_score)\n",
    "\n",
    "    return resumo_mensal\n",
    "\n",
    "def resumo_geral(df):\n",
    "    resumo_geral = df.groupby(['Regiao','municipio']).agg(\n",
    "        total_dias = ('classificacao_dia', 'count'),\n",
    "        dias_bons = ('classificacao_dia', lambda x: (x.isin(['Excelente','Muito Bom','Bom'])).sum()),\n",
    "        dias_aceitaveis = ('classificacao_dia', lambda x: (x == 'Aceitável').sum()),\n",
    "        dias_marginais = ('classificacao_dia', lambda x: (x == 'Marginal').sum()),\n",
    "        extremos = ('evento_extremo', 'sum'),\n",
    "        percentual_extremos = ('evento_extremo', lambda x: 100*x.sum()/len(x)),\n",
    "        calor_extremo = ('calor_extremo', 'sum'),\n",
    "        frio_extremo = ('frio_extremo', 'sum'),\n",
    "        chuva_extrema = ('chuva_extrema', 'sum'),\n",
    "        neve = ('neve', 'sum'),\n",
    "        uv_extremo = ('uv_extremo', 'sum'),\n",
    "        media_score = ('score_dia', 'mean'),\n",
    "        media_score_continuous = ('score_dia_cont', 'mean'),\n",
    "        media_maxtemp = ('maxtempC', 'mean'),\n",
    "        media_mintemp = ('mintempC', 'mean'),\n",
    "        media_totalSnow_cm = ('totalSnow_cm', 'mean'),\n",
    "        media_sunHour = ('sunHour', 'mean'),\n",
    "        media_uvIndex = ('uvIndex', 'mean'),\n",
    "        media_FeelsLikeC = ('FeelsLikeC', 'mean'),\n",
    "        media_HeatIndexC = ('HeatIndexC', 'mean'),\n",
    "        media_WindChillC = ('WindChillC', 'mean'),\n",
    "        media_humidity = ('humidity', 'mean'),\n",
    "        media_precipMM = ('precipMM', 'mean'),\n",
    "        media_tempC = ('tempC', 'mean')\n",
    "    ).reset_index()\n",
    "\n",
    "    resumo_geral['classificacao_geral'] = resumo_geral['media_score'].apply(classifica_score)\n",
    "    resumo_geral['classificacao_geral_continuous'] = resumo_geral['media_score_continuous'].apply(classifica_score)\n",
    "    return resumo_geral\n",
    "\n",
    "def tci(df):\n",
    "    tci_registros = []\n",
    "\n",
    "    for municipio, dados in df.groupby(['Regiao','municipio']):\n",
    "        # Calcula TCI mensal e anual\n",
    "        tci_annual, tci_mensal = compute_tci_monthly(dados)\n",
    "        # Para cada mês desse município, anote também as médias dos componentess do TCI\n",
    "        dados['year'] = dados['date_time'].dt.year\n",
    "        dados['month'] = dados['date_time'].dt.month\n",
    "        for i, row in tci_mensal.iterrows():\n",
    "            ano = row['ano']\n",
    "            mes = row['mes']\n",
    "            # Seleciona só aquele mês/ano\n",
    "            dados_mes = dados[(dados['year'] == ano) & (dados['month'] == mes)]\n",
    "            # Calcula as médias/indicadores do TCI:\n",
    "            tmean = dados_mes['tempC'].mean()\n",
    "            rhmean = dados_mes['humidity'].mean()\n",
    "            tmax = dados_mes['maxtempC'].mean()\n",
    "            # Se quiser rhmax separado (UR máxima), coloque aqui, mas no seu código estava usando média:\n",
    "            rhmax = dados_mes['humidity'].mean()\n",
    "            precip = dados_mes['precipMM'].sum()\n",
    "            sun = dados_mes['sunHour'].mean()\n",
    "            wind = dados_mes['windspeedKmph'].mean()\n",
    "            # Monta registro\n",
    "            reg = {\n",
    "                'municipio': municipio,\n",
    "                'ano': ano,\n",
    "                'mes': mes,\n",
    "                'tci': row['tci'],\n",
    "                'tci_anual': tci_annual,\n",
    "                'tempC_media': tmean,\n",
    "                'humidity_media': rhmean,\n",
    "                'maxtempC_media': tmax,\n",
    "                'humidity_max_media': rhmax,  # Aqui está igual ao rhmean, pode mudar se quiser pegar o valor máximo.\n",
    "                'precipMM_total': precip,\n",
    "                'sunHour_media': sun,\n",
    "                'windspeedKmph_media': wind\n",
    "            }\n",
    "            tci_registros.append(reg)\n",
    "\n",
    "    # Junta tudo em um DataFrame\n",
    "    tci_df = pd.DataFrame(tci_registros)\n",
    "\n",
    "    # Se quiser, pode reordenar as colunas\n",
    "    colunas = [\n",
    "        'municipio', 'ano', 'mes', 'tci', 'tci_anual',\n",
    "        'tempC_media', 'humidity_media', 'maxtempC_media', 'humidity_max_media',\n",
    "        'precipMM_total', 'sunHour_media', 'windspeedKmph_media'\n",
    "    ]\n",
    "    tci_df = tci_df[colunas]\n",
    "\n",
    "    return tci_df\n",
    "\n",
    "def marcacao_extremos_diarios(df):\n",
    "    df['calor_extremo']   = df.apply(is_hot_extreme, axis=1).astype(int)\n",
    "    df['frio_extremo']    = df.apply(is_cold_extreme, axis=1).astype(int)\n",
    "    df['chuva_extrema']   = df.apply(is_rain_extreme, axis=1).astype(int)\n",
    "    df['neve']            = df.apply(is_snow_extreme, axis=1).astype(int)\n",
    "    df['uv_extremo']      = df.apply(is_uv_extreme, axis=1).astype(int)\n",
    "    df['evento_extremo'] = df.apply(marcar_extremo, axis=1)\n",
    "    return df\n",
    "\n",
    "def classifica_diario(df):\n",
    "    df['score_dia'] = df.apply(score_dia, axis=1)\n",
    "    df['classificacao_dia'] = df['score_dia'].apply(classifica_score)\n",
    "    df['ano_mes'] = df['date_time'].dt.to_period('M')\n",
    "    df['ano'] = df['date_time'].dt.year\n",
    "    df['estacao'] = df['ano_mes'].apply(lambda x: assign_season(x.month))\n",
    "\n",
    "    df = df[['date_time', 'maxtempC', 'mintempC', 'totalSnow_cm', 'sunHour',\n",
    "       'uvIndex', 'moon_illumination', 'moonrise', 'moonset', 'sunrise',\n",
    "       'sunset', 'DewPointC', 'FeelsLikeC', 'HeatIndexC', 'WindChillC',\n",
    "       'WindGustKmph', 'cloudcover', 'humidity', 'precipMM', 'pressure',\n",
    "       'tempC', 'visibility', 'winddirDegree', 'windspeedKmph', 'location',\n",
    "       'municipio',  'Regiao', 'calor_extremo', 'frio_extremo', 'chuva_extrema',\n",
    "       'neve', 'uv_extremo', 'evento_extremo', 'score_dia',\n",
    "       'classificacao_dia', 'ano_mes', 'ano', 'estacao']]\n",
    "    \n",
    "    return df\n",
    "\n",
    "def salva_rankings(df, df_resumo_mensal, df_resumo_geral, df_tci):\n",
    "    filePathRankingBase = '..\\\\..\\\\Bases\\\\Clima\\\\worldWeatherApi\\\\ranking\\\\ranking_base.csv'\n",
    "    df_formatado = formatar_numericos(df)\n",
    "    df_formatado.to_csv(filePathRankingBase, index=False)\n",
    "    del(df_formatado)\n",
    "\n",
    "    # Salva Ranking Mensal\n",
    "    filePathRankingMensal = '..\\\\..\\\\Bases\\\\Clima\\\\worldWeatherApi\\\\ranking\\\\ranking_Mensal.csv'\n",
    "    resumo_mensal_formatado = formatar_numericos(df_resumo_mensal)\n",
    "    resumo_mensal_formatado.to_csv(filePathRankingMensal, index=False)\n",
    "    del(resumo_mensal_formatado)\n",
    "\n",
    "    # Salva Ranking Geral\n",
    "    filePathRankingGeral = '..\\\\..\\\\Bases\\\\Clima\\\\worldWeatherApi\\\\ranking\\\\ranking_Geral.csv'\n",
    "    resumo_geral_formatado = formatar_numericos(df_resumo_geral)\n",
    "    resumo_geral_formatado.to_csv(filePathRankingGeral, index=False)\n",
    "    del(resumo_geral_formatado)\n",
    "\n",
    "    # Salva Ranking TCI\n",
    "    filePathRankingTCI = '..\\\\..\\\\Bases\\\\Clima\\\\worldWeatherApi\\\\ranking\\\\ranking_TCI.csv'\n",
    "    tci_df_formatado = formatar_numericos(df_tci)\n",
    "    tci_df_formatado.to_csv(filePathRankingTCI, index=False)\n",
    "    del(tci_df_formatado)\n",
    "\n",
    "def topx_cidades(df_resumo_geral, n=100, score_type='media_score'):\n",
    "    topx = df_resumo_geral.sort_values(score_type, ascending=False).head(n)\n",
    "\n",
    "    texto = f\"🏆 Top {n} cidades com melhor score climático ({score_type}) 🏆\\n\"\n",
    "    for i, row in enumerate(topx.itertuples(), 1):\n",
    "        score_valor = getattr(row, score_type)\n",
    "        texto += (f\"{i:02d}. {row.municipio}: {score_valor:.1f} pontos | \"\n",
    "                  f\"Extremos: {row.extremos} | \"\n",
    "                  f\"Máx: {row.media_maxtemp:.1f}°C | \"\n",
    "                  f\"Mín: {row.media_mintemp:.1f}°C\\n\")\n",
    "    print(texto)\n",
    "\n",
    "def topx_cidades_por_estacao(df_resumo_mensal, n=10, score_type='media_score'):\n",
    "    for estacao in ['Verão', 'Outono', 'Primavera', 'Inverno']:\n",
    "        print(f\"\\n🏅 Top {n} cidades - {estacao} ({score_type}) 🏅\")\n",
    "        # Seleciona o melhor mês de cada cidade na estação (pelo maior score_tipe)\n",
    "        top_por_cidade = (\n",
    "            df_resumo_mensal[df_resumo_mensal['estacao'] == estacao]\n",
    "            .sort_values(score_type, ascending=False)\n",
    "            .groupby('municipio', as_index=False)\n",
    "            .first()\n",
    "        )\n",
    "        # Agora pega só os n melhores\n",
    "        top10 = top_por_cidade.sort_values(score_type, ascending=False).head(n)\n",
    "        for i, row in enumerate(top10.itertuples(), 1):\n",
    "            score_valor = getattr(row, score_type)\n",
    "            print(\n",
    "                f\"{i:02d}. {row.municipio}: {score_valor:.1f} pontos | \"\n",
    "                f\"Extremos: {row.extremos} | \"\n",
    "                f\"Máx: {row.media_maxtemp:.1f}°C | \"\n",
    "                f\"Mín: {row.media_mintemp:.1f}°C | \"\n",
    "                f\"{row.classificacao_mes} | {row.ano_mes}\"\n",
    "            )\n",
    "def cidades_ranking(df_resumo_geral, score_tipe='media_score'):\n",
    "    # Decide qual campo de classificação usar\n",
    "    if score_tipe == 'score_continuous':\n",
    "        campo_classificacao = 'classificacao_geral_continuous'\n",
    "    else:\n",
    "        campo_classificacao = 'classificacao_geral'\n",
    "\n",
    "    ordem_classificacao = ['Excelente', 'Muito Bom', 'Bom', 'Aceitável', 'Marginal']\n",
    "\n",
    "    texto = f'🏆 Lista de cidades agrupadas por classificação (score: {score_tipe}) 🏆\\n'\n",
    "    for classificacao in ordem_classificacao:\n",
    "        grupo = df_resumo_geral[df_resumo_geral[campo_classificacao] == classificacao] \\\n",
    "            .sort_values(score_tipe, ascending=False)\n",
    "        if not grupo.empty:\n",
    "            texto += f\"\\n🔹 {classificacao}:\\n\"\n",
    "            for idx, row in grupo.iterrows():\n",
    "                texto += (\n",
    "                    f\"   - [{row['Regiao']}] {row['municipio']}: \"\n",
    "                    f\"{row[score_tipe]:.1f} pontos | \"\n",
    "                    f\"Extremos: {row['extremos']} | \"\n",
    "                    f\"Máx: {row['media_maxtemp']:.1f}°C | \"\n",
    "                    f\"Mín: {row['media_mintemp']:.1f}°C\\n\"\n",
    "                )\n",
    "\n",
    "    print(texto)\n",
    "\n",
    "\n",
    "def plot_map(resumo_geral_geo):\n",
    "    # Caminho do shapefile do GADM (Portugal)\n",
    "\n",
    "    shapefile_path = '..\\\\..\\\\Bases\\\\Geocoding\\\\files\\\\Gadm - Portugal - Shape\\\\gadm41_PRT_0.shp' \n",
    "    # 1. Carrega e limpa o shapefile\n",
    "    portugal = gpd.read_file(shapefile_path)\n",
    "\n",
    "    # Corrige eventuais geometrias inválidas\n",
    "    portugal['geometry'] = portugal['geometry'].buffer(0)\n",
    "    # Remove linhas sem geometria válida\n",
    "    portugal = portugal[portugal.is_valid & ~portugal.is_empty]\n",
    "\n",
    "    if portugal.empty:\n",
    "        raise ValueError('O shapefile está vazio ou inválido!')\n",
    "\n",
    "    # Faz a união de todos os polígonos do shape (Continente + Madeira + Açores)\n",
    "    portugal_union = portugal.geometry.unary_union\n",
    "\n",
    "    # 2. Converte sua tabela de cidades para GeoDataFrame\n",
    "    # ranking_geo deve ter as colunas 'municipio', 'latitude', 'longitude', 'classificacao_geral'\n",
    "    cores = {\n",
    "        'Excelente': 'blue',\n",
    "        'Muito Bom': 'blue',\n",
    "        'Bom': 'green',\n",
    "        'Aceitável': 'yellow',\n",
    "        'Marginal': 'red'\n",
    "    }\n",
    "    resumo_geral_geo['cor'] = resumo_geral_geo['classificacao_geral'].map(cores)\n",
    "\n",
    "    gdf = gpd.GeoDataFrame(\n",
    "        resumo_geral_geo,\n",
    "        geometry=gpd.points_from_xy(resumo_geral_geo.longitude, resumo_geral_geo.latitude),\n",
    "        crs=\"EPSG:4326\"\n",
    "    )\n",
    "\n",
    "    # 3. Marque pontos dentro e fora de Portugal (incluindo ilhas)\n",
    "    gdf['dentro_portugal'] = gdf.geometry.apply(portugal_union.covers)\n",
    "\n",
    "    # Separe pontos\n",
    "    dentro_portugal = gdf[gdf['dentro_portugal']]\n",
    "    fora_portugal = gdf[~gdf['dentro_portugal']]\n",
    "\n",
    "    # 4. Mostre os possíveis erros\n",
    "    if not fora_portugal.empty:\n",
    "        print('Cidades possivelmente com coordenadas erradas:')\n",
    "        print(fora_portugal[['municipio', 'latitude', 'longitude']])\n",
    "    else:\n",
    "        print('Todas as cidades estão corretamente localizadas em Portugal.')\n",
    "\n",
    "    # 5. Plot bonito!\n",
    "    fig, ax = plt.subplots(figsize=(11, 13))\n",
    "    portugal.plot(ax=ax, color='lightgrey', edgecolor='black', zorder=0)\n",
    "    dentro_portugal.plot(\n",
    "        ax=ax, color=dentro_portugal['cor'], markersize=40,\n",
    "        marker='o', edgecolor='black', linewidth=0.7, zorder=2\n",
    "    )\n",
    "    if not fora_portugal.empty:\n",
    "        fora_portugal.plot(\n",
    "            ax=ax, color='black', markersize=70, marker='x',\n",
    "            label='Possível erro', zorder=3\n",
    "        )\n",
    "\n",
    "    patches = [\n",
    "        mpatches.Patch(color='blue', label='Excelente/Muito Bom'),\n",
    "        mpatches.Patch(color='green', label='Bom'),\n",
    "        mpatches.Patch(color='yellow', label='Aceitável'),\n",
    "        mpatches.Patch(color='red', label='Marginal'),\n",
    "        mpatches.Patch(color='black', label='Possível erro')\n",
    "    ]\n",
    "    plt.legend(handles=patches, loc='lower left', fontsize=10)\n",
    "    plt.title('Classificação Climática das Cidades de Portugal (GADM, incl. ilhas)')\n",
    "    plt.axis('off')\n",
    "    plt.tight_layout()\n",
    "    plt.show()\n",
    "\n",
    "\n",
    "def plot_temperaturas(cidades_lista, df_resumo_mensal):\n",
    "    # Converte de Period para string formato 'ano-mês' (sem warning do pandas)\n",
    "    df_resumo_mensal = df_resumo_mensal.copy()  # Evita SettingWithCopyWarning\n",
    "    df_resumo_mensal['ano_mes'] = df_resumo_mensal['ano_mes'].astype(str)\n",
    "    \n",
    "    for cidade in cidades_lista:\n",
    "        cidade_data = df_resumo_mensal[df_resumo_mensal['municipio'] == cidade]\n",
    "\n",
    "        # Derrete os dados para formato long (necessário para legendas separadas em px.line)\n",
    "        cidade_long = cidade_data.melt(\n",
    "            id_vars=['ano_mes', 'estacao'],\n",
    "            value_vars=['media_maxtemp', 'media_mintemp'],\n",
    "            var_name='Tipo',\n",
    "            value_name='Temperatura'\n",
    "        )\n",
    "\n",
    "        # Cria o gráfico com Plotly Express\n",
    "        fig = px.line(\n",
    "            cidade_long,\n",
    "            x='ano_mes',\n",
    "            y='Temperatura',\n",
    "            color='Tipo',\n",
    "            labels={'ano_mes': 'Ano-Mês', 'Temperatura': 'Temperatura (°C)', 'Tipo': 'Tipo'},\n",
    "            title=f'Temperaturas Mensais - {cidade}',\n",
    "        )\n",
    "\n",
    "        # Personaliza as cores manualmente (vermelho e azul)\n",
    "        fig.for_each_trace(\n",
    "            lambda trace: trace.update(\n",
    "                line=dict(color='red') if trace.name == 'media_maxtemp' else dict(color='blue'),\n",
    "                name='MaxTemp (mean)' if trace.name == 'media_maxtemp' else 'MinTemp (mean)'\n",
    "            )\n",
    "        )\n",
    "\n",
    "        # Estações e linhas verticais\n",
    "        estacoes = cidade_data['estacao'].unique()\n",
    "        y_min = cidade_long['Temperatura'].min()\n",
    "        y_max = cidade_long['Temperatura'].max()\n",
    "\n",
    "        for estacao in estacoes:\n",
    "            estacao_rows = cidade_data[cidade_data['estacao'] == estacao]\n",
    "            if not estacao_rows.empty:\n",
    "                estacao_mes = estacao_rows.iloc[0]['ano_mes']\n",
    "\n",
    "                fig.add_shape(\n",
    "                    type=\"line\",\n",
    "                    x0=estacao_mes, x1=estacao_mes,\n",
    "                    y0=y_min, y1=y_max,\n",
    "                    line=dict(color=\"gray\", dash=\"dash\", width=2),\n",
    "                    xref='x', yref='y'\n",
    "                )\n",
    "\n",
    "                fig.add_annotation(\n",
    "                    x=estacao_mes,\n",
    "                    y=y_max,\n",
    "                    text=estacao,\n",
    "                    showarrow=True,\n",
    "                    arrowhead=2,\n",
    "                    ax=0,\n",
    "                    ay=-30,\n",
    "                    font=dict(size=12, color=\"black\"),\n",
    "                    bgcolor=\"white\",\n",
    "                    borderpad=4,\n",
    "                    bordercolor=\"gray\",\n",
    "                    borderwidth=1\n",
    "                )\n",
    "\n",
    "        fig.update_layout(\n",
    "            xaxis_title=\"Ano-Mês\",\n",
    "            yaxis_title=\"Temperatura (°C)\",\n",
    "            title={'x': 0.5, 'xanchor': 'center'},\n",
    "            template=\"plotly_white\",\n",
    "            xaxis_tickangle=45\n",
    "        )\n",
    "\n",
    "        fig.show()\n"
   ]
  },
  {
   "cell_type": "code",
   "execution_count": 147,
   "id": "4f76a6b6",
   "metadata": {},
   "outputs": [],
   "source": [
    "\"\"\"Utilities for computing continuous climate scores.\"\"\"\n",
    "\n",
    "\n",
    "def triangular_score(value: float, start: float, peak: float, end: float) -> float:\n",
    "    \"\"\"Return a triangular score rising from ``start`` to ``peak`` and falling to ``end``.\"\"\"\n",
    "    if value <= start or value >= end:\n",
    "        return 0.0\n",
    "    if value == peak:\n",
    "        return 1.0\n",
    "    if value < peak:\n",
    "        return (value - start) / (peak - start)\n",
    "    return (end - value) / (end - peak)\n",
    "\n",
    "\n",
    "def linear_scale(\n",
    "    value: float,\n",
    "    ideal_min: float,\n",
    "    ideal_max: float,\n",
    "    extreme_min: float,\n",
    "    extreme_max: float,\n",
    ") -> float:\n",
    "    \"\"\"Return a linear score of ``value`` between ``extreme_min`` and ``extreme_max``.\n",
    "\n",
    "    Values inside ``[ideal_min, ideal_max]`` return ``1`` while values at the\n",
    "    extremes return ``0`` with a linear transition between these ranges.\n",
    "    \"\"\"\n",
    "    if value <= extreme_min or value >= extreme_max:\n",
    "        return 0.0\n",
    "    if ideal_min <= value <= ideal_max:\n",
    "        return 1.0\n",
    "    if value < ideal_min:\n",
    "        return (value - extreme_min) / (ideal_min - extreme_min)\n",
    "    return (extreme_max - value) / (extreme_max - ideal_max)\n",
    "\n",
    "\n",
    "def score_dia_continuous(row) -> float:\n",
    "    \"\"\"Compute the daily climate score using continuous comfort curves.\"\"\"\n",
    "    maxtemp = row[\"maxtempC\"]\n",
    "    mintemp = row[\"mintempC\"]\n",
    "    humidity = row[\"humidity\"]\n",
    "    sun = row[\"sunHour\"]\n",
    "    precip = row[\"precipMM\"]\n",
    "\n",
    "    # Ideal maximum temperature peaks at 24ºC and drops linearly to 0 at 20ºC\n",
    "    # and 28ºC.\n",
    "    comfort_temp = triangular_score(maxtemp, 20, 24, 28)\n",
    "\n",
    "    # Minimum temperature comfort decreases outside 16–20ºC with linear tails\n",
    "    # reaching zero at 10ºC and 24ºC.\n",
    "    comfort_mintemp = linear_scale(mintemp, 16, 20, 10, 24)\n",
    "\n",
    "    # Humidity between 30% and 80% is ideal; outside this range comfort falls\n",
    "    # linearly towards the extremes 0% and 100%.\n",
    "    comfort_hum = linear_scale(humidity, 30, 80, 0, 100)\n",
    "\n",
    "    # Days with at least five hours of sol get full points, otherwise scale\n",
    "    # proportionally.\n",
    "    comfort_sun = 1.0 if sun >= 5 else sun / 5.0\n",
    "\n",
    "    # Up to 20 mm of precipitation reduces comfort linearly from 1 to 0.\n",
    "    comfort_precip = 1.0 - min(max(precip, 0), 20) / 20.0\n",
    "\n",
    "    penalizacao = 0.0\n",
    "    if row.get(\"calor_extremo\") or False:\n",
    "        penalizacao += 0.3\n",
    "    if row.get(\"frio_extremo\") or False:\n",
    "        penalizacao += 0.4\n",
    "    if row.get(\"chuva_extrema\") or False:\n",
    "        penalizacao += 0.2\n",
    "    penalizacao = min(penalizacao, 1.0)\n",
    "\n",
    "    score = 100 * (\n",
    "        0.6 * comfort_temp\n",
    "        + 0.12 * comfort_mintemp\n",
    "        + 0.10 * comfort_hum\n",
    "        + 0.09 * comfort_sun\n",
    "        + 0.09 * comfort_precip\n",
    "    )\n",
    "    score -= penalizacao * 20\n",
    "    return max(score, 0.0)"
   ]
  },
  {
   "cell_type": "code",
   "execution_count": 148,
   "id": "e5bae7d7",
   "metadata": {},
   "outputs": [
    {
     "name": "stdout",
     "output_type": "stream",
     "text": [
      "\n",
      "Arquivos descartados (menos de 365 dias de histórico):\n"
     ]
    }
   ],
   "source": [
    "filePathClima = '..\\\\..\\\\Bases\\\\Clima\\\\worldWeatherApi\\\\'\n",
    "df = load_weather_data(filePathClima)"
   ]
  },
  {
   "cell_type": "code",
   "execution_count": 149,
   "id": "e7950913",
   "metadata": {},
   "outputs": [],
   "source": [
    "filePathMunicipios = '..\\\\..\\\\Bases\\\\Municipios\\\\portugalMunicipios.csv'\n",
    "df_municipios =  pd.read_csv(filePathMunicipios)"
   ]
  },
  {
   "cell_type": "code",
   "execution_count": 150,
   "id": "7d5e1db5",
   "metadata": {},
   "outputs": [],
   "source": [
    "from unidecode import unidecode\n",
    "\n",
    "# Padroniza nomes: minúsculas, sem espaços extras e sem acentos\n",
    "df['location_merge'] = df['municipio'].apply(lambda x: unidecode(str(x)).lower().strip())\n",
    "df_municipios['Cidades_merge'] = df_municipios['Cidades'].apply(lambda x: unidecode(str(x)).lower().strip())\n",
    "\n",
    "\n",
    "# Junta pelo nome da cidade padronizado\n",
    "df = pd.merge(\n",
    "    df,\n",
    "    df_municipios,\n",
    "    left_on='location_merge',\n",
    "    right_on='Cidades_merge',\n",
    "    how='left'\n",
    ")"
   ]
  },
  {
   "cell_type": "code",
   "execution_count": 151,
   "id": "26af3eb6",
   "metadata": {},
   "outputs": [],
   "source": [
    "df = marcacao_extremos_diarios(df)"
   ]
  },
  {
   "cell_type": "code",
   "execution_count": 152,
   "id": "b0745e6c",
   "metadata": {},
   "outputs": [],
   "source": [
    "df = classifica_diario(df)"
   ]
  },
  {
   "cell_type": "code",
   "execution_count": 153,
   "id": "b6664f9a",
   "metadata": {},
   "outputs": [],
   "source": [
    "# Continuous score\n",
    "df['score_dia_cont'] = df.apply(score_dia_continuous, axis=1)\n",
    "df['classificacao_dia_cont'] = df['score_dia_cont'].apply(classifica_score)"
   ]
  },
  {
   "cell_type": "code",
   "execution_count": 154,
   "id": "eec7a7ae",
   "metadata": {},
   "outputs": [],
   "source": [
    "# resumo mensal\n",
    "df_resumo_mensal = resumo_mensal(df)\n",
    "df_resumo_geral = resumo_geral(df)\n",
    "df_tci = tci(df)\n"
   ]
  },
  {
   "cell_type": "code",
   "execution_count": 155,
   "id": "b016e242",
   "metadata": {},
   "outputs": [],
   "source": [
    "salva_rankings(df,df_resumo_mensal, df_resumo_geral, df_tci)\n"
   ]
  },
  {
   "cell_type": "code",
   "execution_count": 156,
   "id": "6ce3a5ec",
   "metadata": {},
   "outputs": [
    {
     "name": "stdout",
     "output_type": "stream",
     "text": [
      "🏆 Top 100 cidades com melhor score climático (media_score_continuous) 🏆\n",
      "01. Machico: 54.0 pontos | Extremos: 3 | Máx: 20.9°C | Mín: 16.8°C\n",
      "02. Santa Cruz: 54.0 pontos | Extremos: 3 | Máx: 20.9°C | Mín: 16.8°C\n",
      "03. Porto Santo: 52.1 pontos | Extremos: 1 | Máx: 20.1°C | Mín: 19.2°C\n",
      "04. Lagos: 49.5 pontos | Extremos: 1 | Máx: 20.7°C | Mín: 14.7°C\n",
      "05. Nordeste: 48.7 pontos | Extremos: 5 | Máx: 19.7°C | Mín: 17.0°C\n",
      "06. Vila Franca do Campo: 48.7 pontos | Extremos: 5 | Máx: 19.7°C | Mín: 17.0°C\n",
      "07. Ponta Delgada: 48.7 pontos | Extremos: 5 | Máx: 19.7°C | Mín: 17.0°C\n",
      "08. Oeiras: 48.2 pontos | Extremos: 5 | Máx: 20.3°C | Mín: 14.4°C\n",
      "09. sao paulo: 47.9 pontos | Extremos: 14 | Máx: 28.3°C | Mín: 17.2°C\n",
      "10. Avis: 47.7 pontos | Extremos: 4 | Máx: 26.6°C | Mín: 13.5°C\n",
      "11. Cascais: 47.1 pontos | Extremos: 5 | Máx: 19.4°C | Mín: 14.9°C\n",
      "12. Sintra: 46.7 pontos | Extremos: 5 | Máx: 19.7°C | Mín: 13.4°C\n",
      "13. Faro: 46.6 pontos | Extremos: 2 | Máx: 21.1°C | Mín: 15.7°C\n",
      "14. Sobral de Monte Agraco: 46.5 pontos | Extremos: 4 | Máx: 20.8°C | Mín: 12.5°C\n",
      "15. Lourinha: 46.5 pontos | Extremos: 4 | Máx: 20.8°C | Mín: 12.5°C\n",
      "16. Torres Vedras: 46.5 pontos | Extremos: 4 | Máx: 20.8°C | Mín: 12.5°C\n",
      "17. Horta: 46.5 pontos | Extremos: 8 | Máx: 19.5°C | Mín: 17.6°C\n",
      "18. Ribeira Grande: 46.5 pontos | Extremos: 8 | Máx: 19.5°C | Mín: 17.6°C\n",
      "19. Lisboa: 46.4 pontos | Extremos: 5 | Máx: 21.2°C | Mín: 14.0°C\n",
      "20. Loures: 46.4 pontos | Extremos: 5 | Máx: 21.2°C | Mín: 14.0°C\n",
      "21. Odivelas: 46.4 pontos | Extremos: 5 | Máx: 21.2°C | Mín: 14.0°C\n",
      "22. Cadaval: 46.1 pontos | Extremos: 2 | Máx: 19.5°C | Mín: 13.0°C\n",
      "23. Peniche: 46.1 pontos | Extremos: 2 | Máx: 19.5°C | Mín: 13.0°C\n",
      "24. Caldas da Rainha: 46.1 pontos | Extremos: 2 | Máx: 19.5°C | Mín: 13.0°C\n",
      "25. Rio Maior: 46.1 pontos | Extremos: 2 | Máx: 19.5°C | Mín: 13.0°C\n",
      "26. Obidos: 46.1 pontos | Extremos: 2 | Máx: 19.5°C | Mín: 13.0°C\n",
      "27. Bombarral: 46.1 pontos | Extremos: 2 | Máx: 19.5°C | Mín: 13.0°C\n",
      "28. Olhao: 45.8 pontos | Extremos: 2 | Máx: 21.2°C | Mín: 15.6°C\n",
      "29. Mafra: 45.7 pontos | Extremos: 2 | Máx: 19.6°C | Mín: 13.1°C\n",
      "30. Seixal: 45.7 pontos | Extremos: 2 | Máx: 19.6°C | Mín: 13.1°C\n",
      "31. Angra do Heroismo: 45.7 pontos | Extremos: 14 | Máx: 18.8°C | Mín: 15.9°C\n",
      "32. Almada: 45.6 pontos | Extremos: 3 | Máx: 21.6°C | Mín: 13.9°C\n",
      "33. Barreiro: 45.6 pontos | Extremos: 3 | Máx: 21.6°C | Mín: 13.9°C\n",
      "34. Belmonte: 45.5 pontos | Extremos: 2 | Máx: 21.2°C | Mín: 15.6°C\n",
      "35. Sao Roque do Pico: 45.4 pontos | Extremos: 5 | Máx: 18.9°C | Mín: 16.6°C\n",
      "36. Velas: 45.4 pontos | Extremos: 5 | Máx: 18.9°C | Mín: 16.6°C\n",
      "37. Lajes do Pico: 45.4 pontos | Extremos: 5 | Máx: 18.9°C | Mín: 16.6°C\n",
      "38. Lagoa: 45.4 pontos | Extremos: 5 | Máx: 18.9°C | Mín: 16.6°C\n",
      "39. Santa Cruz da Graciosa: 45.4 pontos | Extremos: 5 | Máx: 18.9°C | Mín: 16.6°C\n",
      "40. Amadora: 45.3 pontos | Extremos: 10 | Máx: 21.3°C | Mín: 13.8°C\n",
      "41. Vila da Praia da Vitoria: 45.3 pontos | Extremos: 0 | Máx: 19.3°C | Mín: 16.1°C\n",
      "42. Lajes das Flores: 45.1 pontos | Extremos: 3 | Máx: 19.5°C | Mín: 17.7°C\n",
      "43. Corvo: 45.1 pontos | Extremos: 3 | Máx: 19.5°C | Mín: 17.7°C\n",
      "44. Santa Cruz das Flores: 45.1 pontos | Extremos: 3 | Máx: 19.5°C | Mín: 17.7°C\n",
      "45. Alcochete: 44.8 pontos | Extremos: 4 | Máx: 21.8°C | Mín: 13.5°C\n",
      "46. Moita: 44.8 pontos | Extremos: 4 | Máx: 21.8°C | Mín: 13.5°C\n",
      "47. Montijo: 44.8 pontos | Extremos: 4 | Máx: 21.8°C | Mín: 13.5°C\n",
      "48. Alcobaca: 44.5 pontos | Extremos: 1 | Máx: 19.5°C | Mín: 12.7°C\n",
      "49. Nazare: 44.5 pontos | Extremos: 1 | Máx: 19.5°C | Mín: 12.7°C\n",
      "50. Porto de Mos: 44.5 pontos | Extremos: 1 | Máx: 19.5°C | Mín: 12.7°C\n",
      "51. Ilhavo: 44.3 pontos | Extremos: 5 | Máx: 19.4°C | Mín: 12.4°C\n",
      "52. Vagos: 44.3 pontos | Extremos: 5 | Máx: 19.4°C | Mín: 12.4°C\n",
      "53. Aveiro: 44.3 pontos | Extremos: 5 | Máx: 19.4°C | Mín: 12.4°C\n",
      "54. Albergaria-a-Velha: 44.3 pontos | Extremos: 5 | Máx: 19.4°C | Mín: 12.4°C\n",
      "55. Murtosa: 44.3 pontos | Extremos: 5 | Máx: 19.4°C | Mín: 12.4°C\n",
      "56. Batalha: 44.0 pontos | Extremos: 2 | Máx: 20.5°C | Mín: 11.8°C\n",
      "57. Leiria: 44.0 pontos | Extremos: 2 | Máx: 20.5°C | Mín: 11.8°C\n",
      "58. Marinha Grande: 43.9 pontos | Extremos: 2 | Máx: 20.5°C | Mín: 11.8°C\n",
      "59. Espinho: 43.8 pontos | Extremos: 3 | Máx: 19.7°C | Mín: 12.3°C\n",
      "60. Ovar: 43.8 pontos | Extremos: 3 | Máx: 19.7°C | Mín: 12.3°C\n",
      "61. Sao Joao da Madeira: 43.8 pontos | Extremos: 3 | Máx: 19.7°C | Mín: 12.3°C\n",
      "62. Portimao: 43.6 pontos | Extremos: 4 | Máx: 21.8°C | Mín: 14.3°C\n",
      "63. Arouca: 43.4 pontos | Extremos: 5 | Máx: 21.7°C | Mín: 14.9°C\n",
      "64. Figueira da Foz: 43.1 pontos | Extremos: 4 | Máx: 19.0°C | Mín: 13.1°C\n",
      "65. Montemor-o-Velho: 43.1 pontos | Extremos: 4 | Máx: 19.0°C | Mín: 13.1°C\n",
      "66. Vila Nova de Gaia: 42.9 pontos | Extremos: 5 | Máx: 18.9°C | Mín: 13.0°C\n",
      "67. Porto: 42.9 pontos | Extremos: 5 | Máx: 18.9°C | Mín: 13.0°C\n",
      "68. Lagoa [R.A.A.]: 42.8 pontos | Extremos: 3 | Máx: 21.7°C | Mín: 14.3°C\n",
      "69. Palmela: 42.8 pontos | Extremos: 9 | Máx: 22.0°C | Mín: 13.4°C\n",
      "70. Silves: 42.8 pontos | Extremos: 3 | Máx: 21.7°C | Mín: 14.3°C\n",
      "71. Alcacer do Sal: 42.8 pontos | Extremos: 9 | Máx: 22.0°C | Mín: 13.4°C\n",
      "72. Setubal: 42.8 pontos | Extremos: 9 | Máx: 22.0°C | Mín: 13.4°C\n",
      "73. Sesimbra: 42.8 pontos | Extremos: 9 | Máx: 22.0°C | Mín: 13.4°C\n",
      "74. Albufeira: 42.7 pontos | Extremos: 5 | Máx: 21.8°C | Mín: 14.7°C\n",
      "75. Castro Marim: 42.4 pontos | Extremos: 2 | Máx: 22.1°C | Mín: 14.8°C\n",
      "76. Tavira: 42.4 pontos | Extremos: 2 | Máx: 22.1°C | Mín: 14.8°C\n",
      "77. Vila Franca de Xira: 42.4 pontos | Extremos: 10 | Máx: 21.9°C | Mín: 12.7°C\n",
      "78. Vila de Rei: 42.4 pontos | Extremos: 10 | Máx: 21.9°C | Mín: 12.7°C\n",
      "79. Arruda dos Vinhos: 42.4 pontos | Extremos: 10 | Máx: 21.9°C | Mín: 12.7°C\n",
      "80. Benavente: 42.4 pontos | Extremos: 10 | Máx: 21.9°C | Mín: 12.7°C\n",
      "81. Azambuja: 42.4 pontos | Extremos: 10 | Máx: 21.9°C | Mín: 12.7°C\n",
      "82. Alenquer: 42.4 pontos | Extremos: 10 | Máx: 21.9°C | Mín: 12.7°C\n",
      "83. Salvaterra de Magos: 42.4 pontos | Extremos: 10 | Máx: 21.9°C | Mín: 12.7°C\n",
      "84. Alcoutim: 42.4 pontos | Extremos: 2 | Máx: 22.1°C | Mín: 14.8°C\n",
      "85. Vila Real de Santo Antonio: 42.4 pontos | Extremos: 2 | Máx: 22.1°C | Mín: 14.8°C\n",
      "86. Marvao: 42.3 pontos | Extremos: 8 | Máx: 21.0°C | Mín: 11.6°C\n",
      "87. Mealhada: 42.3 pontos | Extremos: 8 | Máx: 21.0°C | Mín: 11.6°C\n",
      "88. Cantanhede: 42.3 pontos | Extremos: 8 | Máx: 21.0°C | Mín: 11.6°C\n",
      "89. Mira: 42.3 pontos | Extremos: 8 | Máx: 21.0°C | Mín: 11.6°C\n",
      "90. Gondomar: 41.9 pontos | Extremos: 9 | Máx: 20.4°C | Mín: 12.5°C\n",
      "91. Valongo: 41.9 pontos | Extremos: 9 | Máx: 20.4°C | Mín: 12.5°C\n",
      "92. Grandola: 41.6 pontos | Extremos: 2 | Máx: 18.8°C | Mín: 14.7°C\n",
      "93. Sines: 41.6 pontos | Extremos: 2 | Máx: 18.8°C | Mín: 14.7°C\n",
      "94. Santiago do Cacem: 41.6 pontos | Extremos: 2 | Máx: 18.8°C | Mín: 14.7°C\n",
      "95. Funchal: 41.6 pontos | Extremos: 9 | Máx: 17.7°C | Mín: 11.4°C\n",
      "96. Camara de Lobos: 41.6 pontos | Extremos: 9 | Máx: 17.7°C | Mín: 11.4°C\n",
      "97. Santana: 41.6 pontos | Extremos: 9 | Máx: 17.7°C | Mín: 11.4°C\n",
      "98. Calheta [R.A.A.]: 41.6 pontos | Extremos: 9 | Máx: 17.7°C | Mín: 11.4°C\n",
      "99. Calheta [R.A.M.]: 41.6 pontos | Extremos: 9 | Máx: 17.7°C | Mín: 11.4°C\n",
      "100. Ribeira Brava: 41.6 pontos | Extremos: 9 | Máx: 17.7°C | Mín: 11.4°C\n",
      "\n"
     ]
    }
   ],
   "source": [
    "topx_cidades(df_resumo_geral,score_type='media_score_continuous') # media_score_continuous | media_score"
   ]
  },
  {
   "cell_type": "code",
   "execution_count": 157,
   "id": "5273ca41",
   "metadata": {},
   "outputs": [
    {
     "name": "stdout",
     "output_type": "stream",
     "text": [
      "\n",
      "🏅 Top 3 cidades - Verão (media_score_continuous) 🏅\n",
      "01. Silves: 100.0 pontos | Extremos: 0 | Máx: 24.0°C | Mín: 16.0°C | Excelente | 2024-06\n",
      "02. Lagoa [R.A.A.]: 100.0 pontos | Extremos: 0 | Máx: 24.0°C | Mín: 16.0°C | Excelente | 2024-06\n",
      "03. Belmonte: 100.0 pontos | Extremos: 0 | Máx: 24.0°C | Mín: 18.0°C | Excelente | 2024-06\n",
      "\n",
      "🏅 Top 3 cidades - Outono (media_score_continuous) 🏅\n",
      "01. Nordeste: 88.8 pontos | Extremos: 0 | Máx: 23.7°C | Mín: 20.6°C | Excelente | 2024-09\n",
      "02. Ponta Delgada: 88.8 pontos | Extremos: 0 | Máx: 23.7°C | Mín: 20.6°C | Excelente | 2024-09\n",
      "03. Vila Franca do Campo: 88.8 pontos | Extremos: 0 | Máx: 23.7°C | Mín: 20.6°C | Excelente | 2024-09\n",
      "\n",
      "🏅 Top 3 cidades - Primavera (media_score_continuous) 🏅\n",
      "01. Avis: 76.2 pontos | Extremos: 0 | Máx: 24.3°C | Mín: 13.3°C | Excelente | 2025-04\n",
      "02. Olhao: 58.2 pontos | Extremos: 0 | Máx: 21.9°C | Mín: 15.7°C | Muito Bom | 2025-05\n",
      "03. sao paulo: 56.8 pontos | Extremos: 0 | Máx: 26.5°C | Mín: 14.4°C | Excelente | 2025-05\n",
      "\n",
      "🏅 Top 3 cidades - Inverno (media_score_continuous) 🏅\n",
      "01. sao paulo: 53.6 pontos | Extremos: 1 | Máx: 26.7°C | Mín: 18.8°C | Excelente | 2024-12\n",
      "02. Avis: 44.0 pontos | Extremos: 0 | Máx: 28.9°C | Mín: 17.6°C | Muito Bom | 2025-02\n",
      "03. Porto Santo: 39.6 pontos | Extremos: 0 | Máx: 19.2°C | Mín: 18.2°C | Bom | 2024-12\n"
     ]
    }
   ],
   "source": [
    "topx_cidades_por_estacao(df_resumo_mensal, n=3,score_type='media_score_continuous') # media_score_continuous | media_score"
   ]
  },
  {
   "cell_type": "code",
   "execution_count": 158,
   "id": "52516453",
   "metadata": {},
   "outputs": [
    {
     "name": "stdout",
     "output_type": "stream",
     "text": [
      "🏆 Lista de cidades agrupadas por classificação (score: media_score_continuous) 🏆\n",
      "\n",
      "🔹 Muito Bom:\n",
      "   - [Região Autónoma da Madeira] Machico: 54.0 pontos | Extremos: 3 | Máx: 20.9°C | Mín: 16.8°C\n",
      "   - [Região Autónoma da Madeira] Santa Cruz: 54.0 pontos | Extremos: 3 | Máx: 20.9°C | Mín: 16.8°C\n",
      "   - [Brasil] sao paulo: 47.9 pontos | Extremos: 14 | Máx: 28.3°C | Mín: 17.2°C\n",
      "\n",
      "🔹 Bom:\n",
      "   - [Região Autónoma da Madeira] Porto Santo: 52.1 pontos | Extremos: 1 | Máx: 20.1°C | Mín: 19.2°C\n",
      "   - [Algarve] Lagos: 49.5 pontos | Extremos: 1 | Máx: 20.7°C | Mín: 14.7°C\n",
      "   - [Região Autónoma dos Açores] Nordeste: 48.7 pontos | Extremos: 5 | Máx: 19.7°C | Mín: 17.0°C\n",
      "   - [Região Autónoma dos Açores] Vila Franca do Campo: 48.7 pontos | Extremos: 5 | Máx: 19.7°C | Mín: 17.0°C\n",
      "   - [Região Autónoma dos Açores] Ponta Delgada: 48.7 pontos | Extremos: 5 | Máx: 19.7°C | Mín: 17.0°C\n",
      "   - [Área Metropolitana de Lisboa] Oeiras: 48.2 pontos | Extremos: 5 | Máx: 20.3°C | Mín: 14.4°C\n",
      "   - [Alentejo] Avis: 47.7 pontos | Extremos: 4 | Máx: 26.6°C | Mín: 13.5°C\n",
      "   - [Área Metropolitana de Lisboa] Cascais: 47.1 pontos | Extremos: 5 | Máx: 19.4°C | Mín: 14.9°C\n",
      "   - [Área Metropolitana de Lisboa] Sintra: 46.7 pontos | Extremos: 5 | Máx: 19.7°C | Mín: 13.4°C\n",
      "   - [Algarve] Faro: 46.6 pontos | Extremos: 2 | Máx: 21.1°C | Mín: 15.7°C\n",
      "   - [Área Metropolitana de Lisboa] Odivelas: 46.4 pontos | Extremos: 5 | Máx: 21.2°C | Mín: 14.0°C\n",
      "   - [Área Metropolitana de Lisboa] Loures: 46.4 pontos | Extremos: 5 | Máx: 21.2°C | Mín: 14.0°C\n",
      "   - [Área Metropolitana de Lisboa] Lisboa: 46.4 pontos | Extremos: 5 | Máx: 21.2°C | Mín: 14.0°C\n",
      "   - [Algarve] Olhao: 45.8 pontos | Extremos: 2 | Máx: 21.2°C | Mín: 15.6°C\n",
      "   - [Área Metropolitana de Lisboa] Seixal: 45.7 pontos | Extremos: 2 | Máx: 19.6°C | Mín: 13.1°C\n",
      "   - [Área Metropolitana de Lisboa] Mafra: 45.7 pontos | Extremos: 2 | Máx: 19.6°C | Mín: 13.1°C\n",
      "   - [Área Metropolitana de Lisboa] Barreiro: 45.6 pontos | Extremos: 3 | Máx: 21.6°C | Mín: 13.9°C\n",
      "   - [Área Metropolitana de Lisboa] Almada: 45.6 pontos | Extremos: 3 | Máx: 21.6°C | Mín: 13.9°C\n",
      "   - [Centro] Belmonte: 45.5 pontos | Extremos: 2 | Máx: 21.2°C | Mín: 15.6°C\n",
      "   - [Área Metropolitana de Lisboa] Moita: 44.8 pontos | Extremos: 4 | Máx: 21.8°C | Mín: 13.5°C\n",
      "   - [Área Metropolitana de Lisboa] Alcochete: 44.8 pontos | Extremos: 4 | Máx: 21.8°C | Mín: 13.5°C\n",
      "   - [Área Metropolitana de Lisboa] Montijo: 44.8 pontos | Extremos: 4 | Máx: 21.8°C | Mín: 13.5°C\n",
      "   - [Algarve] Portimao: 43.6 pontos | Extremos: 4 | Máx: 21.8°C | Mín: 14.3°C\n",
      "   - [Norte] Arouca: 43.4 pontos | Extremos: 5 | Máx: 21.7°C | Mín: 14.9°C\n",
      "   - [Algarve] Albufeira: 42.7 pontos | Extremos: 5 | Máx: 21.8°C | Mín: 14.7°C\n",
      "   - [Algarve] Tavira: 42.4 pontos | Extremos: 2 | Máx: 22.1°C | Mín: 14.8°C\n",
      "   - [Algarve] Castro Marim: 42.4 pontos | Extremos: 2 | Máx: 22.1°C | Mín: 14.8°C\n",
      "   - [Algarve] Alcoutim: 42.4 pontos | Extremos: 2 | Máx: 22.1°C | Mín: 14.8°C\n",
      "   - [Algarve] Vila Real de Santo Antonio: 42.4 pontos | Extremos: 2 | Máx: 22.1°C | Mín: 14.8°C\n",
      "   - [Alentejo] Sines: 41.6 pontos | Extremos: 2 | Máx: 18.8°C | Mín: 14.7°C\n",
      "   - [Alentejo] Grandola: 41.6 pontos | Extremos: 2 | Máx: 18.8°C | Mín: 14.7°C\n",
      "   - [Alentejo] Santiago do Cacem: 41.6 pontos | Extremos: 2 | Máx: 18.8°C | Mín: 14.7°C\n",
      "\n",
      "🔹 Aceitável:\n",
      "   - [Centro] Torres Vedras: 46.5 pontos | Extremos: 4 | Máx: 20.8°C | Mín: 12.5°C\n",
      "   - [Centro] Lourinha: 46.5 pontos | Extremos: 4 | Máx: 20.8°C | Mín: 12.5°C\n",
      "   - [Centro] Sobral de Monte Agraco: 46.5 pontos | Extremos: 4 | Máx: 20.8°C | Mín: 12.5°C\n",
      "   - [Região Autónoma dos Açores] Horta: 46.5 pontos | Extremos: 8 | Máx: 19.5°C | Mín: 17.6°C\n",
      "   - [Região Autónoma dos Açores] Ribeira Grande: 46.5 pontos | Extremos: 8 | Máx: 19.5°C | Mín: 17.6°C\n",
      "   - [Centro] Obidos: 46.1 pontos | Extremos: 2 | Máx: 19.5°C | Mín: 13.0°C\n",
      "   - [Alentejo] Rio Maior: 46.1 pontos | Extremos: 2 | Máx: 19.5°C | Mín: 13.0°C\n",
      "   - [Centro] Bombarral: 46.1 pontos | Extremos: 2 | Máx: 19.5°C | Mín: 13.0°C\n",
      "   - [Centro] Peniche: 46.1 pontos | Extremos: 2 | Máx: 19.5°C | Mín: 13.0°C\n",
      "   - [Centro] Cadaval: 46.1 pontos | Extremos: 2 | Máx: 19.5°C | Mín: 13.0°C\n",
      "   - [Centro] Caldas da Rainha: 46.1 pontos | Extremos: 2 | Máx: 19.5°C | Mín: 13.0°C\n",
      "   - [Região Autónoma dos Açores] Angra do Heroismo: 45.7 pontos | Extremos: 14 | Máx: 18.8°C | Mín: 15.9°C\n",
      "   - [Região Autónoma dos Açores] Sao Roque do Pico: 45.4 pontos | Extremos: 5 | Máx: 18.9°C | Mín: 16.6°C\n",
      "   - [Região Autónoma dos Açores] Lajes do Pico: 45.4 pontos | Extremos: 5 | Máx: 18.9°C | Mín: 16.6°C\n",
      "   - [Região Autónoma dos Açores] Velas: 45.4 pontos | Extremos: 5 | Máx: 18.9°C | Mín: 16.6°C\n",
      "   - [Algarve] Lagoa: 45.4 pontos | Extremos: 5 | Máx: 18.9°C | Mín: 16.6°C\n",
      "   - [Região Autónoma dos Açores] Santa Cruz da Graciosa: 45.4 pontos | Extremos: 5 | Máx: 18.9°C | Mín: 16.6°C\n",
      "   - [Área Metropolitana de Lisboa] Amadora: 45.3 pontos | Extremos: 10 | Máx: 21.3°C | Mín: 13.8°C\n",
      "   - [Região Autónoma dos Açores] Vila da Praia da Vitoria: 45.3 pontos | Extremos: 0 | Máx: 19.3°C | Mín: 16.1°C\n",
      "   - [Região Autónoma dos Açores] Santa Cruz das Flores: 45.1 pontos | Extremos: 3 | Máx: 19.5°C | Mín: 17.7°C\n",
      "   - [Região Autónoma dos Açores] Corvo: 45.1 pontos | Extremos: 3 | Máx: 19.5°C | Mín: 17.7°C\n",
      "   - [Região Autónoma dos Açores] Lajes das Flores: 45.1 pontos | Extremos: 3 | Máx: 19.5°C | Mín: 17.7°C\n",
      "   - [Centro] Nazare: 44.5 pontos | Extremos: 1 | Máx: 19.5°C | Mín: 12.7°C\n",
      "   - [Centro] Alcobaca: 44.5 pontos | Extremos: 1 | Máx: 19.5°C | Mín: 12.7°C\n",
      "   - [Centro] Porto de Mos: 44.5 pontos | Extremos: 1 | Máx: 19.5°C | Mín: 12.7°C\n",
      "   - [Centro] Aveiro: 44.3 pontos | Extremos: 5 | Máx: 19.4°C | Mín: 12.4°C\n",
      "   - [Centro] Murtosa: 44.3 pontos | Extremos: 5 | Máx: 19.4°C | Mín: 12.4°C\n",
      "   - [Centro] Ilhavo: 44.3 pontos | Extremos: 5 | Máx: 19.4°C | Mín: 12.4°C\n",
      "   - [Centro] Albergaria-a-Velha: 44.3 pontos | Extremos: 5 | Máx: 19.4°C | Mín: 12.4°C\n",
      "   - [Centro] Vagos: 44.3 pontos | Extremos: 5 | Máx: 19.4°C | Mín: 12.4°C\n",
      "   - [Centro] Leiria: 44.0 pontos | Extremos: 2 | Máx: 20.5°C | Mín: 11.8°C\n",
      "   - [Centro] Batalha: 44.0 pontos | Extremos: 2 | Máx: 20.5°C | Mín: 11.8°C\n",
      "   - [Centro] Marinha Grande: 43.9 pontos | Extremos: 2 | Máx: 20.5°C | Mín: 11.8°C\n",
      "   - [Norte] Espinho: 43.8 pontos | Extremos: 3 | Máx: 19.7°C | Mín: 12.3°C\n",
      "   - [Norte] Sao Joao da Madeira: 43.8 pontos | Extremos: 3 | Máx: 19.7°C | Mín: 12.3°C\n",
      "   - [Centro] Ovar: 43.8 pontos | Extremos: 3 | Máx: 19.7°C | Mín: 12.3°C\n",
      "   - [Centro] Figueira da Foz: 43.1 pontos | Extremos: 4 | Máx: 19.0°C | Mín: 13.1°C\n",
      "   - [Centro] Montemor-o-Velho: 43.1 pontos | Extremos: 4 | Máx: 19.0°C | Mín: 13.1°C\n",
      "   - [Norte] Vila Nova de Gaia: 42.9 pontos | Extremos: 5 | Máx: 18.9°C | Mín: 13.0°C\n",
      "   - [Norte] Porto: 42.9 pontos | Extremos: 5 | Máx: 18.9°C | Mín: 13.0°C\n",
      "   - [Região Autónoma dos Açores] Lagoa [R.A.A.]: 42.8 pontos | Extremos: 3 | Máx: 21.7°C | Mín: 14.3°C\n",
      "   - [Área Metropolitana de Lisboa] Palmela: 42.8 pontos | Extremos: 9 | Máx: 22.0°C | Mín: 13.4°C\n",
      "   - [Algarve] Silves: 42.8 pontos | Extremos: 3 | Máx: 21.7°C | Mín: 14.3°C\n",
      "   - [Área Metropolitana de Lisboa] Sesimbra: 42.8 pontos | Extremos: 9 | Máx: 22.0°C | Mín: 13.4°C\n",
      "   - [Área Metropolitana de Lisboa] Setubal: 42.8 pontos | Extremos: 9 | Máx: 22.0°C | Mín: 13.4°C\n",
      "   - [Alentejo] Alcacer do Sal: 42.8 pontos | Extremos: 9 | Máx: 22.0°C | Mín: 13.4°C\n",
      "   - [Área Metropolitana de Lisboa] Vila Franca de Xira: 42.4 pontos | Extremos: 10 | Máx: 21.9°C | Mín: 12.7°C\n",
      "   - [Alentejo] Salvaterra de Magos: 42.4 pontos | Extremos: 10 | Máx: 21.9°C | Mín: 12.7°C\n",
      "   - [Alentejo] Benavente: 42.4 pontos | Extremos: 10 | Máx: 21.9°C | Mín: 12.7°C\n",
      "   - [Alentejo] Azambuja: 42.4 pontos | Extremos: 10 | Máx: 21.9°C | Mín: 12.7°C\n",
      "   - [Centro] Vila de Rei: 42.4 pontos | Extremos: 10 | Máx: 21.9°C | Mín: 12.7°C\n",
      "   - [Centro] Alenquer: 42.4 pontos | Extremos: 10 | Máx: 21.9°C | Mín: 12.7°C\n",
      "   - [Centro] Arruda dos Vinhos: 42.4 pontos | Extremos: 10 | Máx: 21.9°C | Mín: 12.7°C\n",
      "   - [Centro] Cantanhede: 42.3 pontos | Extremos: 8 | Máx: 21.0°C | Mín: 11.6°C\n",
      "   - [Alentejo] Marvao: 42.3 pontos | Extremos: 8 | Máx: 21.0°C | Mín: 11.6°C\n",
      "   - [Centro] Mealhada: 42.3 pontos | Extremos: 8 | Máx: 21.0°C | Mín: 11.6°C\n",
      "   - [Centro] Mira: 42.3 pontos | Extremos: 8 | Máx: 21.0°C | Mín: 11.6°C\n",
      "   - [Norte] Valongo: 41.9 pontos | Extremos: 9 | Máx: 20.4°C | Mín: 12.5°C\n",
      "   - [Norte] Gondomar: 41.9 pontos | Extremos: 9 | Máx: 20.4°C | Mín: 12.5°C\n",
      "   - [Região Autónoma da Madeira] Camara de Lobos: 41.6 pontos | Extremos: 9 | Máx: 17.7°C | Mín: 11.4°C\n",
      "   - [Região Autónoma da Madeira] Funchal: 41.6 pontos | Extremos: 9 | Máx: 17.7°C | Mín: 11.4°C\n",
      "   - [Região Autónoma da Madeira] Santana: 41.6 pontos | Extremos: 9 | Máx: 17.7°C | Mín: 11.4°C\n",
      "   - [Região Autónoma da Madeira] Porto Moniz: 41.6 pontos | Extremos: 9 | Máx: 17.7°C | Mín: 11.4°C\n",
      "   - [Região Autónoma da Madeira] Calheta [R.A.M.]: 41.6 pontos | Extremos: 9 | Máx: 17.7°C | Mín: 11.4°C\n",
      "   - [Região Autónoma dos Açores] Calheta [R.A.A.]: 41.6 pontos | Extremos: 9 | Máx: 17.7°C | Mín: 11.4°C\n",
      "   - [Região Autónoma da Madeira] Ponta do Sol: 41.6 pontos | Extremos: 9 | Máx: 17.7°C | Mín: 11.4°C\n",
      "   - [Região Autónoma da Madeira] Ribeira Brava: 41.6 pontos | Extremos: 9 | Máx: 17.7°C | Mín: 11.4°C\n",
      "   - [Norte] Caminha: 41.2 pontos | Extremos: 8 | Máx: 18.6°C | Mín: 12.4°C\n",
      "   - [Norte] Moncao: 41.2 pontos | Extremos: 8 | Máx: 18.6°C | Mín: 12.4°C\n",
      "   - [Norte] Viana do Castelo: 41.2 pontos | Extremos: 8 | Máx: 18.6°C | Mín: 12.4°C\n",
      "   - [Alentejo] Gaviao: 41.2 pontos | Extremos: 5 | Máx: 22.3°C | Mín: 14.1°C\n",
      "   - [Centro] Pombal: 41.0 pontos | Extremos: 8 | Máx: 21.6°C | Mín: 11.0°C\n",
      "   - [Centro] Alvaiazere: 41.0 pontos | Extremos: 8 | Máx: 21.6°C | Mín: 11.0°C\n",
      "   - [Centro] Figueiro dos Vinhos: 41.0 pontos | Extremos: 8 | Máx: 21.6°C | Mín: 11.0°C\n",
      "   - [Centro] Soure: 41.0 pontos | Extremos: 8 | Máx: 21.6°C | Mín: 11.0°C\n",
      "   - [Alentejo] Alvito: 41.0 pontos | Extremos: 8 | Máx: 21.6°C | Mín: 11.0°C\n",
      "   - [Centro] Oliveira do Bairro: 40.8 pontos | Extremos: 14 | Máx: 21.6°C | Mín: 11.3°C\n",
      "   - [Centro] Agueda: 40.8 pontos | Extremos: 14 | Máx: 21.6°C | Mín: 11.3°C\n",
      "   - [Centro] Anadia: 40.8 pontos | Extremos: 14 | Máx: 21.6°C | Mín: 11.3°C\n",
      "   - [Região Autónoma da Madeira] Sao Vicente: 40.4 pontos | Extremos: 16 | Máx: 20.7°C | Mín: 11.6°C\n",
      "   - [Alentejo] Vidigueira: 40.4 pontos | Extremos: 16 | Máx: 20.7°C | Mín: 11.6°C\n",
      "   - [Norte] Vale de Cambra: 40.4 pontos | Extremos: 16 | Máx: 20.7°C | Mín: 11.6°C\n",
      "   - [Centro] Estarreja: 40.4 pontos | Extremos: 16 | Máx: 20.7°C | Mín: 11.6°C\n",
      "   - [Norte] Oliveira de Azemeis: 40.4 pontos | Extremos: 16 | Máx: 20.7°C | Mín: 11.6°C\n",
      "   - [Centro] Sever do Vouga: 40.4 pontos | Extremos: 16 | Máx: 20.7°C | Mín: 11.6°C\n",
      "   - [Norte] Vila do Conde: 40.3 pontos | Extremos: 5 | Máx: 18.3°C | Mín: 13.1°C\n",
      "   - [Alentejo] Mourao: 40.3 pontos | Extremos: 5 | Máx: 18.3°C | Mín: 13.1°C\n",
      "   - [Norte] Povoa de Varzim: 40.3 pontos | Extremos: 5 | Máx: 18.3°C | Mín: 13.1°C\n",
      "   - [Região Autónoma dos Açores] Vila do Porto: 40.3 pontos | Extremos: 5 | Máx: 18.3°C | Mín: 13.1°C\n",
      "   - [Centro] Sardoal: 40.3 pontos | Extremos: 5 | Máx: 18.2°C | Mín: 13.3°C\n",
      "   - [Norte] Maia: 40.3 pontos | Extremos: 5 | Máx: 18.2°C | Mín: 13.3°C\n",
      "   - [Norte] Matosinhos: 40.3 pontos | Extremos: 5 | Máx: 18.2°C | Mín: 13.3°C\n",
      "   - [Alentejo] Almodovar: 39.8 pontos | Extremos: 8 | Máx: 22.1°C | Mín: 14.1°C\n",
      "   - [Algarve] Loule: 39.8 pontos | Extremos: 8 | Máx: 22.1°C | Mín: 14.1°C\n",
      "   - [Centro] Ourem: 39.7 pontos | Extremos: 14 | Máx: 21.4°C | Mín: 11.2°C\n",
      "   - [Norte] Barcelos: 39.5 pontos | Extremos: 10 | Máx: 20.4°C | Mín: 11.4°C\n",
      "   - [Norte] Esposende: 39.5 pontos | Extremos: 10 | Máx: 20.4°C | Mín: 11.4°C\n",
      "   - [Algarve] Sao Bras de Alportel: 39.5 pontos | Extremos: 8 | Máx: 21.9°C | Mín: 14.0°C\n",
      "   - [Algarve] Vila do Bispo: 39.4 pontos | Extremos: 1 | Máx: 18.2°C | Mín: 16.2°C\n",
      "   - [Algarve] Aljezur: 39.3 pontos | Extremos: 13 | Máx: 21.2°C | Mín: 12.4°C\n",
      "   - [Algarve] Monchique: 39.3 pontos | Extremos: 13 | Máx: 21.2°C | Mín: 12.4°C\n",
      "   - [Alentejo] Odemira: 39.3 pontos | Extremos: 13 | Máx: 21.2°C | Mín: 12.4°C\n",
      "   - [Norte] Baiao: 39.3 pontos | Extremos: 13 | Máx: 21.2°C | Mín: 12.4°C\n",
      "   - [Alentejo] Ourique: 39.3 pontos | Extremos: 13 | Máx: 21.2°C | Mín: 12.4°C\n",
      "   - [Alentejo] Cartaxo: 39.3 pontos | Extremos: 24 | Máx: 22.9°C | Mín: 12.0°C\n",
      "   - [Alentejo] Coruche: 39.3 pontos | Extremos: 24 | Máx: 22.9°C | Mín: 12.0°C\n",
      "   - [Alentejo] Santarem: 39.3 pontos | Extremos: 24 | Máx: 22.9°C | Mín: 12.0°C\n",
      "   - [Alentejo] Almeirim: 39.3 pontos | Extremos: 24 | Máx: 22.9°C | Mín: 12.0°C\n",
      "   - [Alentejo] Alpiarca: 39.3 pontos | Extremos: 24 | Máx: 22.9°C | Mín: 12.0°C\n",
      "   - [Região Autónoma dos Açores] Povoacao: 39.0 pontos | Extremos: 11 | Máx: 20.7°C | Mín: 11.6°C\n",
      "   - [Norte] Vila Nova de Famalicao: 39.0 pontos | Extremos: 11 | Máx: 20.7°C | Mín: 11.6°C\n",
      "   - [Norte] Santo Tirso: 39.0 pontos | Extremos: 11 | Máx: 20.7°C | Mín: 11.6°C\n",
      "   - [Centro] Miranda do Corvo: 38.8 pontos | Extremos: 16 | Máx: 22.0°C | Mín: 11.0°C\n",
      "   - [Centro] Coimbra: 38.8 pontos | Extremos: 16 | Máx: 22.0°C | Mín: 11.0°C\n",
      "   - [Centro] Lousa: 38.8 pontos | Extremos: 16 | Máx: 22.0°C | Mín: 11.0°C\n",
      "   - [Centro] Castanheira de Pera: 38.8 pontos | Extremos: 16 | Máx: 22.0°C | Mín: 11.0°C\n",
      "   - [Centro] Arganil: 38.8 pontos | Extremos: 16 | Máx: 22.0°C | Mín: 11.0°C\n",
      "   - [Centro] Penela: 38.8 pontos | Extremos: 16 | Máx: 22.0°C | Mín: 11.0°C\n",
      "   - [Centro] Penacova: 38.8 pontos | Extremos: 16 | Máx: 22.0°C | Mín: 11.0°C\n",
      "   - [Centro] Pedrogao Grande: 38.8 pontos | Extremos: 16 | Máx: 22.0°C | Mín: 11.0°C\n",
      "   - [Centro] Pampilhosa da Serra: 38.8 pontos | Extremos: 16 | Máx: 22.0°C | Mín: 11.0°C\n",
      "   - [Norte] Vila Flor: 38.8 pontos | Extremos: 16 | Máx: 22.0°C | Mín: 11.0°C\n",
      "   - [Centro] Gois: 38.8 pontos | Extremos: 16 | Máx: 22.0°C | Mín: 11.0°C\n",
      "   - [Centro] Condeixa-a-Nova: 38.8 pontos | Extremos: 16 | Máx: 22.0°C | Mín: 11.0°C\n",
      "   - [Centro] Alcanena: 37.9 pontos | Extremos: 27 | Máx: 22.9°C | Mín: 11.7°C\n",
      "   - [Centro] Vila Nova da Barquinha: 37.9 pontos | Extremos: 27 | Máx: 22.9°C | Mín: 11.7°C\n",
      "   - [Centro] Entroncamento: 37.9 pontos | Extremos: 27 | Máx: 22.9°C | Mín: 11.7°C\n",
      "   - [Alentejo] Golega: 37.9 pontos | Extremos: 27 | Máx: 22.9°C | Mín: 11.7°C\n",
      "   - [Centro] Torres Novas: 37.9 pontos | Extremos: 27 | Máx: 22.9°C | Mín: 11.7°C\n",
      "   - [Norte] Valenca: 37.9 pontos | Extremos: 11 | Máx: 18.7°C | Mín: 11.3°C\n",
      "   - [Norte] Melgaco: 37.8 pontos | Extremos: 11 | Máx: 18.7°C | Mín: 11.3°C\n",
      "   - [Região Autónoma dos Açores] Madalena: 37.8 pontos | Extremos: 15 | Máx: 20.6°C | Mín: 11.3°C\n",
      "   - [Norte] Penafiel: 37.8 pontos | Extremos: 15 | Máx: 20.6°C | Mín: 11.3°C\n",
      "   - [Norte] Paredes: 37.8 pontos | Extremos: 15 | Máx: 20.6°C | Mín: 11.3°C\n",
      "   - [Norte] Pacos de Ferreira: 37.8 pontos | Extremos: 15 | Máx: 20.6°C | Mín: 11.3°C\n",
      "   - [Norte] Lousada: 37.8 pontos | Extremos: 15 | Máx: 20.6°C | Mín: 11.3°C\n",
      "   - [Centro] Tomar: 37.7 pontos | Extremos: 24 | Máx: 22.6°C | Mín: 11.8°C\n",
      "   - [Centro] Serta: 37.7 pontos | Extremos: 24 | Máx: 22.6°C | Mín: 11.8°C\n",
      "   - [Centro] Ferreira do Zezere: 37.7 pontos | Extremos: 24 | Máx: 22.6°C | Mín: 11.8°C\n",
      "\n",
      "🔹 Marginal:\n",
      "   - [Norte] Ponte de Lima: 37.1 pontos | Extremos: 17 | Máx: 20.7°C | Mín: 11.0°C\n",
      "   - [Norte] Ponte da Barca: 37.1 pontos | Extremos: 17 | Máx: 20.7°C | Mín: 11.0°C\n",
      "   - [Norte] Arcos de Valdevez: 37.1 pontos | Extremos: 17 | Máx: 20.7°C | Mín: 11.0°C\n",
      "   - [Norte] Paredes de Coura: 37.1 pontos | Extremos: 17 | Máx: 20.7°C | Mín: 11.0°C\n",
      "   - [Norte] Vila Nova de Cerveira: 37.1 pontos | Extremos: 17 | Máx: 20.7°C | Mín: 11.0°C\n",
      "   - [Norte] Braga: 36.8 pontos | Extremos: 17 | Máx: 20.8°C | Mín: 10.6°C\n",
      "   - [Norte] Povoa de Lanhoso: 36.8 pontos | Extremos: 17 | Máx: 20.8°C | Mín: 10.6°C\n",
      "   - [Centro] Oleiros: 36.8 pontos | Extremos: 17 | Máx: 20.8°C | Mín: 10.6°C\n",
      "   - [Alentejo] Ferreira do Alentejo: 36.6 pontos | Extremos: 47 | Máx: 23.8°C | Mín: 12.8°C\n",
      "   - [Alentejo] Beja: 36.6 pontos | Extremos: 47 | Máx: 23.8°C | Mín: 12.8°C\n",
      "   - [Alentejo] Castro Verde: 36.6 pontos | Extremos: 47 | Máx: 23.8°C | Mín: 12.8°C\n",
      "   - [Alentejo] Serpa: 36.6 pontos | Extremos: 47 | Máx: 23.8°C | Mín: 12.8°C\n",
      "   - [Alentejo] Cuba: 36.6 pontos | Extremos: 47 | Máx: 23.8°C | Mín: 12.8°C\n",
      "   - [Alentejo] Mertola: 36.6 pontos | Extremos: 47 | Máx: 23.8°C | Mín: 12.8°C\n",
      "   - [Alentejo] Aljustrel: 36.6 pontos | Extremos: 47 | Máx: 23.8°C | Mín: 12.8°C\n",
      "   - [Alentejo] Moura: 36.6 pontos | Extremos: 47 | Máx: 23.8°C | Mín: 12.8°C\n",
      "   - [Alentejo] Ponte de Sor: 36.5 pontos | Extremos: 34 | Máx: 23.2°C | Mín: 11.4°C\n",
      "   - [Centro] Macao: 36.5 pontos | Extremos: 34 | Máx: 23.2°C | Mín: 11.4°C\n",
      "   - [Centro] Ansiao: 36.5 pontos | Extremos: 34 | Máx: 23.2°C | Mín: 11.4°C\n",
      "   - [Centro] Abrantes: 36.5 pontos | Extremos: 34 | Máx: 23.2°C | Mín: 11.4°C\n",
      "   - [Centro] Constancia: 36.5 pontos | Extremos: 34 | Máx: 23.2°C | Mín: 11.4°C\n",
      "   - [Alentejo] Vendas Novas: 36.3 pontos | Extremos: 36 | Máx: 23.3°C | Mín: 11.5°C\n",
      "   - [Alentejo] Montemor-o-Novo: 36.3 pontos | Extremos: 36 | Máx: 23.3°C | Mín: 11.5°C\n",
      "   - [Alentejo] Arraiolos: 36.3 pontos | Extremos: 36 | Máx: 23.3°C | Mín: 11.5°C\n",
      "   - [Norte] Vizela: 36.3 pontos | Extremos: 17 | Máx: 20.9°C | Mín: 10.6°C\n",
      "   - [Norte] Guimaraes: 36.3 pontos | Extremos: 17 | Máx: 20.9°C | Mín: 10.6°C\n",
      "   - [Norte] Mesao Frio: 36.3 pontos | Extremos: 17 | Máx: 20.9°C | Mín: 10.6°C\n",
      "   - [Alentejo] Elvas: 36.1 pontos | Extremos: 68 | Máx: 24.3°C | Mín: 12.4°C\n",
      "   - [Alentejo] Campo Maior: 36.1 pontos | Extremos: 68 | Máx: 24.3°C | Mín: 12.4°C\n",
      "   - [Alentejo] Evora: 35.7 pontos | Extremos: 43 | Máx: 23.2°C | Mín: 11.8°C\n",
      "   - [Alentejo] Estremoz: 35.7 pontos | Extremos: 43 | Máx: 23.2°C | Mín: 11.8°C\n",
      "   - [Alentejo] Portel: 35.7 pontos | Extremos: 43 | Máx: 23.2°C | Mín: 11.8°C\n",
      "   - [Alentejo] Sousel: 35.7 pontos | Extremos: 43 | Máx: 23.2°C | Mín: 11.8°C\n",
      "   - [Alentejo] Viana do Alentejo: 35.7 pontos | Extremos: 43 | Máx: 23.2°C | Mín: 11.8°C\n",
      "   - [Alentejo] Alandroal: 35.7 pontos | Extremos: 43 | Máx: 23.2°C | Mín: 11.8°C\n",
      "   - [Alentejo] Vila Vicosa: 35.7 pontos | Extremos: 43 | Máx: 23.2°C | Mín: 11.8°C\n",
      "   - [Alentejo] Reguengos de Monsaraz: 35.7 pontos | Extremos: 43 | Máx: 23.2°C | Mín: 11.8°C\n",
      "   - [Alentejo] Redondo: 35.7 pontos | Extremos: 43 | Máx: 23.2°C | Mín: 11.8°C\n",
      "   - [Alentejo] Borba: 35.7 pontos | Extremos: 43 | Máx: 23.2°C | Mín: 11.8°C\n",
      "   - [Norte] Tarouca: 35.1 pontos | Extremos: 13 | Máx: 19.8°C | Mín: 10.7°C\n",
      "   - [Norte] Moimenta da Beira: 35.1 pontos | Extremos: 13 | Máx: 19.8°C | Mín: 10.7°C\n",
      "   - [Norte] Armamar: 35.1 pontos | Extremos: 13 | Máx: 19.8°C | Mín: 10.7°C\n",
      "   - [Norte] Alijo: 35.1 pontos | Extremos: 13 | Máx: 19.8°C | Mín: 10.7°C\n",
      "   - [Centro] Vila Nova de Poiares: 35.1 pontos | Extremos: 13 | Máx: 19.8°C | Mín: 10.7°C\n",
      "   - [Norte] Peso da Regua: 35.1 pontos | Extremos: 13 | Máx: 19.8°C | Mín: 10.7°C\n",
      "   - [Norte] Ribeira de Pena: 35.1 pontos | Extremos: 13 | Máx: 19.8°C | Mín: 10.7°C\n",
      "   - [Norte] Santa Marta de Penaguiao: 35.1 pontos | Extremos: 13 | Máx: 19.8°C | Mín: 10.7°C\n",
      "   - [Norte] Tabuaco: 35.1 pontos | Extremos: 13 | Máx: 19.8°C | Mín: 10.7°C\n",
      "   - [Norte] Lamego: 35.1 pontos | Extremos: 13 | Máx: 19.8°C | Mín: 10.7°C\n",
      "   - [Norte] Vila Real: 35.1 pontos | Extremos: 13 | Máx: 19.8°C | Mín: 10.7°C\n",
      "   - [Norte] Vila Pouca de Aguiar: 35.1 pontos | Extremos: 13 | Máx: 19.8°C | Mín: 10.7°C\n",
      "   - [Norte] Vila Nova de Foz Coa: 35.1 pontos | Extremos: 13 | Máx: 19.8°C | Mín: 10.7°C\n",
      "   - [Norte] Torre de Moncorvo: 35.1 pontos | Extremos: 13 | Máx: 19.8°C | Mín: 10.7°C\n",
      "   - [Norte] Murca: 35.1 pontos | Extremos: 13 | Máx: 19.8°C | Mín: 10.7°C\n",
      "   - [Norte] Penedono: 35.1 pontos | Extremos: 13 | Máx: 19.8°C | Mín: 10.7°C\n",
      "   - [Norte] Sao Joao da Pesqueira: 35.1 pontos | Extremos: 13 | Máx: 19.8°C | Mín: 10.7°C\n",
      "   - [Norte] Carrazeda de Ansiaes: 35.1 pontos | Extremos: 13 | Máx: 19.8°C | Mín: 10.7°C\n",
      "   - [Centro] Mortagua: 35.0 pontos | Extremos: 19 | Máx: 19.5°C | Mín: 10.1°C\n",
      "   - [Centro] Oliveira de Frades: 35.0 pontos | Extremos: 19 | Máx: 19.5°C | Mín: 10.1°C\n",
      "   - [Centro] Tabua: 35.0 pontos | Extremos: 19 | Máx: 19.5°C | Mín: 10.1°C\n",
      "   - [Norte] Sabrosa: 35.0 pontos | Extremos: 19 | Máx: 19.5°C | Mín: 10.1°C\n",
      "   - [Centro] Vouzela: 35.0 pontos | Extremos: 19 | Máx: 19.5°C | Mín: 10.1°C\n",
      "   - [Centro] Santa Comba Dao: 35.0 pontos | Extremos: 19 | Máx: 19.5°C | Mín: 10.1°C\n",
      "   - [Centro] Tondela: 35.0 pontos | Extremos: 19 | Máx: 19.5°C | Mín: 10.1°C\n",
      "   - [Alentejo] Barrancos: 34.8 pontos | Extremos: 60 | Máx: 23.8°C | Mín: 11.6°C\n",
      "   - [Norte] Celorico de Basto: 34.8 pontos | Extremos: 28 | Máx: 21.6°C | Mín: 10.2°C\n",
      "   - [Norte] Amarante: 34.8 pontos | Extremos: 28 | Máx: 21.6°C | Mín: 10.2°C\n",
      "   - [Norte] Amares: 34.6 pontos | Extremos: 25 | Máx: 20.7°C | Mín: 10.6°C\n",
      "   - [Norte] Vila Verde: 34.6 pontos | Extremos: 25 | Máx: 20.7°C | Mín: 10.6°C\n",
      "   - [Norte] Terras de Bouro: 34.6 pontos | Extremos: 25 | Máx: 20.7°C | Mín: 10.6°C\n",
      "   - [Norte] Marco de Canaveses: 34.4 pontos | Extremos: 21 | Máx: 20.4°C | Mín: 10.2°C\n",
      "   - [Norte] Resende: 34.4 pontos | Extremos: 21 | Máx: 20.4°C | Mín: 10.2°C\n",
      "   - [Centro] Trancoso: 34.4 pontos | Extremos: 21 | Máx: 20.4°C | Mín: 10.2°C\n",
      "   - [Norte] Cinfaes: 34.4 pontos | Extremos: 21 | Máx: 20.4°C | Mín: 10.2°C\n",
      "   - [Norte] Castelo de Paiva: 34.4 pontos | Extremos: 21 | Máx: 20.4°C | Mín: 10.2°C\n",
      "   - [Norte] Felgueiras: 34.2 pontos | Extremos: 25 | Máx: 19.9°C | Mín: 9.8°C\n",
      "   - [Norte] Trofa: 34.2 pontos | Extremos: 25 | Máx: 19.9°C | Mín: 9.8°C\n",
      "   - [Norte] Mondim de Basto: 34.2 pontos | Extremos: 25 | Máx: 19.9°C | Mín: 9.8°C\n",
      "   - [Norte] Fafe: 34.2 pontos | Extremos: 25 | Máx: 19.9°C | Mín: 9.8°C\n",
      "   - [Norte] Cabeceiras de Basto: 34.2 pontos | Extremos: 25 | Máx: 19.9°C | Mín: 9.8°C\n",
      "   - [Norte] Vieira do Minho: 34.2 pontos | Extremos: 25 | Máx: 19.9°C | Mín: 9.8°C\n",
      "   - [Centro] Proenca-a-Nova: 33.7 pontos | Extremos: 50 | Máx: 22.4°C | Mín: 11.2°C\n",
      "   - [Centro] Idanha-a-Nova: 33.7 pontos | Extremos: 50 | Máx: 22.4°C | Mín: 11.2°C\n",
      "   - [Centro] Castelo Branco: 33.7 pontos | Extremos: 50 | Máx: 22.4°C | Mín: 11.2°C\n",
      "   - [Centro] Vila Velha de Rodao: 33.7 pontos | Extremos: 50 | Máx: 22.4°C | Mín: 11.2°C\n",
      "   - [Alentejo] Portalegre: 33.6 pontos | Extremos: 30 | Máx: 21.2°C | Mín: 11.7°C\n",
      "   - [Alentejo] Crato: 33.6 pontos | Extremos: 30 | Máx: 21.2°C | Mín: 11.7°C\n",
      "   - [Alentejo] Castelo de Vide: 33.6 pontos | Extremos: 30 | Máx: 21.2°C | Mín: 11.7°C\n",
      "   - [Alentejo] Monforte: 33.6 pontos | Extremos: 30 | Máx: 21.2°C | Mín: 11.7°C\n",
      "   - [Alentejo] Nisa: 33.6 pontos | Extremos: 30 | Máx: 21.2°C | Mín: 11.7°C\n",
      "   - [Alentejo] Fronteira: 33.6 pontos | Extremos: 30 | Máx: 21.2°C | Mín: 11.7°C\n",
      "   - [Alentejo] Alter do Chao: 33.6 pontos | Extremos: 30 | Máx: 21.2°C | Mín: 11.7°C\n",
      "   - [Alentejo] Arronches: 33.6 pontos | Extremos: 30 | Máx: 21.2°C | Mín: 11.7°C\n",
      "   - [Centro] Nelas: 33.4 pontos | Extremos: 21 | Máx: 20.5°C | Mín: 9.9°C\n",
      "   - [Centro] Carregal do Sal: 33.4 pontos | Extremos: 21 | Máx: 20.5°C | Mín: 9.9°C\n",
      "   - [Centro] Viseu: 33.4 pontos | Extremos: 21 | Máx: 20.5°C | Mín: 9.9°C\n",
      "   - [Norte] Sernancelhe: 33.4 pontos | Extremos: 21 | Máx: 20.5°C | Mín: 9.9°C\n",
      "   - [Centro] Satao: 33.4 pontos | Extremos: 21 | Máx: 20.5°C | Mín: 9.9°C\n",
      "   - [Centro] Mangualde: 33.4 pontos | Extremos: 21 | Máx: 20.5°C | Mín: 9.9°C\n",
      "   - [Centro] Aguiar da Beira: 33.4 pontos | Extremos: 21 | Máx: 20.5°C | Mín: 9.9°C\n",
      "   - [Centro] Castro Daire: 33.4 pontos | Extremos: 21 | Máx: 20.5°C | Mín: 9.9°C\n",
      "   - [Centro] Sao Pedro do Sul: 33.4 pontos | Extremos: 21 | Máx: 20.5°C | Mín: 9.9°C\n",
      "   - [Centro] Vila Nova de Paiva: 33.4 pontos | Extremos: 21 | Máx: 20.5°C | Mín: 9.9°C\n",
      "   - [Centro] Penalva do Castelo: 33.4 pontos | Extremos: 21 | Máx: 20.5°C | Mín: 9.9°C\n",
      "   - [Norte] Miranda do Douro: 33.4 pontos | Extremos: 41 | Máx: 19.5°C | Mín: 8.9°C\n",
      "   - [Norte] Boticas: 33.4 pontos | Extremos: 49 | Máx: 20.7°C | Mín: 8.5°C\n",
      "   - [Norte] Montalegre: 33.4 pontos | Extremos: 49 | Máx: 20.7°C | Mín: 8.5°C\n",
      "   - [Norte] Chaves: 33.3 pontos | Extremos: 49 | Máx: 20.7°C | Mín: 8.5°C\n",
      "   - [Norte] Mirandela: 33.3 pontos | Extremos: 49 | Máx: 20.7°C | Mín: 8.5°C\n",
      "   - [Norte] Valpacos: 33.3 pontos | Extremos: 49 | Máx: 20.7°C | Mín: 8.5°C\n",
      "   - [Norte] Alfandega da Fe: 33.3 pontos | Extremos: 41 | Máx: 19.5°C | Mín: 8.9°C\n",
      "   - [Norte] Freixo de Espada a Cinta: 33.3 pontos | Extremos: 41 | Máx: 19.5°C | Mín: 8.9°C\n",
      "   - [Norte] Vimioso: 33.3 pontos | Extremos: 41 | Máx: 19.5°C | Mín: 8.9°C\n",
      "   - [Alentejo] Mora: 33.3 pontos | Extremos: 41 | Máx: 19.5°C | Mín: 8.9°C\n",
      "   - [Norte] Mogadouro: 33.3 pontos | Extremos: 41 | Máx: 19.5°C | Mín: 8.9°C\n",
      "   - [Norte] Macedo de Cavaleiros: 32.5 pontos | Extremos: 43 | Máx: 19.4°C | Mín: 7.8°C\n",
      "   - [Norte] Braganca: 32.5 pontos | Extremos: 43 | Máx: 19.4°C | Mín: 7.8°C\n",
      "   - [Norte] Vinhais: 32.5 pontos | Extremos: 43 | Máx: 19.4°C | Mín: 7.8°C\n",
      "   - [Centro] Celorico da Beira: 31.8 pontos | Extremos: 36 | Máx: 18.1°C | Mín: 8.2°C\n",
      "   - [Centro] Meda: 31.8 pontos | Extremos: 36 | Máx: 18.1°C | Mín: 8.2°C\n",
      "   - [Centro] Guarda: 31.8 pontos | Extremos: 36 | Máx: 18.1°C | Mín: 8.2°C\n",
      "   - [Centro] Almeida: 31.8 pontos | Extremos: 36 | Máx: 18.1°C | Mín: 8.2°C\n",
      "   - [Centro] Pinhel: 31.8 pontos | Extremos: 36 | Máx: 18.1°C | Mín: 8.2°C\n",
      "   - [Centro] Sabugal: 31.8 pontos | Extremos: 36 | Máx: 18.1°C | Mín: 8.2°C\n",
      "   - [Centro] Figueira de Castelo Rodrigo: 31.8 pontos | Extremos: 36 | Máx: 18.1°C | Mín: 8.2°C\n",
      "   - [Centro] Penamacor: 30.9 pontos | Extremos: 44 | Máx: 20.5°C | Mín: 9.2°C\n",
      "   - [Centro] Fundao: 30.9 pontos | Extremos: 44 | Máx: 20.5°C | Mín: 9.2°C\n",
      "   - [Centro] Covilha: 30.9 pontos | Extremos: 44 | Máx: 20.5°C | Mín: 9.2°C\n",
      "   - [Alentejo] Chamusca: 30.7 pontos | Extremos: 46 | Máx: 17.5°C | Mín: 7.5°C\n",
      "   - [Norte] Santa Maria da Feira: 30.7 pontos | Extremos: 46 | Máx: 17.5°C | Mín: 7.5°C\n",
      "   - [Centro] Oliveira do Hospital: 30.7 pontos | Extremos: 46 | Máx: 17.5°C | Mín: 7.5°C\n",
      "   - [Centro] Gouveia: 30.7 pontos | Extremos: 46 | Máx: 17.5°C | Mín: 7.5°C\n",
      "   - [Centro] Seia: 30.7 pontos | Extremos: 46 | Máx: 17.5°C | Mín: 7.5°C\n",
      "   - [Centro] Manteigas: 30.7 pontos | Extremos: 46 | Máx: 17.5°C | Mín: 7.5°C\n",
      "   - [Centro] Fornos de Algodres: 30.7 pontos | Extremos: 46 | Máx: 17.5°C | Mín: 7.5°C\n",
      "\n"
     ]
    }
   ],
   "source": [
    "cidades_ranking(df_resumo_geral,score_tipe='media_score_continuous') # media_score_continuous | media_score"
   ]
  },
  {
   "cell_type": "code",
   "execution_count": 165,
   "id": "d373bc9f",
   "metadata": {},
   "outputs": [
    {
     "name": "stdout",
     "output_type": "stream",
     "text": [
      "🏆 Ranking das cidades pelo TCI Anual 🏆\n",
      "\n",
      "01. ('Região Autónoma da Madeira', 'Machico') -  | TCI Anual: 50.2\n",
      "02. ('Região Autónoma da Madeira', 'Santa Cruz') -  | TCI Anual: 50.2\n",
      "03. ('Algarve', 'Lagos') -  | TCI Anual: 49.5\n",
      "04. ('Algarve', 'Portimao') -  | TCI Anual: 49.4\n",
      "05. ('Região Autónoma da Madeira', 'Porto Santo') -  | TCI Anual: 49.0\n",
      "06. ('Algarve', 'Olhao') -  | TCI Anual: 48.9\n",
      "07. ('Centro', 'Belmonte') -  | TCI Anual: 48.8\n",
      "08. ('Centro', 'Batalha') -  | TCI Anual: 48.8\n",
      "09. ('Centro', 'Leiria') -  | TCI Anual: 48.8\n",
      "10. ('Centro', 'Marinha Grande') -  | TCI Anual: 48.8\n",
      "11. ('Algarve', 'Faro') -  | TCI Anual: 48.8\n",
      "12. ('Norte', 'Espinho') -  | TCI Anual: 48.3\n",
      "13. ('Centro', 'Ovar') -  | TCI Anual: 48.3\n",
      "14. ('Norte', 'Sao Joao da Madeira') -  | TCI Anual: 48.3\n",
      "15. ('Algarve', 'Alcoutim') -  | TCI Anual: 48.2\n",
      "16. ('Algarve', 'Vila Real de Santo Antonio') -  | TCI Anual: 48.2\n",
      "17. ('Norte', 'Arouca') -  | TCI Anual: 48.2\n",
      "18. ('Algarve', 'Castro Marim') -  | TCI Anual: 48.1\n",
      "19. ('Alentejo', 'Avis') -  | TCI Anual: 48.1\n",
      "20. ('Algarve', 'Tavira') -  | TCI Anual: 48.1\n",
      "21. ('Alentejo', 'Gaviao') -  | TCI Anual: 48.1\n",
      "22. ('Centro', 'Lourinha') -  | TCI Anual: 48.0\n",
      "23. ('Centro', 'Sobral de Monte Agraco') -  | TCI Anual: 48.0\n",
      "24. ('Centro', 'Torres Vedras') -  | TCI Anual: 48.0\n",
      "25. ('Centro', 'Agueda') -  | TCI Anual: 47.9\n",
      "26. ('Centro', 'Oliveira do Bairro') -  | TCI Anual: 47.9\n",
      "27. ('Centro', 'Anadia') -  | TCI Anual: 47.9\n",
      "28. ('Centro', 'Vagos') -  | TCI Anual: 47.8\n",
      "29. ('Centro', 'Murtosa') -  | TCI Anual: 47.8\n",
      "30. ('Centro', 'Ilhavo') -  | TCI Anual: 47.8\n",
      "31. ('Centro', 'Aveiro') -  | TCI Anual: 47.8\n",
      "32. ('Centro', 'Albergaria-a-Velha') -  | TCI Anual: 47.8\n",
      "33. ('Área Metropolitana de Lisboa', 'Alcochete') -  | TCI Anual: 47.5\n",
      "34. ('Área Metropolitana de Lisboa', 'Montijo') -  | TCI Anual: 47.5\n",
      "35. ('Área Metropolitana de Lisboa', 'Moita') -  | TCI Anual: 47.5\n",
      "36. ('Brasil', 'sao paulo') -  | TCI Anual: 47.4\n",
      "37. ('Área Metropolitana de Lisboa', 'Barreiro') -  | TCI Anual: 47.4\n",
      "38. ('Área Metropolitana de Lisboa', 'Almada') -  | TCI Anual: 47.4\n",
      "39. ('Área Metropolitana de Lisboa', 'Oeiras') -  | TCI Anual: 47.3\n",
      "40. ('Norte', 'Valongo') -  | TCI Anual: 47.2\n",
      "41. ('Norte', 'Gondomar') -  | TCI Anual: 47.2\n",
      "42. ('Centro', 'Porto de Mos') -  | TCI Anual: 47.2\n",
      "43. ('Centro', 'Alcobaca') -  | TCI Anual: 47.2\n",
      "44. ('Centro', 'Nazare') -  | TCI Anual: 47.2\n",
      "45. ('Algarve', 'Albufeira') -  | TCI Anual: 47.0\n",
      "46. ('Algarve', 'Silves') -  | TCI Anual: 47.0\n",
      "47. ('Região Autónoma dos Açores', 'Lagoa [R.A.A.]') -  | TCI Anual: 47.0\n",
      "48. ('Norte', 'Barcelos') -  | TCI Anual: 46.9\n",
      "49. ('Norte', 'Esposende') -  | TCI Anual: 46.9\n",
      "50. ('Alentejo', 'Alcacer do Sal') -  | TCI Anual: 46.8\n",
      "51. ('Área Metropolitana de Lisboa', 'Setubal') -  | TCI Anual: 46.8\n",
      "52. ('Área Metropolitana de Lisboa', 'Palmela') -  | TCI Anual: 46.8\n",
      "53. ('Área Metropolitana de Lisboa', 'Sesimbra') -  | TCI Anual: 46.8\n",
      "54. ('Centro', 'Figueiro dos Vinhos') -  | TCI Anual: 46.5\n",
      "55. ('Alentejo', 'Alvito') -  | TCI Anual: 46.5\n",
      "56. ('Centro', 'Pombal') -  | TCI Anual: 46.5\n",
      "57. ('Centro', 'Alvaiazere') -  | TCI Anual: 46.5\n",
      "58. ('Centro', 'Soure') -  | TCI Anual: 46.5\n",
      "59. ('Área Metropolitana de Lisboa', 'Sintra') -  | TCI Anual: 46.4\n",
      "60. ('Norte', 'Porto') -  | TCI Anual: 46.3\n",
      "61. ('Centro', 'Montemor-o-Velho') -  | TCI Anual: 46.3\n",
      "62. ('Norte', 'Vila Nova de Gaia') -  | TCI Anual: 46.3\n",
      "63. ('Centro', 'Figueira da Foz') -  | TCI Anual: 46.3\n",
      "64. ('Alentejo', 'Santarem') -  | TCI Anual: 46.2\n",
      "65. ('Alentejo', 'Coruche') -  | TCI Anual: 46.2\n",
      "66. ('Alentejo', 'Cartaxo') -  | TCI Anual: 46.2\n",
      "67. ('Alentejo', 'Alpiarca') -  | TCI Anual: 46.2\n",
      "68. ('Alentejo', 'Almeirim') -  | TCI Anual: 46.2\n",
      "69. ('Região Autónoma dos Açores', 'Vila Franca do Campo') -  | TCI Anual: 46.1\n",
      "70. ('Região Autónoma dos Açores', 'Nordeste') -  | TCI Anual: 46.1\n",
      "71. ('Região Autónoma dos Açores', 'Ponta Delgada') -  | TCI Anual: 46.1\n",
      "72. ('Centro', 'Cantanhede') -  | TCI Anual: 46.0\n",
      "73. ('Alentejo', 'Marvao') -  | TCI Anual: 46.0\n",
      "74. ('Centro', 'Mira') -  | TCI Anual: 46.0\n",
      "75. ('Centro', 'Mealhada') -  | TCI Anual: 46.0\n",
      "76. ('Área Metropolitana de Lisboa', 'Odivelas') -  | TCI Anual: 46.0\n",
      "77. ('Área Metropolitana de Lisboa', 'Loures') -  | TCI Anual: 46.0\n",
      "78. ('Área Metropolitana de Lisboa', 'Lisboa') -  | TCI Anual: 46.0\n",
      "79. ('Área Metropolitana de Lisboa', 'Seixal') -  | TCI Anual: 45.6\n",
      "80. ('Área Metropolitana de Lisboa', 'Mafra') -  | TCI Anual: 45.6\n",
      "81. ('Centro', 'Cadaval') -  | TCI Anual: 45.5\n",
      "82. ('Centro', 'Caldas da Rainha') -  | TCI Anual: 45.5\n",
      "83. ('Centro', 'Bombarral') -  | TCI Anual: 45.5\n",
      "84. ('Norte', 'Caminha') -  | TCI Anual: 45.5\n",
      "85. ('Centro', 'Peniche') -  | TCI Anual: 45.5\n",
      "86. ('Norte', 'Moncao') -  | TCI Anual: 45.5\n",
      "87. ('Alentejo', 'Rio Maior') -  | TCI Anual: 45.5\n",
      "88. ('Centro', 'Obidos') -  | TCI Anual: 45.5\n",
      "89. ('Norte', 'Viana do Castelo') -  | TCI Anual: 45.5\n",
      "90. ('Norte', 'Valenca') -  | TCI Anual: 45.4\n",
      "91. ('Norte', 'Melgaco') -  | TCI Anual: 45.4\n",
      "92. ('Área Metropolitana de Lisboa', 'Amadora') -  | TCI Anual: 45.4\n",
      "93. ('Centro', 'Sever do Vouga') -  | TCI Anual: 45.3\n",
      "94. ('Alentejo', 'Vidigueira') -  | TCI Anual: 45.3\n",
      "95. ('Região Autónoma da Madeira', 'Sao Vicente') -  | TCI Anual: 45.3\n",
      "96. ('Norte', 'Vale de Cambra') -  | TCI Anual: 45.3\n",
      "97. ('Norte', 'Oliveira de Azemeis') -  | TCI Anual: 45.3\n",
      "98. ('Centro', 'Estarreja') -  | TCI Anual: 45.3\n",
      "99. ('Centro', 'Vila de Rei') -  | TCI Anual: 45.3\n",
      "100. ('Área Metropolitana de Lisboa', 'Vila Franca de Xira') -  | TCI Anual: 45.3\n",
      "101. ('Alentejo', 'Salvaterra de Magos') -  | TCI Anual: 45.3\n",
      "102. ('Centro', 'Alenquer') -  | TCI Anual: 45.3\n",
      "103. ('Alentejo', 'Azambuja') -  | TCI Anual: 45.3\n",
      "104. ('Centro', 'Arruda dos Vinhos') -  | TCI Anual: 45.3\n",
      "105. ('Alentejo', 'Benavente') -  | TCI Anual: 45.3\n",
      "106. ('Alentejo', 'Sines') -  | TCI Anual: 45.3\n",
      "107. ('Alentejo', 'Grandola') -  | TCI Anual: 45.3\n",
      "108. ('Alentejo', 'Santiago do Cacem') -  | TCI Anual: 45.3\n",
      "109. ('Centro', 'Ourem') -  | TCI Anual: 45.2\n",
      "110. ('Área Metropolitana de Lisboa', 'Cascais') -  | TCI Anual: 45.1\n",
      "111. ('Alentejo', 'Ourique') -  | TCI Anual: 45.0\n",
      "112. ('Algarve', 'Aljezur') -  | TCI Anual: 45.0\n",
      "113. ('Algarve', 'Monchique') -  | TCI Anual: 45.0\n",
      "114. ('Norte', 'Baiao') -  | TCI Anual: 45.0\n",
      "115. ('Alentejo', 'Odemira') -  | TCI Anual: 45.0\n",
      "116. ('Alentejo', 'Almodovar') -  | TCI Anual: 45.0\n",
      "117. ('Algarve', 'Loule') -  | TCI Anual: 45.0\n",
      "118. ('Região Autónoma dos Açores', 'Angra do Heroismo') -  | TCI Anual: 44.9\n",
      "119. ('Região Autónoma dos Açores', 'Povoacao') -  | TCI Anual: 44.9\n",
      "120. ('Norte', 'Santo Tirso') -  | TCI Anual: 44.9\n",
      "121. ('Norte', 'Vila Nova de Famalicao') -  | TCI Anual: 44.9\n",
      "122. ('Algarve', 'Vila do Bispo') -  | TCI Anual: 44.8\n",
      "123. ('Norte', 'Matosinhos') -  | TCI Anual: 44.7\n",
      "124. ('Norte', 'Povoa de Varzim') -  | TCI Anual: 44.7\n",
      "125. ('Norte', 'Maia') -  | TCI Anual: 44.7\n",
      "126. ('Região Autónoma dos Açores', 'Vila do Porto') -  | TCI Anual: 44.7\n",
      "127. ('Centro', 'Sardoal') -  | TCI Anual: 44.7\n",
      "128. ('Norte', 'Vila do Conde') -  | TCI Anual: 44.7\n",
      "129. ('Alentejo', 'Mourao') -  | TCI Anual: 44.7\n",
      "130. ('Região Autónoma dos Açores', 'Calheta [R.A.A.]') -  | TCI Anual: 44.7\n",
      "131. ('Região Autónoma da Madeira', 'Porto Moniz') -  | TCI Anual: 44.7\n",
      "132. ('Região Autónoma da Madeira', 'Calheta [R.A.M.]') -  | TCI Anual: 44.7\n",
      "133. ('Região Autónoma da Madeira', 'Camara de Lobos') -  | TCI Anual: 44.6\n",
      "134. ('Região Autónoma da Madeira', 'Funchal') -  | TCI Anual: 44.6\n",
      "135. ('Região Autónoma da Madeira', 'Ponta do Sol') -  | TCI Anual: 44.6\n",
      "136. ('Região Autónoma da Madeira', 'Ribeira Brava') -  | TCI Anual: 44.6\n",
      "137. ('Região Autónoma da Madeira', 'Santana') -  | TCI Anual: 44.6\n",
      "138. ('Centro', 'Penela') -  | TCI Anual: 44.5\n",
      "139. ('Centro', 'Gois') -  | TCI Anual: 44.5\n",
      "140. ('Centro', 'Condeixa-a-Nova') -  | TCI Anual: 44.5\n",
      "141. ('Norte', 'Vila Flor') -  | TCI Anual: 44.5\n",
      "142. ('Centro', 'Coimbra') -  | TCI Anual: 44.5\n",
      "143. ('Centro', 'Arganil') -  | TCI Anual: 44.5\n",
      "144. ('Centro', 'Castanheira de Pera') -  | TCI Anual: 44.5\n",
      "145. ('Centro', 'Miranda do Corvo') -  | TCI Anual: 44.5\n",
      "146. ('Centro', 'Pedrogao Grande') -  | TCI Anual: 44.5\n",
      "147. ('Centro', 'Lousa') -  | TCI Anual: 44.5\n",
      "148. ('Centro', 'Pampilhosa da Serra') -  | TCI Anual: 44.5\n",
      "149. ('Centro', 'Penacova') -  | TCI Anual: 44.5\n",
      "150. ('Centro', 'Torres Novas') -  | TCI Anual: 44.4\n",
      "151. ('Centro', 'Alcanena') -  | TCI Anual: 44.4\n",
      "152. ('Centro', 'Vila Nova da Barquinha') -  | TCI Anual: 44.4\n",
      "153. ('Alentejo', 'Golega') -  | TCI Anual: 44.4\n",
      "154. ('Centro', 'Entroncamento') -  | TCI Anual: 44.4\n",
      "155. ('Algarve', 'Sao Bras de Alportel') -  | TCI Anual: 44.3\n",
      "156. ('Região Autónoma dos Açores', 'Madalena') -  | TCI Anual: 44.2\n",
      "157. ('Norte', 'Penafiel') -  | TCI Anual: 44.2\n",
      "158. ('Norte', 'Paredes') -  | TCI Anual: 44.2\n",
      "159. ('Norte', 'Pacos de Ferreira') -  | TCI Anual: 44.2\n",
      "160. ('Norte', 'Lousada') -  | TCI Anual: 44.2\n",
      "161. ('Região Autónoma dos Açores', 'Vila da Praia da Vitoria') -  | TCI Anual: 44.0\n",
      "162. ('Norte', 'Vila Nova de Cerveira') -  | TCI Anual: 44.0\n",
      "163. ('Norte', 'Ponte de Lima') -  | TCI Anual: 44.0\n",
      "164. ('Norte', 'Ponte da Barca') -  | TCI Anual: 44.0\n",
      "165. ('Norte', 'Arcos de Valdevez') -  | TCI Anual: 44.0\n",
      "166. ('Norte', 'Paredes de Coura') -  | TCI Anual: 44.0\n",
      "167. ('Centro', 'Serta') -  | TCI Anual: 43.7\n",
      "168. ('Centro', 'Ferreira do Zezere') -  | TCI Anual: 43.7\n",
      "169. ('Centro', 'Tomar') -  | TCI Anual: 43.7\n",
      "170. ('Norte', 'Mesao Frio') -  | TCI Anual: 43.5\n",
      "171. ('Norte', 'Guimaraes') -  | TCI Anual: 43.5\n",
      "172. ('Norte', 'Vizela') -  | TCI Anual: 43.5\n",
      "173. ('Norte', 'Braga') -  | TCI Anual: 43.5\n",
      "174. ('Centro', 'Oleiros') -  | TCI Anual: 43.5\n",
      "175. ('Norte', 'Povoa de Lanhoso') -  | TCI Anual: 43.5\n",
      "176. ('Região Autónoma dos Açores', 'Ribeira Grande') -  | TCI Anual: 43.5\n",
      "177. ('Região Autónoma dos Açores', 'Horta') -  | TCI Anual: 43.5\n",
      "178. ('Algarve', 'Lagoa') -  | TCI Anual: 43.4\n",
      "179. ('Região Autónoma dos Açores', 'Lajes do Pico') -  | TCI Anual: 43.4\n",
      "180. ('Região Autónoma dos Açores', 'Velas') -  | TCI Anual: 43.4\n",
      "181. ('Região Autónoma dos Açores', 'Santa Cruz da Graciosa') -  | TCI Anual: 43.4\n",
      "182. ('Região Autónoma dos Açores', 'Sao Roque do Pico') -  | TCI Anual: 43.4\n",
      "183. ('Norte', 'Celorico de Basto') -  | TCI Anual: 43.3\n",
      "184. ('Norte', 'Amarante') -  | TCI Anual: 43.3\n",
      "185. ('Centro', 'Abrantes') -  | TCI Anual: 43.0\n",
      "186. ('Centro', 'Constancia') -  | TCI Anual: 43.0\n",
      "187. ('Centro', 'Ansiao') -  | TCI Anual: 43.0\n",
      "188. ('Centro', 'Macao') -  | TCI Anual: 43.0\n",
      "189. ('Alentejo', 'Ponte de Sor') -  | TCI Anual: 43.0\n",
      "190. ('Alentejo', 'Arraiolos') -  | TCI Anual: 42.7\n",
      "191. ('Alentejo', 'Montemor-o-Novo') -  | TCI Anual: 42.7\n",
      "192. ('Alentejo', 'Vendas Novas') -  | TCI Anual: 42.7\n",
      "193. ('Norte', 'Amares') -  | TCI Anual: 42.6\n",
      "194. ('Norte', 'Terras de Bouro') -  | TCI Anual: 42.6\n",
      "195. ('Norte', 'Vila Verde') -  | TCI Anual: 42.6\n",
      "196. ('Centro', 'Trancoso') -  | TCI Anual: 42.4\n",
      "197. ('Norte', 'Marco de Canaveses') -  | TCI Anual: 42.4\n",
      "198. ('Norte', 'Castelo de Paiva') -  | TCI Anual: 42.4\n",
      "199. ('Norte', 'Cinfaes') -  | TCI Anual: 42.4\n",
      "200. ('Norte', 'Resende') -  | TCI Anual: 42.4\n",
      "201. ('Norte', 'Mondim de Basto') -  | TCI Anual: 42.2\n",
      "202. ('Norte', 'Trofa') -  | TCI Anual: 42.2\n",
      "203. ('Norte', 'Fafe') -  | TCI Anual: 42.2\n",
      "204. ('Norte', 'Vieira do Minho') -  | TCI Anual: 42.2\n",
      "205. ('Norte', 'Cabeceiras de Basto') -  | TCI Anual: 42.2\n",
      "206. ('Norte', 'Felgueiras') -  | TCI Anual: 42.2\n",
      "207. ('Centro', 'Mangualde') -  | TCI Anual: 42.0\n",
      "208. ('Centro', 'Satao') -  | TCI Anual: 42.0\n",
      "209. ('Norte', 'Sernancelhe') -  | TCI Anual: 42.0\n",
      "210. ('Centro', 'Aguiar da Beira') -  | TCI Anual: 42.0\n",
      "211. ('Centro', 'Penalva do Castelo') -  | TCI Anual: 42.0\n",
      "212. ('Centro', 'Vila Nova de Paiva') -  | TCI Anual: 42.0\n",
      "213. ('Centro', 'Castro Daire') -  | TCI Anual: 42.0\n",
      "214. ('Centro', 'Nelas') -  | TCI Anual: 42.0\n",
      "215. ('Centro', 'Carregal do Sal') -  | TCI Anual: 42.0\n",
      "216. ('Centro', 'Sao Pedro do Sul') -  | TCI Anual: 42.0\n",
      "217. ('Centro', 'Viseu') -  | TCI Anual: 42.0\n",
      "218. ('Alentejo', 'Barrancos') -  | TCI Anual: 41.8\n",
      "219. ('Alentejo', 'Elvas') -  | TCI Anual: 41.7\n",
      "220. ('Alentejo', 'Campo Maior') -  | TCI Anual: 41.7\n",
      "221. ('Norte', 'Mirandela') -  | TCI Anual: 41.6\n",
      "222. ('Norte', 'Chaves') -  | TCI Anual: 41.6\n",
      "223. ('Norte', 'Valpacos') -  | TCI Anual: 41.6\n",
      "224. ('Norte', 'Montalegre') -  | TCI Anual: 41.6\n",
      "225. ('Norte', 'Boticas') -  | TCI Anual: 41.6\n",
      "226. ('Alentejo', 'Alter do Chao') -  | TCI Anual: 41.5\n",
      "227. ('Alentejo', 'Fronteira') -  | TCI Anual: 41.5\n",
      "228. ('Alentejo', 'Arronches') -  | TCI Anual: 41.5\n",
      "229. ('Alentejo', 'Crato') -  | TCI Anual: 41.5\n",
      "230. ('Alentejo', 'Castelo de Vide') -  | TCI Anual: 41.5\n",
      "231. ('Alentejo', 'Portalegre') -  | TCI Anual: 41.5\n",
      "232. ('Alentejo', 'Monforte') -  | TCI Anual: 41.5\n",
      "233. ('Alentejo', 'Nisa') -  | TCI Anual: 41.5\n",
      "234. ('Alentejo', 'Evora') -  | TCI Anual: 41.4\n",
      "235. ('Alentejo', 'Reguengos de Monsaraz') -  | TCI Anual: 41.4\n",
      "236. ('Alentejo', 'Sousel') -  | TCI Anual: 41.4\n",
      "237. ('Alentejo', 'Viana do Alentejo') -  | TCI Anual: 41.4\n",
      "238. ('Alentejo', 'Estremoz') -  | TCI Anual: 41.4\n",
      "239. ('Alentejo', 'Borba') -  | TCI Anual: 41.4\n",
      "240. ('Alentejo', 'Vila Vicosa') -  | TCI Anual: 41.4\n",
      "241. ('Alentejo', 'Redondo') -  | TCI Anual: 41.4\n",
      "242. ('Alentejo', 'Portel') -  | TCI Anual: 41.4\n",
      "243. ('Alentejo', 'Alandroal') -  | TCI Anual: 41.4\n",
      "244. ('Norte', 'Torre de Moncorvo') -  | TCI Anual: 41.4\n",
      "245. ('Norte', 'Moimenta da Beira') -  | TCI Anual: 41.3\n",
      "246. ('Norte', 'Penedono') -  | TCI Anual: 41.3\n",
      "247. ('Norte', 'Murca') -  | TCI Anual: 41.3\n",
      "248. ('Centro', 'Vila Nova de Poiares') -  | TCI Anual: 41.3\n",
      "249. ('Norte', 'Vila Real') -  | TCI Anual: 41.3\n",
      "250. ('Norte', 'Vila Pouca de Aguiar') -  | TCI Anual: 41.3\n",
      "251. ('Norte', 'Peso da Regua') -  | TCI Anual: 41.3\n",
      "252. ('Norte', 'Armamar') -  | TCI Anual: 41.3\n",
      "253. ('Norte', 'Carrazeda de Ansiaes') -  | TCI Anual: 41.3\n",
      "254. ('Norte', 'Alijo') -  | TCI Anual: 41.3\n",
      "255. ('Norte', 'Lamego') -  | TCI Anual: 41.3\n",
      "256. ('Norte', 'Sao Joao da Pesqueira') -  | TCI Anual: 41.3\n",
      "257. ('Norte', 'Tabuaco') -  | TCI Anual: 41.3\n",
      "258. ('Norte', 'Tarouca') -  | TCI Anual: 41.3\n",
      "259. ('Norte', 'Santa Marta de Penaguiao') -  | TCI Anual: 41.3\n",
      "260. ('Norte', 'Ribeira de Pena') -  | TCI Anual: 41.3\n",
      "261. ('Norte', 'Vila Nova de Foz Coa') -  | TCI Anual: 41.3\n",
      "262. ('Centro', 'Oliveira de Frades') -  | TCI Anual: 41.1\n",
      "263. ('Centro', 'Mortagua') -  | TCI Anual: 41.1\n",
      "264. ('Centro', 'Vouzela') -  | TCI Anual: 41.1\n",
      "265. ('Centro', 'Tabua') -  | TCI Anual: 41.1\n",
      "266. ('Norte', 'Sabrosa') -  | TCI Anual: 41.1\n",
      "267. ('Centro', 'Santa Comba Dao') -  | TCI Anual: 41.1\n",
      "268. ('Centro', 'Tondela') -  | TCI Anual: 41.1\n",
      "269. ('Alentejo', 'Serpa') -  | TCI Anual: 40.9\n",
      "270. ('Alentejo', 'Castro Verde') -  | TCI Anual: 40.9\n",
      "271. ('Alentejo', 'Moura') -  | TCI Anual: 40.9\n",
      "272. ('Alentejo', 'Cuba') -  | TCI Anual: 40.9\n",
      "273. ('Alentejo', 'Ferreira do Alentejo') -  | TCI Anual: 40.9\n",
      "274. ('Alentejo', 'Mertola') -  | TCI Anual: 40.9\n",
      "275. ('Alentejo', 'Beja') -  | TCI Anual: 40.9\n",
      "276. ('Alentejo', 'Aljustrel') -  | TCI Anual: 40.9\n",
      "277. ('Região Autónoma dos Açores', 'Santa Cruz das Flores') -  | TCI Anual: 40.8\n",
      "278. ('Centro', 'Idanha-a-Nova') -  | TCI Anual: 40.8\n",
      "279. ('Centro', 'Castelo Branco') -  | TCI Anual: 40.8\n",
      "280. ('Centro', 'Proenca-a-Nova') -  | TCI Anual: 40.8\n",
      "281. ('Centro', 'Vila Velha de Rodao') -  | TCI Anual: 40.8\n",
      "282. ('Região Autónoma dos Açores', 'Corvo') -  | TCI Anual: 40.8\n",
      "283. ('Região Autónoma dos Açores', 'Lajes das Flores') -  | TCI Anual: 40.8\n",
      "284. ('Alentejo', 'Mora') -  | TCI Anual: 40.2\n",
      "285. ('Norte', 'Mogadouro') -  | TCI Anual: 40.2\n",
      "286. ('Norte', 'Alfandega da Fe') -  | TCI Anual: 40.2\n",
      "287. ('Norte', 'Freixo de Espada a Cinta') -  | TCI Anual: 40.2\n",
      "288. ('Norte', 'Vimioso') -  | TCI Anual: 40.2\n",
      "289. ('Norte', 'Miranda do Douro') -  | TCI Anual: 40.1\n",
      "290. ('Norte', 'Vinhais') -  | TCI Anual: 40.0\n",
      "291. ('Norte', 'Macedo de Cavaleiros') -  | TCI Anual: 40.0\n",
      "292. ('Norte', 'Braganca') -  | TCI Anual: 40.0\n",
      "293. ('Centro', 'Fundao') -  | TCI Anual: 40.0\n",
      "294. ('Centro', 'Penamacor') -  | TCI Anual: 40.0\n",
      "295. ('Centro', 'Covilha') -  | TCI Anual: 40.0\n",
      "296. ('Centro', 'Figueira de Castelo Rodrigo') -  | TCI Anual: 37.3\n",
      "297. ('Centro', 'Almeida') -  | TCI Anual: 37.3\n",
      "298. ('Centro', 'Sabugal') -  | TCI Anual: 37.3\n",
      "299. ('Centro', 'Pinhel') -  | TCI Anual: 37.3\n",
      "300. ('Centro', 'Guarda') -  | TCI Anual: 37.3\n",
      "301. ('Centro', 'Meda') -  | TCI Anual: 37.3\n",
      "302. ('Centro', 'Celorico da Beira') -  | TCI Anual: 37.3\n",
      "303. ('Alentejo', 'Chamusca') -  | TCI Anual: 35.9\n",
      "304. ('Norte', 'Santa Maria da Feira') -  | TCI Anual: 35.9\n",
      "305. ('Centro', 'Seia') -  | TCI Anual: 35.9\n",
      "306. ('Centro', 'Gouveia') -  | TCI Anual: 35.9\n",
      "307. ('Centro', 'Oliveira do Hospital') -  | TCI Anual: 35.9\n",
      "308. ('Centro', 'Fornos de Algodres') -  | TCI Anual: 35.9\n",
      "309. ('Centro', 'Manteigas') -  | TCI Anual: 35.9\n"
     ]
    }
   ],
   "source": [
    "# Ordenar o DataFrame pelo TCI anual (do melhor para o pior)\n",
    "tci_ordenado = df_tci.sort_values('tci_anual', ascending=False)\n",
    "\n",
    "# Se quiser mostrar apenas algumas colunas, ajuste aqui:\n",
    "colunas_para_mostrar = ['municipio', 'Regiao', 'tci_anual'] if 'Regiao' in tci_ordenado.columns else ['municipio', 'tci_anual']\n",
    "\n",
    "# Imprime o ranking completo\n",
    "print(\"🏆 Ranking das cidades pelo TCI Anual 🏆\\n\")\n",
    "for i, row in enumerate(tci_ordenado[colunas_para_mostrar].drop_duplicates(subset=['municipio']).itertuples(), 1):\n",
    "    print(f\"{i:02d}. {getattr(row, 'municipio')} - {getattr(row, 'Regiao', '')} | TCI Anual: {getattr(row, 'tci_anual'):.1f}\")\n"
   ]
  },
  {
   "cell_type": "code",
   "execution_count": 162,
   "id": "da48109e",
   "metadata": {},
   "outputs": [],
   "source": [
    "filePathGeo = '..\\\\..\\\\Bases\\\\Geocoding\\\\portugalMunicipiosGeo.csv'\n",
    "# Carrega o arquivo de coordenadas\n",
    "geo = pd.read_csv(filePathGeo)\n"
   ]
  },
  {
   "cell_type": "code",
   "execution_count": 169,
   "id": "f94de7e5",
   "metadata": {},
   "outputs": [],
   "source": [
    "# Padroniza nomes para garantir o merge\n",
    "df_resumo_geral['location_merge'] = df_resumo_geral['municipio'].apply(lambda x: unidecode(str(x)).lower().strip())\n",
    "geo['Cidades_merge'] = geo['Cidades'].apply(lambda x: unidecode(str(x)).lower().strip())\n",
    "\n",
    "# Junta pelo nome da cidade padronizado\n",
    "df_resumo_geral_geo = pd.merge(\n",
    "    df_resumo_geral,\n",
    "    geo,\n",
    "    left_on='location_merge',\n",
    "    right_on='Cidades_merge',\n",
    "    how='inner'\n",
    ")"
   ]
  },
  {
   "cell_type": "code",
   "execution_count": 170,
   "id": "cc27dca5",
   "metadata": {},
   "outputs": [
    {
     "name": "stderr",
     "output_type": "stream",
     "text": [
      "C:\\Users\\johns\\AppData\\Local\\Temp\\ipykernel_31244\\156927247.py:540: DeprecationWarning:\n",
      "\n",
      "The 'unary_union' attribute is deprecated, use the 'union_all()' method instead.\n",
      "\n"
     ]
    },
    {
     "name": "stdout",
     "output_type": "stream",
     "text": [
      "Todas as cidades estão corretamente localizadas em Portugal.\n"
     ]
    },
    {
     "data": {
      "image/png": "[encoded data removed]",
      "text/plain": [
       "<Figure size 1100x1300 with 1 Axes>"
      ]
     },
     "metadata": {},
     "output_type": "display_data"
    }
   ],
   "source": [
    "plot_map(df_resumo_geral_geo)"
   ]
  },
  {
   "cell_type": "code",
   "execution_count": 177,
   "id": "6a718586",
   "metadata": {},
   "outputs": [
    {
     "data": {
      "application/vnd.plotly.v1+json": {
       "config": {
        "plotlyServerURL": "https://plot.ly"
       },
       "data": [
        {
         "hovertemplate": "Tipo=media_maxtemp<br>Ano-Mês=%{x}<br>Temperatura (°C)=%{y}<extra></extra>",
         "legendgroup": "media_maxtemp",
         "line": {
          "color": "red",
          "dash": "solid"
         },
         "marker": {
          "symbol": "circle"
         },
         "mode": "lines",
         "name": "MaxTemp (mean)",
         "orientation": "v",
         "showlegend": true,
         "type": "scatter",
         "x": [
          "2024-06",
          "2024-07",
          "2024-08",
          "2024-09",
          "2024-10",
          "2024-11",
          "2024-12",
          "2025-01",
          "2025-02",
          "2025-03",
          "2025-04",
          "2025-05",
          "2025-06"
         ],
         "xaxis": "x",
         "y": {
          "bdata": "AAAAAAAAN0DGGGOMMcY9QBFCCCGEED5AmpmZmZmZOUAyxhhjjDE1QN7d3d3dXTJAIYQQQgghLkDnnHPOOecsQEmSJEmSpC1ApZRSSimlLEDv7u7u7u4xQJ1zzjnnnDZAiYiIiIgIPkA=",
          "dtype": "f8"
         },
         "yaxis": "y"
        },
        {
         "hovertemplate": "Tipo=media_mintemp<br>Ano-Mês=%{x}<br>Temperatura (°C)=%{y}<extra></extra>",
         "legendgroup": "media_mintemp",
         "line": {
          "color": "blue",
          "dash": "solid"
         },
         "marker": {
          "symbol": "circle"
         },
         "mode": "lines",
         "name": "MinTemp (mean)",
         "orientation": "v",
         "showlegend": true,
         "type": "scatter",
         "x": [
          "2024-06",
          "2024-07",
          "2024-08",
          "2024-09",
          "2024-10",
          "2024-11",
          "2024-12",
          "2025-01",
          "2025-02",
          "2025-03",
          "2025-04",
          "2025-05",
          "2025-06"
         ],
         "xaxis": "x",
         "y": {
          "bdata": "AAAAAAAAKkAIIYQQQggxQJ1zzjnnnDFAd3d3d3d3LUBCCCGEEEIsQO/u7u7u7ihAOuecc845H0BrrbXWWmshQCVJkiRJkh9AAAAAAAAAIEDNzMzMzMwkQBljjDHGGClAZmZmZmbmMEA=",
          "dtype": "f8"
         },
         "yaxis": "y"
        }
       ],
       "layout": {
        "annotations": [
         {
          "arrowhead": 2,
          "ax": 0,
          "ay": -30,
          "bgcolor": "white",
          "bordercolor": "gray",
          "borderpad": 4,
          "borderwidth": 1,
          "font": {
           "color": "black",
           "size": 12
          },
          "showarrow": true,
          "text": "Verão",
          "x": "2024-06",
          "y": 30.06451612903226
         },
         {
          "arrowhead": 2,
          "ax": 0,
          "ay": -30,
          "bgcolor": "white",
          "bordercolor": "gray",
          "borderpad": 4,
          "borderwidth": 1,
          "font": {
           "color": "black",
           "size": 12
          },
          "showarrow": true,
          "text": "Outono",
          "x": "2024-09",
          "y": 30.06451612903226
         },
         {
          "arrowhead": 2,
          "ax": 0,
          "ay": -30,
          "bgcolor": "white",
          "bordercolor": "gray",
          "borderpad": 4,
          "borderwidth": 1,
          "font": {
           "color": "black",
           "size": 12
          },
          "showarrow": true,
          "text": "Inverno",
          "x": "2024-12",
          "y": 30.06451612903226
         },
         {
          "arrowhead": 2,
          "ax": 0,
          "ay": -30,
          "bgcolor": "white",
          "bordercolor": "gray",
          "borderpad": 4,
          "borderwidth": 1,
          "font": {
           "color": "black",
           "size": 12
          },
          "showarrow": true,
          "text": "Primavera",
          "x": "2025-03",
          "y": 30.06451612903226
         }
        ],
        "legend": {
         "title": {
          "text": "Tipo"
         },
         "tracegroupgap": 0
        },
        "shapes": [
         {
          "line": {
           "color": "gray",
           "dash": "dash",
           "width": 2
          },
          "type": "line",
          "x0": "2024-06",
          "x1": "2024-06",
          "xref": "x",
          "y0": 7.806451612903226,
          "y1": 30.06451612903226,
          "yref": "y"
         },
         {
          "line": {
           "color": "gray",
           "dash": "dash",
           "width": 2
          },
          "type": "line",
          "x0": "2024-09",
          "x1": "2024-09",
          "xref": "x",
          "y0": 7.806451612903226,
          "y1": 30.06451612903226,
          "yref": "y"
         },
         {
          "line": {
           "color": "gray",
           "dash": "dash",
           "width": 2
          },
          "type": "line",
          "x0": "2024-12",
          "x1": "2024-12",
          "xref": "x",
          "y0": 7.806451612903226,
          "y1": 30.06451612903226,
          "yref": "y"
         },
         {
          "line": {
           "color": "gray",
           "dash": "dash",
           "width": 2
          },
          "type": "line",
          "x0": "2025-03",
          "x1": "2025-03",
          "xref": "x",
          "y0": 7.806451612903226,
          "y1": 30.06451612903226,
          "yref": "y"
         }
        ],
        "template": {
         "data": {
          "bar": [
           {
            "error_x": {
             "color": "#2a3f5f"
            },
            "error_y": {
             "color": "#2a3f5f"
            },
            "marker": {
             "line": {
              "color": "white",
              "width": 0.5
             },
             "pattern": {
              "fillmode": "overlay",
              "size": 10,
              "solidity": 0.2
             }
            },
            "type": "bar"
           }
          ],
          "barpolar": [
           {
            "marker": {
             "line": {
              "color": "white",
              "width": 0.5
             },
             "pattern": {
              "fillmode": "overlay",
              "size": 10,
              "solidity": 0.2
             }
            },
            "type": "barpolar"
           }
          ],
          "carpet": [
           {
            "aaxis": {
             "endlinecolor": "#2a3f5f",
             "gridcolor": "#C8D4E3",
             "linecolor": "#C8D4E3",
             "minorgridcolor": "#C8D4E3",
             "startlinecolor": "#2a3f5f"
            },
            "baxis": {
             "endlinecolor": "#2a3f5f",
             "gridcolor": "#C8D4E3",
             "linecolor": "#C8D4E3",
             "minorgridcolor": "#C8D4E3",
             "startlinecolor": "#2a3f5f"
            },
            "type": "carpet"
           }
          ],
          "choropleth": [
           {
            "colorbar": {
             "outlinewidth": 0,
             "ticks": ""
            },
            "type": "choropleth"
           }
          ],
          "contour": [
           {
            "colorbar": {
             "outlinewidth": 0,
             "ticks": ""
            },
            "colorscale": [
             [
              0,
              "#0d0887"
             ],
             [
              0.1111111111111111,
              "#46039f"
             ],
             [
              0.2222222222222222,
              "#7201a8"
             ],
             [
              0.3333333333333333,
              "#9c179e"
             ],
             [
              0.4444444444444444,
              "#bd3786"
             ],
             [
              0.5555555555555556,
              "#d8576b"
             ],
             [
              0.6666666666666666,
              "#ed7953"
             ],
             [
              0.7777777777777778,
              "#fb9f3a"
             ],
             [
              0.8888888888888888,
              "#fdca26"
             ],
             [
              1,
              "#f0f921"
             ]
            ],
            "type": "contour"
           }
          ],
          "contourcarpet": [
           {
            "colorbar": {
             "outlinewidth": 0,
             "ticks": ""
            },
            "type": "contourcarpet"
           }
          ],
          "heatmap": [
           {
            "colorbar": {
             "outlinewidth": 0,
             "ticks": ""
            },
            "colorscale": [
             [
              0,
              "#0d0887"
             ],
             [
              0.1111111111111111,
              "#46039f"
             ],
             [
              0.2222222222222222,
              "#7201a8"
             ],
             [
              0.3333333333333333,
              "#9c179e"
             ],
             [
              0.4444444444444444,
              "#bd3786"
             ],
             [
              0.5555555555555556,
              "#d8576b"
             ],
             [
              0.6666666666666666,
              "#ed7953"
             ],
             [
              0.7777777777777778,
              "#fb9f3a"
             ],
             [
              0.8888888888888888,
              "#fdca26"
             ],
             [
              1,
              "#f0f921"
             ]
            ],
            "type": "heatmap"
           }
          ],
          "histogram": [
           {
            "marker": {
             "pattern": {
              "fillmode": "overlay",
              "size": 10,
              "solidity": 0.2
             }
            },
            "type": "histogram"
           }
          ],
          "histogram2d": [
           {
            "colorbar": {
             "outlinewidth": 0,
             "ticks": ""
            },
            "colorscale": [
             [
              0,
              "#0d0887"
             ],
             [
              0.1111111111111111,
              "#46039f"
             ],
             [
              0.2222222222222222,
              "#7201a8"
             ],
             [
              0.3333333333333333,
              "#9c179e"
             ],
             [
              0.4444444444444444,
              "#bd3786"
             ],
             [
              0.5555555555555556,
              "#d8576b"
             ],
             [
              0.6666666666666666,
              "#ed7953"
             ],
             [
              0.7777777777777778,
              "#fb9f3a"
             ],
             [
              0.8888888888888888,
              "#fdca26"
             ],
             [
              1,
              "#f0f921"
             ]
            ],
            "type": "histogram2d"
           }
          ],
          "histogram2dcontour": [
           {
            "colorbar": {
             "outlinewidth": 0,
             "ticks": ""
            },
            "colorscale": [
             [
              0,
              "#0d0887"
             ],
             [
              0.1111111111111111,
              "#46039f"
             ],
             [
              0.2222222222222222,
              "#7201a8"
             ],
             [
              0.3333333333333333,
              "#9c179e"
             ],
             [
              0.4444444444444444,
              "#bd3786"
             ],
             [
              0.5555555555555556,
              "#d8576b"
             ],
             [
              0.6666666666666666,
              "#ed7953"
             ],
             [
              0.7777777777777778,
              "#fb9f3a"
             ],
             [
              0.8888888888888888,
              "#fdca26"
             ],
             [
              1,
              "#f0f921"
             ]
            ],
            "type": "histogram2dcontour"
           }
          ],
          "mesh3d": [
           {
            "colorbar": {
             "outlinewidth": 0,
             "ticks": ""
            },
            "type": "mesh3d"
           }
          ],
          "parcoords": [
           {
            "line": {
             "colorbar": {
              "outlinewidth": 0,
              "ticks": ""
             }
            },
            "type": "parcoords"
           }
          ],
          "pie": [
           {
            "automargin": true,
            "type": "pie"
           }
          ],
          "scatter": [
           {
            "fillpattern": {
             "fillmode": "overlay",
             "size": 10,
             "solidity": 0.2
            },
            "type": "scatter"
           }
          ],
          "scatter3d": [
           {
            "line": {
             "colorbar": {
              "outlinewidth": 0,
              "ticks": ""
             }
            },
            "marker": {
             "colorbar": {
              "outlinewidth": 0,
              "ticks": ""
             }
            },
            "type": "scatter3d"
           }
          ],
          "scattercarpet": [
           {
            "marker": {
             "colorbar": {
              "outlinewidth": 0,
              "ticks": ""
             }
            },
            "type": "scattercarpet"
           }
          ],
          "scattergeo": [
           {
            "marker": {
             "colorbar": {
              "outlinewidth": 0,
              "ticks": ""
             }
            },
            "type": "scattergeo"
           }
          ],
          "scattergl": [
           {
            "marker": {
             "colorbar": {
              "outlinewidth": 0,
              "ticks": ""
             }
            },
            "type": "scattergl"
           }
          ],
          "scattermap": [
           {
            "marker": {
             "colorbar": {
              "outlinewidth": 0,
              "ticks": ""
             }
            },
            "type": "scattermap"
           }
          ],
          "scattermapbox": [
           {
            "marker": {
             "colorbar": {
              "outlinewidth": 0,
              "ticks": ""
             }
            },
            "type": "scattermapbox"
           }
          ],
          "scatterpolar": [
           {
            "marker": {
             "colorbar": {
              "outlinewidth": 0,
              "ticks": ""
             }
            },
            "type": "scatterpolar"
           }
          ],
          "scatterpolargl": [
           {
            "marker": {
             "colorbar": {
              "outlinewidth": 0,
              "ticks": ""
             }
            },
            "type": "scatterpolargl"
           }
          ],
          "scatterternary": [
           {
            "marker": {
             "colorbar": {
              "outlinewidth": 0,
              "ticks": ""
             }
            },
            "type": "scatterternary"
           }
          ],
          "surface": [
           {
            "colorbar": {
             "outlinewidth": 0,
             "ticks": ""
            },
            "colorscale": [
             [
              0,
              "#0d0887"
             ],
             [
              0.1111111111111111,
              "#46039f"
             ],
             [
              0.2222222222222222,
              "#7201a8"
             ],
             [
              0.3333333333333333,
              "#9c179e"
             ],
             [
              0.4444444444444444,
              "#bd3786"
             ],
             [
              0.5555555555555556,
              "#d8576b"
             ],
             [
              0.6666666666666666,
              "#ed7953"
             ],
             [
              0.7777777777777778,
              "#fb9f3a"
             ],
             [
              0.8888888888888888,
              "#fdca26"
             ],
             [
              1,
              "#f0f921"
             ]
            ],
            "type": "surface"
           }
          ],
          "table": [
           {
            "cells": {
             "fill": {
              "color": "#EBF0F8"
             },
             "line": {
              "color": "white"
             }
            },
            "header": {
             "fill": {
              "color": "#C8D4E3"
             },
             "line": {
              "color": "white"
             }
            },
            "type": "table"
           }
          ]
         },
         "layout": {
          "annotationdefaults": {
           "arrowcolor": "#2a3f5f",
           "arrowhead": 0,
           "arrowwidth": 1
          },
          "autotypenumbers": "strict",
          "coloraxis": {
           "colorbar": {
            "outlinewidth": 0,
            "ticks": ""
           }
          },
          "colorscale": {
           "diverging": [
            [
             0,
             "#8e0152"
            ],
            [
             0.1,
             "#c51b7d"
            ],
            [
             0.2,
             "#de77ae"
            ],
            [
             0.3,
             "#f1b6da"
            ],
            [
             0.4,
             "#fde0ef"
            ],
            [
             0.5,
             "#f7f7f7"
            ],
            [
             0.6,
             "#e6f5d0"
            ],
            [
             0.7,
             "#b8e186"
            ],
            [
             0.8,
             "#7fbc41"
            ],
            [
             0.9,
             "#4d9221"
            ],
            [
             1,
             "#276419"
            ]
           ],
           "sequential": [
            [
             0,
             "#0d0887"
            ],
            [
             0.1111111111111111,
             "#46039f"
            ],
            [
             0.2222222222222222,
             "#7201a8"
            ],
            [
             0.3333333333333333,
             "#9c179e"
            ],
            [
             0.4444444444444444,
             "#bd3786"
            ],
            [
             0.5555555555555556,
             "#d8576b"
            ],
            [
             0.6666666666666666,
             "#ed7953"
            ],
            [
             0.7777777777777778,
             "#fb9f3a"
            ],
            [
             0.8888888888888888,
             "#fdca26"
            ],
            [
             1,
             "#f0f921"
            ]
           ],
           "sequentialminus": [
            [
             0,
             "#0d0887"
            ],
            [
             0.1111111111111111,
             "#46039f"
            ],
            [
             0.2222222222222222,
             "#7201a8"
            ],
            [
             0.3333333333333333,
             "#9c179e"
            ],
            [
             0.4444444444444444,
             "#bd3786"
            ],
            [
             0.5555555555555556,
             "#d8576b"
            ],
            [
             0.6666666666666666,
             "#ed7953"
            ],
            [
             0.7777777777777778,
             "#fb9f3a"
            ],
            [
             0.8888888888888888,
             "#fdca26"
            ],
            [
             1,
             "#f0f921"
            ]
           ]
          },
          "colorway": [
           "#636efa",
           "#EF553B",
           "#00cc96",
           "#ab63fa",
           "#FFA15A",
           "#19d3f3",
           "#FF6692",
           "#B6E880",
           "#FF97FF",
           "#FECB52"
          ],
          "font": {
           "color": "#2a3f5f"
          },
          "geo": {
           "bgcolor": "white",
           "lakecolor": "white",
           "landcolor": "white",
           "showlakes": true,
           "showland": true,
           "subunitcolor": "#C8D4E3"
          },
          "hoverlabel": {
           "align": "left"
          },
          "hovermode": "closest",
          "mapbox": {
           "style": "light"
          },
          "paper_bgcolor": "white",
          "plot_bgcolor": "white",
          "polar": {
           "angularaxis": {
            "gridcolor": "#EBF0F8",
            "linecolor": "#EBF0F8",
            "ticks": ""
           },
           "bgcolor": "white",
           "radialaxis": {
            "gridcolor": "#EBF0F8",
            "linecolor": "#EBF0F8",
            "ticks": ""
           }
          },
          "scene": {
           "xaxis": {
            "backgroundcolor": "white",
            "gridcolor": "#DFE8F3",
            "gridwidth": 2,
            "linecolor": "#EBF0F8",
            "showbackground": true,
            "ticks": "",
            "zerolinecolor": "#EBF0F8"
           },
           "yaxis": {
            "backgroundcolor": "white",
            "gridcolor": "#DFE8F3",
            "gridwidth": 2,
            "linecolor": "#EBF0F8",
            "showbackground": true,
            "ticks": "",
            "zerolinecolor": "#EBF0F8"
           },
           "zaxis": {
            "backgroundcolor": "white",
            "gridcolor": "#DFE8F3",
            "gridwidth": 2,
            "linecolor": "#EBF0F8",
            "showbackground": true,
            "ticks": "",
            "zerolinecolor": "#EBF0F8"
           }
          },
          "shapedefaults": {
           "line": {
            "color": "#2a3f5f"
           }
          },
          "ternary": {
           "aaxis": {
            "gridcolor": "#DFE8F3",
            "linecolor": "#A2B1C6",
            "ticks": ""
           },
           "baxis": {
            "gridcolor": "#DFE8F3",
            "linecolor": "#A2B1C6",
            "ticks": ""
           },
           "bgcolor": "white",
           "caxis": {
            "gridcolor": "#DFE8F3",
            "linecolor": "#A2B1C6",
            "ticks": ""
           }
          },
          "title": {
           "x": 0.05
          },
          "xaxis": {
           "automargin": true,
           "gridcolor": "#EBF0F8",
           "linecolor": "#EBF0F8",
           "ticks": "",
           "title": {
            "standoff": 15
           },
           "zerolinecolor": "#EBF0F8",
           "zerolinewidth": 2
          },
          "yaxis": {
           "automargin": true,
           "gridcolor": "#EBF0F8",
           "linecolor": "#EBF0F8",
           "ticks": "",
           "title": {
            "standoff": 15
           },
           "zerolinecolor": "#EBF0F8",
           "zerolinewidth": 2
          }
         }
        },
        "title": {
         "text": "Temperaturas Mensais - Monchique",
         "x": 0.5,
         "xanchor": "center"
        },
        "xaxis": {
         "anchor": "y",
         "domain": [
          0,
          1
         ],
         "tickangle": 45,
         "title": {
          "text": "Ano-Mês"
         }
        },
        "yaxis": {
         "anchor": "x",
         "domain": [
          0,
          1
         ],
         "title": {
          "text": "Temperatura (°C)"
         }
        }
       }
      }
     },
     "metadata": {},
     "output_type": "display_data"
    },
    {
     "data": {
      "application/vnd.plotly.v1+json": {
       "config": {
        "plotlyServerURL": "https://plot.ly"
       },
       "data": [
        {
         "hovertemplate": "Tipo=media_maxtemp<br>Ano-Mês=%{x}<br>Temperatura (°C)=%{y}<extra></extra>",
         "legendgroup": "media_maxtemp",
         "line": {
          "color": "red",
          "dash": "solid"
         },
         "marker": {
          "symbol": "circle"
         },
         "mode": "lines",
         "name": "MaxTemp (mean)",
         "orientation": "v",
         "showlegend": true,
         "type": "scatter",
         "x": [
          "2024-06",
          "2024-07",
          "2024-08",
          "2024-09",
          "2024-10",
          "2024-11",
          "2024-12",
          "2025-01",
          "2025-02",
          "2025-03",
          "2025-04",
          "2025-05",
          "2025-06"
         ],
         "xaxis": "x",
         "y": {
          "bdata": "AAAAAAAANECttdZaa603QN9777333jdAiYiIiIgINkC21lprrbUzQCIiIiIiojJAOuecc845LUCMMcYYY4wrQG7btm3btixArbXWWmutLUDe3d3d3d0xQIwxxhhjjDNAvLu7u7s7N0A=",
          "dtype": "f8"
         },
         "yaxis": "y"
        },
        {
         "hovertemplate": "Tipo=media_mintemp<br>Ano-Mês=%{x}<br>Temperatura (°C)=%{y}<extra></extra>",
         "legendgroup": "media_mintemp",
         "line": {
          "color": "blue",
          "dash": "solid"
         },
         "marker": {
          "symbol": "circle"
         },
         "mode": "lines",
         "name": "MinTemp (mean)",
         "orientation": "v",
         "showlegend": true,
         "type": "scatter",
         "x": [
          "2024-06",
          "2024-07",
          "2024-08",
          "2024-09",
          "2024-10",
          "2024-11",
          "2024-12",
          "2025-01",
          "2025-02",
          "2025-03",
          "2025-04",
          "2025-05",
          "2025-06"
         ],
         "xaxis": "x",
         "y": {
          "bdata": "AAAAAAAAMECttdZaa60wQN9777333jBAq6qqqqqqLkBTSimllFIuQJqZmZmZmStA33vvvffeIUC21lprrbUiQJIkSZIkySJA77333nvvIUC8u7u7u7snQLbWWmuttSpAmpmZmZmZMEA=",
          "dtype": "f8"
         },
         "yaxis": "y"
        }
       ],
       "layout": {
        "annotations": [
         {
          "arrowhead": 2,
          "ax": 0,
          "ay": -30,
          "bgcolor": "white",
          "bordercolor": "gray",
          "borderpad": 4,
          "borderwidth": 1,
          "font": {
           "color": "black",
           "size": 12
          },
          "showarrow": true,
          "text": "Verão",
          "x": "2024-06",
          "y": 23.870967741935484
         },
         {
          "arrowhead": 2,
          "ax": 0,
          "ay": -30,
          "bgcolor": "white",
          "bordercolor": "gray",
          "borderpad": 4,
          "borderwidth": 1,
          "font": {
           "color": "black",
           "size": 12
          },
          "showarrow": true,
          "text": "Outono",
          "x": "2024-09",
          "y": 23.870967741935484
         },
         {
          "arrowhead": 2,
          "ax": 0,
          "ay": -30,
          "bgcolor": "white",
          "bordercolor": "gray",
          "borderpad": 4,
          "borderwidth": 1,
          "font": {
           "color": "black",
           "size": 12
          },
          "showarrow": true,
          "text": "Inverno",
          "x": "2024-12",
          "y": 23.870967741935484
         },
         {
          "arrowhead": 2,
          "ax": 0,
          "ay": -30,
          "bgcolor": "white",
          "bordercolor": "gray",
          "borderpad": 4,
          "borderwidth": 1,
          "font": {
           "color": "black",
           "size": 12
          },
          "showarrow": true,
          "text": "Primavera",
          "x": "2025-03",
          "y": 23.870967741935484
         }
        ],
        "legend": {
         "title": {
          "text": "Tipo"
         },
         "tracegroupgap": 0
        },
        "shapes": [
         {
          "line": {
           "color": "gray",
           "dash": "dash",
           "width": 2
          },
          "type": "line",
          "x0": "2024-06",
          "x1": "2024-06",
          "xref": "x",
          "y0": 8.935483870967742,
          "y1": 23.870967741935484,
          "yref": "y"
         },
         {
          "line": {
           "color": "gray",
           "dash": "dash",
           "width": 2
          },
          "type": "line",
          "x0": "2024-09",
          "x1": "2024-09",
          "xref": "x",
          "y0": 8.935483870967742,
          "y1": 23.870967741935484,
          "yref": "y"
         },
         {
          "line": {
           "color": "gray",
           "dash": "dash",
           "width": 2
          },
          "type": "line",
          "x0": "2024-12",
          "x1": "2024-12",
          "xref": "x",
          "y0": 8.935483870967742,
          "y1": 23.870967741935484,
          "yref": "y"
         },
         {
          "line": {
           "color": "gray",
           "dash": "dash",
           "width": 2
          },
          "type": "line",
          "x0": "2025-03",
          "x1": "2025-03",
          "xref": "x",
          "y0": 8.935483870967742,
          "y1": 23.870967741935484,
          "yref": "y"
         }
        ],
        "template": {
         "data": {
          "bar": [
           {
            "error_x": {
             "color": "#2a3f5f"
            },
            "error_y": {
             "color": "#2a3f5f"
            },
            "marker": {
             "line": {
              "color": "white",
              "width": 0.5
             },
             "pattern": {
              "fillmode": "overlay",
              "size": 10,
              "solidity": 0.2
             }
            },
            "type": "bar"
           }
          ],
          "barpolar": [
           {
            "marker": {
             "line": {
              "color": "white",
              "width": 0.5
             },
             "pattern": {
              "fillmode": "overlay",
              "size": 10,
              "solidity": 0.2
             }
            },
            "type": "barpolar"
           }
          ],
          "carpet": [
           {
            "aaxis": {
             "endlinecolor": "#2a3f5f",
             "gridcolor": "#C8D4E3",
             "linecolor": "#C8D4E3",
             "minorgridcolor": "#C8D4E3",
             "startlinecolor": "#2a3f5f"
            },
            "baxis": {
             "endlinecolor": "#2a3f5f",
             "gridcolor": "#C8D4E3",
             "linecolor": "#C8D4E3",
             "minorgridcolor": "#C8D4E3",
             "startlinecolor": "#2a3f5f"
            },
            "type": "carpet"
           }
          ],
          "choropleth": [
           {
            "colorbar": {
             "outlinewidth": 0,
             "ticks": ""
            },
            "type": "choropleth"
           }
          ],
          "contour": [
           {
            "colorbar": {
             "outlinewidth": 0,
             "ticks": ""
            },
            "colorscale": [
             [
              0,
              "#0d0887"
             ],
             [
              0.1111111111111111,
              "#46039f"
             ],
             [
              0.2222222222222222,
              "#7201a8"
             ],
             [
              0.3333333333333333,
              "#9c179e"
             ],
             [
              0.4444444444444444,
              "#bd3786"
             ],
             [
              0.5555555555555556,
              "#d8576b"
             ],
             [
              0.6666666666666666,
              "#ed7953"
             ],
             [
              0.7777777777777778,
              "#fb9f3a"
             ],
             [
              0.8888888888888888,
              "#fdca26"
             ],
             [
              1,
              "#f0f921"
             ]
            ],
            "type": "contour"
           }
          ],
          "contourcarpet": [
           {
            "colorbar": {
             "outlinewidth": 0,
             "ticks": ""
            },
            "type": "contourcarpet"
           }
          ],
          "heatmap": [
           {
            "colorbar": {
             "outlinewidth": 0,
             "ticks": ""
            },
            "colorscale": [
             [
              0,
              "#0d0887"
             ],
             [
              0.1111111111111111,
              "#46039f"
             ],
             [
              0.2222222222222222,
              "#7201a8"
             ],
             [
              0.3333333333333333,
              "#9c179e"
             ],
             [
              0.4444444444444444,
              "#bd3786"
             ],
             [
              0.5555555555555556,
              "#d8576b"
             ],
             [
              0.6666666666666666,
              "#ed7953"
             ],
             [
              0.7777777777777778,
              "#fb9f3a"
             ],
             [
              0.8888888888888888,
              "#fdca26"
             ],
             [
              1,
              "#f0f921"
             ]
            ],
            "type": "heatmap"
           }
          ],
          "histogram": [
           {
            "marker": {
             "pattern": {
              "fillmode": "overlay",
              "size": 10,
              "solidity": 0.2
             }
            },
            "type": "histogram"
           }
          ],
          "histogram2d": [
           {
            "colorbar": {
             "outlinewidth": 0,
             "ticks": ""
            },
            "colorscale": [
             [
              0,
              "#0d0887"
             ],
             [
              0.1111111111111111,
              "#46039f"
             ],
             [
              0.2222222222222222,
              "#7201a8"
             ],
             [
              0.3333333333333333,
              "#9c179e"
             ],
             [
              0.4444444444444444,
              "#bd3786"
             ],
             [
              0.5555555555555556,
              "#d8576b"
             ],
             [
              0.6666666666666666,
              "#ed7953"
             ],
             [
              0.7777777777777778,
              "#fb9f3a"
             ],
             [
              0.8888888888888888,
              "#fdca26"
             ],
             [
              1,
              "#f0f921"
             ]
            ],
            "type": "histogram2d"
           }
          ],
          "histogram2dcontour": [
           {
            "colorbar": {
             "outlinewidth": 0,
             "ticks": ""
            },
            "colorscale": [
             [
              0,
              "#0d0887"
             ],
             [
              0.1111111111111111,
              "#46039f"
             ],
             [
              0.2222222222222222,
              "#7201a8"
             ],
             [
              0.3333333333333333,
              "#9c179e"
             ],
             [
              0.4444444444444444,
              "#bd3786"
             ],
             [
              0.5555555555555556,
              "#d8576b"
             ],
             [
              0.6666666666666666,
              "#ed7953"
             ],
             [
              0.7777777777777778,
              "#fb9f3a"
             ],
             [
              0.8888888888888888,
              "#fdca26"
             ],
             [
              1,
              "#f0f921"
             ]
            ],
            "type": "histogram2dcontour"
           }
          ],
          "mesh3d": [
           {
            "colorbar": {
             "outlinewidth": 0,
             "ticks": ""
            },
            "type": "mesh3d"
           }
          ],
          "parcoords": [
           {
            "line": {
             "colorbar": {
              "outlinewidth": 0,
              "ticks": ""
             }
            },
            "type": "parcoords"
           }
          ],
          "pie": [
           {
            "automargin": true,
            "type": "pie"
           }
          ],
          "scatter": [
           {
            "fillpattern": {
             "fillmode": "overlay",
             "size": 10,
             "solidity": 0.2
            },
            "type": "scatter"
           }
          ],
          "scatter3d": [
           {
            "line": {
             "colorbar": {
              "outlinewidth": 0,
              "ticks": ""
             }
            },
            "marker": {
             "colorbar": {
              "outlinewidth": 0,
              "ticks": ""
             }
            },
            "type": "scatter3d"
           }
          ],
          "scattercarpet": [
           {
            "marker": {
             "colorbar": {
              "outlinewidth": 0,
              "ticks": ""
             }
            },
            "type": "scattercarpet"
           }
          ],
          "scattergeo": [
           {
            "marker": {
             "colorbar": {
              "outlinewidth": 0,
              "ticks": ""
             }
            },
            "type": "scattergeo"
           }
          ],
          "scattergl": [
           {
            "marker": {
             "colorbar": {
              "outlinewidth": 0,
              "ticks": ""
             }
            },
            "type": "scattergl"
           }
          ],
          "scattermap": [
           {
            "marker": {
             "colorbar": {
              "outlinewidth": 0,
              "ticks": ""
             }
            },
            "type": "scattermap"
           }
          ],
          "scattermapbox": [
           {
            "marker": {
             "colorbar": {
              "outlinewidth": 0,
              "ticks": ""
             }
            },
            "type": "scattermapbox"
           }
          ],
          "scatterpolar": [
           {
            "marker": {
             "colorbar": {
              "outlinewidth": 0,
              "ticks": ""
             }
            },
            "type": "scatterpolar"
           }
          ],
          "scatterpolargl": [
           {
            "marker": {
             "colorbar": {
              "outlinewidth": 0,
              "ticks": ""
             }
            },
            "type": "scatterpolargl"
           }
          ],
          "scatterternary": [
           {
            "marker": {
             "colorbar": {
              "outlinewidth": 0,
              "ticks": ""
             }
            },
            "type": "scatterternary"
           }
          ],
          "surface": [
           {
            "colorbar": {
             "outlinewidth": 0,
             "ticks": ""
            },
            "colorscale": [
             [
              0,
              "#0d0887"
             ],
             [
              0.1111111111111111,
              "#46039f"
             ],
             [
              0.2222222222222222,
              "#7201a8"
             ],
             [
              0.3333333333333333,
              "#9c179e"
             ],
             [
              0.4444444444444444,
              "#bd3786"
             ],
             [
              0.5555555555555556,
              "#d8576b"
             ],
             [
              0.6666666666666666,
              "#ed7953"
             ],
             [
              0.7777777777777778,
              "#fb9f3a"
             ],
             [
              0.8888888888888888,
              "#fdca26"
             ],
             [
              1,
              "#f0f921"
             ]
            ],
            "type": "surface"
           }
          ],
          "table": [
           {
            "cells": {
             "fill": {
              "color": "#EBF0F8"
             },
             "line": {
              "color": "white"
             }
            },
            "header": {
             "fill": {
              "color": "#C8D4E3"
             },
             "line": {
              "color": "white"
             }
            },
            "type": "table"
           }
          ]
         },
         "layout": {
          "annotationdefaults": {
           "arrowcolor": "#2a3f5f",
           "arrowhead": 0,
           "arrowwidth": 1
          },
          "autotypenumbers": "strict",
          "coloraxis": {
           "colorbar": {
            "outlinewidth": 0,
            "ticks": ""
           }
          },
          "colorscale": {
           "diverging": [
            [
             0,
             "#8e0152"
            ],
            [
             0.1,
             "#c51b7d"
            ],
            [
             0.2,
             "#de77ae"
            ],
            [
             0.3,
             "#f1b6da"
            ],
            [
             0.4,
             "#fde0ef"
            ],
            [
             0.5,
             "#f7f7f7"
            ],
            [
             0.6,
             "#e6f5d0"
            ],
            [
             0.7,
             "#b8e186"
            ],
            [
             0.8,
             "#7fbc41"
            ],
            [
             0.9,
             "#4d9221"
            ],
            [
             1,
             "#276419"
            ]
           ],
           "sequential": [
            [
             0,
             "#0d0887"
            ],
            [
             0.1111111111111111,
             "#46039f"
            ],
            [
             0.2222222222222222,
             "#7201a8"
            ],
            [
             0.3333333333333333,
             "#9c179e"
            ],
            [
             0.4444444444444444,
             "#bd3786"
            ],
            [
             0.5555555555555556,
             "#d8576b"
            ],
            [
             0.6666666666666666,
             "#ed7953"
            ],
            [
             0.7777777777777778,
             "#fb9f3a"
            ],
            [
             0.8888888888888888,
             "#fdca26"
            ],
            [
             1,
             "#f0f921"
            ]
           ],
           "sequentialminus": [
            [
             0,
             "#0d0887"
            ],
            [
             0.1111111111111111,
             "#46039f"
            ],
            [
             0.2222222222222222,
             "#7201a8"
            ],
            [
             0.3333333333333333,
             "#9c179e"
            ],
            [
             0.4444444444444444,
             "#bd3786"
            ],
            [
             0.5555555555555556,
             "#d8576b"
            ],
            [
             0.6666666666666666,
             "#ed7953"
            ],
            [
             0.7777777777777778,
             "#fb9f3a"
            ],
            [
             0.8888888888888888,
             "#fdca26"
            ],
            [
             1,
             "#f0f921"
            ]
           ]
          },
          "colorway": [
           "#636efa",
           "#EF553B",
           "#00cc96",
           "#ab63fa",
           "#FFA15A",
           "#19d3f3",
           "#FF6692",
           "#B6E880",
           "#FF97FF",
           "#FECB52"
          ],
          "font": {
           "color": "#2a3f5f"
          },
          "geo": {
           "bgcolor": "white",
           "lakecolor": "white",
           "landcolor": "white",
           "showlakes": true,
           "showland": true,
           "subunitcolor": "#C8D4E3"
          },
          "hoverlabel": {
           "align": "left"
          },
          "hovermode": "closest",
          "mapbox": {
           "style": "light"
          },
          "paper_bgcolor": "white",
          "plot_bgcolor": "white",
          "polar": {
           "angularaxis": {
            "gridcolor": "#EBF0F8",
            "linecolor": "#EBF0F8",
            "ticks": ""
           },
           "bgcolor": "white",
           "radialaxis": {
            "gridcolor": "#EBF0F8",
            "linecolor": "#EBF0F8",
            "ticks": ""
           }
          },
          "scene": {
           "xaxis": {
            "backgroundcolor": "white",
            "gridcolor": "#DFE8F3",
            "gridwidth": 2,
            "linecolor": "#EBF0F8",
            "showbackground": true,
            "ticks": "",
            "zerolinecolor": "#EBF0F8"
           },
           "yaxis": {
            "backgroundcolor": "white",
            "gridcolor": "#DFE8F3",
            "gridwidth": 2,
            "linecolor": "#EBF0F8",
            "showbackground": true,
            "ticks": "",
            "zerolinecolor": "#EBF0F8"
           },
           "zaxis": {
            "backgroundcolor": "white",
            "gridcolor": "#DFE8F3",
            "gridwidth": 2,
            "linecolor": "#EBF0F8",
            "showbackground": true,
            "ticks": "",
            "zerolinecolor": "#EBF0F8"
           }
          },
          "shapedefaults": {
           "line": {
            "color": "#2a3f5f"
           }
          },
          "ternary": {
           "aaxis": {
            "gridcolor": "#DFE8F3",
            "linecolor": "#A2B1C6",
            "ticks": ""
           },
           "baxis": {
            "gridcolor": "#DFE8F3",
            "linecolor": "#A2B1C6",
            "ticks": ""
           },
           "bgcolor": "white",
           "caxis": {
            "gridcolor": "#DFE8F3",
            "linecolor": "#A2B1C6",
            "ticks": ""
           }
          },
          "title": {
           "x": 0.05
          },
          "xaxis": {
           "automargin": true,
           "gridcolor": "#EBF0F8",
           "linecolor": "#EBF0F8",
           "ticks": "",
           "title": {
            "standoff": 15
           },
           "zerolinecolor": "#EBF0F8",
           "zerolinewidth": 2
          },
          "yaxis": {
           "automargin": true,
           "gridcolor": "#EBF0F8",
           "linecolor": "#EBF0F8",
           "ticks": "",
           "title": {
            "standoff": 15
           },
           "zerolinecolor": "#EBF0F8",
           "zerolinewidth": 2
          }
         }
        },
        "title": {
         "text": "Temperaturas Mensais - Porto",
         "x": 0.5,
         "xanchor": "center"
        },
        "xaxis": {
         "anchor": "y",
         "domain": [
          0,
          1
         ],
         "tickangle": 45,
         "title": {
          "text": "Ano-Mês"
         }
        },
        "yaxis": {
         "anchor": "x",
         "domain": [
          0,
          1
         ],
         "title": {
          "text": "Temperatura (°C)"
         }
        }
       }
      }
     },
     "metadata": {},
     "output_type": "display_data"
    },
    {
     "data": {
      "application/vnd.plotly.v1+json": {
       "config": {
        "plotlyServerURL": "https://plot.ly"
       },
       "data": [
        {
         "hovertemplate": "Tipo=media_maxtemp<br>Ano-Mês=%{x}<br>Temperatura (°C)=%{y}<extra></extra>",
         "legendgroup": "media_maxtemp",
         "line": {
          "color": "red",
          "dash": "solid"
         },
         "marker": {
          "symbol": "circle"
         },
         "mode": "lines",
         "name": "MaxTemp (mean)",
         "orientation": "v",
         "showlegend": true,
         "type": "scatter",
         "x": [
          "2024-06",
          "2024-07",
          "2024-08",
          "2024-09",
          "2024-10",
          "2024-11",
          "2024-12",
          "2025-01",
          "2025-02",
          "2025-03",
          "2025-04",
          "2025-05",
          "2025-06"
         ],
         "xaxis": "x",
         "y": {
          "bdata": "AAAAAAAAN0DOOeecc847QO+999577ztAiYiIiIgIOUAyxhhjjDE2QLy7u7u7uzNA77333nvvL0D43nvvvfcuQNu2bdu2bS9ASimllFJKL0CamZmZmRkzQCGEEEIIITZARERERETEOkA=",
          "dtype": "f8"
         },
         "yaxis": "y"
        },
        {
         "hovertemplate": "Tipo=media_mintemp<br>Ano-Mês=%{x}<br>Temperatura (°C)=%{y}<extra></extra>",
         "legendgroup": "media_mintemp",
         "line": {
          "color": "blue",
          "dash": "solid"
         },
         "marker": {
          "symbol": "circle"
         },
         "mode": "lines",
         "name": "MinTemp (mean)",
         "orientation": "v",
         "showlegend": true,
         "type": "scatter",
         "x": [
          "2024-06",
          "2024-07",
          "2024-08",
          "2024-09",
          "2024-10",
          "2024-11",
          "2024-12",
          "2025-01",
          "2025-02",
          "2025-03",
          "2025-04",
          "2025-05",
          "2025-06"
         ],
         "xaxis": "x",
         "y": {
          "bdata": "AAAAAAAAMUCdc84555wxQCGEEEIIITJAAAAAAAAAMUCdc84555wwQM3MzMzMzCtAa6211lprI0D43nvvvfckQNu2bdu2bSRAdM4555xzJEDe3d3d3d0oQCGEEEIIISxAzczMzMxMMUA=",
          "dtype": "f8"
         },
         "yaxis": "y"
        }
       ],
       "layout": {
        "annotations": [
         {
          "arrowhead": 2,
          "ax": 0,
          "ay": -30,
          "bgcolor": "white",
          "bordercolor": "gray",
          "borderpad": 4,
          "borderwidth": 1,
          "font": {
           "color": "black",
           "size": 12
          },
          "showarrow": true,
          "text": "Verão",
          "x": "2024-06",
          "y": 27.93548387096774
         },
         {
          "arrowhead": 2,
          "ax": 0,
          "ay": -30,
          "bgcolor": "white",
          "bordercolor": "gray",
          "borderpad": 4,
          "borderwidth": 1,
          "font": {
           "color": "black",
           "size": 12
          },
          "showarrow": true,
          "text": "Outono",
          "x": "2024-09",
          "y": 27.93548387096774
         },
         {
          "arrowhead": 2,
          "ax": 0,
          "ay": -30,
          "bgcolor": "white",
          "bordercolor": "gray",
          "borderpad": 4,
          "borderwidth": 1,
          "font": {
           "color": "black",
           "size": 12
          },
          "showarrow": true,
          "text": "Inverno",
          "x": "2024-12",
          "y": 27.93548387096774
         },
         {
          "arrowhead": 2,
          "ax": 0,
          "ay": -30,
          "bgcolor": "white",
          "bordercolor": "gray",
          "borderpad": 4,
          "borderwidth": 1,
          "font": {
           "color": "black",
           "size": 12
          },
          "showarrow": true,
          "text": "Primavera",
          "x": "2025-03",
          "y": 27.93548387096774
         }
        ],
        "legend": {
         "title": {
          "text": "Tipo"
         },
         "tracegroupgap": 0
        },
        "shapes": [
         {
          "line": {
           "color": "gray",
           "dash": "dash",
           "width": 2
          },
          "type": "line",
          "x0": "2024-06",
          "x1": "2024-06",
          "xref": "x",
          "y0": 9.709677419354838,
          "y1": 27.93548387096774,
          "yref": "y"
         },
         {
          "line": {
           "color": "gray",
           "dash": "dash",
           "width": 2
          },
          "type": "line",
          "x0": "2024-09",
          "x1": "2024-09",
          "xref": "x",
          "y0": 9.709677419354838,
          "y1": 27.93548387096774,
          "yref": "y"
         },
         {
          "line": {
           "color": "gray",
           "dash": "dash",
           "width": 2
          },
          "type": "line",
          "x0": "2024-12",
          "x1": "2024-12",
          "xref": "x",
          "y0": 9.709677419354838,
          "y1": 27.93548387096774,
          "yref": "y"
         },
         {
          "line": {
           "color": "gray",
           "dash": "dash",
           "width": 2
          },
          "type": "line",
          "x0": "2025-03",
          "x1": "2025-03",
          "xref": "x",
          "y0": 9.709677419354838,
          "y1": 27.93548387096774,
          "yref": "y"
         }
        ],
        "template": {
         "data": {
          "bar": [
           {
            "error_x": {
             "color": "#2a3f5f"
            },
            "error_y": {
             "color": "#2a3f5f"
            },
            "marker": {
             "line": {
              "color": "white",
              "width": 0.5
             },
             "pattern": {
              "fillmode": "overlay",
              "size": 10,
              "solidity": 0.2
             }
            },
            "type": "bar"
           }
          ],
          "barpolar": [
           {
            "marker": {
             "line": {
              "color": "white",
              "width": 0.5
             },
             "pattern": {
              "fillmode": "overlay",
              "size": 10,
              "solidity": 0.2
             }
            },
            "type": "barpolar"
           }
          ],
          "carpet": [
           {
            "aaxis": {
             "endlinecolor": "#2a3f5f",
             "gridcolor": "#C8D4E3",
             "linecolor": "#C8D4E3",
             "minorgridcolor": "#C8D4E3",
             "startlinecolor": "#2a3f5f"
            },
            "baxis": {
             "endlinecolor": "#2a3f5f",
             "gridcolor": "#C8D4E3",
             "linecolor": "#C8D4E3",
             "minorgridcolor": "#C8D4E3",
             "startlinecolor": "#2a3f5f"
            },
            "type": "carpet"
           }
          ],
          "choropleth": [
           {
            "colorbar": {
             "outlinewidth": 0,
             "ticks": ""
            },
            "type": "choropleth"
           }
          ],
          "contour": [
           {
            "colorbar": {
             "outlinewidth": 0,
             "ticks": ""
            },
            "colorscale": [
             [
              0,
              "#0d0887"
             ],
             [
              0.1111111111111111,
              "#46039f"
             ],
             [
              0.2222222222222222,
              "#7201a8"
             ],
             [
              0.3333333333333333,
              "#9c179e"
             ],
             [
              0.4444444444444444,
              "#bd3786"
             ],
             [
              0.5555555555555556,
              "#d8576b"
             ],
             [
              0.6666666666666666,
              "#ed7953"
             ],
             [
              0.7777777777777778,
              "#fb9f3a"
             ],
             [
              0.8888888888888888,
              "#fdca26"
             ],
             [
              1,
              "#f0f921"
             ]
            ],
            "type": "contour"
           }
          ],
          "contourcarpet": [
           {
            "colorbar": {
             "outlinewidth": 0,
             "ticks": ""
            },
            "type": "contourcarpet"
           }
          ],
          "heatmap": [
           {
            "colorbar": {
             "outlinewidth": 0,
             "ticks": ""
            },
            "colorscale": [
             [
              0,
              "#0d0887"
             ],
             [
              0.1111111111111111,
              "#46039f"
             ],
             [
              0.2222222222222222,
              "#7201a8"
             ],
             [
              0.3333333333333333,
              "#9c179e"
             ],
             [
              0.4444444444444444,
              "#bd3786"
             ],
             [
              0.5555555555555556,
              "#d8576b"
             ],
             [
              0.6666666666666666,
              "#ed7953"
             ],
             [
              0.7777777777777778,
              "#fb9f3a"
             ],
             [
              0.8888888888888888,
              "#fdca26"
             ],
             [
              1,
              "#f0f921"
             ]
            ],
            "type": "heatmap"
           }
          ],
          "histogram": [
           {
            "marker": {
             "pattern": {
              "fillmode": "overlay",
              "size": 10,
              "solidity": 0.2
             }
            },
            "type": "histogram"
           }
          ],
          "histogram2d": [
           {
            "colorbar": {
             "outlinewidth": 0,
             "ticks": ""
            },
            "colorscale": [
             [
              0,
              "#0d0887"
             ],
             [
              0.1111111111111111,
              "#46039f"
             ],
             [
              0.2222222222222222,
              "#7201a8"
             ],
             [
              0.3333333333333333,
              "#9c179e"
             ],
             [
              0.4444444444444444,
              "#bd3786"
             ],
             [
              0.5555555555555556,
              "#d8576b"
             ],
             [
              0.6666666666666666,
              "#ed7953"
             ],
             [
              0.7777777777777778,
              "#fb9f3a"
             ],
             [
              0.8888888888888888,
              "#fdca26"
             ],
             [
              1,
              "#f0f921"
             ]
            ],
            "type": "histogram2d"
           }
          ],
          "histogram2dcontour": [
           {
            "colorbar": {
             "outlinewidth": 0,
             "ticks": ""
            },
            "colorscale": [
             [
              0,
              "#0d0887"
             ],
             [
              0.1111111111111111,
              "#46039f"
             ],
             [
              0.2222222222222222,
              "#7201a8"
             ],
             [
              0.3333333333333333,
              "#9c179e"
             ],
             [
              0.4444444444444444,
              "#bd3786"
             ],
             [
              0.5555555555555556,
              "#d8576b"
             ],
             [
              0.6666666666666666,
              "#ed7953"
             ],
             [
              0.7777777777777778,
              "#fb9f3a"
             ],
             [
              0.8888888888888888,
              "#fdca26"
             ],
             [
              1,
              "#f0f921"
             ]
            ],
            "type": "histogram2dcontour"
           }
          ],
          "mesh3d": [
           {
            "colorbar": {
             "outlinewidth": 0,
             "ticks": ""
            },
            "type": "mesh3d"
           }
          ],
          "parcoords": [
           {
            "line": {
             "colorbar": {
              "outlinewidth": 0,
              "ticks": ""
             }
            },
            "type": "parcoords"
           }
          ],
          "pie": [
           {
            "automargin": true,
            "type": "pie"
           }
          ],
          "scatter": [
           {
            "fillpattern": {
             "fillmode": "overlay",
             "size": 10,
             "solidity": 0.2
            },
            "type": "scatter"
           }
          ],
          "scatter3d": [
           {
            "line": {
             "colorbar": {
              "outlinewidth": 0,
              "ticks": ""
             }
            },
            "marker": {
             "colorbar": {
              "outlinewidth": 0,
              "ticks": ""
             }
            },
            "type": "scatter3d"
           }
          ],
          "scattercarpet": [
           {
            "marker": {
             "colorbar": {
              "outlinewidth": 0,
              "ticks": ""
             }
            },
            "type": "scattercarpet"
           }
          ],
          "scattergeo": [
           {
            "marker": {
             "colorbar": {
              "outlinewidth": 0,
              "ticks": ""
             }
            },
            "type": "scattergeo"
           }
          ],
          "scattergl": [
           {
            "marker": {
             "colorbar": {
              "outlinewidth": 0,
              "ticks": ""
             }
            },
            "type": "scattergl"
           }
          ],
          "scattermap": [
           {
            "marker": {
             "colorbar": {
              "outlinewidth": 0,
              "ticks": ""
             }
            },
            "type": "scattermap"
           }
          ],
          "scattermapbox": [
           {
            "marker": {
             "colorbar": {
              "outlinewidth": 0,
              "ticks": ""
             }
            },
            "type": "scattermapbox"
           }
          ],
          "scatterpolar": [
           {
            "marker": {
             "colorbar": {
              "outlinewidth": 0,
              "ticks": ""
             }
            },
            "type": "scatterpolar"
           }
          ],
          "scatterpolargl": [
           {
            "marker": {
             "colorbar": {
              "outlinewidth": 0,
              "ticks": ""
             }
            },
            "type": "scatterpolargl"
           }
          ],
          "scatterternary": [
           {
            "marker": {
             "colorbar": {
              "outlinewidth": 0,
              "ticks": ""
             }
            },
            "type": "scatterternary"
           }
          ],
          "surface": [
           {
            "colorbar": {
             "outlinewidth": 0,
             "ticks": ""
            },
            "colorscale": [
             [
              0,
              "#0d0887"
             ],
             [
              0.1111111111111111,
              "#46039f"
             ],
             [
              0.2222222222222222,
              "#7201a8"
             ],
             [
              0.3333333333333333,
              "#9c179e"
             ],
             [
              0.4444444444444444,
              "#bd3786"
             ],
             [
              0.5555555555555556,
              "#d8576b"
             ],
             [
              0.6666666666666666,
              "#ed7953"
             ],
             [
              0.7777777777777778,
              "#fb9f3a"
             ],
             [
              0.8888888888888888,
              "#fdca26"
             ],
             [
              1,
              "#f0f921"
             ]
            ],
            "type": "surface"
           }
          ],
          "table": [
           {
            "cells": {
             "fill": {
              "color": "#EBF0F8"
             },
             "line": {
              "color": "white"
             }
            },
            "header": {
             "fill": {
              "color": "#C8D4E3"
             },
             "line": {
              "color": "white"
             }
            },
            "type": "table"
           }
          ]
         },
         "layout": {
          "annotationdefaults": {
           "arrowcolor": "#2a3f5f",
           "arrowhead": 0,
           "arrowwidth": 1
          },
          "autotypenumbers": "strict",
          "coloraxis": {
           "colorbar": {
            "outlinewidth": 0,
            "ticks": ""
           }
          },
          "colorscale": {
           "diverging": [
            [
             0,
             "#8e0152"
            ],
            [
             0.1,
             "#c51b7d"
            ],
            [
             0.2,
             "#de77ae"
            ],
            [
             0.3,
             "#f1b6da"
            ],
            [
             0.4,
             "#fde0ef"
            ],
            [
             0.5,
             "#f7f7f7"
            ],
            [
             0.6,
             "#e6f5d0"
            ],
            [
             0.7,
             "#b8e186"
            ],
            [
             0.8,
             "#7fbc41"
            ],
            [
             0.9,
             "#4d9221"
            ],
            [
             1,
             "#276419"
            ]
           ],
           "sequential": [
            [
             0,
             "#0d0887"
            ],
            [
             0.1111111111111111,
             "#46039f"
            ],
            [
             0.2222222222222222,
             "#7201a8"
            ],
            [
             0.3333333333333333,
             "#9c179e"
            ],
            [
             0.4444444444444444,
             "#bd3786"
            ],
            [
             0.5555555555555556,
             "#d8576b"
            ],
            [
             0.6666666666666666,
             "#ed7953"
            ],
            [
             0.7777777777777778,
             "#fb9f3a"
            ],
            [
             0.8888888888888888,
             "#fdca26"
            ],
            [
             1,
             "#f0f921"
            ]
           ],
           "sequentialminus": [
            [
             0,
             "#0d0887"
            ],
            [
             0.1111111111111111,
             "#46039f"
            ],
            [
             0.2222222222222222,
             "#7201a8"
            ],
            [
             0.3333333333333333,
             "#9c179e"
            ],
            [
             0.4444444444444444,
             "#bd3786"
            ],
            [
             0.5555555555555556,
             "#d8576b"
            ],
            [
             0.6666666666666666,
             "#ed7953"
            ],
            [
             0.7777777777777778,
             "#fb9f3a"
            ],
            [
             0.8888888888888888,
             "#fdca26"
            ],
            [
             1,
             "#f0f921"
            ]
           ]
          },
          "colorway": [
           "#636efa",
           "#EF553B",
           "#00cc96",
           "#ab63fa",
           "#FFA15A",
           "#19d3f3",
           "#FF6692",
           "#B6E880",
           "#FF97FF",
           "#FECB52"
          ],
          "font": {
           "color": "#2a3f5f"
          },
          "geo": {
           "bgcolor": "white",
           "lakecolor": "white",
           "landcolor": "white",
           "showlakes": true,
           "showland": true,
           "subunitcolor": "#C8D4E3"
          },
          "hoverlabel": {
           "align": "left"
          },
          "hovermode": "closest",
          "mapbox": {
           "style": "light"
          },
          "paper_bgcolor": "white",
          "plot_bgcolor": "white",
          "polar": {
           "angularaxis": {
            "gridcolor": "#EBF0F8",
            "linecolor": "#EBF0F8",
            "ticks": ""
           },
           "bgcolor": "white",
           "radialaxis": {
            "gridcolor": "#EBF0F8",
            "linecolor": "#EBF0F8",
            "ticks": ""
           }
          },
          "scene": {
           "xaxis": {
            "backgroundcolor": "white",
            "gridcolor": "#DFE8F3",
            "gridwidth": 2,
            "linecolor": "#EBF0F8",
            "showbackground": true,
            "ticks": "",
            "zerolinecolor": "#EBF0F8"
           },
           "yaxis": {
            "backgroundcolor": "white",
            "gridcolor": "#DFE8F3",
            "gridwidth": 2,
            "linecolor": "#EBF0F8",
            "showbackground": true,
            "ticks": "",
            "zerolinecolor": "#EBF0F8"
           },
           "zaxis": {
            "backgroundcolor": "white",
            "gridcolor": "#DFE8F3",
            "gridwidth": 2,
            "linecolor": "#EBF0F8",
            "showbackground": true,
            "ticks": "",
            "zerolinecolor": "#EBF0F8"
           }
          },
          "shapedefaults": {
           "line": {
            "color": "#2a3f5f"
           }
          },
          "ternary": {
           "aaxis": {
            "gridcolor": "#DFE8F3",
            "linecolor": "#A2B1C6",
            "ticks": ""
           },
           "baxis": {
            "gridcolor": "#DFE8F3",
            "linecolor": "#A2B1C6",
            "ticks": ""
           },
           "bgcolor": "white",
           "caxis": {
            "gridcolor": "#DFE8F3",
            "linecolor": "#A2B1C6",
            "ticks": ""
           }
          },
          "title": {
           "x": 0.05
          },
          "xaxis": {
           "automargin": true,
           "gridcolor": "#EBF0F8",
           "linecolor": "#EBF0F8",
           "ticks": "",
           "title": {
            "standoff": 15
           },
           "zerolinecolor": "#EBF0F8",
           "zerolinewidth": 2
          },
          "yaxis": {
           "automargin": true,
           "gridcolor": "#EBF0F8",
           "linecolor": "#EBF0F8",
           "ticks": "",
           "title": {
            "standoff": 15
           },
           "zerolinecolor": "#EBF0F8",
           "zerolinewidth": 2
          }
         }
        },
        "title": {
         "text": "Temperaturas Mensais - Lisboa",
         "x": 0.5,
         "xanchor": "center"
        },
        "xaxis": {
         "anchor": "y",
         "domain": [
          0,
          1
         ],
         "tickangle": 45,
         "title": {
          "text": "Ano-Mês"
         }
        },
        "yaxis": {
         "anchor": "x",
         "domain": [
          0,
          1
         ],
         "title": {
          "text": "Temperatura (°C)"
         }
        }
       }
      }
     },
     "metadata": {},
     "output_type": "display_data"
    },
    {
     "data": {
      "application/vnd.plotly.v1+json": {
       "config": {
        "plotlyServerURL": "https://plot.ly"
       },
       "data": [
        {
         "hovertemplate": "Tipo=media_maxtemp<br>Ano-Mês=%{x}<br>Temperatura (°C)=%{y}<extra></extra>",
         "legendgroup": "media_maxtemp",
         "line": {
          "color": "red",
          "dash": "solid"
         },
         "marker": {
          "symbol": "circle"
         },
         "mode": "lines",
         "name": "MaxTemp (mean)",
         "orientation": "v",
         "showlegend": true,
         "type": "scatter",
         "x": [
          "2024-06",
          "2024-07",
          "2024-08",
          "2024-09",
          "2024-10",
          "2024-11",
          "2024-12",
          "2025-01",
          "2025-02",
          "2025-03",
          "2025-04",
          "2025-05",
          "2025-06"
         ],
         "xaxis": "x",
         "y": {
          "bdata": "AAAAAAAANkC+99577708QJVSSimllD5A3t3d3d3dOEDfe++9994zQCIiIiIiojJAY4wxxhhjLEBCCCGEEEIqQJIkSZIkySxAttZaa621LkC8u7u7u7syQFtrrbXWWjZA3t3d3d3dPEA=",
          "dtype": "f8"
         },
         "yaxis": "y"
        },
        {
         "hovertemplate": "Tipo=media_mintemp<br>Ano-Mês=%{x}<br>Temperatura (°C)=%{y}<extra></extra>",
         "legendgroup": "media_mintemp",
         "line": {
          "color": "blue",
          "dash": "solid"
         },
         "marker": {
          "symbol": "circle"
         },
         "mode": "lines",
         "name": "MinTemp (mean)",
         "orientation": "v",
         "showlegend": true,
         "type": "scatter",
         "x": [
          "2024-06",
          "2024-07",
          "2024-08",
          "2024-09",
          "2024-10",
          "2024-11",
          "2024-12",
          "2025-01",
          "2025-02",
          "2025-03",
          "2025-04",
          "2025-05",
          "2025-06"
         ],
         "xaxis": "x",
         "y": {
          "bdata": "AAAAAAAALEBba6211lovQM4555xzzi9AzczMzMzMKUCMMcYYY4wpQAAAAAAAACZAlVJKKaWUFkDXWmuttdYaQEmSJEmSJBlAIYQQQgghGECamZmZmZkhQEoppZRSSiVAMzMzMzMzLUA=",
          "dtype": "f8"
         },
         "yaxis": "y"
        }
       ],
       "layout": {
        "annotations": [
         {
          "arrowhead": 2,
          "ax": 0,
          "ay": -30,
          "bgcolor": "white",
          "bordercolor": "gray",
          "borderpad": 4,
          "borderwidth": 1,
          "font": {
           "color": "black",
           "size": 12
          },
          "showarrow": true,
          "text": "Verão",
          "x": "2024-06",
          "y": 30.580645161290324
         },
         {
          "arrowhead": 2,
          "ax": 0,
          "ay": -30,
          "bgcolor": "white",
          "bordercolor": "gray",
          "borderpad": 4,
          "borderwidth": 1,
          "font": {
           "color": "black",
           "size": 12
          },
          "showarrow": true,
          "text": "Outono",
          "x": "2024-09",
          "y": 30.580645161290324
         },
         {
          "arrowhead": 2,
          "ax": 0,
          "ay": -30,
          "bgcolor": "white",
          "bordercolor": "gray",
          "borderpad": 4,
          "borderwidth": 1,
          "font": {
           "color": "black",
           "size": 12
          },
          "showarrow": true,
          "text": "Inverno",
          "x": "2024-12",
          "y": 30.580645161290324
         },
         {
          "arrowhead": 2,
          "ax": 0,
          "ay": -30,
          "bgcolor": "white",
          "bordercolor": "gray",
          "borderpad": 4,
          "borderwidth": 1,
          "font": {
           "color": "black",
           "size": 12
          },
          "showarrow": true,
          "text": "Primavera",
          "x": "2025-03",
          "y": 30.580645161290324
         }
        ],
        "legend": {
         "title": {
          "text": "Tipo"
         },
         "tracegroupgap": 0
        },
        "shapes": [
         {
          "line": {
           "color": "gray",
           "dash": "dash",
           "width": 2
          },
          "type": "line",
          "x0": "2024-06",
          "x1": "2024-06",
          "xref": "x",
          "y0": 5.645161290322581,
          "y1": 30.580645161290324,
          "yref": "y"
         },
         {
          "line": {
           "color": "gray",
           "dash": "dash",
           "width": 2
          },
          "type": "line",
          "x0": "2024-09",
          "x1": "2024-09",
          "xref": "x",
          "y0": 5.645161290322581,
          "y1": 30.580645161290324,
          "yref": "y"
         },
         {
          "line": {
           "color": "gray",
           "dash": "dash",
           "width": 2
          },
          "type": "line",
          "x0": "2024-12",
          "x1": "2024-12",
          "xref": "x",
          "y0": 5.645161290322581,
          "y1": 30.580645161290324,
          "yref": "y"
         },
         {
          "line": {
           "color": "gray",
           "dash": "dash",
           "width": 2
          },
          "type": "line",
          "x0": "2025-03",
          "x1": "2025-03",
          "xref": "x",
          "y0": 5.645161290322581,
          "y1": 30.580645161290324,
          "yref": "y"
         }
        ],
        "template": {
         "data": {
          "bar": [
           {
            "error_x": {
             "color": "#2a3f5f"
            },
            "error_y": {
             "color": "#2a3f5f"
            },
            "marker": {
             "line": {
              "color": "white",
              "width": 0.5
             },
             "pattern": {
              "fillmode": "overlay",
              "size": 10,
              "solidity": 0.2
             }
            },
            "type": "bar"
           }
          ],
          "barpolar": [
           {
            "marker": {
             "line": {
              "color": "white",
              "width": 0.5
             },
             "pattern": {
              "fillmode": "overlay",
              "size": 10,
              "solidity": 0.2
             }
            },
            "type": "barpolar"
           }
          ],
          "carpet": [
           {
            "aaxis": {
             "endlinecolor": "#2a3f5f",
             "gridcolor": "#C8D4E3",
             "linecolor": "#C8D4E3",
             "minorgridcolor": "#C8D4E3",
             "startlinecolor": "#2a3f5f"
            },
            "baxis": {
             "endlinecolor": "#2a3f5f",
             "gridcolor": "#C8D4E3",
             "linecolor": "#C8D4E3",
             "minorgridcolor": "#C8D4E3",
             "startlinecolor": "#2a3f5f"
            },
            "type": "carpet"
           }
          ],
          "choropleth": [
           {
            "colorbar": {
             "outlinewidth": 0,
             "ticks": ""
            },
            "type": "choropleth"
           }
          ],
          "contour": [
           {
            "colorbar": {
             "outlinewidth": 0,
             "ticks": ""
            },
            "colorscale": [
             [
              0,
              "#0d0887"
             ],
             [
              0.1111111111111111,
              "#46039f"
             ],
             [
              0.2222222222222222,
              "#7201a8"
             ],
             [
              0.3333333333333333,
              "#9c179e"
             ],
             [
              0.4444444444444444,
              "#bd3786"
             ],
             [
              0.5555555555555556,
              "#d8576b"
             ],
             [
              0.6666666666666666,
              "#ed7953"
             ],
             [
              0.7777777777777778,
              "#fb9f3a"
             ],
             [
              0.8888888888888888,
              "#fdca26"
             ],
             [
              1,
              "#f0f921"
             ]
            ],
            "type": "contour"
           }
          ],
          "contourcarpet": [
           {
            "colorbar": {
             "outlinewidth": 0,
             "ticks": ""
            },
            "type": "contourcarpet"
           }
          ],
          "heatmap": [
           {
            "colorbar": {
             "outlinewidth": 0,
             "ticks": ""
            },
            "colorscale": [
             [
              0,
              "#0d0887"
             ],
             [
              0.1111111111111111,
              "#46039f"
             ],
             [
              0.2222222222222222,
              "#7201a8"
             ],
             [
              0.3333333333333333,
              "#9c179e"
             ],
             [
              0.4444444444444444,
              "#bd3786"
             ],
             [
              0.5555555555555556,
              "#d8576b"
             ],
             [
              0.6666666666666666,
              "#ed7953"
             ],
             [
              0.7777777777777778,
              "#fb9f3a"
             ],
             [
              0.8888888888888888,
              "#fdca26"
             ],
             [
              1,
              "#f0f921"
             ]
            ],
            "type": "heatmap"
           }
          ],
          "histogram": [
           {
            "marker": {
             "pattern": {
              "fillmode": "overlay",
              "size": 10,
              "solidity": 0.2
             }
            },
            "type": "histogram"
           }
          ],
          "histogram2d": [
           {
            "colorbar": {
             "outlinewidth": 0,
             "ticks": ""
            },
            "colorscale": [
             [
              0,
              "#0d0887"
             ],
             [
              0.1111111111111111,
              "#46039f"
             ],
             [
              0.2222222222222222,
              "#7201a8"
             ],
             [
              0.3333333333333333,
              "#9c179e"
             ],
             [
              0.4444444444444444,
              "#bd3786"
             ],
             [
              0.5555555555555556,
              "#d8576b"
             ],
             [
              0.6666666666666666,
              "#ed7953"
             ],
             [
              0.7777777777777778,
              "#fb9f3a"
             ],
             [
              0.8888888888888888,
              "#fdca26"
             ],
             [
              1,
              "#f0f921"
             ]
            ],
            "type": "histogram2d"
           }
          ],
          "histogram2dcontour": [
           {
            "colorbar": {
             "outlinewidth": 0,
             "ticks": ""
            },
            "colorscale": [
             [
              0,
              "#0d0887"
             ],
             [
              0.1111111111111111,
              "#46039f"
             ],
             [
              0.2222222222222222,
              "#7201a8"
             ],
             [
              0.3333333333333333,
              "#9c179e"
             ],
             [
              0.4444444444444444,
              "#bd3786"
             ],
             [
              0.5555555555555556,
              "#d8576b"
             ],
             [
              0.6666666666666666,
              "#ed7953"
             ],
             [
              0.7777777777777778,
              "#fb9f3a"
             ],
             [
              0.8888888888888888,
              "#fdca26"
             ],
             [
              1,
              "#f0f921"
             ]
            ],
            "type": "histogram2dcontour"
           }
          ],
          "mesh3d": [
           {
            "colorbar": {
             "outlinewidth": 0,
             "ticks": ""
            },
            "type": "mesh3d"
           }
          ],
          "parcoords": [
           {
            "line": {
             "colorbar": {
              "outlinewidth": 0,
              "ticks": ""
             }
            },
            "type": "parcoords"
           }
          ],
          "pie": [
           {
            "automargin": true,
            "type": "pie"
           }
          ],
          "scatter": [
           {
            "fillpattern": {
             "fillmode": "overlay",
             "size": 10,
             "solidity": 0.2
            },
            "type": "scatter"
           }
          ],
          "scatter3d": [
           {
            "line": {
             "colorbar": {
              "outlinewidth": 0,
              "ticks": ""
             }
            },
            "marker": {
             "colorbar": {
              "outlinewidth": 0,
              "ticks": ""
             }
            },
            "type": "scatter3d"
           }
          ],
          "scattercarpet": [
           {
            "marker": {
             "colorbar": {
              "outlinewidth": 0,
              "ticks": ""
             }
            },
            "type": "scattercarpet"
           }
          ],
          "scattergeo": [
           {
            "marker": {
             "colorbar": {
              "outlinewidth": 0,
              "ticks": ""
             }
            },
            "type": "scattergeo"
           }
          ],
          "scattergl": [
           {
            "marker": {
             "colorbar": {
              "outlinewidth": 0,
              "ticks": ""
             }
            },
            "type": "scattergl"
           }
          ],
          "scattermap": [
           {
            "marker": {
             "colorbar": {
              "outlinewidth": 0,
              "ticks": ""
             }
            },
            "type": "scattermap"
           }
          ],
          "scattermapbox": [
           {
            "marker": {
             "colorbar": {
              "outlinewidth": 0,
              "ticks": ""
             }
            },
            "type": "scattermapbox"
           }
          ],
          "scatterpolar": [
           {
            "marker": {
             "colorbar": {
              "outlinewidth": 0,
              "ticks": ""
             }
            },
            "type": "scatterpolar"
           }
          ],
          "scatterpolargl": [
           {
            "marker": {
             "colorbar": {
              "outlinewidth": 0,
              "ticks": ""
             }
            },
            "type": "scatterpolargl"
           }
          ],
          "scatterternary": [
           {
            "marker": {
             "colorbar": {
              "outlinewidth": 0,
              "ticks": ""
             }
            },
            "type": "scatterternary"
           }
          ],
          "surface": [
           {
            "colorbar": {
             "outlinewidth": 0,
             "ticks": ""
            },
            "colorscale": [
             [
              0,
              "#0d0887"
             ],
             [
              0.1111111111111111,
              "#46039f"
             ],
             [
              0.2222222222222222,
              "#7201a8"
             ],
             [
              0.3333333333333333,
              "#9c179e"
             ],
             [
              0.4444444444444444,
              "#bd3786"
             ],
             [
              0.5555555555555556,
              "#d8576b"
             ],
             [
              0.6666666666666666,
              "#ed7953"
             ],
             [
              0.7777777777777778,
              "#fb9f3a"
             ],
             [
              0.8888888888888888,
              "#fdca26"
             ],
             [
              1,
              "#f0f921"
             ]
            ],
            "type": "surface"
           }
          ],
          "table": [
           {
            "cells": {
             "fill": {
              "color": "#EBF0F8"
             },
             "line": {
              "color": "white"
             }
            },
            "header": {
             "fill": {
              "color": "#C8D4E3"
             },
             "line": {
              "color": "white"
             }
            },
            "type": "table"
           }
          ]
         },
         "layout": {
          "annotationdefaults": {
           "arrowcolor": "#2a3f5f",
           "arrowhead": 0,
           "arrowwidth": 1
          },
          "autotypenumbers": "strict",
          "coloraxis": {
           "colorbar": {
            "outlinewidth": 0,
            "ticks": ""
           }
          },
          "colorscale": {
           "diverging": [
            [
             0,
             "#8e0152"
            ],
            [
             0.1,
             "#c51b7d"
            ],
            [
             0.2,
             "#de77ae"
            ],
            [
             0.3,
             "#f1b6da"
            ],
            [
             0.4,
             "#fde0ef"
            ],
            [
             0.5,
             "#f7f7f7"
            ],
            [
             0.6,
             "#e6f5d0"
            ],
            [
             0.7,
             "#b8e186"
            ],
            [
             0.8,
             "#7fbc41"
            ],
            [
             0.9,
             "#4d9221"
            ],
            [
             1,
             "#276419"
            ]
           ],
           "sequential": [
            [
             0,
             "#0d0887"
            ],
            [
             0.1111111111111111,
             "#46039f"
            ],
            [
             0.2222222222222222,
             "#7201a8"
            ],
            [
             0.3333333333333333,
             "#9c179e"
            ],
            [
             0.4444444444444444,
             "#bd3786"
            ],
            [
             0.5555555555555556,
             "#d8576b"
            ],
            [
             0.6666666666666666,
             "#ed7953"
            ],
            [
             0.7777777777777778,
             "#fb9f3a"
            ],
            [
             0.8888888888888888,
             "#fdca26"
            ],
            [
             1,
             "#f0f921"
            ]
           ],
           "sequentialminus": [
            [
             0,
             "#0d0887"
            ],
            [
             0.1111111111111111,
             "#46039f"
            ],
            [
             0.2222222222222222,
             "#7201a8"
            ],
            [
             0.3333333333333333,
             "#9c179e"
            ],
            [
             0.4444444444444444,
             "#bd3786"
            ],
            [
             0.5555555555555556,
             "#d8576b"
            ],
            [
             0.6666666666666666,
             "#ed7953"
            ],
            [
             0.7777777777777778,
             "#fb9f3a"
            ],
            [
             0.8888888888888888,
             "#fdca26"
            ],
            [
             1,
             "#f0f921"
            ]
           ]
          },
          "colorway": [
           "#636efa",
           "#EF553B",
           "#00cc96",
           "#ab63fa",
           "#FFA15A",
           "#19d3f3",
           "#FF6692",
           "#B6E880",
           "#FF97FF",
           "#FECB52"
          ],
          "font": {
           "color": "#2a3f5f"
          },
          "geo": {
           "bgcolor": "white",
           "lakecolor": "white",
           "landcolor": "white",
           "showlakes": true,
           "showland": true,
           "subunitcolor": "#C8D4E3"
          },
          "hoverlabel": {
           "align": "left"
          },
          "hovermode": "closest",
          "mapbox": {
           "style": "light"
          },
          "paper_bgcolor": "white",
          "plot_bgcolor": "white",
          "polar": {
           "angularaxis": {
            "gridcolor": "#EBF0F8",
            "linecolor": "#EBF0F8",
            "ticks": ""
           },
           "bgcolor": "white",
           "radialaxis": {
            "gridcolor": "#EBF0F8",
            "linecolor": "#EBF0F8",
            "ticks": ""
           }
          },
          "scene": {
           "xaxis": {
            "backgroundcolor": "white",
            "gridcolor": "#DFE8F3",
            "gridwidth": 2,
            "linecolor": "#EBF0F8",
            "showbackground": true,
            "ticks": "",
            "zerolinecolor": "#EBF0F8"
           },
           "yaxis": {
            "backgroundcolor": "white",
            "gridcolor": "#DFE8F3",
            "gridwidth": 2,
            "linecolor": "#EBF0F8",
            "showbackground": true,
            "ticks": "",
            "zerolinecolor": "#EBF0F8"
           },
           "zaxis": {
            "backgroundcolor": "white",
            "gridcolor": "#DFE8F3",
            "gridwidth": 2,
            "linecolor": "#EBF0F8",
            "showbackground": true,
            "ticks": "",
            "zerolinecolor": "#EBF0F8"
           }
          },
          "shapedefaults": {
           "line": {
            "color": "#2a3f5f"
           }
          },
          "ternary": {
           "aaxis": {
            "gridcolor": "#DFE8F3",
            "linecolor": "#A2B1C6",
            "ticks": ""
           },
           "baxis": {
            "gridcolor": "#DFE8F3",
            "linecolor": "#A2B1C6",
            "ticks": ""
           },
           "bgcolor": "white",
           "caxis": {
            "gridcolor": "#DFE8F3",
            "linecolor": "#A2B1C6",
            "ticks": ""
           }
          },
          "title": {
           "x": 0.05
          },
          "xaxis": {
           "automargin": true,
           "gridcolor": "#EBF0F8",
           "linecolor": "#EBF0F8",
           "ticks": "",
           "title": {
            "standoff": 15
           },
           "zerolinecolor": "#EBF0F8",
           "zerolinewidth": 2
          },
          "yaxis": {
           "automargin": true,
           "gridcolor": "#EBF0F8",
           "linecolor": "#EBF0F8",
           "ticks": "",
           "title": {
            "standoff": 15
           },
           "zerolinecolor": "#EBF0F8",
           "zerolinewidth": 2
          }
         }
        },
        "title": {
         "text": "Temperaturas Mensais - Braga",
         "x": 0.5,
         "xanchor": "center"
        },
        "xaxis": {
         "anchor": "y",
         "domain": [
          0,
          1
         ],
         "tickangle": 45,
         "title": {
          "text": "Ano-Mês"
         }
        },
        "yaxis": {
         "anchor": "x",
         "domain": [
          0,
          1
         ],
         "title": {
          "text": "Temperatura (°C)"
         }
        }
       }
      }
     },
     "metadata": {},
     "output_type": "display_data"
    },
    {
     "data": {
      "application/vnd.plotly.v1+json": {
       "config": {
        "plotlyServerURL": "https://plot.ly"
       },
       "data": [
        {
         "hovertemplate": "Tipo=media_maxtemp<br>Ano-Mês=%{x}<br>Temperatura (°C)=%{y}<extra></extra>",
         "legendgroup": "media_maxtemp",
         "line": {
          "color": "red",
          "dash": "solid"
         },
         "marker": {
          "symbol": "circle"
         },
         "mode": "lines",
         "name": "MaxTemp (mean)",
         "orientation": "v",
         "showlegend": true,
         "type": "scatter",
         "x": [
          "2024-06",
          "2024-07",
          "2024-08",
          "2024-09",
          "2024-10",
          "2024-11",
          "2024-12",
          "2025-01",
          "2025-02",
          "2025-03",
          "2025-04",
          "2025-05",
          "2025-06"
         ],
         "xaxis": "x",
         "y": {
          "bdata": "AAAAAAAAN0A655xzzjk9QHTOOeeccz5AMzMzMzMzOkBjjDHGGGM2QFVVVVVVVTRAlVJKKaWUMECttdZaa60vQNu2bdu2LTBAMsYYY4wxMEAAAAAAAIAzQK211lprrTZAvLu7u7s7PEA=",
          "dtype": "f8"
         },
         "yaxis": "y"
        },
        {
         "hovertemplate": "Tipo=media_mintemp<br>Ano-Mês=%{x}<br>Temperatura (°C)=%{y}<extra></extra>",
         "legendgroup": "media_mintemp",
         "line": {
          "color": "blue",
          "dash": "solid"
         },
         "marker": {
          "symbol": "circle"
         },
         "mode": "lines",
         "name": "MinTemp (mean)",
         "orientation": "v",
         "showlegend": true,
         "type": "scatter",
         "x": [
          "2024-06",
          "2024-07",
          "2024-08",
          "2024-09",
          "2024-10",
          "2024-11",
          "2024-12",
          "2025-01",
          "2025-02",
          "2025-03",
          "2025-04",
          "2025-05",
          "2025-06"
         ],
         "xaxis": "x",
         "y": {
          "bdata": "AAAAAAAAMUDvvffee+8wQBljjDHGGDFAAAAAAAAAMEAyxhhjjDEwQGZmZmZmZitA55xzzjnnIkCllFJKKaUkQEmSJEmSpCNArbXWWmutI0Dv7u7u7u4nQIQQQgghhCpAzczMzMxMMEA=",
          "dtype": "f8"
         },
         "yaxis": "y"
        }
       ],
       "layout": {
        "annotations": [
         {
          "arrowhead": 2,
          "ax": 0,
          "ay": -30,
          "bgcolor": "white",
          "bordercolor": "gray",
          "borderpad": 4,
          "borderwidth": 1,
          "font": {
           "color": "black",
           "size": 12
          },
          "showarrow": true,
          "text": "Verão",
          "x": "2024-06",
          "y": 30.451612903225808
         },
         {
          "arrowhead": 2,
          "ax": 0,
          "ay": -30,
          "bgcolor": "white",
          "bordercolor": "gray",
          "borderpad": 4,
          "borderwidth": 1,
          "font": {
           "color": "black",
           "size": 12
          },
          "showarrow": true,
          "text": "Outono",
          "x": "2024-09",
          "y": 30.451612903225808
         },
         {
          "arrowhead": 2,
          "ax": 0,
          "ay": -30,
          "bgcolor": "white",
          "bordercolor": "gray",
          "borderpad": 4,
          "borderwidth": 1,
          "font": {
           "color": "black",
           "size": 12
          },
          "showarrow": true,
          "text": "Inverno",
          "x": "2024-12",
          "y": 30.451612903225808
         },
         {
          "arrowhead": 2,
          "ax": 0,
          "ay": -30,
          "bgcolor": "white",
          "bordercolor": "gray",
          "borderpad": 4,
          "borderwidth": 1,
          "font": {
           "color": "black",
           "size": 12
          },
          "showarrow": true,
          "text": "Primavera",
          "x": "2025-03",
          "y": 30.451612903225808
         }
        ],
        "legend": {
         "title": {
          "text": "Tipo"
         },
         "tracegroupgap": 0
        },
        "shapes": [
         {
          "line": {
           "color": "gray",
           "dash": "dash",
           "width": 2
          },
          "type": "line",
          "x0": "2024-06",
          "x1": "2024-06",
          "xref": "x",
          "y0": 9.451612903225806,
          "y1": 30.451612903225808,
          "yref": "y"
         },
         {
          "line": {
           "color": "gray",
           "dash": "dash",
           "width": 2
          },
          "type": "line",
          "x0": "2024-09",
          "x1": "2024-09",
          "xref": "x",
          "y0": 9.451612903225806,
          "y1": 30.451612903225808,
          "yref": "y"
         },
         {
          "line": {
           "color": "gray",
           "dash": "dash",
           "width": 2
          },
          "type": "line",
          "x0": "2024-12",
          "x1": "2024-12",
          "xref": "x",
          "y0": 9.451612903225806,
          "y1": 30.451612903225808,
          "yref": "y"
         },
         {
          "line": {
           "color": "gray",
           "dash": "dash",
           "width": 2
          },
          "type": "line",
          "x0": "2025-03",
          "x1": "2025-03",
          "xref": "x",
          "y0": 9.451612903225806,
          "y1": 30.451612903225808,
          "yref": "y"
         }
        ],
        "template": {
         "data": {
          "bar": [
           {
            "error_x": {
             "color": "#2a3f5f"
            },
            "error_y": {
             "color": "#2a3f5f"
            },
            "marker": {
             "line": {
              "color": "white",
              "width": 0.5
             },
             "pattern": {
              "fillmode": "overlay",
              "size": 10,
              "solidity": 0.2
             }
            },
            "type": "bar"
           }
          ],
          "barpolar": [
           {
            "marker": {
             "line": {
              "color": "white",
              "width": 0.5
             },
             "pattern": {
              "fillmode": "overlay",
              "size": 10,
              "solidity": 0.2
             }
            },
            "type": "barpolar"
           }
          ],
          "carpet": [
           {
            "aaxis": {
             "endlinecolor": "#2a3f5f",
             "gridcolor": "#C8D4E3",
             "linecolor": "#C8D4E3",
             "minorgridcolor": "#C8D4E3",
             "startlinecolor": "#2a3f5f"
            },
            "baxis": {
             "endlinecolor": "#2a3f5f",
             "gridcolor": "#C8D4E3",
             "linecolor": "#C8D4E3",
             "minorgridcolor": "#C8D4E3",
             "startlinecolor": "#2a3f5f"
            },
            "type": "carpet"
           }
          ],
          "choropleth": [
           {
            "colorbar": {
             "outlinewidth": 0,
             "ticks": ""
            },
            "type": "choropleth"
           }
          ],
          "contour": [
           {
            "colorbar": {
             "outlinewidth": 0,
             "ticks": ""
            },
            "colorscale": [
             [
              0,
              "#0d0887"
             ],
             [
              0.1111111111111111,
              "#46039f"
             ],
             [
              0.2222222222222222,
              "#7201a8"
             ],
             [
              0.3333333333333333,
              "#9c179e"
             ],
             [
              0.4444444444444444,
              "#bd3786"
             ],
             [
              0.5555555555555556,
              "#d8576b"
             ],
             [
              0.6666666666666666,
              "#ed7953"
             ],
             [
              0.7777777777777778,
              "#fb9f3a"
             ],
             [
              0.8888888888888888,
              "#fdca26"
             ],
             [
              1,
              "#f0f921"
             ]
            ],
            "type": "contour"
           }
          ],
          "contourcarpet": [
           {
            "colorbar": {
             "outlinewidth": 0,
             "ticks": ""
            },
            "type": "contourcarpet"
           }
          ],
          "heatmap": [
           {
            "colorbar": {
             "outlinewidth": 0,
             "ticks": ""
            },
            "colorscale": [
             [
              0,
              "#0d0887"
             ],
             [
              0.1111111111111111,
              "#46039f"
             ],
             [
              0.2222222222222222,
              "#7201a8"
             ],
             [
              0.3333333333333333,
              "#9c179e"
             ],
             [
              0.4444444444444444,
              "#bd3786"
             ],
             [
              0.5555555555555556,
              "#d8576b"
             ],
             [
              0.6666666666666666,
              "#ed7953"
             ],
             [
              0.7777777777777778,
              "#fb9f3a"
             ],
             [
              0.8888888888888888,
              "#fdca26"
             ],
             [
              1,
              "#f0f921"
             ]
            ],
            "type": "heatmap"
           }
          ],
          "histogram": [
           {
            "marker": {
             "pattern": {
              "fillmode": "overlay",
              "size": 10,
              "solidity": 0.2
             }
            },
            "type": "histogram"
           }
          ],
          "histogram2d": [
           {
            "colorbar": {
             "outlinewidth": 0,
             "ticks": ""
            },
            "colorscale": [
             [
              0,
              "#0d0887"
             ],
             [
              0.1111111111111111,
              "#46039f"
             ],
             [
              0.2222222222222222,
              "#7201a8"
             ],
             [
              0.3333333333333333,
              "#9c179e"
             ],
             [
              0.4444444444444444,
              "#bd3786"
             ],
             [
              0.5555555555555556,
              "#d8576b"
             ],
             [
              0.6666666666666666,
              "#ed7953"
             ],
             [
              0.7777777777777778,
              "#fb9f3a"
             ],
             [
              0.8888888888888888,
              "#fdca26"
             ],
             [
              1,
              "#f0f921"
             ]
            ],
            "type": "histogram2d"
           }
          ],
          "histogram2dcontour": [
           {
            "colorbar": {
             "outlinewidth": 0,
             "ticks": ""
            },
            "colorscale": [
             [
              0,
              "#0d0887"
             ],
             [
              0.1111111111111111,
              "#46039f"
             ],
             [
              0.2222222222222222,
              "#7201a8"
             ],
             [
              0.3333333333333333,
              "#9c179e"
             ],
             [
              0.4444444444444444,
              "#bd3786"
             ],
             [
              0.5555555555555556,
              "#d8576b"
             ],
             [
              0.6666666666666666,
              "#ed7953"
             ],
             [
              0.7777777777777778,
              "#fb9f3a"
             ],
             [
              0.8888888888888888,
              "#fdca26"
             ],
             [
              1,
              "#f0f921"
             ]
            ],
            "type": "histogram2dcontour"
           }
          ],
          "mesh3d": [
           {
            "colorbar": {
             "outlinewidth": 0,
             "ticks": ""
            },
            "type": "mesh3d"
           }
          ],
          "parcoords": [
           {
            "line": {
             "colorbar": {
              "outlinewidth": 0,
              "ticks": ""
             }
            },
            "type": "parcoords"
           }
          ],
          "pie": [
           {
            "automargin": true,
            "type": "pie"
           }
          ],
          "scatter": [
           {
            "fillpattern": {
             "fillmode": "overlay",
             "size": 10,
             "solidity": 0.2
            },
            "type": "scatter"
           }
          ],
          "scatter3d": [
           {
            "line": {
             "colorbar": {
              "outlinewidth": 0,
              "ticks": ""
             }
            },
            "marker": {
             "colorbar": {
              "outlinewidth": 0,
              "ticks": ""
             }
            },
            "type": "scatter3d"
           }
          ],
          "scattercarpet": [
           {
            "marker": {
             "colorbar": {
              "outlinewidth": 0,
              "ticks": ""
             }
            },
            "type": "scattercarpet"
           }
          ],
          "scattergeo": [
           {
            "marker": {
             "colorbar": {
              "outlinewidth": 0,
              "ticks": ""
             }
            },
            "type": "scattergeo"
           }
          ],
          "scattergl": [
           {
            "marker": {
             "colorbar": {
              "outlinewidth": 0,
              "ticks": ""
             }
            },
            "type": "scattergl"
           }
          ],
          "scattermap": [
           {
            "marker": {
             "colorbar": {
              "outlinewidth": 0,
              "ticks": ""
             }
            },
            "type": "scattermap"
           }
          ],
          "scattermapbox": [
           {
            "marker": {
             "colorbar": {
              "outlinewidth": 0,
              "ticks": ""
             }
            },
            "type": "scattermapbox"
           }
          ],
          "scatterpolar": [
           {
            "marker": {
             "colorbar": {
              "outlinewidth": 0,
              "ticks": ""
             }
            },
            "type": "scatterpolar"
           }
          ],
          "scatterpolargl": [
           {
            "marker": {
             "colorbar": {
              "outlinewidth": 0,
              "ticks": ""
             }
            },
            "type": "scatterpolargl"
           }
          ],
          "scatterternary": [
           {
            "marker": {
             "colorbar": {
              "outlinewidth": 0,
              "ticks": ""
             }
            },
            "type": "scatterternary"
           }
          ],
          "surface": [
           {
            "colorbar": {
             "outlinewidth": 0,
             "ticks": ""
            },
            "colorscale": [
             [
              0,
              "#0d0887"
             ],
             [
              0.1111111111111111,
              "#46039f"
             ],
             [
              0.2222222222222222,
              "#7201a8"
             ],
             [
              0.3333333333333333,
              "#9c179e"
             ],
             [
              0.4444444444444444,
              "#bd3786"
             ],
             [
              0.5555555555555556,
              "#d8576b"
             ],
             [
              0.6666666666666666,
              "#ed7953"
             ],
             [
              0.7777777777777778,
              "#fb9f3a"
             ],
             [
              0.8888888888888888,
              "#fdca26"
             ],
             [
              1,
              "#f0f921"
             ]
            ],
            "type": "surface"
           }
          ],
          "table": [
           {
            "cells": {
             "fill": {
              "color": "#EBF0F8"
             },
             "line": {
              "color": "white"
             }
            },
            "header": {
             "fill": {
              "color": "#C8D4E3"
             },
             "line": {
              "color": "white"
             }
            },
            "type": "table"
           }
          ]
         },
         "layout": {
          "annotationdefaults": {
           "arrowcolor": "#2a3f5f",
           "arrowhead": 0,
           "arrowwidth": 1
          },
          "autotypenumbers": "strict",
          "coloraxis": {
           "colorbar": {
            "outlinewidth": 0,
            "ticks": ""
           }
          },
          "colorscale": {
           "diverging": [
            [
             0,
             "#8e0152"
            ],
            [
             0.1,
             "#c51b7d"
            ],
            [
             0.2,
             "#de77ae"
            ],
            [
             0.3,
             "#f1b6da"
            ],
            [
             0.4,
             "#fde0ef"
            ],
            [
             0.5,
             "#f7f7f7"
            ],
            [
             0.6,
             "#e6f5d0"
            ],
            [
             0.7,
             "#b8e186"
            ],
            [
             0.8,
             "#7fbc41"
            ],
            [
             0.9,
             "#4d9221"
            ],
            [
             1,
             "#276419"
            ]
           ],
           "sequential": [
            [
             0,
             "#0d0887"
            ],
            [
             0.1111111111111111,
             "#46039f"
            ],
            [
             0.2222222222222222,
             "#7201a8"
            ],
            [
             0.3333333333333333,
             "#9c179e"
            ],
            [
             0.4444444444444444,
             "#bd3786"
            ],
            [
             0.5555555555555556,
             "#d8576b"
            ],
            [
             0.6666666666666666,
             "#ed7953"
            ],
            [
             0.7777777777777778,
             "#fb9f3a"
            ],
            [
             0.8888888888888888,
             "#fdca26"
            ],
            [
             1,
             "#f0f921"
            ]
           ],
           "sequentialminus": [
            [
             0,
             "#0d0887"
            ],
            [
             0.1111111111111111,
             "#46039f"
            ],
            [
             0.2222222222222222,
             "#7201a8"
            ],
            [
             0.3333333333333333,
             "#9c179e"
            ],
            [
             0.4444444444444444,
             "#bd3786"
            ],
            [
             0.5555555555555556,
             "#d8576b"
            ],
            [
             0.6666666666666666,
             "#ed7953"
            ],
            [
             0.7777777777777778,
             "#fb9f3a"
            ],
            [
             0.8888888888888888,
             "#fdca26"
            ],
            [
             1,
             "#f0f921"
            ]
           ]
          },
          "colorway": [
           "#636efa",
           "#EF553B",
           "#00cc96",
           "#ab63fa",
           "#FFA15A",
           "#19d3f3",
           "#FF6692",
           "#B6E880",
           "#FF97FF",
           "#FECB52"
          ],
          "font": {
           "color": "#2a3f5f"
          },
          "geo": {
           "bgcolor": "white",
           "lakecolor": "white",
           "landcolor": "white",
           "showlakes": true,
           "showland": true,
           "subunitcolor": "#C8D4E3"
          },
          "hoverlabel": {
           "align": "left"
          },
          "hovermode": "closest",
          "mapbox": {
           "style": "light"
          },
          "paper_bgcolor": "white",
          "plot_bgcolor": "white",
          "polar": {
           "angularaxis": {
            "gridcolor": "#EBF0F8",
            "linecolor": "#EBF0F8",
            "ticks": ""
           },
           "bgcolor": "white",
           "radialaxis": {
            "gridcolor": "#EBF0F8",
            "linecolor": "#EBF0F8",
            "ticks": ""
           }
          },
          "scene": {
           "xaxis": {
            "backgroundcolor": "white",
            "gridcolor": "#DFE8F3",
            "gridwidth": 2,
            "linecolor": "#EBF0F8",
            "showbackground": true,
            "ticks": "",
            "zerolinecolor": "#EBF0F8"
           },
           "yaxis": {
            "backgroundcolor": "white",
            "gridcolor": "#DFE8F3",
            "gridwidth": 2,
            "linecolor": "#EBF0F8",
            "showbackground": true,
            "ticks": "",
            "zerolinecolor": "#EBF0F8"
           },
           "zaxis": {
            "backgroundcolor": "white",
            "gridcolor": "#DFE8F3",
            "gridwidth": 2,
            "linecolor": "#EBF0F8",
            "showbackground": true,
            "ticks": "",
            "zerolinecolor": "#EBF0F8"
           }
          },
          "shapedefaults": {
           "line": {
            "color": "#2a3f5f"
           }
          },
          "ternary": {
           "aaxis": {
            "gridcolor": "#DFE8F3",
            "linecolor": "#A2B1C6",
            "ticks": ""
           },
           "baxis": {
            "gridcolor": "#DFE8F3",
            "linecolor": "#A2B1C6",
            "ticks": ""
           },
           "bgcolor": "white",
           "caxis": {
            "gridcolor": "#DFE8F3",
            "linecolor": "#A2B1C6",
            "ticks": ""
           }
          },
          "title": {
           "x": 0.05
          },
          "xaxis": {
           "automargin": true,
           "gridcolor": "#EBF0F8",
           "linecolor": "#EBF0F8",
           "ticks": "",
           "title": {
            "standoff": 15
           },
           "zerolinecolor": "#EBF0F8",
           "zerolinewidth": 2
          },
          "yaxis": {
           "automargin": true,
           "gridcolor": "#EBF0F8",
           "linecolor": "#EBF0F8",
           "ticks": "",
           "title": {
            "standoff": 15
           },
           "zerolinecolor": "#EBF0F8",
           "zerolinewidth": 2
          }
         }
        },
        "title": {
         "text": "Temperaturas Mensais - Setubal",
         "x": 0.5,
         "xanchor": "center"
        },
        "xaxis": {
         "anchor": "y",
         "domain": [
          0,
          1
         ],
         "tickangle": 45,
         "title": {
          "text": "Ano-Mês"
         }
        },
        "yaxis": {
         "anchor": "x",
         "domain": [
          0,
          1
         ],
         "title": {
          "text": "Temperatura (°C)"
         }
        }
       }
      }
     },
     "metadata": {},
     "output_type": "display_data"
    }
   ],
   "source": [
    "# Exemplo de uso:\n",
    "cidades_lista = ['Monchique','Porto', 'Lisboa', 'Braga', 'Setubal']\n",
    "plot_temperaturas(cidades_lista, df_resumo_mensal)"
   ]
  }
 ],
 "metadata": {
  "kernelspec": {
   "display_name": "Python 3",
   "language": "python",
   "name": "python3"
  },
  "language_info": {
   "codemirror_mode": {
    "name": "ipython",
    "version": 3
   },
   "file_extension": ".py",
   "mimetype": "text/x-python",
   "name": "python",
   "nbconvert_exporter": "python",
   "pygments_lexer": "ipython3",
   "version": "3.11.9"
  }
 },
 "nbformat": 4,
 "nbformat_minor": 5
}
