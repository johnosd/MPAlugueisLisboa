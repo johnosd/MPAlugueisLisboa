{
 "cells": [
  {
   "cell_type": "code",
   "execution_count": 1,
   "id": "ed086be9",
   "metadata": {},
   "outputs": [],
   "source": [
    "from pathlib import Path\n",
    "import time\n",
    "import csv\n",
    "from wwo_hist import retrieve_hist_data\n",
    "from typing import List, Iterable\n",
    "import os"
   ]
  },
  {
   "cell_type": "code",
   "execution_count": 2,
   "id": "5b9233c9",
   "metadata": {},
   "outputs": [],
   "source": [
    "API_KEY   = \"5ccf4c0bfb8849ddaf8204104250207\"\n",
    "\n",
    "# se __file__ existir, usa a pasta do arquivo; senão, usa a pasta atual\n",
    "BASE_ROOT = Path(__file__).resolve().parent if \"__file__\" in globals() else Path.cwd()\n",
    "\n",
    "BASE_DIR  = BASE_ROOT / \"..\" / \"..\" / \"Bases\" / \"Clima\" / \"worldWeatherApi\"\n",
    "DONE_DIR  = BASE_DIR / \"done\"\n",
    "DONE_FILE = DONE_DIR / \"done.txt\""
   ]
  },
  {
   "cell_type": "code",
   "execution_count": null,
   "id": "46d5fbcf",
   "metadata": {},
   "outputs": [],
   "source": [
    "from pathlib import Path\n",
    "from typing  import List, Iterable\n",
    "from wwo_hist import retrieve_hist_data\n",
    "import time, os\n",
    "\n",
    "\n",
    "\n",
    "# ------------------------------------------------------------------ utilidades\n",
    "def save_lines(lines: Iterable[str], file: Path) -> None:\n",
    "    file.write_text(\"\\n\".join(lines), encoding=\"utf-8\")\n",
    "\n",
    "def read_lines(file: Path) -> List[str]:\n",
    "    return file.read_text(encoding=\"utf-8\").splitlines() if file.exists() else []\n",
    "\n",
    "# ------------------------------------------------------------------ download\n",
    "def fetch_history(city: str, start: str, end: str, freq: int = 24, pause: float = 2):\n",
    "    \"\"\"Baixa os dados da cidade e grava o CSV DENTRO de BASE_DIR.\"\"\"\n",
    "    time.sleep(pause)\n",
    "\n",
    "    cwd = Path.cwd()            # guarda onde eu estava\n",
    "    try:\n",
    "        os.chdir(BASE_DIR)      # muda só durante o download\n",
    "        retrieve_hist_data(\n",
    "            API_KEY, [city], start, end, freq,\n",
    "            location_label=False, export_csv=True, store_df=True\n",
    "        )\n",
    "    finally:\n",
    "        os.chdir(cwd)           # volta ao normal\n",
    "\n",
    "# ------------------------------------------------------------------ orquestra\n",
    "def process_weather(\n",
    "    locations: List[str],\n",
    "    start_date=\"2025-06-25\",\n",
    "    end_date=\"2025-07-01\",\n",
    "    freq=24,\n",
    "    retries=3,\n",
    "):\n",
    "    # garante pastas\n",
    "    DONE_DIR.mkdir(parents=True, exist_ok=True)\n",
    "    done = set(read_lines(DONE_FILE))\n",
    "\n",
    "    for city in locations:\n",
    "        if city in done:\n",
    "            continue\n",
    "\n",
    "        for attempt in range(1, retries + 1):\n",
    "            try:\n",
    "                fetch_history(city, start_date, end_date, freq)\n",
    "                done.add(city)\n",
    "                save_lines(sorted(done), DONE_FILE)\n",
    "                break\n",
    "            except Exception as err:\n",
    "                print(f\"Falhou {city} ({attempt}/{retries}): {err}\")\n",
    "                if attempt == retries:\n",
    "                    print(\"Desisti dessa cidade.\")\n"
   ]
  },
  {
   "cell_type": "code",
   "execution_count": 50,
   "id": "fcf80053",
   "metadata": {},
   "outputs": [
    {
     "name": "stdout",
     "output_type": "stream",
     "text": [
      "\n",
      "\n",
      "Retrieving weather data for Brasil,Marilia\n",
      "\n",
      "\n",
      "Currently retrieving data for Brasil,Marilia: from 2025-06-25 to 2025-06-30\n"
     ]
    },
    {
     "name": "stderr",
     "output_type": "stream",
     "text": [
      "C:\\Users\\johns\\AppData\\Local\\Packages\\PythonSoftwareFoundation.Python.3.11_qbz5n2kfra8p0\\LocalCache\\local-packages\\Python311\\site-packages\\wwo_hist\\__init__.py:69: FutureWarning: Argument `closed` is deprecated in favor of `inclusive`.\n",
      "  list_mon_begin = pd.date_range(start_date, end_date, freq='MS', closed='right')\n",
      "C:\\Users\\johns\\AppData\\Local\\Packages\\PythonSoftwareFoundation.Python.3.11_qbz5n2kfra8p0\\LocalCache\\local-packages\\Python311\\site-packages\\wwo_hist\\__init__.py:74: FutureWarning: Argument `closed` is deprecated in favor of `inclusive`.\n",
      "  list_mon_end = pd.date_range(start_date, end_date, freq='M', closed='left')\n"
     ]
    },
    {
     "name": "stdout",
     "output_type": "stream",
     "text": [
      "Time elapsed (hh:mm:ss.ms) 0:00:00.328313\n",
      "Currently retrieving data for Brasil,Marilia: from 2025-07-01 to 2025-07-01\n",
      "Time elapsed (hh:mm:ss.ms) 0:00:00.777023\n",
      "\n",
      "\n",
      "export Brasil,Marilia completed!\n",
      "\n",
      "\n"
     ]
    }
   ],
   "source": [
    "cidades = [\"Brasil,Marilia\"]\n",
    "process_weather(cidades)"
   ]
  },
  {
   "cell_type": "code",
   "execution_count": null,
   "id": "5a20b078",
   "metadata": {},
   "outputs": [],
   "source": []
  },
  {
   "cell_type": "code",
   "execution_count": null,
   "id": "299c719d",
   "metadata": {},
   "outputs": [],
   "source": []
  }
 ],
 "metadata": {
  "kernelspec": {
   "display_name": "Python 3",
   "language": "python",
   "name": "python3"
  },
  "language_info": {
   "codemirror_mode": {
    "name": "ipython",
    "version": 3
   },
   "file_extension": ".py",
   "mimetype": "text/x-python",
   "name": "python",
   "nbconvert_exporter": "python",
   "pygments_lexer": "ipython3",
   "version": "3.11.9"
  }
 },
 "nbformat": 4,
 "nbformat_minor": 5
}
