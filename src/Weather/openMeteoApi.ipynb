{
 "cells": [
  {
   "cell_type": "code",
   "execution_count": null,
   "id": "2cd96a75",
   "metadata": {},
   "outputs": [],
   "source": [
    "]pip install openmeteo-requests\n",
    "!pip install requests-cache retry-requests numpy pandas"
   ]
  },
  {
   "cell_type": "code",
   "execution_count": 46,
   "id": "c32813ae",
   "metadata": {},
   "outputs": [],
   "source": [
    "import os\n",
    "import openmeteo_requests\n",
    "import pandas as pd\n",
    "import requests_cache\n",
    "from retry_requests import retry\n"
   ]
  },
  {
   "cell_type": "code",
   "execution_count": 47,
   "id": "32ca37f2",
   "metadata": {},
   "outputs": [],
   "source": [
    "def configurar_cliente_openmeteo():\n",
    "    \"\"\"Configura o cliente da Open-Meteo com cache e retry.\"\"\"\n",
    "    cache_session = requests_cache.CachedSession('.cache', expire_after=-1)\n",
    "    retry_session = retry(cache_session, retries=5, backoff_factor=0.2)\n",
    "    return openmeteo_requests.Client(session=retry_session)"
   ]
  },
  {
   "cell_type": "code",
   "execution_count": 48,
   "id": "3b88700d",
   "metadata": {},
   "outputs": [],
   "source": [
    "def consultar_dados_climaticos(latitude, longitude, data_inicio, data_fim, variaveis_diarias, cliente):\n",
    "    url = \"https://archive-api.open-meteo.com/v1/archive\"\n",
    "    params = {\n",
    "        \"latitude\": latitude,\n",
    "        \"longitude\": longitude,\n",
    "        \"start_date\": data_inicio,\n",
    "        \"end_date\": data_fim,\n",
    "        \"daily\": variaveis_diarias\n",
    "    }\n",
    "    responses = cliente.weather_api(url, params=params)\n",
    "    return responses[0]"
   ]
  },
  {
   "cell_type": "code",
   "execution_count": 49,
   "id": "1c61bc97",
   "metadata": {},
   "outputs": [],
   "source": [
    "def processar_dados_diarios(response, nomes_variaveis):\n",
    "    daily = response.Daily()\n",
    "    datas = pd.date_range(\n",
    "        start=pd.to_datetime(daily.Time(), unit=\"s\", utc=True),\n",
    "        end=pd.to_datetime(daily.TimeEnd(), unit=\"s\", utc=True),\n",
    "        freq=pd.Timedelta(seconds=daily.Interval()),\n",
    "        inclusive=\"left\"\n",
    "    )\n",
    "\n",
    "    dados = {\"date\": datas}\n",
    "    for i, nome in enumerate(nomes_variaveis):\n",
    "        valores = daily.Variables(i).ValuesAsNumpy()\n",
    "        dados[nome] = valores\n",
    "\n",
    "    return pd.DataFrame(data=dados)\n"
   ]
  },
  {
   "cell_type": "code",
   "execution_count": 50,
   "id": "47e4ed5b",
   "metadata": {},
   "outputs": [],
   "source": [
    "def salvar_csv_municipio(df, pais, municipio, latitude, longitude, pasta_destino):\n",
    "    # Adiciona colunas extras\n",
    "    df[\"pais\"] = pais\n",
    "    df[\"municipio\"] = municipio\n",
    "    df[\"latitude\"] = latitude\n",
    "    df[\"longitude\"] = longitude\n",
    "\n",
    "    # Gera nome do arquivo\n",
    "    nome_arquivo = f\"{pais}_{municipio}_clima.csv\".replace(\" \", \"_\")\n",
    "    caminho = os.path.join(pasta_destino, nome_arquivo)\n",
    "\n",
    "    # Cria a pasta se não existir\n",
    "    os.makedirs(pasta_destino, exist_ok=True)\n",
    "\n",
    "    df.to_csv(caminho, index=False)\n",
    "    print(f\"✔ Arquivo salvo: {caminho}\")\n"
   ]
  },
  {
   "cell_type": "code",
   "execution_count": 51,
   "id": "cab9c94f",
   "metadata": {},
   "outputs": [],
   "source": [
    "def executar_em_lote(lista_municipios, data_inicio, data_fim, variaveis_diarias, pasta_destino):\n",
    "    cliente = configurar_cliente_openmeteo()\n",
    "\n",
    "    for entrada in lista_municipios:\n",
    "        pais = entrada[\"pais\"]\n",
    "        municipio = entrada[\"municipio\"]\n",
    "        lat = entrada[\"latitude\"]\n",
    "        lon = entrada[\"longitude\"]\n",
    "\n",
    "        try:\n",
    "            print(f\"🔄 Processando: {pais} - {municipio}\")\n",
    "            resposta = consultar_dados_climaticos(lat, lon, data_inicio, data_fim, variaveis_diarias, cliente)\n",
    "            df = processar_dados_diarios(resposta, variaveis_diarias)\n",
    "            salvar_csv_municipio(df, pais, municipio, lat, lon, pasta_destino)\n",
    "        except Exception as e:\n",
    "            print(f\"❌ Erro ao processar {municipio}: {e}\")\n"
   ]
  },
  {
   "cell_type": "code",
   "execution_count": 53,
   "id": "e405a84b",
   "metadata": {},
   "outputs": [
    {
     "name": "stdout",
     "output_type": "stream",
     "text": [
      "🔄 Processando: Brasil - Marilia\n",
      "✔ Arquivo salvo: ..\\..\\Bases\\Clima\\openMeteoApi\\Brasil_Marilia_clima.csv\n",
      "🔄 Processando: Portugal - Lisboa\n",
      "✔ Arquivo salvo: ..\\..\\Bases\\Clima\\openMeteoApi\\Portugal_Lisboa_clima.csv\n",
      "🔄 Processando: Portugal - Porto\n",
      "✔ Arquivo salvo: ..\\..\\Bases\\Clima\\openMeteoApi\\Portugal_Porto_clima.csv\n"
     ]
    }
   ],
   "source": [
    "\n",
    "# ------------------------------\n",
    "# EXEMPLO DE USO\n",
    "# ------------------------------\n",
    "lista_municipios = [\n",
    "        {\"pais\": \"Brasil\", \"municipio\": \"Marilia\", \"latitude\": -22.2139, \"longitude\": -49.9458},\n",
    "        {\"pais\": \"Portugal\", \"municipio\": \"Lisboa\", \"latitude\": 38.7169, \"longitude\": -9.1399},\n",
    "        {\"pais\": \"Portugal\", \"municipio\": \"Porto\", \"latitude\": 41.1496, \"longitude\": -8.6109},\n",
    "    ]\n",
    "\n",
    "variaveis_diarias = [\n",
    "        \"temperature_2m_mean\", \"temperature_2m_max\", \"temperature_2m_min\",\n",
    "        \"apparent_temperature_mean\", \"apparent_temperature_max\", \"apparent_temperature_min\",\n",
    "        \"precipitation_sum\", \"windspeed_10m_max\"\n",
    "    ]\n",
    "\n",
    "data_inicio = \"2024-07-01\"\n",
    "data_fim = \"2025-06-30\"\n",
    "pasta_destino = \"..\\\\..\\\\Bases\\\\Clima\\\\openMeteoApi\"\n",
    "\n",
    "executar_em_lote(lista_municipios, data_inicio, data_fim, variaveis_diarias, pasta_destino)"
   ]
  }
 ],
 "metadata": {
  "kernelspec": {
   "display_name": "Python 3",
   "language": "python",
   "name": "python3"
  },
  "language_info": {
   "codemirror_mode": {
    "name": "ipython",
    "version": 3
   },
   "file_extension": ".py",
   "mimetype": "text/x-python",
   "name": "python",
   "nbconvert_exporter": "python",
   "pygments_lexer": "ipython3",
   "version": "3.11.9"
  }
 },
 "nbformat": 4,
 "nbformat_minor": 5
}
