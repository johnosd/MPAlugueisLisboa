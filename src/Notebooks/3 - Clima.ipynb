{
 "cells": [
  {
   "cell_type": "code",
   "execution_count": 1,
   "metadata": {},
   "outputs": [
    {
     "name": "stdout",
     "output_type": "stream",
     "text": [
      "Requirement already satisfied: geopy in c:\\users\\hp probook 640\\anaconda3\\lib\\site-packages (2.2.0)"
     ]
    },
    {
     "name": "stderr",
     "output_type": "stream",
     "text": [
      "WARNING: You are using pip version 21.3.1; however, version 22.0.2 is available.\n",
      "You should consider upgrading via the 'C:\\Users\\HP ProBook 640\\anaconda3\\python.exe -m pip install --upgrade pip' command.\n"
     ]
    },
    {
     "name": "stdout",
     "output_type": "stream",
     "text": [
      "\n",
      "Requirement already satisfied: geographiclib<2,>=1.49 in c:\\users\\hp probook 640\\anaconda3\\lib\\site-packages (from geopy) (1.52)\n"
     ]
    }
   ],
   "source": [
    "!pip install geopy\n"
   ]
  },
  {
   "cell_type": "code",
   "execution_count": 2,
   "metadata": {},
   "outputs": [
    {
     "name": "stdout",
     "output_type": "stream",
     "text": [
      "Requirement already satisfied: unidecode in c:\\users\\hp probook 640\\anaconda3\\lib\\site-packages (1.2.0)"
     ]
    },
    {
     "name": "stderr",
     "output_type": "stream",
     "text": [
      "WARNING: You are using pip version 21.3.1; however, version 22.0.2 is available.\n",
      "You should consider upgrading via the 'C:\\Users\\HP ProBook 640\\anaconda3\\python.exe -m pip install --upgrade pip' command.\n"
     ]
    },
    {
     "name": "stdout",
     "output_type": "stream",
     "text": [
      "\n"
     ]
    }
   ],
   "source": [
    "!pip install unidecode"
   ]
  },
  {
   "cell_type": "code",
   "execution_count": 1,
   "metadata": {},
   "outputs": [],
   "source": [
    "import pandas as pd\n",
    "import numpy as np\n",
    "import os\n",
    "from geopy.geocoders import Nominatim\n",
    "from geopy import distance\n",
    "import unidecode\n"
   ]
  },
  {
   "cell_type": "code",
   "execution_count": 2,
   "metadata": {},
   "outputs": [],
   "source": [
    "path = '..\\\\..\\\\Bases\\\\ClimaPortugal\\\\'\n",
    "path_output = '..\\\\..\\\\Bases\\\\'\n",
    "\n",
    "dir_list = [x for x in os.listdir(path) if '.csv' in x]"
   ]
  },
  {
   "cell_type": "code",
   "execution_count": 3,
   "metadata": {},
   "outputs": [],
   "source": [
    "# Agrega bases de clima\n",
    "df_clima = pd.concat([pd.read_csv(path+f,  sep=',') for f in dir_list])\n",
    "df_clima.rename(columns={'location':'Cidades'},inplace=True)"
   ]
  },
  {
   "cell_type": "code",
   "execution_count": 4,
   "metadata": {},
   "outputs": [
    {
     "name": "stderr",
     "output_type": "stream",
     "text": [
      "C:\\Users\\HPPROB~1\\AppData\\Local\\Temp/ipykernel_10984/3732271281.py:1: FutureWarning: The default value of regex will change from True to False in a future version. In addition, single character regular expressions will *not* be treated as literal strings when regex=True.\n",
      "  df_clima['Cidades'] = df_clima['Cidades'].str.replace(\"+\",\" \")\n"
     ]
    }
   ],
   "source": [
    "df_clima['Cidades'] = df_clima['Cidades'].str.replace(\"+\",\" \")\n",
    "df_clima['Cidades'] = df_clima['Cidades'].str.replace(\"Brasil, \",\"\")\n",
    "df_clima['Cidades'] = df_clima['Cidades'].str.replace(\"Portugal, \",\"\")\n",
    "df_clima['Cidades'] = df_clima['Cidades'].apply(lambda x: unidecode.unidecode(x)) "
   ]
  },
  {
   "cell_type": "code",
   "execution_count": 5,
   "metadata": {},
   "outputs": [],
   "source": [
    "df_clima['Date'] = pd.to_datetime(df_clima['date_time'])\n",
    "df_clima['YEAR'] = df_clima['Date'].dt.strftime('%Y')\n",
    "df_clima['MONTH'] = df_clima['Date'].dt.strftime('%m')\n",
    "df_clima['YEAR_MONTH'] = df_clima['YEAR']+df_clima['MONTH']\n",
    "df_clima['QUARTER'] = pd.PeriodIndex(df_clima['Date'], freq= 'Q').quarter"
   ]
  },
  {
   "cell_type": "code",
   "execution_count": 6,
   "metadata": {},
   "outputs": [],
   "source": [
    "df_clima_ano_mes = (\n",
    "    df_clima\n",
    "    #.query('order_approved_at < \"2018-01-01\"')\n",
    "    .groupby(['Cidades','YEAR_MONTH','YEAR','MONTH','QUARTER'])\n",
    "    .agg(Temp_Median_Max = ('maxtempC', 'median'),\n",
    "         Temp_Median_Min = ('mintempC', 'median'),\n",
    "         Temp_Mean_Max = ('maxtempC', 'mean'),\n",
    "         Temp_Mean_Min = ('mintempC', 'mean'))\n",
    "    .reset_index().round(2) \n",
    ")\n"
   ]
  },
  {
   "cell_type": "code",
   "execution_count": 7,
   "metadata": {},
   "outputs": [],
   "source": [
    "# Exporta Base Mensal\n",
    "file_name = \"{}{}{}\".format(path_output,\"BaseClimaMensal\",\".csv\")\n",
    "df_clima_ano_mes.to_csv(file_name, sep=';', quotechar='\"', decimal=',')\n",
    "\n"
   ]
  },
  {
   "cell_type": "code",
   "execution_count": 8,
   "metadata": {},
   "outputs": [],
   "source": [
    "# Cria base de clima pivoteada\n",
    "df_clima_ano_mes_pivot = (\n",
    "    pd\n",
    "    .pivot_table(df_clima_ano_mes, values='Temp_Median_Max', index='Cidades', columns='YEAR_MONTH', aggfunc=np.sum)\n",
    "    .reset_index()\n",
    ")\n"
   ]
  },
  {
   "cell_type": "code",
   "execution_count": 9,
   "metadata": {},
   "outputs": [],
   "source": [
    "file_name = \"{}{}{}\".format(path_output,\"BaseClimaMensalPivot\",\".csv\")\n",
    "df_clima_ano_mes_pivot.to_csv(file_name, sep=';', quotechar='\"', decimal=',')"
   ]
  },
  {
   "cell_type": "code",
   "execution_count": 10,
   "metadata": {},
   "outputs": [],
   "source": [
    "# Cria Ranking Geral de todas regioes\n",
    "list_var = list(df_clima_ano_mes_pivot.columns)[1:]"
   ]
  },
  {
   "cell_type": "code",
   "execution_count": 11,
   "metadata": {},
   "outputs": [],
   "source": [
    "for var in list_var:\n",
    "    hot = df_clima_ano_mes_pivot[var].describe()['75%']\n",
    "    neutral = df_clima_ano_mes_pivot[var].describe()['50%']\n",
    "    frost = df_clima_ano_mes_pivot[var].describe()['50%']\n",
    "    \n",
    "    new_col = 'RESULT_' + var\n",
    "    new_col = new_col.replace(\" \", \"_\")\n",
    "    df_clima_ano_mes_pivot[new_col] = 0\n",
    "    df_clima_ano_mes_pivot.loc[df_clima_ano_mes_pivot[var] >= hot, new_col] = 3\n",
    "    df_clima_ano_mes_pivot.loc[((df_clima_ano_mes_pivot[var] >=  neutral) & (df_clima_ano_mes_pivot[var] < hot)),new_col]= 2\n",
    "    df_clima_ano_mes_pivot.loc[df_clima_ano_mes_pivot[var] < frost, new_col] = 1\n",
    "    \n",
    "    lst_columns = [columns for columns in df_clima_ano_mes_pivot if 'RESULT_' in columns]\n",
    "    \n",
    "    df_clima_ano_mes_pivot['Clima_Ranking'] = df_clima_ano_mes_pivot[lst_columns].sum(axis=1)\n",
    "    \n",
    "    df_clima_ranking = (\n",
    "        df_clima_ano_mes_pivot\n",
    "        .filter(['Cidades','Clima_Ranking'])\n",
    "        .sort_values('Clima_Ranking', ascending = False)\n",
    "    )"
   ]
  },
  {
   "cell_type": "code",
   "execution_count": 12,
   "metadata": {},
   "outputs": [],
   "source": [
    "file_name = \"{}{}{}\".format(path_output,'RankingClima',\".csv\")\n",
    "df_clima_ranking.to_csv(file_name, sep=';', quotechar='\"')\n",
    "\n"
   ]
  },
  {
   "cell_type": "code",
   "execution_count": 13,
   "metadata": {},
   "outputs": [],
   "source": [
    "# adiciona à base principal\n",
    "\n",
    "file_path = '{}{}'.format(path_output,\"Municipios_geo.csv\")\n",
    "df_municipios = pd.read_csv(file_path, sep=\";\") \n",
    "df_municipios['Cidades'] = df_municipios['Cidades'].apply(lambda x: unidecode.unidecode(x))"
   ]
  },
  {
   "cell_type": "code",
   "execution_count": 14,
   "metadata": {},
   "outputs": [],
   "source": [
    "file_path = '{}{}'.format(path_output,\"RankingClima.csv\")\n",
    "df_clima_ranking = pd.read_csv(file_path, sep=\";\")\n",
    "df_clima_ranking['Cidades'] = df_clima_ranking['Cidades'].apply(lambda x: unidecode.unidecode(x))"
   ]
  },
  {
   "cell_type": "code",
   "execution_count": 15,
   "metadata": {},
   "outputs": [],
   "source": [
    "lst_c = list(df_municipios.columns)\n",
    "lst_c.append('Clima_Ranking')\n",
    "df_municipios = (\n",
    "    df_municipios\n",
    "    .filter(lst_c)\n",
    "    .merge(df_clima_ranking,left_on='Cidades', right_on='Cidades', how='left')\n",
    ")"
   ]
  },
  {
   "cell_type": "code",
   "execution_count": 16,
   "metadata": {},
   "outputs": [],
   "source": [
    "# Exporta Base Minucipios\n",
    "file_name = \"{}{}{}\".format(path_output,'Municipios_geo_clima',\".csv\")\n",
    "df_municipios.to_csv(file_name, sep=';', quotechar='\"', decimal=',')"
   ]
  },
  {
   "cell_type": "code",
   "execution_count": null,
   "metadata": {},
   "outputs": [],
   "source": []
  }
 ],
 "metadata": {
  "kernelspec": {
   "display_name": "Python 3 (ipykernel)",
   "language": "python",
   "name": "python3"
  },
  "language_info": {
   "codemirror_mode": {
    "name": "ipython",
    "version": 3
   },
   "file_extension": ".py",
   "mimetype": "text/x-python",
   "name": "python",
   "nbconvert_exporter": "python",
   "pygments_lexer": "ipython3",
   "version": "3.9.7"
  }
 },
 "nbformat": 4,
 "nbformat_minor": 4
}
