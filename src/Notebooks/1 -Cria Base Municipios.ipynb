{
 "cells": [
  {
   "cell_type": "code",
   "execution_count": 1,
   "metadata": {},
   "outputs": [
    {
     "name": "stdout",
     "output_type": "stream",
     "text": [
      "Requirement already satisfied: matplotlib in c:\\users\\johns\\appdata\\local\\programs\\python\\python310\\lib\\site-packages (3.7.1)\n",
      "Requirement already satisfied: contourpy>=1.0.1 in c:\\users\\johns\\appdata\\local\\programs\\python\\python310\\lib\\site-packages (from matplotlib) (1.0.7)\n",
      "Requirement already satisfied: cycler>=0.10 in c:\\users\\johns\\appdata\\local\\programs\\python\\python310\\lib\\site-packages (from matplotlib) (0.11.0)\n",
      "Requirement already satisfied: fonttools>=4.22.0 in c:\\users\\johns\\appdata\\local\\programs\\python\\python310\\lib\\site-packages (from matplotlib) (4.39.2)\n",
      "Requirement already satisfied: kiwisolver>=1.0.1 in c:\\users\\johns\\appdata\\local\\programs\\python\\python310\\lib\\site-packages (from matplotlib) (1.4.4)\n",
      "Requirement already satisfied: numpy>=1.20 in c:\\users\\johns\\appdata\\local\\programs\\python\\python310\\lib\\site-packages (from matplotlib) (1.24.2)\n",
      "Requirement already satisfied: packaging>=20.0 in c:\\users\\johns\\appdata\\local\\programs\\python\\python310\\lib\\site-packages (from matplotlib) (23.0)\n",
      "Requirement already satisfied: pillow>=6.2.0 in c:\\users\\johns\\appdata\\local\\programs\\python\\python310\\lib\\site-packages (from matplotlib) (9.4.0)\n",
      "Requirement already satisfied: pyparsing>=2.3.1 in c:\\users\\johns\\appdata\\local\\programs\\python\\python310\\lib\\site-packages (from matplotlib) (3.0.9)\n",
      "Requirement already satisfied: python-dateutil>=2.7 in c:\\users\\johns\\appdata\\local\\programs\\python\\python310\\lib\\site-packages (from matplotlib) (2.8.2)\n",
      "Requirement already satisfied: six>=1.5 in c:\\users\\johns\\appdata\\local\\programs\\python\\python310\\lib\\site-packages (from python-dateutil>=2.7->matplotlib) (1.16.0)\n",
      "Requirement already satisfied: unidecode in c:\\users\\johns\\appdata\\local\\programs\\python\\python310\\lib\\site-packages (1.3.6)\n"
     ]
    }
   ],
   "source": [
    "!pip install matplotlib\n",
    "!pip install unidecode"
   ]
  },
  {
   "cell_type": "code",
   "execution_count": 2,
   "metadata": {},
   "outputs": [],
   "source": [
    "import pandas as pd\n",
    "import matplotlib.pyplot as plt\n",
    "pd.options.mode.chained_assignment = None  # default='warn'\n",
    "import os\n",
    "import unidecode"
   ]
  },
  {
   "cell_type": "code",
   "execution_count": 17,
   "metadata": {},
   "outputs": [
    {
     "name": "stdout",
     "output_type": "stream",
     "text": [
      "..\\..\\Bases\\municipios\\\n"
     ]
    }
   ],
   "source": [
    "# Carga da Base principal PortData\n",
    "#os.path.relpath('C:\\\\Users\\\\HP ProBook 640\\\\source\\\\repos\\\\TCC\\\\Bases\\\\', 'C:\\\\Users\\\\HP ProBook 640\\\\source\\\\repos\\\\TCC\\\\src\\\\Notebooks')\n",
    "\n",
    "dir_path ='..\\\\..\\\\Bases\\\\municipios\\\\'\n",
    "print(dir_path)"
   ]
  },
  {
   "cell_type": "code",
   "execution_count": 18,
   "metadata": {},
   "outputs": [],
   "source": [
    "file_port_data = 'EstatisticasPortDataGeral.xlsx'\n",
    "file_path = \"{}{}\".format(dir_path,file_port_data)\n",
    "df = pd.read_excel(file_path)"
   ]
  },
  {
   "cell_type": "code",
   "execution_count": 19,
   "metadata": {},
   "outputs": [],
   "source": [
    "df_municipios = (\n",
    "    df\n",
    "    .query(\"`Ambito Geografico` == 'Município'\")\n",
    ")\n",
    "\n",
    "# Troca acentos\n",
    "df_municipios['Cidades'] = df_municipios['Cidades'].apply(lambda x: unidecode.unidecode(x))"
   ]
  },
  {
   "cell_type": "code",
   "execution_count": 20,
   "metadata": {},
   "outputs": [],
   "source": [
    "file_name = \"{}{}{}\".format(dir_path,\"Municipios\",\".csv\")\n",
    "df_municipios.to_csv(file_name, sep=';', quotechar='\"', decimal=',', encoding='utf-8')"
   ]
  },
  {
   "cell_type": "code",
   "execution_count": 21,
   "metadata": {},
   "outputs": [
    {
     "data": {
      "text/plain": [
       "Ambito Geografico                                        308\n",
       "Regiao                                                   308\n",
       "Cidades                                                  308\n",
       "qtd Idade 0 -14                                          308\n",
       "qtd Idade 15-64                                          308\n",
       "qtd idade >65                                            308\n",
       "% Idade 0 -14                                            308\n",
       "% Idade 15-64                                            308\n",
       "% idade >65                                              308\n",
       "N.º médio de indivíduos por Km²\\t\\n\\t                    308\n",
       "% cidadãos estrangeiros,em relacao total da população    308\n",
       "qtd Hospitais particulares e publicos                    308\n",
       "qtd Farmacias                                            308\n",
       "Quantidade construçoes novas                             308\n",
       "qtd escolas - pre-escolar -4 -6 anos                     308\n",
       "qtd escolas - ciclo 1 - 6-10 anos                        308\n",
       "qtd escolas - ciclo 2 - 10 -12 anos                      308\n",
       "qtd escolas - ciclo 3 - 13 -15 anos                      308\n",
       "qtd shows,exibicoes,teatro                               308\n",
       "qtd Cinemas                                              308\n",
       "Ganho medio mensal                                       308\n",
       "% Desempregados                                          308\n",
       "% Poder de compra                                        308\n",
       "% Crimes                                                 308\n",
       "qtd bancos                                               308\n",
       "dtype: int64"
      ]
     },
     "execution_count": 21,
     "metadata": {},
     "output_type": "execute_result"
    }
   ],
   "source": [
    "df_municipios.count()"
   ]
  },
  {
   "cell_type": "code",
   "execution_count": null,
   "metadata": {},
   "outputs": [],
   "source": [
    "308"
   ]
  }
 ],
 "metadata": {
  "kernelspec": {
   "display_name": "Python 3 (ipykernel)",
   "language": "python",
   "name": "python3"
  },
  "language_info": {
   "codemirror_mode": {
    "name": "ipython",
    "version": 3
   },
   "file_extension": ".py",
   "mimetype": "text/x-python",
   "name": "python",
   "nbconvert_exporter": "python",
   "pygments_lexer": "ipython3",
   "version": "3.10.10"
  }
 },
 "nbformat": 4,
 "nbformat_minor": 4
}
