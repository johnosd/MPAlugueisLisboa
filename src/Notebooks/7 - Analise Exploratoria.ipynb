{
 "cells": [
  {
   "cell_type": "code",
   "execution_count": 4,
   "id": "8137caa4",
   "metadata": {},
   "outputs": [],
   "source": [
    "import os\n",
    "import pandas as pd"
   ]
  },
  {
   "cell_type": "code",
   "execution_count": 5,
   "id": "e9ffc4fa",
   "metadata": {},
   "outputs": [
    {
     "data": {
      "text/plain": [
       "'C:\\\\Users\\\\HP ProBook 640\\\\Desktop\\\\TCC\\\\MPAlugueisLisboa\\\\Bases\\\\Imoveis'"
      ]
     },
     "execution_count": 5,
     "metadata": {},
     "output_type": "execute_result"
    }
   ],
   "source": [
    "base_dir = '..\\\\..\\\\Bases\\\\Imoveis\\\\'\n",
    "os.chdir(base_dir)\n",
    "os.getcwd()"
   ]
  },
  {
   "cell_type": "code",
   "execution_count": 8,
   "id": "855d3178",
   "metadata": {},
   "outputs": [],
   "source": [
    "path_fato = base_dir + '\\\\fato\\\\Base_fato_unificada.csv'\n",
    "path_detalhe = base_dir + '\\\\Detalhes\\\\BaseDetalhesImovel.csv'"
   ]
  },
  {
   "cell_type": "code",
   "execution_count": 11,
   "id": "60261191",
   "metadata": {},
   "outputs": [
    {
     "data": {
      "text/html": [
       "<div>\n",
       "<style scoped>\n",
       "    .dataframe tbody tr th:only-of-type {\n",
       "        vertical-align: middle;\n",
       "    }\n",
       "\n",
       "    .dataframe tbody tr th {\n",
       "        vertical-align: top;\n",
       "    }\n",
       "\n",
       "    .dataframe thead th {\n",
       "        text-align: right;\n",
       "    }\n",
       "</style>\n",
       "<table border=\"1\" class=\"dataframe\">\n",
       "  <thead>\n",
       "    <tr style=\"text-align: right;\">\n",
       "      <th></th>\n",
       "      <th>Unnamed: 0</th>\n",
       "      <th>IdImovel</th>\n",
       "      <th>UrlPesquisa</th>\n",
       "      <th>Url</th>\n",
       "      <th>Nome</th>\n",
       "      <th>Preco</th>\n",
       "      <th>tipo</th>\n",
       "      <th>metros</th>\n",
       "      <th>andar</th>\n",
       "      <th>elevador</th>\n",
       "      <th>Detalhes</th>\n",
       "      <th>Status</th>\n",
       "      <th>distrito</th>\n",
       "      <th>QtdQuartos</th>\n",
       "      <th>Preco_Metro</th>\n",
       "    </tr>\n",
       "  </thead>\n",
       "  <tbody>\n",
       "    <tr>\n",
       "      <th>0</th>\n",
       "      <td>0</td>\n",
       "      <td>30365582</td>\n",
       "      <td>https://www.idealista.pt/arrendar-casas/aveiro...</td>\n",
       "      <td>/imovel/30365582/</td>\n",
       "      <td>Apartamento T0 na rua Manuel Lopes Conde, 1, O...</td>\n",
       "      <td>400,0</td>\n",
       "      <td>T0</td>\n",
       "      <td>50,0</td>\n",
       "      <td>0.0</td>\n",
       "      <td>sem elevador</td>\n",
       "      <td>T0 , 50 m² construídos, Rés do chão  sem elevador</td>\n",
       "      <td>OK</td>\n",
       "      <td>aveiro-distrito</td>\n",
       "      <td>0</td>\n",
       "      <td>8,0</td>\n",
       "    </tr>\n",
       "  </tbody>\n",
       "</table>\n",
       "</div>"
      ],
      "text/plain": [
       "   Unnamed: 0  IdImovel                                        UrlPesquisa  \\\n",
       "0           0  30365582  https://www.idealista.pt/arrendar-casas/aveiro...   \n",
       "\n",
       "                 Url                                               Nome  \\\n",
       "0  /imovel/30365582/  Apartamento T0 na rua Manuel Lopes Conde, 1, O...   \n",
       "\n",
       "   Preco tipo metros  andar      elevador  \\\n",
       "0  400,0   T0   50,0    0.0  sem elevador   \n",
       "\n",
       "                                            Detalhes Status         distrito  \\\n",
       "0  T0 , 50 m² construídos, Rés do chão  sem elevador     OK  aveiro-distrito   \n",
       "\n",
       "   QtdQuartos Preco_Metro  \n",
       "0           0         8,0  "
      ]
     },
     "execution_count": 11,
     "metadata": {},
     "output_type": "execute_result"
    }
   ],
   "source": [
    "df_fato = pd.read_csv(path_fato, sep=';', encoding='utf-8')\n",
    "df_fato.head(1)"
   ]
  },
  {
   "cell_type": "code",
   "execution_count": 13,
   "id": "9b9942b9",
   "metadata": {},
   "outputs": [
    {
     "data": {
      "text/html": [
       "<div>\n",
       "<style scoped>\n",
       "    .dataframe tbody tr th:only-of-type {\n",
       "        vertical-align: middle;\n",
       "    }\n",
       "\n",
       "    .dataframe tbody tr th {\n",
       "        vertical-align: top;\n",
       "    }\n",
       "\n",
       "    .dataframe thead th {\n",
       "        text-align: right;\n",
       "    }\n",
       "</style>\n",
       "<table border=\"1\" class=\"dataframe\">\n",
       "  <thead>\n",
       "    <tr style=\"text-align: right;\">\n",
       "      <th></th>\n",
       "      <th>IdImovel</th>\n",
       "      <th>Caracteristicas</th>\n",
       "      <th>Comentario</th>\n",
       "      <th>Detalhes</th>\n",
       "      <th>Endereco</th>\n",
       "      <th>Latitude</th>\n",
       "      <th>Longitude</th>\n",
       "      <th>ad_builtType</th>\n",
       "      <th>ad_characteristics_bathNumber</th>\n",
       "      <th>ad_characteristics_constructedArea</th>\n",
       "      <th>...</th>\n",
       "      <th>ad_operation</th>\n",
       "      <th>ad_origin</th>\n",
       "      <th>ad_originTypeRecommended</th>\n",
       "      <th>ad_owner_commercialId</th>\n",
       "      <th>ad_owner_commercialName</th>\n",
       "      <th>ad_owner_contactPreference</th>\n",
       "      <th>ad_owner_type</th>\n",
       "      <th>ad_price</th>\n",
       "      <th>ad_recommendationId</th>\n",
       "      <th>ad_typology</th>\n",
       "    </tr>\n",
       "  </thead>\n",
       "  <tbody>\n",
       "    <tr>\n",
       "      <th>0</th>\n",
       "      <td>31627595</td>\n",
       "      <td>104\\r\\nm² construídos,104,T2,2º andar</td>\n",
       "      <td>Proc. º 18195. Livre início Fev/2022 (possibil...</td>\n",
       "      <td>104 m² construídos, 90 m² úteis,T2,2 casas de ...</td>\n",
       "      <td>Matosinhos Sul - Marginal Matosinhos e Leça d...</td>\n",
       "      <td>41.181564</td>\n",
       "      <td>-8.695406</td>\n",
       "      <td>3.0</td>\n",
       "      <td>2.0</td>\n",
       "      <td>104.0</td>\n",
       "      <td>...</td>\n",
       "      <td>2.0</td>\n",
       "      <td>4.0</td>\n",
       "      <td>NaN</td>\n",
       "      <td>NaN</td>\n",
       "      <td>habitalia</td>\n",
       "      <td>1.0</td>\n",
       "      <td>2.0</td>\n",
       "      <td>1345.0</td>\n",
       "      <td>NaN</td>\n",
       "      <td>1.0</td>\n",
       "    </tr>\n",
       "  </tbody>\n",
       "</table>\n",
       "<p>1 rows × 40 columns</p>\n",
       "</div>"
      ],
      "text/plain": [
       "   IdImovel                        Caracteristicas  \\\n",
       "0  31627595  104\\r\\nm² construídos,104,T2,2º andar   \n",
       "\n",
       "                                          Comentario  \\\n",
       "0  Proc. º 18195. Livre início Fev/2022 (possibil...   \n",
       "\n",
       "                                            Detalhes  \\\n",
       "0  104 m² construídos, 90 m² úteis,T2,2 casas de ...   \n",
       "\n",
       "                                            Endereco   Latitude  Longitude  \\\n",
       "0   Matosinhos Sul - Marginal Matosinhos e Leça d...  41.181564  -8.695406   \n",
       "\n",
       "   ad_builtType  ad_characteristics_bathNumber  \\\n",
       "0           3.0                            2.0   \n",
       "\n",
       "   ad_characteristics_constructedArea  ...  ad_operation  ad_origin  \\\n",
       "0                               104.0  ...           2.0        4.0   \n",
       "\n",
       "   ad_originTypeRecommended  ad_owner_commercialId  ad_owner_commercialName  \\\n",
       "0                       NaN                    NaN                habitalia   \n",
       "\n",
       "   ad_owner_contactPreference  ad_owner_type  ad_price  ad_recommendationId  \\\n",
       "0                         1.0            2.0    1345.0                  NaN   \n",
       "\n",
       "  ad_typology  \n",
       "0         1.0  \n",
       "\n",
       "[1 rows x 40 columns]"
      ]
     },
     "execution_count": 13,
     "metadata": {},
     "output_type": "execute_result"
    }
   ],
   "source": [
    "df_detalhe = pd.read_csv(path_detalhe, sep=';', encoding='utf-8')\n",
    "df_detalhe.head(1)"
   ]
  },
  {
   "cell_type": "code",
   "execution_count": 49,
   "id": "73973552",
   "metadata": {},
   "outputs": [],
   "source": [
    "df_final = df_fato.merge(df_detalhe, left_on='IdImovel', right_on='IdImovel', how='inner')\n"
   ]
  },
  {
   "cell_type": "code",
   "execution_count": 50,
   "id": "55ce80c6",
   "metadata": {},
   "outputs": [],
   "source": [
    "dicionario_dados_json =json.loads('''\n",
    "{\n",
    "    \"Endereco\": \"Endereco\",\n",
    "    \"Latitude\": \"Latitude\",\n",
    "    \"Longitude\": \"Longitude\",\n",
    "    \"ad_characteristics_constructedArea\": \"Área construída\",\n",
    "    \"ad_characteristics_hasGarden\": \"Possui Jardim\",\n",
    "    \"ad_characteristics_hasLift\": \"Possui Elevador\",\n",
    "    \"ad_characteristics_hasParking\": \"Possui Estacionamento\",\n",
    "    \"ad_characteristics_hasSwimmingPool\": \"Possui Piscina\",\n",
    "    \"ad_characteristics_hasTerrace\": \"Possui Terraço\",\n",
    "    \"ad_characteristics_roomNumber\": \"Numero de Quartos\",\n",
    "    \"ad_characteristics_bathNumber\": \"Numero de Banheiros\",\n",
    "    \"ad_builtType\": \"Tipo de Construcao\",\n",
    "    \"Caracteristicas\": \"Caracteristicas\",\n",
    "    \"ad_condition_isGoodCondition\": \"Imovél em boas condições\",\n",
    "    \"ad_condition_isNeedsRenovating\": \"Precisa de reforma\",\n",
    "    \"ad_condition_isNewDevelopment\": \"Construção recente\",\n",
    "    \"ad_energyCertification_suffix\": \"Nivel de eficiencia Energética\",\n",
    "    \"ad_energyCertification_type\": \"Tipo de Certificacao Energética\",\n",
    "    \"ad_hasRecommended\": \"É Recomendado\",\n",
    "    \"ad_media_has3Dtour\": \"Anúncio possui tour 3d\",\n",
    "    \"ad_media_hasFloorPlan\": \"Anúncio possui planta baixa\",\n",
    "    \"ad_media_photoNumber\": \"Numero de fotos do anuncio\",\n",
    "    \"ad_media_videoNumber\": \"Numero de videos do anuncio\",\n",
    "    \"ad_price\": \"Preço do Imóvel\",\n",
    "    \"ad_owner_commercialName\": \"Nome do proprietario ou corretor\",\n",
    "    \"ad_owner_contactPreference\": \"Preferencia de contato com o proprietario\",\n",
    "    \"ad_owner_type\": \"Tipo de proprietario\",\n",
    "    \"ad_owner_commercialId\": \"Id do proprietario\",\n",
    "    \"ad_id\": \"Id do anuncio\",\n",
    "    \"ad_isAuction\": \"Indicador imovel esta em leilão\",\n",
    "    \"ad_isRecommended\": \"Imovel é recomendado\",\n",
    "    \"ad_numberRecommended\": \"Numero de recomendacoes recebidas\",\n",
    "    \"ad_operation\": \"Tipo de Operacao\",\n",
    "    \"ad_origin\": \"Origen do anuncio\",\n",
    "    \"ad_originTypeRecommended\": \"Tipo de origem de anuncio recomendada\",\n",
    "    \"Comentario\": \"Comentarios adicionados\",\n",
    "    \"IdImovel\": \"Id do imovel\",\n",
    "    \"UrlPesquisa\": \"Url da Pagina do imovel\",\n",
    "    \"Url\": \"Url do Imovel\",\n",
    "    \"Nome\": \"Nome do imovel\",\n",
    "    \"Preco\": \"Preço de locação do imovel\",\n",
    "    \"tipo\": \"Tipo de Imovel\",\n",
    "    \"metros\": \"Area util do imovel\",\n",
    "    \"andar\": \"Andar do imovel\",\n",
    "    \"elevador\": \"Indicador de Elevador\",\n",
    "    \"Detalhes\": \"Detalhes Imovel\",\n",
    "    \"Status\": \"Status do anuncio\",\n",
    "    \"distrito\": \"Distrito do imovel\",\n",
    "    \"QtdQuartos\": \"Quantidade de Quartos\",\n",
    "    \"Preco_Metro\": \"Preco por metro quadrado\"\n",
    "}\n",
    "''')"
   ]
  },
  {
   "cell_type": "code",
   "execution_count": 52,
   "id": "e392ce8d",
   "metadata": {},
   "outputs": [
    {
     "data": {
      "text/plain": [
       "Index(['Unnamed: 0', 'Id do imovel', 'Url da Pagina do imovel',\n",
       "       'Url do Imovel', 'Nome do imovel', 'Preço de locação do imovel',\n",
       "       'Tipo de Imovel', 'Area util do imovel', 'Andar do imovel',\n",
       "       'Indicador de Elevador', 'Detalhes_x', 'Status do anuncio',\n",
       "       'Distrito do imovel', 'Quantidade de Quartos',\n",
       "       'Preco por metro quadrado', 'Caracteristicas',\n",
       "       'Comentarios adicionados', 'Detalhes_y', 'Endereco', 'Latitude',\n",
       "       'Longitude', 'Tipo de Construcao', 'Numero de Banheiros',\n",
       "       'Área construída', 'Possui Jardim', 'Possui Elevador',\n",
       "       'Possui Estacionamento', 'Possui Piscina', 'Possui Terraço',\n",
       "       'Numero de Quartos', 'Imovél em boas condições', 'Precisa de reforma',\n",
       "       'Construção recente', 'Nivel de eficiencia Energética',\n",
       "       'Tipo de Certificacao Energética', 'É Recomendado', 'Id do anuncio',\n",
       "       'Indicador imovel esta em leilão', 'Imovel é recomendado',\n",
       "       'Anúncio possui tour 3d', 'Anúncio possui planta baixa',\n",
       "       'Numero de fotos do anuncio', 'Numero de videos do anuncio',\n",
       "       'Numero de recomendacoes recebidas', 'Tipo de Operacao',\n",
       "       'Origen do anuncio', 'Tipo de origem de anuncio recomendada',\n",
       "       'Id do proprietario', 'Nome do proprietario ou corretor',\n",
       "       'Preferencia de contato com o proprietario', 'Tipo de proprietario',\n",
       "       'Preço do Imóvel', 'ad_recommendationId', 'ad_typology'],\n",
       "      dtype='object')"
      ]
     },
     "execution_count": 52,
     "metadata": {},
     "output_type": "execute_result"
    }
   ],
   "source": [
    "# renomeando as colunas\n",
    "df_final.rename(columns=dicionario_dados_json).columns"
   ]
  },
  {
   "cell_type": "code",
   "execution_count": 37,
   "id": "46208614",
   "metadata": {},
   "outputs": [
    {
     "ename": "TypeError",
     "evalue": "string indices must be integers",
     "output_type": "error",
     "traceback": [
      "\u001b[1;31m---------------------------------------------------------------------------\u001b[0m",
      "\u001b[1;31mTypeError\u001b[0m                                 Traceback (most recent call last)",
      "\u001b[1;32mC:\\Users\\HPPROB~1\\AppData\\Local\\Temp/ipykernel_5876/3497524662.py\u001b[0m in \u001b[0;36m<module>\u001b[1;34m\u001b[0m\n\u001b[0;32m      1\u001b[0m \u001b[1;31m# mapeando as colunas\u001b[0m\u001b[1;33m\u001b[0m\u001b[1;33m\u001b[0m\u001b[0m\n\u001b[1;32m----> 2\u001b[1;33m \u001b[0mmapa_colunas\u001b[0m \u001b[1;33m=\u001b[0m \u001b[1;33m{\u001b[0m\u001b[0mcoluna_antiga\u001b[0m\u001b[1;33m:\u001b[0m \u001b[0mdicionario_dados_json\u001b[0m\u001b[1;33m[\u001b[0m\u001b[0mcoluna_antiga\u001b[0m\u001b[1;33m]\u001b[0m\u001b[1;33m[\u001b[0m\u001b[1;34m'Nome'\u001b[0m\u001b[1;33m]\u001b[0m \u001b[1;32mfor\u001b[0m \u001b[0mcoluna_antiga\u001b[0m \u001b[1;32min\u001b[0m \u001b[0mdf_detalhe\u001b[0m\u001b[1;33m.\u001b[0m\u001b[0mcolumns\u001b[0m \u001b[1;32mif\u001b[0m \u001b[0mcoluna_antiga\u001b[0m \u001b[1;32min\u001b[0m \u001b[0mdicionario_dados_json\u001b[0m\u001b[1;33m}\u001b[0m\u001b[1;33m\u001b[0m\u001b[1;33m\u001b[0m\u001b[0m\n\u001b[0m\u001b[0;32m      3\u001b[0m \u001b[1;33m\u001b[0m\u001b[0m\n\u001b[0;32m      4\u001b[0m \u001b[1;31m# renomeando as colunas\u001b[0m\u001b[1;33m\u001b[0m\u001b[1;33m\u001b[0m\u001b[0m\n\u001b[0;32m      5\u001b[0m \u001b[0mdf_detalhe\u001b[0m\u001b[1;33m.\u001b[0m\u001b[0mrename\u001b[0m\u001b[1;33m(\u001b[0m\u001b[0mcolumns\u001b[0m\u001b[1;33m=\u001b[0m\u001b[0mmapa_colunas\u001b[0m\u001b[1;33m)\u001b[0m\u001b[1;33m\u001b[0m\u001b[1;33m\u001b[0m\u001b[0m\n",
      "\u001b[1;32mC:\\Users\\HPPROB~1\\AppData\\Local\\Temp/ipykernel_5876/3497524662.py\u001b[0m in \u001b[0;36m<dictcomp>\u001b[1;34m(.0)\u001b[0m\n\u001b[0;32m      1\u001b[0m \u001b[1;31m# mapeando as colunas\u001b[0m\u001b[1;33m\u001b[0m\u001b[1;33m\u001b[0m\u001b[0m\n\u001b[1;32m----> 2\u001b[1;33m \u001b[0mmapa_colunas\u001b[0m \u001b[1;33m=\u001b[0m \u001b[1;33m{\u001b[0m\u001b[0mcoluna_antiga\u001b[0m\u001b[1;33m:\u001b[0m \u001b[0mdicionario_dados_json\u001b[0m\u001b[1;33m[\u001b[0m\u001b[0mcoluna_antiga\u001b[0m\u001b[1;33m]\u001b[0m\u001b[1;33m[\u001b[0m\u001b[1;34m'Nome'\u001b[0m\u001b[1;33m]\u001b[0m \u001b[1;32mfor\u001b[0m \u001b[0mcoluna_antiga\u001b[0m \u001b[1;32min\u001b[0m \u001b[0mdf_detalhe\u001b[0m\u001b[1;33m.\u001b[0m\u001b[0mcolumns\u001b[0m \u001b[1;32mif\u001b[0m \u001b[0mcoluna_antiga\u001b[0m \u001b[1;32min\u001b[0m \u001b[0mdicionario_dados_json\u001b[0m\u001b[1;33m}\u001b[0m\u001b[1;33m\u001b[0m\u001b[1;33m\u001b[0m\u001b[0m\n\u001b[0m\u001b[0;32m      3\u001b[0m \u001b[1;33m\u001b[0m\u001b[0m\n\u001b[0;32m      4\u001b[0m \u001b[1;31m# renomeando as colunas\u001b[0m\u001b[1;33m\u001b[0m\u001b[1;33m\u001b[0m\u001b[0m\n\u001b[0;32m      5\u001b[0m \u001b[0mdf_detalhe\u001b[0m\u001b[1;33m.\u001b[0m\u001b[0mrename\u001b[0m\u001b[1;33m(\u001b[0m\u001b[0mcolumns\u001b[0m\u001b[1;33m=\u001b[0m\u001b[0mmapa_colunas\u001b[0m\u001b[1;33m)\u001b[0m\u001b[1;33m\u001b[0m\u001b[1;33m\u001b[0m\u001b[0m\n",
      "\u001b[1;31mTypeError\u001b[0m: string indices must be integers"
     ]
    }
   ],
   "source": [
    "\n",
    "\n",
    "\n",
    "\n"
   ]
  },
  {
   "cell_type": "code",
   "execution_count": null,
   "id": "0b4a8269",
   "metadata": {},
   "outputs": [],
   "source": []
  }
 ],
 "metadata": {
  "kernelspec": {
   "display_name": "Python 3 (ipykernel)",
   "language": "python",
   "name": "python3"
  },
  "language_info": {
   "codemirror_mode": {
    "name": "ipython",
    "version": 3
   },
   "file_extension": ".py",
   "mimetype": "text/x-python",
   "name": "python",
   "nbconvert_exporter": "python",
   "pygments_lexer": "ipython3",
   "version": "3.9.7"
  }
 },
 "nbformat": 4,
 "nbformat_minor": 5
}
