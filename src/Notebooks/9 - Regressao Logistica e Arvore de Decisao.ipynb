{
 "cells": [
  {
   "cell_type": "code",
   "execution_count": 1,
   "id": "0102ac42",
   "metadata": {},
   "outputs": [],
   "source": [
    "import os\n",
    "import numpy as np\n",
    "import pandas as pd"
   ]
  },
  {
   "cell_type": "code",
   "execution_count": 2,
   "id": "9f8f4003",
   "metadata": {},
   "outputs": [
    {
     "data": {
      "text/plain": [
       "'G:\\\\Users\\\\johns\\\\Desktop\\\\TCC\\\\MPAlugueisLisboa\\\\Bases'"
      ]
     },
     "execution_count": 2,
     "metadata": {},
     "output_type": "execute_result"
    }
   ],
   "source": [
    "base_dir = '..\\\\..\\\\Bases\\\\'\n",
    "os.chdir(base_dir)\n",
    "os.getcwd()"
   ]
  },
  {
   "cell_type": "code",
   "execution_count": 3,
   "id": "271aa375",
   "metadata": {},
   "outputs": [
    {
     "data": {
      "text/html": [
       "<div>\n",
       "<style scoped>\n",
       "    .dataframe tbody tr th:only-of-type {\n",
       "        vertical-align: middle;\n",
       "    }\n",
       "\n",
       "    .dataframe tbody tr th {\n",
       "        vertical-align: top;\n",
       "    }\n",
       "\n",
       "    .dataframe thead th {\n",
       "        text-align: right;\n",
       "    }\n",
       "</style>\n",
       "<table border=\"1\" class=\"dataframe\">\n",
       "  <thead>\n",
       "    <tr style=\"text-align: right;\">\n",
       "      <th></th>\n",
       "      <th>RowId</th>\n",
       "      <th>RowId.1</th>\n",
       "      <th>Id_do_imovel</th>\n",
       "      <th>Preco</th>\n",
       "      <th>Valor_Area_util_do_imovel</th>\n",
       "      <th>Numero_Andar_do_imovel</th>\n",
       "      <th>Indicador_de_Elevador</th>\n",
       "      <th>Distrito_do_imovel</th>\n",
       "      <th>Preco_por_metro_quadrado</th>\n",
       "      <th>Latitude_imovel</th>\n",
       "      <th>...</th>\n",
       "      <th>Quantidade_Bancos</th>\n",
       "      <th>Latitude_Municipio</th>\n",
       "      <th>Longitude_Municipio</th>\n",
       "      <th>Endereco_Municipio</th>\n",
       "      <th>Distancia_dirigindo_de_Lisboa_Portugal</th>\n",
       "      <th>Distancia_dirigindo_de_Porto_Portugal</th>\n",
       "      <th>Clima_Ranking</th>\n",
       "      <th>Ranking_Geral</th>\n",
       "      <th>Ranking_Regional</th>\n",
       "      <th>geometry</th>\n",
       "    </tr>\n",
       "  </thead>\n",
       "  <tbody>\n",
       "    <tr>\n",
       "      <th>0</th>\n",
       "      <td>0</td>\n",
       "      <td>0</td>\n",
       "      <td>30365582</td>\n",
       "      <td>400.0</td>\n",
       "      <td>50</td>\n",
       "      <td>0</td>\n",
       "      <td>sem elevador</td>\n",
       "      <td>AVEIRO</td>\n",
       "      <td>8.0</td>\n",
       "      <td>40.837436</td>\n",
       "      <td>...</td>\n",
       "      <td>39</td>\n",
       "      <td>40.640496</td>\n",
       "      <td>-8.653784</td>\n",
       "      <td>Aveiro, Portugal</td>\n",
       "      <td>218.6</td>\n",
       "      <td>56.6</td>\n",
       "      <td>18</td>\n",
       "      <td>31.0</td>\n",
       "      <td>4</td>\n",
       "      <td>POINT (40.8374358 -8.6551784)</td>\n",
       "    </tr>\n",
       "  </tbody>\n",
       "</table>\n",
       "<p>1 rows × 58 columns</p>\n",
       "</div>"
      ],
      "text/plain": [
       "   RowId  RowId.1  Id_do_imovel  Preco  Valor_Area_util_do_imovel  \\\n",
       "0      0        0      30365582  400.0                         50   \n",
       "\n",
       "   Numero_Andar_do_imovel Indicador_de_Elevador Distrito_do_imovel  \\\n",
       "0                       0          sem elevador             AVEIRO   \n",
       "\n",
       "   Preco_por_metro_quadrado  Latitude_imovel  ...  Quantidade_Bancos  \\\n",
       "0                       8.0        40.837436  ...                 39   \n",
       "\n",
       "   Latitude_Municipio  Longitude_Municipio  Endereco_Municipio  \\\n",
       "0           40.640496            -8.653784    Aveiro, Portugal   \n",
       "\n",
       "   Distancia_dirigindo_de_Lisboa_Portugal  \\\n",
       "0                                   218.6   \n",
       "\n",
       "   Distancia_dirigindo_de_Porto_Portugal  Clima_Ranking  Ranking_Geral  \\\n",
       "0                                   56.6             18           31.0   \n",
       "\n",
       "   Ranking_Regional                       geometry  \n",
       "0                 4  POINT (40.8374358 -8.6551784)  \n",
       "\n",
       "[1 rows x 58 columns]"
      ]
     },
     "execution_count": 3,
     "metadata": {},
     "output_type": "execute_result"
    }
   ],
   "source": [
    "path_final =  'Imoveis\\\\BaseFinalv2.csv'\n",
    "df_final = pd.read_csv(path_final, sep=';', decimal=',', encoding='utf-8',quotechar='\"')\n",
    "df_final.head(1)"
   ]
  },
  {
   "cell_type": "markdown",
   "id": "df40e8ab",
   "metadata": {},
   "source": [
    "# Regressão Linear "
   ]
  },
  {
   "cell_type": "code",
   "execution_count": 4,
   "id": "e2cc62d7",
   "metadata": {},
   "outputs": [],
   "source": [
    "import pandas as pd\n",
    "from sklearn.pipeline import Pipeline\n",
    "from sklearn.impute import SimpleImputer\n",
    "from sklearn.preprocessing import StandardScaler, OneHotEncoder\n",
    "from feature_engine.wrappers import SklearnTransformerWrapper\n",
    "from sklearn.model_selection import train_test_split\n",
    "from sklearn.linear_model import LinearRegression\n",
    "from sklearn.metrics import mean_squared_error, r2_score\n",
    "import matplotlib.pyplot as plt\n",
    "import seaborn as sns\n",
    "import numpy as np\n",
    "from sklearn.compose import ColumnTransformer\n",
    "from feature_engine.imputation import MeanMedianImputer, CategoricalImputer"
   ]
  },
  {
   "cell_type": "code",
   "execution_count": 5,
   "id": "ddb56f53",
   "metadata": {},
   "outputs": [],
   "source": [
    "# Separando as colunas em numéricas e categóricas\n",
    "numeric_cols = df_final.select_dtypes(include=[np.number]).columns.tolist()\n",
    "object_cols = df_final.select_dtypes(include=['object']).columns.tolist()\n"
   ]
  },
  {
   "cell_type": "code",
   "execution_count": 6,
   "id": "2bb4d03e",
   "metadata": {},
   "outputs": [],
   "source": [
    "numeric_cols.remove('RowId')\n",
    "numeric_cols.remove('RowId.1')\n",
    "numeric_cols.remove('Id_do_imovel')\n",
    "object_cols.remove('Endereco_Municipio')\n",
    "object_cols.remove('geometry')"
   ]
  },
  {
   "cell_type": "code",
   "execution_count": 7,
   "id": "48d00dcf",
   "metadata": {},
   "outputs": [],
   "source": [
    "# Vamos assegurar que 'Preco' está na lista de colunas numéricas\n",
    "if 'Preco' not in numeric_cols:\n",
    "    raise ValueError(\"'Preco' não encontrado nas colunas numéricas. Verifique os dados e tente novamente.\")\n",
    "    \n",
    "numeric_cols.remove('Preco')  # Removendo a coluna 'Preco' dos dados de entrada\n",
    "numeric_cols.remove('Preco_por_metro_quadrado') # Removendo a coluna 'Preco_por_metro_quadrado' dos dados de entrada"
   ]
  },
  {
   "cell_type": "code",
   "execution_count": 8,
   "id": "50add624",
   "metadata": {},
   "outputs": [],
   "source": [
    "# Separamos o dataframe em features (X) e target (y)\n",
    "X = df_final[numeric_cols + object_cols]\n",
    "y = df_final['Preco']"
   ]
  },
  {
   "cell_type": "code",
   "execution_count": 9,
   "id": "0f8fd259",
   "metadata": {},
   "outputs": [],
   "source": [
    "# Dividindo os dados em treino e teste\n",
    "X_train, X_test, y_train, y_test = train_test_split(X, y, test_size=0.3, random_state=42)\n"
   ]
  },
  {
   "cell_type": "code",
   "execution_count": 10,
   "id": "79cd195d",
   "metadata": {},
   "outputs": [],
   "source": [
    "# Pipeline para as colunas numéricas\n",
    "numeric_transformer = Pipeline(steps=[\n",
    "    ('numeric_imputer', MeanMedianImputer(variables=numeric_cols, imputation_method='median')),\n",
    "    ('numeric_scaler', SklearnTransformerWrapper(variables=numeric_cols, transformer=StandardScaler())),])\n"
   ]
  },
  {
   "cell_type": "code",
   "execution_count": 11,
   "id": "55478dd7",
   "metadata": {},
   "outputs": [
    {
     "data": {
      "text/plain": [
       "['Indicador_de_Elevador',\n",
       " 'Distrito_do_imovel',\n",
       " 'Tipo_de_Certificacao_Energetica',\n",
       " 'Nome_Regiao',\n",
       " 'Nome_Cidade']"
      ]
     },
     "execution_count": 11,
     "metadata": {},
     "output_type": "execute_result"
    }
   ],
   "source": [
    "object_cols"
   ]
  },
  {
   "cell_type": "code",
   "execution_count": 12,
   "id": "40709c67",
   "metadata": {},
   "outputs": [],
   "source": [
    "# Pipeline para as colunas categóricas\n",
    "categorical_transformer = Pipeline(steps=[\n",
    "    ('categorical_imputer', SimpleImputer(strategy='most_frequent')),\n",
    "    ('one_hot_encoder', OneHotEncoder(handle_unknown='ignore'))])\n"
   ]
  },
  {
   "cell_type": "code",
   "execution_count": 13,
   "id": "c6a5fb1d",
   "metadata": {},
   "outputs": [],
   "source": [
    "# Juntando as transformações\n",
    "preprocessor = ColumnTransformer(\n",
    "    transformers=[\n",
    "        ('num', numeric_transformer, numeric_cols),\n",
    "        ('cat', categorical_transformer, object_cols)])"
   ]
  },
  {
   "cell_type": "code",
   "execution_count": 14,
   "id": "68d0ced5",
   "metadata": {},
   "outputs": [],
   "source": [
    "# Criando o modelo de regressão linear\n",
    "model = Pipeline(steps=[('preprocessor', preprocessor),\n",
    "                        ('regressor', LinearRegression())])"
   ]
  },
  {
   "cell_type": "code",
   "execution_count": 15,
   "id": "c77f04c2",
   "metadata": {},
   "outputs": [
    {
     "data": {
      "text/html": [
       "<style>#sk-container-id-1 {color: black;background-color: white;}#sk-container-id-1 pre{padding: 0;}#sk-container-id-1 div.sk-toggleable {background-color: white;}#sk-container-id-1 label.sk-toggleable__label {cursor: pointer;display: block;width: 100%;margin-bottom: 0;padding: 0.3em;box-sizing: border-box;text-align: center;}#sk-container-id-1 label.sk-toggleable__label-arrow:before {content: \"▸\";float: left;margin-right: 0.25em;color: #696969;}#sk-container-id-1 label.sk-toggleable__label-arrow:hover:before {color: black;}#sk-container-id-1 div.sk-estimator:hover label.sk-toggleable__label-arrow:before {color: black;}#sk-container-id-1 div.sk-toggleable__content {max-height: 0;max-width: 0;overflow: hidden;text-align: left;background-color: #f0f8ff;}#sk-container-id-1 div.sk-toggleable__content pre {margin: 0.2em;color: black;border-radius: 0.25em;background-color: #f0f8ff;}#sk-container-id-1 input.sk-toggleable__control:checked~div.sk-toggleable__content {max-height: 200px;max-width: 100%;overflow: auto;}#sk-container-id-1 input.sk-toggleable__control:checked~label.sk-toggleable__label-arrow:before {content: \"▾\";}#sk-container-id-1 div.sk-estimator input.sk-toggleable__control:checked~label.sk-toggleable__label {background-color: #d4ebff;}#sk-container-id-1 div.sk-label input.sk-toggleable__control:checked~label.sk-toggleable__label {background-color: #d4ebff;}#sk-container-id-1 input.sk-hidden--visually {border: 0;clip: rect(1px 1px 1px 1px);clip: rect(1px, 1px, 1px, 1px);height: 1px;margin: -1px;overflow: hidden;padding: 0;position: absolute;width: 1px;}#sk-container-id-1 div.sk-estimator {font-family: monospace;background-color: #f0f8ff;border: 1px dotted black;border-radius: 0.25em;box-sizing: border-box;margin-bottom: 0.5em;}#sk-container-id-1 div.sk-estimator:hover {background-color: #d4ebff;}#sk-container-id-1 div.sk-parallel-item::after {content: \"\";width: 100%;border-bottom: 1px solid gray;flex-grow: 1;}#sk-container-id-1 div.sk-label:hover label.sk-toggleable__label {background-color: #d4ebff;}#sk-container-id-1 div.sk-serial::before {content: \"\";position: absolute;border-left: 1px solid gray;box-sizing: border-box;top: 0;bottom: 0;left: 50%;z-index: 0;}#sk-container-id-1 div.sk-serial {display: flex;flex-direction: column;align-items: center;background-color: white;padding-right: 0.2em;padding-left: 0.2em;position: relative;}#sk-container-id-1 div.sk-item {position: relative;z-index: 1;}#sk-container-id-1 div.sk-parallel {display: flex;align-items: stretch;justify-content: center;background-color: white;position: relative;}#sk-container-id-1 div.sk-item::before, #sk-container-id-1 div.sk-parallel-item::before {content: \"\";position: absolute;border-left: 1px solid gray;box-sizing: border-box;top: 0;bottom: 0;left: 50%;z-index: -1;}#sk-container-id-1 div.sk-parallel-item {display: flex;flex-direction: column;z-index: 1;position: relative;background-color: white;}#sk-container-id-1 div.sk-parallel-item:first-child::after {align-self: flex-end;width: 50%;}#sk-container-id-1 div.sk-parallel-item:last-child::after {align-self: flex-start;width: 50%;}#sk-container-id-1 div.sk-parallel-item:only-child::after {width: 0;}#sk-container-id-1 div.sk-dashed-wrapped {border: 1px dashed gray;margin: 0 0.4em 0.5em 0.4em;box-sizing: border-box;padding-bottom: 0.4em;background-color: white;}#sk-container-id-1 div.sk-label label {font-family: monospace;font-weight: bold;display: inline-block;line-height: 1.2em;}#sk-container-id-1 div.sk-label-container {text-align: center;}#sk-container-id-1 div.sk-container {/* jupyter's `normalize.less` sets `[hidden] { display: none; }` but bootstrap.min.css set `[hidden] { display: none !important; }` so we also need the `!important` here to be able to override the default hidden behavior on the sphinx rendered scikit-learn.org. See: https://github.com/scikit-learn/scikit-learn/issues/21755 */display: inline-block !important;position: relative;}#sk-container-id-1 div.sk-text-repr-fallback {display: none;}</style><div id=\"sk-container-id-1\" class=\"sk-top-container\"><div class=\"sk-text-repr-fallback\"><pre>Pipeline(steps=[(&#x27;preprocessor&#x27;,\n",
       "                 ColumnTransformer(transformers=[(&#x27;num&#x27;,\n",
       "                                                  Pipeline(steps=[(&#x27;numeric_imputer&#x27;,\n",
       "                                                                   MeanMedianImputer(variables=[&#x27;Valor_Area_util_do_imovel&#x27;,\n",
       "                                                                                                &#x27;Numero_Andar_do_imovel&#x27;,\n",
       "                                                                                                &#x27;Latitude_imovel&#x27;,\n",
       "                                                                                                &#x27;Longitude_imovel&#x27;,\n",
       "                                                                                                &#x27;Tipo_de_Construcao&#x27;,\n",
       "                                                                                                &#x27;Numero_de_Banheiros&#x27;,\n",
       "                                                                                                &#x27;Possui_Jardim&#x27;,\n",
       "                                                                                                &#x27;Possui_Elevador&#x27;,\n",
       "                                                                                                &#x27;Possui_Estacionamento&#x27;,\n",
       "                                                                                                &#x27;Possui_Piscina&#x27;,\n",
       "                                                                                                &#x27;Possui...\n",
       "                                                   &#x27;Quantidade_Escolas_Pre-Escolar_(4-6_anos)&#x27;,\n",
       "                                                   &#x27;Quantidade_Escolas_Ciclo_1_(6-10_anos)&#x27;, ...]),\n",
       "                                                 (&#x27;cat&#x27;,\n",
       "                                                  Pipeline(steps=[(&#x27;categorical_imputer&#x27;,\n",
       "                                                                   SimpleImputer(strategy=&#x27;most_frequent&#x27;)),\n",
       "                                                                  (&#x27;one_hot_encoder&#x27;,\n",
       "                                                                   OneHotEncoder(handle_unknown=&#x27;ignore&#x27;))]),\n",
       "                                                  [&#x27;Indicador_de_Elevador&#x27;,\n",
       "                                                   &#x27;Distrito_do_imovel&#x27;,\n",
       "                                                   &#x27;Tipo_de_Certificacao_Energetica&#x27;,\n",
       "                                                   &#x27;Nome_Regiao&#x27;,\n",
       "                                                   &#x27;Nome_Cidade&#x27;])])),\n",
       "                (&#x27;regressor&#x27;, LinearRegression())])</pre><b>In a Jupyter environment, please rerun this cell to show the HTML representation or trust the notebook. <br />On GitHub, the HTML representation is unable to render, please try loading this page with nbviewer.org.</b></div><div class=\"sk-container\" hidden><div class=\"sk-item sk-dashed-wrapped\"><div class=\"sk-label-container\"><div class=\"sk-label sk-toggleable\"><input class=\"sk-toggleable__control sk-hidden--visually\" id=\"sk-estimator-id-1\" type=\"checkbox\" ><label for=\"sk-estimator-id-1\" class=\"sk-toggleable__label sk-toggleable__label-arrow\">Pipeline</label><div class=\"sk-toggleable__content\"><pre>Pipeline(steps=[(&#x27;preprocessor&#x27;,\n",
       "                 ColumnTransformer(transformers=[(&#x27;num&#x27;,\n",
       "                                                  Pipeline(steps=[(&#x27;numeric_imputer&#x27;,\n",
       "                                                                   MeanMedianImputer(variables=[&#x27;Valor_Area_util_do_imovel&#x27;,\n",
       "                                                                                                &#x27;Numero_Andar_do_imovel&#x27;,\n",
       "                                                                                                &#x27;Latitude_imovel&#x27;,\n",
       "                                                                                                &#x27;Longitude_imovel&#x27;,\n",
       "                                                                                                &#x27;Tipo_de_Construcao&#x27;,\n",
       "                                                                                                &#x27;Numero_de_Banheiros&#x27;,\n",
       "                                                                                                &#x27;Possui_Jardim&#x27;,\n",
       "                                                                                                &#x27;Possui_Elevador&#x27;,\n",
       "                                                                                                &#x27;Possui_Estacionamento&#x27;,\n",
       "                                                                                                &#x27;Possui_Piscina&#x27;,\n",
       "                                                                                                &#x27;Possui...\n",
       "                                                   &#x27;Quantidade_Escolas_Pre-Escolar_(4-6_anos)&#x27;,\n",
       "                                                   &#x27;Quantidade_Escolas_Ciclo_1_(6-10_anos)&#x27;, ...]),\n",
       "                                                 (&#x27;cat&#x27;,\n",
       "                                                  Pipeline(steps=[(&#x27;categorical_imputer&#x27;,\n",
       "                                                                   SimpleImputer(strategy=&#x27;most_frequent&#x27;)),\n",
       "                                                                  (&#x27;one_hot_encoder&#x27;,\n",
       "                                                                   OneHotEncoder(handle_unknown=&#x27;ignore&#x27;))]),\n",
       "                                                  [&#x27;Indicador_de_Elevador&#x27;,\n",
       "                                                   &#x27;Distrito_do_imovel&#x27;,\n",
       "                                                   &#x27;Tipo_de_Certificacao_Energetica&#x27;,\n",
       "                                                   &#x27;Nome_Regiao&#x27;,\n",
       "                                                   &#x27;Nome_Cidade&#x27;])])),\n",
       "                (&#x27;regressor&#x27;, LinearRegression())])</pre></div></div></div><div class=\"sk-serial\"><div class=\"sk-item sk-dashed-wrapped\"><div class=\"sk-label-container\"><div class=\"sk-label sk-toggleable\"><input class=\"sk-toggleable__control sk-hidden--visually\" id=\"sk-estimator-id-2\" type=\"checkbox\" ><label for=\"sk-estimator-id-2\" class=\"sk-toggleable__label sk-toggleable__label-arrow\">preprocessor: ColumnTransformer</label><div class=\"sk-toggleable__content\"><pre>ColumnTransformer(transformers=[(&#x27;num&#x27;,\n",
       "                                 Pipeline(steps=[(&#x27;numeric_imputer&#x27;,\n",
       "                                                  MeanMedianImputer(variables=[&#x27;Valor_Area_util_do_imovel&#x27;,\n",
       "                                                                               &#x27;Numero_Andar_do_imovel&#x27;,\n",
       "                                                                               &#x27;Latitude_imovel&#x27;,\n",
       "                                                                               &#x27;Longitude_imovel&#x27;,\n",
       "                                                                               &#x27;Tipo_de_Construcao&#x27;,\n",
       "                                                                               &#x27;Numero_de_Banheiros&#x27;,\n",
       "                                                                               &#x27;Possui_Jardim&#x27;,\n",
       "                                                                               &#x27;Possui_Elevador&#x27;,\n",
       "                                                                               &#x27;Possui_Estacionamento&#x27;,\n",
       "                                                                               &#x27;Possui_Piscina&#x27;,\n",
       "                                                                               &#x27;Possui_Terraco&#x27;,\n",
       "                                                                               &#x27;Numero_de_Quartos&#x27;,\n",
       "                                                                               &#x27;I...\n",
       "                                  &#x27;Quantidade_Escolas_Pre-Escolar_(4-6_anos)&#x27;,\n",
       "                                  &#x27;Quantidade_Escolas_Ciclo_1_(6-10_anos)&#x27;, ...]),\n",
       "                                (&#x27;cat&#x27;,\n",
       "                                 Pipeline(steps=[(&#x27;categorical_imputer&#x27;,\n",
       "                                                  SimpleImputer(strategy=&#x27;most_frequent&#x27;)),\n",
       "                                                 (&#x27;one_hot_encoder&#x27;,\n",
       "                                                  OneHotEncoder(handle_unknown=&#x27;ignore&#x27;))]),\n",
       "                                 [&#x27;Indicador_de_Elevador&#x27;, &#x27;Distrito_do_imovel&#x27;,\n",
       "                                  &#x27;Tipo_de_Certificacao_Energetica&#x27;,\n",
       "                                  &#x27;Nome_Regiao&#x27;, &#x27;Nome_Cidade&#x27;])])</pre></div></div></div><div class=\"sk-parallel\"><div class=\"sk-parallel-item\"><div class=\"sk-item\"><div class=\"sk-label-container\"><div class=\"sk-label sk-toggleable\"><input class=\"sk-toggleable__control sk-hidden--visually\" id=\"sk-estimator-id-3\" type=\"checkbox\" ><label for=\"sk-estimator-id-3\" class=\"sk-toggleable__label sk-toggleable__label-arrow\">num</label><div class=\"sk-toggleable__content\"><pre>[&#x27;Valor_Area_util_do_imovel&#x27;, &#x27;Numero_Andar_do_imovel&#x27;, &#x27;Latitude_imovel&#x27;, &#x27;Longitude_imovel&#x27;, &#x27;Tipo_de_Construcao&#x27;, &#x27;Numero_de_Banheiros&#x27;, &#x27;Possui_Jardim&#x27;, &#x27;Possui_Elevador&#x27;, &#x27;Possui_Estacionamento&#x27;, &#x27;Possui_Piscina&#x27;, &#x27;Possui_Terraco&#x27;, &#x27;Numero_de_Quartos&#x27;, &#x27;Indicador_Anuncio_possui_planta_baixa&#x27;, &#x27;Numero_de_fotos_do_anuncio&#x27;, &#x27;Numero_de_videos_do_anuncio&#x27;, &#x27;Tipo_de_Operacao&#x27;, &#x27;Tipo_de_proprietario&#x27;, &#x27;Numero_Faixa_Etaria_0-14&#x27;, &#x27;Numero_Faixa_Etaria_15-64&#x27;, &#x27;Numero_Faixa_Etaria_&gt;65&#x27;, &#x27;Percentual_Faixa_Etaria_0-14&#x27;, &#x27;Percentual_Faixa_Etaria_15-64&#x27;, &#x27;Percentual_Faixa_Etaria_&gt;65&#x27;, &#x27;Densidade_populacional_por_Km&#x27;, &#x27;Densidade_populacional_Estrangeiros&#x27;, &#x27;Quantidade_Hospitais_(Particulares_e_Publicos)&#x27;, &#x27;Quantidade_Farmacias&#x27;, &#x27;Quantidade_Construcoes_Novas&#x27;, &#x27;Quantidade_Escolas_Pre-Escolar_(4-6_anos)&#x27;, &#x27;Quantidade_Escolas_Ciclo_1_(6-10_anos)&#x27;, &#x27;Quantidade_Escolas_Ciclo_2_(10-12_anos)&#x27;, &#x27;Quantidade_Escolas_Ciclo_3_(13-15_anos)&#x27;, &#x27;Quantidade_Shows_Exibicoes_Teatro&#x27;, &#x27;Quantidade_Cinemas&#x27;, &#x27;Renda_Media_Mensal&#x27;, &#x27;Percentual_Desempregados&#x27;, &#x27;Percentual_Poder_de_Compra&#x27;, &#x27;Percentual_Crimes&#x27;, &#x27;Quantidade_Bancos&#x27;, &#x27;Latitude_Municipio&#x27;, &#x27;Longitude_Municipio&#x27;, &#x27;Distancia_dirigindo_de_Lisboa_Portugal&#x27;, &#x27;Distancia_dirigindo_de_Porto_Portugal&#x27;, &#x27;Clima_Ranking&#x27;, &#x27;Ranking_Geral&#x27;, &#x27;Ranking_Regional&#x27;]</pre></div></div></div><div class=\"sk-serial\"><div class=\"sk-item\"><div class=\"sk-serial\"><div class=\"sk-item\"><div class=\"sk-estimator sk-toggleable\"><input class=\"sk-toggleable__control sk-hidden--visually\" id=\"sk-estimator-id-4\" type=\"checkbox\" ><label for=\"sk-estimator-id-4\" class=\"sk-toggleable__label sk-toggleable__label-arrow\">MeanMedianImputer</label><div class=\"sk-toggleable__content\"><pre>MeanMedianImputer(variables=[&#x27;Valor_Area_util_do_imovel&#x27;,\n",
       "                             &#x27;Numero_Andar_do_imovel&#x27;, &#x27;Latitude_imovel&#x27;,\n",
       "                             &#x27;Longitude_imovel&#x27;, &#x27;Tipo_de_Construcao&#x27;,\n",
       "                             &#x27;Numero_de_Banheiros&#x27;, &#x27;Possui_Jardim&#x27;,\n",
       "                             &#x27;Possui_Elevador&#x27;, &#x27;Possui_Estacionamento&#x27;,\n",
       "                             &#x27;Possui_Piscina&#x27;, &#x27;Possui_Terraco&#x27;,\n",
       "                             &#x27;Numero_de_Quartos&#x27;,\n",
       "                             &#x27;Indicador_Anuncio_possui_planta_baixa&#x27;,\n",
       "                             &#x27;Numero_de_fotos_do_anuncio&#x27;,\n",
       "                             &#x27;Numero...\n",
       "                             &#x27;Percentual_Faixa_Etaria_0-14&#x27;,\n",
       "                             &#x27;Percentual_Faixa_Etaria_15-64&#x27;,\n",
       "                             &#x27;Percentual_Faixa_Etaria_&gt;65&#x27;,\n",
       "                             &#x27;Densidade_populacional_por_Km&#x27;,\n",
       "                             &#x27;Densidade_populacional_Estrangeiros&#x27;,\n",
       "                             &#x27;Quantidade_Hospitais_(Particulares_e_Publicos)&#x27;,\n",
       "                             &#x27;Quantidade_Farmacias&#x27;,\n",
       "                             &#x27;Quantidade_Construcoes_Novas&#x27;,\n",
       "                             &#x27;Quantidade_Escolas_Pre-Escolar_(4-6_anos)&#x27;,\n",
       "                             &#x27;Quantidade_Escolas_Ciclo_1_(6-10_anos)&#x27;, ...])</pre></div></div></div><div class=\"sk-item sk-dashed-wrapped\"><div class=\"sk-label-container\"><div class=\"sk-label sk-toggleable\"><input class=\"sk-toggleable__control sk-hidden--visually\" id=\"sk-estimator-id-5\" type=\"checkbox\" ><label for=\"sk-estimator-id-5\" class=\"sk-toggleable__label sk-toggleable__label-arrow\">numeric_scaler: SklearnTransformerWrapper</label><div class=\"sk-toggleable__content\"><pre>SklearnTransformerWrapper(transformer=StandardScaler(),\n",
       "                          variables=[&#x27;Valor_Area_util_do_imovel&#x27;,\n",
       "                                     &#x27;Numero_Andar_do_imovel&#x27;,\n",
       "                                     &#x27;Latitude_imovel&#x27;, &#x27;Longitude_imovel&#x27;,\n",
       "                                     &#x27;Tipo_de_Construcao&#x27;,\n",
       "                                     &#x27;Numero_de_Banheiros&#x27;, &#x27;Possui_Jardim&#x27;,\n",
       "                                     &#x27;Possui_Elevador&#x27;, &#x27;Possui_Estacionamento&#x27;,\n",
       "                                     &#x27;Possui_Piscina&#x27;, &#x27;Possui_Terraco&#x27;,\n",
       "                                     &#x27;Numero_de_Quartos&#x27;,\n",
       "                                     &#x27;Indicador_Anuncio_possui_planta_baixa&#x27;...\n",
       "                                     &#x27;Percentual_Faixa_Etaria_0-14&#x27;,\n",
       "                                     &#x27;Percentual_Faixa_Etaria_15-64&#x27;,\n",
       "                                     &#x27;Percentual_Faixa_Etaria_&gt;65&#x27;,\n",
       "                                     &#x27;Densidade_populacional_por_Km&#x27;,\n",
       "                                     &#x27;Densidade_populacional_Estrangeiros&#x27;,\n",
       "                                     &#x27;Quantidade_Hospitais_(Particulares_e_Publicos)&#x27;,\n",
       "                                     &#x27;Quantidade_Farmacias&#x27;,\n",
       "                                     &#x27;Quantidade_Construcoes_Novas&#x27;,\n",
       "                                     &#x27;Quantidade_Escolas_Pre-Escolar_(4-6_anos)&#x27;,\n",
       "                                     &#x27;Quantidade_Escolas_Ciclo_1_(6-10_anos)&#x27;, ...])</pre></div></div></div><div class=\"sk-parallel\"><div class=\"sk-parallel-item\"><div class=\"sk-item\"><div class=\"sk-label-container\"><div class=\"sk-label sk-toggleable\"><input class=\"sk-toggleable__control sk-hidden--visually\" id=\"sk-estimator-id-6\" type=\"checkbox\" ><label for=\"sk-estimator-id-6\" class=\"sk-toggleable__label sk-toggleable__label-arrow\">transformer: StandardScaler</label><div class=\"sk-toggleable__content\"><pre>StandardScaler()</pre></div></div></div><div class=\"sk-serial\"><div class=\"sk-item\"><div class=\"sk-estimator sk-toggleable\"><input class=\"sk-toggleable__control sk-hidden--visually\" id=\"sk-estimator-id-7\" type=\"checkbox\" ><label for=\"sk-estimator-id-7\" class=\"sk-toggleable__label sk-toggleable__label-arrow\">StandardScaler</label><div class=\"sk-toggleable__content\"><pre>StandardScaler()</pre></div></div></div></div></div></div></div></div></div></div></div></div></div><div class=\"sk-parallel-item\"><div class=\"sk-item\"><div class=\"sk-label-container\"><div class=\"sk-label sk-toggleable\"><input class=\"sk-toggleable__control sk-hidden--visually\" id=\"sk-estimator-id-8\" type=\"checkbox\" ><label for=\"sk-estimator-id-8\" class=\"sk-toggleable__label sk-toggleable__label-arrow\">cat</label><div class=\"sk-toggleable__content\"><pre>[&#x27;Indicador_de_Elevador&#x27;, &#x27;Distrito_do_imovel&#x27;, &#x27;Tipo_de_Certificacao_Energetica&#x27;, &#x27;Nome_Regiao&#x27;, &#x27;Nome_Cidade&#x27;]</pre></div></div></div><div class=\"sk-serial\"><div class=\"sk-item\"><div class=\"sk-serial\"><div class=\"sk-item\"><div class=\"sk-estimator sk-toggleable\"><input class=\"sk-toggleable__control sk-hidden--visually\" id=\"sk-estimator-id-9\" type=\"checkbox\" ><label for=\"sk-estimator-id-9\" class=\"sk-toggleable__label sk-toggleable__label-arrow\">SimpleImputer</label><div class=\"sk-toggleable__content\"><pre>SimpleImputer(strategy=&#x27;most_frequent&#x27;)</pre></div></div></div><div class=\"sk-item\"><div class=\"sk-estimator sk-toggleable\"><input class=\"sk-toggleable__control sk-hidden--visually\" id=\"sk-estimator-id-10\" type=\"checkbox\" ><label for=\"sk-estimator-id-10\" class=\"sk-toggleable__label sk-toggleable__label-arrow\">OneHotEncoder</label><div class=\"sk-toggleable__content\"><pre>OneHotEncoder(handle_unknown=&#x27;ignore&#x27;)</pre></div></div></div></div></div></div></div></div></div></div><div class=\"sk-item\"><div class=\"sk-estimator sk-toggleable\"><input class=\"sk-toggleable__control sk-hidden--visually\" id=\"sk-estimator-id-11\" type=\"checkbox\" ><label for=\"sk-estimator-id-11\" class=\"sk-toggleable__label sk-toggleable__label-arrow\">LinearRegression</label><div class=\"sk-toggleable__content\"><pre>LinearRegression()</pre></div></div></div></div></div></div></div>"
      ],
      "text/plain": [
       "Pipeline(steps=[('preprocessor',\n",
       "                 ColumnTransformer(transformers=[('num',\n",
       "                                                  Pipeline(steps=[('numeric_imputer',\n",
       "                                                                   MeanMedianImputer(variables=['Valor_Area_util_do_imovel',\n",
       "                                                                                                'Numero_Andar_do_imovel',\n",
       "                                                                                                'Latitude_imovel',\n",
       "                                                                                                'Longitude_imovel',\n",
       "                                                                                                'Tipo_de_Construcao',\n",
       "                                                                                                'Numero_de_Banheiros',\n",
       "                                                                                                'Possui_Jardim',\n",
       "                                                                                                'Possui_Elevador',\n",
       "                                                                                                'Possui_Estacionamento',\n",
       "                                                                                                'Possui_Piscina',\n",
       "                                                                                                'Possui...\n",
       "                                                   'Quantidade_Escolas_Pre-Escolar_(4-6_anos)',\n",
       "                                                   'Quantidade_Escolas_Ciclo_1_(6-10_anos)', ...]),\n",
       "                                                 ('cat',\n",
       "                                                  Pipeline(steps=[('categorical_imputer',\n",
       "                                                                   SimpleImputer(strategy='most_frequent')),\n",
       "                                                                  ('one_hot_encoder',\n",
       "                                                                   OneHotEncoder(handle_unknown='ignore'))]),\n",
       "                                                  ['Indicador_de_Elevador',\n",
       "                                                   'Distrito_do_imovel',\n",
       "                                                   'Tipo_de_Certificacao_Energetica',\n",
       "                                                   'Nome_Regiao',\n",
       "                                                   'Nome_Cidade'])])),\n",
       "                ('regressor', LinearRegression())])"
      ]
     },
     "execution_count": 15,
     "metadata": {},
     "output_type": "execute_result"
    }
   ],
   "source": [
    "# Treinando o modelo com o conjunto de treino\n",
    "model.fit(X_train, y_train)"
   ]
  },
  {
   "cell_type": "code",
   "execution_count": 16,
   "id": "cad8ba1d",
   "metadata": {},
   "outputs": [],
   "source": [
    "# Predizendo os valores para o conjunto de teste\n",
    "y_pred = model.predict(X_test)"
   ]
  },
  {
   "cell_type": "code",
   "execution_count": 17,
   "id": "1a9f10e3",
   "metadata": {},
   "outputs": [
    {
     "name": "stdout",
     "output_type": "stream",
     "text": [
      "Mean squared error:  53373.84957961114\n",
      "Coefficient of determination (R^2):  0.6604196633883896\n"
     ]
    }
   ],
   "source": [
    "# Calculando e imprimindo as métricas\n",
    "print('Mean squared error: ', mean_squared_error(y_test, y_pred))\n",
    "print('Coefficient of determination (R^2): ', r2_score(y_test, y_pred))\n"
   ]
  },
  {
   "cell_type": "code",
   "execution_count": 18,
   "id": "0b2ce405",
   "metadata": {},
   "outputs": [
    {
     "data": {
      "image/png": "[encoded data removed]",
      "text/plain": [
       "<Figure size 640x480 with 1 Axes>"
      ]
     },
     "metadata": {},
     "output_type": "display_data"
    }
   ],
   "source": [
    "# Plotando o gráfico\n",
    "sns.regplot(x=y_test, y=y_pred, line_kws={\"color\":\"r\",\"alpha\":0.7,\"lw\":2})\n",
    "plt.xlabel('Verdadeiro Preço')\n",
    "plt.ylabel('Preço Predito')\n",
    "plt.title('Verdadeiro vs Predito')\n",
    "plt.show()"
   ]
  },
  {
   "cell_type": "code",
   "execution_count": 19,
   "id": "7a32ff63",
   "metadata": {},
   "outputs": [],
   "source": [
    "# Obtendo os coeficientes da regressão linear\n",
    "linear_regressor = model.named_steps['regressor']\n",
    "coef = linear_regressor.coef_\n",
    "intercept = linear_regressor.intercept_"
   ]
  },
  {
   "cell_type": "code",
   "execution_count": 20,
   "id": "5525f3cf",
   "metadata": {},
   "outputs": [
    {
     "data": {
      "text/plain": [
       "366112013177963.7"
      ]
     },
     "execution_count": 20,
     "metadata": {},
     "output_type": "execute_result"
    }
   ],
   "source": [
    "intercept"
   ]
  },
  {
   "cell_type": "code",
   "execution_count": 21,
   "id": "c22c59fe",
   "metadata": {},
   "outputs": [
    {
     "data": {
      "text/plain": [
       "array([ 1.30159522e+02,  2.20762953e+00, -3.69686664e+02, -3.93154744e+01,\n",
       "       -2.38562876e-02,  7.79064965e+01,  1.18987143e+01,  8.42417239e+01,\n",
       "        2.72847810e+01,  2.23504655e+01, -1.07731138e+01,  3.54470042e+01,\n",
       "        9.07309807e+00,  2.68748915e+01,  3.93488462e+00,  4.23347484e+12,\n",
       "        5.97238677e+01,  4.28968577e+13, -5.00519328e+13, -1.74691673e+14,\n",
       "       -1.28354444e+14,  8.64056606e+12,  8.03219336e+13, -2.84114758e+14,\n",
       "        6.26134384e+13, -3.74240943e+14, -1.23166752e+14, -1.29751460e+14,\n",
       "        2.24435908e+14, -1.68437293e+13,  2.71132013e+14,  6.73745262e+14,\n",
       "        5.15019965e+14, -3.46530333e+13,  2.48995610e+14,  9.19600026e+13,\n",
       "       -6.18000690e+14,  2.56804446e+13, -1.02972414e+14, -8.04986702e+12,\n",
       "       -6.48051250e+13,  1.77516575e+13,  1.06791478e+14, -6.55402154e+13,\n",
       "        8.47009585e+13, -4.68710560e+13, -8.50473735e+12, -8.50473735e+12,\n",
       "       -8.50473735e+12,  2.17539704e+13, -2.08609453e+13,  6.25805243e+13,\n",
       "       -5.27541215e+13,  9.42661312e+13,  6.70652805e+13, -1.99755104e+13,\n",
       "        1.24452646e+13, -4.01863146e+14, -8.28568072e+13, -4.24094586e+13,\n",
       "       -2.27098964e+13,  6.83111312e+13, -7.46566220e+13,  2.56379106e+13,\n",
       "        9.00826243e+12, -6.96265836e+12, -6.96265836e+12, -6.96265836e+12,\n",
       "       -6.96265836e+12, -6.96265836e+12, -6.96265836e+12, -6.96265836e+12,\n",
       "       -6.96265836e+12, -6.57551872e+13, -6.53518095e+13,  1.68783285e+14,\n",
       "        8.09956771e+13, -7.01538891e+13,  3.49377276e+13, -1.88761113e+13,\n",
       "        5.89430205e+13, -5.26367302e+13,  9.60312422e+13,  8.13933686e+13,\n",
       "        8.52661454e+12,  3.08666598e+13, -5.44634725e+14, -8.38381576e+13,\n",
       "       -4.71428343e+13, -2.47462404e+13,  1.22867277e+14, -7.21287308e+13,\n",
       "        2.45584502e+13,  1.83311018e+11])"
      ]
     },
     "execution_count": 21,
     "metadata": {},
     "output_type": "execute_result"
    }
   ],
   "source": [
    "coef"
   ]
  },
  {
   "cell_type": "code",
   "execution_count": 24,
   "id": "f38e2455",
   "metadata": {},
   "outputs": [],
   "source": [
    "# Obtendo os nomes das colunas após o one-hot encoding\n",
    "one_hot_columns = list(model.named_steps['preprocessor'].\n",
    "                       named_transformers_['cat'].\n",
    "                       named_steps['one_hot_encoder'].\n",
    "                       get_feature_names_out(object_cols))"
   ]
  },
  {
   "cell_type": "code",
   "execution_count": 25,
   "id": "1dca7163",
   "metadata": {},
   "outputs": [
    {
     "name": "stdout",
     "output_type": "stream",
     "text": [
      "A equação da regressão é:\n",
      "Preco = 366112013177963.7 + 130.15952165450275*Valor_Area_util_do_imovel + 2.2076295264641175*Numero_Andar_do_imovel + -369.68666358233463*Latitude_imovel + -39.315474427964*Longitude_imovel + -0.023856287636151663*Tipo_de_Construcao + 77.90649647145771*Numero_de_Banheiros + 11.898714317269047*Possui_Jardim + 84.24172394516819*Possui_Elevador + 27.28478099927831*Possui_Estacionamento + 22.35046554036576*Possui_Piscina + -10.773113779459564*Possui_Terraco + 35.4470042395137*Numero_de_Quartos + 9.073098068811952*Indicador_Anuncio_possui_planta_baixa + 26.874891496526367*Numero_de_fotos_do_anuncio + 3.9348846187485513*Numero_de_videos_do_anuncio + 4233474842849.3086*Tipo_de_Operacao + 59.7238677251183*Tipo_de_proprietario + 42896857723644.08*Numero_Faixa_Etaria_0-14 + -50051932767475.03*Numero_Faixa_Etaria_15-64 + -174691672810235.7*Numero_Faixa_Etaria_>65 + -128354444101661.78*Percentual_Faixa_Etaria_0-14 + 8640566064539.876*Percentual_Faixa_Etaria_15-64 + 80321933584271.25*Percentual_Faixa_Etaria_>65 + -284114758153460.56*Densidade_populacional_por_Km + 62613438395201.91*Densidade_populacional_Estrangeiros + -374240942792970.6*Quantidade_Hospitais_(Particulares_e_Publicos) + -123166751985696.56*Quantidade_Farmacias + -129751459731591.44*Quantidade_Construcoes_Novas + 224435907764688.06*Quantidade_Escolas_Pre-Escolar_(4-6_anos) + -16843729335704.668*Quantidade_Escolas_Ciclo_1_(6-10_anos) + 271132013245256.88*Quantidade_Escolas_Ciclo_2_(10-12_anos) + 673745262230734.5*Quantidade_Escolas_Ciclo_3_(13-15_anos) + 515019965113204.7*Quantidade_Shows_Exibicoes_Teatro + -34653033336619.277*Quantidade_Cinemas + 248995610397687.62*Renda_Media_Mensal + 91960002646825.19*Percentual_Desempregados + -618000690195020.1*Percentual_Poder_de_Compra + 25680444555850.312*Percentual_Crimes + -102972414449585.23*Quantidade_Bancos + -8049867019433.031*Latitude_Municipio + -64805125014943.5*Longitude_Municipio + 17751657495989.594*Distancia_dirigindo_de_Lisboa_Portugal + 106791478377708.78*Distancia_dirigindo_de_Porto_Portugal + -65540215373995.19*Clima_Ranking + 84700958453720.53*Ranking_Geral + -46871055994882.78*Ranking_Regional + -8504737351169.375*Indicador_de_Elevador_Não Informado + -8504737351369.906*Indicador_de_Elevador_com elevador + -8504737351306.1875*Indicador_de_Elevador_sem elevador + 21753970354409.22*Distrito_do_imovel_AVEIRO + -20860945313705.28*Distrito_do_imovel_BEJA + 62580524329284.93*Distrito_do_imovel_BRAGANCA + -52754121508915.28*Distrito_do_imovel_CASTELO BRANCO + 94266131187385.48*Distrito_do_imovel_COIMBRA + 67065280451707.11*Distrito_do_imovel_EVORA + -19975510366594.344*Distrito_do_imovel_FARO + 12445264606287.844*Distrito_do_imovel_LEIRIA + -401863146468685.8*Distrito_do_imovel_LISBOA + -82856807249868.25*Distrito_do_imovel_PORTALEGRE + -42409458646726.695*Distrito_do_imovel_PORTO + -22709896390359.516*Distrito_do_imovel_SANTAREM + 68311131172241.36*Distrito_do_imovel_SETUBAL + -74656621973645.62*Distrito_do_imovel_VIANA DO CASTELO + 25637910552110.17*Distrito_do_imovel_VILA REAL + 9008262430523.055*Distrito_do_imovel_VISEU + -6962658355578.75*Tipo_de_Certificacao_Energetica_a + -6962658355546.508*Tipo_de_Certificacao_Energetica_b + -6962658355668.969*Tipo_de_Certificacao_Energetica_c + -6962658355667.219*Tipo_de_Certificacao_Energetica_d + -6962658355613.43*Tipo_de_Certificacao_Energetica_desconhecido + -6962658355711.8125*Tipo_de_Certificacao_Energetica_e + -6962658355662.477*Tipo_de_Certificacao_Energetica_f + -6962658355621.875*Tipo_de_Certificacao_Energetica_inProcess + -65755187206205.55*Nome_Regiao_Alentejo + -65351809493221.72*Nome_Regiao_Algarve + 168783285456631.34*Nome_Regiao_Area Metropolitana de Lisboa + 80995677116341.97*Nome_Regiao_Centro + -70153889139429.69*Nome_Regiao_Norte + 34937727564723.58*Nome_Cidade_AVEIRO + -18876111267680.844*Nome_Cidade_BEJA + 58943020488671.86*Nome_Cidade_BRAGANCA + -52636730161697.84*Nome_Cidade_CASTELO BRANCO + 96031242160397.97*Nome_Cidade_COIMBRA + 81393368624503.06*Nome_Cidade_EVORA + 8526614539153.5625*Nome_Cidade_FARO + 30866659790055.438*Nome_Cidade_LEIRIA + -544634724601814.3*Nome_Cidade_LISBOA + -83838157615342.9*Nome_Cidade_PORTALEGRE + -47142834306775.16*Nome_Cidade_PORTO + -24746240413605.938*Nome_Cidade_SANTAREM + 122867277372459.22*Nome_Cidade_SETUBAL + -72128730755677.5*Nome_Cidade_VIANA DO CASTELO + 24558450196242.453*Nome_Cidade_VILA REAL + 183311018118.1875*Nome_Cidade_VISEU\n"
     ]
    }
   ],
   "source": [
    "# Criando uma lista com todos os nomes das colunas\n",
    "all_columns = numeric_cols + one_hot_columns\n",
    "\n",
    "# Imprimindo a equação da regressão\n",
    "equation = \"Preco = \" + str(intercept)\n",
    "for i in range(len(coef)):\n",
    "    equation += \" + \" + str(coef[i]) + \"*\" + all_columns[i]\n",
    "\n",
    "print(\"A equação da regressão é:\")\n",
    "print(equation)"
   ]
  },
  {
   "cell_type": "code",
   "execution_count": 26,
   "id": "2eb44b3a",
   "metadata": {},
   "outputs": [
    {
     "name": "stdout",
     "output_type": "stream",
     "text": [
      "As 10 características mais importantes são:\n",
      "Quantidade_Escolas_Ciclo_3_(13-15_anos): 673745262230734.5\n",
      "Percentual_Poder_de_Compra: -618000690195020.1\n",
      "Nome_Cidade_LISBOA: -544634724601814.3\n",
      "Quantidade_Shows_Exibicoes_Teatro: 515019965113204.7\n",
      "Distrito_do_imovel_LISBOA: -401863146468685.8\n",
      "Quantidade_Hospitais_(Particulares_e_Publicos): -374240942792970.6\n",
      "Densidade_populacional_por_Km: -284114758153460.56\n",
      "Quantidade_Escolas_Ciclo_2_(10-12_anos): 271132013245256.88\n",
      "Renda_Media_Mensal: 248995610397687.62\n",
      "Quantidade_Escolas_Pre-Escolar_(4-6_anos): 224435907764688.06\n",
      "Numero_Faixa_Etaria_>65: -174691672810235.7\n",
      "Nome_Regiao_Area Metropolitana de Lisboa: 168783285456631.34\n",
      "Quantidade_Construcoes_Novas: -129751459731591.44\n",
      "Percentual_Faixa_Etaria_0-14: -128354444101661.78\n",
      "Quantidade_Farmacias: -123166751985696.56\n",
      "Nome_Cidade_SETUBAL: 122867277372459.22\n",
      "Distancia_dirigindo_de_Porto_Portugal: 106791478377708.78\n",
      "Quantidade_Bancos: -102972414449585.23\n",
      "Nome_Cidade_COIMBRA: 96031242160397.97\n",
      "Distrito_do_imovel_COIMBRA: 94266131187385.48\n"
     ]
    }
   ],
   "source": [
    "\n",
    "# Obtendo os coeficientes da regressão linear e ordenando em ordem decrescente\n",
    "coef = linear_regressor.coef_\n",
    "sorted_indices = np.argsort(np.abs(coef))[::-1]\n",
    "\n",
    "print(\"As 10 características mais importantes são:\")\n",
    "for i in range(20):\n",
    "    print(f\"{all_columns[sorted_indices[i]]}: {coef[sorted_indices[i]]}\")\n"
   ]
  },
  {
   "cell_type": "code",
   "execution_count": null,
   "id": "22a9b396",
   "metadata": {},
   "outputs": [],
   "source": []
  },
  {
   "cell_type": "markdown",
   "id": "33805cd7",
   "metadata": {},
   "source": [
    "resultados bem abaixo do esperado com acuracioa de 14% no teste"
   ]
  },
  {
   "cell_type": "markdown",
   "id": "3168cf3a",
   "metadata": {},
   "source": [
    "## Árvore de Decisão"
   ]
  },
  {
   "cell_type": "code",
   "execution_count": 50,
   "id": "5968ead1",
   "metadata": {},
   "outputs": [],
   "source": [
    "## Árvore de Decisãotree_model_pipe.fit(X_train, y_train)\n",
    "from sklearn.tree import DecisionTreeClassifier\n",
    "\n",
    "tree_model_pipe = Pipeline(steps=[\n",
    "                ('numeric_imputer', MeanMedianImputer(variables=num_vars, imputation_method='median')),\n",
    "                ('categoric_imputer', CategoricalImputer(variables=cat_vars, fill_value='missing')),\n",
    "                ('one_hot_encoder', OneHotEncoder(variables=cat_vars)),\n",
    "                ('algoritmo', DecisionTreeClassifier(random_state=42))\n",
    "])\n"
   ]
  },
  {
   "cell_type": "code",
   "execution_count": 52,
   "id": "fe10fb55",
   "metadata": {},
   "outputs": [
    {
     "data": {
      "text/html": [
       "<style>#sk-container-id-3 {color: black;background-color: white;}#sk-container-id-3 pre{padding: 0;}#sk-container-id-3 div.sk-toggleable {background-color: white;}#sk-container-id-3 label.sk-toggleable__label {cursor: pointer;display: block;width: 100%;margin-bottom: 0;padding: 0.3em;box-sizing: border-box;text-align: center;}#sk-container-id-3 label.sk-toggleable__label-arrow:before {content: \"▸\";float: left;margin-right: 0.25em;color: #696969;}#sk-container-id-3 label.sk-toggleable__label-arrow:hover:before {color: black;}#sk-container-id-3 div.sk-estimator:hover label.sk-toggleable__label-arrow:before {color: black;}#sk-container-id-3 div.sk-toggleable__content {max-height: 0;max-width: 0;overflow: hidden;text-align: left;background-color: #f0f8ff;}#sk-container-id-3 div.sk-toggleable__content pre {margin: 0.2em;color: black;border-radius: 0.25em;background-color: #f0f8ff;}#sk-container-id-3 input.sk-toggleable__control:checked~div.sk-toggleable__content {max-height: 200px;max-width: 100%;overflow: auto;}#sk-container-id-3 input.sk-toggleable__control:checked~label.sk-toggleable__label-arrow:before {content: \"▾\";}#sk-container-id-3 div.sk-estimator input.sk-toggleable__control:checked~label.sk-toggleable__label {background-color: #d4ebff;}#sk-container-id-3 div.sk-label input.sk-toggleable__control:checked~label.sk-toggleable__label {background-color: #d4ebff;}#sk-container-id-3 input.sk-hidden--visually {border: 0;clip: rect(1px 1px 1px 1px);clip: rect(1px, 1px, 1px, 1px);height: 1px;margin: -1px;overflow: hidden;padding: 0;position: absolute;width: 1px;}#sk-container-id-3 div.sk-estimator {font-family: monospace;background-color: #f0f8ff;border: 1px dotted black;border-radius: 0.25em;box-sizing: border-box;margin-bottom: 0.5em;}#sk-container-id-3 div.sk-estimator:hover {background-color: #d4ebff;}#sk-container-id-3 div.sk-parallel-item::after {content: \"\";width: 100%;border-bottom: 1px solid gray;flex-grow: 1;}#sk-container-id-3 div.sk-label:hover label.sk-toggleable__label {background-color: #d4ebff;}#sk-container-id-3 div.sk-serial::before {content: \"\";position: absolute;border-left: 1px solid gray;box-sizing: border-box;top: 0;bottom: 0;left: 50%;z-index: 0;}#sk-container-id-3 div.sk-serial {display: flex;flex-direction: column;align-items: center;background-color: white;padding-right: 0.2em;padding-left: 0.2em;position: relative;}#sk-container-id-3 div.sk-item {position: relative;z-index: 1;}#sk-container-id-3 div.sk-parallel {display: flex;align-items: stretch;justify-content: center;background-color: white;position: relative;}#sk-container-id-3 div.sk-item::before, #sk-container-id-3 div.sk-parallel-item::before {content: \"\";position: absolute;border-left: 1px solid gray;box-sizing: border-box;top: 0;bottom: 0;left: 50%;z-index: -1;}#sk-container-id-3 div.sk-parallel-item {display: flex;flex-direction: column;z-index: 1;position: relative;background-color: white;}#sk-container-id-3 div.sk-parallel-item:first-child::after {align-self: flex-end;width: 50%;}#sk-container-id-3 div.sk-parallel-item:last-child::after {align-self: flex-start;width: 50%;}#sk-container-id-3 div.sk-parallel-item:only-child::after {width: 0;}#sk-container-id-3 div.sk-dashed-wrapped {border: 1px dashed gray;margin: 0 0.4em 0.5em 0.4em;box-sizing: border-box;padding-bottom: 0.4em;background-color: white;}#sk-container-id-3 div.sk-label label {font-family: monospace;font-weight: bold;display: inline-block;line-height: 1.2em;}#sk-container-id-3 div.sk-label-container {text-align: center;}#sk-container-id-3 div.sk-container {/* jupyter's `normalize.less` sets `[hidden] { display: none; }` but bootstrap.min.css set `[hidden] { display: none !important; }` so we also need the `!important` here to be able to override the default hidden behavior on the sphinx rendered scikit-learn.org. See: https://github.com/scikit-learn/scikit-learn/issues/21755 */display: inline-block !important;position: relative;}#sk-container-id-3 div.sk-text-repr-fallback {display: none;}</style><div id=\"sk-container-id-3\" class=\"sk-top-container\"><div class=\"sk-text-repr-fallback\"><pre>Pipeline(steps=[(&#x27;numeric_imputer&#x27;,\n",
       "                 MeanMedianImputer(variables=[&#x27;Valor_Area_util_do_imovel&#x27;,\n",
       "                                              &#x27;Numero_Andar_do_imovel&#x27;,\n",
       "                                              &#x27;Preco_por_metro_quadrado&#x27;,\n",
       "                                              &#x27;Latitude_imovel&#x27;,\n",
       "                                              &#x27;Longitude_imovel&#x27;,\n",
       "                                              &#x27;Tipo_de_Construcao&#x27;,\n",
       "                                              &#x27;Numero_de_Banheiros&#x27;,\n",
       "                                              &#x27;Possui_Jardim&#x27;,\n",
       "                                              &#x27;Possui_Elevador&#x27;,\n",
       "                                              &#x27;Possui_Estacionamento&#x27;,\n",
       "                                              &#x27;Possui_Piscina&#x27;,\n",
       "                                              &#x27;Possui_Terraco&#x27;,\n",
       "                                              &#x27;Numero_de_Quartos&#x27;,\n",
       "                                              &#x27;Indicador_Anu...\n",
       "                 CategoricalImputer(fill_value=&#x27;missing&#x27;,\n",
       "                                    variables=[&#x27;Indicador_de_Elevador&#x27;,\n",
       "                                               &#x27;Distrito_do_imovel&#x27;,\n",
       "                                               &#x27;Tipo_de_Certificacao_Energetica&#x27;,\n",
       "                                               &#x27;Nome_Regiao&#x27;, &#x27;Nome_Cidade&#x27;])),\n",
       "                (&#x27;one_hot_encoder&#x27;,\n",
       "                 OneHotEncoder(variables=[&#x27;Indicador_de_Elevador&#x27;,\n",
       "                                          &#x27;Distrito_do_imovel&#x27;,\n",
       "                                          &#x27;Tipo_de_Certificacao_Energetica&#x27;,\n",
       "                                          &#x27;Nome_Regiao&#x27;, &#x27;Nome_Cidade&#x27;])),\n",
       "                (&#x27;algoritmo&#x27;, DecisionTreeClassifier(random_state=42))])</pre><b>In a Jupyter environment, please rerun this cell to show the HTML representation or trust the notebook. <br />On GitHub, the HTML representation is unable to render, please try loading this page with nbviewer.org.</b></div><div class=\"sk-container\" hidden><div class=\"sk-item sk-dashed-wrapped\"><div class=\"sk-label-container\"><div class=\"sk-label sk-toggleable\"><input class=\"sk-toggleable__control sk-hidden--visually\" id=\"sk-estimator-id-10\" type=\"checkbox\" ><label for=\"sk-estimator-id-10\" class=\"sk-toggleable__label sk-toggleable__label-arrow\">Pipeline</label><div class=\"sk-toggleable__content\"><pre>Pipeline(steps=[(&#x27;numeric_imputer&#x27;,\n",
       "                 MeanMedianImputer(variables=[&#x27;Valor_Area_util_do_imovel&#x27;,\n",
       "                                              &#x27;Numero_Andar_do_imovel&#x27;,\n",
       "                                              &#x27;Preco_por_metro_quadrado&#x27;,\n",
       "                                              &#x27;Latitude_imovel&#x27;,\n",
       "                                              &#x27;Longitude_imovel&#x27;,\n",
       "                                              &#x27;Tipo_de_Construcao&#x27;,\n",
       "                                              &#x27;Numero_de_Banheiros&#x27;,\n",
       "                                              &#x27;Possui_Jardim&#x27;,\n",
       "                                              &#x27;Possui_Elevador&#x27;,\n",
       "                                              &#x27;Possui_Estacionamento&#x27;,\n",
       "                                              &#x27;Possui_Piscina&#x27;,\n",
       "                                              &#x27;Possui_Terraco&#x27;,\n",
       "                                              &#x27;Numero_de_Quartos&#x27;,\n",
       "                                              &#x27;Indicador_Anu...\n",
       "                 CategoricalImputer(fill_value=&#x27;missing&#x27;,\n",
       "                                    variables=[&#x27;Indicador_de_Elevador&#x27;,\n",
       "                                               &#x27;Distrito_do_imovel&#x27;,\n",
       "                                               &#x27;Tipo_de_Certificacao_Energetica&#x27;,\n",
       "                                               &#x27;Nome_Regiao&#x27;, &#x27;Nome_Cidade&#x27;])),\n",
       "                (&#x27;one_hot_encoder&#x27;,\n",
       "                 OneHotEncoder(variables=[&#x27;Indicador_de_Elevador&#x27;,\n",
       "                                          &#x27;Distrito_do_imovel&#x27;,\n",
       "                                          &#x27;Tipo_de_Certificacao_Energetica&#x27;,\n",
       "                                          &#x27;Nome_Regiao&#x27;, &#x27;Nome_Cidade&#x27;])),\n",
       "                (&#x27;algoritmo&#x27;, DecisionTreeClassifier(random_state=42))])</pre></div></div></div><div class=\"sk-serial\"><div class=\"sk-item\"><div class=\"sk-estimator sk-toggleable\"><input class=\"sk-toggleable__control sk-hidden--visually\" id=\"sk-estimator-id-11\" type=\"checkbox\" ><label for=\"sk-estimator-id-11\" class=\"sk-toggleable__label sk-toggleable__label-arrow\">MeanMedianImputer</label><div class=\"sk-toggleable__content\"><pre>MeanMedianImputer(variables=[&#x27;Valor_Area_util_do_imovel&#x27;,\n",
       "                             &#x27;Numero_Andar_do_imovel&#x27;,\n",
       "                             &#x27;Preco_por_metro_quadrado&#x27;, &#x27;Latitude_imovel&#x27;,\n",
       "                             &#x27;Longitude_imovel&#x27;, &#x27;Tipo_de_Construcao&#x27;,\n",
       "                             &#x27;Numero_de_Banheiros&#x27;, &#x27;Possui_Jardim&#x27;,\n",
       "                             &#x27;Possui_Elevador&#x27;, &#x27;Possui_Estacionamento&#x27;,\n",
       "                             &#x27;Possui_Piscina&#x27;, &#x27;Possui_Terraco&#x27;,\n",
       "                             &#x27;Numero_de_Quartos&#x27;,\n",
       "                             &#x27;Indicador_Anuncio_possui_planta_baixa&#x27;,\n",
       "                             &#x27;Numero_d...\n",
       "                             &#x27;Numero_Faixa_Etaria_15-64&#x27;,\n",
       "                             &#x27;Numero_Faixa_Etaria_&gt;65&#x27;,\n",
       "                             &#x27;Percentual_Faixa_Etaria_0-14&#x27;,\n",
       "                             &#x27;Percentual_Faixa_Etaria_15-64&#x27;,\n",
       "                             &#x27;Percentual_Faixa_Etaria_&gt;65&#x27;,\n",
       "                             &#x27;Densidade_populacional_por_Km&#x27;,\n",
       "                             &#x27;Densidade_populacional_Estrangeiros&#x27;,\n",
       "                             &#x27;Quantidade_Hospitais_(Particulares_e_Publicos)&#x27;,\n",
       "                             &#x27;Quantidade_Farmacias&#x27;,\n",
       "                             &#x27;Quantidade_Construcoes_Novas&#x27;,\n",
       "                             &#x27;Quantidade_Escolas_Pre-Escolar_(4-6_anos)&#x27;, ...])</pre></div></div></div><div class=\"sk-item\"><div class=\"sk-estimator sk-toggleable\"><input class=\"sk-toggleable__control sk-hidden--visually\" id=\"sk-estimator-id-12\" type=\"checkbox\" ><label for=\"sk-estimator-id-12\" class=\"sk-toggleable__label sk-toggleable__label-arrow\">CategoricalImputer</label><div class=\"sk-toggleable__content\"><pre>CategoricalImputer(fill_value=&#x27;missing&#x27;,\n",
       "                   variables=[&#x27;Indicador_de_Elevador&#x27;, &#x27;Distrito_do_imovel&#x27;,\n",
       "                              &#x27;Tipo_de_Certificacao_Energetica&#x27;, &#x27;Nome_Regiao&#x27;,\n",
       "                              &#x27;Nome_Cidade&#x27;])</pre></div></div></div><div class=\"sk-item\"><div class=\"sk-estimator sk-toggleable\"><input class=\"sk-toggleable__control sk-hidden--visually\" id=\"sk-estimator-id-13\" type=\"checkbox\" ><label for=\"sk-estimator-id-13\" class=\"sk-toggleable__label sk-toggleable__label-arrow\">OneHotEncoder</label><div class=\"sk-toggleable__content\"><pre>OneHotEncoder(variables=[&#x27;Indicador_de_Elevador&#x27;, &#x27;Distrito_do_imovel&#x27;,\n",
       "                         &#x27;Tipo_de_Certificacao_Energetica&#x27;, &#x27;Nome_Regiao&#x27;,\n",
       "                         &#x27;Nome_Cidade&#x27;])</pre></div></div></div><div class=\"sk-item\"><div class=\"sk-estimator sk-toggleable\"><input class=\"sk-toggleable__control sk-hidden--visually\" id=\"sk-estimator-id-14\" type=\"checkbox\" ><label for=\"sk-estimator-id-14\" class=\"sk-toggleable__label sk-toggleable__label-arrow\">DecisionTreeClassifier</label><div class=\"sk-toggleable__content\"><pre>DecisionTreeClassifier(random_state=42)</pre></div></div></div></div></div></div></div>"
      ],
      "text/plain": [
       "Pipeline(steps=[('numeric_imputer',\n",
       "                 MeanMedianImputer(variables=['Valor_Area_util_do_imovel',\n",
       "                                              'Numero_Andar_do_imovel',\n",
       "                                              'Preco_por_metro_quadrado',\n",
       "                                              'Latitude_imovel',\n",
       "                                              'Longitude_imovel',\n",
       "                                              'Tipo_de_Construcao',\n",
       "                                              'Numero_de_Banheiros',\n",
       "                                              'Possui_Jardim',\n",
       "                                              'Possui_Elevador',\n",
       "                                              'Possui_Estacionamento',\n",
       "                                              'Possui_Piscina',\n",
       "                                              'Possui_Terraco',\n",
       "                                              'Numero_de_Quartos',\n",
       "                                              'Indicador_Anu...\n",
       "                 CategoricalImputer(fill_value='missing',\n",
       "                                    variables=['Indicador_de_Elevador',\n",
       "                                               'Distrito_do_imovel',\n",
       "                                               'Tipo_de_Certificacao_Energetica',\n",
       "                                               'Nome_Regiao', 'Nome_Cidade'])),\n",
       "                ('one_hot_encoder',\n",
       "                 OneHotEncoder(variables=['Indicador_de_Elevador',\n",
       "                                          'Distrito_do_imovel',\n",
       "                                          'Tipo_de_Certificacao_Energetica',\n",
       "                                          'Nome_Regiao', 'Nome_Cidade'])),\n",
       "                ('algoritmo', DecisionTreeClassifier(random_state=42))])"
      ]
     },
     "execution_count": 52,
     "metadata": {},
     "output_type": "execute_result"
    }
   ],
   "source": [
    "tree_model_pipe.fit(X_train, y_train)"
   ]
  },
  {
   "cell_type": "code",
   "execution_count": 53,
   "id": "0e2bee23",
   "metadata": {},
   "outputs": [
    {
     "name": "stdout",
     "output_type": "stream",
     "text": [
      "Acc de Treino: 1.0\n",
      "Acc de Teste: 0.44523246650906223\n"
     ]
    }
   ],
   "source": [
    "# Avaliando o modelo na base de treino e teste\n",
    "y_pred_train = tree_model_pipe.predict(X_train)\n",
    "y_pred_test  = tree_model_pipe.predict(X_test)\n",
    "\n",
    "acc_train = accuracy_score(y_train, y_pred_train)\n",
    "acc_test  = accuracy_score(y_test, y_pred_test)\n",
    "\n",
    "print(f\"Acc de Treino: {acc_train}\")\n",
    "print(f\"Acc de Teste: {acc_test}\")"
   ]
  },
  {
   "cell_type": "markdown",
   "id": "83af3778",
   "metadata": {},
   "source": [
    "A regressão logística apesar de ter tido um score menor no treino, ela possui um score melhor no teste e também é mais robusta, ou seja, a sua performance se mantém estável entre treino e teste. Enquanto a árvore de decisão acerta tudo na base de treino e erra bastante na base de teste. Dizemos que a árvore de decisão overfitou (sobreajustou) os dados de treino. É como um estudante que só decorou a resolução da lista de questões que o professor passou para estudar para a prova. Na hora da prova, em que o professor colocou questões novas, o aluno já não se sai tão bem."
   ]
  },
  {
   "cell_type": "markdown",
   "id": "0c4a2a32",
   "metadata": {},
   "source": [
    "## Regressão Linear\n"
   ]
  },
  {
   "cell_type": "code",
   "execution_count": 67,
   "id": "8044de4c",
   "metadata": {},
   "outputs": [],
   "source": [
    "# Importar as bibliotecas necessárias\n",
    "import numpy as np\n",
    "import matplotlib.pyplot as plt\n",
    "from sklearn.datasets import make_regression\n",
    "from sklearn.model_selection import train_test_split\n",
    "from sklearn.preprocessing import StandardScaler\n",
    "from sklearn.linear_model import LinearRegression\n",
    "from sklearn.pipeline import Pipeline\n",
    "from sklearn.compose import ColumnTransformer\n"
   ]
  },
  {
   "cell_type": "code",
   "execution_count": 70,
   "id": "1fc05b8d",
   "metadata": {},
   "outputs": [],
   "source": [
    "\n",
    "# Dividir os dados em conjuntos de treinamento e teste\n",
    "# X_train, X_test, y_train, y_test = train_test_split(X, y, test_size=0.2, random_state=42)\n",
    "\n",
    "# Criar o pipeline\n",
    "# Neste exemplo, usaremos o StandardScaler para padronizar os recursos e a Regressão Linear para criar o modelo.\n",
    "pipeline = Pipeline(steps=[\n",
    "                ('numeric_imputer', MeanMedianImputer(variables=num_vars, imputation_method='median')),\n",
    "                ('numeric_scaler', SklearnTransformerWrapper(variables=num_vars, transformer=StandardScaler())),\n",
    "                ('categoric_imputer', CategoricalImputer(variables=cat_vars, fill_value='missing')),\n",
    "                ('one_hot_encoder', OneHotEncoder(variables=cat_vars)),\n",
    "                ('preprocessor', ColumnTransformer(transformers=[('num', StandardScaler(), [0])], remainder='passthrough')),\n",
    "                ('regressor', LinearRegression())\n",
    "])\n"
   ]
  },
  {
   "cell_type": "code",
   "execution_count": 77,
   "id": "bca9d254",
   "metadata": {},
   "outputs": [
    {
     "ename": "AttributeError",
     "evalue": "This 'Pipeline' has no attribute 'transform'",
     "output_type": "error",
     "traceback": [
      "\u001b[1;31m---------------------------------------------------------------------------\u001b[0m",
      "\u001b[1;31mAttributeError\u001b[0m                            Traceback (most recent call last)",
      "Cell \u001b[1;32mIn[77], line 1\u001b[0m\n\u001b[1;32m----> 1\u001b[0m \u001b[43mpipeline\u001b[49m\u001b[38;5;241;43m.\u001b[39;49m\u001b[43mtransform\u001b[49m(X_test)\u001b[38;5;241m.\u001b[39mhead()\n",
      "File \u001b[1;32m~\\AppData\\Local\\Programs\\Python\\Python310\\lib\\site-packages\\sklearn\\utils\\_available_if.py:33\u001b[0m, in \u001b[0;36m_AvailableIfDescriptor.__get__\u001b[1;34m(self, obj, owner)\u001b[0m\n\u001b[0;32m     29\u001b[0m \u001b[38;5;28;01mif\u001b[39;00m obj \u001b[38;5;129;01mis\u001b[39;00m \u001b[38;5;129;01mnot\u001b[39;00m \u001b[38;5;28;01mNone\u001b[39;00m:\n\u001b[0;32m     30\u001b[0m     \u001b[38;5;66;03m# delegate only on instances, not the classes.\u001b[39;00m\n\u001b[0;32m     31\u001b[0m     \u001b[38;5;66;03m# this is to allow access to the docstrings.\u001b[39;00m\n\u001b[0;32m     32\u001b[0m     \u001b[38;5;28;01mif\u001b[39;00m \u001b[38;5;129;01mnot\u001b[39;00m \u001b[38;5;28mself\u001b[39m\u001b[38;5;241m.\u001b[39mcheck(obj):\n\u001b[1;32m---> 33\u001b[0m         \u001b[38;5;28;01mraise\u001b[39;00m attr_err\n\u001b[0;32m     34\u001b[0m     out \u001b[38;5;241m=\u001b[39m MethodType(\u001b[38;5;28mself\u001b[39m\u001b[38;5;241m.\u001b[39mfn, obj)\n\u001b[0;32m     36\u001b[0m \u001b[38;5;28;01melse\u001b[39;00m:\n\u001b[0;32m     37\u001b[0m     \u001b[38;5;66;03m# This makes it possible to use the decorated method as an unbound method,\u001b[39;00m\n\u001b[0;32m     38\u001b[0m     \u001b[38;5;66;03m# for instance when monkeypatching.\u001b[39;00m\n",
      "\u001b[1;31mAttributeError\u001b[0m: This 'Pipeline' has no attribute 'transform'"
     ]
    }
   ],
   "source": [
    "pipeline.transform(X_test).head()"
   ]
  },
  {
   "cell_type": "code",
   "execution_count": 75,
   "id": "11f363ef",
   "metadata": {},
   "outputs": [],
   "source": [
    "# Treinar o modelo usando o pipeline\n",
    "pipeline.fit(X_train, y_train)\n",
    "\n",
    "# Fazer previsões usando o modelo treinado\n",
    "y_pred = pipeline.predict(X_test)\n",
    "\n"
   ]
  },
  {
   "cell_type": "code",
   "execution_count": 76,
   "id": "a11acee0",
   "metadata": {},
   "outputs": [
    {
     "data": {
      "text/plain": [
       "795      500.0\n",
       "3493     670.0\n",
       "5361    1050.0\n",
       "5002    1000.0\n",
       "5070     700.0\n",
       "         ...  \n",
       "5260    1050.0\n",
       "500      700.0\n",
       "3885    1500.0\n",
       "4517     800.0\n",
       "5925     430.0\n",
       "Name: Preco, Length: 5072, dtype: float64"
      ]
     },
     "execution_count": 76,
     "metadata": {},
     "output_type": "execute_result"
    }
   ],
   "source": [
    "y_train"
   ]
  },
  {
   "cell_type": "code",
   "execution_count": 72,
   "id": "f60c8e7f",
   "metadata": {},
   "outputs": [
    {
     "name": "stdout",
     "output_type": "stream",
     "text": [
      "Coeficiente Angular: 315.3570414203695\n",
      "Coeficiente Linear: 2026633154672.021\n"
     ]
    }
   ],
   "source": [
    "# Imprimir o coeficiente angular e linear\n",
    "coeficiente_angular = pipeline.named_steps['regressor'].coef_[0]\n",
    "coeficiente_linear = pipeline.named_steps['regressor'].intercept_\n",
    "\n",
    "print(f\"Coeficiente Angular: {coeficiente_angular}\")\n",
    "print(f\"Coeficiente Linear: {coeficiente_linear}\")\n",
    "\n"
   ]
  },
  {
   "cell_type": "code",
   "execution_count": 73,
   "id": "61ac49e4",
   "metadata": {},
   "outputs": [
    {
     "ename": "TypeError",
     "evalue": "unhashable type: 'numpy.ndarray'",
     "output_type": "error",
     "traceback": [
      "\u001b[1;31m---------------------------------------------------------------------------\u001b[0m",
      "\u001b[1;31mTypeError\u001b[0m                                 Traceback (most recent call last)",
      "Cell \u001b[1;32mIn[73], line 2\u001b[0m\n\u001b[0;32m      1\u001b[0m \u001b[38;5;66;03m# Plotar os resultados\u001b[39;00m\n\u001b[1;32m----> 2\u001b[0m \u001b[43mplt\u001b[49m\u001b[38;5;241;43m.\u001b[39;49m\u001b[43mscatter\u001b[49m\u001b[43m(\u001b[49m\u001b[43mX_train\u001b[49m\u001b[43m,\u001b[49m\u001b[43m \u001b[49m\u001b[43my_train\u001b[49m\u001b[43m,\u001b[49m\u001b[43m \u001b[49m\u001b[43mcolor\u001b[49m\u001b[38;5;241;43m=\u001b[39;49m\u001b[38;5;124;43m'\u001b[39;49m\u001b[38;5;124;43mblue\u001b[39;49m\u001b[38;5;124;43m'\u001b[39;49m\u001b[43m,\u001b[49m\u001b[43m \u001b[49m\u001b[43mlabel\u001b[49m\u001b[38;5;241;43m=\u001b[39;49m\u001b[38;5;124;43m'\u001b[39;49m\u001b[38;5;124;43mDados de Treinamento\u001b[39;49m\u001b[38;5;124;43m'\u001b[39;49m\u001b[43m)\u001b[49m\n\u001b[0;32m      3\u001b[0m plt\u001b[38;5;241m.\u001b[39mscatter(X_test, y_test, color\u001b[38;5;241m=\u001b[39m\u001b[38;5;124m'\u001b[39m\u001b[38;5;124mgreen\u001b[39m\u001b[38;5;124m'\u001b[39m, label\u001b[38;5;241m=\u001b[39m\u001b[38;5;124m'\u001b[39m\u001b[38;5;124mDados de Teste\u001b[39m\u001b[38;5;124m'\u001b[39m)\n\u001b[0;32m      4\u001b[0m plt\u001b[38;5;241m.\u001b[39mplot(X_test, y_pred, color\u001b[38;5;241m=\u001b[39m\u001b[38;5;124m'\u001b[39m\u001b[38;5;124mred\u001b[39m\u001b[38;5;124m'\u001b[39m, linewidth\u001b[38;5;241m=\u001b[39m\u001b[38;5;241m2\u001b[39m, label\u001b[38;5;241m=\u001b[39m\u001b[38;5;124m'\u001b[39m\u001b[38;5;124mRegressão Linear\u001b[39m\u001b[38;5;124m'\u001b[39m)\n",
      "File \u001b[1;32m~\\AppData\\Local\\Programs\\Python\\Python310\\lib\\site-packages\\matplotlib\\pyplot.py:2862\u001b[0m, in \u001b[0;36mscatter\u001b[1;34m(x, y, s, c, marker, cmap, norm, vmin, vmax, alpha, linewidths, edgecolors, plotnonfinite, data, **kwargs)\u001b[0m\n\u001b[0;32m   2857\u001b[0m \u001b[38;5;129m@_copy_docstring_and_deprecators\u001b[39m(Axes\u001b[38;5;241m.\u001b[39mscatter)\n\u001b[0;32m   2858\u001b[0m \u001b[38;5;28;01mdef\u001b[39;00m \u001b[38;5;21mscatter\u001b[39m(\n\u001b[0;32m   2859\u001b[0m         x, y, s\u001b[38;5;241m=\u001b[39m\u001b[38;5;28;01mNone\u001b[39;00m, c\u001b[38;5;241m=\u001b[39m\u001b[38;5;28;01mNone\u001b[39;00m, marker\u001b[38;5;241m=\u001b[39m\u001b[38;5;28;01mNone\u001b[39;00m, cmap\u001b[38;5;241m=\u001b[39m\u001b[38;5;28;01mNone\u001b[39;00m, norm\u001b[38;5;241m=\u001b[39m\u001b[38;5;28;01mNone\u001b[39;00m,\n\u001b[0;32m   2860\u001b[0m         vmin\u001b[38;5;241m=\u001b[39m\u001b[38;5;28;01mNone\u001b[39;00m, vmax\u001b[38;5;241m=\u001b[39m\u001b[38;5;28;01mNone\u001b[39;00m, alpha\u001b[38;5;241m=\u001b[39m\u001b[38;5;28;01mNone\u001b[39;00m, linewidths\u001b[38;5;241m=\u001b[39m\u001b[38;5;28;01mNone\u001b[39;00m, \u001b[38;5;241m*\u001b[39m,\n\u001b[0;32m   2861\u001b[0m         edgecolors\u001b[38;5;241m=\u001b[39m\u001b[38;5;28;01mNone\u001b[39;00m, plotnonfinite\u001b[38;5;241m=\u001b[39m\u001b[38;5;28;01mFalse\u001b[39;00m, data\u001b[38;5;241m=\u001b[39m\u001b[38;5;28;01mNone\u001b[39;00m, \u001b[38;5;241m*\u001b[39m\u001b[38;5;241m*\u001b[39mkwargs):\n\u001b[1;32m-> 2862\u001b[0m     __ret \u001b[38;5;241m=\u001b[39m gca()\u001b[38;5;241m.\u001b[39mscatter(\n\u001b[0;32m   2863\u001b[0m         x, y, s\u001b[38;5;241m=\u001b[39ms, c\u001b[38;5;241m=\u001b[39mc, marker\u001b[38;5;241m=\u001b[39mmarker, cmap\u001b[38;5;241m=\u001b[39mcmap, norm\u001b[38;5;241m=\u001b[39mnorm,\n\u001b[0;32m   2864\u001b[0m         vmin\u001b[38;5;241m=\u001b[39mvmin, vmax\u001b[38;5;241m=\u001b[39mvmax, alpha\u001b[38;5;241m=\u001b[39malpha, linewidths\u001b[38;5;241m=\u001b[39mlinewidths,\n\u001b[0;32m   2865\u001b[0m         edgecolors\u001b[38;5;241m=\u001b[39medgecolors, plotnonfinite\u001b[38;5;241m=\u001b[39mplotnonfinite,\n\u001b[0;32m   2866\u001b[0m         \u001b[38;5;241m*\u001b[39m\u001b[38;5;241m*\u001b[39m({\u001b[38;5;124m\"\u001b[39m\u001b[38;5;124mdata\u001b[39m\u001b[38;5;124m\"\u001b[39m: data} \u001b[38;5;28;01mif\u001b[39;00m data \u001b[38;5;129;01mis\u001b[39;00m \u001b[38;5;129;01mnot\u001b[39;00m \u001b[38;5;28;01mNone\u001b[39;00m \u001b[38;5;28;01melse\u001b[39;00m {}), \u001b[38;5;241m*\u001b[39m\u001b[38;5;241m*\u001b[39mkwargs)\n\u001b[0;32m   2867\u001b[0m     sci(__ret)\n\u001b[0;32m   2868\u001b[0m     \u001b[38;5;28;01mreturn\u001b[39;00m __ret\n",
      "File \u001b[1;32m~\\AppData\\Local\\Programs\\Python\\Python310\\lib\\site-packages\\matplotlib\\__init__.py:1459\u001b[0m, in \u001b[0;36m_preprocess_data.<locals>.inner\u001b[1;34m(ax, data, *args, **kwargs)\u001b[0m\n\u001b[0;32m   1456\u001b[0m \u001b[38;5;129m@functools\u001b[39m\u001b[38;5;241m.\u001b[39mwraps(func)\n\u001b[0;32m   1457\u001b[0m \u001b[38;5;28;01mdef\u001b[39;00m \u001b[38;5;21minner\u001b[39m(ax, \u001b[38;5;241m*\u001b[39margs, data\u001b[38;5;241m=\u001b[39m\u001b[38;5;28;01mNone\u001b[39;00m, \u001b[38;5;241m*\u001b[39m\u001b[38;5;241m*\u001b[39mkwargs):\n\u001b[0;32m   1458\u001b[0m     \u001b[38;5;28;01mif\u001b[39;00m data \u001b[38;5;129;01mis\u001b[39;00m \u001b[38;5;28;01mNone\u001b[39;00m:\n\u001b[1;32m-> 1459\u001b[0m         \u001b[38;5;28;01mreturn\u001b[39;00m func(ax, \u001b[38;5;241m*\u001b[39m\u001b[38;5;28mmap\u001b[39m(sanitize_sequence, args), \u001b[38;5;241m*\u001b[39m\u001b[38;5;241m*\u001b[39mkwargs)\n\u001b[0;32m   1461\u001b[0m     bound \u001b[38;5;241m=\u001b[39m new_sig\u001b[38;5;241m.\u001b[39mbind(ax, \u001b[38;5;241m*\u001b[39margs, \u001b[38;5;241m*\u001b[39m\u001b[38;5;241m*\u001b[39mkwargs)\n\u001b[0;32m   1462\u001b[0m     auto_label \u001b[38;5;241m=\u001b[39m (bound\u001b[38;5;241m.\u001b[39marguments\u001b[38;5;241m.\u001b[39mget(label_namer)\n\u001b[0;32m   1463\u001b[0m                   \u001b[38;5;129;01mor\u001b[39;00m bound\u001b[38;5;241m.\u001b[39mkwargs\u001b[38;5;241m.\u001b[39mget(label_namer))\n",
      "File \u001b[1;32m~\\AppData\\Local\\Programs\\Python\\Python310\\lib\\site-packages\\matplotlib\\axes\\_axes.py:4578\u001b[0m, in \u001b[0;36mAxes.scatter\u001b[1;34m(self, x, y, s, c, marker, cmap, norm, vmin, vmax, alpha, linewidths, edgecolors, plotnonfinite, **kwargs)\u001b[0m\n\u001b[0;32m   4468\u001b[0m \u001b[38;5;250m\u001b[39m\u001b[38;5;124;03m\"\"\"\u001b[39;00m\n\u001b[0;32m   4469\u001b[0m \u001b[38;5;124;03mA scatter plot of *y* vs. *x* with varying marker size and/or color.\u001b[39;00m\n\u001b[0;32m   4470\u001b[0m \n\u001b[1;32m   (...)\u001b[0m\n\u001b[0;32m   4575\u001b[0m \n\u001b[0;32m   4576\u001b[0m \u001b[38;5;124;03m\"\"\"\u001b[39;00m\n\u001b[0;32m   4577\u001b[0m \u001b[38;5;66;03m# Process **kwargs to handle aliases, conflicts with explicit kwargs:\u001b[39;00m\n\u001b[1;32m-> 4578\u001b[0m x, y \u001b[38;5;241m=\u001b[39m \u001b[38;5;28;43mself\u001b[39;49m\u001b[38;5;241;43m.\u001b[39;49m\u001b[43m_process_unit_info\u001b[49m\u001b[43m(\u001b[49m\u001b[43m[\u001b[49m\u001b[43m(\u001b[49m\u001b[38;5;124;43m\"\u001b[39;49m\u001b[38;5;124;43mx\u001b[39;49m\u001b[38;5;124;43m\"\u001b[39;49m\u001b[43m,\u001b[49m\u001b[43m \u001b[49m\u001b[43mx\u001b[49m\u001b[43m)\u001b[49m\u001b[43m,\u001b[49m\u001b[43m \u001b[49m\u001b[43m(\u001b[49m\u001b[38;5;124;43m\"\u001b[39;49m\u001b[38;5;124;43my\u001b[39;49m\u001b[38;5;124;43m\"\u001b[39;49m\u001b[43m,\u001b[49m\u001b[43m \u001b[49m\u001b[43my\u001b[49m\u001b[43m)\u001b[49m\u001b[43m]\u001b[49m\u001b[43m,\u001b[49m\u001b[43m \u001b[49m\u001b[43mkwargs\u001b[49m\u001b[43m)\u001b[49m\n\u001b[0;32m   4579\u001b[0m \u001b[38;5;66;03m# np.ma.ravel yields an ndarray, not a masked array,\u001b[39;00m\n\u001b[0;32m   4580\u001b[0m \u001b[38;5;66;03m# unless its argument is a masked array.\u001b[39;00m\n\u001b[0;32m   4581\u001b[0m x \u001b[38;5;241m=\u001b[39m np\u001b[38;5;241m.\u001b[39mma\u001b[38;5;241m.\u001b[39mravel(x)\n",
      "File \u001b[1;32m~\\AppData\\Local\\Programs\\Python\\Python310\\lib\\site-packages\\matplotlib\\axes\\_base.py:2549\u001b[0m, in \u001b[0;36m_AxesBase._process_unit_info\u001b[1;34m(self, datasets, kwargs, convert)\u001b[0m\n\u001b[0;32m   2547\u001b[0m     \u001b[38;5;66;03m# Update from data if axis is already set but no unit is set yet.\u001b[39;00m\n\u001b[0;32m   2548\u001b[0m     \u001b[38;5;28;01mif\u001b[39;00m axis \u001b[38;5;129;01mis\u001b[39;00m \u001b[38;5;129;01mnot\u001b[39;00m \u001b[38;5;28;01mNone\u001b[39;00m \u001b[38;5;129;01mand\u001b[39;00m data \u001b[38;5;129;01mis\u001b[39;00m \u001b[38;5;129;01mnot\u001b[39;00m \u001b[38;5;28;01mNone\u001b[39;00m \u001b[38;5;129;01mand\u001b[39;00m \u001b[38;5;129;01mnot\u001b[39;00m axis\u001b[38;5;241m.\u001b[39mhave_units():\n\u001b[1;32m-> 2549\u001b[0m         \u001b[43maxis\u001b[49m\u001b[38;5;241;43m.\u001b[39;49m\u001b[43mupdate_units\u001b[49m\u001b[43m(\u001b[49m\u001b[43mdata\u001b[49m\u001b[43m)\u001b[49m\n\u001b[0;32m   2550\u001b[0m \u001b[38;5;28;01mfor\u001b[39;00m axis_name, axis \u001b[38;5;129;01min\u001b[39;00m axis_map\u001b[38;5;241m.\u001b[39mitems():\n\u001b[0;32m   2551\u001b[0m     \u001b[38;5;66;03m# Return if no axis is set.\u001b[39;00m\n\u001b[0;32m   2552\u001b[0m     \u001b[38;5;28;01mif\u001b[39;00m axis \u001b[38;5;129;01mis\u001b[39;00m \u001b[38;5;28;01mNone\u001b[39;00m:\n",
      "File \u001b[1;32m~\\AppData\\Local\\Programs\\Python\\Python310\\lib\\site-packages\\matplotlib\\axis.py:1675\u001b[0m, in \u001b[0;36mAxis.update_units\u001b[1;34m(self, data)\u001b[0m\n\u001b[0;32m   1673\u001b[0m neednew \u001b[38;5;241m=\u001b[39m \u001b[38;5;28mself\u001b[39m\u001b[38;5;241m.\u001b[39mconverter \u001b[38;5;241m!=\u001b[39m converter\n\u001b[0;32m   1674\u001b[0m \u001b[38;5;28mself\u001b[39m\u001b[38;5;241m.\u001b[39mconverter \u001b[38;5;241m=\u001b[39m converter\n\u001b[1;32m-> 1675\u001b[0m default \u001b[38;5;241m=\u001b[39m \u001b[38;5;28;43mself\u001b[39;49m\u001b[38;5;241;43m.\u001b[39;49m\u001b[43mconverter\u001b[49m\u001b[38;5;241;43m.\u001b[39;49m\u001b[43mdefault_units\u001b[49m\u001b[43m(\u001b[49m\u001b[43mdata\u001b[49m\u001b[43m,\u001b[49m\u001b[43m \u001b[49m\u001b[38;5;28;43mself\u001b[39;49m\u001b[43m)\u001b[49m\n\u001b[0;32m   1676\u001b[0m \u001b[38;5;28;01mif\u001b[39;00m default \u001b[38;5;129;01mis\u001b[39;00m \u001b[38;5;129;01mnot\u001b[39;00m \u001b[38;5;28;01mNone\u001b[39;00m \u001b[38;5;129;01mand\u001b[39;00m \u001b[38;5;28mself\u001b[39m\u001b[38;5;241m.\u001b[39munits \u001b[38;5;129;01mis\u001b[39;00m \u001b[38;5;28;01mNone\u001b[39;00m:\n\u001b[0;32m   1677\u001b[0m     \u001b[38;5;28mself\u001b[39m\u001b[38;5;241m.\u001b[39mset_units(default)\n",
      "File \u001b[1;32m~\\AppData\\Local\\Programs\\Python\\Python310\\lib\\site-packages\\matplotlib\\category.py:105\u001b[0m, in \u001b[0;36mStrCategoryConverter.default_units\u001b[1;34m(data, axis)\u001b[0m\n\u001b[0;32m    103\u001b[0m \u001b[38;5;66;03m# the conversion call stack is default_units -> axis_info -> convert\u001b[39;00m\n\u001b[0;32m    104\u001b[0m \u001b[38;5;28;01mif\u001b[39;00m axis\u001b[38;5;241m.\u001b[39munits \u001b[38;5;129;01mis\u001b[39;00m \u001b[38;5;28;01mNone\u001b[39;00m:\n\u001b[1;32m--> 105\u001b[0m     axis\u001b[38;5;241m.\u001b[39mset_units(\u001b[43mUnitData\u001b[49m\u001b[43m(\u001b[49m\u001b[43mdata\u001b[49m\u001b[43m)\u001b[49m)\n\u001b[0;32m    106\u001b[0m \u001b[38;5;28;01melse\u001b[39;00m:\n\u001b[0;32m    107\u001b[0m     axis\u001b[38;5;241m.\u001b[39munits\u001b[38;5;241m.\u001b[39mupdate(data)\n",
      "File \u001b[1;32m~\\AppData\\Local\\Programs\\Python\\Python310\\lib\\site-packages\\matplotlib\\category.py:181\u001b[0m, in \u001b[0;36mUnitData.__init__\u001b[1;34m(self, data)\u001b[0m\n\u001b[0;32m    179\u001b[0m \u001b[38;5;28mself\u001b[39m\u001b[38;5;241m.\u001b[39m_counter \u001b[38;5;241m=\u001b[39m itertools\u001b[38;5;241m.\u001b[39mcount()\n\u001b[0;32m    180\u001b[0m \u001b[38;5;28;01mif\u001b[39;00m data \u001b[38;5;129;01mis\u001b[39;00m \u001b[38;5;129;01mnot\u001b[39;00m \u001b[38;5;28;01mNone\u001b[39;00m:\n\u001b[1;32m--> 181\u001b[0m     \u001b[38;5;28;43mself\u001b[39;49m\u001b[38;5;241;43m.\u001b[39;49m\u001b[43mupdate\u001b[49m\u001b[43m(\u001b[49m\u001b[43mdata\u001b[49m\u001b[43m)\u001b[49m\n",
      "File \u001b[1;32m~\\AppData\\Local\\Programs\\Python\\Python310\\lib\\site-packages\\matplotlib\\category.py:214\u001b[0m, in \u001b[0;36mUnitData.update\u001b[1;34m(self, data)\u001b[0m\n\u001b[0;32m    212\u001b[0m \u001b[38;5;66;03m# check if convertible to number:\u001b[39;00m\n\u001b[0;32m    213\u001b[0m convertible \u001b[38;5;241m=\u001b[39m \u001b[38;5;28;01mTrue\u001b[39;00m\n\u001b[1;32m--> 214\u001b[0m \u001b[38;5;28;01mfor\u001b[39;00m val \u001b[38;5;129;01min\u001b[39;00m \u001b[43mOrderedDict\u001b[49m\u001b[38;5;241;43m.\u001b[39;49m\u001b[43mfromkeys\u001b[49m\u001b[43m(\u001b[49m\u001b[43mdata\u001b[49m\u001b[43m)\u001b[49m:\n\u001b[0;32m    215\u001b[0m     \u001b[38;5;66;03m# OrderedDict just iterates over unique values in data.\u001b[39;00m\n\u001b[0;32m    216\u001b[0m     _api\u001b[38;5;241m.\u001b[39mcheck_isinstance((\u001b[38;5;28mstr\u001b[39m, \u001b[38;5;28mbytes\u001b[39m), value\u001b[38;5;241m=\u001b[39mval)\n\u001b[0;32m    217\u001b[0m     \u001b[38;5;28;01mif\u001b[39;00m convertible:\n\u001b[0;32m    218\u001b[0m         \u001b[38;5;66;03m# this will only be called so long as convertible is True.\u001b[39;00m\n",
      "\u001b[1;31mTypeError\u001b[0m: unhashable type: 'numpy.ndarray'"
     ]
    },
    {
     "data": {
      "image/png": "[encoded data removed]",
      "text/plain": [
       "<Figure size 640x480 with 1 Axes>"
      ]
     },
     "metadata": {},
     "output_type": "display_data"
    }
   ],
   "source": [
    "# Plotar os resultados\n",
    "plt.scatter(X_train, y_train, color='blue', label='Dados de Treinamento')\n",
    "plt.scatter(X_test, y_test, color='green', label='Dados de Teste')\n",
    "plt.plot(X_test, y_pred, color='red', linewidth=2, label='Regressão Linear')\n",
    "plt.xlabel('X')\n",
    "plt.ylabel('y')\n",
    "plt.legend()\n",
    "plt.title('Regressão Linear usando Pipeline')\n",
    "plt.show()"
   ]
  },
  {
   "cell_type": "code",
   "execution_count": null,
   "id": "ad8e6c5e",
   "metadata": {},
   "outputs": [],
   "source": []
  }
 ],
 "metadata": {
  "kernelspec": {
   "display_name": "Python 3 (ipykernel)",
   "language": "python",
   "name": "python3"
  },
  "language_info": {
   "codemirror_mode": {
    "name": "ipython",
    "version": 3
   },
   "file_extension": ".py",
   "mimetype": "text/x-python",
   "name": "python",
   "nbconvert_exporter": "python",
   "pygments_lexer": "ipython3",
   "version": "3.10.10"
  }
 },
 "nbformat": 4,
 "nbformat_minor": 5
}
