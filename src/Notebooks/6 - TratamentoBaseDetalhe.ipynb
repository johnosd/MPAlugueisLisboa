{
 "cells": [
  {
   "cell_type": "code",
   "execution_count": 7,
   "metadata": {},
   "outputs": [],
   "source": [
    "import os\n",
    "import pandas as pd"
   ]
  },
  {
   "cell_type": "code",
   "execution_count": 8,
   "metadata": {},
   "outputs": [
    {
     "data": {
      "text/plain": [
       "'G:\\\\Users\\\\johns\\\\Desktop\\\\TCC\\\\MPAlugueisLisboa\\\\Bases\\\\Bases\\\\Imoveis\\\\Detalhes'"
      ]
     },
     "execution_count": 8,
     "metadata": {},
     "output_type": "execute_result"
    }
   ],
   "source": [
    "#identifica o caminho relativo da pasta de bases\n",
    "base_dir = '..\\\\..\\\\Bases\\\\Imoveis\\\\Detalhes\\\\'\n",
    "os.chdir(base_dir)\n",
    "os.getcwd()"
   ]
  },
  {
   "cell_type": "code",
   "execution_count": 9,
   "metadata": {},
   "outputs": [],
   "source": [
    "file_name = \"{}{}\".format('BaseDetalhesImovel',\".csv\")\n",
    "df_Detalhe = pd.read_csv(file_name,sep=';', encoding='utf-8')\n",
    "\n"
   ]
  },
  {
   "cell_type": "code",
   "execution_count": 11,
   "metadata": {},
   "outputs": [
    {
     "name": "stdout",
     "output_type": "stream",
     "text": [
      "<class 'pandas.core.frame.DataFrame'>\n",
      "RangeIndex: 7871 entries, 0 to 7870\n",
      "Data columns (total 40 columns):\n",
      " #   Column                              Non-Null Count  Dtype  \n",
      "---  ------                              --------------  -----  \n",
      " 0   IdImovel                            7871 non-null   int64  \n",
      " 1   Caracteristicas                     7871 non-null   object \n",
      " 2   Comentario                          7562 non-null   object \n",
      " 3   Detalhes                            7871 non-null   object \n",
      " 4   Endereco                            7871 non-null   object \n",
      " 5   Latitude                            7871 non-null   float64\n",
      " 6   Longitude                           7871 non-null   float64\n",
      " 7   ad_builtType                        7862 non-null   float64\n",
      " 8   ad_characteristics_bathNumber       7870 non-null   float64\n",
      " 9   ad_characteristics_constructedArea  7870 non-null   float64\n",
      " 10  ad_characteristics_hasGarden        3163 non-null   float64\n",
      " 11  ad_characteristics_hasLift          5467 non-null   float64\n",
      " 12  ad_characteristics_hasParking       4035 non-null   float64\n",
      " 13  ad_characteristics_hasSwimmingPool  2951 non-null   float64\n",
      " 14  ad_characteristics_hasTerrace       3192 non-null   float64\n",
      " 15  ad_characteristics_roomNumber       7870 non-null   float64\n",
      " 16  ad_condition_isGoodCondition        7870 non-null   float64\n",
      " 17  ad_condition_isNeedsRenovating      7870 non-null   float64\n",
      " 18  ad_condition_isNewDevelopment       7870 non-null   float64\n",
      " 19  ad_energyCertification_suffix       4057 non-null   object \n",
      " 20  ad_energyCertification_type         7870 non-null   object \n",
      " 21  ad_hasRecommended                   7870 non-null   float64\n",
      " 22  ad_id                               7870 non-null   float64\n",
      " 23  ad_isAuction                        7870 non-null   float64\n",
      " 24  ad_isRecommended                    7870 non-null   float64\n",
      " 25  ad_media_has3Dtour                  7870 non-null   float64\n",
      " 26  ad_media_hasFloorPlan               7870 non-null   float64\n",
      " 27  ad_media_photoNumber                7870 non-null   float64\n",
      " 28  ad_media_videoNumber                7870 non-null   float64\n",
      " 29  ad_numberRecommended                1775 non-null   object \n",
      " 30  ad_operation                        7870 non-null   float64\n",
      " 31  ad_origin                           7870 non-null   float64\n",
      " 32  ad_originTypeRecommended            1 non-null      float64\n",
      " 33  ad_owner_commercialId               0 non-null      float64\n",
      " 34  ad_owner_commercialName             5614 non-null   object \n",
      " 35  ad_owner_contactPreference          7870 non-null   float64\n",
      " 36  ad_owner_type                       7870 non-null   float64\n",
      " 37  ad_price                            7870 non-null   float64\n",
      " 38  ad_recommendationId                 1 non-null      object \n",
      " 39  ad_typology                         7870 non-null   float64\n",
      "dtypes: float64(30), int64(1), object(9)\n",
      "memory usage: 2.4+ MB\n"
     ]
    }
   ],
   "source": [
    "df_Detalhe.info()"
   ]
  },
  {
   "cell_type": "code",
   "execution_count": 10,
   "metadata": {},
   "outputs": [
    {
     "data": {
      "text/html": [
       "<div>\n",
       "<style scoped>\n",
       "    .dataframe tbody tr th:only-of-type {\n",
       "        vertical-align: middle;\n",
       "    }\n",
       "\n",
       "    .dataframe tbody tr th {\n",
       "        vertical-align: top;\n",
       "    }\n",
       "\n",
       "    .dataframe thead th {\n",
       "        text-align: right;\n",
       "    }\n",
       "</style>\n",
       "<table border=\"1\" class=\"dataframe\">\n",
       "  <thead>\n",
       "    <tr style=\"text-align: right;\">\n",
       "      <th></th>\n",
       "      <th>IdImovel</th>\n",
       "      <th>Caracteristicas</th>\n",
       "      <th>Comentario</th>\n",
       "      <th>Detalhes</th>\n",
       "      <th>Endereco</th>\n",
       "      <th>Latitude</th>\n",
       "      <th>Longitude</th>\n",
       "      <th>ad_builtType</th>\n",
       "      <th>ad_characteristics_bathNumber</th>\n",
       "      <th>ad_characteristics_constructedArea</th>\n",
       "      <th>...</th>\n",
       "      <th>ad_operation</th>\n",
       "      <th>ad_origin</th>\n",
       "      <th>ad_originTypeRecommended</th>\n",
       "      <th>ad_owner_commercialId</th>\n",
       "      <th>ad_owner_commercialName</th>\n",
       "      <th>ad_owner_contactPreference</th>\n",
       "      <th>ad_owner_type</th>\n",
       "      <th>ad_price</th>\n",
       "      <th>ad_recommendationId</th>\n",
       "      <th>ad_typology</th>\n",
       "    </tr>\n",
       "  </thead>\n",
       "  <tbody>\n",
       "    <tr>\n",
       "      <th>0</th>\n",
       "      <td>31627595</td>\n",
       "      <td>104\\r\\nm² construídos,104,T2,2º andar</td>\n",
       "      <td>Proc. º 18195. Livre início Fev/2022 (possibil...</td>\n",
       "      <td>104 m² construídos, 90 m² úteis,T2,2 casas de ...</td>\n",
       "      <td>Matosinhos Sul - Marginal Matosinhos e Leça d...</td>\n",
       "      <td>41.181564</td>\n",
       "      <td>-8.695406</td>\n",
       "      <td>3.0</td>\n",
       "      <td>2.0</td>\n",
       "      <td>104.0</td>\n",
       "      <td>...</td>\n",
       "      <td>2.0</td>\n",
       "      <td>4.0</td>\n",
       "      <td>NaN</td>\n",
       "      <td>NaN</td>\n",
       "      <td>habitalia</td>\n",
       "      <td>1.0</td>\n",
       "      <td>2.0</td>\n",
       "      <td>1345.0</td>\n",
       "      <td>NaN</td>\n",
       "      <td>1.0</td>\n",
       "    </tr>\n",
       "    <tr>\n",
       "      <th>1</th>\n",
       "      <td>30081922</td>\n",
       "      <td>150\\r\\nm² construídos,150,T3,Garagem incluída</td>\n",
       "      <td>Fantástica moradia T3 em Vilar do Paraíso (á Q...</td>\n",
       "      <td>Moradia em banda,150 m² construídos,T3,3 casas...</td>\n",
       "      <td>Praceta Gago Coutinho Vilar do Paraíso - Junqu...</td>\n",
       "      <td>41.105581</td>\n",
       "      <td>-8.615797</td>\n",
       "      <td>3.0</td>\n",
       "      <td>3.0</td>\n",
       "      <td>150.0</td>\n",
       "      <td>...</td>\n",
       "      <td>2.0</td>\n",
       "      <td>2.0</td>\n",
       "      <td>NaN</td>\n",
       "      <td>NaN</td>\n",
       "      <td>NaN</td>\n",
       "      <td>1.0</td>\n",
       "      <td>1.0</td>\n",
       "      <td>1200.0</td>\n",
       "      <td>NaN</td>\n",
       "      <td>2.0</td>\n",
       "    </tr>\n",
       "    <tr>\n",
       "      <th>2</th>\n",
       "      <td>31627911</td>\n",
       "      <td>420\\r\\nm² construídos,420,T4</td>\n",
       "      <td>Moradia T4 com Terraço Vistas Rio Douro, Valbo...</td>\n",
       "      <td>Casa ou moradia,420 m² construídos,T4,4 casas ...</td>\n",
       "      <td>Valbom São Cosme - Valbom - Jovim Gondomar, P...</td>\n",
       "      <td>41.129589</td>\n",
       "      <td>-8.560468</td>\n",
       "      <td>3.0</td>\n",
       "      <td>4.0</td>\n",
       "      <td>420.0</td>\n",
       "      <td>...</td>\n",
       "      <td>2.0</td>\n",
       "      <td>4.0</td>\n",
       "      <td>NaN</td>\n",
       "      <td>NaN</td>\n",
       "      <td>jose-santos-cruz</td>\n",
       "      <td>1.0</td>\n",
       "      <td>2.0</td>\n",
       "      <td>1990.0</td>\n",
       "      <td>NaN</td>\n",
       "      <td>2.0</td>\n",
       "    </tr>\n",
       "  </tbody>\n",
       "</table>\n",
       "<p>3 rows × 40 columns</p>\n",
       "</div>"
      ],
      "text/plain": [
       "   IdImovel                                Caracteristicas  \\\n",
       "0  31627595          104\\r\\nm² construídos,104,T2,2º andar   \n",
       "1  30081922  150\\r\\nm² construídos,150,T3,Garagem incluída   \n",
       "2  31627911                   420\\r\\nm² construídos,420,T4   \n",
       "\n",
       "                                          Comentario  \\\n",
       "0  Proc. º 18195. Livre início Fev/2022 (possibil...   \n",
       "1  Fantástica moradia T3 em Vilar do Paraíso (á Q...   \n",
       "2  Moradia T4 com Terraço Vistas Rio Douro, Valbo...   \n",
       "\n",
       "                                            Detalhes  \\\n",
       "0  104 m² construídos, 90 m² úteis,T2,2 casas de ...   \n",
       "1  Moradia em banda,150 m² construídos,T3,3 casas...   \n",
       "2  Casa ou moradia,420 m² construídos,T4,4 casas ...   \n",
       "\n",
       "                                            Endereco   Latitude  Longitude  \\\n",
       "0   Matosinhos Sul - Marginal Matosinhos e Leça d...  41.181564  -8.695406   \n",
       "1  Praceta Gago Coutinho Vilar do Paraíso - Junqu...  41.105581  -8.615797   \n",
       "2   Valbom São Cosme - Valbom - Jovim Gondomar, P...  41.129589  -8.560468   \n",
       "\n",
       "   ad_builtType  ad_characteristics_bathNumber  \\\n",
       "0           3.0                            2.0   \n",
       "1           3.0                            3.0   \n",
       "2           3.0                            4.0   \n",
       "\n",
       "   ad_characteristics_constructedArea  ...  ad_operation  ad_origin  \\\n",
       "0                               104.0  ...           2.0        4.0   \n",
       "1                               150.0  ...           2.0        2.0   \n",
       "2                               420.0  ...           2.0        4.0   \n",
       "\n",
       "   ad_originTypeRecommended  ad_owner_commercialId  ad_owner_commercialName  \\\n",
       "0                       NaN                    NaN                habitalia   \n",
       "1                       NaN                    NaN                      NaN   \n",
       "2                       NaN                    NaN         jose-santos-cruz   \n",
       "\n",
       "   ad_owner_contactPreference  ad_owner_type  ad_price  ad_recommendationId  \\\n",
       "0                         1.0            2.0    1345.0                  NaN   \n",
       "1                         1.0            1.0    1200.0                  NaN   \n",
       "2                         1.0            2.0    1990.0                  NaN   \n",
       "\n",
       "  ad_typology  \n",
       "0         1.0  \n",
       "1         2.0  \n",
       "2         2.0  \n",
       "\n",
       "[3 rows x 40 columns]"
      ]
     },
     "execution_count": 10,
     "metadata": {},
     "output_type": "execute_result"
    }
   ],
   "source": [
    "df_Detalhe.head(3)"
   ]
  },
  {
   "cell_type": "code",
   "execution_count": null,
   "metadata": {},
   "outputs": [],
   "source": [
    "print(df_Detalhe.isnull().sum())"
   ]
  },
  {
   "cell_type": "code",
   "execution_count": null,
   "metadata": {},
   "outputs": [],
   "source": [
    "lst_Det = df_Detalhe.Detalhes[0].split(\",\")"
   ]
  },
  {
   "cell_type": "code",
   "execution_count": null,
   "metadata": {},
   "outputs": [],
   "source": [
    "for x in range(0,10):\n",
    "    lst_Det = df_Detalhe.Detalhes[x].split(\",\")\n",
    "    print(lst_Det)"
   ]
  },
  {
   "cell_type": "code",
   "execution_count": null,
   "metadata": {},
   "outputs": [],
   "source": [
    "list_find =['construídos','úteis','banho','Certificação energética','andar']\n",
    "x={}\n",
    "\n",
    "for fd in list_find:\n",
    "    for dt in lst_Det:\n",
    "        if fd in dt:\n",
    "            x[fd]=dt\n",
    "print(x)"
   ]
  }
 ],
 "metadata": {
  "kernelspec": {
   "display_name": "Python 3 (ipykernel)",
   "language": "python",
   "name": "python3"
  },
  "language_info": {
   "codemirror_mode": {
    "name": "ipython",
    "version": 3
   },
   "file_extension": ".py",
   "mimetype": "text/x-python",
   "name": "python",
   "nbconvert_exporter": "python",
   "pygments_lexer": "ipython3",
   "version": "3.10.10"
  }
 },
 "nbformat": 4,
 "nbformat_minor": 4
}
