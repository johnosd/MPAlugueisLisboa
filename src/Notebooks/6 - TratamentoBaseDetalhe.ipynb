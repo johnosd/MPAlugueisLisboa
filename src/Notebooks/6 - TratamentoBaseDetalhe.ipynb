{
 "cells": [
  {
   "cell_type": "code",
   "execution_count": null,
   "metadata": {},
   "outputs": [],
   "source": []
  },
  {
   "cell_type": "code",
   "execution_count": null,
   "metadata": {},
   "outputs": [],
   "source": []
  },
  {
   "cell_type": "code",
   "execution_count": null,
   "metadata": {},
   "outputs": [],
   "source": [
    "dir = 'C:\\\\Users\\\\HP ProBook 640\\\\Desktop\\\\TCC\\\\Notebooks\\\\Bases\\\\Imoveis\\\\Detalhes\\\\'\n",
    "file_name = \"{}{}{}\".format(dir,'BaseDetalhesImovel',\".csv\")\n",
    "df_Detalhe = pd.read_csv(file_name,sep=';')\n"
   ]
  },
  {
   "cell_type": "code",
   "execution_count": null,
   "metadata": {},
   "outputs": [],
   "source": [
    "df_Detalhe.head(3)"
   ]
  },
  {
   "cell_type": "code",
   "execution_count": null,
   "metadata": {},
   "outputs": [],
   "source": [
    "print(df_Detalhe.isnull().sum())"
   ]
  },
  {
   "cell_type": "code",
   "execution_count": null,
   "metadata": {},
   "outputs": [],
   "source": [
    "lst_Det = df_Detalhe.Detalhes[0].split(\",\")"
   ]
  },
  {
   "cell_type": "code",
   "execution_count": null,
   "metadata": {},
   "outputs": [],
   "source": [
    "for x in range(0,10):\n",
    "    lst_Det = df_Detalhe.Detalhes[x].split(\",\")\n",
    "    print(lst_Det)"
   ]
  },
  {
   "cell_type": "code",
   "execution_count": null,
   "metadata": {},
   "outputs": [],
   "source": [
    "list_find =['construídos','úteis','banho','Certificação energética','andar']\n",
    "x={}\n",
    "\n",
    "for fd in list_find:\n",
    "    for dt in lst_Det:\n",
    "        if fd in dt:\n",
    "            x[fd]=dt\n",
    "print(x)"
   ]
  }
 ],
 "metadata": {
  "kernelspec": {
   "display_name": "Python 3 (ipykernel)",
   "language": "python",
   "name": "python3"
  },
  "language_info": {
   "codemirror_mode": {
    "name": "ipython",
    "version": 3
   },
   "file_extension": ".py",
   "mimetype": "text/x-python",
   "name": "python",
   "nbconvert_exporter": "python",
   "pygments_lexer": "ipython3",
   "version": "3.9.7"
  }
 },
 "nbformat": 4,
 "nbformat_minor": 4
}
