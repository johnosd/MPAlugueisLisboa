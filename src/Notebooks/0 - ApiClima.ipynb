{
 "cells": [
  {
   "cell_type": "code",
   "execution_count": null,
   "metadata": {},
   "outputs": [],
   "source": [
    "# Historical Weather Forecast data in CS\n",
    "# https://www.worldweatheronline.com/developer/api/"
   ]
  },
  {
   "cell_type": "code",
   "execution_count": 1,
   "metadata": {},
   "outputs": [
    {
     "name": "stderr",
     "output_type": "stream",
     "text": [
      "ERROR: Invalid requirement: 'wwo-hist\\\\n'\n",
      "Hint: It looks like a path. File 'wwo-hist\\n' does not exist.\n",
      "WARNING: You are using pip version 21.3.1; however, version 22.0.2 is available.\n",
      "You should consider upgrading via the 'C:\\Users\\HP ProBook 640\\anaconda3\\python.exe -m pip install --upgrade pip' command.\n"
     ]
    },
    {
     "name": "stdout",
     "output_type": "stream",
     "text": [
      "Requirement already satisfied: unidecode in c:\\users\\hp probook 640\\anaconda3\\lib\\site-packages (1.2.0)\n"
     ]
    },
    {
     "name": "stderr",
     "output_type": "stream",
     "text": [
      "WARNING: You are using pip version 21.3.1; however, version 22.0.2 is available.\n",
      "You should consider upgrading via the 'C:\\Users\\HP ProBook 640\\anaconda3\\python.exe -m pip install --upgrade pip' command.\n"
     ]
    }
   ],
   "source": [
    "!pip install wwo-hist\\n\n",
    "!pip install unidecode"
   ]
  },
  {
   "cell_type": "code",
   "execution_count": 11,
   "metadata": {},
   "outputs": [],
   "source": [
    "from wwo_hist import retrieve_hist_data\n",
    "import os\n",
    "import unidecode\n",
    "import time\n",
    "import csv"
   ]
  },
  {
   "cell_type": "code",
   "execution_count": 14,
   "metadata": {},
   "outputs": [
    {
     "name": "stdout",
     "output_type": "stream",
     "text": [
      "\n",
      "\n",
      "Retrieving weather data for Portugal,+beja\n",
      "\n",
      "\n",
      "Currently retrieving data for Portugal,+beja: from 2021-01-01 to 2021-01-31\n",
      "Time elapsed (hh:mm:ss.ms) 0:00:02.304993\n",
      "Currently retrieving data for Portugal,+beja: from 2021-02-01 to 2021-02-28\n",
      "Time elapsed (hh:mm:ss.ms) 0:00:04.672995\n",
      "Currently retrieving data for Portugal,+beja: from 2021-03-01 to 2021-03-31\n",
      "Time elapsed (hh:mm:ss.ms) 0:00:07.213995\n",
      "Currently retrieving data for Portugal,+beja: from 2021-04-01 to 2021-04-30\n",
      "Time elapsed (hh:mm:ss.ms) 0:00:09.595995\n",
      "Currently retrieving data for Portugal,+beja: from 2021-05-01 to 2021-05-31\n",
      "Time elapsed (hh:mm:ss.ms) 0:00:12.178993\n",
      "Currently retrieving data for Portugal,+beja: from 2021-06-01 to 2021-06-30\n",
      "Time elapsed (hh:mm:ss.ms) 0:00:14.932996\n",
      "Currently retrieving data for Portugal,+beja: from 2021-07-01 to 2021-07-31\n",
      "Time elapsed (hh:mm:ss.ms) 0:00:17.273995\n",
      "Currently retrieving data for Portugal,+beja: from 2021-08-01 to 2021-08-31\n",
      "Time elapsed (hh:mm:ss.ms) 0:00:20.307996\n",
      "Currently retrieving data for Portugal,+beja: from 2021-09-01 to 2021-09-30\n",
      "Time elapsed (hh:mm:ss.ms) 0:00:23.015995\n",
      "Currently retrieving data for Portugal,+beja: from 2021-10-01 to 2021-10-31\n",
      "Time elapsed (hh:mm:ss.ms) 0:00:25.937999\n",
      "Currently retrieving data for Portugal,+beja: from 2021-11-01 to 2021-11-30\n",
      "Time elapsed (hh:mm:ss.ms) 0:00:32.227998\n",
      "Currently retrieving data for Portugal,+beja: from 2021-12-01 to 2021-12-30\n",
      "Time elapsed (hh:mm:ss.ms) 0:00:35.440651\n",
      "\n",
      "\n",
      "export Portugal,+beja completed!\n",
      "\n",
      "\n"
     ]
    }
   ],
   "source": [
    "#api_key = '0cc74ba973d54c188a8102425211111'\n",
    "api_key = '13147589b00f4ab6a7f00902220202'\n",
    "\n",
    "# Testing API\n",
    "hist_weather_data = retrieve_hist_data(api_key,\n",
    "                                    ['Portugal,+beja'],\n",
    "                                    start_date,\n",
    "                                    end_date,\n",
    "                                    frequency,\n",
    "                                    location_label = False,\n",
    "                                    export_csv = True,\n",
    "                                    store_df = True) "
   ]
  },
  {
   "cell_type": "code",
   "execution_count": null,
   "metadata": {},
   "outputs": [],
   "source": []
  },
  {
   "cell_type": "code",
   "execution_count": 15,
   "metadata": {},
   "outputs": [
    {
     "data": {
      "text/plain": [
       "'C:\\\\Users\\\\HP ProBook 640\\\\source\\\\repos\\\\TCC\\\\Bases\\\\ClimaPortugal'"
      ]
     },
     "execution_count": 15,
     "metadata": {},
     "output_type": "execute_result"
    }
   ],
   "source": [
    "#identifica o caminho relativo da pasta de bases\n",
    "#os.path.relpath('C:\\\\Users\\\\HP ProBook 640\\\\source\\\\repos\\\\TCC\\\\Bases\\\\ClimaPortugal', 'C:\\\\Users\\\\HP ProBook 640\\\\source\\\\repos\\\\TCC\\\\src\\\\Notebooks')\n",
    "base_dir = '..\\\\..\\\\Bases\\\\ClimaPortugal'\n",
    "os.chdir(base_dir)\n",
    "os.getcwd()"
   ]
  },
  {
   "cell_type": "code",
   "execution_count": 16,
   "metadata": {},
   "outputs": [],
   "source": [
    "# Tratar lista para pesquisa\n",
    "_list = ['Area+Metropolitana+do+Porto','Alto+Tamega','Tamega+e+Sousa','Douro','Terras+de+Tras-os-Montes','Oeste','Região+de+Aveiro','Região+de+Coimbra','Região+de+Leiria','Viseu+Dão+Lafões','Beira+Baixa','Medio+Tejo','Beiras+e+Serra+da+Estrela','Area+Metropolitana+de+Lisboa','Alentejo+Litoral','Baixo+Alentejo','Leziria+do+Tejo','Alto+Alentejo','Alentejo+Central','Algarve','Ilha+de+Santa+Maria','Ilha+de+São+Miguel','Ilha+Terceira','Ilha+Graciosa','Ilha+de+São+Jorge','Ilha+do+Pico','Ilha+do+Faial','Ilha+das+Flores','Ilha+do+Corvo','Ilha+da+Madeira','Ilha+de+Porto+Santo','Arcos+de+Valdevez','Caminha','Melgaço','Monção','Paredes+de+Coura','Ponte+da+Barca','Ponte+de+Lima','Valença','Viana+do+Castelo','Vila+Nova+de+Cerveira','Amares','Barcelos','Braga','Esposende','Terras+de+Bouro','Vila+Verde','Cabeceiras+de+Basto','Fafe','Guimarães','Mondim+de+Basto','Povoa+de+Lanhoso','Vieira+do+Minho','Vila+Nova+de+Famalicão','Vizela','Arouca','Espinho','Gondomar','Maia','Matosinhos','Oliveira+de+Azemeis','Paredes','Porto','Povoa+de+Varzim','Santa+Maria+da+Feira','Santo+Tirso','São+João+da+Madeira','Trofa','Vale+de+Cambra','Valongo','Vila+do+Conde','Vila+Nova+de+Gaia','Boticas','Chaves','Montalegre','Ribeira+de+Pena','Valpaços','Vila+Pouca+de+Aguiar','Amarante','Baião','Castelo+de+Paiva','Celorico+de+Basto','Cinfães','Felgueiras','Lousada','Marco+de+Canaveses','Paços+de+Ferreira','Penafiel','Resende','Alijo','Armamar','Carrazeda+de+Ansiães','Freixo+de+Espada+à+Cinta','Lamego','Mesão+Frio','Moimenta+da+Beira','Murça','Penedono','Peso+da+Regua','Sabrosa','Santa+Marta+de+Penaguião','São+João+da+Pesqueira','Sernancelhe','Tabuaço','Tarouca','Torre+de+Moncorvo','Vila+Nova+de+Foz+Côa','Vila+Real','Alfândega+da+Fe','Bragança','Macedo+de+Cavaleiros','Miranda+do+Douro','Mirandela','Mogadouro','Vila+Flor','Vimioso','Vinhais','Alcobaça','Alenquer','Arruda+dos+Vinhos','Bombarral','Cadaval','Caldas+da+Rainha','Lourinhã','Nazare','Peniche','Sobral+de+Monte+Agraço','Torres+Vedras','Agueda','Albergaria-a-Velha','Anadia','Aveiro','Estarreja','Ilhavo','Murtosa','Oliveira+do+Bairro','Ovar','Sever+do+Vouga','Vagos','Arganil','Cantanhede','Coimbra','Condeixa-a-Nova','Figueira+da+Foz','Gois','Lousã','Mealhada','Mira','Miranda+do+Corvo','Montemor-o-Velho','Mortagua','Oliveira+do+Hospital','Pampilhosa+da+Serra','Penacova','Penela','Soure','Tabua','Vila+Nova+de+Poiares','Alvaiazere','Batalha','Castanheira+de+Pêra','Figueiro+dos+Vinhos','Leiria','Marinha+Grande','Pedrogão+Grande','Pombal','Porto+de+Mos','Aguiar+da+Beira','Carregal+do+Sal','Castro+Daire','Mangualde','Nelas','Oliveira+de+Frades','Penalva+do+Castelo','Santa+Comba+Dão','São+Pedro+do+Sul','Satão','Tondela','Vila+Nova+de+Paiva','Viseu','Vouzela','Castelo+Branco','Idanha-a-Nova','Oleiros','Penamacor','Proença-a-Nova','Vila+Velha+de+Rodão','Abrantes','Alcanena','Constância','Entroncamento','Ferreira+do+Zêzere','Mação','Ourem','Sardoal','Sertã','Tomar','Torres+Novas','Vila+de+Rei','Vila+Nova+da+Barquinha','Almeida','Belmonte','Celorico+da+Beira','Covilhã','Figueira+de+Castelo+Rodrigo','Fornos+de+Algodres','Fundão','Gouveia','Guarda','Manteigas','Mêda','Pinhel','Sabugal','Seia','Trancoso','Alcochete','Almada','Amadora','Barreiro','Cascais','Lisboa','Loures','Mafra','Moita','Montijo','Odivelas','Oeiras','Palmela','Seixal','Sesimbra','Setubal','Sintra','Vila+Franca+de+Xira','Alcacer+do+Sal','Grândola','Odemira','Santiago+do+Cacem','Sines','Aljustrel','Almodôvar','Alvito','Barrancos','Beja','Castro+Verde','Cuba','Ferreira+do+Alentejo','Mertola','Moura','Ourique','Serpa','Vidigueira','Almeirim','Alpiarça','Azambuja','Benavente','Cartaxo','Chamusca','Coruche','Golegã','Rio+Maior','Salvaterra+de+Magos','Santarem','Alter+do+Chão','Arronches','Avis','Campo+Maior','Castelo+de+Vide','Crato','Elvas','Fronteira','Gavião','Marvão','Monforte','Nisa','Ponte+de+Sor','Portalegre','Sousel','Alandroal','Arraiolos','Borba','Estremoz','Evora','Montemor-o-Novo','Mora','Mourão','Portel','Redondo','Reguengos+de+Monsaraz','Vendas+Novas','Viana+do+Alentejo','Vila+Viçosa','Albufeira','Alcoutim','Aljezur','Castro+Marim','Faro','Lagoa','Lagos','Loule','Monchique','Olhão','Portimão','São+Bras+de+Alportel','Silves','Tavira','Vila+do+Bispo','Vila+Real+de+Santo+Antonio','Vila+do+Porto','Lagoa+[R.A.A.]','Nordeste','Ponta+Delgada','Povoação','Ribeira+Grande','Vila+Franca+do+Campo','Angra+do+Heroismo','Vila+da+Praia+da+Vitoria','Santa+Cruz+da+Graciosa','Calheta+[R.A.A.]','Velas','Lajes+do+Pico','Madalena','São+Roque+do+Pico','Horta','Lajes+das+Flores','Santa+Cruz+das+Flores','Corvo','Calheta+[R.A.M.]','Câmara+de+Lobos','Funchal','Machico','Ponta+do+Sol','Porto+Moniz','Ribeira+Brava','Santa+Cruz','Santana','São+Vicente','Porto+Santo',\n",
    "]\n",
    "location_list = []\n",
    "for city in _list:\n",
    "    location_list.append('Portugal,+'+ unidecode.unidecode(city))\n",
    "    \n"
   ]
  },
  {
   "cell_type": "code",
   "execution_count": 17,
   "metadata": {},
   "outputs": [],
   "source": [
    "\n",
    "def write_to_csv(Even_list,fileName='done.csv'):\n",
    "     with open(fileName, 'a', newline='') as csvfile:\n",
    "         writer = csv.writer(csvfile)\n",
    "         writer.writerow([Even_list])\n",
    "            \n",
    "def exportaLista(lst,fileName='done.csv'):\n",
    "    with open(fileName,'w') as filehandle:\n",
    "        for listitem in lst:\n",
    "            filehandle.write('%s\\n' % listitem)\n",
    "\n",
    "def leArquivo(filePath):\n",
    "    lsttime = None\n",
    "    with open(filePath, encoding='utf-8', errors='ignore') as f:\n",
    "        lsttime = f.read().splitlines() \n",
    "        lsttime = list(dict.fromkeys(lsttime))\n",
    "    return lsttime\n",
    "        "
   ]
  },
  {
   "cell_type": "code",
   "execution_count": 20,
   "metadata": {},
   "outputs": [],
   "source": [
    "# EXECUTA API DE CLIMA\n",
    "\n",
    "frequency = 24 # define pesquida por 24 horas\n",
    "start_date = '2021-01-01'\n",
    "end_date = '2021-12-30'\n",
    "retries = 10\n",
    "fileDone='..\\\\Temporaria\\\\done.csv'\n",
    "resetDoneFile = False\n",
    "    \n",
    "    \n",
    "if (resetDoneFile and os.path.exists(fileDone)):\n",
    "    os.remove(fileDone)\n",
    "    \n",
    "if not os.path.exists(fileDone):\n",
    "    write_to_csv('',fileDone)\n",
    "\n",
    "lst_done =[]\n",
    "retry = retries\n",
    "retry_count = 0\n",
    "while retry_count <= retry:\n",
    "    for location in location_list:\n",
    "        lst_done = leArquivo(fileDone)\n",
    "\n",
    "        if location not in lst_done:\n",
    "            try:\n",
    "                print(location)\n",
    "                time.sleep(2)\n",
    "                hist_weather_data = retrieve_hist_data(api_key,\n",
    "                                    [location],\n",
    "                                    start_date,\n",
    "                                    end_date,\n",
    "                                    frequency,\n",
    "                                    location_label = False,\n",
    "                                    export_csv = True,\n",
    "                                    store_df = True)\n",
    "                lst_done.append(location)\n",
    "                exportaLista(lst_done,fileDone)\n",
    "            except:\n",
    "                exportaLista(lst_done,fileDone)\n",
    "                break\n",
    "    retry_count = retry_count +1 \n",
    "\n",
    "    \n",
    "        \n",
    "            "
   ]
  },
  {
   "cell_type": "code",
   "execution_count": null,
   "metadata": {},
   "outputs": [],
   "source": []
  }
 ],
 "metadata": {
  "kernelspec": {
   "display_name": "Python 3 (ipykernel)",
   "language": "python",
   "name": "python3"
  },
  "language_info": {
   "codemirror_mode": {
    "name": "ipython",
    "version": 3
   },
   "file_extension": ".py",
   "mimetype": "text/x-python",
   "name": "python",
   "nbconvert_exporter": "python",
   "pygments_lexer": "ipython3",
   "version": "3.9.7"
  }
 },
 "nbformat": 4,
 "nbformat_minor": 4
}
