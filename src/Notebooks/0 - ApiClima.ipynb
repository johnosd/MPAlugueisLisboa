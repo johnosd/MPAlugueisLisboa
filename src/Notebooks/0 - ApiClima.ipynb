{
 "cells": [
  {
   "cell_type": "code",
   "execution_count": null,
   "metadata": {},
   "outputs": [],
   "source": [
    "# Historical Weather Forecast data in CS\n",
    "# https://www.worldweatheronline.com/developer/api/"
   ]
  },
  {
   "cell_type": "code",
   "execution_count": 3,
   "metadata": {},
   "outputs": [
    {
     "name": "stdout",
     "output_type": "stream",
     "text": [
      "Collecting wwo-hist\n",
      "  Downloading wwo_hist-0.0.7-py3-none-any.whl (4.6 kB)\n",
      "Installing collected packages: wwo-hist\n",
      "Successfully installed wwo-hist-0.0.7\n",
      "Requirement already satisfied: unidecode in c:\\users\\johns\\appdata\\local\\programs\\python\\python310\\lib\\site-packages (1.3.6)\n"
     ]
    }
   ],
   "source": [
    "# !pip install wwo-hist\n",
    "# !pip install unidecode"
   ]
  },
  {
   "cell_type": "code",
   "execution_count": 2,
   "metadata": {},
   "outputs": [],
   "source": [
    "from wwo_hist import retrieve_hist_data\n",
    "import os\n",
    "import unidecode\n",
    "import time\n",
    "import csv"
   ]
  },
  {
   "cell_type": "code",
   "execution_count": null,
   "metadata": {},
   "outputs": [],
   "source": [
    "\n"
   ]
  },
  {
   "cell_type": "code",
   "execution_count": 3,
   "metadata": {},
   "outputs": [
    {
     "name": "stdout",
     "output_type": "stream",
     "text": [
      "\n",
      "\n",
      "Retrieving weather data for Portugal,+beja\n",
      "\n",
      "\n",
      "Currently retrieving data for Portugal,+beja: from 2022-01-01 to 2021-01-02\n"
     ]
    },
    {
     "name": "stderr",
     "output_type": "stream",
     "text": [
      "C:\\Users\\johns\\AppData\\Local\\Programs\\Python\\Python310\\lib\\site-packages\\wwo_hist\\__init__.py:69: FutureWarning: Argument `closed` is deprecated in favor of `inclusive`.\n",
      "  list_mon_begin = pd.date_range(start_date, end_date, freq='MS', closed='right')\n",
      "C:\\Users\\johns\\AppData\\Local\\Programs\\Python\\Python310\\lib\\site-packages\\wwo_hist\\__init__.py:74: FutureWarning: Argument `closed` is deprecated in favor of `inclusive`.\n",
      "  list_mon_end = pd.date_range(start_date, end_date, freq='M', closed='left')\n"
     ]
    },
    {
     "ename": "KeyError",
     "evalue": "'weather'",
     "output_type": "error",
     "traceback": [
      "\u001b[1;31m---------------------------------------------------------------------------\u001b[0m",
      "\u001b[1;31mKeyError\u001b[0m                                  Traceback (most recent call last)",
      "Cell \u001b[1;32mIn[3], line 8\u001b[0m\n\u001b[0;32m      5\u001b[0m frequency \u001b[38;5;241m=\u001b[39m \u001b[38;5;241m24\u001b[39m\n\u001b[0;32m      7\u001b[0m \u001b[38;5;66;03m# Testing API\u001b[39;00m\n\u001b[1;32m----> 8\u001b[0m hist_weather_data \u001b[38;5;241m=\u001b[39m \u001b[43mretrieve_hist_data\u001b[49m\u001b[43m(\u001b[49m\u001b[43mapi_key\u001b[49m\u001b[43m,\u001b[49m\n\u001b[0;32m      9\u001b[0m \u001b[43m                                    \u001b[49m\u001b[43m[\u001b[49m\u001b[38;5;124;43m'\u001b[39;49m\u001b[38;5;124;43mPortugal,+beja\u001b[39;49m\u001b[38;5;124;43m'\u001b[39;49m\u001b[43m]\u001b[49m\u001b[43m,\u001b[49m\n\u001b[0;32m     10\u001b[0m \u001b[43m                                    \u001b[49m\u001b[43mstart_date\u001b[49m\u001b[43m,\u001b[49m\n\u001b[0;32m     11\u001b[0m \u001b[43m                                    \u001b[49m\u001b[43mend_date\u001b[49m\u001b[43m,\u001b[49m\n\u001b[0;32m     12\u001b[0m \u001b[43m                                    \u001b[49m\u001b[43mfrequency\u001b[49m\u001b[43m,\u001b[49m\n\u001b[0;32m     13\u001b[0m \u001b[43m                                    \u001b[49m\u001b[43mlocation_label\u001b[49m\u001b[43m \u001b[49m\u001b[38;5;241;43m=\u001b[39;49m\u001b[43m \u001b[49m\u001b[38;5;28;43;01mFalse\u001b[39;49;00m\u001b[43m,\u001b[49m\n\u001b[0;32m     14\u001b[0m \u001b[43m                                    \u001b[49m\u001b[43mexport_csv\u001b[49m\u001b[43m \u001b[49m\u001b[38;5;241;43m=\u001b[39;49m\u001b[43m \u001b[49m\u001b[38;5;28;43;01mTrue\u001b[39;49;00m\u001b[43m,\u001b[49m\n\u001b[0;32m     15\u001b[0m \u001b[43m                                    \u001b[49m\u001b[43mstore_df\u001b[49m\u001b[43m \u001b[49m\u001b[38;5;241;43m=\u001b[39;49m\u001b[43m \u001b[49m\u001b[38;5;28;43;01mTrue\u001b[39;49;00m\u001b[43m)\u001b[49m \n",
      "File \u001b[1;32m~\\AppData\\Local\\Programs\\Python\\Python310\\lib\\site-packages\\wwo_hist\\__init__.py:119\u001b[0m, in \u001b[0;36mretrieve_hist_data\u001b[1;34m(api_key, location_list, start_date, end_date, frequency, location_label, export_csv, store_df, response_cache_path)\u001b[0m\n\u001b[0;32m    117\u001b[0m \u001b[38;5;28;01mfor\u001b[39;00m location \u001b[38;5;129;01min\u001b[39;00m location_list:\n\u001b[0;32m    118\u001b[0m     \u001b[38;5;28mprint\u001b[39m(\u001b[38;5;124m'\u001b[39m\u001b[38;5;130;01m\\n\u001b[39;00m\u001b[38;5;130;01m\\n\u001b[39;00m\u001b[38;5;124mRetrieving weather data for \u001b[39m\u001b[38;5;124m'\u001b[39m \u001b[38;5;241m+\u001b[39m location \u001b[38;5;241m+\u001b[39m \u001b[38;5;124m'\u001b[39m\u001b[38;5;130;01m\\n\u001b[39;00m\u001b[38;5;130;01m\\n\u001b[39;00m\u001b[38;5;124m'\u001b[39m)\n\u001b[1;32m--> 119\u001b[0m     df_this_city \u001b[38;5;241m=\u001b[39m \u001b[43mretrieve_this_location\u001b[49m\u001b[43m(\u001b[49m\u001b[43mapi_key\u001b[49m\u001b[43m,\u001b[49m\u001b[43m \u001b[49m\u001b[43mlocation\u001b[49m\u001b[43m,\u001b[49m\u001b[43m \u001b[49m\u001b[43mstart_date\u001b[49m\u001b[43m,\u001b[49m\u001b[43m \u001b[49m\u001b[43mend_date\u001b[49m\u001b[43m,\u001b[49m\u001b[43m \u001b[49m\u001b[43mfrequency\u001b[49m\u001b[43m,\u001b[49m\u001b[43m \u001b[49m\u001b[43mresponse_cache_path\u001b[49m\u001b[43m)\u001b[49m\n\u001b[0;32m    121\u001b[0m     \u001b[38;5;28;01mif\u001b[39;00m (location_label \u001b[38;5;241m==\u001b[39m \u001b[38;5;28;01mTrue\u001b[39;00m):\n\u001b[0;32m    122\u001b[0m         \u001b[38;5;66;03m# add city name as prefix to the colnames\u001b[39;00m\n\u001b[0;32m    123\u001b[0m         df_this_city \u001b[38;5;241m=\u001b[39m df_this_city\u001b[38;5;241m.\u001b[39madd_prefix(location \u001b[38;5;241m+\u001b[39m \u001b[38;5;124m'\u001b[39m\u001b[38;5;124m_\u001b[39m\u001b[38;5;124m'\u001b[39m)\n",
      "File \u001b[1;32m~\\AppData\\Local\\Programs\\Python\\Python310\\lib\\site-packages\\wwo_hist\\__init__.py:101\u001b[0m, in \u001b[0;36mretrieve_this_location\u001b[1;34m(api_key, location, start_date, end_date, frequency, response_cache_path)\u001b[0m\n\u001b[0;32m     99\u001b[0m     \u001b[38;5;28;01mwith\u001b[39;00m \u001b[38;5;28mopen\u001b[39m(\u001b[38;5;124mf\u001b[39m\u001b[38;5;124m'\u001b[39m\u001b[38;5;132;01m{\u001b[39;00mresponse_cache_path\u001b[38;5;132;01m}\u001b[39;00m\u001b[38;5;124m/\u001b[39m\u001b[38;5;132;01m{\u001b[39;00mlocation\u001b[38;5;132;01m}\u001b[39;00m\u001b[38;5;124m_\u001b[39m\u001b[38;5;132;01m{\u001b[39;00mstart_d\u001b[38;5;132;01m}\u001b[39;00m\u001b[38;5;124m_\u001b[39m\u001b[38;5;132;01m{\u001b[39;00mend_d\u001b[38;5;132;01m}\u001b[39;00m\u001b[38;5;124m'\u001b[39m, \u001b[38;5;124m'\u001b[39m\u001b[38;5;124mw\u001b[39m\u001b[38;5;124m'\u001b[39m) \u001b[38;5;28;01mas\u001b[39;00m f:\n\u001b[0;32m    100\u001b[0m         json\u001b[38;5;241m.\u001b[39mdump(json_data, f)\n\u001b[1;32m--> 101\u001b[0m data \u001b[38;5;241m=\u001b[39m \u001b[43mjson_data\u001b[49m\u001b[43m[\u001b[49m\u001b[38;5;124;43m'\u001b[39;49m\u001b[38;5;124;43mdata\u001b[39;49m\u001b[38;5;124;43m'\u001b[39;49m\u001b[43m]\u001b[49m\u001b[43m[\u001b[49m\u001b[38;5;124;43m'\u001b[39;49m\u001b[38;5;124;43mweather\u001b[39;49m\u001b[38;5;124;43m'\u001b[39;49m\u001b[43m]\u001b[49m\n\u001b[0;32m    102\u001b[0m \u001b[38;5;66;03m# call function to extract json object\u001b[39;00m\n\u001b[0;32m    103\u001b[0m df_this_month \u001b[38;5;241m=\u001b[39m extract_monthly_data(data)\n",
      "\u001b[1;31mKeyError\u001b[0m: 'weather'"
     ]
    }
   ],
   "source": [
    "# ccplay api key\n",
    "api_key = '30361d43ad5f42d6a19173215230305'\n",
    "start_date = '2022-01-01'\n",
    "end_date = '2021-01-02'\n",
    "frequency = 24\n",
    "\n",
    "# Testing API\n",
    "hist_weather_data = retrieve_hist_data(api_key,\n",
    "                                    ['Portugal,+beja'],\n",
    "                                    start_date,\n",
    "                                    end_date,\n",
    "                                    frequency,\n",
    "                                    location_label = False,\n",
    "                                    export_csv = True,\n",
    "                                    store_df = True) "
   ]
  },
  {
   "cell_type": "code",
   "execution_count": 17,
   "metadata": {},
   "outputs": [
    {
     "data": {
      "text/plain": [
       "'G:\\\\Users\\\\johns\\\\Desktop\\\\TCC\\\\MPAlugueisLisboa\\\\Bases\\\\ClimaPortugal'"
      ]
     },
     "execution_count": 17,
     "metadata": {},
     "output_type": "execute_result"
    }
   ],
   "source": [
    "#identifica o caminho relativo da pasta de bases\n",
    "base_dir = '..\\\\..\\\\Bases\\\\ClimaPortugal'\n",
    "os.chdir(base_dir)\n",
    "os.getcwd()"
   ]
  },
  {
   "cell_type": "code",
   "execution_count": 20,
   "metadata": {},
   "outputs": [],
   "source": [
    "# EXECUTA API DE CLIMA\n",
    "\n",
    "from wwo_hist import retrieve_hist_data\n",
    "import os\n",
    "import unidecode\n",
    "import time\n",
    "import csv\n",
    "\n",
    "api_key = \"30361d43ad5f42d6a19173215230305\"\n",
    "\n",
    "\n",
    "class weather_py:\n",
    "    def write_to_csv(self, Even_list, fileName=\"done.csv\"):\n",
    "        with open(fileName, \"a\", newline=\"\") as csvfile:\n",
    "            writer = csv.writer(csvfile)\n",
    "            writer.writerow([Even_list])\n",
    "\n",
    "    def exportaLista(self, lst, fileName=\"done.csv\"):\n",
    "        with open(fileName, \"w\") as filehandle:\n",
    "            for listitem in lst:\n",
    "                filehandle.write(\"%s\\n\" % listitem)\n",
    "\n",
    "    def leArquivo(self, filePath):\n",
    "        lsttime = None\n",
    "        with open(filePath, encoding=\"utf-8\", errors=\"ignore\") as f:\n",
    "            lsttime = f.read().splitlines()\n",
    "            lsttime = list(dict.fromkeys(lsttime))\n",
    "        return lsttime\n",
    "\n",
    "    # EXECUTA API DE CLIMA\n",
    "\n",
    "    def process_wheather(\n",
    "        self,\n",
    "        location_list,\n",
    "        frequency=24,\n",
    "        start_date=\"2021-01-01\",\n",
    "        end_date=\"2021-12-30\",\n",
    "        retries=10,\n",
    "        fileDone=\"..\\\\Temporaria\\\\done.csv\",\n",
    "        resetDoneFile=False,\n",
    "    ):\n",
    "        # Apaga todos arquivos para iniciar um processo novo\n",
    "        if resetDoneFile and os.path.exists(fileDone):\n",
    "            os.remove(fileDone)\n",
    "\n",
    "        # cria arquivo de saida se não existir\n",
    "        # esse aruivo é usado para manter o status da atualizao\n",
    "        # caso pare em alguma cidade ele é consultado para voltar a partir dessa cidade\n",
    "        if not os.path.exists(fileDone):\n",
    "            self.write_to_csv(\"\", fileDone)\n",
    "\n",
    "        lst_done = []\n",
    "        retry = retries\n",
    "        retry_count = 0\n",
    "        while retry_count <= retry:\n",
    "            for location in location_list:\n",
    "                lst_done = self.leArquivo(fileDone)\n",
    "\n",
    "                if location not in lst_done:\n",
    "                    try:\n",
    "                        print(location)\n",
    "                        time.sleep(2)\n",
    "                        hist_weather_data = retrieve_hist_data(\n",
    "                            api_key,\n",
    "                            [location],\n",
    "                            start_date,\n",
    "                            end_date,\n",
    "                            frequency,\n",
    "                            location_label=False,\n",
    "                            export_csv=True,\n",
    "                            store_df=True,\n",
    "                        )\n",
    "                        lst_done.append(location)\n",
    "                        self.exportaLista(lst_done, fileDone)\n",
    "                    except:\n",
    "                        self.exportaLista(lst_done, fileDone)\n",
    "                        break\n",
    "            retry_count = retry_count + 1\n",
    "    \n",
    "        \n",
    "            "
   ]
  },
  {
   "cell_type": "code",
   "execution_count": null,
   "metadata": {},
   "outputs": [],
   "source": []
  }
 ],
 "metadata": {
  "kernelspec": {
   "display_name": "Python 3 (ipykernel)",
   "language": "python",
   "name": "python3"
  },
  "language_info": {
   "codemirror_mode": {
    "name": "ipython",
    "version": 3
   },
   "file_extension": ".py",
   "mimetype": "text/x-python",
   "name": "python",
   "nbconvert_exporter": "python",
   "pygments_lexer": "ipython3",
   "version": "3.10.10"
  }
 },
 "nbformat": 4,
 "nbformat_minor": 4
}
