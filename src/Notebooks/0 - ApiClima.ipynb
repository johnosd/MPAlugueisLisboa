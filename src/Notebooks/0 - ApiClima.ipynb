{
 "cells": [
  {
   "cell_type": "markdown",
   "metadata": {},
   "source": [
    "## Historical Weather Forecast data in CS\n",
    "<p> https://www.worldweatheronline.com/developer/api/ </p>\n"
   ]
  },
  {
   "cell_type": "code",
   "execution_count": null,
   "metadata": {},
   "outputs": [
    {
     "name": "stdout",
     "output_type": "stream",
     "text": [
      "Requirement already satisfied: wwo-hist in c:\\users\\johns\\appdata\\local\\packages\\pythonsoftwarefoundation.python.3.11_qbz5n2kfra8p0\\localcache\\local-packages\\python311\\site-packages (0.0.7)\n"
     ]
    },
    {
     "name": "stderr",
     "output_type": "stream",
     "text": [
      "WARNING: There was an error checking the latest version of pip.\n"
     ]
    },
    {
     "name": "stdout",
     "output_type": "stream",
     "text": [
      "Requirement already satisfied: unidecode in c:\\users\\johns\\appdata\\local\\packages\\pythonsoftwarefoundation.python.3.11_qbz5n2kfra8p0\\localcache\\local-packages\\python311\\site-packages (1.4.0)\n"
     ]
    },
    {
     "name": "stderr",
     "output_type": "stream",
     "text": [
      "WARNING: There was an error checking the latest version of pip.\n"
     ]
    }
   ],
   "source": [
    "!pip install wwo-hist\n",
    "!pip install unidecode"
   ]
  },
  {
   "cell_type": "code",
   "execution_count": 72,
   "metadata": {},
   "outputs": [],
   "source": [
    "from pathlib import Path\n",
    "import pandas as pd\n",
    "from wwo_hist import retrieve_hist_data\n",
    "from typing import List, Iterable\n",
    "import os\n",
    "import time"
   ]
  },
  {
   "cell_type": "code",
   "execution_count": null,
   "metadata": {},
   "outputs": [
    {
     "name": "stdout",
     "output_type": "stream",
     "text": [
      "WWO_Api_DIR: c:\\Users\\johns\\Documents\\Projetos\\MPAlugueisLisboa\\Bases\\Clima\\worldWeatherApi\n",
      "DONE_FILE: c:\\Users\\johns\\Documents\\Projetos\\MPAlugueisLisboa\\Bases\\Clima\\worldWeatherApi\\Temporaria\\done.txt\n",
      "arquivo_municipios: c:\\Users\\johns\\Documents\\Projetos\\MPAlugueisLisboa\\Bases\\Municipios\\portugalMunicipios.csv\n"
     ]
    }
   ],
   "source": [
    "API_KEY   = \"5ccf4c0bfb8849ddaf8204104250207\"\n",
    "\n",
    "WWO_Api_DIR = Path(__file__).resolve().parent if \"__file__\" in globals() else Path.cwd()\n",
    "DONE_FILE  = WWO_Api_DIR / \"Temporaria\"  / \"done.txt\"\n",
    "BASE_DIR = Path.cwd().parent.parent \n",
    "arquivo_municipios = BASE_DIR / \"Municipios\" / \"portugalMunicipios.csv\"\n",
    "\n",
    "\n",
    "# MOSTRA OS CAMINHOS\n",
    "print(\"WWO_Api_DIR:\", WWO_Api_DIR)\n",
    "print(\"DONE_FILE:\", DONE_FILE)\n",
    "print(\"arquivo_municipios:\", arquivo_municipios)\n"
   ]
  },
  {
   "cell_type": "code",
   "execution_count": 70,
   "metadata": {},
   "outputs": [],
   "source": [
    "def get_municipios_portugal(arquivo_municipios: Path = arquivo_municipios) -> List[str]:\n",
    "    \"\"\"\n",
    "    Lê o arquivo de municípios de Portugal e retorna uma lista de cidades.\n",
    "    O arquivo deve estar no formato CSV com colunas 'Regiao' e 'Cidades'.\n",
    "    \"\"\"\n",
    "\n",
    "    if not arquivo_municipios.exists():\n",
    "        raise FileNotFoundError(f\"Arquivo de municípios não encontrado: {arquivo_municipios}\")\n",
    "\n",
    "    # ler o arquivo de municipios em um dataframe\n",
    "    # separadando os campos por vírgula\n",
    "    # monte uma lista concatenando: \"Portugal,\" [Cidades]\n",
    "    import pandas as pd\n",
    "    df = pd.read_csv(arquivo_municipios, sep=\",\", encoding=\"utf-8\")\n",
    "\n",
    "    #ordene por Regiao e cidades\n",
    "    df = df.sort_values(by=[\"Regiao\", \"Cidades\"])\n",
    "\n",
    "    # monte uma lista concatenando: \"Portugal,\" [Cidades]\n",
    "    cidades = [cidade + \",Portugal\" for cidade in df[\"Cidades\"].tolist()]\n",
    "\n",
    "    return cidades\n"
   ]
  },
  {
   "cell_type": "code",
   "execution_count": 73,
   "metadata": {},
   "outputs": [],
   "source": [
    "\n",
    "# ------------------------------------------------------------------ utilidades\n",
    "def save_lines(lines: Iterable[str], file: Path) -> None:\n",
    "    file.write_text(\"\\n\".join(lines), encoding=\"utf-8\")\n",
    "\n",
    "def read_lines(file: Path) -> List[str]:\n",
    "    return file.read_text(encoding=\"utf-8\").splitlines() if file.exists() else []\n",
    "\n",
    "# ------------------------------------------------------------------ download\n",
    "def fetch_history(city: str, start: str, end: str, freq: int = 24, pause: float = 2):\n",
    "    \"\"\"Baixa os dados da cidade e grava o CSV DENTRO de BASE_DIR.\"\"\"\n",
    "    time.sleep(pause)\n",
    "\n",
    "    cwd = Path.cwd()            # guarda onde eu estava\n",
    "    try:\n",
    "        os.chdir(WWO_Api_DIR)      # muda só durante o download\n",
    "        retrieve_hist_data(\n",
    "            API_KEY, [city], start, end, freq,\n",
    "            location_label=False, export_csv=True, store_df=True\n",
    "        )\n",
    "    finally:\n",
    "        os.chdir(cwd)           # volta ao normal\n",
    "\n",
    "# ------------------------------------------------------------------ orquestra\n",
    "def process_weather(\n",
    "    locations: List[str],\n",
    "    start_date=\"2025-06-25\",\n",
    "    end_date=\"2025-07-01\",\n",
    "    freq=24,\n",
    "    retries=3,\n",
    "):\n",
    "    done = set(read_lines(DONE_FILE))\n",
    "\n",
    "    for city in locations:\n",
    "        if city in done:\n",
    "            continue\n",
    "\n",
    "        for attempt in range(1, retries + 1):\n",
    "            try:\n",
    "                fetch_history(city, start_date, end_date, freq)\n",
    "                done.add(city)\n",
    "                save_lines(sorted(done), DONE_FILE)\n",
    "                break\n",
    "            except Exception as err:\n",
    "                print(f\"Falhou {city} ({attempt}/{retries}): {err}\")\n",
    "                if attempt == retries:\n",
    "                    print(\"Desisti dessa cidade.\")\n"
   ]
  },
  {
   "cell_type": "code",
   "execution_count": 74,
   "metadata": {},
   "outputs": [
    {
     "name": "stdout",
     "output_type": "stream",
     "text": [
      "['Alandroal,Portugal', 'Alcácer+do+Sal,Portugal', 'Aljustrel,Portugal', 'Almeirim,Portugal', 'Almodôvar,Portugal', 'Alpiarça,Portugal', 'Alter+do+Chão,Portugal', 'Alvito,Portugal', 'Arraiolos,Portugal', 'Arronches,Portugal']\n"
     ]
    }
   ],
   "source": [
    "municipios_portugal = get_municipios_portugal(arquivo_municipios)\n",
    "municipios_portugal\n",
    "# substua espacos por \"+\"\n",
    "municipios_portugal = [cidade.replace(\" \", \"+\") for cidade in municipios_portugal]\n",
    "# Mostra os primeiros 10 municípios\n",
    "print(municipios_portugal[:10])"
   ]
  },
  {
   "cell_type": "code",
   "execution_count": 56,
   "metadata": {},
   "outputs": [
    {
     "name": "stdout",
     "output_type": "stream",
     "text": [
      "\n",
      "\n",
      "Retrieving weather data for Alandroal,Portugal\n",
      "\n",
      "\n",
      "Currently retrieving data for Alandroal,Portugal: from 2025-06-25 to 2025-06-30\n"
     ]
    },
    {
     "name": "stderr",
     "output_type": "stream",
     "text": [
      "C:\\Users\\johns\\AppData\\Local\\Packages\\PythonSoftwareFoundation.Python.3.11_qbz5n2kfra8p0\\LocalCache\\local-packages\\Python311\\site-packages\\wwo_hist\\__init__.py:69: FutureWarning: Argument `closed` is deprecated in favor of `inclusive`.\n",
      "  list_mon_begin = pd.date_range(start_date, end_date, freq='MS', closed='right')\n",
      "C:\\Users\\johns\\AppData\\Local\\Packages\\PythonSoftwareFoundation.Python.3.11_qbz5n2kfra8p0\\LocalCache\\local-packages\\Python311\\site-packages\\wwo_hist\\__init__.py:74: FutureWarning: Argument `closed` is deprecated in favor of `inclusive`.\n",
      "  list_mon_end = pd.date_range(start_date, end_date, freq='M', closed='left')\n"
     ]
    },
    {
     "name": "stdout",
     "output_type": "stream",
     "text": [
      "Time elapsed (hh:mm:ss.ms) 0:00:00.573859\n",
      "Currently retrieving data for Alandroal,Portugal: from 2025-07-01 to 2025-07-01\n",
      "Time elapsed (hh:mm:ss.ms) 0:00:01.028467\n",
      "\n",
      "\n",
      "export Alandroal,Portugal completed!\n",
      "\n",
      "\n",
      "Falhou Alandroal,Portugal (1/3): [Errno 2] No such file or directory: 'c:\\\\Users\\\\johns\\\\Documents\\\\Projetos\\\\MPAlugueisLisboa\\\\Bases\\\\Clima\\\\worldWeatherApi\\\\..\\\\..\\\\Bases\\\\Clima\\\\worldWeatherApi\\\\Temporaria\\\\done.txt'\n",
      "\n",
      "\n",
      "Retrieving weather data for Alandroal,Portugal\n",
      "\n",
      "\n",
      "Currently retrieving data for Alandroal,Portugal: from 2025-06-25 to 2025-06-30\n",
      "Time elapsed (hh:mm:ss.ms) 0:00:00.167305\n",
      "Currently retrieving data for Alandroal,Portugal: from 2025-07-01 to 2025-07-01\n"
     ]
    },
    {
     "name": "stderr",
     "output_type": "stream",
     "text": [
      "C:\\Users\\johns\\AppData\\Local\\Packages\\PythonSoftwareFoundation.Python.3.11_qbz5n2kfra8p0\\LocalCache\\local-packages\\Python311\\site-packages\\wwo_hist\\__init__.py:69: FutureWarning: Argument `closed` is deprecated in favor of `inclusive`.\n",
      "  list_mon_begin = pd.date_range(start_date, end_date, freq='MS', closed='right')\n",
      "C:\\Users\\johns\\AppData\\Local\\Packages\\PythonSoftwareFoundation.Python.3.11_qbz5n2kfra8p0\\LocalCache\\local-packages\\Python311\\site-packages\\wwo_hist\\__init__.py:74: FutureWarning: Argument `closed` is deprecated in favor of `inclusive`.\n",
      "  list_mon_end = pd.date_range(start_date, end_date, freq='M', closed='left')\n"
     ]
    },
    {
     "name": "stdout",
     "output_type": "stream",
     "text": [
      "Time elapsed (hh:mm:ss.ms) 0:00:00.230698\n",
      "\n",
      "\n",
      "export Alandroal,Portugal completed!\n",
      "\n",
      "\n",
      "Falhou Alandroal,Portugal (2/3): [Errno 2] No such file or directory: 'c:\\\\Users\\\\johns\\\\Documents\\\\Projetos\\\\MPAlugueisLisboa\\\\Bases\\\\Clima\\\\worldWeatherApi\\\\..\\\\..\\\\Bases\\\\Clima\\\\worldWeatherApi\\\\Temporaria\\\\done.txt'\n",
      "\n",
      "\n",
      "Retrieving weather data for Alandroal,Portugal\n",
      "\n",
      "\n",
      "Currently retrieving data for Alandroal,Portugal: from 2025-06-25 to 2025-06-30\n",
      "Time elapsed (hh:mm:ss.ms) 0:00:00.153723\n",
      "Currently retrieving data for Alandroal,Portugal: from 2025-07-01 to 2025-07-01\n"
     ]
    },
    {
     "name": "stderr",
     "output_type": "stream",
     "text": [
      "C:\\Users\\johns\\AppData\\Local\\Packages\\PythonSoftwareFoundation.Python.3.11_qbz5n2kfra8p0\\LocalCache\\local-packages\\Python311\\site-packages\\wwo_hist\\__init__.py:69: FutureWarning: Argument `closed` is deprecated in favor of `inclusive`.\n",
      "  list_mon_begin = pd.date_range(start_date, end_date, freq='MS', closed='right')\n",
      "C:\\Users\\johns\\AppData\\Local\\Packages\\PythonSoftwareFoundation.Python.3.11_qbz5n2kfra8p0\\LocalCache\\local-packages\\Python311\\site-packages\\wwo_hist\\__init__.py:74: FutureWarning: Argument `closed` is deprecated in favor of `inclusive`.\n",
      "  list_mon_end = pd.date_range(start_date, end_date, freq='M', closed='left')\n"
     ]
    },
    {
     "name": "stdout",
     "output_type": "stream",
     "text": [
      "Time elapsed (hh:mm:ss.ms) 0:00:00.229205\n",
      "\n",
      "\n",
      "export Alandroal,Portugal completed!\n",
      "\n",
      "\n",
      "Falhou Alandroal,Portugal (3/3): [Errno 2] No such file or directory: 'c:\\\\Users\\\\johns\\\\Documents\\\\Projetos\\\\MPAlugueisLisboa\\\\Bases\\\\Clima\\\\worldWeatherApi\\\\..\\\\..\\\\Bases\\\\Clima\\\\worldWeatherApi\\\\Temporaria\\\\done.txt'\n",
      "Desisti dessa cidade.\n",
      "\n",
      "\n",
      "Retrieving weather data for Alcácer+do+Sal,Portugal\n",
      "\n",
      "\n",
      "Currently retrieving data for Alcácer+do+Sal,Portugal: from 2025-06-25 to 2025-06-30\n",
      "Falhou Alcácer+do+Sal,Portugal (1/3): 'ascii' codec can't encode character '\\xe1' in position 75: ordinal not in range(128)\n"
     ]
    },
    {
     "name": "stderr",
     "output_type": "stream",
     "text": [
      "C:\\Users\\johns\\AppData\\Local\\Packages\\PythonSoftwareFoundation.Python.3.11_qbz5n2kfra8p0\\LocalCache\\local-packages\\Python311\\site-packages\\wwo_hist\\__init__.py:69: FutureWarning: Argument `closed` is deprecated in favor of `inclusive`.\n",
      "  list_mon_begin = pd.date_range(start_date, end_date, freq='MS', closed='right')\n",
      "C:\\Users\\johns\\AppData\\Local\\Packages\\PythonSoftwareFoundation.Python.3.11_qbz5n2kfra8p0\\LocalCache\\local-packages\\Python311\\site-packages\\wwo_hist\\__init__.py:74: FutureWarning: Argument `closed` is deprecated in favor of `inclusive`.\n",
      "  list_mon_end = pd.date_range(start_date, end_date, freq='M', closed='left')\n"
     ]
    },
    {
     "name": "stdout",
     "output_type": "stream",
     "text": [
      "\n",
      "\n",
      "Retrieving weather data for Alcácer+do+Sal,Portugal\n",
      "\n",
      "\n",
      "Currently retrieving data for Alcácer+do+Sal,Portugal: from 2025-06-25 to 2025-06-30\n",
      "Falhou Alcácer+do+Sal,Portugal (2/3): 'ascii' codec can't encode character '\\xe1' in position 75: ordinal not in range(128)\n"
     ]
    },
    {
     "name": "stderr",
     "output_type": "stream",
     "text": [
      "C:\\Users\\johns\\AppData\\Local\\Packages\\PythonSoftwareFoundation.Python.3.11_qbz5n2kfra8p0\\LocalCache\\local-packages\\Python311\\site-packages\\wwo_hist\\__init__.py:69: FutureWarning: Argument `closed` is deprecated in favor of `inclusive`.\n",
      "  list_mon_begin = pd.date_range(start_date, end_date, freq='MS', closed='right')\n",
      "C:\\Users\\johns\\AppData\\Local\\Packages\\PythonSoftwareFoundation.Python.3.11_qbz5n2kfra8p0\\LocalCache\\local-packages\\Python311\\site-packages\\wwo_hist\\__init__.py:74: FutureWarning: Argument `closed` is deprecated in favor of `inclusive`.\n",
      "  list_mon_end = pd.date_range(start_date, end_date, freq='M', closed='left')\n"
     ]
    },
    {
     "name": "stdout",
     "output_type": "stream",
     "text": [
      "\n",
      "\n",
      "Retrieving weather data for Alcácer+do+Sal,Portugal\n",
      "\n",
      "\n",
      "Currently retrieving data for Alcácer+do+Sal,Portugal: from 2025-06-25 to 2025-06-30\n",
      "Falhou Alcácer+do+Sal,Portugal (3/3): 'ascii' codec can't encode character '\\xe1' in position 75: ordinal not in range(128)\n",
      "Desisti dessa cidade.\n"
     ]
    },
    {
     "name": "stderr",
     "output_type": "stream",
     "text": [
      "C:\\Users\\johns\\AppData\\Local\\Packages\\PythonSoftwareFoundation.Python.3.11_qbz5n2kfra8p0\\LocalCache\\local-packages\\Python311\\site-packages\\wwo_hist\\__init__.py:69: FutureWarning: Argument `closed` is deprecated in favor of `inclusive`.\n",
      "  list_mon_begin = pd.date_range(start_date, end_date, freq='MS', closed='right')\n",
      "C:\\Users\\johns\\AppData\\Local\\Packages\\PythonSoftwareFoundation.Python.3.11_qbz5n2kfra8p0\\LocalCache\\local-packages\\Python311\\site-packages\\wwo_hist\\__init__.py:74: FutureWarning: Argument `closed` is deprecated in favor of `inclusive`.\n",
      "  list_mon_end = pd.date_range(start_date, end_date, freq='M', closed='left')\n"
     ]
    },
    {
     "name": "stdout",
     "output_type": "stream",
     "text": [
      "\n",
      "\n",
      "Retrieving weather data for Aljustrel,Portugal\n",
      "\n",
      "\n",
      "Currently retrieving data for Aljustrel,Portugal: from 2025-06-25 to 2025-06-30\n"
     ]
    },
    {
     "name": "stderr",
     "output_type": "stream",
     "text": [
      "C:\\Users\\johns\\AppData\\Local\\Packages\\PythonSoftwareFoundation.Python.3.11_qbz5n2kfra8p0\\LocalCache\\local-packages\\Python311\\site-packages\\wwo_hist\\__init__.py:69: FutureWarning: Argument `closed` is deprecated in favor of `inclusive`.\n",
      "  list_mon_begin = pd.date_range(start_date, end_date, freq='MS', closed='right')\n",
      "C:\\Users\\johns\\AppData\\Local\\Packages\\PythonSoftwareFoundation.Python.3.11_qbz5n2kfra8p0\\LocalCache\\local-packages\\Python311\\site-packages\\wwo_hist\\__init__.py:74: FutureWarning: Argument `closed` is deprecated in favor of `inclusive`.\n",
      "  list_mon_end = pd.date_range(start_date, end_date, freq='M', closed='left')\n"
     ]
    },
    {
     "name": "stdout",
     "output_type": "stream",
     "text": [
      "Time elapsed (hh:mm:ss.ms) 0:00:00.504966\n",
      "Currently retrieving data for Aljustrel,Portugal: from 2025-07-01 to 2025-07-01\n",
      "Time elapsed (hh:mm:ss.ms) 0:00:00.942879\n",
      "\n",
      "\n",
      "export Aljustrel,Portugal completed!\n",
      "\n",
      "\n",
      "Falhou Aljustrel,Portugal (1/3): [Errno 2] No such file or directory: 'c:\\\\Users\\\\johns\\\\Documents\\\\Projetos\\\\MPAlugueisLisboa\\\\Bases\\\\Clima\\\\worldWeatherApi\\\\..\\\\..\\\\Bases\\\\Clima\\\\worldWeatherApi\\\\Temporaria\\\\done.txt'\n",
      "\n",
      "\n",
      "Retrieving weather data for Aljustrel,Portugal\n",
      "\n",
      "\n",
      "Currently retrieving data for Aljustrel,Portugal: from 2025-06-25 to 2025-06-30\n",
      "Time elapsed (hh:mm:ss.ms) 0:00:00.177871\n",
      "Currently retrieving data for Aljustrel,Portugal: from 2025-07-01 to 2025-07-01\n"
     ]
    },
    {
     "name": "stderr",
     "output_type": "stream",
     "text": [
      "C:\\Users\\johns\\AppData\\Local\\Packages\\PythonSoftwareFoundation.Python.3.11_qbz5n2kfra8p0\\LocalCache\\local-packages\\Python311\\site-packages\\wwo_hist\\__init__.py:69: FutureWarning: Argument `closed` is deprecated in favor of `inclusive`.\n",
      "  list_mon_begin = pd.date_range(start_date, end_date, freq='MS', closed='right')\n",
      "C:\\Users\\johns\\AppData\\Local\\Packages\\PythonSoftwareFoundation.Python.3.11_qbz5n2kfra8p0\\LocalCache\\local-packages\\Python311\\site-packages\\wwo_hist\\__init__.py:74: FutureWarning: Argument `closed` is deprecated in favor of `inclusive`.\n",
      "  list_mon_end = pd.date_range(start_date, end_date, freq='M', closed='left')\n"
     ]
    },
    {
     "name": "stdout",
     "output_type": "stream",
     "text": [
      "Time elapsed (hh:mm:ss.ms) 0:00:00.236601\n",
      "\n",
      "\n",
      "export Aljustrel,Portugal completed!\n",
      "\n",
      "\n",
      "Falhou Aljustrel,Portugal (2/3): [Errno 2] No such file or directory: 'c:\\\\Users\\\\johns\\\\Documents\\\\Projetos\\\\MPAlugueisLisboa\\\\Bases\\\\Clima\\\\worldWeatherApi\\\\..\\\\..\\\\Bases\\\\Clima\\\\worldWeatherApi\\\\Temporaria\\\\done.txt'\n",
      "\n",
      "\n",
      "Retrieving weather data for Aljustrel,Portugal\n",
      "\n",
      "\n",
      "Currently retrieving data for Aljustrel,Portugal: from 2025-06-25 to 2025-06-30\n",
      "Time elapsed (hh:mm:ss.ms) 0:00:00.170137\n",
      "Currently retrieving data for Aljustrel,Portugal: from 2025-07-01 to 2025-07-01\n"
     ]
    },
    {
     "name": "stderr",
     "output_type": "stream",
     "text": [
      "C:\\Users\\johns\\AppData\\Local\\Packages\\PythonSoftwareFoundation.Python.3.11_qbz5n2kfra8p0\\LocalCache\\local-packages\\Python311\\site-packages\\wwo_hist\\__init__.py:69: FutureWarning: Argument `closed` is deprecated in favor of `inclusive`.\n",
      "  list_mon_begin = pd.date_range(start_date, end_date, freq='MS', closed='right')\n",
      "C:\\Users\\johns\\AppData\\Local\\Packages\\PythonSoftwareFoundation.Python.3.11_qbz5n2kfra8p0\\LocalCache\\local-packages\\Python311\\site-packages\\wwo_hist\\__init__.py:74: FutureWarning: Argument `closed` is deprecated in favor of `inclusive`.\n",
      "  list_mon_end = pd.date_range(start_date, end_date, freq='M', closed='left')\n"
     ]
    },
    {
     "name": "stdout",
     "output_type": "stream",
     "text": [
      "Time elapsed (hh:mm:ss.ms) 0:00:00.265576\n",
      "\n",
      "\n",
      "export Aljustrel,Portugal completed!\n",
      "\n",
      "\n",
      "Falhou Aljustrel,Portugal (3/3): [Errno 2] No such file or directory: 'c:\\\\Users\\\\johns\\\\Documents\\\\Projetos\\\\MPAlugueisLisboa\\\\Bases\\\\Clima\\\\worldWeatherApi\\\\..\\\\..\\\\Bases\\\\Clima\\\\worldWeatherApi\\\\Temporaria\\\\done.txt'\n",
      "Desisti dessa cidade.\n",
      "\n",
      "\n",
      "Retrieving weather data for Almeirim,Portugal\n",
      "\n",
      "\n",
      "Currently retrieving data for Almeirim,Portugal: from 2025-06-25 to 2025-06-30\n"
     ]
    },
    {
     "name": "stderr",
     "output_type": "stream",
     "text": [
      "C:\\Users\\johns\\AppData\\Local\\Packages\\PythonSoftwareFoundation.Python.3.11_qbz5n2kfra8p0\\LocalCache\\local-packages\\Python311\\site-packages\\wwo_hist\\__init__.py:69: FutureWarning: Argument `closed` is deprecated in favor of `inclusive`.\n",
      "  list_mon_begin = pd.date_range(start_date, end_date, freq='MS', closed='right')\n",
      "C:\\Users\\johns\\AppData\\Local\\Packages\\PythonSoftwareFoundation.Python.3.11_qbz5n2kfra8p0\\LocalCache\\local-packages\\Python311\\site-packages\\wwo_hist\\__init__.py:74: FutureWarning: Argument `closed` is deprecated in favor of `inclusive`.\n",
      "  list_mon_end = pd.date_range(start_date, end_date, freq='M', closed='left')\n"
     ]
    },
    {
     "name": "stdout",
     "output_type": "stream",
     "text": [
      "Time elapsed (hh:mm:ss.ms) 0:00:00.351345\n",
      "Currently retrieving data for Almeirim,Portugal: from 2025-07-01 to 2025-07-01\n",
      "Time elapsed (hh:mm:ss.ms) 0:00:00.818761\n",
      "\n",
      "\n",
      "export Almeirim,Portugal completed!\n",
      "\n",
      "\n",
      "Falhou Almeirim,Portugal (1/3): [Errno 2] No such file or directory: 'c:\\\\Users\\\\johns\\\\Documents\\\\Projetos\\\\MPAlugueisLisboa\\\\Bases\\\\Clima\\\\worldWeatherApi\\\\..\\\\..\\\\Bases\\\\Clima\\\\worldWeatherApi\\\\Temporaria\\\\done.txt'\n",
      "\n",
      "\n",
      "Retrieving weather data for Almeirim,Portugal\n",
      "\n",
      "\n",
      "Currently retrieving data for Almeirim,Portugal: from 2025-06-25 to 2025-06-30\n",
      "Time elapsed (hh:mm:ss.ms) 0:00:00.156780\n",
      "Currently retrieving data for Almeirim,Portugal: from 2025-07-01 to 2025-07-01\n"
     ]
    },
    {
     "name": "stderr",
     "output_type": "stream",
     "text": [
      "C:\\Users\\johns\\AppData\\Local\\Packages\\PythonSoftwareFoundation.Python.3.11_qbz5n2kfra8p0\\LocalCache\\local-packages\\Python311\\site-packages\\wwo_hist\\__init__.py:69: FutureWarning: Argument `closed` is deprecated in favor of `inclusive`.\n",
      "  list_mon_begin = pd.date_range(start_date, end_date, freq='MS', closed='right')\n",
      "C:\\Users\\johns\\AppData\\Local\\Packages\\PythonSoftwareFoundation.Python.3.11_qbz5n2kfra8p0\\LocalCache\\local-packages\\Python311\\site-packages\\wwo_hist\\__init__.py:74: FutureWarning: Argument `closed` is deprecated in favor of `inclusive`.\n",
      "  list_mon_end = pd.date_range(start_date, end_date, freq='M', closed='left')\n"
     ]
    },
    {
     "name": "stdout",
     "output_type": "stream",
     "text": [
      "Time elapsed (hh:mm:ss.ms) 0:00:00.232248\n",
      "\n",
      "\n",
      "export Almeirim,Portugal completed!\n",
      "\n",
      "\n",
      "Falhou Almeirim,Portugal (2/3): [Errno 2] No such file or directory: 'c:\\\\Users\\\\johns\\\\Documents\\\\Projetos\\\\MPAlugueisLisboa\\\\Bases\\\\Clima\\\\worldWeatherApi\\\\..\\\\..\\\\Bases\\\\Clima\\\\worldWeatherApi\\\\Temporaria\\\\done.txt'\n",
      "\n",
      "\n",
      "Retrieving weather data for Almeirim,Portugal\n",
      "\n",
      "\n",
      "Currently retrieving data for Almeirim,Portugal: from 2025-06-25 to 2025-06-30\n",
      "Time elapsed (hh:mm:ss.ms) 0:00:00.145617\n",
      "Currently retrieving data for Almeirim,Portugal: from 2025-07-01 to 2025-07-01\n",
      "Time elapsed (hh:mm:ss.ms) 0:00:00.208471\n",
      "\n",
      "\n",
      "export Almeirim,Portugal completed!\n",
      "\n",
      "\n",
      "Falhou Almeirim,Portugal (3/3): [Errno 2] No such file or directory: 'c:\\\\Users\\\\johns\\\\Documents\\\\Projetos\\\\MPAlugueisLisboa\\\\Bases\\\\Clima\\\\worldWeatherApi\\\\..\\\\..\\\\Bases\\\\Clima\\\\worldWeatherApi\\\\Temporaria\\\\done.txt'\n",
      "Desisti dessa cidade.\n"
     ]
    },
    {
     "name": "stderr",
     "output_type": "stream",
     "text": [
      "C:\\Users\\johns\\AppData\\Local\\Packages\\PythonSoftwareFoundation.Python.3.11_qbz5n2kfra8p0\\LocalCache\\local-packages\\Python311\\site-packages\\wwo_hist\\__init__.py:69: FutureWarning: Argument `closed` is deprecated in favor of `inclusive`.\n",
      "  list_mon_begin = pd.date_range(start_date, end_date, freq='MS', closed='right')\n",
      "C:\\Users\\johns\\AppData\\Local\\Packages\\PythonSoftwareFoundation.Python.3.11_qbz5n2kfra8p0\\LocalCache\\local-packages\\Python311\\site-packages\\wwo_hist\\__init__.py:74: FutureWarning: Argument `closed` is deprecated in favor of `inclusive`.\n",
      "  list_mon_end = pd.date_range(start_date, end_date, freq='M', closed='left')\n"
     ]
    },
    {
     "name": "stdout",
     "output_type": "stream",
     "text": [
      "\n",
      "\n",
      "Retrieving weather data for Almodôvar,Portugal\n",
      "\n",
      "\n",
      "Currently retrieving data for Almodôvar,Portugal: from 2025-06-25 to 2025-06-30\n",
      "Falhou Almodôvar,Portugal (1/3): 'ascii' codec can't encode character '\\xf4' in position 77: ordinal not in range(128)\n"
     ]
    },
    {
     "name": "stderr",
     "output_type": "stream",
     "text": [
      "C:\\Users\\johns\\AppData\\Local\\Packages\\PythonSoftwareFoundation.Python.3.11_qbz5n2kfra8p0\\LocalCache\\local-packages\\Python311\\site-packages\\wwo_hist\\__init__.py:69: FutureWarning: Argument `closed` is deprecated in favor of `inclusive`.\n",
      "  list_mon_begin = pd.date_range(start_date, end_date, freq='MS', closed='right')\n",
      "C:\\Users\\johns\\AppData\\Local\\Packages\\PythonSoftwareFoundation.Python.3.11_qbz5n2kfra8p0\\LocalCache\\local-packages\\Python311\\site-packages\\wwo_hist\\__init__.py:74: FutureWarning: Argument `closed` is deprecated in favor of `inclusive`.\n",
      "  list_mon_end = pd.date_range(start_date, end_date, freq='M', closed='left')\n"
     ]
    },
    {
     "name": "stdout",
     "output_type": "stream",
     "text": [
      "\n",
      "\n",
      "Retrieving weather data for Almodôvar,Portugal\n",
      "\n",
      "\n",
      "Currently retrieving data for Almodôvar,Portugal: from 2025-06-25 to 2025-06-30\n",
      "Falhou Almodôvar,Portugal (2/3): 'ascii' codec can't encode character '\\xf4' in position 77: ordinal not in range(128)\n"
     ]
    },
    {
     "name": "stderr",
     "output_type": "stream",
     "text": [
      "C:\\Users\\johns\\AppData\\Local\\Packages\\PythonSoftwareFoundation.Python.3.11_qbz5n2kfra8p0\\LocalCache\\local-packages\\Python311\\site-packages\\wwo_hist\\__init__.py:69: FutureWarning: Argument `closed` is deprecated in favor of `inclusive`.\n",
      "  list_mon_begin = pd.date_range(start_date, end_date, freq='MS', closed='right')\n",
      "C:\\Users\\johns\\AppData\\Local\\Packages\\PythonSoftwareFoundation.Python.3.11_qbz5n2kfra8p0\\LocalCache\\local-packages\\Python311\\site-packages\\wwo_hist\\__init__.py:74: FutureWarning: Argument `closed` is deprecated in favor of `inclusive`.\n",
      "  list_mon_end = pd.date_range(start_date, end_date, freq='M', closed='left')\n"
     ]
    },
    {
     "name": "stdout",
     "output_type": "stream",
     "text": [
      "\n",
      "\n",
      "Retrieving weather data for Almodôvar,Portugal\n",
      "\n",
      "\n",
      "Currently retrieving data for Almodôvar,Portugal: from 2025-06-25 to 2025-06-30\n",
      "Falhou Almodôvar,Portugal (3/3): 'ascii' codec can't encode character '\\xf4' in position 77: ordinal not in range(128)\n",
      "Desisti dessa cidade.\n"
     ]
    },
    {
     "name": "stderr",
     "output_type": "stream",
     "text": [
      "C:\\Users\\johns\\AppData\\Local\\Packages\\PythonSoftwareFoundation.Python.3.11_qbz5n2kfra8p0\\LocalCache\\local-packages\\Python311\\site-packages\\wwo_hist\\__init__.py:69: FutureWarning: Argument `closed` is deprecated in favor of `inclusive`.\n",
      "  list_mon_begin = pd.date_range(start_date, end_date, freq='MS', closed='right')\n",
      "C:\\Users\\johns\\AppData\\Local\\Packages\\PythonSoftwareFoundation.Python.3.11_qbz5n2kfra8p0\\LocalCache\\local-packages\\Python311\\site-packages\\wwo_hist\\__init__.py:74: FutureWarning: Argument `closed` is deprecated in favor of `inclusive`.\n",
      "  list_mon_end = pd.date_range(start_date, end_date, freq='M', closed='left')\n"
     ]
    },
    {
     "name": "stdout",
     "output_type": "stream",
     "text": [
      "\n",
      "\n",
      "Retrieving weather data for Alpiarça,Portugal\n",
      "\n",
      "\n",
      "Currently retrieving data for Alpiarça,Portugal: from 2025-06-25 to 2025-06-30\n",
      "Falhou Alpiarça,Portugal (1/3): 'ascii' codec can't encode character '\\xe7' in position 78: ordinal not in range(128)\n"
     ]
    },
    {
     "name": "stderr",
     "output_type": "stream",
     "text": [
      "C:\\Users\\johns\\AppData\\Local\\Packages\\PythonSoftwareFoundation.Python.3.11_qbz5n2kfra8p0\\LocalCache\\local-packages\\Python311\\site-packages\\wwo_hist\\__init__.py:69: FutureWarning: Argument `closed` is deprecated in favor of `inclusive`.\n",
      "  list_mon_begin = pd.date_range(start_date, end_date, freq='MS', closed='right')\n",
      "C:\\Users\\johns\\AppData\\Local\\Packages\\PythonSoftwareFoundation.Python.3.11_qbz5n2kfra8p0\\LocalCache\\local-packages\\Python311\\site-packages\\wwo_hist\\__init__.py:74: FutureWarning: Argument `closed` is deprecated in favor of `inclusive`.\n",
      "  list_mon_end = pd.date_range(start_date, end_date, freq='M', closed='left')\n"
     ]
    },
    {
     "name": "stdout",
     "output_type": "stream",
     "text": [
      "\n",
      "\n",
      "Retrieving weather data for Alpiarça,Portugal\n",
      "\n",
      "\n",
      "Currently retrieving data for Alpiarça,Portugal: from 2025-06-25 to 2025-06-30\n",
      "Falhou Alpiarça,Portugal (2/3): 'ascii' codec can't encode character '\\xe7' in position 78: ordinal not in range(128)\n"
     ]
    },
    {
     "name": "stderr",
     "output_type": "stream",
     "text": [
      "C:\\Users\\johns\\AppData\\Local\\Packages\\PythonSoftwareFoundation.Python.3.11_qbz5n2kfra8p0\\LocalCache\\local-packages\\Python311\\site-packages\\wwo_hist\\__init__.py:69: FutureWarning: Argument `closed` is deprecated in favor of `inclusive`.\n",
      "  list_mon_begin = pd.date_range(start_date, end_date, freq='MS', closed='right')\n",
      "C:\\Users\\johns\\AppData\\Local\\Packages\\PythonSoftwareFoundation.Python.3.11_qbz5n2kfra8p0\\LocalCache\\local-packages\\Python311\\site-packages\\wwo_hist\\__init__.py:74: FutureWarning: Argument `closed` is deprecated in favor of `inclusive`.\n",
      "  list_mon_end = pd.date_range(start_date, end_date, freq='M', closed='left')\n"
     ]
    },
    {
     "name": "stdout",
     "output_type": "stream",
     "text": [
      "\n",
      "\n",
      "Retrieving weather data for Alpiarça,Portugal\n",
      "\n",
      "\n",
      "Currently retrieving data for Alpiarça,Portugal: from 2025-06-25 to 2025-06-30\n",
      "Falhou Alpiarça,Portugal (3/3): 'ascii' codec can't encode character '\\xe7' in position 78: ordinal not in range(128)\n",
      "Desisti dessa cidade.\n"
     ]
    },
    {
     "name": "stderr",
     "output_type": "stream",
     "text": [
      "C:\\Users\\johns\\AppData\\Local\\Packages\\PythonSoftwareFoundation.Python.3.11_qbz5n2kfra8p0\\LocalCache\\local-packages\\Python311\\site-packages\\wwo_hist\\__init__.py:69: FutureWarning: Argument `closed` is deprecated in favor of `inclusive`.\n",
      "  list_mon_begin = pd.date_range(start_date, end_date, freq='MS', closed='right')\n",
      "C:\\Users\\johns\\AppData\\Local\\Packages\\PythonSoftwareFoundation.Python.3.11_qbz5n2kfra8p0\\LocalCache\\local-packages\\Python311\\site-packages\\wwo_hist\\__init__.py:74: FutureWarning: Argument `closed` is deprecated in favor of `inclusive`.\n",
      "  list_mon_end = pd.date_range(start_date, end_date, freq='M', closed='left')\n"
     ]
    },
    {
     "name": "stdout",
     "output_type": "stream",
     "text": [
      "\n",
      "\n",
      "Retrieving weather data for Alter+do+Chão,Portugal\n",
      "\n",
      "\n",
      "Currently retrieving data for Alter+do+Chão,Portugal: from 2025-06-25 to 2025-06-30\n",
      "Falhou Alter+do+Chão,Portugal (1/3): 'ascii' codec can't encode character '\\xe3' in position 83: ordinal not in range(128)\n"
     ]
    },
    {
     "name": "stderr",
     "output_type": "stream",
     "text": [
      "C:\\Users\\johns\\AppData\\Local\\Packages\\PythonSoftwareFoundation.Python.3.11_qbz5n2kfra8p0\\LocalCache\\local-packages\\Python311\\site-packages\\wwo_hist\\__init__.py:69: FutureWarning: Argument `closed` is deprecated in favor of `inclusive`.\n",
      "  list_mon_begin = pd.date_range(start_date, end_date, freq='MS', closed='right')\n",
      "C:\\Users\\johns\\AppData\\Local\\Packages\\PythonSoftwareFoundation.Python.3.11_qbz5n2kfra8p0\\LocalCache\\local-packages\\Python311\\site-packages\\wwo_hist\\__init__.py:74: FutureWarning: Argument `closed` is deprecated in favor of `inclusive`.\n",
      "  list_mon_end = pd.date_range(start_date, end_date, freq='M', closed='left')\n"
     ]
    },
    {
     "name": "stdout",
     "output_type": "stream",
     "text": [
      "\n",
      "\n",
      "Retrieving weather data for Alter+do+Chão,Portugal\n",
      "\n",
      "\n",
      "Currently retrieving data for Alter+do+Chão,Portugal: from 2025-06-25 to 2025-06-30\n",
      "Falhou Alter+do+Chão,Portugal (2/3): 'ascii' codec can't encode character '\\xe3' in position 83: ordinal not in range(128)\n"
     ]
    },
    {
     "name": "stderr",
     "output_type": "stream",
     "text": [
      "C:\\Users\\johns\\AppData\\Local\\Packages\\PythonSoftwareFoundation.Python.3.11_qbz5n2kfra8p0\\LocalCache\\local-packages\\Python311\\site-packages\\wwo_hist\\__init__.py:69: FutureWarning: Argument `closed` is deprecated in favor of `inclusive`.\n",
      "  list_mon_begin = pd.date_range(start_date, end_date, freq='MS', closed='right')\n",
      "C:\\Users\\johns\\AppData\\Local\\Packages\\PythonSoftwareFoundation.Python.3.11_qbz5n2kfra8p0\\LocalCache\\local-packages\\Python311\\site-packages\\wwo_hist\\__init__.py:74: FutureWarning: Argument `closed` is deprecated in favor of `inclusive`.\n",
      "  list_mon_end = pd.date_range(start_date, end_date, freq='M', closed='left')\n"
     ]
    },
    {
     "name": "stdout",
     "output_type": "stream",
     "text": [
      "\n",
      "\n",
      "Retrieving weather data for Alter+do+Chão,Portugal\n",
      "\n",
      "\n",
      "Currently retrieving data for Alter+do+Chão,Portugal: from 2025-06-25 to 2025-06-30\n",
      "Falhou Alter+do+Chão,Portugal (3/3): 'ascii' codec can't encode character '\\xe3' in position 83: ordinal not in range(128)\n",
      "Desisti dessa cidade.\n"
     ]
    },
    {
     "name": "stderr",
     "output_type": "stream",
     "text": [
      "C:\\Users\\johns\\AppData\\Local\\Packages\\PythonSoftwareFoundation.Python.3.11_qbz5n2kfra8p0\\LocalCache\\local-packages\\Python311\\site-packages\\wwo_hist\\__init__.py:69: FutureWarning: Argument `closed` is deprecated in favor of `inclusive`.\n",
      "  list_mon_begin = pd.date_range(start_date, end_date, freq='MS', closed='right')\n",
      "C:\\Users\\johns\\AppData\\Local\\Packages\\PythonSoftwareFoundation.Python.3.11_qbz5n2kfra8p0\\LocalCache\\local-packages\\Python311\\site-packages\\wwo_hist\\__init__.py:74: FutureWarning: Argument `closed` is deprecated in favor of `inclusive`.\n",
      "  list_mon_end = pd.date_range(start_date, end_date, freq='M', closed='left')\n"
     ]
    },
    {
     "name": "stdout",
     "output_type": "stream",
     "text": [
      "\n",
      "\n",
      "Retrieving weather data for Alvito,Portugal\n",
      "\n",
      "\n",
      "Currently retrieving data for Alvito,Portugal: from 2025-06-25 to 2025-06-30\n"
     ]
    },
    {
     "name": "stderr",
     "output_type": "stream",
     "text": [
      "C:\\Users\\johns\\AppData\\Local\\Packages\\PythonSoftwareFoundation.Python.3.11_qbz5n2kfra8p0\\LocalCache\\local-packages\\Python311\\site-packages\\wwo_hist\\__init__.py:69: FutureWarning: Argument `closed` is deprecated in favor of `inclusive`.\n",
      "  list_mon_begin = pd.date_range(start_date, end_date, freq='MS', closed='right')\n",
      "C:\\Users\\johns\\AppData\\Local\\Packages\\PythonSoftwareFoundation.Python.3.11_qbz5n2kfra8p0\\LocalCache\\local-packages\\Python311\\site-packages\\wwo_hist\\__init__.py:74: FutureWarning: Argument `closed` is deprecated in favor of `inclusive`.\n",
      "  list_mon_end = pd.date_range(start_date, end_date, freq='M', closed='left')\n"
     ]
    },
    {
     "name": "stdout",
     "output_type": "stream",
     "text": [
      "Time elapsed (hh:mm:ss.ms) 0:00:01.309039\n",
      "Currently retrieving data for Alvito,Portugal: from 2025-07-01 to 2025-07-01\n",
      "Time elapsed (hh:mm:ss.ms) 0:00:01.583511\n",
      "\n",
      "\n",
      "export Alvito,Portugal completed!\n",
      "\n",
      "\n",
      "Falhou Alvito,Portugal (1/3): [Errno 2] No such file or directory: 'c:\\\\Users\\\\johns\\\\Documents\\\\Projetos\\\\MPAlugueisLisboa\\\\Bases\\\\Clima\\\\worldWeatherApi\\\\..\\\\..\\\\Bases\\\\Clima\\\\worldWeatherApi\\\\Temporaria\\\\done.txt'\n",
      "\n",
      "\n",
      "Retrieving weather data for Alvito,Portugal\n",
      "\n",
      "\n",
      "Currently retrieving data for Alvito,Portugal: from 2025-06-25 to 2025-06-30\n",
      "Time elapsed (hh:mm:ss.ms) 0:00:00.157144\n",
      "Currently retrieving data for Alvito,Portugal: from 2025-07-01 to 2025-07-01\n"
     ]
    },
    {
     "name": "stderr",
     "output_type": "stream",
     "text": [
      "C:\\Users\\johns\\AppData\\Local\\Packages\\PythonSoftwareFoundation.Python.3.11_qbz5n2kfra8p0\\LocalCache\\local-packages\\Python311\\site-packages\\wwo_hist\\__init__.py:69: FutureWarning: Argument `closed` is deprecated in favor of `inclusive`.\n",
      "  list_mon_begin = pd.date_range(start_date, end_date, freq='MS', closed='right')\n",
      "C:\\Users\\johns\\AppData\\Local\\Packages\\PythonSoftwareFoundation.Python.3.11_qbz5n2kfra8p0\\LocalCache\\local-packages\\Python311\\site-packages\\wwo_hist\\__init__.py:74: FutureWarning: Argument `closed` is deprecated in favor of `inclusive`.\n",
      "  list_mon_end = pd.date_range(start_date, end_date, freq='M', closed='left')\n"
     ]
    },
    {
     "name": "stdout",
     "output_type": "stream",
     "text": [
      "Time elapsed (hh:mm:ss.ms) 0:00:00.247515\n",
      "\n",
      "\n",
      "export Alvito,Portugal completed!\n",
      "\n",
      "\n",
      "Falhou Alvito,Portugal (2/3): [Errno 2] No such file or directory: 'c:\\\\Users\\\\johns\\\\Documents\\\\Projetos\\\\MPAlugueisLisboa\\\\Bases\\\\Clima\\\\worldWeatherApi\\\\..\\\\..\\\\Bases\\\\Clima\\\\worldWeatherApi\\\\Temporaria\\\\done.txt'\n",
      "\n",
      "\n",
      "Retrieving weather data for Alvito,Portugal\n",
      "\n",
      "\n",
      "Currently retrieving data for Alvito,Portugal: from 2025-06-25 to 2025-06-30\n",
      "Time elapsed (hh:mm:ss.ms) 0:00:00.155226\n",
      "Currently retrieving data for Alvito,Portugal: from 2025-07-01 to 2025-07-01\n",
      "Time elapsed (hh:mm:ss.ms) 0:00:00.218549\n"
     ]
    },
    {
     "name": "stderr",
     "output_type": "stream",
     "text": [
      "C:\\Users\\johns\\AppData\\Local\\Packages\\PythonSoftwareFoundation.Python.3.11_qbz5n2kfra8p0\\LocalCache\\local-packages\\Python311\\site-packages\\wwo_hist\\__init__.py:69: FutureWarning: Argument `closed` is deprecated in favor of `inclusive`.\n",
      "  list_mon_begin = pd.date_range(start_date, end_date, freq='MS', closed='right')\n",
      "C:\\Users\\johns\\AppData\\Local\\Packages\\PythonSoftwareFoundation.Python.3.11_qbz5n2kfra8p0\\LocalCache\\local-packages\\Python311\\site-packages\\wwo_hist\\__init__.py:74: FutureWarning: Argument `closed` is deprecated in favor of `inclusive`.\n",
      "  list_mon_end = pd.date_range(start_date, end_date, freq='M', closed='left')\n"
     ]
    },
    {
     "name": "stdout",
     "output_type": "stream",
     "text": [
      "\n",
      "\n",
      "export Alvito,Portugal completed!\n",
      "\n",
      "\n",
      "Falhou Alvito,Portugal (3/3): [Errno 2] No such file or directory: 'c:\\\\Users\\\\johns\\\\Documents\\\\Projetos\\\\MPAlugueisLisboa\\\\Bases\\\\Clima\\\\worldWeatherApi\\\\..\\\\..\\\\Bases\\\\Clima\\\\worldWeatherApi\\\\Temporaria\\\\done.txt'\n",
      "Desisti dessa cidade.\n",
      "\n",
      "\n",
      "Retrieving weather data for Arraiolos,Portugal\n",
      "\n",
      "\n",
      "Currently retrieving data for Arraiolos,Portugal: from 2025-06-25 to 2025-06-30\n"
     ]
    },
    {
     "name": "stderr",
     "output_type": "stream",
     "text": [
      "C:\\Users\\johns\\AppData\\Local\\Packages\\PythonSoftwareFoundation.Python.3.11_qbz5n2kfra8p0\\LocalCache\\local-packages\\Python311\\site-packages\\wwo_hist\\__init__.py:69: FutureWarning: Argument `closed` is deprecated in favor of `inclusive`.\n",
      "  list_mon_begin = pd.date_range(start_date, end_date, freq='MS', closed='right')\n",
      "C:\\Users\\johns\\AppData\\Local\\Packages\\PythonSoftwareFoundation.Python.3.11_qbz5n2kfra8p0\\LocalCache\\local-packages\\Python311\\site-packages\\wwo_hist\\__init__.py:74: FutureWarning: Argument `closed` is deprecated in favor of `inclusive`.\n",
      "  list_mon_end = pd.date_range(start_date, end_date, freq='M', closed='left')\n"
     ]
    },
    {
     "name": "stdout",
     "output_type": "stream",
     "text": [
      "Time elapsed (hh:mm:ss.ms) 0:00:00.374000\n",
      "Currently retrieving data for Arraiolos,Portugal: from 2025-07-01 to 2025-07-01\n",
      "Time elapsed (hh:mm:ss.ms) 0:00:00.645443\n",
      "\n",
      "\n",
      "export Arraiolos,Portugal completed!\n",
      "\n",
      "\n",
      "Falhou Arraiolos,Portugal (1/3): [Errno 2] No such file or directory: 'c:\\\\Users\\\\johns\\\\Documents\\\\Projetos\\\\MPAlugueisLisboa\\\\Bases\\\\Clima\\\\worldWeatherApi\\\\..\\\\..\\\\Bases\\\\Clima\\\\worldWeatherApi\\\\Temporaria\\\\done.txt'\n",
      "\n",
      "\n",
      "Retrieving weather data for Arraiolos,Portugal\n",
      "\n",
      "\n",
      "Currently retrieving data for Arraiolos,Portugal: from 2025-06-25 to 2025-06-30\n",
      "Time elapsed (hh:mm:ss.ms) 0:00:00.166283\n",
      "Currently retrieving data for Arraiolos,Portugal: from 2025-07-01 to 2025-07-01\n"
     ]
    },
    {
     "name": "stderr",
     "output_type": "stream",
     "text": [
      "C:\\Users\\johns\\AppData\\Local\\Packages\\PythonSoftwareFoundation.Python.3.11_qbz5n2kfra8p0\\LocalCache\\local-packages\\Python311\\site-packages\\wwo_hist\\__init__.py:69: FutureWarning: Argument `closed` is deprecated in favor of `inclusive`.\n",
      "  list_mon_begin = pd.date_range(start_date, end_date, freq='MS', closed='right')\n",
      "C:\\Users\\johns\\AppData\\Local\\Packages\\PythonSoftwareFoundation.Python.3.11_qbz5n2kfra8p0\\LocalCache\\local-packages\\Python311\\site-packages\\wwo_hist\\__init__.py:74: FutureWarning: Argument `closed` is deprecated in favor of `inclusive`.\n",
      "  list_mon_end = pd.date_range(start_date, end_date, freq='M', closed='left')\n"
     ]
    },
    {
     "name": "stdout",
     "output_type": "stream",
     "text": [
      "Time elapsed (hh:mm:ss.ms) 0:00:00.251354\n",
      "\n",
      "\n",
      "export Arraiolos,Portugal completed!\n",
      "\n",
      "\n",
      "Falhou Arraiolos,Portugal (2/3): [Errno 2] No such file or directory: 'c:\\\\Users\\\\johns\\\\Documents\\\\Projetos\\\\MPAlugueisLisboa\\\\Bases\\\\Clima\\\\worldWeatherApi\\\\..\\\\..\\\\Bases\\\\Clima\\\\worldWeatherApi\\\\Temporaria\\\\done.txt'\n",
      "\n",
      "\n",
      "Retrieving weather data for Arraiolos,Portugal\n",
      "\n",
      "\n",
      "Currently retrieving data for Arraiolos,Portugal: from 2025-06-25 to 2025-06-30\n",
      "Time elapsed (hh:mm:ss.ms) 0:00:00.175841\n",
      "Currently retrieving data for Arraiolos,Portugal: from 2025-07-01 to 2025-07-01\n"
     ]
    },
    {
     "name": "stderr",
     "output_type": "stream",
     "text": [
      "C:\\Users\\johns\\AppData\\Local\\Packages\\PythonSoftwareFoundation.Python.3.11_qbz5n2kfra8p0\\LocalCache\\local-packages\\Python311\\site-packages\\wwo_hist\\__init__.py:69: FutureWarning: Argument `closed` is deprecated in favor of `inclusive`.\n",
      "  list_mon_begin = pd.date_range(start_date, end_date, freq='MS', closed='right')\n",
      "C:\\Users\\johns\\AppData\\Local\\Packages\\PythonSoftwareFoundation.Python.3.11_qbz5n2kfra8p0\\LocalCache\\local-packages\\Python311\\site-packages\\wwo_hist\\__init__.py:74: FutureWarning: Argument `closed` is deprecated in favor of `inclusive`.\n",
      "  list_mon_end = pd.date_range(start_date, end_date, freq='M', closed='left')\n"
     ]
    },
    {
     "name": "stdout",
     "output_type": "stream",
     "text": [
      "Time elapsed (hh:mm:ss.ms) 0:00:00.257388\n",
      "\n",
      "\n",
      "export Arraiolos,Portugal completed!\n",
      "\n",
      "\n",
      "Falhou Arraiolos,Portugal (3/3): [Errno 2] No such file or directory: 'c:\\\\Users\\\\johns\\\\Documents\\\\Projetos\\\\MPAlugueisLisboa\\\\Bases\\\\Clima\\\\worldWeatherApi\\\\..\\\\..\\\\Bases\\\\Clima\\\\worldWeatherApi\\\\Temporaria\\\\done.txt'\n",
      "Desisti dessa cidade.\n",
      "\n",
      "\n",
      "Retrieving weather data for Arronches,Portugal\n",
      "\n",
      "\n",
      "Currently retrieving data for Arronches,Portugal: from 2025-06-25 to 2025-06-30\n"
     ]
    },
    {
     "name": "stderr",
     "output_type": "stream",
     "text": [
      "C:\\Users\\johns\\AppData\\Local\\Packages\\PythonSoftwareFoundation.Python.3.11_qbz5n2kfra8p0\\LocalCache\\local-packages\\Python311\\site-packages\\wwo_hist\\__init__.py:69: FutureWarning: Argument `closed` is deprecated in favor of `inclusive`.\n",
      "  list_mon_begin = pd.date_range(start_date, end_date, freq='MS', closed='right')\n",
      "C:\\Users\\johns\\AppData\\Local\\Packages\\PythonSoftwareFoundation.Python.3.11_qbz5n2kfra8p0\\LocalCache\\local-packages\\Python311\\site-packages\\wwo_hist\\__init__.py:74: FutureWarning: Argument `closed` is deprecated in favor of `inclusive`.\n",
      "  list_mon_end = pd.date_range(start_date, end_date, freq='M', closed='left')\n"
     ]
    },
    {
     "name": "stdout",
     "output_type": "stream",
     "text": [
      "Time elapsed (hh:mm:ss.ms) 0:00:00.389190\n",
      "Currently retrieving data for Arronches,Portugal: from 2025-07-01 to 2025-07-01\n",
      "Time elapsed (hh:mm:ss.ms) 0:00:00.840651\n",
      "\n",
      "\n",
      "export Arronches,Portugal completed!\n",
      "\n",
      "\n",
      "Falhou Arronches,Portugal (1/3): [Errno 2] No such file or directory: 'c:\\\\Users\\\\johns\\\\Documents\\\\Projetos\\\\MPAlugueisLisboa\\\\Bases\\\\Clima\\\\worldWeatherApi\\\\..\\\\..\\\\Bases\\\\Clima\\\\worldWeatherApi\\\\Temporaria\\\\done.txt'\n",
      "\n",
      "\n",
      "Retrieving weather data for Arronches,Portugal\n",
      "\n",
      "\n",
      "Currently retrieving data for Arronches,Portugal: from 2025-06-25 to 2025-06-30\n",
      "Time elapsed (hh:mm:ss.ms) 0:00:00.194647\n",
      "Currently retrieving data for Arronches,Portugal: from 2025-07-01 to 2025-07-01\n"
     ]
    },
    {
     "name": "stderr",
     "output_type": "stream",
     "text": [
      "C:\\Users\\johns\\AppData\\Local\\Packages\\PythonSoftwareFoundation.Python.3.11_qbz5n2kfra8p0\\LocalCache\\local-packages\\Python311\\site-packages\\wwo_hist\\__init__.py:69: FutureWarning: Argument `closed` is deprecated in favor of `inclusive`.\n",
      "  list_mon_begin = pd.date_range(start_date, end_date, freq='MS', closed='right')\n",
      "C:\\Users\\johns\\AppData\\Local\\Packages\\PythonSoftwareFoundation.Python.3.11_qbz5n2kfra8p0\\LocalCache\\local-packages\\Python311\\site-packages\\wwo_hist\\__init__.py:74: FutureWarning: Argument `closed` is deprecated in favor of `inclusive`.\n",
      "  list_mon_end = pd.date_range(start_date, end_date, freq='M', closed='left')\n"
     ]
    },
    {
     "name": "stdout",
     "output_type": "stream",
     "text": [
      "Time elapsed (hh:mm:ss.ms) 0:00:00.258751\n",
      "\n",
      "\n",
      "export Arronches,Portugal completed!\n",
      "\n",
      "\n",
      "Falhou Arronches,Portugal (2/3): [Errno 2] No such file or directory: 'c:\\\\Users\\\\johns\\\\Documents\\\\Projetos\\\\MPAlugueisLisboa\\\\Bases\\\\Clima\\\\worldWeatherApi\\\\..\\\\..\\\\Bases\\\\Clima\\\\worldWeatherApi\\\\Temporaria\\\\done.txt'\n",
      "\n",
      "\n",
      "Retrieving weather data for Arronches,Portugal\n",
      "\n",
      "\n",
      "Currently retrieving data for Arronches,Portugal: from 2025-06-25 to 2025-06-30\n",
      "Time elapsed (hh:mm:ss.ms) 0:00:00.152835\n",
      "Currently retrieving data for Arronches,Portugal: from 2025-07-01 to 2025-07-01\n"
     ]
    },
    {
     "name": "stderr",
     "output_type": "stream",
     "text": [
      "C:\\Users\\johns\\AppData\\Local\\Packages\\PythonSoftwareFoundation.Python.3.11_qbz5n2kfra8p0\\LocalCache\\local-packages\\Python311\\site-packages\\wwo_hist\\__init__.py:69: FutureWarning: Argument `closed` is deprecated in favor of `inclusive`.\n",
      "  list_mon_begin = pd.date_range(start_date, end_date, freq='MS', closed='right')\n",
      "C:\\Users\\johns\\AppData\\Local\\Packages\\PythonSoftwareFoundation.Python.3.11_qbz5n2kfra8p0\\LocalCache\\local-packages\\Python311\\site-packages\\wwo_hist\\__init__.py:74: FutureWarning: Argument `closed` is deprecated in favor of `inclusive`.\n",
      "  list_mon_end = pd.date_range(start_date, end_date, freq='M', closed='left')\n"
     ]
    },
    {
     "name": "stdout",
     "output_type": "stream",
     "text": [
      "Time elapsed (hh:mm:ss.ms) 0:00:00.238525\n",
      "\n",
      "\n",
      "export Arronches,Portugal completed!\n",
      "\n",
      "\n",
      "Falhou Arronches,Portugal (3/3): [Errno 2] No such file or directory: 'c:\\\\Users\\\\johns\\\\Documents\\\\Projetos\\\\MPAlugueisLisboa\\\\Bases\\\\Clima\\\\worldWeatherApi\\\\..\\\\..\\\\Bases\\\\Clima\\\\worldWeatherApi\\\\Temporaria\\\\done.txt'\n",
      "Desisti dessa cidade.\n",
      "\n",
      "\n",
      "Retrieving weather data for Avis,Portugal\n",
      "\n",
      "\n",
      "Currently retrieving data for Avis,Portugal: from 2025-06-25 to 2025-06-30\n"
     ]
    },
    {
     "name": "stderr",
     "output_type": "stream",
     "text": [
      "C:\\Users\\johns\\AppData\\Local\\Packages\\PythonSoftwareFoundation.Python.3.11_qbz5n2kfra8p0\\LocalCache\\local-packages\\Python311\\site-packages\\wwo_hist\\__init__.py:69: FutureWarning: Argument `closed` is deprecated in favor of `inclusive`.\n",
      "  list_mon_begin = pd.date_range(start_date, end_date, freq='MS', closed='right')\n",
      "C:\\Users\\johns\\AppData\\Local\\Packages\\PythonSoftwareFoundation.Python.3.11_qbz5n2kfra8p0\\LocalCache\\local-packages\\Python311\\site-packages\\wwo_hist\\__init__.py:74: FutureWarning: Argument `closed` is deprecated in favor of `inclusive`.\n",
      "  list_mon_end = pd.date_range(start_date, end_date, freq='M', closed='left')\n"
     ]
    },
    {
     "name": "stdout",
     "output_type": "stream",
     "text": [
      "Time elapsed (hh:mm:ss.ms) 0:00:00.337006\n",
      "Currently retrieving data for Avis,Portugal: from 2025-07-01 to 2025-07-01\n",
      "Time elapsed (hh:mm:ss.ms) 0:00:00.616947\n",
      "\n",
      "\n",
      "export Avis,Portugal completed!\n",
      "\n",
      "\n",
      "Falhou Avis,Portugal (1/3): [Errno 2] No such file or directory: 'c:\\\\Users\\\\johns\\\\Documents\\\\Projetos\\\\MPAlugueisLisboa\\\\Bases\\\\Clima\\\\worldWeatherApi\\\\..\\\\..\\\\Bases\\\\Clima\\\\worldWeatherApi\\\\Temporaria\\\\done.txt'\n",
      "\n",
      "\n",
      "Retrieving weather data for Avis,Portugal\n",
      "\n",
      "\n",
      "Currently retrieving data for Avis,Portugal: from 2025-06-25 to 2025-06-30\n",
      "Time elapsed (hh:mm:ss.ms) 0:00:00.140302\n",
      "Currently retrieving data for Avis,Portugal: from 2025-07-01 to 2025-07-01\n",
      "Time elapsed (hh:mm:ss.ms) 0:00:00.213244\n",
      "\n",
      "\n",
      "export Avis,Portugal completed!\n",
      "\n",
      "\n",
      "Falhou Avis,Portugal (2/3): [Errno 2] No such file or directory: 'c:\\\\Users\\\\johns\\\\Documents\\\\Projetos\\\\MPAlugueisLisboa\\\\Bases\\\\Clima\\\\worldWeatherApi\\\\..\\\\..\\\\Bases\\\\Clima\\\\worldWeatherApi\\\\Temporaria\\\\done.txt'\n"
     ]
    },
    {
     "name": "stderr",
     "output_type": "stream",
     "text": [
      "C:\\Users\\johns\\AppData\\Local\\Packages\\PythonSoftwareFoundation.Python.3.11_qbz5n2kfra8p0\\LocalCache\\local-packages\\Python311\\site-packages\\wwo_hist\\__init__.py:69: FutureWarning: Argument `closed` is deprecated in favor of `inclusive`.\n",
      "  list_mon_begin = pd.date_range(start_date, end_date, freq='MS', closed='right')\n",
      "C:\\Users\\johns\\AppData\\Local\\Packages\\PythonSoftwareFoundation.Python.3.11_qbz5n2kfra8p0\\LocalCache\\local-packages\\Python311\\site-packages\\wwo_hist\\__init__.py:74: FutureWarning: Argument `closed` is deprecated in favor of `inclusive`.\n",
      "  list_mon_end = pd.date_range(start_date, end_date, freq='M', closed='left')\n"
     ]
    },
    {
     "name": "stdout",
     "output_type": "stream",
     "text": [
      "\n",
      "\n",
      "Retrieving weather data for Avis,Portugal\n",
      "\n",
      "\n",
      "Currently retrieving data for Avis,Portugal: from 2025-06-25 to 2025-06-30\n",
      "Time elapsed (hh:mm:ss.ms) 0:00:00.154045\n",
      "Currently retrieving data for Avis,Portugal: from 2025-07-01 to 2025-07-01\n",
      "Time elapsed (hh:mm:ss.ms) 0:00:00.217441\n"
     ]
    },
    {
     "name": "stderr",
     "output_type": "stream",
     "text": [
      "C:\\Users\\johns\\AppData\\Local\\Packages\\PythonSoftwareFoundation.Python.3.11_qbz5n2kfra8p0\\LocalCache\\local-packages\\Python311\\site-packages\\wwo_hist\\__init__.py:69: FutureWarning: Argument `closed` is deprecated in favor of `inclusive`.\n",
      "  list_mon_begin = pd.date_range(start_date, end_date, freq='MS', closed='right')\n",
      "C:\\Users\\johns\\AppData\\Local\\Packages\\PythonSoftwareFoundation.Python.3.11_qbz5n2kfra8p0\\LocalCache\\local-packages\\Python311\\site-packages\\wwo_hist\\__init__.py:74: FutureWarning: Argument `closed` is deprecated in favor of `inclusive`.\n",
      "  list_mon_end = pd.date_range(start_date, end_date, freq='M', closed='left')\n"
     ]
    },
    {
     "name": "stdout",
     "output_type": "stream",
     "text": [
      "\n",
      "\n",
      "export Avis,Portugal completed!\n",
      "\n",
      "\n",
      "Falhou Avis,Portugal (3/3): [Errno 2] No such file or directory: 'c:\\\\Users\\\\johns\\\\Documents\\\\Projetos\\\\MPAlugueisLisboa\\\\Bases\\\\Clima\\\\worldWeatherApi\\\\..\\\\..\\\\Bases\\\\Clima\\\\worldWeatherApi\\\\Temporaria\\\\done.txt'\n",
      "Desisti dessa cidade.\n",
      "\n",
      "\n",
      "Retrieving weather data for Azambuja,Portugal\n",
      "\n",
      "\n",
      "Currently retrieving data for Azambuja,Portugal: from 2025-06-25 to 2025-06-30\n"
     ]
    },
    {
     "name": "stderr",
     "output_type": "stream",
     "text": [
      "C:\\Users\\johns\\AppData\\Local\\Packages\\PythonSoftwareFoundation.Python.3.11_qbz5n2kfra8p0\\LocalCache\\local-packages\\Python311\\site-packages\\wwo_hist\\__init__.py:69: FutureWarning: Argument `closed` is deprecated in favor of `inclusive`.\n",
      "  list_mon_begin = pd.date_range(start_date, end_date, freq='MS', closed='right')\n",
      "C:\\Users\\johns\\AppData\\Local\\Packages\\PythonSoftwareFoundation.Python.3.11_qbz5n2kfra8p0\\LocalCache\\local-packages\\Python311\\site-packages\\wwo_hist\\__init__.py:74: FutureWarning: Argument `closed` is deprecated in favor of `inclusive`.\n",
      "  list_mon_end = pd.date_range(start_date, end_date, freq='M', closed='left')\n"
     ]
    },
    {
     "name": "stdout",
     "output_type": "stream",
     "text": [
      "Time elapsed (hh:mm:ss.ms) 0:00:00.707502\n",
      "Currently retrieving data for Azambuja,Portugal: from 2025-07-01 to 2025-07-01\n",
      "Time elapsed (hh:mm:ss.ms) 0:00:00.971040\n",
      "\n",
      "\n",
      "export Azambuja,Portugal completed!\n",
      "\n",
      "\n",
      "Falhou Azambuja,Portugal (1/3): [Errno 2] No such file or directory: 'c:\\\\Users\\\\johns\\\\Documents\\\\Projetos\\\\MPAlugueisLisboa\\\\Bases\\\\Clima\\\\worldWeatherApi\\\\..\\\\..\\\\Bases\\\\Clima\\\\worldWeatherApi\\\\Temporaria\\\\done.txt'\n",
      "\n",
      "\n",
      "Retrieving weather data for Azambuja,Portugal\n",
      "\n",
      "\n",
      "Currently retrieving data for Azambuja,Portugal: from 2025-06-25 to 2025-06-30\n",
      "Time elapsed (hh:mm:ss.ms) 0:00:00.149404\n",
      "Currently retrieving data for Azambuja,Portugal: from 2025-07-01 to 2025-07-01\n"
     ]
    },
    {
     "name": "stderr",
     "output_type": "stream",
     "text": [
      "C:\\Users\\johns\\AppData\\Local\\Packages\\PythonSoftwareFoundation.Python.3.11_qbz5n2kfra8p0\\LocalCache\\local-packages\\Python311\\site-packages\\wwo_hist\\__init__.py:69: FutureWarning: Argument `closed` is deprecated in favor of `inclusive`.\n",
      "  list_mon_begin = pd.date_range(start_date, end_date, freq='MS', closed='right')\n",
      "C:\\Users\\johns\\AppData\\Local\\Packages\\PythonSoftwareFoundation.Python.3.11_qbz5n2kfra8p0\\LocalCache\\local-packages\\Python311\\site-packages\\wwo_hist\\__init__.py:74: FutureWarning: Argument `closed` is deprecated in favor of `inclusive`.\n",
      "  list_mon_end = pd.date_range(start_date, end_date, freq='M', closed='left')\n"
     ]
    },
    {
     "name": "stdout",
     "output_type": "stream",
     "text": [
      "Time elapsed (hh:mm:ss.ms) 0:00:00.221287\n",
      "\n",
      "\n",
      "export Azambuja,Portugal completed!\n",
      "\n",
      "\n",
      "Falhou Azambuja,Portugal (2/3): [Errno 2] No such file or directory: 'c:\\\\Users\\\\johns\\\\Documents\\\\Projetos\\\\MPAlugueisLisboa\\\\Bases\\\\Clima\\\\worldWeatherApi\\\\..\\\\..\\\\Bases\\\\Clima\\\\worldWeatherApi\\\\Temporaria\\\\done.txt'\n",
      "\n",
      "\n",
      "Retrieving weather data for Azambuja,Portugal\n",
      "\n",
      "\n",
      "Currently retrieving data for Azambuja,Portugal: from 2025-06-25 to 2025-06-30\n",
      "Time elapsed (hh:mm:ss.ms) 0:00:00.202720\n",
      "Currently retrieving data for Azambuja,Portugal: from 2025-07-01 to 2025-07-01\n"
     ]
    },
    {
     "name": "stderr",
     "output_type": "stream",
     "text": [
      "C:\\Users\\johns\\AppData\\Local\\Packages\\PythonSoftwareFoundation.Python.3.11_qbz5n2kfra8p0\\LocalCache\\local-packages\\Python311\\site-packages\\wwo_hist\\__init__.py:69: FutureWarning: Argument `closed` is deprecated in favor of `inclusive`.\n",
      "  list_mon_begin = pd.date_range(start_date, end_date, freq='MS', closed='right')\n",
      "C:\\Users\\johns\\AppData\\Local\\Packages\\PythonSoftwareFoundation.Python.3.11_qbz5n2kfra8p0\\LocalCache\\local-packages\\Python311\\site-packages\\wwo_hist\\__init__.py:74: FutureWarning: Argument `closed` is deprecated in favor of `inclusive`.\n",
      "  list_mon_end = pd.date_range(start_date, end_date, freq='M', closed='left')\n"
     ]
    },
    {
     "name": "stdout",
     "output_type": "stream",
     "text": [
      "Time elapsed (hh:mm:ss.ms) 0:00:00.278983\n",
      "\n",
      "\n",
      "export Azambuja,Portugal completed!\n",
      "\n",
      "\n",
      "Falhou Azambuja,Portugal (3/3): [Errno 2] No such file or directory: 'c:\\\\Users\\\\johns\\\\Documents\\\\Projetos\\\\MPAlugueisLisboa\\\\Bases\\\\Clima\\\\worldWeatherApi\\\\..\\\\..\\\\Bases\\\\Clima\\\\worldWeatherApi\\\\Temporaria\\\\done.txt'\n",
      "Desisti dessa cidade.\n",
      "\n",
      "\n",
      "Retrieving weather data for Barrancos,Portugal\n",
      "\n",
      "\n",
      "Currently retrieving data for Barrancos,Portugal: from 2025-06-25 to 2025-06-30\n"
     ]
    },
    {
     "name": "stderr",
     "output_type": "stream",
     "text": [
      "C:\\Users\\johns\\AppData\\Local\\Packages\\PythonSoftwareFoundation.Python.3.11_qbz5n2kfra8p0\\LocalCache\\local-packages\\Python311\\site-packages\\wwo_hist\\__init__.py:69: FutureWarning: Argument `closed` is deprecated in favor of `inclusive`.\n",
      "  list_mon_begin = pd.date_range(start_date, end_date, freq='MS', closed='right')\n",
      "C:\\Users\\johns\\AppData\\Local\\Packages\\PythonSoftwareFoundation.Python.3.11_qbz5n2kfra8p0\\LocalCache\\local-packages\\Python311\\site-packages\\wwo_hist\\__init__.py:74: FutureWarning: Argument `closed` is deprecated in favor of `inclusive`.\n",
      "  list_mon_end = pd.date_range(start_date, end_date, freq='M', closed='left')\n"
     ]
    },
    {
     "name": "stdout",
     "output_type": "stream",
     "text": [
      "Time elapsed (hh:mm:ss.ms) 0:00:00.360176\n",
      "Currently retrieving data for Barrancos,Portugal: from 2025-07-01 to 2025-07-01\n",
      "Time elapsed (hh:mm:ss.ms) 0:00:00.618658\n",
      "\n",
      "\n",
      "export Barrancos,Portugal completed!\n",
      "\n",
      "\n",
      "Falhou Barrancos,Portugal (1/3): [Errno 2] No such file or directory: 'c:\\\\Users\\\\johns\\\\Documents\\\\Projetos\\\\MPAlugueisLisboa\\\\Bases\\\\Clima\\\\worldWeatherApi\\\\..\\\\..\\\\Bases\\\\Clima\\\\worldWeatherApi\\\\Temporaria\\\\done.txt'\n",
      "\n",
      "\n",
      "Retrieving weather data for Barrancos,Portugal\n",
      "\n",
      "\n",
      "Currently retrieving data for Barrancos,Portugal: from 2025-06-25 to 2025-06-30\n",
      "Time elapsed (hh:mm:ss.ms) 0:00:00.188358\n",
      "Currently retrieving data for Barrancos,Portugal: from 2025-07-01 to 2025-07-01\n"
     ]
    },
    {
     "name": "stderr",
     "output_type": "stream",
     "text": [
      "C:\\Users\\johns\\AppData\\Local\\Packages\\PythonSoftwareFoundation.Python.3.11_qbz5n2kfra8p0\\LocalCache\\local-packages\\Python311\\site-packages\\wwo_hist\\__init__.py:69: FutureWarning: Argument `closed` is deprecated in favor of `inclusive`.\n",
      "  list_mon_begin = pd.date_range(start_date, end_date, freq='MS', closed='right')\n",
      "C:\\Users\\johns\\AppData\\Local\\Packages\\PythonSoftwareFoundation.Python.3.11_qbz5n2kfra8p0\\LocalCache\\local-packages\\Python311\\site-packages\\wwo_hist\\__init__.py:74: FutureWarning: Argument `closed` is deprecated in favor of `inclusive`.\n",
      "  list_mon_end = pd.date_range(start_date, end_date, freq='M', closed='left')\n"
     ]
    },
    {
     "name": "stdout",
     "output_type": "stream",
     "text": [
      "Time elapsed (hh:mm:ss.ms) 0:00:00.252613\n",
      "\n",
      "\n",
      "export Barrancos,Portugal completed!\n",
      "\n",
      "\n",
      "Falhou Barrancos,Portugal (2/3): [Errno 2] No such file or directory: 'c:\\\\Users\\\\johns\\\\Documents\\\\Projetos\\\\MPAlugueisLisboa\\\\Bases\\\\Clima\\\\worldWeatherApi\\\\..\\\\..\\\\Bases\\\\Clima\\\\worldWeatherApi\\\\Temporaria\\\\done.txt'\n",
      "\n",
      "\n",
      "Retrieving weather data for Barrancos,Portugal\n",
      "\n",
      "\n",
      "Currently retrieving data for Barrancos,Portugal: from 2025-06-25 to 2025-06-30\n",
      "Time elapsed (hh:mm:ss.ms) 0:00:00.193844\n",
      "Currently retrieving data for Barrancos,Portugal: from 2025-07-01 to 2025-07-01\n"
     ]
    },
    {
     "name": "stderr",
     "output_type": "stream",
     "text": [
      "C:\\Users\\johns\\AppData\\Local\\Packages\\PythonSoftwareFoundation.Python.3.11_qbz5n2kfra8p0\\LocalCache\\local-packages\\Python311\\site-packages\\wwo_hist\\__init__.py:69: FutureWarning: Argument `closed` is deprecated in favor of `inclusive`.\n",
      "  list_mon_begin = pd.date_range(start_date, end_date, freq='MS', closed='right')\n",
      "C:\\Users\\johns\\AppData\\Local\\Packages\\PythonSoftwareFoundation.Python.3.11_qbz5n2kfra8p0\\LocalCache\\local-packages\\Python311\\site-packages\\wwo_hist\\__init__.py:74: FutureWarning: Argument `closed` is deprecated in favor of `inclusive`.\n",
      "  list_mon_end = pd.date_range(start_date, end_date, freq='M', closed='left')\n"
     ]
    },
    {
     "name": "stdout",
     "output_type": "stream",
     "text": [
      "Time elapsed (hh:mm:ss.ms) 0:00:00.272893\n",
      "\n",
      "\n",
      "export Barrancos,Portugal completed!\n",
      "\n",
      "\n",
      "Falhou Barrancos,Portugal (3/3): [Errno 2] No such file or directory: 'c:\\\\Users\\\\johns\\\\Documents\\\\Projetos\\\\MPAlugueisLisboa\\\\Bases\\\\Clima\\\\worldWeatherApi\\\\..\\\\..\\\\Bases\\\\Clima\\\\worldWeatherApi\\\\Temporaria\\\\done.txt'\n",
      "Desisti dessa cidade.\n",
      "\n",
      "\n",
      "Retrieving weather data for Beja,Portugal\n",
      "\n",
      "\n",
      "Currently retrieving data for Beja,Portugal: from 2025-06-25 to 2025-06-30\n"
     ]
    },
    {
     "name": "stderr",
     "output_type": "stream",
     "text": [
      "C:\\Users\\johns\\AppData\\Local\\Packages\\PythonSoftwareFoundation.Python.3.11_qbz5n2kfra8p0\\LocalCache\\local-packages\\Python311\\site-packages\\wwo_hist\\__init__.py:69: FutureWarning: Argument `closed` is deprecated in favor of `inclusive`.\n",
      "  list_mon_begin = pd.date_range(start_date, end_date, freq='MS', closed='right')\n",
      "C:\\Users\\johns\\AppData\\Local\\Packages\\PythonSoftwareFoundation.Python.3.11_qbz5n2kfra8p0\\LocalCache\\local-packages\\Python311\\site-packages\\wwo_hist\\__init__.py:74: FutureWarning: Argument `closed` is deprecated in favor of `inclusive`.\n",
      "  list_mon_end = pd.date_range(start_date, end_date, freq='M', closed='left')\n"
     ]
    },
    {
     "name": "stdout",
     "output_type": "stream",
     "text": [
      "Time elapsed (hh:mm:ss.ms) 0:00:00.355018\n",
      "Currently retrieving data for Beja,Portugal: from 2025-07-01 to 2025-07-01\n",
      "Time elapsed (hh:mm:ss.ms) 0:00:00.626553\n",
      "\n",
      "\n",
      "export Beja,Portugal completed!\n",
      "\n",
      "\n",
      "Falhou Beja,Portugal (1/3): [Errno 2] No such file or directory: 'c:\\\\Users\\\\johns\\\\Documents\\\\Projetos\\\\MPAlugueisLisboa\\\\Bases\\\\Clima\\\\worldWeatherApi\\\\..\\\\..\\\\Bases\\\\Clima\\\\worldWeatherApi\\\\Temporaria\\\\done.txt'\n",
      "\n",
      "\n",
      "Retrieving weather data for Beja,Portugal\n",
      "\n",
      "\n",
      "Currently retrieving data for Beja,Portugal: from 2025-06-25 to 2025-06-30\n",
      "Time elapsed (hh:mm:ss.ms) 0:00:00.183690\n",
      "Currently retrieving data for Beja,Portugal: from 2025-07-01 to 2025-07-01\n"
     ]
    },
    {
     "name": "stderr",
     "output_type": "stream",
     "text": [
      "C:\\Users\\johns\\AppData\\Local\\Packages\\PythonSoftwareFoundation.Python.3.11_qbz5n2kfra8p0\\LocalCache\\local-packages\\Python311\\site-packages\\wwo_hist\\__init__.py:69: FutureWarning: Argument `closed` is deprecated in favor of `inclusive`.\n",
      "  list_mon_begin = pd.date_range(start_date, end_date, freq='MS', closed='right')\n",
      "C:\\Users\\johns\\AppData\\Local\\Packages\\PythonSoftwareFoundation.Python.3.11_qbz5n2kfra8p0\\LocalCache\\local-packages\\Python311\\site-packages\\wwo_hist\\__init__.py:74: FutureWarning: Argument `closed` is deprecated in favor of `inclusive`.\n",
      "  list_mon_end = pd.date_range(start_date, end_date, freq='M', closed='left')\n"
     ]
    },
    {
     "name": "stdout",
     "output_type": "stream",
     "text": [
      "Time elapsed (hh:mm:ss.ms) 0:00:00.265385\n",
      "\n",
      "\n",
      "export Beja,Portugal completed!\n",
      "\n",
      "\n",
      "Falhou Beja,Portugal (2/3): [Errno 2] No such file or directory: 'c:\\\\Users\\\\johns\\\\Documents\\\\Projetos\\\\MPAlugueisLisboa\\\\Bases\\\\Clima\\\\worldWeatherApi\\\\..\\\\..\\\\Bases\\\\Clima\\\\worldWeatherApi\\\\Temporaria\\\\done.txt'\n",
      "\n",
      "\n",
      "Retrieving weather data for Beja,Portugal\n",
      "\n",
      "\n",
      "Currently retrieving data for Beja,Portugal: from 2025-06-25 to 2025-06-30\n",
      "Time elapsed (hh:mm:ss.ms) 0:00:00.155270\n",
      "Currently retrieving data for Beja,Portugal: from 2025-07-01 to 2025-07-01\n"
     ]
    },
    {
     "name": "stderr",
     "output_type": "stream",
     "text": [
      "C:\\Users\\johns\\AppData\\Local\\Packages\\PythonSoftwareFoundation.Python.3.11_qbz5n2kfra8p0\\LocalCache\\local-packages\\Python311\\site-packages\\wwo_hist\\__init__.py:69: FutureWarning: Argument `closed` is deprecated in favor of `inclusive`.\n",
      "  list_mon_begin = pd.date_range(start_date, end_date, freq='MS', closed='right')\n",
      "C:\\Users\\johns\\AppData\\Local\\Packages\\PythonSoftwareFoundation.Python.3.11_qbz5n2kfra8p0\\LocalCache\\local-packages\\Python311\\site-packages\\wwo_hist\\__init__.py:74: FutureWarning: Argument `closed` is deprecated in favor of `inclusive`.\n",
      "  list_mon_end = pd.date_range(start_date, end_date, freq='M', closed='left')\n"
     ]
    },
    {
     "name": "stdout",
     "output_type": "stream",
     "text": [
      "Time elapsed (hh:mm:ss.ms) 0:00:00.220192\n",
      "\n",
      "\n",
      "export Beja,Portugal completed!\n",
      "\n",
      "\n",
      "Falhou Beja,Portugal (3/3): [Errno 2] No such file or directory: 'c:\\\\Users\\\\johns\\\\Documents\\\\Projetos\\\\MPAlugueisLisboa\\\\Bases\\\\Clima\\\\worldWeatherApi\\\\..\\\\..\\\\Bases\\\\Clima\\\\worldWeatherApi\\\\Temporaria\\\\done.txt'\n",
      "Desisti dessa cidade.\n"
     ]
    },
    {
     "ename": "KeyboardInterrupt",
     "evalue": "",
     "output_type": "error",
     "traceback": [
      "\u001b[31m---------------------------------------------------------------------------\u001b[39m",
      "\u001b[31mKeyboardInterrupt\u001b[39m                         Traceback (most recent call last)",
      "\u001b[36mCell\u001b[39m\u001b[36m \u001b[39m\u001b[32mIn[56]\u001b[39m\u001b[32m, line 1\u001b[39m\n\u001b[32m----> \u001b[39m\u001b[32m1\u001b[39m \u001b[43mprocess_weather\u001b[49m\u001b[43m(\u001b[49m\u001b[43mmunicipios_portugal\u001b[49m\u001b[43m)\u001b[49m\n",
      "\u001b[36mCell\u001b[39m\u001b[36m \u001b[39m\u001b[32mIn[44]\u001b[39m\u001b[32m, line 46\u001b[39m, in \u001b[36mprocess_weather\u001b[39m\u001b[34m(locations, start_date, end_date, freq, retries)\u001b[39m\n\u001b[32m     44\u001b[39m \u001b[38;5;28;01mfor\u001b[39;00m attempt \u001b[38;5;129;01min\u001b[39;00m \u001b[38;5;28mrange\u001b[39m(\u001b[32m1\u001b[39m, retries + \u001b[32m1\u001b[39m):\n\u001b[32m     45\u001b[39m     \u001b[38;5;28;01mtry\u001b[39;00m:\n\u001b[32m---> \u001b[39m\u001b[32m46\u001b[39m         \u001b[43mfetch_history\u001b[49m\u001b[43m(\u001b[49m\u001b[43mcity\u001b[49m\u001b[43m,\u001b[49m\u001b[43m \u001b[49m\u001b[43mstart_date\u001b[49m\u001b[43m,\u001b[49m\u001b[43m \u001b[49m\u001b[43mend_date\u001b[49m\u001b[43m,\u001b[49m\u001b[43m \u001b[49m\u001b[43mfreq\u001b[49m\u001b[43m)\u001b[49m\n\u001b[32m     47\u001b[39m         done.add(city)\n\u001b[32m     48\u001b[39m         save_lines(\u001b[38;5;28msorted\u001b[39m(done), DONE_FILE)\n",
      "\u001b[36mCell\u001b[39m\u001b[36m \u001b[39m\u001b[32mIn[44]\u001b[39m\u001b[32m, line 16\u001b[39m, in \u001b[36mfetch_history\u001b[39m\u001b[34m(city, start, end, freq, pause)\u001b[39m\n\u001b[32m     14\u001b[39m \u001b[38;5;28;01mdef\u001b[39;00m\u001b[38;5;250m \u001b[39m\u001b[34mfetch_history\u001b[39m(city: \u001b[38;5;28mstr\u001b[39m, start: \u001b[38;5;28mstr\u001b[39m, end: \u001b[38;5;28mstr\u001b[39m, freq: \u001b[38;5;28mint\u001b[39m = \u001b[32m24\u001b[39m, pause: \u001b[38;5;28mfloat\u001b[39m = \u001b[32m2\u001b[39m):\n\u001b[32m     15\u001b[39m \u001b[38;5;250m    \u001b[39m\u001b[33;03m\"\"\"Baixa os dados da cidade e grava o CSV DENTRO de BASE_DIR.\"\"\"\u001b[39;00m\n\u001b[32m---> \u001b[39m\u001b[32m16\u001b[39m     \u001b[43mtime\u001b[49m\u001b[43m.\u001b[49m\u001b[43msleep\u001b[49m\u001b[43m(\u001b[49m\u001b[43mpause\u001b[49m\u001b[43m)\u001b[49m\n\u001b[32m     18\u001b[39m     cwd = Path.cwd()            \u001b[38;5;66;03m# guarda onde eu estava\u001b[39;00m\n\u001b[32m     19\u001b[39m     \u001b[38;5;28;01mtry\u001b[39;00m:\n",
      "\u001b[31mKeyboardInterrupt\u001b[39m: "
     ]
    }
   ],
   "source": [
    "process_weather(municipios_portugal)"
   ]
  },
  {
   "cell_type": "code",
   "execution_count": null,
   "metadata": {},
   "outputs": [],
   "source": []
  },
  {
   "cell_type": "code",
   "execution_count": null,
   "metadata": {},
   "outputs": [],
   "source": []
  },
  {
   "cell_type": "code",
   "execution_count": null,
   "metadata": {},
   "outputs": [],
   "source": []
  },
  {
   "cell_type": "code",
   "execution_count": null,
   "metadata": {},
   "outputs": [],
   "source": [
    "# EXECUTA API DE CLIMA\n",
    "\n",
    "from wwo_hist import retrieve_hist_data\n",
    "import os\n",
    "import unidecode\n",
    "import time\n",
    "import csv\n",
    "\n",
    "api_key = \"30361d43ad5f42d6a19173215230305\"\n",
    "base_dir = \"..\\\\..\\\\Bases\\\\Clima\\\\worldWeatherApi\"\n",
    "\n",
    "class weather_py:\n",
    "    def write_to_csv(self, Even_list, fileName=\"done.csv\"):\n",
    "        fileName= base_dir + \"\\\\done.csv\"\n",
    "        with open(fileName, \"a\", newline=\"\") as csvfile:\n",
    "            writer = csv.writer(csvfile)\n",
    "            writer.writerow([Even_list])\n",
    "\n",
    "    def exportaLista(self, lst, fileName=\"done.csv\"):\n",
    "        with open(fileName, \"w\") as filehandle:\n",
    "            for listitem in lst:\n",
    "                filehandle.write(\"%s\\n\" % listitem)\n",
    "\n",
    "    def leArquivo(self, filePath):\n",
    "        lsttime = None\n",
    "        with open(filePath, encoding=\"utf-8\", errors=\"ignore\") as f:\n",
    "            lsttime = f.read().splitlines()\n",
    "            lsttime = list(dict.fromkeys(lsttime))\n",
    "        return lsttime\n",
    "\n",
    "    # EXECUTA API DE CLIMA\n",
    "\n",
    "    def process_wheather(\n",
    "        self,\n",
    "        location_list,\n",
    "        frequency=24,\n",
    "        start_date=\"2021-01-01\",\n",
    "        end_date=\"2021-12-30\",\n",
    "        retries=10,\n",
    "        fileDone=\"..\\\\Temporaria\\\\done.csv\",\n",
    "        resetDoneFile=False,\n",
    "    ):\n",
    "        # Apaga todos arquivos para iniciar um processo novo\n",
    "        if resetDoneFile and os.path.exists(fileDone):\n",
    "            os.remove(fileDone)\n",
    "\n",
    "        # cria arquivo de saida se não existir\n",
    "        # esse aruivo é usado para manter o status da atualizao\n",
    "        # caso pare em alguma cidade ele é consultado para voltar a partir dessa cidade\n",
    "        if not os.path.exists(fileDone):\n",
    "            self.write_to_csv(\"\", fileDone)\n",
    "\n",
    "        lst_done = []\n",
    "        retry = retries\n",
    "        retry_count = 0\n",
    "        while retry_count <= retry:\n",
    "            for location in location_list:\n",
    "                lst_done = self.leArquivo(fileDone)\n",
    "\n",
    "                if location not in lst_done:\n",
    "                    try:\n",
    "                        print(location)\n",
    "                        time.sleep(2)\n",
    "                        hist_weather_data = retrieve_hist_data(\n",
    "                            api_key,\n",
    "                            [location],\n",
    "                            start_date,\n",
    "                            end_date,\n",
    "                            frequency,\n",
    "                            location_label=False,\n",
    "                            export_csv=True,\n",
    "                            store_df=True,\n",
    "                        )\n",
    "                        lst_done.append(location)\n",
    "                        self.exportaLista(lst_done, fileDone)\n",
    "                    except:\n",
    "                        self.exportaLista(lst_done, fileDone)\n",
    "                        break\n",
    "            retry_count = retry_count + 1\n",
    "    \n",
    "        \n",
    "            "
   ]
  },
  {
   "cell_type": "code",
   "execution_count": null,
   "metadata": {},
   "outputs": [],
   "source": []
  }
 ],
 "metadata": {
  "kernelspec": {
   "display_name": "Python 3",
   "language": "python",
   "name": "python3"
  },
  "language_info": {
   "codemirror_mode": {
    "name": "ipython",
    "version": 3
   },
   "file_extension": ".py",
   "mimetype": "text/x-python",
   "name": "python",
   "nbconvert_exporter": "python",
   "pygments_lexer": "ipython3",
   "version": "3.11.9"
  }
 },
 "nbformat": 4,
 "nbformat_minor": 4
}
