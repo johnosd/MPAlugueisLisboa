{
 "cells": [
  {
   "cell_type": "markdown",
   "metadata": {},
   "source": [
    "## Historical Weather Forecast data in CS\n",
    "<p> https://www.worldweatheronline.com/developer/api/ </p>\n",
    "<p> https://pypi.org/project/wwo-hist/ </p>\n"
   ]
  },
  {
   "cell_type": "code",
   "execution_count": null,
   "metadata": {},
   "outputs": [],
   "source": [
    "# !pip install wwo-hist\n",
    "# !pip install unidecode"
   ]
  },
  {
   "cell_type": "code",
   "execution_count": null,
   "metadata": {},
   "outputs": [],
   "source": [
    "from pathlib import Path\n",
    "import pandas as pd\n",
    "from wwo_hist import retrieve_hist_data\n",
    "from typing import List, Iterable\n",
    "import os\n",
    "import time\n",
    "import sys\n",
    "import unicodedata"
   ]
  },
  {
   "cell_type": "code",
   "execution_count": null,
   "metadata": {},
   "outputs": [],
   "source": [
    "API_KEY_LIST = [\n",
    "    \"a95cd7210fbf4b85a7e185308250307\",\n",
    "    \"5ccf4c0bfb8849ddaf8204104250207\",\n",
    "    \"9089449cfc564000aef202420250307\",\n",
    "    \"a486a31885364323a5a211207250307\",\n",
    "    \"3a66d0209bd94f57a76212049250307\"\n",
    "    ]\n",
    "\n",
    "API_KEY = \"5ccf4c0bfb8849ddaf8204104250207\"\n",
    "\n",
    "\n",
    "NOTEBBOKS_DIR = Path(__file__).resolve().parent if \"__file__\" in globals() else Path.cwd()\n",
    "BASES_DIR = Path.cwd().parent.parent / \"Bases\"\n",
    "WWO_Api_DIR = BASES_DIR / \"Clima\"/ \"worldWeatherApi\"\n",
    "DONE_FILE  = WWO_Api_DIR /\"Temporaria\"  / \"done.txt\"\n",
    "\n",
    "\n",
    "arquivo_municipios = BASES_DIR / \"Municipios\" / \"portugalMunicipios.csv\"\n",
    "\n",
    "\n",
    "# MOSTRA OS CAMINHOS\n",
    "print(\"NOTEBBOKS_DIR:\", NOTEBBOKS_DIR)\n",
    "print(\"WWO_Api_DIR:\", WWO_Api_DIR)\n",
    "print(\"DONE_FILE:\", DONE_FILE)\n",
    "print(\"BASES_DIR:\", BASES_DIR)\n",
    "print(\"arquivo_municipios:\", arquivo_municipios)\n"
   ]
  },
  {
   "cell_type": "code",
   "execution_count": null,
   "metadata": {},
   "outputs": [],
   "source": [
    "def remover_acentos(texto):\n",
    "    return unicodedata.normalize('NFKD', texto).encode('ASCII', 'ignore').decode('ASCII')   "
   ]
  },
  {
   "cell_type": "code",
   "execution_count": null,
   "metadata": {},
   "outputs": [],
   "source": [
    "def get_municipios_portugal(arquivo_municipios: Path = arquivo_municipios) -> List[str]:\n",
    "    \"\"\"\n",
    "    Lê o arquivo de municípios de Portugal e retorna uma lista de cidades.\n",
    "    O arquivo deve estar no formato CSV com colunas 'Regiao' e 'Cidades'.\n",
    "    \"\"\"\n",
    "\n",
    "    if not arquivo_municipios.exists():\n",
    "        raise FileNotFoundError(f\"Arquivo de municípios não encontrado: {arquivo_municipios}\")\n",
    "\n",
    "    # ler o arquivo de municipios em um dataframe\n",
    "    # separadando os campos por vírgula\n",
    "    # monte uma lista concatenando: \"Portugal,\" [Cidades]\n",
    "    import pandas as pd\n",
    "    df = pd.read_csv(arquivo_municipios, sep=\",\", encoding=\"utf-8\")\n",
    "\n",
    "    #ordene por Regiao e cidades\n",
    "    df = df.sort_values(by=[\"Regiao\", \"Cidades\"])\n",
    "\n",
    "    # monte uma lista concatenando: \"Portugal,\" [Cidades]\n",
    "    # cidades = [remover_acentos(cidade) + \",Portugal\" for cidade in df[\"Cidades\"].tolist()]\n",
    "    cidades = [cidade + \",Portugal\" for cidade in df[\"Cidades\"].tolist()]\n",
    "    \n",
    "    return cidades\n"
   ]
  },
  {
   "cell_type": "code",
   "execution_count": null,
   "metadata": {},
   "outputs": [],
   "source": [
    "\n",
    "# ------------------------------------------------------------------ utilidades\n",
    "def save_lines(lines: Iterable[str], file: Path) -> None:\n",
    "    file.write_text(\"\\n\".join(lines), encoding=\"utf-8\")\n",
    "\n",
    "def read_lines(file: Path) -> List[str]:\n",
    "    return file.read_text(encoding=\"utf-8\").splitlines() if file.exists() else []\n",
    "\n",
    "# ------------------------------------------------------------------ download\n",
    "def fetch_history(city: str, start: str, end: str, freq: int = 24, pause: float = 2):\n",
    "    \"\"\"Baixa os dados da cidade e grava o CSV DENTRO de BASE_DIR.\"\"\"\n",
    "    time.sleep(pause)\n",
    "\n",
    "    cwd = Path.cwd()            # guarda onde eu estava\n",
    "    try:\n",
    "        os.chdir(WWO_Api_DIR)      # muda só durante o download\n",
    "        retrieve_hist_data(\n",
    "            API_KEY, [city], start, end, freq,\n",
    "            location_label=False, export_csv=True, store_df=True\n",
    "        )\n",
    "    finally:\n",
    "        os.chdir(cwd)           # volta ao normal\n",
    "\n",
    "# ------------------------------------------------------------------ orquestra\n",
    "def process_weather(\n",
    "    locations: List[str],\n",
    "    start_date=\"2025-06-25\",\n",
    "    end_date=\"2025-07-01\",\n",
    "    freq=24,\n",
    "    retries=3,\n",
    "):\n",
    "    done = set(read_lines(DONE_FILE))\n",
    "\n",
    "    for city in locations:\n",
    "        if city in done:\n",
    "            continue\n",
    "\n",
    "        for attempt in range(1, retries + 1):\n",
    "            try:\n",
    "                fetch_history(city, start_date, end_date, freq)\n",
    "                done.add(city)\n",
    "                save_lines(sorted(done), DONE_FILE)\n",
    "                break\n",
    "            except Exception as err:\n",
    "                print(f\"Falhou {city} ({attempt}/{retries}): {err}\")\n",
    "                 # Verifica se a mensagem do erro tem \"Too Many Requests\"\n",
    "                if \"429\" in str(err) or \"Too Many Requests\" in str(err):\n",
    "                    print(\"Erro 429: Requisições em excesso. Encerrando o processo.\")\n",
    "                    sys.exit(1)  # ou raise err, se preferir deixar o erro estourar\n",
    "                if attempt == retries:\n",
    "                    print(\"Desisti dessa cidade.\")\n"
   ]
  },
  {
   "cell_type": "code",
   "execution_count": null,
   "metadata": {},
   "outputs": [],
   "source": [
    "municipios_portugal = get_municipios_portugal(arquivo_municipios)\n",
    "municipios_portugal\n",
    "# substua espacos por \"+\"\n",
    "municipios_portugal = [cidade.replace(\" \", \"+\") for cidade in municipios_portugal]\n",
    "municipios_portugal = [remover_acentos(cidade) for cidade in municipios_portugal]\n",
    "municipios_portugal"
   ]
  },
  {
   "cell_type": "code",
   "execution_count": 15,
   "metadata": {},
   "outputs": [],
   "source": [
    "process_weather(\n",
    "    municipios_portugal,\n",
    "    start_date=\"2024-06-30\",\n",
    "    end_date=\"2025-06-30\",\n",
    "    freq=24,\n",
    "    retries=3)"
   ]
  }
 ],
 "metadata": {
  "kernelspec": {
   "display_name": "Python 3",
   "language": "python",
   "name": "python3"
  },
  "language_info": {
   "codemirror_mode": {
    "name": "ipython",
    "version": 3
   },
   "file_extension": ".py",
   "mimetype": "text/x-python",
   "name": "python",
   "nbconvert_exporter": "python",
   "pygments_lexer": "ipython3",
   "version": "3.11.9"
  }
 },
 "nbformat": 4,
 "nbformat_minor": 4
}
