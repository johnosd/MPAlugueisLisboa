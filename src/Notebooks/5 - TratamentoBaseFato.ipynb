{
 "cells": [
  {
   "cell_type": "code",
   "execution_count": 120,
   "metadata": {},
   "outputs": [],
   "source": [
    "# Agrupa arquivos com base principal"
   ]
  },
  {
   "cell_type": "code",
   "execution_count": 2,
   "metadata": {},
   "outputs": [
    {
     "name": "stdout",
     "output_type": "stream",
     "text": [
      "Collecting sklearn\n",
      "  Downloading sklearn-0.0.post4.tar.gz (3.6 kB)\n",
      "  Preparing metadata (setup.py): started\n",
      "  Preparing metadata (setup.py): finished with status 'error'\n"
     ]
    },
    {
     "name": "stderr",
     "output_type": "stream",
     "text": [
      "  error: subprocess-exited-with-error\n",
      "  \n",
      "  python setup.py egg_info did not run successfully.\n",
      "  exit code: 1\n",
      "  \n",
      "  [8 lines of output]\n",
      "  Traceback (most recent call last):\n",
      "    File \"<string>\", line 2, in <module>\n",
      "    File \"<pip-setuptools-caller>\", line 34, in <module>\n",
      "    File \"C:\\Users\\johns\\AppData\\Local\\Temp\\pip-install-b2a958j6\\sklearn_b8449aaa29bc44a6864e3b633b910fcb\\setup.py\", line 10, in <module>\n",
      "      LONG_DESCRIPTION = f.read()\n",
      "    File \"C:\\Users\\johns\\AppData\\Local\\Programs\\Python\\Python310\\lib\\encodings\\cp1252.py\", line 23, in decode\n",
      "      return codecs.charmap_decode(input,self.errors,decoding_table)[0]\n",
      "  UnicodeDecodeError: 'charmap' codec can't decode byte 0x8f in position 7: character maps to <undefined>\n",
      "  [end of output]\n",
      "  \n",
      "  note: This error originates from a subprocess, and is likely not a problem with pip.\n",
      "error: metadata-generation-failed\n",
      "\n",
      "Encountered error while generating package metadata.\n",
      "\n",
      "See above for output.\n",
      "\n",
      "note: This is an issue with the package mentioned above, not pip.\n",
      "hint: See above for details.\n",
      "\n",
      "[notice] A new release of pip is available: 23.0.1 -> 23.1.2\n",
      "[notice] To update, run: python.exe -m pip install --upgrade pip\n"
     ]
    }
   ],
   "source": [
    "!pip install sklearn"
   ]
  },
  {
   "cell_type": "code",
   "execution_count": 5,
   "metadata": {},
   "outputs": [],
   "source": [
    "import os\n",
    "import pandas as pd\n",
    "import numpy as np\n",
    "from sklearn.preprocessing import LabelEncoder"
   ]
  },
  {
   "cell_type": "code",
   "execution_count": 6,
   "metadata": {},
   "outputs": [
    {
     "data": {
      "text/plain": [
       "'G:\\\\Users\\\\johns\\\\Desktop\\\\TCC\\\\MPAlugueisLisboa\\\\Bases\\\\Imoveis'"
      ]
     },
     "execution_count": 6,
     "metadata": {},
     "output_type": "execute_result"
    }
   ],
   "source": [
    "#identifica o caminho relativo da pasta de bases\n",
    "#os.path.relpath('C:\\\\Users\\\\HP ProBook 640\\\\source\\\\repos\\\\TCC\\\\Bases\\\\ClimaPortugal', 'C:\\\\Users\\\\HP ProBook 640\\\\source\\\\repos\\\\TCC\\\\src\\\\Notebooks')\n",
    "base_dir = '..\\\\..\\\\Bases\\\\Imoveis\\\\'\n",
    "os.chdir(base_dir)\n",
    "os.getcwd()"
   ]
  },
  {
   "cell_type": "code",
   "execution_count": 3,
   "metadata": {},
   "outputs": [],
   "source": [
    "path = base_dir +'Fato\\\\'\n",
    "dir_list = [x for x in os.listdir(path) if '.csv' in x]"
   ]
  },
  {
   "cell_type": "code",
   "execution_count": 4,
   "metadata": {},
   "outputs": [],
   "source": [
    "lst_dfs = []\n",
    "for file in dir_list:\n",
    "    df = pd.read_csv(path+file, sep=';')\n",
    "    distrito = file.replace('.csv', '')\n",
    "    df['distrito'] = distrito\n",
    "    lst_dfs.append(df)\n",
    "df_fato = pd.concat(lst_dfs)\n",
    "\n"
   ]
  },
  {
   "cell_type": "code",
   "execution_count": 5,
   "metadata": {},
   "outputs": [],
   "source": [
    "#Remove o T para trasnformar em numerico o campo de tipo\n",
    "df_fato['QtdQuartos'] = df_fato['tipo'].apply(lambda x: str(x).replace('T',''))"
   ]
  },
  {
   "cell_type": "code",
   "execution_count": 6,
   "metadata": {},
   "outputs": [],
   "source": [
    "#adiciona zero nos lugares onde não tem andar nem elevador\n",
    "df_fato[\"andar\"].replace({np.nan: \"0\"}, inplace=True)\n",
    "df_fato[\"elevador\"].replace({np.nan: \"0\"}, inplace=True)"
   ]
  },
  {
   "cell_type": "code",
   "execution_count": 7,
   "metadata": {},
   "outputs": [],
   "source": [
    "# A Coluna PrecoDesconto tem muitos valores nulos, irei remove-la da base\n",
    "df_fato.drop(\"PrecoDesconto\",axis=1,inplace=True)\n",
    "df_fato.drop(\"Page\",axis=1,inplace=True)"
   ]
  },
  {
   "cell_type": "code",
   "execution_count": 8,
   "metadata": {},
   "outputs": [],
   "source": [
    "def multply(x,y):\n",
    "    if x < 175:\n",
    "        return x*y\n",
    "    else:\n",
    "        return x\n",
    "    \n",
    "# corrige preços errados\n",
    "df_fato['Preco'] = df_fato['Preco'].apply(lambda x: multply(x,1000))"
   ]
  },
  {
   "cell_type": "code",
   "execution_count": 9,
   "metadata": {},
   "outputs": [
    {
     "data": {
      "text/html": [
       "<div>\n",
       "<style scoped>\n",
       "    .dataframe tbody tr th:only-of-type {\n",
       "        vertical-align: middle;\n",
       "    }\n",
       "\n",
       "    .dataframe tbody tr th {\n",
       "        vertical-align: top;\n",
       "    }\n",
       "\n",
       "    .dataframe thead th {\n",
       "        text-align: right;\n",
       "    }\n",
       "</style>\n",
       "<table border=\"1\" class=\"dataframe\">\n",
       "  <thead>\n",
       "    <tr style=\"text-align: right;\">\n",
       "      <th></th>\n",
       "      <th>IdImovel</th>\n",
       "      <th>UrlPesquisa</th>\n",
       "      <th>Url</th>\n",
       "      <th>Nome</th>\n",
       "      <th>Preco</th>\n",
       "      <th>tipo</th>\n",
       "      <th>metros</th>\n",
       "      <th>andar</th>\n",
       "      <th>elevador</th>\n",
       "      <th>Detalhes</th>\n",
       "      <th>Status</th>\n",
       "      <th>distrito</th>\n",
       "      <th>QtdQuartos</th>\n",
       "    </tr>\n",
       "  </thead>\n",
       "  <tbody>\n",
       "  </tbody>\n",
       "</table>\n",
       "</div>"
      ],
      "text/plain": [
       "Empty DataFrame\n",
       "Columns: [IdImovel, UrlPesquisa, Url, Nome, Preco, tipo, metros, andar, elevador, Detalhes, Status, distrito, QtdQuartos]\n",
       "Index: []"
      ]
     },
     "execution_count": 9,
     "metadata": {},
     "output_type": "execute_result"
    }
   ],
   "source": [
    "# Verifica dados duplicados\n",
    "ids = df_fato[\"IdImovel\"]\n",
    "df_fato[ids.isin(ids[ids.duplicated()])].sort_values(\"IdImovel\")"
   ]
  },
  {
   "cell_type": "code",
   "execution_count": 10,
   "metadata": {},
   "outputs": [
    {
     "name": "stdout",
     "output_type": "stream",
     "text": [
      "<class 'pandas.core.frame.DataFrame'>\n",
      "Int64Index: 10729 entries, 0 to 46\n",
      "Data columns (total 13 columns):\n",
      " #   Column       Non-Null Count  Dtype  \n",
      "---  ------       --------------  -----  \n",
      " 0   IdImovel     10729 non-null  int64  \n",
      " 1   UrlPesquisa  10729 non-null  object \n",
      " 2   Url          10729 non-null  object \n",
      " 3   Nome         10729 non-null  object \n",
      " 4   Preco        10729 non-null  float64\n",
      " 5   tipo         10729 non-null  object \n",
      " 6   metros       10729 non-null  float64\n",
      " 7   andar        10729 non-null  object \n",
      " 8   elevador     10729 non-null  object \n",
      " 9   Detalhes     10729 non-null  object \n",
      " 10  Status       10729 non-null  object \n",
      " 11  distrito     10729 non-null  object \n",
      " 12  QtdQuartos   10729 non-null  object \n",
      "dtypes: float64(2), int64(1), object(10)\n",
      "memory usage: 1.1+ MB\n"
     ]
    }
   ],
   "source": [
    "df_fato.info()"
   ]
  },
  {
   "cell_type": "code",
   "execution_count": 11,
   "metadata": {},
   "outputs": [
    {
     "name": "stdout",
     "output_type": "stream",
     "text": [
      "IdImovel       0\n",
      "UrlPesquisa    0\n",
      "Url            0\n",
      "Nome           0\n",
      "Preco          0\n",
      "tipo           0\n",
      "metros         0\n",
      "andar          0\n",
      "elevador       0\n",
      "Detalhes       0\n",
      "Status         0\n",
      "distrito       0\n",
      "QtdQuartos     0\n",
      "dtype: int64\n"
     ]
    }
   ],
   "source": [
    "print(df_fato.isnull().sum())"
   ]
  },
  {
   "cell_type": "code",
   "execution_count": 12,
   "metadata": {},
   "outputs": [],
   "source": [
    "# Remove outliers\n",
    "def remove_outliers(df,col_name):\n",
    "    Q1 = df[col_name].quantile(0.25)\n",
    "    Q3 = df[col_name].quantile(0.75)\n",
    "    IIQ = Q3-Q1\n",
    "    limite_inferior = Q1-1.5*IIQ\n",
    "    limite_superior = Q3+1.5*IIQ\n",
    "    df_out = df.loc[(df[col_name] > limite_inferior) & (df[col_name] < limite_superior)]\n",
    "    return df_out"
   ]
  },
  {
   "cell_type": "code",
   "execution_count": 13,
   "metadata": {},
   "outputs": [
    {
     "name": "stdout",
     "output_type": "stream",
     "text": [
      "aveiro-distrito\n"
     ]
    },
    {
     "ename": "NameError",
     "evalue": "name 'df_fato_out' is not defined",
     "output_type": "error",
     "traceback": [
      "\u001b[1;31m---------------------------------------------------------------------------\u001b[0m",
      "\u001b[1;31mNameError\u001b[0m                                 Traceback (most recent call last)",
      "\u001b[1;32mC:\\Users\\HPPROB~1\\AppData\\Local\\Temp/ipykernel_17896/3068958370.py\u001b[0m in \u001b[0;36m<module>\u001b[1;34m\u001b[0m\n\u001b[0;32m     11\u001b[0m     )\n\u001b[0;32m     12\u001b[0m     \u001b[0mdf_out\u001b[0m \u001b[1;33m=\u001b[0m \u001b[0mremove_outliers\u001b[0m\u001b[1;33m(\u001b[0m\u001b[0mdf_dist\u001b[0m\u001b[1;33m,\u001b[0m\u001b[1;34m'Preco'\u001b[0m\u001b[1;33m)\u001b[0m\u001b[1;33m\u001b[0m\u001b[1;33m\u001b[0m\u001b[0m\n\u001b[1;32m---> 13\u001b[1;33m     \u001b[0mprint\u001b[0m\u001b[1;33m(\u001b[0m\u001b[1;34m'--- {},{}'\u001b[0m\u001b[1;33m.\u001b[0m\u001b[0mformat\u001b[0m\u001b[1;33m(\u001b[0m\u001b[0mlen\u001b[0m\u001b[1;33m(\u001b[0m\u001b[0mdf_fato_out\u001b[0m\u001b[1;33m.\u001b[0m\u001b[0mindex\u001b[0m\u001b[1;33m)\u001b[0m\u001b[1;33m,\u001b[0m \u001b[0mlen\u001b[0m\u001b[1;33m(\u001b[0m\u001b[0mdf_fato\u001b[0m\u001b[1;33m.\u001b[0m\u001b[0mindex\u001b[0m\u001b[1;33m)\u001b[0m\u001b[1;33m)\u001b[0m\u001b[1;33m)\u001b[0m\u001b[1;33m\u001b[0m\u001b[1;33m\u001b[0m\u001b[0m\n\u001b[0m\u001b[0;32m     14\u001b[0m     \u001b[0mlst_dfs2\u001b[0m\u001b[1;33m.\u001b[0m\u001b[0mappend\u001b[0m\u001b[1;33m(\u001b[0m\u001b[0mdf_out\u001b[0m\u001b[1;33m)\u001b[0m\u001b[1;33m\u001b[0m\u001b[1;33m\u001b[0m\u001b[0m\n\u001b[0;32m     15\u001b[0m \u001b[0mdf_fato_out\u001b[0m \u001b[1;33m=\u001b[0m \u001b[0mpd\u001b[0m\u001b[1;33m.\u001b[0m\u001b[0mconcat\u001b[0m\u001b[1;33m(\u001b[0m\u001b[0mlst_dfs2\u001b[0m\u001b[1;33m)\u001b[0m\u001b[1;33m\u001b[0m\u001b[1;33m\u001b[0m\u001b[0m\n",
      "\u001b[1;31mNameError\u001b[0m: name 'df_fato_out' is not defined"
     ]
    }
   ],
   "source": [
    "# Remove outliers por distrito\n",
    "\n",
    "lst_distritos = list(df_fato['distrito'].drop_duplicates())\n",
    "\n",
    "lst_dfs2 = []\n",
    "for distrito in lst_distritos:\n",
    "    print(distrito)\n",
    "    df_dist = (\n",
    "        df_fato\n",
    "        .query('distrito == @distrito')\n",
    "    )\n",
    "    df_out = remove_outliers(df_dist,'Preco')\n",
    "    print('--- {},{}'.format(len(df_fato_out.index), len(df_fato.index)))\n",
    "    lst_dfs2.append(df_out)\n",
    "df_fato_out = pd.concat(lst_dfs2)\n",
    "\n"
   ]
  },
  {
   "cell_type": "code",
   "execution_count": 17,
   "metadata": {},
   "outputs": [],
   "source": [
    "# Feature engineering\n",
    "\n",
    "# Criar campo de preço por metro quadrado\n",
    "\n",
    "df_fato['Preco_Metro'] = df_fato['Preco']/df_fato['metros']"
   ]
  },
  {
   "cell_type": "code",
   "execution_count": 18,
   "metadata": {},
   "outputs": [
    {
     "data": {
      "text/html": [
       "<div>\n",
       "<style scoped>\n",
       "    .dataframe tbody tr th:only-of-type {\n",
       "        vertical-align: middle;\n",
       "    }\n",
       "\n",
       "    .dataframe tbody tr th {\n",
       "        vertical-align: top;\n",
       "    }\n",
       "\n",
       "    .dataframe thead th {\n",
       "        text-align: right;\n",
       "    }\n",
       "</style>\n",
       "<table border=\"1\" class=\"dataframe\">\n",
       "  <thead>\n",
       "    <tr style=\"text-align: right;\">\n",
       "      <th></th>\n",
       "      <th>IdImovel</th>\n",
       "      <th>UrlPesquisa</th>\n",
       "      <th>Url</th>\n",
       "      <th>Nome</th>\n",
       "      <th>Preco</th>\n",
       "      <th>tipo</th>\n",
       "      <th>metros</th>\n",
       "      <th>andar</th>\n",
       "      <th>elevador</th>\n",
       "      <th>Detalhes</th>\n",
       "      <th>Status</th>\n",
       "      <th>distrito</th>\n",
       "      <th>QtdQuartos</th>\n",
       "      <th>Preco_Metro</th>\n",
       "    </tr>\n",
       "  </thead>\n",
       "  <tbody>\n",
       "    <tr>\n",
       "      <th>0</th>\n",
       "      <td>30365582</td>\n",
       "      <td>https://www.idealista.pt/arrendar-casas/aveiro...</td>\n",
       "      <td>/imovel/30365582/</td>\n",
       "      <td>Apartamento T0 na rua Manuel Lopes Conde, 1, O...</td>\n",
       "      <td>400.0</td>\n",
       "      <td>T0</td>\n",
       "      <td>50.0</td>\n",
       "      <td>0.0</td>\n",
       "      <td>sem elevador</td>\n",
       "      <td>T0 , 50 m² construídos, Rés do chão  sem elevador</td>\n",
       "      <td>OK</td>\n",
       "      <td>aveiro-distrito</td>\n",
       "      <td>0</td>\n",
       "      <td>8.000000</td>\n",
       "    </tr>\n",
       "    <tr>\n",
       "      <th>1</th>\n",
       "      <td>31533249</td>\n",
       "      <td>https://www.idealista.pt/arrendar-casas/aveiro...</td>\n",
       "      <td>/imovel/31533249/</td>\n",
       "      <td>Apartamento T3 na avenida Fernandes Lavrador, ...</td>\n",
       "      <td>600.0</td>\n",
       "      <td>T3</td>\n",
       "      <td>100.0</td>\n",
       "      <td>2.0</td>\n",
       "      <td>com elevador</td>\n",
       "      <td>T3 , 100 m² construídos, 2º andar  com elevador</td>\n",
       "      <td>OK</td>\n",
       "      <td>aveiro-distrito</td>\n",
       "      <td>3</td>\n",
       "      <td>6.000000</td>\n",
       "    </tr>\n",
       "    <tr>\n",
       "      <th>2</th>\n",
       "      <td>31492152</td>\n",
       "      <td>https://www.idealista.pt/arrendar-casas/aveiro...</td>\n",
       "      <td>/imovel/31492152/</td>\n",
       "      <td>Apartamento T2 na rua Doutor Mário Sacramento,...</td>\n",
       "      <td>750.0</td>\n",
       "      <td>T2</td>\n",
       "      <td>92.0</td>\n",
       "      <td>8.0</td>\n",
       "      <td>com elevador</td>\n",
       "      <td>T2 , 92 m² construídos, 8º andar  com elevador</td>\n",
       "      <td>OK</td>\n",
       "      <td>aveiro-distrito</td>\n",
       "      <td>2</td>\n",
       "      <td>8.152174</td>\n",
       "    </tr>\n",
       "    <tr>\n",
       "      <th>3</th>\n",
       "      <td>31485513</td>\n",
       "      <td>https://www.idealista.pt/arrendar-casas/aveiro...</td>\n",
       "      <td>/imovel/31485513/</td>\n",
       "      <td>Moradia geminada na avenida João Corte Real, 1...</td>\n",
       "      <td>650.0</td>\n",
       "      <td>T1</td>\n",
       "      <td>70.0</td>\n",
       "      <td>0</td>\n",
       "      <td>0</td>\n",
       "      <td>T1 , 70 m² construídos</td>\n",
       "      <td>OK</td>\n",
       "      <td>aveiro-distrito</td>\n",
       "      <td>1</td>\n",
       "      <td>9.285714</td>\n",
       "    </tr>\n",
       "    <tr>\n",
       "      <th>4</th>\n",
       "      <td>29120236</td>\n",
       "      <td>https://www.idealista.pt/arrendar-casas/aveiro...</td>\n",
       "      <td>/imovel/29120236/</td>\n",
       "      <td>Apartamento T0 na rua Central, 375, Paramos, E...</td>\n",
       "      <td>500.0</td>\n",
       "      <td>T0</td>\n",
       "      <td>30.0</td>\n",
       "      <td>1.0</td>\n",
       "      <td>sem elevador</td>\n",
       "      <td>T0 , 30 m² construídos, 1º andar  sem elevador</td>\n",
       "      <td>OK</td>\n",
       "      <td>aveiro-distrito</td>\n",
       "      <td>0</td>\n",
       "      <td>16.666667</td>\n",
       "    </tr>\n",
       "    <tr>\n",
       "      <th>...</th>\n",
       "      <td>...</td>\n",
       "      <td>...</td>\n",
       "      <td>...</td>\n",
       "      <td>...</td>\n",
       "      <td>...</td>\n",
       "      <td>...</td>\n",
       "      <td>...</td>\n",
       "      <td>...</td>\n",
       "      <td>...</td>\n",
       "      <td>...</td>\n",
       "      <td>...</td>\n",
       "      <td>...</td>\n",
       "      <td>...</td>\n",
       "      <td>...</td>\n",
       "    </tr>\n",
       "    <tr>\n",
       "      <th>42</th>\n",
       "      <td>31516580</td>\n",
       "      <td>https://www.idealista.pt/arrendar-casas/viseu-...</td>\n",
       "      <td>/imovel/31516580/</td>\n",
       "      <td>Apartamento T1 em São Pedro do Sul - Várzea - ...</td>\n",
       "      <td>380.0</td>\n",
       "      <td>T1</td>\n",
       "      <td>53.0</td>\n",
       "      <td>0</td>\n",
       "      <td>0</td>\n",
       "      <td>T1 , 53 m² construídos</td>\n",
       "      <td>OK</td>\n",
       "      <td>viseu-distrito</td>\n",
       "      <td>1</td>\n",
       "      <td>7.169811</td>\n",
       "    </tr>\n",
       "    <tr>\n",
       "      <th>43</th>\n",
       "      <td>31460694</td>\n",
       "      <td>https://www.idealista.pt/arrendar-casas/viseu-...</td>\n",
       "      <td>/imovel/31460694/</td>\n",
       "      <td>Moradia na rua Doutor Manuel de Arriaga, Guard...</td>\n",
       "      <td>275.0</td>\n",
       "      <td>T3</td>\n",
       "      <td>158.0</td>\n",
       "      <td>0</td>\n",
       "      <td>0</td>\n",
       "      <td>T3 , 158 m² construídos</td>\n",
       "      <td>OK</td>\n",
       "      <td>viseu-distrito</td>\n",
       "      <td>3</td>\n",
       "      <td>1.740506</td>\n",
       "    </tr>\n",
       "    <tr>\n",
       "      <th>44</th>\n",
       "      <td>31563383</td>\n",
       "      <td>https://www.idealista.pt/arrendar-casas/viseu-...</td>\n",
       "      <td>/imovel/31563383/</td>\n",
       "      <td>Moradia independente em Ventosa, Vouzela</td>\n",
       "      <td>400.0</td>\n",
       "      <td>T3</td>\n",
       "      <td>81.0</td>\n",
       "      <td>0</td>\n",
       "      <td>0</td>\n",
       "      <td>T3 , 81 m² construídos</td>\n",
       "      <td>OK</td>\n",
       "      <td>viseu-distrito</td>\n",
       "      <td>3</td>\n",
       "      <td>4.938272</td>\n",
       "    </tr>\n",
       "    <tr>\n",
       "      <th>45</th>\n",
       "      <td>29447951</td>\n",
       "      <td>https://www.idealista.pt/arrendar-casas/viseu-...</td>\n",
       "      <td>/imovel/29447951/</td>\n",
       "      <td>Apartamento T1 em Centro, Viseu</td>\n",
       "      <td>400.0</td>\n",
       "      <td>T1</td>\n",
       "      <td>90.0</td>\n",
       "      <td>0</td>\n",
       "      <td>sem elevador</td>\n",
       "      <td>T1 , 90 m² construídos,   sem elevador, 18 nov</td>\n",
       "      <td>OK</td>\n",
       "      <td>viseu-distrito</td>\n",
       "      <td>1</td>\n",
       "      <td>4.444444</td>\n",
       "    </tr>\n",
       "    <tr>\n",
       "      <th>46</th>\n",
       "      <td>31304959</td>\n",
       "      <td>https://www.idealista.pt/arrendar-casas/viseu-...</td>\n",
       "      <td>/imovel/31304959/</td>\n",
       "      <td>Apartamento T0 em Centro, Viseu</td>\n",
       "      <td>400.0</td>\n",
       "      <td>T0</td>\n",
       "      <td>42.0</td>\n",
       "      <td>0</td>\n",
       "      <td>com elevador</td>\n",
       "      <td>T0 , 42 m² construídos,   com elevador</td>\n",
       "      <td>OK</td>\n",
       "      <td>viseu-distrito</td>\n",
       "      <td>0</td>\n",
       "      <td>9.523810</td>\n",
       "    </tr>\n",
       "  </tbody>\n",
       "</table>\n",
       "<p>10729 rows × 14 columns</p>\n",
       "</div>"
      ],
      "text/plain": [
       "    IdImovel                                        UrlPesquisa  \\\n",
       "0   30365582  https://www.idealista.pt/arrendar-casas/aveiro...   \n",
       "1   31533249  https://www.idealista.pt/arrendar-casas/aveiro...   \n",
       "2   31492152  https://www.idealista.pt/arrendar-casas/aveiro...   \n",
       "3   31485513  https://www.idealista.pt/arrendar-casas/aveiro...   \n",
       "4   29120236  https://www.idealista.pt/arrendar-casas/aveiro...   \n",
       "..       ...                                                ...   \n",
       "42  31516580  https://www.idealista.pt/arrendar-casas/viseu-...   \n",
       "43  31460694  https://www.idealista.pt/arrendar-casas/viseu-...   \n",
       "44  31563383  https://www.idealista.pt/arrendar-casas/viseu-...   \n",
       "45  29447951  https://www.idealista.pt/arrendar-casas/viseu-...   \n",
       "46  31304959  https://www.idealista.pt/arrendar-casas/viseu-...   \n",
       "\n",
       "                  Url                                               Nome  \\\n",
       "0   /imovel/30365582/  Apartamento T0 na rua Manuel Lopes Conde, 1, O...   \n",
       "1   /imovel/31533249/  Apartamento T3 na avenida Fernandes Lavrador, ...   \n",
       "2   /imovel/31492152/  Apartamento T2 na rua Doutor Mário Sacramento,...   \n",
       "3   /imovel/31485513/  Moradia geminada na avenida João Corte Real, 1...   \n",
       "4   /imovel/29120236/  Apartamento T0 na rua Central, 375, Paramos, E...   \n",
       "..                ...                                                ...   \n",
       "42  /imovel/31516580/  Apartamento T1 em São Pedro do Sul - Várzea - ...   \n",
       "43  /imovel/31460694/  Moradia na rua Doutor Manuel de Arriaga, Guard...   \n",
       "44  /imovel/31563383/           Moradia independente em Ventosa, Vouzela   \n",
       "45  /imovel/29447951/                    Apartamento T1 em Centro, Viseu   \n",
       "46  /imovel/31304959/                    Apartamento T0 em Centro, Viseu   \n",
       "\n",
       "    Preco tipo  metros andar      elevador  \\\n",
       "0   400.0   T0    50.0   0.0  sem elevador   \n",
       "1   600.0   T3   100.0   2.0  com elevador   \n",
       "2   750.0   T2    92.0   8.0  com elevador   \n",
       "3   650.0   T1    70.0     0             0   \n",
       "4   500.0   T0    30.0   1.0  sem elevador   \n",
       "..    ...  ...     ...   ...           ...   \n",
       "42  380.0   T1    53.0     0             0   \n",
       "43  275.0   T3   158.0     0             0   \n",
       "44  400.0   T3    81.0     0             0   \n",
       "45  400.0   T1    90.0     0  sem elevador   \n",
       "46  400.0   T0    42.0     0  com elevador   \n",
       "\n",
       "                                             Detalhes Status         distrito  \\\n",
       "0   T0 , 50 m² construídos, Rés do chão  sem elevador     OK  aveiro-distrito   \n",
       "1     T3 , 100 m² construídos, 2º andar  com elevador     OK  aveiro-distrito   \n",
       "2      T2 , 92 m² construídos, 8º andar  com elevador     OK  aveiro-distrito   \n",
       "3                              T1 , 70 m² construídos     OK  aveiro-distrito   \n",
       "4      T0 , 30 m² construídos, 1º andar  sem elevador     OK  aveiro-distrito   \n",
       "..                                                ...    ...              ...   \n",
       "42                             T1 , 53 m² construídos     OK   viseu-distrito   \n",
       "43                            T3 , 158 m² construídos     OK   viseu-distrito   \n",
       "44                             T3 , 81 m² construídos     OK   viseu-distrito   \n",
       "45    T1 , 90 m² construídos,   sem elevador, 18 nov      OK   viseu-distrito   \n",
       "46             T0 , 42 m² construídos,   com elevador     OK   viseu-distrito   \n",
       "\n",
       "   QtdQuartos  Preco_Metro  \n",
       "0           0     8.000000  \n",
       "1           3     6.000000  \n",
       "2           2     8.152174  \n",
       "3           1     9.285714  \n",
       "4           0    16.666667  \n",
       "..        ...          ...  \n",
       "42          1     7.169811  \n",
       "43          3     1.740506  \n",
       "44          3     4.938272  \n",
       "45          1     4.444444  \n",
       "46          0     9.523810  \n",
       "\n",
       "[10729 rows x 14 columns]"
      ]
     },
     "execution_count": 18,
     "metadata": {},
     "output_type": "execute_result"
    }
   ],
   "source": [
    "df_fato"
   ]
  },
  {
   "cell_type": "code",
   "execution_count": 163,
   "metadata": {},
   "outputs": [
    {
     "data": {
      "text/plain": [
       "(9867, 10729)"
      ]
     },
     "execution_count": 163,
     "metadata": {},
     "output_type": "execute_result"
    }
   ],
   "source": [
    "\n",
    "dir = 'C:\\\\Users\\\\HP ProBook 640\\\\Desktop\\\\TCC\\\\Notebooks\\\\Bases\\\\Imoveis\\\\fato\\\\'\n",
    "file_name = \"{}{}{}\".format(dir,'Base_fato_unificada',\".csv\")\n",
    "df_fato_out.to_csv(file_name, sep=';', quotechar='\"', decimal=',')"
   ]
  },
  {
   "cell_type": "code",
   "execution_count": 155,
   "metadata": {},
   "outputs": [],
   "source": [
    "import seaborn as sns\n"
   ]
  },
  {
   "cell_type": "code",
   "execution_count": 165,
   "metadata": {},
   "outputs": [
    {
     "data": {
      "text/plain": [
       "<AxesSubplot:xlabel='Preco'>"
      ]
     },
     "execution_count": 165,
     "metadata": {},
     "output_type": "execute_result"
    },
    {
     "data": {
      "image/png": "[encoded data removed]",
      "text/plain": [
       "<Figure size 432x288 with 1 Axes>"
      ]
     },
     "metadata": {
      "needs_background": "light"
     },
     "output_type": "display_data"
    }
   ],
   "source": [
    "sns.boxplot(x=df_fato_out['Preco'])"
   ]
  },
  {
   "cell_type": "code",
   "execution_count": 186,
   "metadata": {},
   "outputs": [
    {
     "data": {
      "text/plain": [
       "<AxesSubplot:title={'center':'Preco'}, xlabel='[distrito]'>"
      ]
     },
     "execution_count": 186,
     "metadata": {},
     "output_type": "execute_result"
    },
    {
     "data": {
      "image/png": "[encoded data removed]",
      "text/plain": [
       "<Figure size 1152x576 with 1 Axes>"
      ]
     },
     "metadata": {
      "needs_background": "light"
     },
     "output_type": "display_data"
    }
   ],
   "source": [
    "df_fato_out.boxplot(['Preco'], by=['distrito'],figsize=(16,8),rot=45)"
   ]
  },
  {
   "cell_type": "code",
   "execution_count": 210,
   "metadata": {},
   "outputs": [
    {
     "data": {
      "image/png": "[encoded data removed]",
      "text/plain": [
       "<Figure size 1152x576 with 1 Axes>"
      ]
     },
     "metadata": {
      "needs_background": "light"
     },
     "output_type": "display_data"
    }
   ],
   "source": [
    "# Media dos arrendamentos por distrito\n",
    "ax = (\n",
    "    df_fato_out\n",
    "    .groupby(['distrito'])\n",
    "    .agg(Media_Arrendamento = ('Preco','mean'))\n",
    "    .sort_values(\"Media_Arrendamento\", ascending=True)\n",
    ").plot(kind='bar', rot=45, color='pink', figsize=(16,8),legend=True)\n",
    "\n",
    "for p in ax.patches:\n",
    "    ax.annotate(str(round(p.get_height(),-1)), (p.get_x() * 1.005, p.get_height() * 1.005))"
   ]
  },
  {
   "cell_type": "code",
   "execution_count": 113,
   "metadata": {},
   "outputs": [
    {
     "data": {
      "text/plain": [
       "(1638, 1781)"
      ]
     },
     "execution_count": 113,
     "metadata": {},
     "output_type": "execute_result"
    }
   ],
   "source": []
  },
  {
   "cell_type": "code",
   "execution_count": null,
   "metadata": {},
   "outputs": [],
   "source": []
  }
 ],
 "metadata": {
  "kernelspec": {
   "display_name": "Python 3 (ipykernel)",
   "language": "python",
   "name": "python3"
  },
  "language_info": {
   "codemirror_mode": {
    "name": "ipython",
    "version": 3
   },
   "file_extension": ".py",
   "mimetype": "text/x-python",
   "name": "python",
   "nbconvert_exporter": "python",
   "pygments_lexer": "ipython3",
   "version": "3.10.10"
  }
 },
 "nbformat": 4,
 "nbformat_minor": 4
}
